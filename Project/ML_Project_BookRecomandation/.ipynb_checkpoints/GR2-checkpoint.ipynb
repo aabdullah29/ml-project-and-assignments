{
 "cells": [
  {
   "cell_type": "markdown",
   "id": "8471d39e",
   "metadata": {},
   "source": [
    "<center><h1 style=\"font-size:80px; color:#A78B02;\">﷽</h1></center>\n",
    "<center><h3 style=\"font-size:20px; color:MidnightBlue;\">\"SEMESTER PROJECT OF\" </h3> </center>\n",
    "<center><h1 style=\"font-size:50px; color:MidnightBlue;\">\" MACHINE LEARNING \"</h1></center>\n",
    "\n",
    "<center><h3 style=\"font-size:30px; color:MidnightBlue;\">\"GROUP MEMBERRS\"</h3></center>\n",
    "\n",
    "<table style=\" color:Green;font-size:30px; border:7px double MidnightBlue; border-collapse: collapse;border-spacing: 50px;\" >\n",
    "   <tr style=\"background-color:#f2f0fc;\">\n",
    "    <th style=\"text-align: center; color: MidnightBlue;\" >\"Sr. No.\"</th>\n",
    "    <th style=\"text-align: center; color: MidnightBlue\" >\"STUDENT NAME\"</th>\n",
    "    <th style=\"text-align: center; color: MidnightBlue\" >\"ROLL NUMBER\"</th>\n",
    "    </tr>\n",
    "  <tr style=\"background-color:#fff;\">\n",
    "    <td style=\"text-align: center;\" ><b>1.</b></td>\n",
    "    <td style=\"text-align: center;\" ><b>Muhammad Abdullah Shahid</b></td>\n",
    "    <td style=\"text-align: center;\" ><b>F2019027004</b></td>\n",
    "  </tr>\n",
    "\n",
    "  <tr style=\"background-color:#fff;\">\n",
    "    <td style=\"text-align: center;\" ><b>2.</b></td>\n",
    "    <td style=\"text-align: center;\" ><b>Muhammad Muzamil</b></td>\n",
    "    <td style=\"text-align: center;\" ><b>F2019027042</b></td>\n",
    "  </tr>\n",
    "    \n",
    "   <tr style=\"background-color:#fff;\">\n",
    "    <td style=\"text-align: center;\" ><b>3.</b></td>\n",
    "    <td style=\"text-align: center;\" ><b>Amina Ashfaq</b></td>\n",
    "    <td style=\"text-align: center;\" ><b>F2019027010</b></td>\n",
    "  </tr>\n",
    "    \n",
    "   <tr style=\"background-color:#fff;\">\n",
    "    <td style=\"text-align: center;\" ><b>4.</b></td>\n",
    "    <td style=\"text-align: center;\" ><b>Zirwa Waqar</b></td>\n",
    "    <td style=\"text-align: center;\" ><b>F2019027020</b></td>\n",
    "  </tr>\n",
    "    \n",
    "   <tr style=\"background-color:#fff;\">\n",
    "    <td style=\"text-align: center;\" ><b>5.</b></td>\n",
    "    <td style=\"text-align: center;\" ><b>Sidra Kalsoom</b></td>\n",
    "    <td style=\"text-align: center;\" ><b>F2019027037</b></td>\n",
    "  </tr>\n",
    "</table>\n",
    "\n"
   ]
  },
  {
   "cell_type": "markdown",
   "id": "4374dc88",
   "metadata": {},
   "source": [
    "<center><h3 style=\"font-size:30px; color:MidnightBlue;\">\"Importing Libraries\"</h3></center>"
   ]
  },
  {
   "cell_type": "code",
   "execution_count": 1,
   "id": "matched-boulder",
   "metadata": {},
   "outputs": [],
   "source": [
    "import re\n",
    "import os\n",
    "import glob\n",
    "import string\n",
    "import scipy\n",
    "import pickle\n",
    "import numpy as np \n",
    "import pandas as pd\n",
    "import seaborn as sns\n",
    "import matplotlib.pyplot as plt\n",
    "from tabulate import tabulate\n",
    "from sklearn.cluster import KMeans\n",
    "import sklearn.metrics.pairwise as smp\n",
    "from sklearn.preprocessing import MinMaxScaler\n",
    "from sklearn import neighbors\n",
    "from sklearn.model_selection import train_test_split\n",
    "from sklearn.preprocessing import MinMaxScaler\n",
    "from sklearn.metrics.pairwise import linear_kernel\n",
    "from sklearn.feature_extraction.text import TfidfVectorizer\n",
    "from nltk.corpus import stopwords\n",
    "from gensim.parsing.preprocessing import remove_stopwords"
   ]
  },
  {
   "cell_type": "markdown",
   "id": "acc4a3e2",
   "metadata": {},
   "source": [
    "<center><h3 style=\"font-size:30px; color:MidnightBlue;\">\"Read Data\"</h3></center>"
   ]
  },
  {
   "cell_type": "code",
   "execution_count": 2,
   "id": "2e763415",
   "metadata": {},
   "outputs": [
    {
     "data": {
      "text/html": [
       "<div>\n",
       "<style scoped>\n",
       "    .dataframe tbody tr th:only-of-type {\n",
       "        vertical-align: middle;\n",
       "    }\n",
       "\n",
       "    .dataframe tbody tr th {\n",
       "        vertical-align: top;\n",
       "    }\n",
       "\n",
       "    .dataframe thead th {\n",
       "        text-align: right;\n",
       "    }\n",
       "</style>\n",
       "<table border=\"1\" class=\"dataframe\">\n",
       "  <thead>\n",
       "    <tr style=\"text-align: right;\">\n",
       "      <th></th>\n",
       "      <th>Id</th>\n",
       "      <th>Name</th>\n",
       "      <th>RatingDist1</th>\n",
       "      <th>pagesNumber</th>\n",
       "      <th>RatingDist4</th>\n",
       "      <th>RatingDistTotal</th>\n",
       "      <th>PublishMonth</th>\n",
       "      <th>PublishDay</th>\n",
       "      <th>Publisher</th>\n",
       "      <th>CountsOfReview</th>\n",
       "      <th>PublishYear</th>\n",
       "      <th>Language</th>\n",
       "      <th>Authors</th>\n",
       "      <th>Rating</th>\n",
       "      <th>RatingDist2</th>\n",
       "      <th>RatingDist5</th>\n",
       "      <th>ISBN</th>\n",
       "      <th>RatingDist3</th>\n",
       "      <th>Description</th>\n",
       "      <th>Count of text reviews</th>\n",
       "    </tr>\n",
       "  </thead>\n",
       "  <tbody>\n",
       "    <tr>\n",
       "      <th>0</th>\n",
       "      <td>1</td>\n",
       "      <td>Harry Potter and the Half-Blood Prince (Harry ...</td>\n",
       "      <td>1:9896</td>\n",
       "      <td>652</td>\n",
       "      <td>4:556485</td>\n",
       "      <td>total:2298124</td>\n",
       "      <td>16</td>\n",
       "      <td>9</td>\n",
       "      <td>Scholastic Inc.</td>\n",
       "      <td>28062</td>\n",
       "      <td>2006</td>\n",
       "      <td>eng</td>\n",
       "      <td>J.K. Rowling</td>\n",
       "      <td>4.57</td>\n",
       "      <td>2:25317</td>\n",
       "      <td>5:1546466</td>\n",
       "      <td>NaN</td>\n",
       "      <td>3:159960</td>\n",
       "      <td>NaN</td>\n",
       "      <td>NaN</td>\n",
       "    </tr>\n",
       "    <tr>\n",
       "      <th>1</th>\n",
       "      <td>2</td>\n",
       "      <td>Harry Potter and the Order of the Phoenix (Har...</td>\n",
       "      <td>1:12455</td>\n",
       "      <td>870</td>\n",
       "      <td>4:604283</td>\n",
       "      <td>total:2358637</td>\n",
       "      <td>1</td>\n",
       "      <td>9</td>\n",
       "      <td>Scholastic Inc.</td>\n",
       "      <td>29770</td>\n",
       "      <td>2004</td>\n",
       "      <td>eng</td>\n",
       "      <td>J.K. Rowling</td>\n",
       "      <td>4.50</td>\n",
       "      <td>2:37005</td>\n",
       "      <td>5:1493113</td>\n",
       "      <td>0439358078</td>\n",
       "      <td>3:211781</td>\n",
       "      <td>NaN</td>\n",
       "      <td>NaN</td>\n",
       "    </tr>\n",
       "    <tr>\n",
       "      <th>2</th>\n",
       "      <td>3</td>\n",
       "      <td>Harry Potter and the Sorcerer's Stone (Harry P...</td>\n",
       "      <td>1:108202</td>\n",
       "      <td>309</td>\n",
       "      <td>4:1513191</td>\n",
       "      <td>total:6587388</td>\n",
       "      <td>1</td>\n",
       "      <td>11</td>\n",
       "      <td>Scholastic Inc</td>\n",
       "      <td>75911</td>\n",
       "      <td>2003</td>\n",
       "      <td>eng</td>\n",
       "      <td>J.K. Rowling</td>\n",
       "      <td>4.47</td>\n",
       "      <td>2:130310</td>\n",
       "      <td>5:4268227</td>\n",
       "      <td>NaN</td>\n",
       "      <td>3:567458</td>\n",
       "      <td>NaN</td>\n",
       "      <td>NaN</td>\n",
       "    </tr>\n",
       "    <tr>\n",
       "      <th>3</th>\n",
       "      <td>4</td>\n",
       "      <td>Harry Potter and the Chamber of Secrets (Harry...</td>\n",
       "      <td>1:11896</td>\n",
       "      <td>352</td>\n",
       "      <td>4:706082</td>\n",
       "      <td>total:2560657</td>\n",
       "      <td>1</td>\n",
       "      <td>11</td>\n",
       "      <td>Scholastic</td>\n",
       "      <td>244</td>\n",
       "      <td>2003</td>\n",
       "      <td>eng</td>\n",
       "      <td>J.K. Rowling</td>\n",
       "      <td>4.42</td>\n",
       "      <td>2:49353</td>\n",
       "      <td>5:1504505</td>\n",
       "      <td>0439554896</td>\n",
       "      <td>3:288821</td>\n",
       "      <td>NaN</td>\n",
       "      <td>NaN</td>\n",
       "    </tr>\n",
       "    <tr>\n",
       "      <th>4</th>\n",
       "      <td>5</td>\n",
       "      <td>Harry Potter and the Prisoner of Azkaban (Harr...</td>\n",
       "      <td>1:10128</td>\n",
       "      <td>435</td>\n",
       "      <td>4:630534</td>\n",
       "      <td>total:2610317</td>\n",
       "      <td>1</td>\n",
       "      <td>5</td>\n",
       "      <td>Scholastic Inc.</td>\n",
       "      <td>37093</td>\n",
       "      <td>2004</td>\n",
       "      <td>eng</td>\n",
       "      <td>J.K. Rowling</td>\n",
       "      <td>4.57</td>\n",
       "      <td>2:24849</td>\n",
       "      <td>5:1749958</td>\n",
       "      <td>043965548X</td>\n",
       "      <td>3:194848</td>\n",
       "      <td>NaN</td>\n",
       "      <td>NaN</td>\n",
       "    </tr>\n",
       "  </tbody>\n",
       "</table>\n",
       "</div>"
      ],
      "text/plain": [
       "   Id                                               Name RatingDist1  \\\n",
       "0   1  Harry Potter and the Half-Blood Prince (Harry ...      1:9896   \n",
       "1   2  Harry Potter and the Order of the Phoenix (Har...     1:12455   \n",
       "2   3  Harry Potter and the Sorcerer's Stone (Harry P...    1:108202   \n",
       "3   4  Harry Potter and the Chamber of Secrets (Harry...     1:11896   \n",
       "4   5  Harry Potter and the Prisoner of Azkaban (Harr...     1:10128   \n",
       "\n",
       "   pagesNumber RatingDist4 RatingDistTotal  PublishMonth  PublishDay  \\\n",
       "0          652    4:556485   total:2298124            16           9   \n",
       "1          870    4:604283   total:2358637             1           9   \n",
       "2          309   4:1513191   total:6587388             1          11   \n",
       "3          352    4:706082   total:2560657             1          11   \n",
       "4          435    4:630534   total:2610317             1           5   \n",
       "\n",
       "         Publisher  CountsOfReview  PublishYear Language       Authors  \\\n",
       "0  Scholastic Inc.           28062         2006      eng  J.K. Rowling   \n",
       "1  Scholastic Inc.           29770         2004      eng  J.K. Rowling   \n",
       "2   Scholastic Inc           75911         2003      eng  J.K. Rowling   \n",
       "3       Scholastic             244         2003      eng  J.K. Rowling   \n",
       "4  Scholastic Inc.           37093         2004      eng  J.K. Rowling   \n",
       "\n",
       "   Rating RatingDist2 RatingDist5        ISBN RatingDist3 Description  \\\n",
       "0    4.57     2:25317   5:1546466         NaN    3:159960         NaN   \n",
       "1    4.50     2:37005   5:1493113  0439358078    3:211781         NaN   \n",
       "2    4.47    2:130310   5:4268227         NaN    3:567458         NaN   \n",
       "3    4.42     2:49353   5:1504505  0439554896    3:288821         NaN   \n",
       "4    4.57     2:24849   5:1749958  043965548X    3:194848         NaN   \n",
       "\n",
       "   Count of text reviews  \n",
       "0                    NaN  \n",
       "1                    NaN  \n",
       "2                    NaN  \n",
       "3                    NaN  \n",
       "4                    NaN  "
      ]
     },
     "execution_count": 2,
     "metadata": {},
     "output_type": "execute_result"
    }
   ],
   "source": [
    "import glob\n",
    "\n",
    "books_df = pd.concat(map(pd.read_csv, glob.glob('books/*.csv')))\n",
    "books_df[['Id', 'Name', 'Publisher','PublishYear', 'Authors', 'Rating', 'CountsOfReview', 'Language', 'Description']]\n",
    "books_df.head()"
   ]
  },
  {
   "cell_type": "code",
   "execution_count": 3,
   "id": "ec5a556f",
   "metadata": {},
   "outputs": [
    {
     "data": {
      "text/html": [
       "<div>\n",
       "<style scoped>\n",
       "    .dataframe tbody tr th:only-of-type {\n",
       "        vertical-align: middle;\n",
       "    }\n",
       "\n",
       "    .dataframe tbody tr th {\n",
       "        vertical-align: top;\n",
       "    }\n",
       "\n",
       "    .dataframe thead th {\n",
       "        text-align: right;\n",
       "    }\n",
       "</style>\n",
       "<table border=\"1\" class=\"dataframe\">\n",
       "  <thead>\n",
       "    <tr style=\"text-align: right;\">\n",
       "      <th></th>\n",
       "      <th>Id</th>\n",
       "      <th>Name</th>\n",
       "      <th>Publisher</th>\n",
       "      <th>PublishYear</th>\n",
       "      <th>Authors</th>\n",
       "      <th>Rating</th>\n",
       "      <th>CountsOfReview</th>\n",
       "      <th>Language</th>\n",
       "      <th>Description</th>\n",
       "    </tr>\n",
       "  </thead>\n",
       "  <tbody>\n",
       "    <tr>\n",
       "      <th>0</th>\n",
       "      <td>1</td>\n",
       "      <td>Harry Potter and the Half-Blood Prince (Harry ...</td>\n",
       "      <td>Scholastic Inc.</td>\n",
       "      <td>2006</td>\n",
       "      <td>J.K. Rowling</td>\n",
       "      <td>4.57</td>\n",
       "      <td>28062</td>\n",
       "      <td>eng</td>\n",
       "      <td>NaN</td>\n",
       "    </tr>\n",
       "    <tr>\n",
       "      <th>1</th>\n",
       "      <td>2</td>\n",
       "      <td>Harry Potter and the Order of the Phoenix (Har...</td>\n",
       "      <td>Scholastic Inc.</td>\n",
       "      <td>2004</td>\n",
       "      <td>J.K. Rowling</td>\n",
       "      <td>4.50</td>\n",
       "      <td>29770</td>\n",
       "      <td>eng</td>\n",
       "      <td>NaN</td>\n",
       "    </tr>\n",
       "    <tr>\n",
       "      <th>2</th>\n",
       "      <td>3</td>\n",
       "      <td>Harry Potter and the Sorcerer's Stone (Harry P...</td>\n",
       "      <td>Scholastic Inc</td>\n",
       "      <td>2003</td>\n",
       "      <td>J.K. Rowling</td>\n",
       "      <td>4.47</td>\n",
       "      <td>75911</td>\n",
       "      <td>eng</td>\n",
       "      <td>NaN</td>\n",
       "    </tr>\n",
       "    <tr>\n",
       "      <th>3</th>\n",
       "      <td>4</td>\n",
       "      <td>Harry Potter and the Chamber of Secrets (Harry...</td>\n",
       "      <td>Scholastic</td>\n",
       "      <td>2003</td>\n",
       "      <td>J.K. Rowling</td>\n",
       "      <td>4.42</td>\n",
       "      <td>244</td>\n",
       "      <td>eng</td>\n",
       "      <td>NaN</td>\n",
       "    </tr>\n",
       "    <tr>\n",
       "      <th>4</th>\n",
       "      <td>5</td>\n",
       "      <td>Harry Potter and the Prisoner of Azkaban (Harr...</td>\n",
       "      <td>Scholastic Inc.</td>\n",
       "      <td>2004</td>\n",
       "      <td>J.K. Rowling</td>\n",
       "      <td>4.57</td>\n",
       "      <td>37093</td>\n",
       "      <td>eng</td>\n",
       "      <td>NaN</td>\n",
       "    </tr>\n",
       "    <tr>\n",
       "      <th>...</th>\n",
       "      <td>...</td>\n",
       "      <td>...</td>\n",
       "      <td>...</td>\n",
       "      <td>...</td>\n",
       "      <td>...</td>\n",
       "      <td>...</td>\n",
       "      <td>...</td>\n",
       "      <td>...</td>\n",
       "      <td>...</td>\n",
       "    </tr>\n",
       "    <tr>\n",
       "      <th>40885</th>\n",
       "      <td>999991</td>\n",
       "      <td>Gendered Talk at Work: Constructing Gender Ide...</td>\n",
       "      <td>Wiley-Blackwell</td>\n",
       "      <td>2006</td>\n",
       "      <td>Janet  Holmes</td>\n",
       "      <td>4.28</td>\n",
       "      <td>0</td>\n",
       "      <td>NaN</td>\n",
       "      <td>&lt;i&gt;Gendered Talk at Work&lt;/i&gt; examines how wome...</td>\n",
       "    </tr>\n",
       "    <tr>\n",
       "      <th>40886</th>\n",
       "      <td>999992</td>\n",
       "      <td>Good Will Toward Men: Women Talk Candidly abou...</td>\n",
       "      <td>St. Martin's Press</td>\n",
       "      <td>1994</td>\n",
       "      <td>Jack Kammer</td>\n",
       "      <td>0.00</td>\n",
       "      <td>0</td>\n",
       "      <td>NaN</td>\n",
       "      <td>In interviews with gender issues journalist Ja...</td>\n",
       "    </tr>\n",
       "    <tr>\n",
       "      <th>40887</th>\n",
       "      <td>999993</td>\n",
       "      <td>Would You Rather . . . ?: The Outrageous Book ...</td>\n",
       "      <td>Workman Publishing Company</td>\n",
       "      <td>2001</td>\n",
       "      <td>Randy Horn</td>\n",
       "      <td>3.81</td>\n",
       "      <td>14</td>\n",
       "      <td>NaN</td>\n",
       "      <td>&lt;i&gt;Would You Rather...?&lt;/i&gt; takes the idea of ...</td>\n",
       "    </tr>\n",
       "    <tr>\n",
       "      <th>40888</th>\n",
       "      <td>999997</td>\n",
       "      <td>Addictions Treatment for Older Adults: Evaluat...</td>\n",
       "      <td>Routledge</td>\n",
       "      <td>1995</td>\n",
       "      <td>Kathryn Graham</td>\n",
       "      <td>0.00</td>\n",
       "      <td>0</td>\n",
       "      <td>NaN</td>\n",
       "      <td>Here is a detailed description of an innovativ...</td>\n",
       "    </tr>\n",
       "    <tr>\n",
       "      <th>40889</th>\n",
       "      <td>999998</td>\n",
       "      <td>Within/Without</td>\n",
       "      <td>Pilgrims Process, Inc.</td>\n",
       "      <td>2005</td>\n",
       "      <td>Kathryn T.S. Bass</td>\n",
       "      <td>5.00</td>\n",
       "      <td>0</td>\n",
       "      <td>NaN</td>\n",
       "      <td>NaN</td>\n",
       "    </tr>\n",
       "  </tbody>\n",
       "</table>\n",
       "<p>538282 rows × 9 columns</p>\n",
       "</div>"
      ],
      "text/plain": [
       "           Id                                               Name  \\\n",
       "0           1  Harry Potter and the Half-Blood Prince (Harry ...   \n",
       "1           2  Harry Potter and the Order of the Phoenix (Har...   \n",
       "2           3  Harry Potter and the Sorcerer's Stone (Harry P...   \n",
       "3           4  Harry Potter and the Chamber of Secrets (Harry...   \n",
       "4           5  Harry Potter and the Prisoner of Azkaban (Harr...   \n",
       "...       ...                                                ...   \n",
       "40885  999991  Gendered Talk at Work: Constructing Gender Ide...   \n",
       "40886  999992  Good Will Toward Men: Women Talk Candidly abou...   \n",
       "40887  999993  Would You Rather . . . ?: The Outrageous Book ...   \n",
       "40888  999997  Addictions Treatment for Older Adults: Evaluat...   \n",
       "40889  999998                                     Within/Without   \n",
       "\n",
       "                        Publisher  PublishYear            Authors  Rating  \\\n",
       "0                 Scholastic Inc.         2006       J.K. Rowling    4.57   \n",
       "1                 Scholastic Inc.         2004       J.K. Rowling    4.50   \n",
       "2                  Scholastic Inc         2003       J.K. Rowling    4.47   \n",
       "3                      Scholastic         2003       J.K. Rowling    4.42   \n",
       "4                 Scholastic Inc.         2004       J.K. Rowling    4.57   \n",
       "...                           ...          ...                ...     ...   \n",
       "40885             Wiley-Blackwell         2006      Janet  Holmes    4.28   \n",
       "40886          St. Martin's Press         1994        Jack Kammer    0.00   \n",
       "40887  Workman Publishing Company         2001         Randy Horn    3.81   \n",
       "40888                   Routledge         1995     Kathryn Graham    0.00   \n",
       "40889      Pilgrims Process, Inc.         2005  Kathryn T.S. Bass    5.00   \n",
       "\n",
       "       CountsOfReview Language  \\\n",
       "0               28062      eng   \n",
       "1               29770      eng   \n",
       "2               75911      eng   \n",
       "3                 244      eng   \n",
       "4               37093      eng   \n",
       "...               ...      ...   \n",
       "40885               0      NaN   \n",
       "40886               0      NaN   \n",
       "40887              14      NaN   \n",
       "40888               0      NaN   \n",
       "40889               0      NaN   \n",
       "\n",
       "                                             Description  \n",
       "0                                                    NaN  \n",
       "1                                                    NaN  \n",
       "2                                                    NaN  \n",
       "3                                                    NaN  \n",
       "4                                                    NaN  \n",
       "...                                                  ...  \n",
       "40885  <i>Gendered Talk at Work</i> examines how wome...  \n",
       "40886  In interviews with gender issues journalist Ja...  \n",
       "40887  <i>Would You Rather...?</i> takes the idea of ...  \n",
       "40888  Here is a detailed description of an innovativ...  \n",
       "40889                                                NaN  \n",
       "\n",
       "[538282 rows x 9 columns]"
      ]
     },
     "execution_count": 3,
     "metadata": {},
     "output_type": "execute_result"
    }
   ],
   "source": [
    "books_df[['Id', 'Name', 'Publisher','PublishYear', 'Authors', 'Rating', 'CountsOfReview', 'Language', 'Description']]"
   ]
  },
  {
   "cell_type": "markdown",
   "id": "cb221bb4",
   "metadata": {},
   "source": [
    "<center><h3 style=\"font-size:30px; color:MidnightBlue;\">\"Data Description\"</h3></center>"
   ]
  },
  {
   "cell_type": "code",
   "execution_count": 4,
   "id": "6e8033bf",
   "metadata": {},
   "outputs": [],
   "source": [
    "# books_df.info()"
   ]
  },
  {
   "cell_type": "code",
   "execution_count": 5,
   "id": "29a47335",
   "metadata": {},
   "outputs": [
    {
     "data": {
      "text/plain": [
       "Id                            0\n",
       "Name                          0\n",
       "RatingDist1                   0\n",
       "pagesNumber                   0\n",
       "RatingDist4                   0\n",
       "RatingDistTotal               0\n",
       "PublishMonth                  0\n",
       "PublishDay                    0\n",
       "Publisher                  5064\n",
       "CountsOfReview                0\n",
       "PublishYear                   0\n",
       "Language                 426046\n",
       "Authors                       0\n",
       "Rating                        0\n",
       "RatingDist2                   0\n",
       "RatingDist5                   0\n",
       "ISBN                       2114\n",
       "RatingDist3                   0\n",
       "Description              365699\n",
       "Count of text reviews    393276\n",
       "dtype: int64"
      ]
     },
     "execution_count": 5,
     "metadata": {},
     "output_type": "execute_result"
    }
   ],
   "source": [
    "books_df.isnull().sum()"
   ]
  },
  {
   "cell_type": "markdown",
   "id": "d5bb7fc8",
   "metadata": {},
   "source": [
    "<center><h3 style=\"font-size:30px; color:MidnightBlue;\">\"Data Cleaning\"</h3></center>"
   ]
  },
  {
   "cell_type": "code",
   "execution_count": 6,
   "id": "c9bf8a46",
   "metadata": {},
   "outputs": [
    {
     "name": "stdout",
     "output_type": "stream",
     "text": [
      "(538282, 20)\n",
      "(500130, 20)\n"
     ]
    }
   ],
   "source": [
    "print(books_df.shape)\n",
    "books_df = books_df.drop_duplicates([\"Name\"],  keep=\"first\")\n",
    "books_df = books_df.drop_duplicates([\"Id\"],  keep=\"first\")\n",
    "print(books_df.shape)"
   ]
  },
  {
   "cell_type": "code",
   "execution_count": 7,
   "id": "0c3ec9bf",
   "metadata": {},
   "outputs": [
    {
     "data": {
      "text/plain": [
       "(17695, 20)"
      ]
     },
     "execution_count": 7,
     "metadata": {},
     "output_type": "execute_result"
    }
   ],
   "source": [
    "books_df = books_df.dropna().reset_index(drop=True)\n",
    "books_df.shape"
   ]
  },
  {
   "cell_type": "markdown",
   "id": "c7164797",
   "metadata": {},
   "source": [
    "<center><h3 style=\"font-size:30px; color:MidnightBlue;\">\"Function For Data Cleaning\"</h3></center>"
   ]
  },
  {
   "cell_type": "code",
   "execution_count": 8,
   "id": "5407f387",
   "metadata": {},
   "outputs": [],
   "source": [
    "# Cleaning the book descriptions\n",
    "\n",
    "def clean_text(text):\n",
    "    #Remove Punctuation\n",
    "    text = text.replace('[^\\w\\s]','')\n",
    "    \n",
    "    # Remove stopWords\n",
    "    text = remove_stopwords(text)\n",
    "    \n",
    "    #Remove URLs\n",
    "    text = re.sub(r'^https?:\\/\\/.*[\\r\\n]*', '', text, flags=re.MULTILINE)\n",
    "    text = re.sub(r'https?://.*?\\\\s+', '', text, flags=re.MULTILINE)\n",
    "    pattern = re.compile('http[s]?://(?:[a-zA-Z]|[0-9]|[$-_@.&+]|[!*\\(\\),]|(?:%[0-9a-fA-F][0-9a-fA-F]))+')\n",
    "    text=pattern.sub('', text)\n",
    "    #re.sub(r'(\\s)http\\w+', r'\\1',text )\n",
    "    #Remove long words\n",
    "    longword = re.compile(r'\\W*\\b\\w{15,500}\\b')\n",
    "    text=longword.sub('', text)\n",
    "    #Remove short words\n",
    "    shortword = re.compile(r'\\W*\\b\\w{1,3}\\b')\n",
    "    text=shortword.sub('', text)\n",
    "    #remove emojis from text\n",
    "    text = text.encode('ascii', 'ignore').decode('ascii')\n",
    "\n",
    "    # lower capitalization\n",
    "    text=text.lower()\n",
    "    \n",
    "    # Remove punctuation \n",
    "    remove = string.punctuation\n",
    "    remove = remove.replace(\"@\", \"\") # don't remove hyphens\n",
    "    pattern = r\"[{}]\".format(remove) # create the pattern\n",
    "    text=re.sub(pattern, \"\", text) \n",
    "    \n",
    "    #Remove username\n",
    "    text=re.sub(r'@.*?(?=\\s)', '', text)\n",
    "    #Remove digits\n",
    "    text = ''.join([i for i in text if not i.isdigit()])\n",
    "\n",
    "    return text\n",
    "\n"
   ]
  },
  {
   "cell_type": "code",
   "execution_count": 9,
   "id": "037ed159",
   "metadata": {},
   "outputs": [],
   "source": [
    "books_df['Description'] = books_df['Description'].map( lambda x: clean_text(x))"
   ]
  },
  {
   "cell_type": "code",
   "execution_count": 10,
   "id": "e68c9e32",
   "metadata": {},
   "outputs": [],
   "source": [
    "books_df['Name'] = books_df['Name'].str.replace('#','No')"
   ]
  },
  {
   "cell_type": "code",
   "execution_count": 11,
   "id": "642f143d",
   "metadata": {},
   "outputs": [],
   "source": [
    "df = books_df.copy()"
   ]
  },
  {
   "cell_type": "markdown",
   "id": "205fbc8a",
   "metadata": {},
   "source": [
    "<center><h1 style=\"font-size:40px; color:green;\">1. Description Base Recommendation</h1></center>"
   ]
  },
  {
   "cell_type": "code",
   "execution_count": 12,
   "id": "d39e464c",
   "metadata": {},
   "outputs": [
    {
     "data": {
      "text/plain": [
       "0                             america respected cookware retailer world largest book publisher renowned cooking authorities combine talents guide modern cooks\n",
       "1         stories remarkable women bravely challenges risk space travel struggle succeed worldalmost heaven tells stories remarkable women bravely challeng...\n",
       "2         follow harry days hogwarts school witchcraft wizardry adventures hermione confrontations rival draco malfoy dreaded professor snape from thrillin...\n",
       "3         collection lyric verse narrative verse letters john keats this volume contains selection sonnets short poems versions hyperion extensive sections...\n",
       "4                                                                                                      this second title trilogy looking work vittorio storaro\n",
       "                                                                                 ...                                                                          \n",
       "17690                                                                                                                                               elmer busy\n",
       "17691                                                                                                             elmer loves different types weather favorite\n",
       "17692                                                                                                            although elmer friends different thing common\n",
       "17693    betty jean liftonlost found bible adoptees understand adoption experience explores inner world adopted person breaks ground traces adopted child l...\n",
       "17694     black community rape violence women sexual harassment legacy slavery racismgender talk johnnetta betsch cole beverlysheftall argue powerfully def...\n",
       "Name: Description, Length: 17695, dtype: object"
      ]
     },
     "execution_count": 12,
     "metadata": {},
     "output_type": "execute_result"
    }
   ],
   "source": [
    "pd.options.display.max_colwidth = 150\n",
    "books_df.Description"
   ]
  },
  {
   "cell_type": "markdown",
   "id": "0e4535b4",
   "metadata": {},
   "source": [
    "<center><h3 style=\"font-size:30px; color:MidnightBlue;\">\"Data Visulaization\"</h3></center>"
   ]
  },
  {
   "cell_type": "code",
   "execution_count": 13,
   "id": "2bf2a799",
   "metadata": {},
   "outputs": [
    {
     "data": {
      "image/png": "[encoded data removed]",
      "text/plain": [
       "<Figure size 864x576 with 1 Axes>"
      ]
     },
     "metadata": {
      "needs_background": "light"
     },
     "output_type": "display_data"
    }
   ],
   "source": [
    "# Calculating the word count for book description\n",
    "plot_df= df['Description'].apply(lambda x: len(str(x).split()))# Plotting the word count\n",
    "plot_df.plot(\n",
    "    kind='hist',\n",
    "    bins = 50,\n",
    "    figsize = (12,8),title='Word Count Distribution for book descriptions');"
   ]
  },
  {
   "cell_type": "code",
   "execution_count": 14,
   "id": "29294f4d",
   "metadata": {},
   "outputs": [
    {
     "data": {
      "image/png": "[encoded data removed]",
      "text/plain": [
       "<Figure size 720x576 with 1 Axes>"
      ]
     },
     "metadata": {
      "needs_background": "light"
     },
     "output_type": "display_data"
    }
   ],
   "source": [
    "# The distribution of top part-of-speech tags in the book descriptions\n",
    "from textblob import TextBlob\n",
    "blob = TextBlob(str(df['Description']))\n",
    "plot_df = pd.DataFrame(blob.tags, columns = ['word' , 'pos'])\n",
    "plot_df = plot_df.pos.value_counts()[:20]\n",
    "plot_df.plot(kind = 'bar', figsize=(10, 8), title = \"Top 20 Part-of-speech tagging for comments\");"
   ]
  },
  {
   "cell_type": "markdown",
   "id": "57305a76",
   "metadata": {},
   "source": [
    "<center><h3 style=\"font-size:30px; color:MidnightBlue;\">\"Convert Into Feature Vector Using TfidfVectorizer\"</h3></center>\n",
    "\n",
    "## <font color=\"green\"> 1. Unigram Feature Vector </font>"
   ]
  },
  {
   "cell_type": "code",
   "execution_count": 15,
   "id": "c8c5bc0b",
   "metadata": {},
   "outputs": [
    {
     "data": {
      "image/png": "[encoded data removed]",
      "text/plain": [
       "<Figure size 1080x504 with 1 Axes>"
      ]
     },
     "metadata": {
      "needs_background": "light"
     },
     "output_type": "display_data"
    }
   ],
   "source": [
    "# Unigram distribution for the book description\n",
    "#Converting text descriptions into vectors using TF-IDF using Bigram\n",
    "tf_unigram = TfidfVectorizer(   lowercase = False,\n",
    "                                min_df=3,  \n",
    "                                max_features=None,\n",
    "                                strip_accents='unicode', analyzer='word',token_pattern=r'\\w{1,}',\n",
    "                                ngram_range=(1, 1),\n",
    "                                stop_words = 'english')\n",
    "\n",
    "tfidf_unigram_matrix = tf_unigram.fit_transform(df['Description'])\n",
    "total_words = tfidf_unigram_matrix.sum(axis=0) \n",
    "#Finding the word frequency\n",
    "freq = [(word, total_words[0, idx]) for word, idx in tf_unigram.vocabulary_.items()]\n",
    "freq =sorted(freq, key = lambda x: x[1], reverse=True)\n",
    "#converting into dataframe \n",
    "bigram = pd.DataFrame(freq)\n",
    "bigram.rename(columns = {0:'bigram', 1: 'count'}, inplace = True) \n",
    "#Taking first 20 records\n",
    "bigram = bigram.head(20)\n",
    "\n",
    "#Plotting the bigram distribution\n",
    "bigram.plot(x ='bigram', y='count', kind = 'bar', title = \"Uniram disribution for the top 20 words in the book description\", figsize = (15,7), ); "
   ]
  },
  {
   "cell_type": "markdown",
   "id": "cd15e57a",
   "metadata": {},
   "source": [
    "## <font color=\"green\"> 2. Bigram Feature Vector </font>"
   ]
  },
  {
   "cell_type": "code",
   "execution_count": 16,
   "id": "da4cf75f",
   "metadata": {},
   "outputs": [
    {
     "data": {
      "image/png": "[encoded data removed]",
      "text/plain": [
       "<Figure size 1080x504 with 1 Axes>"
      ]
     },
     "metadata": {
      "needs_background": "light"
     },
     "output_type": "display_data"
    }
   ],
   "source": [
    "# Bigram distribution for the book description\n",
    "#Converting text descriptions into vectors using TF-IDF using Bigram\n",
    "tf_bigram = TfidfVectorizer(   lowercase = False,\n",
    "                                min_df=3,  \n",
    "                                max_features=None,\n",
    "                                strip_accents='unicode', analyzer='word',token_pattern=r'\\w{1,}',\n",
    "                                ngram_range=(1, 2),\n",
    "                                stop_words = 'english')\n",
    "\n",
    "tfidf_bigram_matrix = tf_bigram.fit_transform(df['Description'])\n",
    "total_words = tfidf_bigram_matrix.sum(axis=0) \n",
    "#Finding the word frequency\n",
    "freq = [(word, total_words[0, idx]) for word, idx in tf_bigram.vocabulary_.items()]\n",
    "freq =sorted(freq, key = lambda x: x[1], reverse=True)\n",
    "#converting into dataframe \n",
    "bigram = pd.DataFrame(freq)\n",
    "bigram.rename(columns = {0:'bigram', 1: 'count'}, inplace = True) \n",
    "#Taking first 20 records\n",
    "bigram = bigram.head(20)\n",
    "\n",
    "#Plotting the bigram distribution\n",
    "bigram.plot(x ='bigram', y='count', kind = 'bar', title = \"Bigram disribution for the top 20 words in the book description\", figsize = (15,7), ); "
   ]
  },
  {
   "cell_type": "markdown",
   "id": "05443fba",
   "metadata": {},
   "source": [
    "## <font color=\"green\"> 3. Trigram Feature Vector </font>"
   ]
  },
  {
   "cell_type": "code",
   "execution_count": 17,
   "id": "3c00ae3c",
   "metadata": {},
   "outputs": [
    {
     "data": {
      "image/png": "[encoded data removed]",
      "text/plain": [
       "<Figure size 1080x504 with 1 Axes>"
      ]
     },
     "metadata": {
      "needs_background": "light"
     },
     "output_type": "display_data"
    }
   ],
   "source": [
    "# Trigram distribution for the book description\n",
    "#Converting text descriptions into vectors using TF-IDF using Trigram\n",
    "tf_trigram = TfidfVectorizer(   lowercase = False,\n",
    "                                min_df=3,  \n",
    "                                max_features=None,\n",
    "                                strip_accents='unicode', analyzer='word',token_pattern=r'\\w{1,}',\n",
    "                                ngram_range=(1, 3),\n",
    "                                stop_words = 'english')\n",
    "\n",
    "tfidf_trigram_matrix = tf_trigram.fit_transform(df['Description'])\n",
    "total_words = tfidf_trigram_matrix.sum(axis=0) \n",
    "#Finding the word frequency\n",
    "freq = [(word, total_words[0, idx]) for word, idx in tf_trigram.vocabulary_.items()]\n",
    "freq =sorted(freq, key = lambda x: x[1], reverse=True)#converting into dataframe \n",
    "trigram = pd.DataFrame(freq)\n",
    "trigram.rename(columns = {0:'trigram', 1: 'count'}, inplace = True) \n",
    "#Taking first 20 records\n",
    "trigram = trigram.head(20)\n",
    "\n",
    "#Plotting the trigramn distribution\n",
    "trigram.plot(x ='trigram', y='count', kind = 'bar', title = \"Trigram disribution for the top 20 words in the book description\", figsize = (15,7), ); "
   ]
  },
  {
   "cell_type": "markdown",
   "id": "956ba0ac",
   "metadata": {},
   "source": [
    "<center><h3 style=\"font-size:30px; color:MidnightBlue;\">\"Function for Prediction\"</h3></center>"
   ]
  },
  {
   "cell_type": "code",
   "execution_count": 18,
   "id": "aa2b9546",
   "metadata": {},
   "outputs": [
    {
     "data": {
      "text/plain": [
       "Name\n",
       "Breakfasts & Brunches                                                                 0\n",
       "Almost Heaven: The Story of Women in Space                                            1\n",
       "Harry Potter Boxed Set (Harry Potter, No1-6)                                          2\n",
       "Poems (Everyman's Library Pocket Poets)                                               3\n",
       "Storaro: Colors (Writing With Light)                                                  4\n",
       "                                                                                  ...  \n",
       "El Dia de Elmer / Elmer's Day (Spanish- English)                                  17690\n",
       "Elmer's Weather (English–Spanish)                                                 17691\n",
       "Los Amigos de Elmer / Elmer's Friends (Spanish- English)                          17692\n",
       "Journey Of The Adopted Self: A Quest For Wholeness                                17693\n",
       "Gender Talk: The Struggle For Women's Equality in African American Communities    17694\n",
       "Length: 17695, dtype: int64"
      ]
     },
     "execution_count": 18,
     "metadata": {},
     "output_type": "execute_result"
    }
   ],
   "source": [
    "# Convert the index into series\n",
    "indices = pd.Series(df.index, index=df['Name']).drop_duplicates()\n",
    "indices"
   ]
  },
  {
   "cell_type": "code",
   "execution_count": 19,
   "id": "551f1d0d",
   "metadata": {},
   "outputs": [],
   "source": [
    "def description_base_recomendations(name, model):\n",
    "    ids = indices[name]\n",
    "    # Get the pairwsie similarity scores\n",
    "    model_scores = list(enumerate(model[ids]))    \n",
    "    # Sort the movies\n",
    "    model_scores = sorted(model_scores, key=lambda x: x[1], reverse=True)\n",
    "    # Scores of the 10 most similar movies\n",
    "    model_scores = model_scores[1:14]   \n",
    "    # Movie indices\n",
    "    recommendation_indices = [i[0] for i in model_scores]\n",
    "    print(recommendation_indices)\n",
    "    # Top 10 most similar movies\n",
    "    return df['Name'].iloc[recommendation_indices]"
   ]
  },
  {
   "cell_type": "markdown",
   "id": "206192bf",
   "metadata": {},
   "source": [
    "<center><h3 style=\"font-size:30px; color:MidnightBlue;\">\"Train & Test on Unigram\"</h3></center>"
   ]
  },
  {
   "cell_type": "markdown",
   "id": "53a4509e",
   "metadata": {},
   "source": [
    "## <font color=\"green\"> Use sigmoid_kernel on Unigram </font>"
   ]
  },
  {
   "cell_type": "code",
   "execution_count": 20,
   "id": "fc29c943",
   "metadata": {},
   "outputs": [
    {
     "name": "stdout",
     "output_type": "stream",
     "text": [
      "[0.76159794 0.76159419 0.76159416 ... 0.76159416 0.76159419 0.76159416]\n"
     ]
    }
   ],
   "source": [
    "# Unigram\n",
    "sig = smp.sigmoid_kernel(tfidf_unigram_matrix, tfidf_unigram_matrix)\n",
    "print(sig[0])"
   ]
  },
  {
   "cell_type": "code",
   "execution_count": 21,
   "id": "0d948ff4",
   "metadata": {},
   "outputs": [
    {
     "name": "stdout",
     "output_type": "stream",
     "text": [
      "[1553, 10932, 3823, 62, 6650, 9009, 15965, 11922, 8183, 16729, 211, 4964, 11662]\n"
     ]
    },
    {
     "data": {
      "text/plain": [
       "1553                                                                  A French Chef Cooks at Home\n",
       "10932                                            Cooking in a Can: More Campfire Recipes for Kids\n",
       "3823                                                          The Complete Cooking Light Cookbook\n",
       "62                                                                   Market Microstructure Theory\n",
       "6650                                                                       Gigolos Get Lonely Too\n",
       "9009                                                                         Settlement Cook Book\n",
       "15965                                   You Eat What You Are: People, Culture and Food Traditions\n",
       "11922                       Eula Mae's Cajun Kitchen: Cooking Through the Seasons on Avery Island\n",
       "8183                                                                 The Book of Japanese Cooking\n",
       "16729                                        The Greatest Dishes!: Around the World in 80 Recipes\n",
       "211                                                                      Amo, Amas, Amat and More\n",
       "4964     Playing With the Enemy: A Baseball Prodigy, a World at War, and a Field of Broken Dreams\n",
       "11662                                                                               Inside Havana\n",
       "Name: Name, dtype: object"
      ]
     },
     "execution_count": 21,
     "metadata": {},
     "output_type": "execute_result"
    }
   ],
   "source": [
    "description_base_recomendations('Breakfasts & Brunches', sig)"
   ]
  },
  {
   "cell_type": "markdown",
   "id": "d61a0cb7",
   "metadata": {},
   "source": [
    "## <font color=\"green\"> Use linear_kernel on Unigram </font>"
   ]
  },
  {
   "cell_type": "code",
   "execution_count": 22,
   "id": "c6a09a69",
   "metadata": {},
   "outputs": [
    {
     "name": "stdout",
     "output_type": "stream",
     "text": [
      "[1.         0.00861066 0.         ... 0.         0.00807202 0.        ]\n"
     ]
    }
   ],
   "source": [
    "# Unigram\n",
    "lk = linear_kernel(tfidf_unigram_matrix, tfidf_unigram_matrix)\n",
    "print(lk[0])"
   ]
  },
  {
   "cell_type": "code",
   "execution_count": 23,
   "id": "d245dc73",
   "metadata": {},
   "outputs": [
    {
     "name": "stdout",
     "output_type": "stream",
     "text": [
      "[1553, 10932, 3823, 62, 6650, 9009, 15965, 11922, 8183, 16729, 211, 4964, 11662]\n"
     ]
    },
    {
     "data": {
      "text/plain": [
       "1553                                                                  A French Chef Cooks at Home\n",
       "10932                                            Cooking in a Can: More Campfire Recipes for Kids\n",
       "3823                                                          The Complete Cooking Light Cookbook\n",
       "62                                                                   Market Microstructure Theory\n",
       "6650                                                                       Gigolos Get Lonely Too\n",
       "9009                                                                         Settlement Cook Book\n",
       "15965                                   You Eat What You Are: People, Culture and Food Traditions\n",
       "11922                       Eula Mae's Cajun Kitchen: Cooking Through the Seasons on Avery Island\n",
       "8183                                                                 The Book of Japanese Cooking\n",
       "16729                                        The Greatest Dishes!: Around the World in 80 Recipes\n",
       "211                                                                      Amo, Amas, Amat and More\n",
       "4964     Playing With the Enemy: A Baseball Prodigy, a World at War, and a Field of Broken Dreams\n",
       "11662                                                                               Inside Havana\n",
       "Name: Name, dtype: object"
      ]
     },
     "execution_count": 23,
     "metadata": {},
     "output_type": "execute_result"
    }
   ],
   "source": [
    "description_base_recomendations('Breakfasts & Brunches', lk)"
   ]
  },
  {
   "cell_type": "markdown",
   "id": "51a84dd6",
   "metadata": {},
   "source": [
    "<center><h3 style=\"font-size:30px; color:MidnightBlue;\">\"Train & Test on Bigram\"</h3></center>"
   ]
  },
  {
   "cell_type": "markdown",
   "id": "4efab88b",
   "metadata": {},
   "source": [
    "## <font color=\"green\"> Use sigmoid_kernel on Bigram </font>"
   ]
  },
  {
   "cell_type": "code",
   "execution_count": 24,
   "id": "2c62e0b0",
   "metadata": {},
   "outputs": [
    {
     "name": "stdout",
     "output_type": "stream",
     "text": [
      "[0.76159464 0.76159416 0.76159416 ... 0.76159416 0.76159416 0.76159416]\n"
     ]
    }
   ],
   "source": [
    "# Bigram\n",
    "sig = smp.sigmoid_kernel(tfidf_bigram_matrix, tfidf_bigram_matrix)\n",
    "print(sig[0])"
   ]
  },
  {
   "cell_type": "code",
   "execution_count": 25,
   "id": "f8c9b2af",
   "metadata": {},
   "outputs": [
    {
     "name": "stdout",
     "output_type": "stream",
     "text": [
      "[4467, 15567, 9581, 6744, 6742, 10545, 15579, 6844, 12174, 2193, 9702, 3542, 11140]\n"
     ]
    },
    {
     "data": {
      "text/plain": [
       "4467                                                                                          Actual Size\n",
       "15567                                                                          The Last Days (Peeps, No2)\n",
       "9581                                                        Brussels Griffon (Comprehensive Owners Guide)\n",
       "6744                                                       Simon and Schuster Crossword Puzzle Book No248\n",
       "6742                                                       Simon and Schuster Crossword Puzzle Book No243\n",
       "10545                         Historic Sears, Roebuck and Co. Catalog Plant (Images of America: Illinois)\n",
       "15579                             A New Republic: A History of the United States in the Twentieth Century\n",
       "6844                                                                        The Philharmonic Gets Dressed\n",
       "12174                                                                                  Cinderella's Dress\n",
       "2193     Make Money Reading Books: How to Start and Operate Your Own Home-Based Freelance Reading Service\n",
       "9702                                              Kidnapped! (Roller Coaster Tycoon: Pick Your Path, No4)\n",
       "3542                                                           Highland Thirst (MacNachton Vampires, No4)\n",
       "11140                                                                             Explorers Of The Amazon\n",
       "Name: Name, dtype: object"
      ]
     },
     "execution_count": 25,
     "metadata": {},
     "output_type": "execute_result"
    }
   ],
   "source": [
    "description_base_recomendations('Breakfasts & Brunches', sig)"
   ]
  },
  {
   "cell_type": "markdown",
   "id": "6fbe95cc",
   "metadata": {},
   "source": [
    "## <font color=\"green\"> Use linear_kernel on Bigram </font>"
   ]
  },
  {
   "cell_type": "code",
   "execution_count": 26,
   "id": "c13eaa47",
   "metadata": {},
   "outputs": [
    {
     "name": "stdout",
     "output_type": "stream",
     "text": [
      "[1. 0. 0. ... 0. 0. 0.]\n"
     ]
    }
   ],
   "source": [
    "lk = linear_kernel(tfidf_bigram_matrix, tfidf_bigram_matrix)\n",
    "print(lk[0])"
   ]
  },
  {
   "cell_type": "code",
   "execution_count": 27,
   "id": "f8407010",
   "metadata": {},
   "outputs": [
    {
     "name": "stdout",
     "output_type": "stream",
     "text": [
      "[4467, 15567, 9581, 6744, 6742, 10545, 15579, 6844, 12174, 2193, 9702, 3542, 11140]\n"
     ]
    },
    {
     "data": {
      "text/plain": [
       "4467                                                                                          Actual Size\n",
       "15567                                                                          The Last Days (Peeps, No2)\n",
       "9581                                                        Brussels Griffon (Comprehensive Owners Guide)\n",
       "6744                                                       Simon and Schuster Crossword Puzzle Book No248\n",
       "6742                                                       Simon and Schuster Crossword Puzzle Book No243\n",
       "10545                         Historic Sears, Roebuck and Co. Catalog Plant (Images of America: Illinois)\n",
       "15579                             A New Republic: A History of the United States in the Twentieth Century\n",
       "6844                                                                        The Philharmonic Gets Dressed\n",
       "12174                                                                                  Cinderella's Dress\n",
       "2193     Make Money Reading Books: How to Start and Operate Your Own Home-Based Freelance Reading Service\n",
       "9702                                              Kidnapped! (Roller Coaster Tycoon: Pick Your Path, No4)\n",
       "3542                                                           Highland Thirst (MacNachton Vampires, No4)\n",
       "11140                                                                             Explorers Of The Amazon\n",
       "Name: Name, dtype: object"
      ]
     },
     "execution_count": 27,
     "metadata": {},
     "output_type": "execute_result"
    }
   ],
   "source": [
    "description_base_recomendations('Breakfasts & Brunches', lk)"
   ]
  },
  {
   "cell_type": "markdown",
   "id": "62c0e5c5",
   "metadata": {},
   "source": [
    "<center><h3 style=\"font-size:30px; color:MidnightBlue;\">\"Train & Test on Trigram\"</h3></center>"
   ]
  },
  {
   "cell_type": "markdown",
   "id": "285d88a7",
   "metadata": {},
   "source": [
    "## <font color=\"green\"> Use sigmoid_kernel on Trigram </font>"
   ]
  },
  {
   "cell_type": "code",
   "execution_count": 28,
   "id": "571d580b",
   "metadata": {},
   "outputs": [
    {
     "name": "stdout",
     "output_type": "stream",
     "text": [
      "[0.76159437 0.76159416 0.76159416 ... 0.76159416 0.76159416 0.76159416]\n"
     ]
    }
   ],
   "source": [
    "# Trigram\n",
    "sig = smp.sigmoid_kernel(tfidf_trigram_matrix, tfidf_trigram_matrix)\n",
    "print(sig[0])"
   ]
  },
  {
   "cell_type": "code",
   "execution_count": 29,
   "id": "7a7ce073",
   "metadata": {},
   "outputs": [
    {
     "name": "stdout",
     "output_type": "stream",
     "text": [
      "[10932, 1553, 4964, 11662, 15567, 3823, 4467, 9581, 10982, 8491, 6844, 11922, 16729]\n"
     ]
    },
    {
     "data": {
      "text/plain": [
       "10932                                            Cooking in a Can: More Campfire Recipes for Kids\n",
       "1553                                                                  A French Chef Cooks at Home\n",
       "4964     Playing With the Enemy: A Baseball Prodigy, a World at War, and a Field of Broken Dreams\n",
       "11662                                                                               Inside Havana\n",
       "15567                                                                  The Last Days (Peeps, No2)\n",
       "3823                                                          The Complete Cooking Light Cookbook\n",
       "4467                                                                                  Actual Size\n",
       "9581                                                Brussels Griffon (Comprehensive Owners Guide)\n",
       "10982                                                 Jeannette (Images of America: Pennsylvania)\n",
       "8491                                        The Power Elite and the State (Sociology & Economics)\n",
       "6844                                                                The Philharmonic Gets Dressed\n",
       "11922                       Eula Mae's Cajun Kitchen: Cooking Through the Seasons on Avery Island\n",
       "16729                                        The Greatest Dishes!: Around the World in 80 Recipes\n",
       "Name: Name, dtype: object"
      ]
     },
     "execution_count": 29,
     "metadata": {},
     "output_type": "execute_result"
    }
   ],
   "source": [
    "description_base_recomendations('Breakfasts & Brunches', sig)"
   ]
  },
  {
   "cell_type": "markdown",
   "id": "3057b42c",
   "metadata": {},
   "source": [
    "## <font color=\"green\"> Use linear_kernel on Trigram </font>"
   ]
  },
  {
   "cell_type": "code",
   "execution_count": 30,
   "id": "ffb64b1f",
   "metadata": {},
   "outputs": [
    {
     "name": "stdout",
     "output_type": "stream",
     "text": [
      "[1. 0. 0. ... 0. 0. 0.]\n"
     ]
    }
   ],
   "source": [
    "lk = linear_kernel(tfidf_bigram_matrix, tfidf_bigram_matrix)\n",
    "print(lk[0])"
   ]
  },
  {
   "cell_type": "code",
   "execution_count": 31,
   "id": "bea8b99a",
   "metadata": {},
   "outputs": [
    {
     "name": "stdout",
     "output_type": "stream",
     "text": [
      "[4467, 15567, 9581, 6744, 6742, 10545, 15579, 6844, 12174, 2193, 9702, 3542, 11140]\n"
     ]
    },
    {
     "data": {
      "text/plain": [
       "4467                                                                                          Actual Size\n",
       "15567                                                                          The Last Days (Peeps, No2)\n",
       "9581                                                        Brussels Griffon (Comprehensive Owners Guide)\n",
       "6744                                                       Simon and Schuster Crossword Puzzle Book No248\n",
       "6742                                                       Simon and Schuster Crossword Puzzle Book No243\n",
       "10545                         Historic Sears, Roebuck and Co. Catalog Plant (Images of America: Illinois)\n",
       "15579                             A New Republic: A History of the United States in the Twentieth Century\n",
       "6844                                                                        The Philharmonic Gets Dressed\n",
       "12174                                                                                  Cinderella's Dress\n",
       "2193     Make Money Reading Books: How to Start and Operate Your Own Home-Based Freelance Reading Service\n",
       "9702                                              Kidnapped! (Roller Coaster Tycoon: Pick Your Path, No4)\n",
       "3542                                                           Highland Thirst (MacNachton Vampires, No4)\n",
       "11140                                                                             Explorers Of The Amazon\n",
       "Name: Name, dtype: object"
      ]
     },
     "execution_count": 31,
     "metadata": {},
     "output_type": "execute_result"
    }
   ],
   "source": [
    "description_base_recomendations('Breakfasts & Brunches', lk)"
   ]
  },
  {
   "cell_type": "markdown",
   "id": "5342442d",
   "metadata": {},
   "source": [
    "<center><h1 style=\"font-size:40px; color:green;\">2. Rating and Review Base Recommendation</h1></center>"
   ]
  },
  {
   "cell_type": "code",
   "execution_count": 32,
   "id": "1145c0d8",
   "metadata": {},
   "outputs": [
    {
     "data": {
      "text/html": [
       "<div>\n",
       "<style scoped>\n",
       "    .dataframe tbody tr th:only-of-type {\n",
       "        vertical-align: middle;\n",
       "    }\n",
       "\n",
       "    .dataframe tbody tr th {\n",
       "        vertical-align: top;\n",
       "    }\n",
       "\n",
       "    .dataframe thead th {\n",
       "        text-align: right;\n",
       "    }\n",
       "</style>\n",
       "<table border=\"1\" class=\"dataframe\">\n",
       "  <thead>\n",
       "    <tr style=\"text-align: right;\">\n",
       "      <th></th>\n",
       "      <th>Name</th>\n",
       "      <th>Rating</th>\n",
       "      <th>CountsOfReview</th>\n",
       "    </tr>\n",
       "  </thead>\n",
       "  <tbody>\n",
       "    <tr>\n",
       "      <th>0</th>\n",
       "      <td>Breakfasts &amp; Brunches</td>\n",
       "      <td>3.88</td>\n",
       "      <td>0</td>\n",
       "    </tr>\n",
       "    <tr>\n",
       "      <th>1</th>\n",
       "      <td>Almost Heaven: The Story of Women in Space</td>\n",
       "      <td>4.00</td>\n",
       "      <td>0</td>\n",
       "    </tr>\n",
       "    <tr>\n",
       "      <th>2</th>\n",
       "      <td>Harry Potter Boxed Set (Harry Potter, No1-6)</td>\n",
       "      <td>4.73</td>\n",
       "      <td>1</td>\n",
       "    </tr>\n",
       "    <tr>\n",
       "      <th>3</th>\n",
       "      <td>Poems (Everyman's Library Pocket Poets)</td>\n",
       "      <td>4.32</td>\n",
       "      <td>2</td>\n",
       "    </tr>\n",
       "    <tr>\n",
       "      <th>4</th>\n",
       "      <td>Storaro: Colors (Writing With Light)</td>\n",
       "      <td>5.00</td>\n",
       "      <td>0</td>\n",
       "    </tr>\n",
       "    <tr>\n",
       "      <th>...</th>\n",
       "      <td>...</td>\n",
       "      <td>...</td>\n",
       "      <td>...</td>\n",
       "    </tr>\n",
       "    <tr>\n",
       "      <th>17690</th>\n",
       "      <td>El Dia de Elmer / Elmer's Day (Spanish- English)</td>\n",
       "      <td>3.82</td>\n",
       "      <td>0</td>\n",
       "    </tr>\n",
       "    <tr>\n",
       "      <th>17691</th>\n",
       "      <td>Elmer's Weather (English–Spanish)</td>\n",
       "      <td>3.74</td>\n",
       "      <td>1</td>\n",
       "    </tr>\n",
       "    <tr>\n",
       "      <th>17692</th>\n",
       "      <td>Los Amigos de Elmer / Elmer's Friends (Spanish- English)</td>\n",
       "      <td>3.78</td>\n",
       "      <td>0</td>\n",
       "    </tr>\n",
       "    <tr>\n",
       "      <th>17693</th>\n",
       "      <td>Journey Of The Adopted Self: A Quest For Wholeness</td>\n",
       "      <td>4.15</td>\n",
       "      <td>10</td>\n",
       "    </tr>\n",
       "    <tr>\n",
       "      <th>17694</th>\n",
       "      <td>Gender Talk: The Struggle For Women's Equality in African American Communities</td>\n",
       "      <td>4.03</td>\n",
       "      <td>2</td>\n",
       "    </tr>\n",
       "  </tbody>\n",
       "</table>\n",
       "<p>17695 rows × 3 columns</p>\n",
       "</div>"
      ],
      "text/plain": [
       "                                                                                 Name  \\\n",
       "0                                                               Breakfasts & Brunches   \n",
       "1                                          Almost Heaven: The Story of Women in Space   \n",
       "2                                        Harry Potter Boxed Set (Harry Potter, No1-6)   \n",
       "3                                             Poems (Everyman's Library Pocket Poets)   \n",
       "4                                                Storaro: Colors (Writing With Light)   \n",
       "...                                                                               ...   \n",
       "17690                                El Dia de Elmer / Elmer's Day (Spanish- English)   \n",
       "17691                                               Elmer's Weather (English–Spanish)   \n",
       "17692                        Los Amigos de Elmer / Elmer's Friends (Spanish- English)   \n",
       "17693                              Journey Of The Adopted Self: A Quest For Wholeness   \n",
       "17694  Gender Talk: The Struggle For Women's Equality in African American Communities   \n",
       "\n",
       "       Rating  CountsOfReview  \n",
       "0        3.88               0  \n",
       "1        4.00               0  \n",
       "2        4.73               1  \n",
       "3        4.32               2  \n",
       "4        5.00               0  \n",
       "...       ...             ...  \n",
       "17690    3.82               0  \n",
       "17691    3.74               1  \n",
       "17692    3.78               0  \n",
       "17693    4.15              10  \n",
       "17694    4.03               2  \n",
       "\n",
       "[17695 rows x 3 columns]"
      ]
     },
     "execution_count": 32,
     "metadata": {},
     "output_type": "execute_result"
    }
   ],
   "source": [
    "pd.options.display.max_colwidth = 150\n",
    "books_df[['Name', 'Rating', 'CountsOfReview']]"
   ]
  },
  {
   "cell_type": "code",
   "execution_count": 33,
   "id": "27578cee",
   "metadata": {},
   "outputs": [
    {
     "data": {
      "image/png": "[encoded data removed]",
      "text/plain": [
       "<Figure size 720x576 with 1 Axes>"
      ]
     },
     "metadata": {
      "needs_background": "light"
     },
     "output_type": "display_data"
    }
   ],
   "source": [
    "df = books_df.copy()\n",
    "\n",
    "plot_df = df['Rating'].value_counts().head(20)\n",
    "title=\"Rating\"\n",
    "fig = plt.figure(figsize=(10,8))\n",
    "bar_plot = sns.barplot(x = plot_df, y=plot_df.index)\n",
    "for item in bar_plot.get_xticklabels():\n",
    "    item.set_rotation(90)\n",
    "plt.title(title)\n",
    "plt.show()"
   ]
  },
  {
   "cell_type": "code",
   "execution_count": 34,
   "id": "8d285cd9",
   "metadata": {},
   "outputs": [
    {
     "data": {
      "text/plain": [
       "<seaborn.axisgrid.FacetGrid at 0x28712c67ca0>"
      ]
     },
     "execution_count": 34,
     "metadata": {},
     "output_type": "execute_result"
    },
    {
     "data": {
      "image/png": "[encoded data removed]",
      "text/plain": [
       "<Figure size 504x504 with 1 Axes>"
      ]
     },
     "metadata": {
      "needs_background": "light"
     },
     "output_type": "display_data"
    }
   ],
   "source": [
    "ax = sns.relplot(data=df, x=\"Rating\", y=\"CountsOfReview\", color = 'red', sizes=(100, 200), height=7, marker='o')\n",
    "plt.title(\"Relation between Rating and CountsOfReview\",fontsize = 15)\n",
    "ax.set_axis_labels(\"Rating\", \"CountsOfReview\")"
   ]
  },
  {
   "cell_type": "markdown",
   "id": "79f8543f",
   "metadata": {},
   "source": [
    "<center><h3 style=\"font-size:30px; color:MidnightBlue;\">\"Bining\"</h3></center>"
   ]
  },
  {
   "cell_type": "code",
   "execution_count": 35,
   "id": "064943e4",
   "metadata": {},
   "outputs": [
    {
     "data": {
      "text/plain": [
       "0        3.88\n",
       "1        4.00\n",
       "2        4.73\n",
       "3        4.32\n",
       "4        5.00\n",
       "         ... \n",
       "17690    3.82\n",
       "17691    3.74\n",
       "17692    3.78\n",
       "17693    4.15\n",
       "17694    4.03\n",
       "Name: Rating, Length: 17695, dtype: float64"
      ]
     },
     "execution_count": 35,
     "metadata": {},
     "output_type": "execute_result"
    }
   ],
   "source": [
    "df.Rating"
   ]
  },
  {
   "cell_type": "code",
   "execution_count": 36,
   "id": "53c99600",
   "metadata": {},
   "outputs": [],
   "source": [
    "df = books_df.copy()\n",
    "df.loc[(df.Rating >= 0) & (df.Rating <= 1), 'rating_between'] = \"between 0 and 1\"\n",
    "df.loc[(df.Rating > 1) & (df.Rating <= 2), 'rating_between'] = \"between 1 and 2\"\n",
    "df.loc[(df.Rating > 2) & (df.Rating <= 3), 'rating_between'] = \"between 2 and 3\"\n",
    "df.loc[(df.Rating > 3) & (df.Rating <= 4), 'rating_between'] = \"between 3 and 4\"\n",
    "df.loc[(df.Rating > 4) & (df.Rating <= 5), 'rating_between'] = \"between 4 and 5\""
   ]
  },
  {
   "cell_type": "code",
   "execution_count": 37,
   "id": "69166483",
   "metadata": {},
   "outputs": [],
   "source": [
    "rating_dummies = pd.get_dummies(df['rating_between'])\n",
    "\n",
    "features_df = pd.concat([rating_dummies, \n",
    "                      df['Rating'], \n",
    "                      df['CountsOfReview']], axis=1)"
   ]
  },
  {
   "cell_type": "markdown",
   "id": "c612db05",
   "metadata": {},
   "source": [
    "<center><h3 style=\"font-size:30px; color:MidnightBlue;\">\"Convert into Feature Vector using KNeighbors\"</h3></center>"
   ]
  },
  {
   "cell_type": "code",
   "execution_count": 38,
   "id": "261e3ff4",
   "metadata": {},
   "outputs": [
    {
     "data": {
      "text/plain": [
       "array([[0.00000000e+00, 0.00000000e+00, 0.00000000e+00, ...,\n",
       "        0.00000000e+00, 7.76000000e-01, 0.00000000e+00],\n",
       "       [0.00000000e+00, 0.00000000e+00, 0.00000000e+00, ...,\n",
       "        0.00000000e+00, 8.00000000e-01, 0.00000000e+00],\n",
       "       [0.00000000e+00, 0.00000000e+00, 0.00000000e+00, ...,\n",
       "        1.00000000e+00, 9.46000000e-01, 6.16865092e-05],\n",
       "       ...,\n",
       "       [0.00000000e+00, 0.00000000e+00, 0.00000000e+00, ...,\n",
       "        0.00000000e+00, 7.56000000e-01, 0.00000000e+00],\n",
       "       [0.00000000e+00, 0.00000000e+00, 0.00000000e+00, ...,\n",
       "        1.00000000e+00, 8.30000000e-01, 6.16865092e-04],\n",
       "       [0.00000000e+00, 0.00000000e+00, 0.00000000e+00, ...,\n",
       "        1.00000000e+00, 8.06000000e-01, 1.23373018e-04]])"
      ]
     },
     "execution_count": 38,
     "metadata": {},
     "output_type": "execute_result"
    }
   ],
   "source": [
    "min_max_scaler = MinMaxScaler()\n",
    "features_kn = min_max_scaler.fit_transform(features_df)\n",
    "features_kn"
   ]
  },
  {
   "cell_type": "markdown",
   "id": "a098204f",
   "metadata": {},
   "source": [
    "<center><h3 style=\"font-size:30px; color:MidnightBlue;\">\"Use NearestNeighbors\"</h3></center>"
   ]
  },
  {
   "cell_type": "code",
   "execution_count": 39,
   "id": "5fede8c9",
   "metadata": {},
   "outputs": [
    {
     "data": {
      "text/plain": [
       "array([[ 1598,  2328,  1700,  1683,     0,  2757],\n",
       "       [ 1049,   367,  1082,  1126,  1046,    46],\n",
       "       [    2,  2937,  7592, 17012,  4208,  7132],\n",
       "       ...,\n",
       "       [ 3222,  5412,   215,   913,  2203,  2344],\n",
       "       [17693,  8565,  7429,  6725,  1573,   963],\n",
       "       [  849,  4676,  2815, 17694,  2149,  4992]], dtype=int64)"
      ]
     },
     "execution_count": 39,
     "metadata": {},
     "output_type": "execute_result"
    }
   ],
   "source": [
    "nnb = neighbors.NearestNeighbors(n_neighbors=6, algorithm='ball_tree')\n",
    "nnb.fit(features_kn)\n",
    "dist, bookIdList = nnb.kneighbors(features_kn)\n",
    "bookIdList"
   ]
  },
  {
   "cell_type": "markdown",
   "id": "a89c127e",
   "metadata": {},
   "source": [
    "<center><h3 style=\"font-size:30px; color:MidnightBlue;\">\"Function for Recomandation\"</h3></center>"
   ]
  },
  {
   "cell_type": "code",
   "execution_count": 40,
   "id": "39826a36",
   "metadata": {},
   "outputs": [],
   "source": [
    "def rating_and_overview_base_recomendations(name):\n",
    "    book_list_name = []\n",
    "    bookId = df[df['Name'] == name].index\n",
    "    bookId = bookId[0]\n",
    "    for newid in bookIdList[bookId]:\n",
    "        book_list_name.append(df.loc[newid].Name)\n",
    "    return book_list_name"
   ]
  },
  {
   "cell_type": "code",
   "execution_count": 41,
   "id": "bc223aa2",
   "metadata": {},
   "outputs": [
    {
     "data": {
      "text/plain": [
       "[\"Apology of Socrates/Crito/Extracts from Phaedo/Symposium/Xenophon's Memorabilia\",\n",
       " 'Best of Singapore (Lonely Planet Best Of)',\n",
       " 'Introduction to Aesthetics',\n",
       " 'Take Two (All That Glitters, No2)',\n",
       " 'Breakfasts & Brunches',\n",
       " 'Psalms 51-100']"
      ]
     },
     "execution_count": 41,
     "metadata": {},
     "output_type": "execute_result"
    }
   ],
   "source": [
    "rating_and_overview_base_recomendations('Breakfasts & Brunches')"
   ]
  },
  {
   "cell_type": "markdown",
   "id": "8c9f8225",
   "metadata": {},
   "source": [
    "<center><h1 style=\"font-size:35px; color:green;\">3. Authors And Publisher Base Recommendation</h1></center>"
   ]
  },
  {
   "cell_type": "code",
   "execution_count": 43,
   "id": "0b15c327",
   "metadata": {},
   "outputs": [
    {
     "data": {
      "text/html": [
       "<div>\n",
       "<style scoped>\n",
       "    .dataframe tbody tr th:only-of-type {\n",
       "        vertical-align: middle;\n",
       "    }\n",
       "\n",
       "    .dataframe tbody tr th {\n",
       "        vertical-align: top;\n",
       "    }\n",
       "\n",
       "    .dataframe thead th {\n",
       "        text-align: right;\n",
       "    }\n",
       "</style>\n",
       "<table border=\"1\" class=\"dataframe\">\n",
       "  <thead>\n",
       "    <tr style=\"text-align: right;\">\n",
       "      <th></th>\n",
       "      <th>Name</th>\n",
       "      <th>Authors</th>\n",
       "      <th>Publisher</th>\n",
       "    </tr>\n",
       "  </thead>\n",
       "  <tbody>\n",
       "    <tr>\n",
       "      <th>0</th>\n",
       "      <td>Breakfasts &amp; Brunches</td>\n",
       "      <td>Time-Life Books</td>\n",
       "      <td>Time Life Medical</td>\n",
       "    </tr>\n",
       "    <tr>\n",
       "      <th>1</th>\n",
       "      <td>Almost Heaven: The Story of Women in Space</td>\n",
       "      <td>Bettyann Holtzmann Kevles</td>\n",
       "      <td>MIT Press</td>\n",
       "    </tr>\n",
       "    <tr>\n",
       "      <th>2</th>\n",
       "      <td>Harry Potter Boxed Set (Harry Potter, No1-6)</td>\n",
       "      <td>J.K. Rowling</td>\n",
       "      <td>Bloomsbury Publishing, PLC</td>\n",
       "    </tr>\n",
       "    <tr>\n",
       "      <th>3</th>\n",
       "      <td>Poems (Everyman's Library Pocket Poets)</td>\n",
       "      <td>John Keats</td>\n",
       "      <td>Everyman</td>\n",
       "    </tr>\n",
       "    <tr>\n",
       "      <th>4</th>\n",
       "      <td>Storaro: Colors (Writing With Light)</td>\n",
       "      <td>Vittorio Storaro</td>\n",
       "      <td>Electa</td>\n",
       "    </tr>\n",
       "    <tr>\n",
       "      <th>...</th>\n",
       "      <td>...</td>\n",
       "      <td>...</td>\n",
       "      <td>...</td>\n",
       "    </tr>\n",
       "    <tr>\n",
       "      <th>17690</th>\n",
       "      <td>El Dia de Elmer / Elmer's Day (Spanish- English)</td>\n",
       "      <td>David McKee</td>\n",
       "      <td>Milet Publishing</td>\n",
       "    </tr>\n",
       "    <tr>\n",
       "      <th>17691</th>\n",
       "      <td>Elmer's Weather (English–Spanish)</td>\n",
       "      <td>David McKee</td>\n",
       "      <td>Milet Publishing</td>\n",
       "    </tr>\n",
       "    <tr>\n",
       "      <th>17692</th>\n",
       "      <td>Los Amigos de Elmer / Elmer's Friends (Spanish- English)</td>\n",
       "      <td>David McKee</td>\n",
       "      <td>Milet Publishing</td>\n",
       "    </tr>\n",
       "    <tr>\n",
       "      <th>17693</th>\n",
       "      <td>Journey Of The Adopted Self: A Quest For Wholeness</td>\n",
       "      <td>Betty Jean Lifton</td>\n",
       "      <td>Basic Books</td>\n",
       "    </tr>\n",
       "    <tr>\n",
       "      <th>17694</th>\n",
       "      <td>Gender Talk: The Struggle For Women's Equality in African American Communities</td>\n",
       "      <td>Johnnetta Betsch Cole</td>\n",
       "      <td>One World/Ballantine</td>\n",
       "    </tr>\n",
       "  </tbody>\n",
       "</table>\n",
       "<p>17695 rows × 3 columns</p>\n",
       "</div>"
      ],
      "text/plain": [
       "                                                                                 Name  \\\n",
       "0                                                               Breakfasts & Brunches   \n",
       "1                                          Almost Heaven: The Story of Women in Space   \n",
       "2                                        Harry Potter Boxed Set (Harry Potter, No1-6)   \n",
       "3                                             Poems (Everyman's Library Pocket Poets)   \n",
       "4                                                Storaro: Colors (Writing With Light)   \n",
       "...                                                                               ...   \n",
       "17690                                El Dia de Elmer / Elmer's Day (Spanish- English)   \n",
       "17691                                               Elmer's Weather (English–Spanish)   \n",
       "17692                        Los Amigos de Elmer / Elmer's Friends (Spanish- English)   \n",
       "17693                              Journey Of The Adopted Self: A Quest For Wholeness   \n",
       "17694  Gender Talk: The Struggle For Women's Equality in African American Communities   \n",
       "\n",
       "                         Authors                   Publisher  \n",
       "0                Time-Life Books           Time Life Medical  \n",
       "1      Bettyann Holtzmann Kevles                   MIT Press  \n",
       "2                   J.K. Rowling  Bloomsbury Publishing, PLC  \n",
       "3                     John Keats                    Everyman  \n",
       "4               Vittorio Storaro                      Electa  \n",
       "...                          ...                         ...  \n",
       "17690                David McKee            Milet Publishing  \n",
       "17691                David McKee            Milet Publishing  \n",
       "17692                David McKee            Milet Publishing  \n",
       "17693          Betty Jean Lifton                 Basic Books  \n",
       "17694      Johnnetta Betsch Cole        One World/Ballantine  \n",
       "\n",
       "[17695 rows x 3 columns]"
      ]
     },
     "execution_count": 43,
     "metadata": {},
     "output_type": "execute_result"
    }
   ],
   "source": [
    "pd.options.display.max_colwidth = 150\n",
    "books_df[['Name', 'Authors', 'Publisher']]"
   ]
  },
  {
   "cell_type": "code",
   "execution_count": null,
   "id": "2ed2ee17",
   "metadata": {},
   "outputs": [],
   "source": []
  },
  {
   "cell_type": "code",
   "execution_count": 44,
   "id": "d6243a1d",
   "metadata": {},
   "outputs": [
    {
     "data": {
      "image/png": "[encoded data removed]",
      "text/plain": [
       "<Figure size 720x576 with 1 Axes>"
      ]
     },
     "metadata": {
      "needs_background": "light"
     },
     "output_type": "display_data"
    }
   ],
   "source": [
    "df = books_df.copy()\n",
    "\n",
    "plot_df = df['Authors'].value_counts().head(20)\n",
    "title=\"Authors\"\n",
    "fig = plt.figure(figsize=(10,8))\n",
    "bar_plot = sns.barplot(x = plot_df, y=plot_df.index)\n",
    "for item in bar_plot.get_xticklabels():\n",
    "    item.set_rotation(90)\n",
    "plt.title(title)\n",
    "plt.show()"
   ]
  },
  {
   "cell_type": "code",
   "execution_count": 45,
   "id": "14f48c60",
   "metadata": {},
   "outputs": [
    {
     "data": {
      "image/png": "[encoded data removed]",
      "text/plain": [
       "<Figure size 720x576 with 1 Axes>"
      ]
     },
     "metadata": {
      "needs_background": "light"
     },
     "output_type": "display_data"
    }
   ],
   "source": [
    "plot_df = df['Publisher'].value_counts().head(20)\n",
    "title=\"Publisher\"\n",
    "fig = plt.figure(figsize=(10,8))\n",
    "bar_plot = sns.barplot(x = plot_df, y = plot_df.index)\n",
    "for item in bar_plot.get_xticklabels():\n",
    "    item.set_rotation(90)\n",
    "plt.title(title)\n",
    "plt.show()"
   ]
  },
  {
   "cell_type": "code",
   "execution_count": 53,
   "id": "d20e4c3f",
   "metadata": {},
   "outputs": [],
   "source": [
    "df['Authors-Publisher'] = df['Authors'] + df['Publisher']"
   ]
  },
  {
   "cell_type": "markdown",
   "id": "dee6c67b",
   "metadata": {},
   "source": [
    "<center><h3 style=\"font-size:30px; color:MidnightBlue;\">\"Convert Into Feature Vector Using TfidfVectorizer\"</h3></center>"
   ]
  },
  {
   "cell_type": "code",
   "execution_count": 54,
   "id": "320a06a6",
   "metadata": {},
   "outputs": [
    {
     "data": {
      "image/png": "[encoded data removed]",
      "text/plain": [
       "<Figure size 1080x504 with 1 Axes>"
      ]
     },
     "metadata": {
      "needs_background": "light"
     },
     "output_type": "display_data"
    }
   ],
   "source": [
    "# Trigram distribution for the book description\n",
    "#Converting text descriptions into vectors using TF-IDF using Trigram\n",
    "tf_trigram_for_AP = TfidfVectorizer(   lowercase = False,\n",
    "                                min_df=3,  \n",
    "                                max_features=None,\n",
    "                                strip_accents='unicode', analyzer='char',token_pattern=r'\\c{1,}',\n",
    "                                ngram_range=(1, 3),\n",
    "                                stop_words = 'english')\n",
    "\n",
    "tfidf_trigram_matrix = tf_trigram_for_AP.fit_transform(df['Authors-Publisher'] )\n",
    "total_words = tfidf_trigram_matrix.sum(axis=0) \n",
    "#Finding the word frequency\n",
    "freq = [(word, total_words[0, idx]) for word, idx in tf_trigram_for_AP.vocabulary_.items()]\n",
    "freq =sorted(freq, key = lambda x: x[1], reverse=True)#converting into dataframe \n",
    "trigram = pd.DataFrame(freq)\n",
    "trigram.rename(columns = {0:'trigram', 1: 'count'}, inplace = True) \n",
    "#Taking first 20 records\n",
    "trigram = trigram.head(20)\n",
    "\n",
    "#Plotting the trigramn distribution\n",
    "trigram.plot(x ='trigram', y='count', kind = 'bar', title = \"Trigram disribution for the top 20 words in the book description\", figsize = (15,7), ); "
   ]
  },
  {
   "cell_type": "markdown",
   "id": "981c0cad",
   "metadata": {},
   "source": [
    "<center><h3 style=\"font-size:30px; color:MidnightBlue;\">\"Use linear_kernel\"</h3></center>"
   ]
  },
  {
   "cell_type": "code",
   "execution_count": 57,
   "id": "8dcc1c5b",
   "metadata": {},
   "outputs": [
    {
     "name": "stdout",
     "output_type": "stream",
     "text": [
      "[1.         0.00861066 0.         ... 0.         0.00807202 0.        ]\n"
     ]
    }
   ],
   "source": [
    "lk_AP = linear_kernel(tfidf_unigram_matrix, tfidf_unigram_matrix)\n",
    "print(lk_AP[0])"
   ]
  },
  {
   "cell_type": "markdown",
   "id": "6c7d6e18",
   "metadata": {},
   "source": [
    "<center><h3 style=\"font-size:30px; color:MidnightBlue;\">\"Function for Recomandation\"</h3></center>"
   ]
  },
  {
   "cell_type": "code",
   "execution_count": 58,
   "id": "866707d7",
   "metadata": {},
   "outputs": [],
   "source": [
    "def author_and_publisher_base_recomendations(name, model = lk_AP):\n",
    "    ids = indices[name]\n",
    "    # Get the pairwsie similarity scores\n",
    "    model_scores = list(enumerate(model[ids]))    \n",
    "    # Sort the movies\n",
    "    model_scores = sorted(model_scores, key=lambda x: x[1], reverse=True)\n",
    "    # Scores of the 10 most similar movies\n",
    "    model_scores = model_scores[1:14]   \n",
    "    # Movie indices\n",
    "    recommendation_indices = [i[0] for i in model_scores]\n",
    "    print(recommendation_indices)\n",
    "    # Top 10 most similar movies\n",
    "    return df['Name'].iloc[recommendation_indices]"
   ]
  },
  {
   "cell_type": "code",
   "execution_count": 59,
   "id": "3c2c65ab",
   "metadata": {},
   "outputs": [
    {
     "name": "stdout",
     "output_type": "stream",
     "text": [
      "[1553, 10932, 3823, 62, 6650, 9009, 15965, 11922, 8183, 16729, 211, 4964, 11662]\n"
     ]
    },
    {
     "data": {
      "text/plain": [
       "1553                                                                  A French Chef Cooks at Home\n",
       "10932                                            Cooking in a Can: More Campfire Recipes for Kids\n",
       "3823                                                          The Complete Cooking Light Cookbook\n",
       "62                                                                   Market Microstructure Theory\n",
       "6650                                                                       Gigolos Get Lonely Too\n",
       "9009                                                                         Settlement Cook Book\n",
       "15965                                   You Eat What You Are: People, Culture and Food Traditions\n",
       "11922                       Eula Mae's Cajun Kitchen: Cooking Through the Seasons on Avery Island\n",
       "8183                                                                 The Book of Japanese Cooking\n",
       "16729                                        The Greatest Dishes!: Around the World in 80 Recipes\n",
       "211                                                                      Amo, Amas, Amat and More\n",
       "4964     Playing With the Enemy: A Baseball Prodigy, a World at War, and a Field of Broken Dreams\n",
       "11662                                                                               Inside Havana\n",
       "Name: Name, dtype: object"
      ]
     },
     "execution_count": 59,
     "metadata": {},
     "output_type": "execute_result"
    }
   ],
   "source": [
    "author_and_publisher_base_recomendations('Breakfasts & Brunches')"
   ]
  },
  {
   "cell_type": "markdown",
   "id": "71cb3f38",
   "metadata": {},
   "source": [
    "<center><h1 style=\"font-size:50px; color:green;\">Implementation</h1></center>"
   ]
  },
  {
   "cell_type": "code",
   "execution_count": 61,
   "id": "9cc14ed4",
   "metadata": {},
   "outputs": [
    {
     "name": "stdout",
     "output_type": "stream",
     "text": [
      " * Serving Flask app \"__main__\" (lazy loading)\n",
      " * Environment: production\n",
      "   WARNING: This is a development server. Do not use it in a production deployment.\n",
      "   Use a production WSGI server instead.\n",
      " * Debug mode: off\n"
     ]
    },
    {
     "name": "stderr",
     "output_type": "stream",
     "text": [
      " * Running on http://127.0.0.1:5000/ (Press CTRL+C to quit)\n",
      "127.0.0.1 - - [07/Jun/2021 18:02:43] \"\u001b[33mGET / HTTP/1.1\u001b[0m\" 404 -\n"
     ]
    },
    {
     "name": "stdout",
     "output_type": "stream",
     "text": [
      " * Running on http://cd07b3f3721d.ngrok.io\n",
      " * Traffic stats available on http://127.0.0.1:4040\n"
     ]
    },
    {
     "name": "stderr",
     "output_type": "stream",
     "text": [
      "127.0.0.1 - - [07/Jun/2021 18:02:58] \"\u001b[37mGET /3/Breakfasts%20&%20Brunches HTTP/1.1\u001b[0m\" 200 -\n"
     ]
    },
    {
     "name": "stdout",
     "output_type": "stream",
     "text": [
      "[1553, 10932, 3823, 62, 6650, 9009, 15965, 11922, 8183, 16729, 211, 4964, 11662]\n"
     ]
    }
   ],
   "source": [
    "# !pip install flask-ngrok\n",
    "\n",
    "from flask_ngrok import run_with_ngrok\n",
    "from flask import Flask,jsonify\n",
    "app =Flask(__name__)\n",
    "run_with_ngrok(app) #starts ngrok when the app is running\n",
    "@app.route(\"/<int:fid>/<title>\")\n",
    "def home(fid, title):\n",
    "    recomendations_list = []\n",
    "    if (fid == 1):\n",
    "        recomendations_list = description_base_recomendations(str(title), sig)\n",
    "    if (fid == 2):\n",
    "        recomendations_list = rating_and_overview_base_recomendations(str(title))\n",
    "    if (fid == 3):\n",
    "        recomendations_list = author_and_publisher_base_recomendations(str(title))\n",
    "    ste=''\n",
    "    for v in recomendations_list:\n",
    "        ste+=v+' @ '\n",
    "    return jsonify(ste)\n",
    "app.run()"
   ]
  },
  {
   "cell_type": "code",
   "execution_count": null,
   "id": "b055bc95",
   "metadata": {},
   "outputs": [],
   "source": []
  }
 ],
 "metadata": {
  "kernelspec": {
   "display_name": "Python 3",
   "language": "python",
   "name": "python3"
  },
  "language_info": {
   "codemirror_mode": {
    "name": "ipython",
    "version": 3
   },
   "file_extension": ".py",
   "mimetype": "text/x-python",
   "name": "python",
   "nbconvert_exporter": "python",
   "pygments_lexer": "ipython3",
   "version": "3.8.5"
  },
  "toc": {
   "base_numbering": 1,
   "nav_menu": {},
   "number_sections": true,
   "sideBar": true,
   "skip_h1_title": false,
   "title_cell": "Table of Contents",
   "title_sidebar": "Contents",
   "toc_cell": false,
   "toc_position": {},
   "toc_section_display": true,
   "toc_window_display": false
  }
 },
 "nbformat": 4,
 "nbformat_minor": 5
}
