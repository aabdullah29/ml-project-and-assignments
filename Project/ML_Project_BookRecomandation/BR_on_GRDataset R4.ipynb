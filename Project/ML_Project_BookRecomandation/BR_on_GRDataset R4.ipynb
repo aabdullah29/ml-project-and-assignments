{
 "cells": [
  {
   "cell_type": "markdown",
   "id": "8471d39e",
   "metadata": {},
   "source": [
    "<center><h1 style=\"font-size:80px; color:#A78B02;\">﷽</h1></center>\n",
    "<center><h1 style=\"font-size:45px; color:green;\">\" BOOK RECOMMENDATION SYSTEM\"</h1></center>\n",
    "<center><h3 style=\"font-size:20px; color:MidnightBlue;\">\"SEMESTER PROJECT OF\" </h3> </center>\n",
    "<center><h1 style=\"font-size:50px; color:MidnightBlue;\">\" MACHINE LEARNING \"</h1></center>\n",
    "<center><h3 style=\"font-size:30px; color:MidnightBlue;\">\"GROUP MEMBERRS\"</h3></center>\n",
    "\n",
    "<table style=\" color:Green;font-size:30px; border:7px double MidnightBlue;border-collapse:collapse;border-spacing: 50px;\">\n",
    "   <tr style=\"background-color:#f2f0fc;\">\n",
    "    <th style=\"text-align: center; color: MidnightBlue;\" >\"Sr. No.\"</th>\n",
    "    <th style=\"text-align: center; color: MidnightBlue\" >\"STUDENT NAME\"</th>\n",
    "    <th style=\"text-align: center; color: MidnightBlue\" >\"ROLL NUMBER\"</th>\n",
    "    </tr>\n",
    "  <tr style=\"background-color:#fff;\">\n",
    "    <td style=\"text-align: center;\" ><b>1.</b></td>\n",
    "    <td style=\"text-align: center;\" ><b>Muhammad Abdullah Shahid</b></td>\n",
    "    <td style=\"text-align: center;\" ><b>F2019027004</b></td>\n",
    "  </tr>\n",
    "\n",
    "  <tr style=\"background-color:#fff;\">\n",
    "    <td style=\"text-align: center;\" ><b>2.</b></td>\n",
    "    <td style=\"text-align: center;\" ><b>Muhammad Muzamil</b></td>\n",
    "    <td style=\"text-align: center;\" ><b>F2019027042</b></td>\n",
    "  </tr>\n",
    "    \n",
    "   <tr style=\"background-color:#fff;\">\n",
    "    <td style=\"text-align: center;\" ><b>3.</b></td>\n",
    "    <td style=\"text-align: center;\" ><b>Amina Ashfaq</b></td>\n",
    "    <td style=\"text-align: center;\" ><b>F2019027010</b></td>\n",
    "  </tr>\n",
    "    \n",
    "   <tr style=\"background-color:#fff;\">\n",
    "    <td style=\"text-align: center;\" ><b>4.</b></td>\n",
    "    <td style=\"text-align: center;\" ><b>Zirwa Waqar</b></td>\n",
    "    <td style=\"text-align: center;\" ><b>F2019027020</b></td>\n",
    "  </tr>\n",
    "    \n",
    "   <tr style=\"background-color:#fff;\">\n",
    "    <td style=\"text-align: center;\" ><b>5.</b></td>\n",
    "    <td style=\"text-align: center;\" ><b>Sidra Kalsoom</b></td>\n",
    "    <td style=\"text-align: center;\" ><b>F2019027037</b></td>\n",
    "  </tr>\n",
    "</table>"
   ]
  },
  {
   "cell_type": "markdown",
   "id": "4374dc88",
   "metadata": {},
   "source": [
    "<center><h3 style=\"font-size:30px; color:MidnightBlue;\">\"Importing Libraries\"</h3></center>"
   ]
  },
  {
   "cell_type": "code",
   "execution_count": 1,
   "id": "matched-boulder",
   "metadata": {},
   "outputs": [],
   "source": [
    "import re\n",
    "import os\n",
    "import glob\n",
    "import string\n",
    "import pickle\n",
    "import numpy as np \n",
    "import pandas as pd\n",
    "import seaborn as sns\n",
    "import matplotlib.pyplot as plt\n",
    "from tabulate import tabulate\n",
    "from sklearn.cluster import KMeans\n",
    "import sklearn.metrics.pairwise as smp\n",
    "from sklearn import neighbors\n",
    "from sklearn.preprocessing import MinMaxScaler\n",
    "from sklearn.metrics.pairwise import linear_kernel\n",
    "from sklearn.feature_extraction.text import TfidfVectorizer\n",
    "from nltk.corpus import stopwords\n",
    "from gensim.parsing.preprocessing import remove_stopwords"
   ]
  },
  {
   "cell_type": "markdown",
   "id": "acc4a3e2",
   "metadata": {},
   "source": [
    "<center><h3 style=\"font-size:30px; color:MidnightBlue;\">\"Read Data\"</h3></center>"
   ]
  },
  {
   "cell_type": "code",
   "execution_count": 2,
   "id": "2e763415",
   "metadata": {},
   "outputs": [
    {
     "data": {
      "text/html": [
       "<div>\n",
       "<style scoped>\n",
       "    .dataframe tbody tr th:only-of-type {\n",
       "        vertical-align: middle;\n",
       "    }\n",
       "\n",
       "    .dataframe tbody tr th {\n",
       "        vertical-align: top;\n",
       "    }\n",
       "\n",
       "    .dataframe thead th {\n",
       "        text-align: right;\n",
       "    }\n",
       "</style>\n",
       "<table border=\"1\" class=\"dataframe\">\n",
       "  <thead>\n",
       "    <tr style=\"text-align: right;\">\n",
       "      <th></th>\n",
       "      <th>Id</th>\n",
       "      <th>Name</th>\n",
       "      <th>Publisher</th>\n",
       "      <th>PublishYear</th>\n",
       "      <th>Authors</th>\n",
       "      <th>Rating</th>\n",
       "      <th>CountsOfReview</th>\n",
       "      <th>Language</th>\n",
       "      <th>Description</th>\n",
       "    </tr>\n",
       "  </thead>\n",
       "  <tbody>\n",
       "    <tr>\n",
       "      <th>0</th>\n",
       "      <td>1</td>\n",
       "      <td>Harry Potter and the Half-Blood Prince (Harry ...</td>\n",
       "      <td>Scholastic Inc.</td>\n",
       "      <td>2006</td>\n",
       "      <td>J.K. Rowling</td>\n",
       "      <td>4.57</td>\n",
       "      <td>28062</td>\n",
       "      <td>eng</td>\n",
       "      <td>NaN</td>\n",
       "    </tr>\n",
       "    <tr>\n",
       "      <th>1</th>\n",
       "      <td>2</td>\n",
       "      <td>Harry Potter and the Order of the Phoenix (Har...</td>\n",
       "      <td>Scholastic Inc.</td>\n",
       "      <td>2004</td>\n",
       "      <td>J.K. Rowling</td>\n",
       "      <td>4.50</td>\n",
       "      <td>29770</td>\n",
       "      <td>eng</td>\n",
       "      <td>NaN</td>\n",
       "    </tr>\n",
       "    <tr>\n",
       "      <th>2</th>\n",
       "      <td>3</td>\n",
       "      <td>Harry Potter and the Sorcerer's Stone (Harry P...</td>\n",
       "      <td>Scholastic Inc</td>\n",
       "      <td>2003</td>\n",
       "      <td>J.K. Rowling</td>\n",
       "      <td>4.47</td>\n",
       "      <td>75911</td>\n",
       "      <td>eng</td>\n",
       "      <td>NaN</td>\n",
       "    </tr>\n",
       "    <tr>\n",
       "      <th>3</th>\n",
       "      <td>4</td>\n",
       "      <td>Harry Potter and the Chamber of Secrets (Harry...</td>\n",
       "      <td>Scholastic</td>\n",
       "      <td>2003</td>\n",
       "      <td>J.K. Rowling</td>\n",
       "      <td>4.42</td>\n",
       "      <td>244</td>\n",
       "      <td>eng</td>\n",
       "      <td>NaN</td>\n",
       "    </tr>\n",
       "    <tr>\n",
       "      <th>4</th>\n",
       "      <td>5</td>\n",
       "      <td>Harry Potter and the Prisoner of Azkaban (Harr...</td>\n",
       "      <td>Scholastic Inc.</td>\n",
       "      <td>2004</td>\n",
       "      <td>J.K. Rowling</td>\n",
       "      <td>4.57</td>\n",
       "      <td>37093</td>\n",
       "      <td>eng</td>\n",
       "      <td>NaN</td>\n",
       "    </tr>\n",
       "  </tbody>\n",
       "</table>\n",
       "</div>"
      ],
      "text/plain": [
       "   Id                                               Name        Publisher  \\\n",
       "0   1  Harry Potter and the Half-Blood Prince (Harry ...  Scholastic Inc.   \n",
       "1   2  Harry Potter and the Order of the Phoenix (Har...  Scholastic Inc.   \n",
       "2   3  Harry Potter and the Sorcerer's Stone (Harry P...   Scholastic Inc   \n",
       "3   4  Harry Potter and the Chamber of Secrets (Harry...       Scholastic   \n",
       "4   5  Harry Potter and the Prisoner of Azkaban (Harr...  Scholastic Inc.   \n",
       "\n",
       "   PublishYear       Authors  Rating  CountsOfReview Language Description  \n",
       "0         2006  J.K. Rowling    4.57           28062      eng         NaN  \n",
       "1         2004  J.K. Rowling    4.50           29770      eng         NaN  \n",
       "2         2003  J.K. Rowling    4.47           75911      eng         NaN  \n",
       "3         2003  J.K. Rowling    4.42             244      eng         NaN  \n",
       "4         2004  J.K. Rowling    4.57           37093      eng         NaN  "
      ]
     },
     "execution_count": 2,
     "metadata": {},
     "output_type": "execute_result"
    }
   ],
   "source": [
    "books_df = pd.concat(map(pd.read_csv, glob.glob('books/*.csv')))\n",
    "books_df = books_df[['Id', 'Name', 'Publisher','PublishYear', 'Authors', 'Rating', 'CountsOfReview', 'Language', 'Description']]\n",
    "books_df.head()"
   ]
  },
  {
   "cell_type": "markdown",
   "id": "cb221bb4",
   "metadata": {},
   "source": [
    "<center><h3 style=\"font-size:30px; color:MidnightBlue;\">\"Describe Data\"</h3></center>"
   ]
  },
  {
   "cell_type": "code",
   "execution_count": 3,
   "id": "d6221e30",
   "metadata": {},
   "outputs": [
    {
     "data": {
      "text/plain": [
       "(538282, 9)"
      ]
     },
     "execution_count": 3,
     "metadata": {},
     "output_type": "execute_result"
    }
   ],
   "source": [
    "books_df.shape"
   ]
  },
  {
   "cell_type": "code",
   "execution_count": 4,
   "id": "6e8033bf",
   "metadata": {},
   "outputs": [
    {
     "name": "stdout",
     "output_type": "stream",
     "text": [
      "<class 'pandas.core.frame.DataFrame'>\n",
      "Int64Index: 538282 entries, 0 to 40889\n",
      "Data columns (total 9 columns):\n",
      " #   Column          Non-Null Count   Dtype  \n",
      "---  ------          --------------   -----  \n",
      " 0   Id              538282 non-null  int64  \n",
      " 1   Name            538282 non-null  object \n",
      " 2   Publisher       533218 non-null  object \n",
      " 3   PublishYear     538282 non-null  int64  \n",
      " 4   Authors         538282 non-null  object \n",
      " 5   Rating          538282 non-null  float64\n",
      " 6   CountsOfReview  538282 non-null  int64  \n",
      " 7   Language        112236 non-null  object \n",
      " 8   Description     172583 non-null  object \n",
      "dtypes: float64(1), int64(3), object(5)\n",
      "memory usage: 41.1+ MB\n"
     ]
    }
   ],
   "source": [
    "books_df.info()"
   ]
  },
  {
   "cell_type": "code",
   "execution_count": 5,
   "id": "29a47335",
   "metadata": {},
   "outputs": [
    {
     "data": {
      "text/plain": [
       "Id                     0\n",
       "Name                   0\n",
       "Publisher           5064\n",
       "PublishYear            0\n",
       "Authors                0\n",
       "Rating                 0\n",
       "CountsOfReview         0\n",
       "Language          426046\n",
       "Description       365699\n",
       "dtype: int64"
      ]
     },
     "execution_count": 5,
     "metadata": {},
     "output_type": "execute_result"
    }
   ],
   "source": [
    "books_df.isnull().sum()"
   ]
  },
  {
   "cell_type": "markdown",
   "id": "b0bf4aba",
   "metadata": {},
   "source": [
    "<center><h1 style=\"font-size:40px; color:green;\">1. Description Base Recommendation</h1></center>"
   ]
  },
  {
   "cell_type": "code",
   "execution_count": 6,
   "id": "2fba463b",
   "metadata": {},
   "outputs": [
    {
     "data": {
      "text/plain": [
       "0                                                                                                                                                          NaN\n",
       "1                                                                                                                                                          NaN\n",
       "2                                                                                                                                                          NaN\n",
       "3                                                                                                                                                          NaN\n",
       "4                                                                                                                                                          NaN\n",
       "                                                                                 ...                                                                          \n",
       "40885    <i>Gendered Talk at Work</i> examines how women and men negotiate their gender identities as well as their professional roles in everyday workplac...\n",
       "40886    In interviews with gender issues journalist Jack Kammer, 22 accomplished female therapists, scholars, authors, and leaders--including a former pre...\n",
       "40887    <i>Would You Rather...?</i> takes the idea of parlor game questions to a new level of debate and lunacy. It's a chunky book of 400 questions that ...\n",
       "40888    Here is a detailed description of an innovative approach for treating elderly persons who have alcohol or drug problems. During the past few years...\n",
       "40889                                                                                                                                                      NaN\n",
       "Name: Description, Length: 538282, dtype: object"
      ]
     },
     "execution_count": 6,
     "metadata": {},
     "output_type": "execute_result"
    }
   ],
   "source": [
    "pd.options.display.max_colwidth = 150\n",
    "books_df.Description"
   ]
  },
  {
   "cell_type": "markdown",
   "id": "d5bb7fc8",
   "metadata": {},
   "source": [
    "<center><h3 style=\"font-size:30px; color:MidnightBlue;\">\"Data Cleaning\"</h3></center>"
   ]
  },
  {
   "cell_type": "code",
   "execution_count": 7,
   "id": "c9bf8a46",
   "metadata": {},
   "outputs": [
    {
     "name": "stdout",
     "output_type": "stream",
     "text": [
      "(538282, 9)\n",
      "(500130, 9)\n"
     ]
    }
   ],
   "source": [
    "print(books_df.shape)\n",
    "books_df = books_df.drop_duplicates([\"Name\"],  keep=\"first\")\n",
    "books_df = books_df.drop_duplicates([\"Id\"],  keep=\"first\")\n",
    "print(books_df.shape)"
   ]
  },
  {
   "cell_type": "code",
   "execution_count": 8,
   "id": "0c3ec9bf",
   "metadata": {},
   "outputs": [
    {
     "data": {
      "text/plain": [
       "(24933, 9)"
      ]
     },
     "execution_count": 8,
     "metadata": {},
     "output_type": "execute_result"
    }
   ],
   "source": [
    "books_df = books_df.dropna().reset_index(drop=True)\n",
    "books_df.shape"
   ]
  },
  {
   "cell_type": "markdown",
   "id": "c7164797",
   "metadata": {},
   "source": [
    "<center><h3 style=\"font-size:30px; color:MidnightBlue;\">\"Function For Data Cleaning\"</h3></center>"
   ]
  },
  {
   "cell_type": "code",
   "execution_count": 9,
   "id": "5407f387",
   "metadata": {},
   "outputs": [],
   "source": [
    "# Cleaning the book descriptions\n",
    "\n",
    "def clean_text(text):  \n",
    "    # Remove stopWords\n",
    "    text = remove_stopwords(text)    \n",
    "    # Remove URLs\n",
    "    text = re.sub(r'^https?:\\/\\/.*[\\r\\n]*', '', text, flags=re.MULTILINE)\n",
    "    text = re.sub(r'https?://.*?\\\\s+', '', text, flags=re.MULTILINE)\n",
    "    pattern = re.compile('http[s]?://(?:[a-zA-Z]|[0-9]|[$-_@.&+]|[!*\\(\\),]|(?:%[0-9a-fA-F][0-9a-fA-F]))+')\n",
    "    text=pattern.sub('', text)\n",
    "    # re.sub(r'(\\s)http\\w+', r'\\1',text )\n",
    "    # Remove long words\n",
    "    longword = re.compile(r'\\W*\\b\\w{15,500}\\b')\n",
    "    text=longword.sub('', text)\n",
    "    # Remove short words\n",
    "    shortword = re.compile(r'\\W*\\b\\w{1,3}\\b')\n",
    "    text=shortword.sub('', text)\n",
    "    # remove emojis from text\n",
    "    text = text.encode('ascii', 'ignore').decode('ascii')\n",
    "\n",
    "    # lower capitalization\n",
    "    text=text.lower()\n",
    "    \n",
    "    # Remove punctuation \n",
    "    remove = string.punctuation\n",
    "    remove = remove.replace(\"@\", \"\")\n",
    "    pattern = r\"[{}]\".format(remove) # create the pattern\n",
    "    text=re.sub(pattern, \"\", text) \n",
    "    \n",
    "    # Remove digits\n",
    "    text = ''.join([i for i in text if not i.isdigit()])\n",
    "\n",
    "    return text\n"
   ]
  },
  {
   "cell_type": "code",
   "execution_count": 10,
   "id": "037ed159",
   "metadata": {},
   "outputs": [],
   "source": [
    "books_df['Description'] = books_df['Description'].map( lambda x: clean_text(x))"
   ]
  },
  {
   "cell_type": "code",
   "execution_count": 11,
   "id": "e68c9e32",
   "metadata": {},
   "outputs": [],
   "source": [
    "books_df['Name'] = books_df['Name'].str.replace('#','No')"
   ]
  },
  {
   "cell_type": "markdown",
   "id": "b09099e6",
   "metadata": {},
   "source": [
    "<center><h3 style=\"font-size:30px; color:MidnightBlue;\">\"Store Cleaned Dataset in CSV File\"</h3></center>"
   ]
  },
  {
   "cell_type": "code",
   "execution_count": 12,
   "id": "642f143d",
   "metadata": {},
   "outputs": [],
   "source": [
    "books_df.to_csv ('books_cleaned_df.csv', index = False, header=True)\n",
    "df = books_df.copy()"
   ]
  },
  {
   "cell_type": "code",
   "execution_count": 13,
   "id": "d39e464c",
   "metadata": {},
   "outputs": [
    {
     "data": {
      "text/plain": [
       "0        lessons learned coordinating publicity tour italy famous adorablechef kind assignment juliet relished carlo franconi gather crowd smiling watching...\n",
       "1         collection horror stories variety english american authors contents teigkane corpse traditional fortunes martin waldeck walter scott soul cages t...\n",
       "2        originally published  bestvolume aerial history world richard overy classic work remains profound highly origi account battles professor overy tre...\n",
       "3        here time volume story crimes committed nazi leaders trials brought judgement conot reconstructs single absorbing narrative events nuremburg offen...\n",
       "4         visionary look future freeman dyson argues technological changes fundamentally alter ethical social arrangements rapidly advancing technologiesso...\n",
       "                                                                                 ...                                                                          \n",
       "24928                                                                                                                                               elmer busy\n",
       "24929                                                                                                             elmer loves different types weather favorite\n",
       "24930                                                                                                            although elmer friends different thing common\n",
       "24931    betty jean liftonlost found bible adoptees understand adoption experience explores inner world adopted person breaks ground traces adopted child l...\n",
       "24932     black community rape violence women sexual harassment legacy slavery racismgender talk johnnetta betsch cole beverlysheftall argue powerfully def...\n",
       "Name: Description, Length: 24933, dtype: object"
      ]
     },
     "execution_count": 13,
     "metadata": {},
     "output_type": "execute_result"
    }
   ],
   "source": [
    "df.Description"
   ]
  },
  {
   "cell_type": "markdown",
   "id": "0e4535b4",
   "metadata": {},
   "source": [
    "<center><h3 style=\"font-size:30px; color:MidnightBlue;\">\"Data Visulaization\"</h3></center>"
   ]
  },
  {
   "cell_type": "code",
   "execution_count": 14,
   "id": "2bf2a799",
   "metadata": {},
   "outputs": [
    {
     "data": {
      "image/png": "[encoded data removed]",
      "text/plain": [
       "<Figure size 1152x576 with 1 Axes>"
      ]
     },
     "metadata": {
      "needs_background": "light"
     },
     "output_type": "display_data"
    }
   ],
   "source": [
    "# word count\n",
    "plot_df= df['Description'].apply(lambda x: len(str(x).split()))\n",
    "# plot histogram\n",
    "plot_df.plot( kind='hist', bins = 100, figsize = (16,8),title='Word Count');"
   ]
  },
  {
   "cell_type": "markdown",
   "id": "57305a76",
   "metadata": {},
   "source": [
    "<center><h3 style=\"font-size:30px; color:MidnightBlue;\">\"Convert Into Feature Vector Using TfidfVectorizer\"</h3></center>\n",
    "\n",
    "## <font color=\"green\"> 1. Unigram Feature Vector </font>"
   ]
  },
  {
   "cell_type": "code",
   "execution_count": 15,
   "id": "c8c5bc0b",
   "metadata": {},
   "outputs": [
    {
     "name": "stdout",
     "output_type": "stream",
     "text": [
      "Parameters of TfidfVectorizer and its values:\n",
      "\t\t TfidfVectorizer(lowercase=False, max_features=5000, stop_words='english',\n",
      "                strip_accents='unicode', token_pattern='\\\\w{1,}')\n"
     ]
    },
    {
     "data": {
      "text/html": [
       "<div>\n",
       "<style scoped>\n",
       "    .dataframe tbody tr th:only-of-type {\n",
       "        vertical-align: middle;\n",
       "    }\n",
       "\n",
       "    .dataframe tbody tr th {\n",
       "        vertical-align: top;\n",
       "    }\n",
       "\n",
       "    .dataframe thead th {\n",
       "        text-align: right;\n",
       "    }\n",
       "</style>\n",
       "<table border=\"1\" class=\"dataframe\">\n",
       "  <thead>\n",
       "    <tr style=\"text-align: right;\">\n",
       "      <th></th>\n",
       "      <th>abandon</th>\n",
       "      <th>abandoned</th>\n",
       "      <th>aber</th>\n",
       "      <th>abilities</th>\n",
       "      <th>ability</th>\n",
       "      <th>able</th>\n",
       "      <th>aboard</th>\n",
       "      <th>abraham</th>\n",
       "      <th>abroad</th>\n",
       "      <th>absolute</th>\n",
       "      <th>...</th>\n",
       "      <th>year</th>\n",
       "      <th>years</th>\n",
       "      <th>yellow</th>\n",
       "      <th>yoga</th>\n",
       "      <th>york</th>\n",
       "      <th>young</th>\n",
       "      <th>younger</th>\n",
       "      <th>youngest</th>\n",
       "      <th>youth</th>\n",
       "      <th>zeit</th>\n",
       "    </tr>\n",
       "  </thead>\n",
       "  <tbody>\n",
       "    <tr>\n",
       "      <th>0</th>\n",
       "      <td>0.0</td>\n",
       "      <td>0.0</td>\n",
       "      <td>0.0</td>\n",
       "      <td>0.0</td>\n",
       "      <td>0.0</td>\n",
       "      <td>0.0</td>\n",
       "      <td>0.0</td>\n",
       "      <td>0.0</td>\n",
       "      <td>0.0</td>\n",
       "      <td>0.0</td>\n",
       "      <td>...</td>\n",
       "      <td>0.0</td>\n",
       "      <td>0.0</td>\n",
       "      <td>0.0</td>\n",
       "      <td>0.0</td>\n",
       "      <td>0.0</td>\n",
       "      <td>0.0</td>\n",
       "      <td>0.0</td>\n",
       "      <td>0.0</td>\n",
       "      <td>0.0</td>\n",
       "      <td>0.0</td>\n",
       "    </tr>\n",
       "    <tr>\n",
       "      <th>1</th>\n",
       "      <td>0.0</td>\n",
       "      <td>0.0</td>\n",
       "      <td>0.0</td>\n",
       "      <td>0.0</td>\n",
       "      <td>0.0</td>\n",
       "      <td>0.0</td>\n",
       "      <td>0.0</td>\n",
       "      <td>0.0</td>\n",
       "      <td>0.0</td>\n",
       "      <td>0.0</td>\n",
       "      <td>...</td>\n",
       "      <td>0.0</td>\n",
       "      <td>0.0</td>\n",
       "      <td>0.0</td>\n",
       "      <td>0.0</td>\n",
       "      <td>0.0</td>\n",
       "      <td>0.0</td>\n",
       "      <td>0.0</td>\n",
       "      <td>0.0</td>\n",
       "      <td>0.0</td>\n",
       "      <td>0.0</td>\n",
       "    </tr>\n",
       "    <tr>\n",
       "      <th>2</th>\n",
       "      <td>0.0</td>\n",
       "      <td>0.0</td>\n",
       "      <td>0.0</td>\n",
       "      <td>0.0</td>\n",
       "      <td>0.0</td>\n",
       "      <td>0.0</td>\n",
       "      <td>0.0</td>\n",
       "      <td>0.0</td>\n",
       "      <td>0.0</td>\n",
       "      <td>0.0</td>\n",
       "      <td>...</td>\n",
       "      <td>0.0</td>\n",
       "      <td>0.0</td>\n",
       "      <td>0.0</td>\n",
       "      <td>0.0</td>\n",
       "      <td>0.0</td>\n",
       "      <td>0.0</td>\n",
       "      <td>0.0</td>\n",
       "      <td>0.0</td>\n",
       "      <td>0.0</td>\n",
       "      <td>0.0</td>\n",
       "    </tr>\n",
       "    <tr>\n",
       "      <th>3</th>\n",
       "      <td>0.0</td>\n",
       "      <td>0.0</td>\n",
       "      <td>0.0</td>\n",
       "      <td>0.0</td>\n",
       "      <td>0.0</td>\n",
       "      <td>0.0</td>\n",
       "      <td>0.0</td>\n",
       "      <td>0.0</td>\n",
       "      <td>0.0</td>\n",
       "      <td>0.0</td>\n",
       "      <td>...</td>\n",
       "      <td>0.0</td>\n",
       "      <td>0.0</td>\n",
       "      <td>0.0</td>\n",
       "      <td>0.0</td>\n",
       "      <td>0.0</td>\n",
       "      <td>0.0</td>\n",
       "      <td>0.0</td>\n",
       "      <td>0.0</td>\n",
       "      <td>0.0</td>\n",
       "      <td>0.0</td>\n",
       "    </tr>\n",
       "    <tr>\n",
       "      <th>4</th>\n",
       "      <td>0.0</td>\n",
       "      <td>0.0</td>\n",
       "      <td>0.0</td>\n",
       "      <td>0.0</td>\n",
       "      <td>0.0</td>\n",
       "      <td>0.0</td>\n",
       "      <td>0.0</td>\n",
       "      <td>0.0</td>\n",
       "      <td>0.0</td>\n",
       "      <td>0.0</td>\n",
       "      <td>...</td>\n",
       "      <td>0.0</td>\n",
       "      <td>0.0</td>\n",
       "      <td>0.0</td>\n",
       "      <td>0.0</td>\n",
       "      <td>0.0</td>\n",
       "      <td>0.0</td>\n",
       "      <td>0.0</td>\n",
       "      <td>0.0</td>\n",
       "      <td>0.0</td>\n",
       "      <td>0.0</td>\n",
       "    </tr>\n",
       "    <tr>\n",
       "      <th>...</th>\n",
       "      <td>...</td>\n",
       "      <td>...</td>\n",
       "      <td>...</td>\n",
       "      <td>...</td>\n",
       "      <td>...</td>\n",
       "      <td>...</td>\n",
       "      <td>...</td>\n",
       "      <td>...</td>\n",
       "      <td>...</td>\n",
       "      <td>...</td>\n",
       "      <td>...</td>\n",
       "      <td>...</td>\n",
       "      <td>...</td>\n",
       "      <td>...</td>\n",
       "      <td>...</td>\n",
       "      <td>...</td>\n",
       "      <td>...</td>\n",
       "      <td>...</td>\n",
       "      <td>...</td>\n",
       "      <td>...</td>\n",
       "      <td>...</td>\n",
       "    </tr>\n",
       "    <tr>\n",
       "      <th>24928</th>\n",
       "      <td>0.0</td>\n",
       "      <td>0.0</td>\n",
       "      <td>0.0</td>\n",
       "      <td>0.0</td>\n",
       "      <td>0.0</td>\n",
       "      <td>0.0</td>\n",
       "      <td>0.0</td>\n",
       "      <td>0.0</td>\n",
       "      <td>0.0</td>\n",
       "      <td>0.0</td>\n",
       "      <td>...</td>\n",
       "      <td>0.0</td>\n",
       "      <td>0.0</td>\n",
       "      <td>0.0</td>\n",
       "      <td>0.0</td>\n",
       "      <td>0.0</td>\n",
       "      <td>0.0</td>\n",
       "      <td>0.0</td>\n",
       "      <td>0.0</td>\n",
       "      <td>0.0</td>\n",
       "      <td>0.0</td>\n",
       "    </tr>\n",
       "    <tr>\n",
       "      <th>24929</th>\n",
       "      <td>0.0</td>\n",
       "      <td>0.0</td>\n",
       "      <td>0.0</td>\n",
       "      <td>0.0</td>\n",
       "      <td>0.0</td>\n",
       "      <td>0.0</td>\n",
       "      <td>0.0</td>\n",
       "      <td>0.0</td>\n",
       "      <td>0.0</td>\n",
       "      <td>0.0</td>\n",
       "      <td>...</td>\n",
       "      <td>0.0</td>\n",
       "      <td>0.0</td>\n",
       "      <td>0.0</td>\n",
       "      <td>0.0</td>\n",
       "      <td>0.0</td>\n",
       "      <td>0.0</td>\n",
       "      <td>0.0</td>\n",
       "      <td>0.0</td>\n",
       "      <td>0.0</td>\n",
       "      <td>0.0</td>\n",
       "    </tr>\n",
       "    <tr>\n",
       "      <th>24930</th>\n",
       "      <td>0.0</td>\n",
       "      <td>0.0</td>\n",
       "      <td>0.0</td>\n",
       "      <td>0.0</td>\n",
       "      <td>0.0</td>\n",
       "      <td>0.0</td>\n",
       "      <td>0.0</td>\n",
       "      <td>0.0</td>\n",
       "      <td>0.0</td>\n",
       "      <td>0.0</td>\n",
       "      <td>...</td>\n",
       "      <td>0.0</td>\n",
       "      <td>0.0</td>\n",
       "      <td>0.0</td>\n",
       "      <td>0.0</td>\n",
       "      <td>0.0</td>\n",
       "      <td>0.0</td>\n",
       "      <td>0.0</td>\n",
       "      <td>0.0</td>\n",
       "      <td>0.0</td>\n",
       "      <td>0.0</td>\n",
       "    </tr>\n",
       "    <tr>\n",
       "      <th>24931</th>\n",
       "      <td>0.0</td>\n",
       "      <td>0.0</td>\n",
       "      <td>0.0</td>\n",
       "      <td>0.0</td>\n",
       "      <td>0.0</td>\n",
       "      <td>0.0</td>\n",
       "      <td>0.0</td>\n",
       "      <td>0.0</td>\n",
       "      <td>0.0</td>\n",
       "      <td>0.0</td>\n",
       "      <td>...</td>\n",
       "      <td>0.0</td>\n",
       "      <td>0.0</td>\n",
       "      <td>0.0</td>\n",
       "      <td>0.0</td>\n",
       "      <td>0.0</td>\n",
       "      <td>0.0</td>\n",
       "      <td>0.0</td>\n",
       "      <td>0.0</td>\n",
       "      <td>0.0</td>\n",
       "      <td>0.0</td>\n",
       "    </tr>\n",
       "    <tr>\n",
       "      <th>24932</th>\n",
       "      <td>0.0</td>\n",
       "      <td>0.0</td>\n",
       "      <td>0.0</td>\n",
       "      <td>0.0</td>\n",
       "      <td>0.0</td>\n",
       "      <td>0.0</td>\n",
       "      <td>0.0</td>\n",
       "      <td>0.0</td>\n",
       "      <td>0.0</td>\n",
       "      <td>0.0</td>\n",
       "      <td>...</td>\n",
       "      <td>0.0</td>\n",
       "      <td>0.0</td>\n",
       "      <td>0.0</td>\n",
       "      <td>0.0</td>\n",
       "      <td>0.0</td>\n",
       "      <td>0.0</td>\n",
       "      <td>0.0</td>\n",
       "      <td>0.0</td>\n",
       "      <td>0.0</td>\n",
       "      <td>0.0</td>\n",
       "    </tr>\n",
       "  </tbody>\n",
       "</table>\n",
       "<p>24933 rows × 5000 columns</p>\n",
       "</div>"
      ],
      "text/plain": [
       "       abandon  abandoned  aber  abilities  ability  able  aboard  abraham  \\\n",
       "0          0.0        0.0   0.0        0.0      0.0   0.0     0.0      0.0   \n",
       "1          0.0        0.0   0.0        0.0      0.0   0.0     0.0      0.0   \n",
       "2          0.0        0.0   0.0        0.0      0.0   0.0     0.0      0.0   \n",
       "3          0.0        0.0   0.0        0.0      0.0   0.0     0.0      0.0   \n",
       "4          0.0        0.0   0.0        0.0      0.0   0.0     0.0      0.0   \n",
       "...        ...        ...   ...        ...      ...   ...     ...      ...   \n",
       "24928      0.0        0.0   0.0        0.0      0.0   0.0     0.0      0.0   \n",
       "24929      0.0        0.0   0.0        0.0      0.0   0.0     0.0      0.0   \n",
       "24930      0.0        0.0   0.0        0.0      0.0   0.0     0.0      0.0   \n",
       "24931      0.0        0.0   0.0        0.0      0.0   0.0     0.0      0.0   \n",
       "24932      0.0        0.0   0.0        0.0      0.0   0.0     0.0      0.0   \n",
       "\n",
       "       abroad  absolute  ...  year  years  yellow  yoga  york  young  younger  \\\n",
       "0         0.0       0.0  ...   0.0    0.0     0.0   0.0   0.0    0.0      0.0   \n",
       "1         0.0       0.0  ...   0.0    0.0     0.0   0.0   0.0    0.0      0.0   \n",
       "2         0.0       0.0  ...   0.0    0.0     0.0   0.0   0.0    0.0      0.0   \n",
       "3         0.0       0.0  ...   0.0    0.0     0.0   0.0   0.0    0.0      0.0   \n",
       "4         0.0       0.0  ...   0.0    0.0     0.0   0.0   0.0    0.0      0.0   \n",
       "...       ...       ...  ...   ...    ...     ...   ...   ...    ...      ...   \n",
       "24928     0.0       0.0  ...   0.0    0.0     0.0   0.0   0.0    0.0      0.0   \n",
       "24929     0.0       0.0  ...   0.0    0.0     0.0   0.0   0.0    0.0      0.0   \n",
       "24930     0.0       0.0  ...   0.0    0.0     0.0   0.0   0.0    0.0      0.0   \n",
       "24931     0.0       0.0  ...   0.0    0.0     0.0   0.0   0.0    0.0      0.0   \n",
       "24932     0.0       0.0  ...   0.0    0.0     0.0   0.0   0.0    0.0      0.0   \n",
       "\n",
       "       youngest  youth  zeit  \n",
       "0           0.0    0.0   0.0  \n",
       "1           0.0    0.0   0.0  \n",
       "2           0.0    0.0   0.0  \n",
       "3           0.0    0.0   0.0  \n",
       "4           0.0    0.0   0.0  \n",
       "...         ...    ...   ...  \n",
       "24928       0.0    0.0   0.0  \n",
       "24929       0.0    0.0   0.0  \n",
       "24930       0.0    0.0   0.0  \n",
       "24931       0.0    0.0   0.0  \n",
       "24932       0.0    0.0   0.0  \n",
       "\n",
       "[24933 rows x 5000 columns]"
      ]
     },
     "execution_count": 15,
     "metadata": {},
     "output_type": "execute_result"
    }
   ],
   "source": [
    "tfidf_unigram = TfidfVectorizer(lowercase = False,\n",
    "                                stop_words = 'english',\n",
    "                                strip_accents='unicode', \n",
    "                                analyzer='word',\n",
    "                                token_pattern=r'\\w{1,}',\n",
    "                                ngram_range=(1, 1),\n",
    "                                max_features = 5000\n",
    "                               )\n",
    "\n",
    "print(\"Parameters of TfidfVectorizer and its values:\\n\\t\\t\",tfidf_unigram)\n",
    "description_unigram_vector = tfidf_unigram.fit_transform(df['Description'])\n",
    "features = pd.DataFrame(description_unigram_vector.toarray(), columns = tfidf_unigram.get_feature_names())\n",
    "features\n"
   ]
  },
  {
   "cell_type": "code",
   "execution_count": 16,
   "id": "764fcf22",
   "metadata": {},
   "outputs": [
    {
     "data": {
      "image/png": "[encoded data removed]",
      "text/plain": [
       "<Figure size 1152x576 with 1 Axes>"
      ]
     },
     "metadata": {
      "needs_background": "light"
     },
     "output_type": "display_data"
    }
   ],
   "source": [
    "total_words = description_unigram_vector.sum(axis=0) \n",
    "frequency = [(word, total_words[0, idx]) for word, idx in tfidf_unigram.vocabulary_.items()]\n",
    "frequency =sorted(frequency, key = lambda x: x[1], reverse=True)\n",
    "plot_df = pd.DataFrame(frequency)\n",
    "plot_df.rename(columns = {0:'Unigram', 1: 'Count'}, inplace = True) \n",
    "plot_df = plot_df.head(50)\n",
    "plot_df.plot(x ='Unigram', y='Count', kind = 'bar', title = \"Uniram Top 50 Feature\", figsize = (16,8), ); \n",
    "\n",
    "del tfidf_unigram\n",
    "del features\n",
    "del total_words\n",
    "del frequency\n",
    "del plot_df"
   ]
  },
  {
   "cell_type": "markdown",
   "id": "cd15e57a",
   "metadata": {},
   "source": [
    "## <font color=\"green\"> 2. Bigram Feature Vector </font>"
   ]
  },
  {
   "cell_type": "code",
   "execution_count": 17,
   "id": "da4cf75f",
   "metadata": {},
   "outputs": [
    {
     "name": "stdout",
     "output_type": "stream",
     "text": [
      "Parameters of TfidfVectorizer and its values:\n",
      "\t\t TfidfVectorizer(lowercase=False, max_features=5000, ngram_range=(1, 2),\n",
      "                stop_words='english', strip_accents='unicode',\n",
      "                token_pattern='\\\\w{1,}')\n"
     ]
    },
    {
     "data": {
      "text/html": [
       "<div>\n",
       "<style scoped>\n",
       "    .dataframe tbody tr th:only-of-type {\n",
       "        vertical-align: middle;\n",
       "    }\n",
       "\n",
       "    .dataframe tbody tr th {\n",
       "        vertical-align: top;\n",
       "    }\n",
       "\n",
       "    .dataframe thead th {\n",
       "        text-align: right;\n",
       "    }\n",
       "</style>\n",
       "<table border=\"1\" class=\"dataframe\">\n",
       "  <thead>\n",
       "    <tr style=\"text-align: right;\">\n",
       "      <th></th>\n",
       "      <th>abandon</th>\n",
       "      <th>abandoned</th>\n",
       "      <th>aber</th>\n",
       "      <th>abilities</th>\n",
       "      <th>ability</th>\n",
       "      <th>able</th>\n",
       "      <th>aboard</th>\n",
       "      <th>abraham</th>\n",
       "      <th>abroad</th>\n",
       "      <th>absolute</th>\n",
       "      <th>...</th>\n",
       "      <th>young children</th>\n",
       "      <th>young girl</th>\n",
       "      <th>young people</th>\n",
       "      <th>young readers</th>\n",
       "      <th>young woman</th>\n",
       "      <th>young women</th>\n",
       "      <th>younger</th>\n",
       "      <th>youngest</th>\n",
       "      <th>youth</th>\n",
       "      <th>zeit</th>\n",
       "    </tr>\n",
       "  </thead>\n",
       "  <tbody>\n",
       "    <tr>\n",
       "      <th>0</th>\n",
       "      <td>0.0</td>\n",
       "      <td>0.0</td>\n",
       "      <td>0.0</td>\n",
       "      <td>0.0</td>\n",
       "      <td>0.0</td>\n",
       "      <td>0.0</td>\n",
       "      <td>0.0</td>\n",
       "      <td>0.0</td>\n",
       "      <td>0.0</td>\n",
       "      <td>0.0</td>\n",
       "      <td>...</td>\n",
       "      <td>0.0</td>\n",
       "      <td>0.0</td>\n",
       "      <td>0.0</td>\n",
       "      <td>0.0</td>\n",
       "      <td>0.0</td>\n",
       "      <td>0.0</td>\n",
       "      <td>0.0</td>\n",
       "      <td>0.0</td>\n",
       "      <td>0.0</td>\n",
       "      <td>0.0</td>\n",
       "    </tr>\n",
       "    <tr>\n",
       "      <th>1</th>\n",
       "      <td>0.0</td>\n",
       "      <td>0.0</td>\n",
       "      <td>0.0</td>\n",
       "      <td>0.0</td>\n",
       "      <td>0.0</td>\n",
       "      <td>0.0</td>\n",
       "      <td>0.0</td>\n",
       "      <td>0.0</td>\n",
       "      <td>0.0</td>\n",
       "      <td>0.0</td>\n",
       "      <td>...</td>\n",
       "      <td>0.0</td>\n",
       "      <td>0.0</td>\n",
       "      <td>0.0</td>\n",
       "      <td>0.0</td>\n",
       "      <td>0.0</td>\n",
       "      <td>0.0</td>\n",
       "      <td>0.0</td>\n",
       "      <td>0.0</td>\n",
       "      <td>0.0</td>\n",
       "      <td>0.0</td>\n",
       "    </tr>\n",
       "    <tr>\n",
       "      <th>2</th>\n",
       "      <td>0.0</td>\n",
       "      <td>0.0</td>\n",
       "      <td>0.0</td>\n",
       "      <td>0.0</td>\n",
       "      <td>0.0</td>\n",
       "      <td>0.0</td>\n",
       "      <td>0.0</td>\n",
       "      <td>0.0</td>\n",
       "      <td>0.0</td>\n",
       "      <td>0.0</td>\n",
       "      <td>...</td>\n",
       "      <td>0.0</td>\n",
       "      <td>0.0</td>\n",
       "      <td>0.0</td>\n",
       "      <td>0.0</td>\n",
       "      <td>0.0</td>\n",
       "      <td>0.0</td>\n",
       "      <td>0.0</td>\n",
       "      <td>0.0</td>\n",
       "      <td>0.0</td>\n",
       "      <td>0.0</td>\n",
       "    </tr>\n",
       "    <tr>\n",
       "      <th>3</th>\n",
       "      <td>0.0</td>\n",
       "      <td>0.0</td>\n",
       "      <td>0.0</td>\n",
       "      <td>0.0</td>\n",
       "      <td>0.0</td>\n",
       "      <td>0.0</td>\n",
       "      <td>0.0</td>\n",
       "      <td>0.0</td>\n",
       "      <td>0.0</td>\n",
       "      <td>0.0</td>\n",
       "      <td>...</td>\n",
       "      <td>0.0</td>\n",
       "      <td>0.0</td>\n",
       "      <td>0.0</td>\n",
       "      <td>0.0</td>\n",
       "      <td>0.0</td>\n",
       "      <td>0.0</td>\n",
       "      <td>0.0</td>\n",
       "      <td>0.0</td>\n",
       "      <td>0.0</td>\n",
       "      <td>0.0</td>\n",
       "    </tr>\n",
       "    <tr>\n",
       "      <th>4</th>\n",
       "      <td>0.0</td>\n",
       "      <td>0.0</td>\n",
       "      <td>0.0</td>\n",
       "      <td>0.0</td>\n",
       "      <td>0.0</td>\n",
       "      <td>0.0</td>\n",
       "      <td>0.0</td>\n",
       "      <td>0.0</td>\n",
       "      <td>0.0</td>\n",
       "      <td>0.0</td>\n",
       "      <td>...</td>\n",
       "      <td>0.0</td>\n",
       "      <td>0.0</td>\n",
       "      <td>0.0</td>\n",
       "      <td>0.0</td>\n",
       "      <td>0.0</td>\n",
       "      <td>0.0</td>\n",
       "      <td>0.0</td>\n",
       "      <td>0.0</td>\n",
       "      <td>0.0</td>\n",
       "      <td>0.0</td>\n",
       "    </tr>\n",
       "    <tr>\n",
       "      <th>...</th>\n",
       "      <td>...</td>\n",
       "      <td>...</td>\n",
       "      <td>...</td>\n",
       "      <td>...</td>\n",
       "      <td>...</td>\n",
       "      <td>...</td>\n",
       "      <td>...</td>\n",
       "      <td>...</td>\n",
       "      <td>...</td>\n",
       "      <td>...</td>\n",
       "      <td>...</td>\n",
       "      <td>...</td>\n",
       "      <td>...</td>\n",
       "      <td>...</td>\n",
       "      <td>...</td>\n",
       "      <td>...</td>\n",
       "      <td>...</td>\n",
       "      <td>...</td>\n",
       "      <td>...</td>\n",
       "      <td>...</td>\n",
       "      <td>...</td>\n",
       "    </tr>\n",
       "    <tr>\n",
       "      <th>24928</th>\n",
       "      <td>0.0</td>\n",
       "      <td>0.0</td>\n",
       "      <td>0.0</td>\n",
       "      <td>0.0</td>\n",
       "      <td>0.0</td>\n",
       "      <td>0.0</td>\n",
       "      <td>0.0</td>\n",
       "      <td>0.0</td>\n",
       "      <td>0.0</td>\n",
       "      <td>0.0</td>\n",
       "      <td>...</td>\n",
       "      <td>0.0</td>\n",
       "      <td>0.0</td>\n",
       "      <td>0.0</td>\n",
       "      <td>0.0</td>\n",
       "      <td>0.0</td>\n",
       "      <td>0.0</td>\n",
       "      <td>0.0</td>\n",
       "      <td>0.0</td>\n",
       "      <td>0.0</td>\n",
       "      <td>0.0</td>\n",
       "    </tr>\n",
       "    <tr>\n",
       "      <th>24929</th>\n",
       "      <td>0.0</td>\n",
       "      <td>0.0</td>\n",
       "      <td>0.0</td>\n",
       "      <td>0.0</td>\n",
       "      <td>0.0</td>\n",
       "      <td>0.0</td>\n",
       "      <td>0.0</td>\n",
       "      <td>0.0</td>\n",
       "      <td>0.0</td>\n",
       "      <td>0.0</td>\n",
       "      <td>...</td>\n",
       "      <td>0.0</td>\n",
       "      <td>0.0</td>\n",
       "      <td>0.0</td>\n",
       "      <td>0.0</td>\n",
       "      <td>0.0</td>\n",
       "      <td>0.0</td>\n",
       "      <td>0.0</td>\n",
       "      <td>0.0</td>\n",
       "      <td>0.0</td>\n",
       "      <td>0.0</td>\n",
       "    </tr>\n",
       "    <tr>\n",
       "      <th>24930</th>\n",
       "      <td>0.0</td>\n",
       "      <td>0.0</td>\n",
       "      <td>0.0</td>\n",
       "      <td>0.0</td>\n",
       "      <td>0.0</td>\n",
       "      <td>0.0</td>\n",
       "      <td>0.0</td>\n",
       "      <td>0.0</td>\n",
       "      <td>0.0</td>\n",
       "      <td>0.0</td>\n",
       "      <td>...</td>\n",
       "      <td>0.0</td>\n",
       "      <td>0.0</td>\n",
       "      <td>0.0</td>\n",
       "      <td>0.0</td>\n",
       "      <td>0.0</td>\n",
       "      <td>0.0</td>\n",
       "      <td>0.0</td>\n",
       "      <td>0.0</td>\n",
       "      <td>0.0</td>\n",
       "      <td>0.0</td>\n",
       "    </tr>\n",
       "    <tr>\n",
       "      <th>24931</th>\n",
       "      <td>0.0</td>\n",
       "      <td>0.0</td>\n",
       "      <td>0.0</td>\n",
       "      <td>0.0</td>\n",
       "      <td>0.0</td>\n",
       "      <td>0.0</td>\n",
       "      <td>0.0</td>\n",
       "      <td>0.0</td>\n",
       "      <td>0.0</td>\n",
       "      <td>0.0</td>\n",
       "      <td>...</td>\n",
       "      <td>0.0</td>\n",
       "      <td>0.0</td>\n",
       "      <td>0.0</td>\n",
       "      <td>0.0</td>\n",
       "      <td>0.0</td>\n",
       "      <td>0.0</td>\n",
       "      <td>0.0</td>\n",
       "      <td>0.0</td>\n",
       "      <td>0.0</td>\n",
       "      <td>0.0</td>\n",
       "    </tr>\n",
       "    <tr>\n",
       "      <th>24932</th>\n",
       "      <td>0.0</td>\n",
       "      <td>0.0</td>\n",
       "      <td>0.0</td>\n",
       "      <td>0.0</td>\n",
       "      <td>0.0</td>\n",
       "      <td>0.0</td>\n",
       "      <td>0.0</td>\n",
       "      <td>0.0</td>\n",
       "      <td>0.0</td>\n",
       "      <td>0.0</td>\n",
       "      <td>...</td>\n",
       "      <td>0.0</td>\n",
       "      <td>0.0</td>\n",
       "      <td>0.0</td>\n",
       "      <td>0.0</td>\n",
       "      <td>0.0</td>\n",
       "      <td>0.0</td>\n",
       "      <td>0.0</td>\n",
       "      <td>0.0</td>\n",
       "      <td>0.0</td>\n",
       "      <td>0.0</td>\n",
       "    </tr>\n",
       "  </tbody>\n",
       "</table>\n",
       "<p>24933 rows × 5000 columns</p>\n",
       "</div>"
      ],
      "text/plain": [
       "       abandon  abandoned  aber  abilities  ability  able  aboard  abraham  \\\n",
       "0          0.0        0.0   0.0        0.0      0.0   0.0     0.0      0.0   \n",
       "1          0.0        0.0   0.0        0.0      0.0   0.0     0.0      0.0   \n",
       "2          0.0        0.0   0.0        0.0      0.0   0.0     0.0      0.0   \n",
       "3          0.0        0.0   0.0        0.0      0.0   0.0     0.0      0.0   \n",
       "4          0.0        0.0   0.0        0.0      0.0   0.0     0.0      0.0   \n",
       "...        ...        ...   ...        ...      ...   ...     ...      ...   \n",
       "24928      0.0        0.0   0.0        0.0      0.0   0.0     0.0      0.0   \n",
       "24929      0.0        0.0   0.0        0.0      0.0   0.0     0.0      0.0   \n",
       "24930      0.0        0.0   0.0        0.0      0.0   0.0     0.0      0.0   \n",
       "24931      0.0        0.0   0.0        0.0      0.0   0.0     0.0      0.0   \n",
       "24932      0.0        0.0   0.0        0.0      0.0   0.0     0.0      0.0   \n",
       "\n",
       "       abroad  absolute  ...  young children  young girl  young people  \\\n",
       "0         0.0       0.0  ...             0.0         0.0           0.0   \n",
       "1         0.0       0.0  ...             0.0         0.0           0.0   \n",
       "2         0.0       0.0  ...             0.0         0.0           0.0   \n",
       "3         0.0       0.0  ...             0.0         0.0           0.0   \n",
       "4         0.0       0.0  ...             0.0         0.0           0.0   \n",
       "...       ...       ...  ...             ...         ...           ...   \n",
       "24928     0.0       0.0  ...             0.0         0.0           0.0   \n",
       "24929     0.0       0.0  ...             0.0         0.0           0.0   \n",
       "24930     0.0       0.0  ...             0.0         0.0           0.0   \n",
       "24931     0.0       0.0  ...             0.0         0.0           0.0   \n",
       "24932     0.0       0.0  ...             0.0         0.0           0.0   \n",
       "\n",
       "       young readers  young woman  young women  younger  youngest  youth  zeit  \n",
       "0                0.0          0.0          0.0      0.0       0.0    0.0   0.0  \n",
       "1                0.0          0.0          0.0      0.0       0.0    0.0   0.0  \n",
       "2                0.0          0.0          0.0      0.0       0.0    0.0   0.0  \n",
       "3                0.0          0.0          0.0      0.0       0.0    0.0   0.0  \n",
       "4                0.0          0.0          0.0      0.0       0.0    0.0   0.0  \n",
       "...              ...          ...          ...      ...       ...    ...   ...  \n",
       "24928            0.0          0.0          0.0      0.0       0.0    0.0   0.0  \n",
       "24929            0.0          0.0          0.0      0.0       0.0    0.0   0.0  \n",
       "24930            0.0          0.0          0.0      0.0       0.0    0.0   0.0  \n",
       "24931            0.0          0.0          0.0      0.0       0.0    0.0   0.0  \n",
       "24932            0.0          0.0          0.0      0.0       0.0    0.0   0.0  \n",
       "\n",
       "[24933 rows x 5000 columns]"
      ]
     },
     "execution_count": 17,
     "metadata": {},
     "output_type": "execute_result"
    }
   ],
   "source": [
    "tfidf_bigram = TfidfVectorizer(lowercase = False,\n",
    "                                stop_words = 'english',\n",
    "                                strip_accents='unicode', \n",
    "                                analyzer='word',\n",
    "                                token_pattern=r'\\w{1,}',\n",
    "                                ngram_range=(1, 2),\n",
    "                                max_features = 5000\n",
    "                               )\n",
    "\n",
    "print(\"Parameters of TfidfVectorizer and its values:\\n\\t\\t\",tfidf_bigram)\n",
    "description_bigram_vector = tfidf_bigram.fit_transform(df['Description'])\n",
    "features = pd.DataFrame(description_bigram_vector.toarray(), columns = tfidf_bigram.get_feature_names())\n",
    "features\n"
   ]
  },
  {
   "cell_type": "code",
   "execution_count": 18,
   "id": "b9030039",
   "metadata": {},
   "outputs": [
    {
     "data": {
      "image/png": "[encoded data removed]",
      "text/plain": [
       "<Figure size 1152x576 with 1 Axes>"
      ]
     },
     "metadata": {
      "needs_background": "light"
     },
     "output_type": "display_data"
    }
   ],
   "source": [
    "total_words = description_bigram_vector.sum(axis=0)\n",
    "frequency = [(word, total_words[0, idx]) for word, idx in tfidf_bigram.vocabulary_.items()]\n",
    "frequency =sorted(frequency, key = lambda x: x[1], reverse=True)\n",
    "plot_df = pd.DataFrame(frequency)\n",
    "plot_df.rename(columns = {0:'Bigram', 1: 'count'}, inplace = True) \n",
    "plot_df = plot_df.head(50)\n",
    "plot_df.plot(x ='Bigram', y='count', kind = 'bar', title = \"Bigram Top 50 Feature\", figsize = (16,8), ); \n",
    "\n",
    "del tfidf_bigram\n",
    "del features\n",
    "del total_words\n",
    "del frequency\n",
    "del plot_df"
   ]
  },
  {
   "cell_type": "markdown",
   "id": "05443fba",
   "metadata": {},
   "source": [
    "## <font color=\"green\"> 3. Trigram Feature Vector </font>"
   ]
  },
  {
   "cell_type": "code",
   "execution_count": 19,
   "id": "3c00ae3c",
   "metadata": {},
   "outputs": [
    {
     "name": "stdout",
     "output_type": "stream",
     "text": [
      "Parameters of TfidfVectorizer and its values:\n",
      "\t\t TfidfVectorizer(lowercase=False, max_features=5000, ngram_range=(1, 2),\n",
      "                stop_words='english', strip_accents='unicode',\n",
      "                token_pattern='\\\\w{1,}')\n"
     ]
    },
    {
     "data": {
      "text/html": [
       "<div>\n",
       "<style scoped>\n",
       "    .dataframe tbody tr th:only-of-type {\n",
       "        vertical-align: middle;\n",
       "    }\n",
       "\n",
       "    .dataframe tbody tr th {\n",
       "        vertical-align: top;\n",
       "    }\n",
       "\n",
       "    .dataframe thead th {\n",
       "        text-align: right;\n",
       "    }\n",
       "</style>\n",
       "<table border=\"1\" class=\"dataframe\">\n",
       "  <thead>\n",
       "    <tr style=\"text-align: right;\">\n",
       "      <th></th>\n",
       "      <th>abandon</th>\n",
       "      <th>abandoned</th>\n",
       "      <th>aber</th>\n",
       "      <th>abilities</th>\n",
       "      <th>ability</th>\n",
       "      <th>able</th>\n",
       "      <th>aboard</th>\n",
       "      <th>abraham</th>\n",
       "      <th>abroad</th>\n",
       "      <th>absolute</th>\n",
       "      <th>...</th>\n",
       "      <th>young children</th>\n",
       "      <th>young girl</th>\n",
       "      <th>young people</th>\n",
       "      <th>young readers</th>\n",
       "      <th>young woman</th>\n",
       "      <th>young women</th>\n",
       "      <th>younger</th>\n",
       "      <th>youngest</th>\n",
       "      <th>youth</th>\n",
       "      <th>zeit</th>\n",
       "    </tr>\n",
       "  </thead>\n",
       "  <tbody>\n",
       "    <tr>\n",
       "      <th>0</th>\n",
       "      <td>0.0</td>\n",
       "      <td>0.0</td>\n",
       "      <td>0.0</td>\n",
       "      <td>0.0</td>\n",
       "      <td>0.0</td>\n",
       "      <td>0.0</td>\n",
       "      <td>0.0</td>\n",
       "      <td>0.0</td>\n",
       "      <td>0.0</td>\n",
       "      <td>0.0</td>\n",
       "      <td>...</td>\n",
       "      <td>0.0</td>\n",
       "      <td>0.0</td>\n",
       "      <td>0.0</td>\n",
       "      <td>0.0</td>\n",
       "      <td>0.0</td>\n",
       "      <td>0.0</td>\n",
       "      <td>0.0</td>\n",
       "      <td>0.0</td>\n",
       "      <td>0.0</td>\n",
       "      <td>0.0</td>\n",
       "    </tr>\n",
       "    <tr>\n",
       "      <th>1</th>\n",
       "      <td>0.0</td>\n",
       "      <td>0.0</td>\n",
       "      <td>0.0</td>\n",
       "      <td>0.0</td>\n",
       "      <td>0.0</td>\n",
       "      <td>0.0</td>\n",
       "      <td>0.0</td>\n",
       "      <td>0.0</td>\n",
       "      <td>0.0</td>\n",
       "      <td>0.0</td>\n",
       "      <td>...</td>\n",
       "      <td>0.0</td>\n",
       "      <td>0.0</td>\n",
       "      <td>0.0</td>\n",
       "      <td>0.0</td>\n",
       "      <td>0.0</td>\n",
       "      <td>0.0</td>\n",
       "      <td>0.0</td>\n",
       "      <td>0.0</td>\n",
       "      <td>0.0</td>\n",
       "      <td>0.0</td>\n",
       "    </tr>\n",
       "    <tr>\n",
       "      <th>2</th>\n",
       "      <td>0.0</td>\n",
       "      <td>0.0</td>\n",
       "      <td>0.0</td>\n",
       "      <td>0.0</td>\n",
       "      <td>0.0</td>\n",
       "      <td>0.0</td>\n",
       "      <td>0.0</td>\n",
       "      <td>0.0</td>\n",
       "      <td>0.0</td>\n",
       "      <td>0.0</td>\n",
       "      <td>...</td>\n",
       "      <td>0.0</td>\n",
       "      <td>0.0</td>\n",
       "      <td>0.0</td>\n",
       "      <td>0.0</td>\n",
       "      <td>0.0</td>\n",
       "      <td>0.0</td>\n",
       "      <td>0.0</td>\n",
       "      <td>0.0</td>\n",
       "      <td>0.0</td>\n",
       "      <td>0.0</td>\n",
       "    </tr>\n",
       "    <tr>\n",
       "      <th>3</th>\n",
       "      <td>0.0</td>\n",
       "      <td>0.0</td>\n",
       "      <td>0.0</td>\n",
       "      <td>0.0</td>\n",
       "      <td>0.0</td>\n",
       "      <td>0.0</td>\n",
       "      <td>0.0</td>\n",
       "      <td>0.0</td>\n",
       "      <td>0.0</td>\n",
       "      <td>0.0</td>\n",
       "      <td>...</td>\n",
       "      <td>0.0</td>\n",
       "      <td>0.0</td>\n",
       "      <td>0.0</td>\n",
       "      <td>0.0</td>\n",
       "      <td>0.0</td>\n",
       "      <td>0.0</td>\n",
       "      <td>0.0</td>\n",
       "      <td>0.0</td>\n",
       "      <td>0.0</td>\n",
       "      <td>0.0</td>\n",
       "    </tr>\n",
       "    <tr>\n",
       "      <th>4</th>\n",
       "      <td>0.0</td>\n",
       "      <td>0.0</td>\n",
       "      <td>0.0</td>\n",
       "      <td>0.0</td>\n",
       "      <td>0.0</td>\n",
       "      <td>0.0</td>\n",
       "      <td>0.0</td>\n",
       "      <td>0.0</td>\n",
       "      <td>0.0</td>\n",
       "      <td>0.0</td>\n",
       "      <td>...</td>\n",
       "      <td>0.0</td>\n",
       "      <td>0.0</td>\n",
       "      <td>0.0</td>\n",
       "      <td>0.0</td>\n",
       "      <td>0.0</td>\n",
       "      <td>0.0</td>\n",
       "      <td>0.0</td>\n",
       "      <td>0.0</td>\n",
       "      <td>0.0</td>\n",
       "      <td>0.0</td>\n",
       "    </tr>\n",
       "    <tr>\n",
       "      <th>...</th>\n",
       "      <td>...</td>\n",
       "      <td>...</td>\n",
       "      <td>...</td>\n",
       "      <td>...</td>\n",
       "      <td>...</td>\n",
       "      <td>...</td>\n",
       "      <td>...</td>\n",
       "      <td>...</td>\n",
       "      <td>...</td>\n",
       "      <td>...</td>\n",
       "      <td>...</td>\n",
       "      <td>...</td>\n",
       "      <td>...</td>\n",
       "      <td>...</td>\n",
       "      <td>...</td>\n",
       "      <td>...</td>\n",
       "      <td>...</td>\n",
       "      <td>...</td>\n",
       "      <td>...</td>\n",
       "      <td>...</td>\n",
       "      <td>...</td>\n",
       "    </tr>\n",
       "    <tr>\n",
       "      <th>24928</th>\n",
       "      <td>0.0</td>\n",
       "      <td>0.0</td>\n",
       "      <td>0.0</td>\n",
       "      <td>0.0</td>\n",
       "      <td>0.0</td>\n",
       "      <td>0.0</td>\n",
       "      <td>0.0</td>\n",
       "      <td>0.0</td>\n",
       "      <td>0.0</td>\n",
       "      <td>0.0</td>\n",
       "      <td>...</td>\n",
       "      <td>0.0</td>\n",
       "      <td>0.0</td>\n",
       "      <td>0.0</td>\n",
       "      <td>0.0</td>\n",
       "      <td>0.0</td>\n",
       "      <td>0.0</td>\n",
       "      <td>0.0</td>\n",
       "      <td>0.0</td>\n",
       "      <td>0.0</td>\n",
       "      <td>0.0</td>\n",
       "    </tr>\n",
       "    <tr>\n",
       "      <th>24929</th>\n",
       "      <td>0.0</td>\n",
       "      <td>0.0</td>\n",
       "      <td>0.0</td>\n",
       "      <td>0.0</td>\n",
       "      <td>0.0</td>\n",
       "      <td>0.0</td>\n",
       "      <td>0.0</td>\n",
       "      <td>0.0</td>\n",
       "      <td>0.0</td>\n",
       "      <td>0.0</td>\n",
       "      <td>...</td>\n",
       "      <td>0.0</td>\n",
       "      <td>0.0</td>\n",
       "      <td>0.0</td>\n",
       "      <td>0.0</td>\n",
       "      <td>0.0</td>\n",
       "      <td>0.0</td>\n",
       "      <td>0.0</td>\n",
       "      <td>0.0</td>\n",
       "      <td>0.0</td>\n",
       "      <td>0.0</td>\n",
       "    </tr>\n",
       "    <tr>\n",
       "      <th>24930</th>\n",
       "      <td>0.0</td>\n",
       "      <td>0.0</td>\n",
       "      <td>0.0</td>\n",
       "      <td>0.0</td>\n",
       "      <td>0.0</td>\n",
       "      <td>0.0</td>\n",
       "      <td>0.0</td>\n",
       "      <td>0.0</td>\n",
       "      <td>0.0</td>\n",
       "      <td>0.0</td>\n",
       "      <td>...</td>\n",
       "      <td>0.0</td>\n",
       "      <td>0.0</td>\n",
       "      <td>0.0</td>\n",
       "      <td>0.0</td>\n",
       "      <td>0.0</td>\n",
       "      <td>0.0</td>\n",
       "      <td>0.0</td>\n",
       "      <td>0.0</td>\n",
       "      <td>0.0</td>\n",
       "      <td>0.0</td>\n",
       "    </tr>\n",
       "    <tr>\n",
       "      <th>24931</th>\n",
       "      <td>0.0</td>\n",
       "      <td>0.0</td>\n",
       "      <td>0.0</td>\n",
       "      <td>0.0</td>\n",
       "      <td>0.0</td>\n",
       "      <td>0.0</td>\n",
       "      <td>0.0</td>\n",
       "      <td>0.0</td>\n",
       "      <td>0.0</td>\n",
       "      <td>0.0</td>\n",
       "      <td>...</td>\n",
       "      <td>0.0</td>\n",
       "      <td>0.0</td>\n",
       "      <td>0.0</td>\n",
       "      <td>0.0</td>\n",
       "      <td>0.0</td>\n",
       "      <td>0.0</td>\n",
       "      <td>0.0</td>\n",
       "      <td>0.0</td>\n",
       "      <td>0.0</td>\n",
       "      <td>0.0</td>\n",
       "    </tr>\n",
       "    <tr>\n",
       "      <th>24932</th>\n",
       "      <td>0.0</td>\n",
       "      <td>0.0</td>\n",
       "      <td>0.0</td>\n",
       "      <td>0.0</td>\n",
       "      <td>0.0</td>\n",
       "      <td>0.0</td>\n",
       "      <td>0.0</td>\n",
       "      <td>0.0</td>\n",
       "      <td>0.0</td>\n",
       "      <td>0.0</td>\n",
       "      <td>...</td>\n",
       "      <td>0.0</td>\n",
       "      <td>0.0</td>\n",
       "      <td>0.0</td>\n",
       "      <td>0.0</td>\n",
       "      <td>0.0</td>\n",
       "      <td>0.0</td>\n",
       "      <td>0.0</td>\n",
       "      <td>0.0</td>\n",
       "      <td>0.0</td>\n",
       "      <td>0.0</td>\n",
       "    </tr>\n",
       "  </tbody>\n",
       "</table>\n",
       "<p>24933 rows × 5000 columns</p>\n",
       "</div>"
      ],
      "text/plain": [
       "       abandon  abandoned  aber  abilities  ability  able  aboard  abraham  \\\n",
       "0          0.0        0.0   0.0        0.0      0.0   0.0     0.0      0.0   \n",
       "1          0.0        0.0   0.0        0.0      0.0   0.0     0.0      0.0   \n",
       "2          0.0        0.0   0.0        0.0      0.0   0.0     0.0      0.0   \n",
       "3          0.0        0.0   0.0        0.0      0.0   0.0     0.0      0.0   \n",
       "4          0.0        0.0   0.0        0.0      0.0   0.0     0.0      0.0   \n",
       "...        ...        ...   ...        ...      ...   ...     ...      ...   \n",
       "24928      0.0        0.0   0.0        0.0      0.0   0.0     0.0      0.0   \n",
       "24929      0.0        0.0   0.0        0.0      0.0   0.0     0.0      0.0   \n",
       "24930      0.0        0.0   0.0        0.0      0.0   0.0     0.0      0.0   \n",
       "24931      0.0        0.0   0.0        0.0      0.0   0.0     0.0      0.0   \n",
       "24932      0.0        0.0   0.0        0.0      0.0   0.0     0.0      0.0   \n",
       "\n",
       "       abroad  absolute  ...  young children  young girl  young people  \\\n",
       "0         0.0       0.0  ...             0.0         0.0           0.0   \n",
       "1         0.0       0.0  ...             0.0         0.0           0.0   \n",
       "2         0.0       0.0  ...             0.0         0.0           0.0   \n",
       "3         0.0       0.0  ...             0.0         0.0           0.0   \n",
       "4         0.0       0.0  ...             0.0         0.0           0.0   \n",
       "...       ...       ...  ...             ...         ...           ...   \n",
       "24928     0.0       0.0  ...             0.0         0.0           0.0   \n",
       "24929     0.0       0.0  ...             0.0         0.0           0.0   \n",
       "24930     0.0       0.0  ...             0.0         0.0           0.0   \n",
       "24931     0.0       0.0  ...             0.0         0.0           0.0   \n",
       "24932     0.0       0.0  ...             0.0         0.0           0.0   \n",
       "\n",
       "       young readers  young woman  young women  younger  youngest  youth  zeit  \n",
       "0                0.0          0.0          0.0      0.0       0.0    0.0   0.0  \n",
       "1                0.0          0.0          0.0      0.0       0.0    0.0   0.0  \n",
       "2                0.0          0.0          0.0      0.0       0.0    0.0   0.0  \n",
       "3                0.0          0.0          0.0      0.0       0.0    0.0   0.0  \n",
       "4                0.0          0.0          0.0      0.0       0.0    0.0   0.0  \n",
       "...              ...          ...          ...      ...       ...    ...   ...  \n",
       "24928            0.0          0.0          0.0      0.0       0.0    0.0   0.0  \n",
       "24929            0.0          0.0          0.0      0.0       0.0    0.0   0.0  \n",
       "24930            0.0          0.0          0.0      0.0       0.0    0.0   0.0  \n",
       "24931            0.0          0.0          0.0      0.0       0.0    0.0   0.0  \n",
       "24932            0.0          0.0          0.0      0.0       0.0    0.0   0.0  \n",
       "\n",
       "[24933 rows x 5000 columns]"
      ]
     },
     "execution_count": 19,
     "metadata": {},
     "output_type": "execute_result"
    }
   ],
   "source": [
    "tfidf_trigram = TfidfVectorizer(lowercase = False,\n",
    "                                stop_words = 'english',\n",
    "                                strip_accents='unicode', \n",
    "                                analyzer='word',\n",
    "                                token_pattern=r'\\w{1,}',\n",
    "                                ngram_range=(1, 2),\n",
    "                                max_features = 5000\n",
    "                               )\n",
    "\n",
    "print(\"Parameters of TfidfVectorizer and its values:\\n\\t\\t\",tfidf_trigram)\n",
    "description_trigram_vector = tfidf_trigram.fit_transform(df['Description'])\n",
    "features = pd.DataFrame(description_trigram_vector.toarray(), columns = tfidf_trigram.get_feature_names())\n",
    "features\n"
   ]
  },
  {
   "cell_type": "code",
   "execution_count": 20,
   "id": "c32ec645",
   "metadata": {},
   "outputs": [
    {
     "data": {
      "image/png": "[encoded data removed]",
      "text/plain": [
       "<Figure size 1152x576 with 1 Axes>"
      ]
     },
     "metadata": {
      "needs_background": "light"
     },
     "output_type": "display_data"
    }
   ],
   "source": [
    "total_words = description_trigram_vector.sum(axis=0) \n",
    "frequency = [(word, total_words[0, idx]) for word, idx in tfidf_trigram.vocabulary_.items()]\n",
    "frequency =sorted(frequency, key = lambda x: x[1], reverse=True)#converting into dataframe \n",
    "plot_df = pd.DataFrame(frequency)\n",
    "plot_df.rename(columns = {0:'Trigram', 1: 'Count'}, inplace = True) \n",
    "plot_df = plot_df.head(50)\n",
    "plot_df.plot(x ='Trigram', y='Count', kind = 'bar', title = \"Trigram Top 50 Feature\", figsize = (16,8), ); \n",
    "\n",
    "del tfidf_trigram\n",
    "del features\n",
    "del total_words\n",
    "del frequency\n",
    "del plot_df"
   ]
  },
  {
   "cell_type": "markdown",
   "id": "956ba0ac",
   "metadata": {},
   "source": [
    "<center><h3 style=\"font-size:30px; color:MidnightBlue;\">\"Function for Prediction\"</h3></center>"
   ]
  },
  {
   "cell_type": "code",
   "execution_count": 21,
   "id": "aa2b9546",
   "metadata": {},
   "outputs": [
    {
     "data": {
      "text/plain": [
       "Name\n",
       "Lessons Learned (Great Chefs, No2)                                                    0\n",
       "Spine-Chillers: Unforgettable Tales of Terror                                         1\n",
       "The Air War: 1939-45                                                                  2\n",
       "Justice at Nuremberg                                                                  3\n",
       "The Sun, the Genome and the Internet: Tools of Scientific Revolutions                 4\n",
       "                                                                                  ...  \n",
       "El Dia de Elmer / Elmer's Day (Spanish- English)                                  24928\n",
       "Elmer's Weather (English–Spanish)                                                 24929\n",
       "Los Amigos de Elmer / Elmer's Friends (Spanish- English)                          24930\n",
       "Journey Of The Adopted Self: A Quest For Wholeness                                24931\n",
       "Gender Talk: The Struggle For Women's Equality in African American Communities    24932\n",
       "Length: 24933, dtype: int64"
      ]
     },
     "execution_count": 21,
     "metadata": {},
     "output_type": "execute_result"
    }
   ],
   "source": [
    "indices = pd.Series(df.index, index=df['Name']).drop_duplicates()\n",
    "indices"
   ]
  },
  {
   "cell_type": "code",
   "execution_count": 22,
   "id": "551f1d0d",
   "metadata": {},
   "outputs": [],
   "source": [
    "def description_base_recommendations(name, model):\n",
    "    ids = indices[name]\n",
    "    model_scores = list(enumerate(model[ids]))    \n",
    "    model_scores = sorted(model_scores, key=lambda x: x[1], reverse=True)\n",
    "    model_scores = model_scores[1:14]   \n",
    "    recommendation_indices = [i[0] for i in model_scores]\n",
    "    print(recommendation_indices)\n",
    "    return df['Name'].iloc[recommendation_indices]"
   ]
  },
  {
   "cell_type": "markdown",
   "id": "206192bf",
   "metadata": {},
   "source": [
    "<center><h3 style=\"font-size:30px; color:MidnightBlue;\">\"Train & Test on Unigram\"</h3></center>"
   ]
  },
  {
   "cell_type": "markdown",
   "id": "53a4509e",
   "metadata": {},
   "source": [
    "## <font color=\"green\"> Use sigmoid_kernel on Unigram </font>"
   ]
  },
  {
   "cell_type": "code",
   "execution_count": 23,
   "id": "fc29c943",
   "metadata": {},
   "outputs": [
    {
     "name": "stdout",
     "output_type": "stream",
     "text": [
      "[0.76167814 0.76159416 0.76159518 ... 0.76159416 0.76159474 0.76159872]\n"
     ]
    }
   ],
   "source": [
    "sigk_description_unigram = smp.sigmoid_kernel(description_unigram_vector, description_unigram_vector)\n",
    "print(sigk_description_unigram[0])"
   ]
  },
  {
   "cell_type": "code",
   "execution_count": 24,
   "id": "0d948ff4",
   "metadata": {},
   "outputs": [
    {
     "name": "stdout",
     "output_type": "stream",
     "text": [
      "[18116, 3900, 7164, 10250, 360, 16181, 6413, 23472, 10956, 13799, 19110, 8670, 19665]\n"
     ]
    },
    {
     "data": {
      "text/plain": [
       "18116                                        Cooking in a Can: More Campfire Recipes for Kids\n",
       "3900     The Magic of Fire: Hearth Cooking: One Hundred Recipes for the Fireplace or Campfire\n",
       "7164                                                             Market Microstructure Theory\n",
       "10250                                      Cooking From the Hip: Fast, Easy, Phenomenal Meals\n",
       "360                                     How to Cook Everything: Simple Recipes for Great Food\n",
       "16181                                                                    Settlement Cook Book\n",
       "6413                                              What's Cooking? (Rose Cottage Sisters, No2)\n",
       "23472                      Santa Fe School of Cooking Cookbook: Spirited Southwestern Recipes\n",
       "10956                                                     The Complete Cooking Light Cookbook\n",
       "13799                                                                  Gigolos Get Lonely Too\n",
       "19110                   Eula Mae's Cajun Kitchen: Cooking Through the Seasons on Avery Island\n",
       "8670                                                              A French Chef Cooks at Home\n",
       "19665                                                                Paul Bunyan, a Tall Tale\n",
       "Name: Name, dtype: object"
      ]
     },
     "execution_count": 24,
     "metadata": {},
     "output_type": "execute_result"
    }
   ],
   "source": [
    "description_base_recommendations('Breakfasts & Brunches', sigk_description_unigram)"
   ]
  },
  {
   "cell_type": "markdown",
   "id": "d61a0cb7",
   "metadata": {},
   "source": [
    "## <font color=\"green\"> Use linear_kernel on Unigram </font>"
   ]
  },
  {
   "cell_type": "code",
   "execution_count": 25,
   "id": "c6a09a69",
   "metadata": {},
   "outputs": [
    {
     "name": "stdout",
     "output_type": "stream",
     "text": [
      "[1.         0.         0.01223509 ... 0.         0.00696093 0.05434922]\n"
     ]
    }
   ],
   "source": [
    "lk_description_unigram = linear_kernel(description_unigram_vector, description_unigram_vector)\n",
    "print(lk_description_unigram[0])"
   ]
  },
  {
   "cell_type": "code",
   "execution_count": 26,
   "id": "d245dc73",
   "metadata": {},
   "outputs": [
    {
     "name": "stdout",
     "output_type": "stream",
     "text": [
      "[18116, 3900, 7164, 10250, 360, 16181, 6413, 23472, 10956, 13799, 19110, 8670, 19665]\n"
     ]
    },
    {
     "data": {
      "text/plain": [
       "18116                                        Cooking in a Can: More Campfire Recipes for Kids\n",
       "3900     The Magic of Fire: Hearth Cooking: One Hundred Recipes for the Fireplace or Campfire\n",
       "7164                                                             Market Microstructure Theory\n",
       "10250                                      Cooking From the Hip: Fast, Easy, Phenomenal Meals\n",
       "360                                     How to Cook Everything: Simple Recipes for Great Food\n",
       "16181                                                                    Settlement Cook Book\n",
       "6413                                              What's Cooking? (Rose Cottage Sisters, No2)\n",
       "23472                      Santa Fe School of Cooking Cookbook: Spirited Southwestern Recipes\n",
       "10956                                                     The Complete Cooking Light Cookbook\n",
       "13799                                                                  Gigolos Get Lonely Too\n",
       "19110                   Eula Mae's Cajun Kitchen: Cooking Through the Seasons on Avery Island\n",
       "8670                                                              A French Chef Cooks at Home\n",
       "19665                                                                Paul Bunyan, a Tall Tale\n",
       "Name: Name, dtype: object"
      ]
     },
     "execution_count": 26,
     "metadata": {},
     "output_type": "execute_result"
    }
   ],
   "source": [
    "description_base_recommendations('Breakfasts & Brunches', lk_description_unigram)"
   ]
  },
  {
   "cell_type": "markdown",
   "id": "51a84dd6",
   "metadata": {},
   "source": [
    "<center><h3 style=\"font-size:30px; color:MidnightBlue;\">\"Train & Test on Bigram\"</h3></center>"
   ]
  },
  {
   "cell_type": "markdown",
   "id": "4efab88b",
   "metadata": {},
   "source": [
    "## <font color=\"green\"> Use sigmoid_kernel on Bigram </font>"
   ]
  },
  {
   "cell_type": "code",
   "execution_count": 27,
   "id": "2c62e0b0",
   "metadata": {},
   "outputs": [
    {
     "name": "stdout",
     "output_type": "stream",
     "text": [
      "[0.76167814 0.76159416 0.76159516 ... 0.76159416 0.76159474 0.76159852]\n"
     ]
    }
   ],
   "source": [
    "del sigk_description_unigram\n",
    "del lk_description_unigram\n",
    "\n",
    "sigk_description_bigram = smp.sigmoid_kernel(description_bigram_vector, description_bigram_vector)\n",
    "print(sigk_description_bigram[0])"
   ]
  },
  {
   "cell_type": "code",
   "execution_count": 28,
   "id": "f8c9b2af",
   "metadata": {},
   "outputs": [
    {
     "name": "stdout",
     "output_type": "stream",
     "text": [
      "[18116, 3900, 10250, 360, 7164, 16181, 23472, 10956, 13799, 19110, 8670, 19665, 15351]\n"
     ]
    },
    {
     "data": {
      "text/plain": [
       "18116                                        Cooking in a Can: More Campfire Recipes for Kids\n",
       "3900     The Magic of Fire: Hearth Cooking: One Hundred Recipes for the Fireplace or Campfire\n",
       "10250                                      Cooking From the Hip: Fast, Easy, Phenomenal Meals\n",
       "360                                     How to Cook Everything: Simple Recipes for Great Food\n",
       "7164                                                             Market Microstructure Theory\n",
       "16181                                                                    Settlement Cook Book\n",
       "23472                      Santa Fe School of Cooking Cookbook: Spirited Southwestern Recipes\n",
       "10956                                                     The Complete Cooking Light Cookbook\n",
       "13799                                                                  Gigolos Get Lonely Too\n",
       "19110                   Eula Mae's Cajun Kitchen: Cooking Through the Seasons on Avery Island\n",
       "8670                                                              A French Chef Cooks at Home\n",
       "19665                                                                Paul Bunyan, a Tall Tale\n",
       "15351                                                            The Book of Japanese Cooking\n",
       "Name: Name, dtype: object"
      ]
     },
     "execution_count": 28,
     "metadata": {},
     "output_type": "execute_result"
    }
   ],
   "source": [
    "description_base_recommendations('Breakfasts & Brunches', sigk_description_bigram)"
   ]
  },
  {
   "cell_type": "markdown",
   "id": "6fbe95cc",
   "metadata": {},
   "source": [
    "## <font color=\"green\"> Use linear_kernel on Bigram </font>"
   ]
  },
  {
   "cell_type": "code",
   "execution_count": 29,
   "id": "c13eaa47",
   "metadata": {},
   "outputs": [
    {
     "name": "stdout",
     "output_type": "stream",
     "text": [
      "[1.         0.         0.01193382 ... 0.         0.00696093 0.05201006]\n"
     ]
    }
   ],
   "source": [
    "lk_description_bigram = linear_kernel(description_bigram_vector, description_bigram_vector)\n",
    "print(lk_description_bigram[0])"
   ]
  },
  {
   "cell_type": "code",
   "execution_count": 30,
   "id": "f8407010",
   "metadata": {},
   "outputs": [
    {
     "name": "stdout",
     "output_type": "stream",
     "text": [
      "[18116, 3900, 10250, 360, 7164, 16181, 23472, 10956, 13799, 19110, 8670, 19665, 15351]\n"
     ]
    },
    {
     "data": {
      "text/plain": [
       "18116                                        Cooking in a Can: More Campfire Recipes for Kids\n",
       "3900     The Magic of Fire: Hearth Cooking: One Hundred Recipes for the Fireplace or Campfire\n",
       "10250                                      Cooking From the Hip: Fast, Easy, Phenomenal Meals\n",
       "360                                     How to Cook Everything: Simple Recipes for Great Food\n",
       "7164                                                             Market Microstructure Theory\n",
       "16181                                                                    Settlement Cook Book\n",
       "23472                      Santa Fe School of Cooking Cookbook: Spirited Southwestern Recipes\n",
       "10956                                                     The Complete Cooking Light Cookbook\n",
       "13799                                                                  Gigolos Get Lonely Too\n",
       "19110                   Eula Mae's Cajun Kitchen: Cooking Through the Seasons on Avery Island\n",
       "8670                                                              A French Chef Cooks at Home\n",
       "19665                                                                Paul Bunyan, a Tall Tale\n",
       "15351                                                            The Book of Japanese Cooking\n",
       "Name: Name, dtype: object"
      ]
     },
     "execution_count": 30,
     "metadata": {},
     "output_type": "execute_result"
    }
   ],
   "source": [
    "description_base_recommendations('Breakfasts & Brunches', lk_description_bigram)"
   ]
  },
  {
   "cell_type": "markdown",
   "id": "62c0e5c5",
   "metadata": {},
   "source": [
    "<center><h3 style=\"font-size:30px; color:MidnightBlue;\">\"Train & Test on Trigram\"</h3></center>"
   ]
  },
  {
   "cell_type": "markdown",
   "id": "285d88a7",
   "metadata": {},
   "source": [
    "## <font color=\"green\"> Use sigmoid_kernel on Trigram </font>"
   ]
  },
  {
   "cell_type": "code",
   "execution_count": 31,
   "id": "571d580b",
   "metadata": {},
   "outputs": [
    {
     "name": "stdout",
     "output_type": "stream",
     "text": [
      "[0.76167814 0.76159416 0.76159516 ... 0.76159416 0.76159474 0.76159852]\n"
     ]
    }
   ],
   "source": [
    "del sigk_description_bigram\n",
    "del lk_description_bigram\n",
    "\n",
    "sigk_description_trigram = smp.sigmoid_kernel(description_trigram_vector, description_trigram_vector)\n",
    "print(sigk_description_trigram[0])"
   ]
  },
  {
   "cell_type": "code",
   "execution_count": 32,
   "id": "7a7ce073",
   "metadata": {},
   "outputs": [
    {
     "name": "stdout",
     "output_type": "stream",
     "text": [
      "[18116, 3900, 10250, 360, 7164, 16181, 23472, 10956, 13799, 19110, 8670, 19665, 15351]\n"
     ]
    },
    {
     "data": {
      "text/plain": [
       "18116                                        Cooking in a Can: More Campfire Recipes for Kids\n",
       "3900     The Magic of Fire: Hearth Cooking: One Hundred Recipes for the Fireplace or Campfire\n",
       "10250                                      Cooking From the Hip: Fast, Easy, Phenomenal Meals\n",
       "360                                     How to Cook Everything: Simple Recipes for Great Food\n",
       "7164                                                             Market Microstructure Theory\n",
       "16181                                                                    Settlement Cook Book\n",
       "23472                      Santa Fe School of Cooking Cookbook: Spirited Southwestern Recipes\n",
       "10956                                                     The Complete Cooking Light Cookbook\n",
       "13799                                                                  Gigolos Get Lonely Too\n",
       "19110                   Eula Mae's Cajun Kitchen: Cooking Through the Seasons on Avery Island\n",
       "8670                                                              A French Chef Cooks at Home\n",
       "19665                                                                Paul Bunyan, a Tall Tale\n",
       "15351                                                            The Book of Japanese Cooking\n",
       "Name: Name, dtype: object"
      ]
     },
     "execution_count": 32,
     "metadata": {},
     "output_type": "execute_result"
    }
   ],
   "source": [
    "description_base_recommendations('Breakfasts & Brunches', sigk_description_trigram)"
   ]
  },
  {
   "cell_type": "markdown",
   "id": "3057b42c",
   "metadata": {},
   "source": [
    "## <font color=\"green\"> Use linear_kernel on Trigram </font>"
   ]
  },
  {
   "cell_type": "code",
   "execution_count": 33,
   "id": "ffb64b1f",
   "metadata": {},
   "outputs": [
    {
     "name": "stdout",
     "output_type": "stream",
     "text": [
      "[1.         0.         0.01193382 ... 0.         0.00696093 0.05201006]\n"
     ]
    }
   ],
   "source": [
    "lk_description_trigram = linear_kernel(description_bigram_vector, description_bigram_vector)\n",
    "print(lk_description_trigram[0])"
   ]
  },
  {
   "cell_type": "code",
   "execution_count": 34,
   "id": "bea8b99a",
   "metadata": {},
   "outputs": [
    {
     "name": "stdout",
     "output_type": "stream",
     "text": [
      "[18116, 3900, 10250, 360, 7164, 16181, 23472, 10956, 13799, 19110, 8670, 19665, 15351]\n"
     ]
    },
    {
     "data": {
      "text/plain": [
       "18116                                        Cooking in a Can: More Campfire Recipes for Kids\n",
       "3900     The Magic of Fire: Hearth Cooking: One Hundred Recipes for the Fireplace or Campfire\n",
       "10250                                      Cooking From the Hip: Fast, Easy, Phenomenal Meals\n",
       "360                                     How to Cook Everything: Simple Recipes for Great Food\n",
       "7164                                                             Market Microstructure Theory\n",
       "16181                                                                    Settlement Cook Book\n",
       "23472                      Santa Fe School of Cooking Cookbook: Spirited Southwestern Recipes\n",
       "10956                                                     The Complete Cooking Light Cookbook\n",
       "13799                                                                  Gigolos Get Lonely Too\n",
       "19110                   Eula Mae's Cajun Kitchen: Cooking Through the Seasons on Avery Island\n",
       "8670                                                              A French Chef Cooks at Home\n",
       "19665                                                                Paul Bunyan, a Tall Tale\n",
       "15351                                                            The Book of Japanese Cooking\n",
       "Name: Name, dtype: object"
      ]
     },
     "execution_count": 34,
     "metadata": {},
     "output_type": "execute_result"
    }
   ],
   "source": [
    "description_base_recommendations('Breakfasts & Brunches', lk_description_trigram)"
   ]
  },
  {
   "cell_type": "markdown",
   "id": "919c53ae",
   "metadata": {},
   "source": [
    "<center><h3 style=\"font-size:30px; color:MidnightBlue;\">\"Save Trained Model\"</h3></center>"
   ]
  },
  {
   "cell_type": "code",
   "execution_count": 35,
   "id": "eeadb329",
   "metadata": {},
   "outputs": [],
   "source": [
    "with open('savedSigmoidKernelDescriptionTrigram.txt', 'wb') as model:\n",
    "    pickle.dump(sigk_description_trigram, model)\n",
    "    \n",
    "del sigk_description_trigram\n",
    "del lk_description_trigram"
   ]
  },
  {
   "cell_type": "markdown",
   "id": "5342442d",
   "metadata": {},
   "source": [
    "<center><h1 style=\"font-size:40px; color:green;\">2. Rating and Review Base Recommendation</h1></center>"
   ]
  },
  {
   "cell_type": "code",
   "execution_count": 36,
   "id": "1145c0d8",
   "metadata": {},
   "outputs": [
    {
     "data": {
      "text/html": [
       "<div>\n",
       "<style scoped>\n",
       "    .dataframe tbody tr th:only-of-type {\n",
       "        vertical-align: middle;\n",
       "    }\n",
       "\n",
       "    .dataframe tbody tr th {\n",
       "        vertical-align: top;\n",
       "    }\n",
       "\n",
       "    .dataframe thead th {\n",
       "        text-align: right;\n",
       "    }\n",
       "</style>\n",
       "<table border=\"1\" class=\"dataframe\">\n",
       "  <thead>\n",
       "    <tr style=\"text-align: right;\">\n",
       "      <th></th>\n",
       "      <th>Name</th>\n",
       "      <th>Rating</th>\n",
       "      <th>CountsOfReview</th>\n",
       "    </tr>\n",
       "  </thead>\n",
       "  <tbody>\n",
       "    <tr>\n",
       "      <th>0</th>\n",
       "      <td>Lessons Learned (Great Chefs, No2)</td>\n",
       "      <td>3.74</td>\n",
       "      <td>86</td>\n",
       "    </tr>\n",
       "    <tr>\n",
       "      <th>1</th>\n",
       "      <td>Spine-Chillers: Unforgettable Tales of Terror</td>\n",
       "      <td>2.80</td>\n",
       "      <td>2</td>\n",
       "    </tr>\n",
       "    <tr>\n",
       "      <th>2</th>\n",
       "      <td>The Air War: 1939-45</td>\n",
       "      <td>3.86</td>\n",
       "      <td>7</td>\n",
       "    </tr>\n",
       "    <tr>\n",
       "      <th>3</th>\n",
       "      <td>Justice at Nuremberg</td>\n",
       "      <td>4.15</td>\n",
       "      <td>16</td>\n",
       "    </tr>\n",
       "    <tr>\n",
       "      <th>4</th>\n",
       "      <td>The Sun, the Genome and the Internet: Tools of Scientific Revolutions</td>\n",
       "      <td>3.72</td>\n",
       "      <td>17</td>\n",
       "    </tr>\n",
       "    <tr>\n",
       "      <th>...</th>\n",
       "      <td>...</td>\n",
       "      <td>...</td>\n",
       "      <td>...</td>\n",
       "    </tr>\n",
       "    <tr>\n",
       "      <th>24928</th>\n",
       "      <td>El Dia de Elmer / Elmer's Day (Spanish- English)</td>\n",
       "      <td>3.82</td>\n",
       "      <td>0</td>\n",
       "    </tr>\n",
       "    <tr>\n",
       "      <th>24929</th>\n",
       "      <td>Elmer's Weather (English–Spanish)</td>\n",
       "      <td>3.74</td>\n",
       "      <td>1</td>\n",
       "    </tr>\n",
       "    <tr>\n",
       "      <th>24930</th>\n",
       "      <td>Los Amigos de Elmer / Elmer's Friends (Spanish- English)</td>\n",
       "      <td>3.78</td>\n",
       "      <td>0</td>\n",
       "    </tr>\n",
       "    <tr>\n",
       "      <th>24931</th>\n",
       "      <td>Journey Of The Adopted Self: A Quest For Wholeness</td>\n",
       "      <td>4.15</td>\n",
       "      <td>10</td>\n",
       "    </tr>\n",
       "    <tr>\n",
       "      <th>24932</th>\n",
       "      <td>Gender Talk: The Struggle For Women's Equality in African American Communities</td>\n",
       "      <td>4.03</td>\n",
       "      <td>2</td>\n",
       "    </tr>\n",
       "  </tbody>\n",
       "</table>\n",
       "<p>24933 rows × 3 columns</p>\n",
       "</div>"
      ],
      "text/plain": [
       "                                                                                 Name  \\\n",
       "0                                                  Lessons Learned (Great Chefs, No2)   \n",
       "1                                       Spine-Chillers: Unforgettable Tales of Terror   \n",
       "2                                                                The Air War: 1939-45   \n",
       "3                                                                Justice at Nuremberg   \n",
       "4               The Sun, the Genome and the Internet: Tools of Scientific Revolutions   \n",
       "...                                                                               ...   \n",
       "24928                                El Dia de Elmer / Elmer's Day (Spanish- English)   \n",
       "24929                                               Elmer's Weather (English–Spanish)   \n",
       "24930                        Los Amigos de Elmer / Elmer's Friends (Spanish- English)   \n",
       "24931                              Journey Of The Adopted Self: A Quest For Wholeness   \n",
       "24932  Gender Talk: The Struggle For Women's Equality in African American Communities   \n",
       "\n",
       "       Rating  CountsOfReview  \n",
       "0        3.74              86  \n",
       "1        2.80               2  \n",
       "2        3.86               7  \n",
       "3        4.15              16  \n",
       "4        3.72              17  \n",
       "...       ...             ...  \n",
       "24928    3.82               0  \n",
       "24929    3.74               1  \n",
       "24930    3.78               0  \n",
       "24931    4.15              10  \n",
       "24932    4.03               2  \n",
       "\n",
       "[24933 rows x 3 columns]"
      ]
     },
     "execution_count": 36,
     "metadata": {},
     "output_type": "execute_result"
    }
   ],
   "source": [
    "pd.options.display.max_colwidth = 150\n",
    "books_df[['Name', 'Rating', 'CountsOfReview']]"
   ]
  },
  {
   "cell_type": "code",
   "execution_count": 37,
   "id": "27578cee",
   "metadata": {
    "scrolled": false
   },
   "outputs": [
    {
     "data": {
      "image/png": "[encoded data removed]",
      "text/plain": [
       "<Figure size 1152x576 with 1 Axes>"
      ]
     },
     "metadata": {
      "needs_background": "light"
     },
     "output_type": "display_data"
    }
   ],
   "source": [
    "df = books_df.copy()\n",
    "\n",
    "plot_df = df['Rating'].value_counts().head(20)\n",
    "title=\"Rating\"\n",
    "fig = plt.figure(figsize=(16,8))\n",
    "bar_plot = sns.barplot(x = plot_df, y=plot_df.index)\n",
    "for item in bar_plot.get_xticklabels():\n",
    "    item.set_rotation(90)\n",
    "plt.title(title)\n",
    "plt.show()"
   ]
  },
  {
   "cell_type": "code",
   "execution_count": 38,
   "id": "8d285cd9",
   "metadata": {},
   "outputs": [
    {
     "data": {
      "image/png": "[encoded data removed]",
      "text/plain": [
       "<Figure size 432x432 with 1 Axes>"
      ]
     },
     "metadata": {
      "needs_background": "light"
     },
     "output_type": "display_data"
    },
    {
     "data": {
      "text/plain": [
       "<Figure size 1152x576 with 0 Axes>"
      ]
     },
     "metadata": {},
     "output_type": "display_data"
    }
   ],
   "source": [
    "ax = sns.relplot(data=df, x=\"Rating\", y=\"CountsOfReview\", color = 'red', height=6, marker='o')\n",
    "plt.title(\"Relation between Rating and CountsOfReview\", fontsize = 20)\n",
    "fig = plt.figure(figsize=(16,8))\n",
    "ax.set_axis_labels(\"Rating\", \"CountsOfReview\");"
   ]
  },
  {
   "cell_type": "markdown",
   "id": "79f8543f",
   "metadata": {},
   "source": [
    "<center><h3 style=\"font-size:30px; color:MidnightBlue;\">\"Bining\"</h3></center>"
   ]
  },
  {
   "cell_type": "code",
   "execution_count": 39,
   "id": "064943e4",
   "metadata": {},
   "outputs": [
    {
     "data": {
      "text/plain": [
       "0        3.74\n",
       "1        2.80\n",
       "2        3.86\n",
       "3        4.15\n",
       "4        3.72\n",
       "         ... \n",
       "24928    3.82\n",
       "24929    3.74\n",
       "24930    3.78\n",
       "24931    4.15\n",
       "24932    4.03\n",
       "Name: Rating, Length: 24933, dtype: float64"
      ]
     },
     "execution_count": 39,
     "metadata": {},
     "output_type": "execute_result"
    }
   ],
   "source": [
    "df.Rating"
   ]
  },
  {
   "cell_type": "code",
   "execution_count": 40,
   "id": "53c99600",
   "metadata": {},
   "outputs": [],
   "source": [
    "df = books_df.copy()\n",
    "df.loc[(df.Rating >= 0) & (df.Rating <= 1), 'RatingRange'] = \"rating 0 to 1\"\n",
    "df.loc[(df.Rating > 1) & (df.Rating <= 2), 'RatingRange'] = \"rating 1 to 2\"\n",
    "df.loc[(df.Rating > 2) & (df.Rating <= 3), 'RatingRange'] = \"rating 2 to 3\"\n",
    "df.loc[(df.Rating > 3) & (df.Rating <= 4), 'RatingRange'] = \"rating 3 to 4\"\n",
    "df.loc[(df.Rating > 4) & (df.Rating <= 5), 'RatingRange'] = \"rating 4 to 5\""
   ]
  },
  {
   "cell_type": "code",
   "execution_count": 41,
   "id": "69166483",
   "metadata": {},
   "outputs": [],
   "source": [
    "rating_dummies = pd.get_dummies(df['RatingRange'])\n",
    "\n",
    "features_df = pd.concat([rating_dummies, df['Rating'], df['CountsOfReview']], axis=1)"
   ]
  },
  {
   "cell_type": "markdown",
   "id": "c612db05",
   "metadata": {},
   "source": [
    "<center><h3 style=\"font-size:30px; color:MidnightBlue;\">\"Convert into Feature Vector using KNeighbors\"</h3></center>"
   ]
  },
  {
   "cell_type": "code",
   "execution_count": 42,
   "id": "261e3ff4",
   "metadata": {},
   "outputs": [
    {
     "data": {
      "text/plain": [
       "array([[0.00000000e+00, 0.00000000e+00, 0.00000000e+00, ...,\n",
       "        0.00000000e+00, 7.48000000e-01, 4.11424197e-03],\n",
       "       [0.00000000e+00, 0.00000000e+00, 1.00000000e+00, ...,\n",
       "        0.00000000e+00, 5.60000000e-01, 9.56800459e-05],\n",
       "       [0.00000000e+00, 0.00000000e+00, 0.00000000e+00, ...,\n",
       "        0.00000000e+00, 7.72000000e-01, 3.34880161e-04],\n",
       "       ...,\n",
       "       [0.00000000e+00, 0.00000000e+00, 0.00000000e+00, ...,\n",
       "        0.00000000e+00, 7.56000000e-01, 0.00000000e+00],\n",
       "       [0.00000000e+00, 0.00000000e+00, 0.00000000e+00, ...,\n",
       "        1.00000000e+00, 8.30000000e-01, 4.78400230e-04],\n",
       "       [0.00000000e+00, 0.00000000e+00, 0.00000000e+00, ...,\n",
       "        1.00000000e+00, 8.06000000e-01, 9.56800459e-05]])"
      ]
     },
     "execution_count": 42,
     "metadata": {},
     "output_type": "execute_result"
    }
   ],
   "source": [
    "min_max_scaler = MinMaxScaler()\n",
    "features_kn = min_max_scaler.fit_transform(features_df)\n",
    "features_kn"
   ]
  },
  {
   "cell_type": "markdown",
   "id": "a098204f",
   "metadata": {},
   "source": [
    "<center><h3 style=\"font-size:30px; color:MidnightBlue;\">\"Use NearestNeighbors\"</h3></center>"
   ]
  },
  {
   "cell_type": "code",
   "execution_count": 43,
   "id": "5fede8c9",
   "metadata": {},
   "outputs": [
    {
     "data": {
      "text/plain": [
       "array([[    0, 15803, 20724,  4732,  6387, 17676],\n",
       "       [12694,     1, 22937,  8732, 10883,  8455],\n",
       "       [  370,  7678,  5358,  2956,     2,  5562],\n",
       "       ...,\n",
       "       [   67,  4758,   265,  2893,  2612,  1485],\n",
       "       [ 1526, 13875,  8076, 24931,  1252,  8690],\n",
       "       [24932,  7959,  3843,   999,   505,  6502]], dtype=int64)"
      ]
     },
     "execution_count": 43,
     "metadata": {},
     "output_type": "execute_result"
    }
   ],
   "source": [
    "nnb = neighbors.NearestNeighbors(n_neighbors=6, algorithm='ball_tree')\n",
    "nnb.fit(features_kn)\n",
    "dist, similarBooksIdListByNN = nnb.kneighbors(features_kn)\n",
    "similarBooksIdListByNN"
   ]
  },
  {
   "cell_type": "markdown",
   "id": "a89c127e",
   "metadata": {},
   "source": [
    "<center><h3 style=\"font-size:30px; color:MidnightBlue;\">\"Function for Recomandation\"</h3></center>"
   ]
  },
  {
   "cell_type": "code",
   "execution_count": 44,
   "id": "39826a36",
   "metadata": {},
   "outputs": [],
   "source": [
    "def rating_and_review_base_recommendations(name, similarBooks):\n",
    "    book_list_name = []\n",
    "    bookId = df[df['Name'] == name].index\n",
    "    bookId = bookId[0]\n",
    "    for newid in similarBooks[bookId]:\n",
    "        book_list_name.append(books_df.loc[newid].Name)\n",
    "    return book_list_name"
   ]
  },
  {
   "cell_type": "code",
   "execution_count": 45,
   "id": "bc223aa2",
   "metadata": {},
   "outputs": [
    {
     "data": {
      "text/plain": [
       "[\"Woman Of Innocence (Morgan's Mercenaries: Women of Destiny No1, Morgan's Mercenaries No19)\",\n",
       " 'Singapore: 500 Early Postcards',\n",
       " 'The Philosophy of Sex: Contemporary  Readings',\n",
       " 'A Gathering of Stones',\n",
       " \"Mémoires d'Agrippine\",\n",
       " 'The Camp-Out Mystery']"
      ]
     },
     "execution_count": 45,
     "metadata": {},
     "output_type": "execute_result"
    }
   ],
   "source": [
    "rating_and_review_base_recommendations('Breakfasts & Brunches', similarBooksIdListByNN)"
   ]
  },
  {
   "cell_type": "markdown",
   "id": "ac3587dd",
   "metadata": {},
   "source": [
    "<center><h3 style=\"font-size:30px; color:MidnightBlue;\">\"Save Trained Model\"</h3></center>"
   ]
  },
  {
   "cell_type": "code",
   "execution_count": 46,
   "id": "a2ef9a42",
   "metadata": {},
   "outputs": [],
   "source": [
    "with open('savedSimilarBooksIdListByNN.txt', 'wb') as model:\n",
    "    pickle.dump(similarBooksIdListByNN, model)\n",
    "    \n",
    "del min_max_scaler\n",
    "del features_kn\n",
    "del nnb\n",
    "del dist\n",
    "del similarBooksIdListByNN\n",
    "del plot_df"
   ]
  },
  {
   "cell_type": "markdown",
   "id": "8c9f8225",
   "metadata": {},
   "source": [
    "<center><h1 style=\"font-size:35px; color:green;\">3. Authors And Publisher Base Recommendation</h1></center>"
   ]
  },
  {
   "cell_type": "code",
   "execution_count": 47,
   "id": "0b15c327",
   "metadata": {},
   "outputs": [
    {
     "data": {
      "text/html": [
       "<div>\n",
       "<style scoped>\n",
       "    .dataframe tbody tr th:only-of-type {\n",
       "        vertical-align: middle;\n",
       "    }\n",
       "\n",
       "    .dataframe tbody tr th {\n",
       "        vertical-align: top;\n",
       "    }\n",
       "\n",
       "    .dataframe thead th {\n",
       "        text-align: right;\n",
       "    }\n",
       "</style>\n",
       "<table border=\"1\" class=\"dataframe\">\n",
       "  <thead>\n",
       "    <tr style=\"text-align: right;\">\n",
       "      <th></th>\n",
       "      <th>Name</th>\n",
       "      <th>Authors</th>\n",
       "      <th>Publisher</th>\n",
       "    </tr>\n",
       "  </thead>\n",
       "  <tbody>\n",
       "    <tr>\n",
       "      <th>0</th>\n",
       "      <td>Lessons Learned (Great Chefs, No2)</td>\n",
       "      <td>Nora Roberts</td>\n",
       "      <td>Silhouette</td>\n",
       "    </tr>\n",
       "    <tr>\n",
       "      <th>1</th>\n",
       "      <td>Spine-Chillers: Unforgettable Tales of Terror</td>\n",
       "      <td>Roger Elwood</td>\n",
       "      <td>Doubleday Books</td>\n",
       "    </tr>\n",
       "    <tr>\n",
       "      <th>2</th>\n",
       "      <td>The Air War: 1939-45</td>\n",
       "      <td>Richard Overy</td>\n",
       "      <td>Potomac Books</td>\n",
       "    </tr>\n",
       "    <tr>\n",
       "      <th>3</th>\n",
       "      <td>Justice at Nuremberg</td>\n",
       "      <td>Robert E. Conot</td>\n",
       "      <td>Basic Books</td>\n",
       "    </tr>\n",
       "    <tr>\n",
       "      <th>4</th>\n",
       "      <td>The Sun, the Genome and the Internet: Tools of Scientific Revolutions</td>\n",
       "      <td>Freeman Dyson</td>\n",
       "      <td>Oxford University Press, USA</td>\n",
       "    </tr>\n",
       "    <tr>\n",
       "      <th>...</th>\n",
       "      <td>...</td>\n",
       "      <td>...</td>\n",
       "      <td>...</td>\n",
       "    </tr>\n",
       "    <tr>\n",
       "      <th>24928</th>\n",
       "      <td>El Dia de Elmer / Elmer's Day (Spanish- English)</td>\n",
       "      <td>David McKee</td>\n",
       "      <td>Milet Publishing</td>\n",
       "    </tr>\n",
       "    <tr>\n",
       "      <th>24929</th>\n",
       "      <td>Elmer's Weather (English–Spanish)</td>\n",
       "      <td>David McKee</td>\n",
       "      <td>Milet Publishing</td>\n",
       "    </tr>\n",
       "    <tr>\n",
       "      <th>24930</th>\n",
       "      <td>Los Amigos de Elmer / Elmer's Friends (Spanish- English)</td>\n",
       "      <td>David McKee</td>\n",
       "      <td>Milet Publishing</td>\n",
       "    </tr>\n",
       "    <tr>\n",
       "      <th>24931</th>\n",
       "      <td>Journey Of The Adopted Self: A Quest For Wholeness</td>\n",
       "      <td>Betty Jean Lifton</td>\n",
       "      <td>Basic Books</td>\n",
       "    </tr>\n",
       "    <tr>\n",
       "      <th>24932</th>\n",
       "      <td>Gender Talk: The Struggle For Women's Equality in African American Communities</td>\n",
       "      <td>Johnnetta Betsch Cole</td>\n",
       "      <td>One World/Ballantine</td>\n",
       "    </tr>\n",
       "  </tbody>\n",
       "</table>\n",
       "<p>24933 rows × 3 columns</p>\n",
       "</div>"
      ],
      "text/plain": [
       "                                                                                 Name  \\\n",
       "0                                                  Lessons Learned (Great Chefs, No2)   \n",
       "1                                       Spine-Chillers: Unforgettable Tales of Terror   \n",
       "2                                                                The Air War: 1939-45   \n",
       "3                                                                Justice at Nuremberg   \n",
       "4               The Sun, the Genome and the Internet: Tools of Scientific Revolutions   \n",
       "...                                                                               ...   \n",
       "24928                                El Dia de Elmer / Elmer's Day (Spanish- English)   \n",
       "24929                                               Elmer's Weather (English–Spanish)   \n",
       "24930                        Los Amigos de Elmer / Elmer's Friends (Spanish- English)   \n",
       "24931                              Journey Of The Adopted Self: A Quest For Wholeness   \n",
       "24932  Gender Talk: The Struggle For Women's Equality in African American Communities   \n",
       "\n",
       "                     Authors                     Publisher  \n",
       "0               Nora Roberts                    Silhouette  \n",
       "1               Roger Elwood               Doubleday Books  \n",
       "2              Richard Overy                 Potomac Books  \n",
       "3            Robert E. Conot                   Basic Books  \n",
       "4              Freeman Dyson  Oxford University Press, USA  \n",
       "...                      ...                           ...  \n",
       "24928            David McKee              Milet Publishing  \n",
       "24929            David McKee              Milet Publishing  \n",
       "24930            David McKee              Milet Publishing  \n",
       "24931      Betty Jean Lifton                   Basic Books  \n",
       "24932  Johnnetta Betsch Cole          One World/Ballantine  \n",
       "\n",
       "[24933 rows x 3 columns]"
      ]
     },
     "execution_count": 47,
     "metadata": {},
     "output_type": "execute_result"
    }
   ],
   "source": [
    "pd.options.display.max_colwidth = 150\n",
    "books_df[['Name', 'Authors', 'Publisher']]"
   ]
  },
  {
   "cell_type": "code",
   "execution_count": 48,
   "id": "d6243a1d",
   "metadata": {},
   "outputs": [
    {
     "data": {
      "image/png": "[encoded data removed]",
      "text/plain": [
       "<Figure size 1152x576 with 1 Axes>"
      ]
     },
     "metadata": {
      "needs_background": "light"
     },
     "output_type": "display_data"
    }
   ],
   "source": [
    "df = books_df.copy()\n",
    "\n",
    "plot_df = df['Authors'].value_counts().head(20)\n",
    "title=\"Authors\"\n",
    "fig = plt.figure(figsize=(16,8))\n",
    "bar_plot = sns.barplot(x = plot_df, y=plot_df.index)\n",
    "for item in bar_plot.get_xticklabels():\n",
    "    item.set_rotation(90)\n",
    "plt.title(title)\n",
    "plt.show()"
   ]
  },
  {
   "cell_type": "code",
   "execution_count": 49,
   "id": "14f48c60",
   "metadata": {},
   "outputs": [
    {
     "data": {
      "image/png": "[encoded data removed]",
      "text/plain": [
       "<Figure size 1152x576 with 1 Axes>"
      ]
     },
     "metadata": {
      "needs_background": "light"
     },
     "output_type": "display_data"
    }
   ],
   "source": [
    "plot_df = df['Publisher'].value_counts().head(20)\n",
    "title=\"Publisher\"\n",
    "fig = plt.figure(figsize=(16,8))\n",
    "bar_plot = sns.barplot(x = plot_df, y = plot_df.index)\n",
    "for item in bar_plot.get_xticklabels():\n",
    "    item.set_rotation(90)\n",
    "plt.title(title)\n",
    "plt.show()"
   ]
  },
  {
   "cell_type": "code",
   "execution_count": 50,
   "id": "d20e4c3f",
   "metadata": {},
   "outputs": [],
   "source": [
    "df['Authors-Publisher'] = df['Authors'] + df['Publisher']"
   ]
  },
  {
   "cell_type": "markdown",
   "id": "c7271859",
   "metadata": {},
   "source": [
    "<center><h3 style=\"font-size:30px; color:MidnightBlue;\">\"Data Cleaning\"</h3></center>"
   ]
  },
  {
   "cell_type": "code",
   "execution_count": 51,
   "id": "e55b827c",
   "metadata": {},
   "outputs": [],
   "source": [
    "df['Authors-Publisher'] = df['Authors-Publisher'].map( lambda x: clean_text(x))"
   ]
  },
  {
   "cell_type": "markdown",
   "id": "dee6c67b",
   "metadata": {},
   "source": [
    "<center><h3 style=\"font-size:30px; color:MidnightBlue;\">\"Convert Into Feature Vector Using TfidfVectorizer\"</h3></center>"
   ]
  },
  {
   "cell_type": "code",
   "execution_count": 52,
   "id": "320a06a6",
   "metadata": {},
   "outputs": [
    {
     "name": "stdout",
     "output_type": "stream",
     "text": [
      "Parameters of TfidfVectorizer and its values:\n",
      "\t\t TfidfVectorizer(analyzer='char', lowercase=False, max_features=10000,\n",
      "                ngram_range=(1, 3), stop_words='english',\n",
      "                strip_accents='unicode', token_pattern='\\\\c{1,}')\n"
     ]
    },
    {
     "data": {
      "text/html": [
       "<div>\n",
       "<style scoped>\n",
       "    .dataframe tbody tr th:only-of-type {\n",
       "        vertical-align: middle;\n",
       "    }\n",
       "\n",
       "    .dataframe tbody tr th {\n",
       "        vertical-align: top;\n",
       "    }\n",
       "\n",
       "    .dataframe thead th {\n",
       "        text-align: right;\n",
       "    }\n",
       "</style>\n",
       "<table border=\"1\" class=\"dataframe\">\n",
       "  <thead>\n",
       "    <tr style=\"text-align: right;\">\n",
       "      <th></th>\n",
       "      <th></th>\n",
       "      <th>a</th>\n",
       "      <th>aa</th>\n",
       "      <th>ab</th>\n",
       "      <th>ac</th>\n",
       "      <th>ad</th>\n",
       "      <th>ae</th>\n",
       "      <th>af</th>\n",
       "      <th>ag</th>\n",
       "      <th>ah</th>\n",
       "      <th>...</th>\n",
       "      <th>zyn</th>\n",
       "      <th>zz</th>\n",
       "      <th>zz</th>\n",
       "      <th>zza</th>\n",
       "      <th>zze</th>\n",
       "      <th>zzi</th>\n",
       "      <th>zzl</th>\n",
       "      <th>zzo</th>\n",
       "      <th>zzu</th>\n",
       "      <th>zzy</th>\n",
       "    </tr>\n",
       "  </thead>\n",
       "  <tbody>\n",
       "    <tr>\n",
       "      <th>0</th>\n",
       "      <td>0.000000</td>\n",
       "      <td>0.0</td>\n",
       "      <td>0.0</td>\n",
       "      <td>0.0</td>\n",
       "      <td>0.0</td>\n",
       "      <td>0.0</td>\n",
       "      <td>0.0</td>\n",
       "      <td>0.0</td>\n",
       "      <td>0.0</td>\n",
       "      <td>0.0</td>\n",
       "      <td>...</td>\n",
       "      <td>0.0</td>\n",
       "      <td>0.0</td>\n",
       "      <td>0.0</td>\n",
       "      <td>0.0</td>\n",
       "      <td>0.0</td>\n",
       "      <td>0.0</td>\n",
       "      <td>0.0</td>\n",
       "      <td>0.0</td>\n",
       "      <td>0.0</td>\n",
       "      <td>0.0</td>\n",
       "    </tr>\n",
       "    <tr>\n",
       "      <th>1</th>\n",
       "      <td>0.062820</td>\n",
       "      <td>0.0</td>\n",
       "      <td>0.0</td>\n",
       "      <td>0.0</td>\n",
       "      <td>0.0</td>\n",
       "      <td>0.0</td>\n",
       "      <td>0.0</td>\n",
       "      <td>0.0</td>\n",
       "      <td>0.0</td>\n",
       "      <td>0.0</td>\n",
       "      <td>...</td>\n",
       "      <td>0.0</td>\n",
       "      <td>0.0</td>\n",
       "      <td>0.0</td>\n",
       "      <td>0.0</td>\n",
       "      <td>0.0</td>\n",
       "      <td>0.0</td>\n",
       "      <td>0.0</td>\n",
       "      <td>0.0</td>\n",
       "      <td>0.0</td>\n",
       "      <td>0.0</td>\n",
       "    </tr>\n",
       "    <tr>\n",
       "      <th>2</th>\n",
       "      <td>0.062806</td>\n",
       "      <td>0.0</td>\n",
       "      <td>0.0</td>\n",
       "      <td>0.0</td>\n",
       "      <td>0.0</td>\n",
       "      <td>0.0</td>\n",
       "      <td>0.0</td>\n",
       "      <td>0.0</td>\n",
       "      <td>0.0</td>\n",
       "      <td>0.0</td>\n",
       "      <td>...</td>\n",
       "      <td>0.0</td>\n",
       "      <td>0.0</td>\n",
       "      <td>0.0</td>\n",
       "      <td>0.0</td>\n",
       "      <td>0.0</td>\n",
       "      <td>0.0</td>\n",
       "      <td>0.0</td>\n",
       "      <td>0.0</td>\n",
       "      <td>0.0</td>\n",
       "      <td>0.0</td>\n",
       "    </tr>\n",
       "    <tr>\n",
       "      <th>3</th>\n",
       "      <td>0.069489</td>\n",
       "      <td>0.0</td>\n",
       "      <td>0.0</td>\n",
       "      <td>0.0</td>\n",
       "      <td>0.0</td>\n",
       "      <td>0.0</td>\n",
       "      <td>0.0</td>\n",
       "      <td>0.0</td>\n",
       "      <td>0.0</td>\n",
       "      <td>0.0</td>\n",
       "      <td>...</td>\n",
       "      <td>0.0</td>\n",
       "      <td>0.0</td>\n",
       "      <td>0.0</td>\n",
       "      <td>0.0</td>\n",
       "      <td>0.0</td>\n",
       "      <td>0.0</td>\n",
       "      <td>0.0</td>\n",
       "      <td>0.0</td>\n",
       "      <td>0.0</td>\n",
       "      <td>0.0</td>\n",
       "    </tr>\n",
       "    <tr>\n",
       "      <th>4</th>\n",
       "      <td>0.085882</td>\n",
       "      <td>0.0</td>\n",
       "      <td>0.0</td>\n",
       "      <td>0.0</td>\n",
       "      <td>0.0</td>\n",
       "      <td>0.0</td>\n",
       "      <td>0.0</td>\n",
       "      <td>0.0</td>\n",
       "      <td>0.0</td>\n",
       "      <td>0.0</td>\n",
       "      <td>...</td>\n",
       "      <td>0.0</td>\n",
       "      <td>0.0</td>\n",
       "      <td>0.0</td>\n",
       "      <td>0.0</td>\n",
       "      <td>0.0</td>\n",
       "      <td>0.0</td>\n",
       "      <td>0.0</td>\n",
       "      <td>0.0</td>\n",
       "      <td>0.0</td>\n",
       "      <td>0.0</td>\n",
       "    </tr>\n",
       "    <tr>\n",
       "      <th>...</th>\n",
       "      <td>...</td>\n",
       "      <td>...</td>\n",
       "      <td>...</td>\n",
       "      <td>...</td>\n",
       "      <td>...</td>\n",
       "      <td>...</td>\n",
       "      <td>...</td>\n",
       "      <td>...</td>\n",
       "      <td>...</td>\n",
       "      <td>...</td>\n",
       "      <td>...</td>\n",
       "      <td>...</td>\n",
       "      <td>...</td>\n",
       "      <td>...</td>\n",
       "      <td>...</td>\n",
       "      <td>...</td>\n",
       "      <td>...</td>\n",
       "      <td>...</td>\n",
       "      <td>...</td>\n",
       "      <td>...</td>\n",
       "      <td>...</td>\n",
       "    </tr>\n",
       "    <tr>\n",
       "      <th>24928</th>\n",
       "      <td>0.069383</td>\n",
       "      <td>0.0</td>\n",
       "      <td>0.0</td>\n",
       "      <td>0.0</td>\n",
       "      <td>0.0</td>\n",
       "      <td>0.0</td>\n",
       "      <td>0.0</td>\n",
       "      <td>0.0</td>\n",
       "      <td>0.0</td>\n",
       "      <td>0.0</td>\n",
       "      <td>...</td>\n",
       "      <td>0.0</td>\n",
       "      <td>0.0</td>\n",
       "      <td>0.0</td>\n",
       "      <td>0.0</td>\n",
       "      <td>0.0</td>\n",
       "      <td>0.0</td>\n",
       "      <td>0.0</td>\n",
       "      <td>0.0</td>\n",
       "      <td>0.0</td>\n",
       "      <td>0.0</td>\n",
       "    </tr>\n",
       "    <tr>\n",
       "      <th>24929</th>\n",
       "      <td>0.069383</td>\n",
       "      <td>0.0</td>\n",
       "      <td>0.0</td>\n",
       "      <td>0.0</td>\n",
       "      <td>0.0</td>\n",
       "      <td>0.0</td>\n",
       "      <td>0.0</td>\n",
       "      <td>0.0</td>\n",
       "      <td>0.0</td>\n",
       "      <td>0.0</td>\n",
       "      <td>...</td>\n",
       "      <td>0.0</td>\n",
       "      <td>0.0</td>\n",
       "      <td>0.0</td>\n",
       "      <td>0.0</td>\n",
       "      <td>0.0</td>\n",
       "      <td>0.0</td>\n",
       "      <td>0.0</td>\n",
       "      <td>0.0</td>\n",
       "      <td>0.0</td>\n",
       "      <td>0.0</td>\n",
       "    </tr>\n",
       "    <tr>\n",
       "      <th>24930</th>\n",
       "      <td>0.069383</td>\n",
       "      <td>0.0</td>\n",
       "      <td>0.0</td>\n",
       "      <td>0.0</td>\n",
       "      <td>0.0</td>\n",
       "      <td>0.0</td>\n",
       "      <td>0.0</td>\n",
       "      <td>0.0</td>\n",
       "      <td>0.0</td>\n",
       "      <td>0.0</td>\n",
       "      <td>...</td>\n",
       "      <td>0.0</td>\n",
       "      <td>0.0</td>\n",
       "      <td>0.0</td>\n",
       "      <td>0.0</td>\n",
       "      <td>0.0</td>\n",
       "      <td>0.0</td>\n",
       "      <td>0.0</td>\n",
       "      <td>0.0</td>\n",
       "      <td>0.0</td>\n",
       "      <td>0.0</td>\n",
       "    </tr>\n",
       "    <tr>\n",
       "      <th>24931</th>\n",
       "      <td>0.091135</td>\n",
       "      <td>0.0</td>\n",
       "      <td>0.0</td>\n",
       "      <td>0.0</td>\n",
       "      <td>0.0</td>\n",
       "      <td>0.0</td>\n",
       "      <td>0.0</td>\n",
       "      <td>0.0</td>\n",
       "      <td>0.0</td>\n",
       "      <td>0.0</td>\n",
       "      <td>...</td>\n",
       "      <td>0.0</td>\n",
       "      <td>0.0</td>\n",
       "      <td>0.0</td>\n",
       "      <td>0.0</td>\n",
       "      <td>0.0</td>\n",
       "      <td>0.0</td>\n",
       "      <td>0.0</td>\n",
       "      <td>0.0</td>\n",
       "      <td>0.0</td>\n",
       "      <td>0.0</td>\n",
       "    </tr>\n",
       "    <tr>\n",
       "      <th>24932</th>\n",
       "      <td>0.072174</td>\n",
       "      <td>0.0</td>\n",
       "      <td>0.0</td>\n",
       "      <td>0.0</td>\n",
       "      <td>0.0</td>\n",
       "      <td>0.0</td>\n",
       "      <td>0.0</td>\n",
       "      <td>0.0</td>\n",
       "      <td>0.0</td>\n",
       "      <td>0.0</td>\n",
       "      <td>...</td>\n",
       "      <td>0.0</td>\n",
       "      <td>0.0</td>\n",
       "      <td>0.0</td>\n",
       "      <td>0.0</td>\n",
       "      <td>0.0</td>\n",
       "      <td>0.0</td>\n",
       "      <td>0.0</td>\n",
       "      <td>0.0</td>\n",
       "      <td>0.0</td>\n",
       "      <td>0.0</td>\n",
       "    </tr>\n",
       "  </tbody>\n",
       "</table>\n",
       "<p>24933 rows × 9316 columns</p>\n",
       "</div>"
      ],
      "text/plain": [
       "                   a   aa   ab   ac   ad   ae   af   ag   ah  ...  zyn   zz  \\\n",
       "0      0.000000  0.0  0.0  0.0  0.0  0.0  0.0  0.0  0.0  0.0  ...  0.0  0.0   \n",
       "1      0.062820  0.0  0.0  0.0  0.0  0.0  0.0  0.0  0.0  0.0  ...  0.0  0.0   \n",
       "2      0.062806  0.0  0.0  0.0  0.0  0.0  0.0  0.0  0.0  0.0  ...  0.0  0.0   \n",
       "3      0.069489  0.0  0.0  0.0  0.0  0.0  0.0  0.0  0.0  0.0  ...  0.0  0.0   \n",
       "4      0.085882  0.0  0.0  0.0  0.0  0.0  0.0  0.0  0.0  0.0  ...  0.0  0.0   \n",
       "...         ...  ...  ...  ...  ...  ...  ...  ...  ...  ...  ...  ...  ...   \n",
       "24928  0.069383  0.0  0.0  0.0  0.0  0.0  0.0  0.0  0.0  0.0  ...  0.0  0.0   \n",
       "24929  0.069383  0.0  0.0  0.0  0.0  0.0  0.0  0.0  0.0  0.0  ...  0.0  0.0   \n",
       "24930  0.069383  0.0  0.0  0.0  0.0  0.0  0.0  0.0  0.0  0.0  ...  0.0  0.0   \n",
       "24931  0.091135  0.0  0.0  0.0  0.0  0.0  0.0  0.0  0.0  0.0  ...  0.0  0.0   \n",
       "24932  0.072174  0.0  0.0  0.0  0.0  0.0  0.0  0.0  0.0  0.0  ...  0.0  0.0   \n",
       "\n",
       "       zz   zza  zze  zzi  zzl  zzo  zzu  zzy  \n",
       "0      0.0  0.0  0.0  0.0  0.0  0.0  0.0  0.0  \n",
       "1      0.0  0.0  0.0  0.0  0.0  0.0  0.0  0.0  \n",
       "2      0.0  0.0  0.0  0.0  0.0  0.0  0.0  0.0  \n",
       "3      0.0  0.0  0.0  0.0  0.0  0.0  0.0  0.0  \n",
       "4      0.0  0.0  0.0  0.0  0.0  0.0  0.0  0.0  \n",
       "...    ...  ...  ...  ...  ...  ...  ...  ...  \n",
       "24928  0.0  0.0  0.0  0.0  0.0  0.0  0.0  0.0  \n",
       "24929  0.0  0.0  0.0  0.0  0.0  0.0  0.0  0.0  \n",
       "24930  0.0  0.0  0.0  0.0  0.0  0.0  0.0  0.0  \n",
       "24931  0.0  0.0  0.0  0.0  0.0  0.0  0.0  0.0  \n",
       "24932  0.0  0.0  0.0  0.0  0.0  0.0  0.0  0.0  \n",
       "\n",
       "[24933 rows x 9316 columns]"
      ]
     },
     "execution_count": 52,
     "metadata": {},
     "output_type": "execute_result"
    }
   ],
   "source": [
    "tfidf_char_n3gram = TfidfVectorizer(lowercase = False,\n",
    "                                    stop_words = 'english',\n",
    "                                    strip_accents='unicode', \n",
    "                                    analyzer='char',\n",
    "                                    token_pattern=r'\\c{1,}',\n",
    "                                    ngram_range=(1, 3),\n",
    "                                    max_features = 10000\n",
    "                                   )\n",
    "\n",
    "print(\"Parameters of TfidfVectorizer and its values:\\n\\t\\t\", tfidf_char_n3gram)\n",
    "ap_char_n3gram_vector = tfidf_char_n3gram.fit_transform(df['Authors-Publisher'])\n",
    "features = pd.DataFrame(ap_char_n3gram_vector.toarray(), columns = tfidf_char_n3gram.get_feature_names())\n",
    "features\n"
   ]
  },
  {
   "cell_type": "code",
   "execution_count": 53,
   "id": "f75d89e2",
   "metadata": {},
   "outputs": [
    {
     "data": {
      "image/png": "[encoded data removed]",
      "text/plain": [
       "<Figure size 1152x576 with 1 Axes>"
      ]
     },
     "metadata": {
      "needs_background": "light"
     },
     "output_type": "display_data"
    }
   ],
   "source": [
    "total_words = ap_char_n3gram_vector.sum(axis=0)\n",
    "frequency = [(word, total_words[0, idx]) for word, idx in tfidf_char_n3gram.vocabulary_.items()]\n",
    "frequency =sorted(frequency, key = lambda x: x[1], reverse=True)\n",
    "plot_df = pd.DataFrame(frequency)\n",
    "plot_df.rename(columns = {0:'Trigram', 1: 'Count'}, inplace = True) \n",
    "plot_df = plot_df.head(50)\n",
    "plot_df.plot(x ='Trigram', y='Count', kind = 'bar', title = \"Trigram Top 50 Feature\", figsize = (16,8), ); \n",
    "\n",
    "del plot_df\n",
    "del tfidf_char_n3gram\n",
    "del features\n",
    "del total_words\n",
    "del frequency"
   ]
  },
  {
   "cell_type": "markdown",
   "id": "981c0cad",
   "metadata": {},
   "source": [
    "<center><h3 style=\"font-size:30px; color:MidnightBlue;\">\"Use linear_kernel\"</h3></center>"
   ]
  },
  {
   "cell_type": "code",
   "execution_count": 54,
   "id": "8dcc1c5b",
   "metadata": {},
   "outputs": [
    {
     "name": "stdout",
     "output_type": "stream",
     "text": [
      "[1.         0.04864307 0.04719255 ... 0.00975363 0.0320731  0.06533905]\n"
     ]
    }
   ],
   "source": [
    "lk_AuthorsAndPublisher_n3gram = linear_kernel(ap_char_n3gram_vector, ap_char_n3gram_vector)\n",
    "print(lk_AuthorsAndPublisher_n3gram[0])"
   ]
  },
  {
   "cell_type": "markdown",
   "id": "6c7d6e18",
   "metadata": {},
   "source": [
    "<center><h3 style=\"font-size:30px; color:MidnightBlue;\">\"Function for Recomandation\"</h3></center>"
   ]
  },
  {
   "cell_type": "code",
   "execution_count": 55,
   "id": "866707d7",
   "metadata": {},
   "outputs": [],
   "source": [
    "def author_and_publisher_base_recommendations(name, model):\n",
    "    ids = indices[name]\n",
    "    model_scores = list(enumerate(model[ids]))    \n",
    "    model_scores = sorted(model_scores, key=lambda x: x[1], reverse=True)\n",
    "    model_scores = model_scores[1:14]   \n",
    "    recommendation_indices = [i[0] for i in model_scores]\n",
    "    print(recommendation_indices)\n",
    "    return books_df['Name'].iloc[recommendation_indices]"
   ]
  },
  {
   "cell_type": "code",
   "execution_count": 56,
   "id": "3c2c65ab",
   "metadata": {},
   "outputs": [
    {
     "name": "stdout",
     "output_type": "stream",
     "text": [
      "[18417, 18418, 2018, 7333, 17315, 1536, 2014, 2016, 2017, 10119, 12770, 14519, 17091]\n"
     ]
    },
    {
     "data": {
      "text/plain": [
       "18417                Arms and Equipment of the Confederacy\n",
       "18418                      Arms and Equipment of the Union\n",
       "2018     Voyages of Discovery, AD 1400 - 1500 (Time Frame)\n",
       "7333                   Ghosts (The Enchanted World Series)\n",
       "17315         Magical Justice (The Enchanted World Series)\n",
       "1536                                The Apparatus of Death\n",
       "2014            Transformations (Mysteries of the Unknown)\n",
       "2016                                     The Twisted Dream\n",
       "2017                                         Lightning War\n",
       "10119                                         Pasta Sauces\n",
       "12770                 Hauntings (Mysteries of the Unknown)\n",
       "14519     The Fall of Camelot (The Enchanted World Series)\n",
       "17091                                   The Southern Front\n",
       "Name: Name, dtype: object"
      ]
     },
     "execution_count": 56,
     "metadata": {},
     "output_type": "execute_result"
    }
   ],
   "source": [
    "author_and_publisher_base_recommendations('Breakfasts & Brunches', lk_AuthorsAndPublisher_n3gram)"
   ]
  },
  {
   "cell_type": "markdown",
   "id": "a305a590",
   "metadata": {},
   "source": [
    "<center><h3 style=\"font-size:30px; color:MidnightBlue;\">\"Save Trained Model\"</h3></center>"
   ]
  },
  {
   "cell_type": "code",
   "execution_count": 57,
   "id": "ac2e8d75",
   "metadata": {},
   "outputs": [],
   "source": [
    "with open('savedLinearKernelAuthorsAndPublisher_n3gram.txt', 'wb') as model:\n",
    "    pickle.dump(lk_AuthorsAndPublisher_n3gram, model)\n",
    "    \n",
    "del lk_AuthorsAndPublisher_n3gram"
   ]
  },
  {
   "cell_type": "markdown",
   "id": "71cb3f38",
   "metadata": {},
   "source": [
    "<center><h1 style=\"font-size:50px; color:green;\">Application Phase</h1></center>\n",
    "\n"
   ]
  },
  {
   "cell_type": "markdown",
   "id": "9d76c753",
   "metadata": {},
   "source": [
    "<center><h3 style=\"font-size:30px; color:MidnightBlue;\">\"Load Save Dataset And Model's\"</h3></center>"
   ]
  },
  {
   "cell_type": "code",
   "execution_count": 2,
   "id": "44460a7a",
   "metadata": {},
   "outputs": [],
   "source": [
    "import pickle\n",
    "import pandas as pd\n",
    "\n",
    "# Load Cleaned Data From Our CSV File\n",
    "books_df = pd.read_csv('books_cleaned_df.csv')\n",
    "indices = pd.Series(books_df.index, index=books_df['Name']).drop_duplicates()\n",
    "indices\n",
    "\n",
    "# Load Description Base Recommandation Model\n",
    "with open('savedSigmoidKernelDescriptionTrigram.txt', 'rb') as model:\n",
    "    savedSigmoidKernelDescriptionTrigram_model = pickle.load(model)\n",
    "\n",
    "# Load Rating and Review Base Recommendation Model\n",
    "with open('savedSimilarBooksIdListByNN.txt', 'rb') as model:\n",
    "    savedSimilarBooksIdListByNN_model = pickle.load(model)\n",
    "    \n",
    "# Load Authors And Publisher Base Recommendation Model\n",
    "with open('savedLinearKernelAuthorsAndPublisher_n3gram.txt', 'rb') as model:\n",
    "    savedLinearKernelAuthorsAndPublisher_n3gram_model = pickle.load(model)\n"
   ]
  },
  {
   "cell_type": "markdown",
   "id": "cd983374",
   "metadata": {},
   "source": [
    "<center><h3 style=\"font-size:30px; color:MidnightBlue;\">\"Define All Functions For Application Phase\"</h3></center>"
   ]
  },
  {
   "cell_type": "code",
   "execution_count": 3,
   "id": "27e7c83e",
   "metadata": {},
   "outputs": [],
   "source": [
    "# function for Description Base Recommendation\n",
    "def description_base_recommendations(name, model):\n",
    "    ids = indices[name]\n",
    "    model_scores = list(enumerate(model[ids]))    \n",
    "    model_scores = sorted(model_scores, key=lambda x: x[1], reverse=True)\n",
    "    model_scores = model_scores[1:14]   \n",
    "    recommendation_indices = [i[0] for i in model_scores]\n",
    "    print(recommendation_indices)\n",
    "    return books_df['Name'].iloc[recommendation_indices]\n",
    "\n",
    "\n",
    "# function for Rating and Review Base Recommendation\n",
    "def rating_and_review_base_recommendations(name, similarBooks):\n",
    "    book_list_name = []\n",
    "    bookId = books_df[books_df['Name'] == name].index\n",
    "    bookId = bookId[0]\n",
    "    for newid in similarBooks[bookId]:\n",
    "        book_list_name.append(books_df.loc[newid].Name)\n",
    "    return book_list_name\n",
    "\n",
    "\n",
    "# function for Authors And Publisher Base Recommendation\n",
    "def author_and_publisher_base_recommendations(name, model):\n",
    "    ids = indices[name]\n",
    "    model_scores = list(enumerate(model[ids]))    \n",
    "    model_scores = sorted(model_scores, key=lambda x: x[1], reverse=True)\n",
    "    model_scores = model_scores[1:14]   \n",
    "    recommendation_indices = [i[0] for i in model_scores]\n",
    "    print(recommendation_indices)\n",
    "    return books_df['Name'].iloc[recommendation_indices]"
   ]
  },
  {
   "cell_type": "markdown",
   "id": "ef5a114b",
   "metadata": {},
   "source": [
    "<center><h3 style=\"font-size:30px; color:MidnightBlue;\">\"Test Loaded Model's\"</h3></center>"
   ]
  },
  {
   "cell_type": "markdown",
   "id": "2c5d4a5a",
   "metadata": {},
   "source": [
    "### 1. Test Description Base Recommandation Model"
   ]
  },
  {
   "cell_type": "code",
   "execution_count": 4,
   "id": "0c1d931c",
   "metadata": {},
   "outputs": [
    {
     "name": "stdout",
     "output_type": "stream",
     "text": [
      "[18116, 3900, 10250, 360, 7164, 16181, 23472, 10956, 13799, 19110, 8670, 19665, 15351]\n"
     ]
    },
    {
     "data": {
      "text/plain": [
       "18116     Cooking in a Can: More Campfire Recipes for Kids\n",
       "3900     The Magic of Fire: Hearth Cooking: One Hundred...\n",
       "10250    Cooking From the Hip: Fast, Easy, Phenomenal M...\n",
       "360      How to Cook Everything: Simple Recipes for Gre...\n",
       "7164                          Market Microstructure Theory\n",
       "16181                                 Settlement Cook Book\n",
       "23472    Santa Fe School of Cooking Cookbook: Spirited ...\n",
       "10956                  The Complete Cooking Light Cookbook\n",
       "13799                               Gigolos Get Lonely Too\n",
       "19110    Eula Mae's Cajun Kitchen: Cooking Through the ...\n",
       "8670                           A French Chef Cooks at Home\n",
       "19665                             Paul Bunyan, a Tall Tale\n",
       "15351                         The Book of Japanese Cooking\n",
       "Name: Name, dtype: object"
      ]
     },
     "execution_count": 4,
     "metadata": {},
     "output_type": "execute_result"
    }
   ],
   "source": [
    "description_base_recommendations('Breakfasts & Brunches', savedSigmoidKernelDescriptionTrigram_model)"
   ]
  },
  {
   "cell_type": "markdown",
   "id": "4bcb301f",
   "metadata": {},
   "source": [
    "### 2. Test Rating and Review Base Recommendation Model"
   ]
  },
  {
   "cell_type": "code",
   "execution_count": 5,
   "id": "d8ce5b05",
   "metadata": {},
   "outputs": [
    {
     "data": {
      "text/plain": [
       "[\"Woman Of Innocence (Morgan's Mercenaries: Women of Destiny No1, Morgan's Mercenaries No19)\",\n",
       " 'Singapore: 500 Early Postcards',\n",
       " 'The Philosophy of Sex: Contemporary  Readings',\n",
       " 'A Gathering of Stones',\n",
       " \"Mémoires d'Agrippine\",\n",
       " 'The Camp-Out Mystery']"
      ]
     },
     "execution_count": 5,
     "metadata": {},
     "output_type": "execute_result"
    }
   ],
   "source": [
    "rating_and_review_base_recommendations('Breakfasts & Brunches', savedSimilarBooksIdListByNN_model)"
   ]
  },
  {
   "cell_type": "markdown",
   "id": "049d40eb",
   "metadata": {},
   "source": [
    "### 3. Authors And Publisher Base Recommendation"
   ]
  },
  {
   "cell_type": "code",
   "execution_count": 6,
   "id": "c4baa2b1",
   "metadata": {},
   "outputs": [
    {
     "name": "stdout",
     "output_type": "stream",
     "text": [
      "[18417, 18418, 2018, 7333, 17315, 1536, 2014, 2016, 2017, 10119, 12770, 14519, 17091]\n"
     ]
    },
    {
     "data": {
      "text/plain": [
       "18417                Arms and Equipment of the Confederacy\n",
       "18418                      Arms and Equipment of the Union\n",
       "2018     Voyages of Discovery, AD 1400 - 1500 (Time Frame)\n",
       "7333                   Ghosts (The Enchanted World Series)\n",
       "17315         Magical Justice (The Enchanted World Series)\n",
       "1536                                The Apparatus of Death\n",
       "2014            Transformations (Mysteries of the Unknown)\n",
       "2016                                     The Twisted Dream\n",
       "2017                                         Lightning War\n",
       "10119                                         Pasta Sauces\n",
       "12770                 Hauntings (Mysteries of the Unknown)\n",
       "14519     The Fall of Camelot (The Enchanted World Series)\n",
       "17091                                   The Southern Front\n",
       "Name: Name, dtype: object"
      ]
     },
     "execution_count": 6,
     "metadata": {},
     "output_type": "execute_result"
    }
   ],
   "source": [
    "author_and_publisher_base_recommendations('Breakfasts & Brunches', savedLinearKernelAuthorsAndPublisher_n3gram_model)"
   ]
  },
  {
   "cell_type": "markdown",
   "id": "f625615e",
   "metadata": {},
   "source": [
    "<center><h3 style=\"font-size:30px; color:MidnightBlue;\">\"Generate API Using Flask\"</h3></center>"
   ]
  },
  {
   "cell_type": "code",
   "execution_count": null,
   "id": "9cc14ed4",
   "metadata": {},
   "outputs": [
    {
     "name": "stdout",
     "output_type": "stream",
     "text": [
      " * Serving Flask app \"__main__\" (lazy loading)\n",
      " * Environment: production\n",
      "   WARNING: This is a development server. Do not use it in a production deployment.\n",
      "   Use a production WSGI server instead.\n",
      " * Debug mode: off\n"
     ]
    },
    {
     "name": "stderr",
     "output_type": "stream",
     "text": [
      " * Running on http://127.0.0.1:5000/ (Press CTRL+C to quit)\n"
     ]
    },
    {
     "name": "stdout",
     "output_type": "stream",
     "text": [
      " * Running on http://c579f72fe9b5.ngrok.io\n",
      " * Traffic stats available on http://127.0.0.1:4040\n"
     ]
    },
    {
     "name": "stderr",
     "output_type": "stream",
     "text": [
      "127.0.0.1 - - [09/Jun/2021 01:17:44] \"\u001b[33mGET / HTTP/1.1\u001b[0m\" 404 -\n",
      "127.0.0.1 - - [09/Jun/2021 01:17:44] \"\u001b[33mGET /favicon.ico HTTP/1.1\u001b[0m\" 404 -\n",
      "127.0.0.1 - - [09/Jun/2021 01:18:06] \"\u001b[37mGET /2/Breakfasts%20&%20Brunches HTTP/1.1\u001b[0m\" 200 -\n",
      "127.0.0.1 - - [09/Jun/2021 01:18:13] \"\u001b[37mGET /1/Breakfasts%20&%20Brunches HTTP/1.1\u001b[0m\" 200 -\n"
     ]
    },
    {
     "name": "stdout",
     "output_type": "stream",
     "text": [
      "[18116, 3900, 10250, 360, 7164, 16181, 23472, 10956, 13799, 19110, 8670, 19665, 15351]\n"
     ]
    },
    {
     "name": "stderr",
     "output_type": "stream",
     "text": [
      "127.0.0.1 - - [09/Jun/2021 01:18:18] \"\u001b[37mGET /3/Breakfasts%20&%20Brunches HTTP/1.1\u001b[0m\" 200 -\n"
     ]
    },
    {
     "name": "stdout",
     "output_type": "stream",
     "text": [
      "[18417, 18418, 2018, 7333, 17315, 1536, 2014, 2016, 2017, 10119, 12770, 14519, 17091]\n"
     ]
    }
   ],
   "source": [
    "# !pip install flask-ngrok\n",
    "\n",
    "from flask_ngrok import run_with_ngrok\n",
    "from flask import Flask,jsonify\n",
    "app =Flask(__name__)\n",
    "run_with_ngrok(app) #starts ngrok when the app is running\n",
    "@app.route(\"/<int:fid>/<title>\")\n",
    "def home(fid, title):\n",
    "    recommendations_list = []\n",
    "    if (fid == 1):\n",
    "        recommendations_list = description_base_recommendations(str(title), savedSigmoidKernelDescriptionTrigram_model)\n",
    "    if (fid == 2):\n",
    "        recommendations_list = rating_and_review_base_recommendations(str(title), savedSimilarBooksIdListByNN_model)\n",
    "    if (fid == 3):\n",
    "        recommendations_list = author_and_publisher_base_recommendations(str(title), savedLinearKernelAuthorsAndPublisher_n3gram_model)\n",
    "    ste=''\n",
    "    for v in recommendations_list:\n",
    "        ste+=v+' @ '\n",
    "    return jsonify(ste)\n",
    "app.run()"
   ]
  },
  {
   "cell_type": "code",
   "execution_count": null,
   "id": "b055bc95",
   "metadata": {},
   "outputs": [],
   "source": []
  }
 ],
 "metadata": {
  "kernelspec": {
   "display_name": "Python 3",
   "language": "python",
   "name": "python3"
  },
  "language_info": {
   "codemirror_mode": {
    "name": "ipython",
    "version": 3
   },
   "file_extension": ".py",
   "mimetype": "text/x-python",
   "name": "python",
   "nbconvert_exporter": "python",
   "pygments_lexer": "ipython3",
   "version": "3.8.5"
  },
  "toc": {
   "base_numbering": 1,
   "nav_menu": {},
   "number_sections": true,
   "sideBar": true,
   "skip_h1_title": false,
   "title_cell": "Table of Contents",
   "title_sidebar": "Contents",
   "toc_cell": false,
   "toc_position": {},
   "toc_section_display": true,
   "toc_window_display": false
  }
 },
 "nbformat": 4,
 "nbformat_minor": 5
}
