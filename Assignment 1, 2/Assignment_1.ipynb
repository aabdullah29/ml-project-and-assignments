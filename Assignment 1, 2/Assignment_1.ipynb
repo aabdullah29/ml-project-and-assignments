{
 "cells": [
  {
   "cell_type": "markdown",
   "metadata": {},
   "source": [
    "***\n",
    "\n",
    "# <center><font size=\"10\" color='Blue'>Machine Learning </font></center>\n",
    "\n",
    "\n",
    "# <center><font size=\"6\" color='Blue'>Assignment 1 and 2</font></center>\n",
    "\n",
    "# <center><font size=\"6\" color='Blue'>F2019027004</font></center>\n",
    "\n",
    "# <center><font size=\"6\" color='Blue'>Muhammad Abdullah Shahid</font></center>\n",
    "\n",
    "***"
   ]
  },
  {
   "cell_type": "markdown",
   "metadata": {},
   "source": [
    "***\n",
    "\n",
    "\n",
    "# <center><font size=\"10\" color='red'>Table of Contents</font></center>\n",
    "\n",
    "### <font color='blue'>1. Introduction</font>\n",
    "### <font color='blue'>2. Data Types</font>\n",
    "    2.1 Variables \n",
    "    2.2 Numbers \n",
    "    2.3 Strings \n",
    "    2.4 Lists \n",
    "    2.5 Dictionaries\n",
    "    2.6 Tuples\n",
    "    2.7 Sets \n",
    "### <font color='blue'>3. Comparison Operators</font>\n",
    "### <font color='blue'>4. If-Else Statements</font>\n",
    "### <font color='blue'>5. For & While Loop</font>\n",
    "### <font color='blue'>6. Functions</font>\n",
    "### <font color='blue'>7. Lambda Functions</font>\n",
    "    7.1 Map()\n",
    "    7.2 filter()\n",
    "### <font color='blue'>8. File I/O</font>\n",
    "### <font color='blue'>9. Pandas Library Introduction</font>\n",
    "### <font color='blue'>10. Series</font>\n",
    "    10.1 From ndarray\n",
    "    10.2 From dict\n",
    "    10.3 From Scalar value\n",
    "    10.4 Series is ndarray-like\n",
    "    10.5 Series is dict-like\n",
    "    10.6 Vectorized operations and label alignment with Series\n",
    "    10.7 Name Attribute\n",
    "### <font color='blue'>11. Data Frames</font>\n",
    "    11.1 From dict of Series or dicts\n",
    "    11.2 From dict of ndarrays / lists\n",
    "    11.3 From a list of dicts\n",
    "    11.4 From a dict of tuples\n",
    "    11.5 Alternate Constructors\n",
    "### <font color='blue'>12. Viewing Data</font>\n",
    "<br>\n",
    "<br>\n",
    "<br>\n",
    "<br>\n",
    "\n"
   ]
  },
  {
   "cell_type": "markdown",
   "metadata": {},
   "source": [
    "***\n",
    "\n",
    "# <center><font size=\"8\" color='red'>1. Introduction</font></center>\n",
    "- Python has gathered alot of appreciation as a choice of language for Data Analytics.\n",
    "- Open Source and Free to install.\n",
    "- Awesome online community.\n",
    "- Very easy to learn.\n",
    "- It can become common language for data science.\n",
    "- It can also become a common language for production of web based analytics products.\n",
    "- As it is interpreted programming language so it is easier to implement.\n",
    "- Compilation is not required, execution process can be done directly.\n",
    "\n",
    "<br>\n",
    "<br>\n",
    "<br>\n"
   ]
  },
  {
   "cell_type": "markdown",
   "metadata": {},
   "source": [
    "***\n",
    "\n",
    "# <center><font size=\"8\" color='red'>2 Data Types</font></center>\n",
    "Tthere are some datatype that we use in python. "
   ]
  },
  {
   "cell_type": "markdown",
   "metadata": {},
   "source": [
    "# <font color='blue'>2.1 Variables</font>\n",
    "<ul> \n",
    "<li> In Python we cannot diclear variable python is a very intelligent language it's autometic detect an variable and it's data type also by assigning value and variables occupy memory space in runtype.</li>\n",
    "<li> The type of the variable will be decided after assigning the value to it.</li>\n",
    "</ul>"
   ]
  },
  {
   "cell_type": "markdown",
   "metadata": {},
   "source": [
    "### <font color='orange'>Example 1:</font>\n",
    "\n",
    "<font color='#094B91'> In this example we diclare 3 variable 1st is counter, 2nd is miles and 3rd is name but when we pass the value than these variables occupy the space in memory according their data type. <font>"
   ]
  },
  {
   "cell_type": "code",
   "execution_count": 1,
   "metadata": {},
   "outputs": [
    {
     "name": "stdout",
     "output_type": "stream",
     "text": [
      "100.0\n",
      "100\n",
      "Mehvish\n"
     ]
    }
   ],
   "source": [
    "counter = 100.00 #float type variable\n",
    "miles = 100 #integer type variable\n",
    "name = \"Mehvish\" #string type variable\n",
    "#print all values\n",
    "print (counter)\n",
    "print (miles)\n",
    "print (name)\n"
   ]
  },
  {
   "cell_type": "markdown",
   "metadata": {},
   "source": [
    "### <font color='orange'>Example 2:</font>\n",
    "\n",
    "<font color='#094B91'> In this example we also diclare 3 variable pass the values and than check their data type by type() method."
   ]
  },
  {
   "cell_type": "code",
   "execution_count": 2,
   "metadata": {},
   "outputs": [
    {
     "name": "stdout",
     "output_type": "stream",
     "text": [
      "Data type is:  <class 'str'> \t and Value is : Abdullah\n",
      "Data type is:  <class 'int'> \t and Value is : 20\n",
      "Data type is:  <class 'float'> \t and Value is : 10.5\n"
     ]
    }
   ],
   "source": [
    "v_myname = 'Abdullah' #we pass string so this will be come string variable\n",
    "v_intiger = 20 #pass intiger\n",
    "v_float = 10.5 #float\n",
    "#print all values\n",
    "\n",
    "print (\"Data type is: \" , type(v_myname), \"\\t and Value is :\", v_myname )\n",
    "print (\"Data type is: \" , type(v_intiger), \"\\t and Value is :\", v_intiger )\n",
    "print (\"Data type is: \" , type(v_float), \"\\t and Value is :\", v_float )"
   ]
  },
  {
   "cell_type": "markdown",
   "metadata": {},
   "source": [
    "### <font color='orange'>Example 3:</font>\n",
    "\n",
    "<font color='#094B91'> In this example we check datatype and print their value and datatype by placeholder technique using formate() method"
   ]
  },
  {
   "cell_type": "code",
   "execution_count": 3,
   "metadata": {},
   "outputs": [
    {
     "name": "stdout",
     "output_type": "stream",
     "text": [
      "Value is : Shahid \t and Data type is:  <class 'str'>\n",
      "Value is : 24 \t \t and Data type is:  <class 'int'>\n",
      "Value is : 20.5 \t and Data type is:  <class 'float'>\n"
     ]
    }
   ],
   "source": [
    "num1 = 'Shahid' #we pass string so this will be come string variable\n",
    "num2 = 24 #pass intiger\n",
    "num3 = 20.5 #float\n",
    "#print all values\n",
    "\n",
    "print (\"Value is : {0} \\t and Data type is: \".format(num1) , type(num1))\n",
    "print (\"Value is : {0} \\t \\t and Data type is: \".format(num2) , type(num2))\n",
    "print (\"Value is : {0} \\t and Data type is: \".format(num3) , type(num3))"
   ]
  },
  {
   "cell_type": "markdown",
   "metadata": {},
   "source": [
    "<br>\n",
    "\n",
    "***"
   ]
  },
  {
   "cell_type": "markdown",
   "metadata": {},
   "source": [
    "# <font color='blue'>2.2 Numbers</font>\n",
    "<ul>\n",
    "<li>This data type stores numeric values.</li>\n",
    "<li>They are immutable data types (Means changing the value of Number data type will results in a newly allocated object).</li>\n",
    "Some examples are given below"
   ]
  },
  {
   "cell_type": "markdown",
   "metadata": {},
   "source": [
    "### <font color='orange'>Example 1:</font>\n",
    "\n",
    "<font color='#094B91'> In this example we just disply numaric value and perform sume operation on is than (we can add two integer and float values and we can do all math operation ion them)."
   ]
  },
  {
   "cell_type": "code",
   "execution_count": 4,
   "metadata": {},
   "outputs": [
    {
     "data": {
      "text/plain": [
       "2"
      ]
     },
     "execution_count": 4,
     "metadata": {},
     "output_type": "execute_result"
    }
   ],
   "source": [
    "2  #integer"
   ]
  },
  {
   "cell_type": "code",
   "execution_count": 5,
   "metadata": {},
   "outputs": [
    {
     "data": {
      "text/plain": [
       "5"
      ]
     },
     "execution_count": 5,
     "metadata": {},
     "output_type": "execute_result"
    }
   ],
   "source": [
    " 2+3 #integer"
   ]
  },
  {
   "cell_type": "code",
   "execution_count": 6,
   "metadata": {},
   "outputs": [
    {
     "data": {
      "text/plain": [
       "7.8"
      ]
     },
     "execution_count": 6,
     "metadata": {},
     "output_type": "execute_result"
    }
   ],
   "source": [
    " 2.3+5.5 #float"
   ]
  },
  {
   "cell_type": "code",
   "execution_count": 7,
   "metadata": {},
   "outputs": [
    {
     "data": {
      "text/plain": [
       "4"
      ]
     },
     "execution_count": 7,
     "metadata": {},
     "output_type": "execute_result"
    }
   ],
   "source": [
    " 2**2 #exponent"
   ]
  },
  {
   "cell_type": "markdown",
   "metadata": {},
   "source": [
    "### <font color='orange'>Example 2:</font>\n",
    "\n",
    "<font color='#094B91'> In this example we just disply numaric value and perform sume operation on is than showing their data type."
   ]
  },
  {
   "cell_type": "code",
   "execution_count": 8,
   "metadata": {},
   "outputs": [
    {
     "data": {
      "text/plain": [
       "10"
      ]
     },
     "execution_count": 8,
     "metadata": {},
     "output_type": "execute_result"
    }
   ],
   "source": [
    "10"
   ]
  },
  {
   "cell_type": "code",
   "execution_count": 9,
   "metadata": {},
   "outputs": [
    {
     "data": {
      "text/plain": [
       "int"
      ]
     },
     "execution_count": 9,
     "metadata": {},
     "output_type": "execute_result"
    }
   ],
   "source": [
    "type(10)"
   ]
  },
  {
   "cell_type": "code",
   "execution_count": 10,
   "metadata": {},
   "outputs": [
    {
     "data": {
      "text/plain": [
       "30"
      ]
     },
     "execution_count": 10,
     "metadata": {},
     "output_type": "execute_result"
    }
   ],
   "source": [
    "10+20"
   ]
  },
  {
   "cell_type": "code",
   "execution_count": 11,
   "metadata": {},
   "outputs": [
    {
     "data": {
      "text/plain": [
       "int"
      ]
     },
     "execution_count": 11,
     "metadata": {},
     "output_type": "execute_result"
    }
   ],
   "source": [
    "type(10+20)"
   ]
  },
  {
   "cell_type": "code",
   "execution_count": 12,
   "metadata": {},
   "outputs": [
    {
     "data": {
      "text/plain": [
       "5.5"
      ]
     },
     "execution_count": 12,
     "metadata": {},
     "output_type": "execute_result"
    }
   ],
   "source": [
    "5.5"
   ]
  },
  {
   "cell_type": "code",
   "execution_count": 13,
   "metadata": {},
   "outputs": [
    {
     "data": {
      "text/plain": [
       "float"
      ]
     },
     "execution_count": 13,
     "metadata": {},
     "output_type": "execute_result"
    }
   ],
   "source": [
    "type(5.5)"
   ]
  },
  {
   "cell_type": "code",
   "execution_count": 14,
   "metadata": {},
   "outputs": [
    {
     "data": {
      "text/plain": [
       "12.1"
      ]
     },
     "execution_count": 14,
     "metadata": {},
     "output_type": "execute_result"
    }
   ],
   "source": [
    "5.5 + 6.6"
   ]
  },
  {
   "cell_type": "code",
   "execution_count": 15,
   "metadata": {},
   "outputs": [
    {
     "data": {
      "text/plain": [
       "float"
      ]
     },
     "execution_count": 15,
     "metadata": {},
     "output_type": "execute_result"
    }
   ],
   "source": [
    "type(5.5 + 6.6)"
   ]
  },
  {
   "cell_type": "code",
   "execution_count": 16,
   "metadata": {},
   "outputs": [
    {
     "data": {
      "text/plain": [
       "8.5"
      ]
     },
     "execution_count": 16,
     "metadata": {},
     "output_type": "execute_result"
    }
   ],
   "source": [
    "5.5 + 3"
   ]
  },
  {
   "cell_type": "code",
   "execution_count": 17,
   "metadata": {},
   "outputs": [
    {
     "data": {
      "text/plain": [
       "float"
      ]
     },
     "execution_count": 17,
     "metadata": {},
     "output_type": "execute_result"
    }
   ],
   "source": [
    "type(5.5 + 3)"
   ]
  },
  {
   "cell_type": "code",
   "execution_count": 18,
   "metadata": {},
   "outputs": [
    {
     "data": {
      "text/plain": [
       "140000.0"
      ]
     },
     "execution_count": 18,
     "metadata": {},
     "output_type": "execute_result"
    }
   ],
   "source": [
    "14E4"
   ]
  },
  {
   "cell_type": "code",
   "execution_count": 19,
   "metadata": {},
   "outputs": [
    {
     "data": {
      "text/plain": [
       "float"
      ]
     },
     "execution_count": 19,
     "metadata": {},
     "output_type": "execute_result"
    }
   ],
   "source": [
    "type(14E4)"
   ]
  },
  {
   "cell_type": "code",
   "execution_count": 20,
   "metadata": {},
   "outputs": [
    {
     "data": {
      "text/plain": [
       "27"
      ]
     },
     "execution_count": 20,
     "metadata": {},
     "output_type": "execute_result"
    }
   ],
   "source": [
    "3**3"
   ]
  },
  {
   "cell_type": "code",
   "execution_count": 21,
   "metadata": {},
   "outputs": [
    {
     "data": {
      "text/plain": [
       "5j"
      ]
     },
     "execution_count": 21,
     "metadata": {},
     "output_type": "execute_result"
    }
   ],
   "source": [
    "2j + 3j"
   ]
  },
  {
   "cell_type": "code",
   "execution_count": 22,
   "metadata": {},
   "outputs": [
    {
     "data": {
      "text/plain": [
       "complex"
      ]
     },
     "execution_count": 22,
     "metadata": {},
     "output_type": "execute_result"
    }
   ],
   "source": [
    "type(2j + 3j)"
   ]
  },
  {
   "cell_type": "markdown",
   "metadata": {},
   "source": [
    "### <font color='orange'>Example 3:</font>\n",
    "\n",
    "<font color='#094B91'>In this exame we perform some math operation on numaric data type like integer, float and complex number"
   ]
  },
  {
   "cell_type": "code",
   "execution_count": 23,
   "metadata": {},
   "outputs": [
    {
     "data": {
      "text/plain": [
       "5"
      ]
     },
     "execution_count": 23,
     "metadata": {},
     "output_type": "execute_result"
    }
   ],
   "source": [
    "5 #int"
   ]
  },
  {
   "cell_type": "code",
   "execution_count": 24,
   "metadata": {},
   "outputs": [
    {
     "data": {
      "text/plain": [
       "5.8"
      ]
     },
     "execution_count": 24,
     "metadata": {},
     "output_type": "execute_result"
    }
   ],
   "source": [
    "5.8  # float"
   ]
  },
  {
   "cell_type": "code",
   "execution_count": 25,
   "metadata": {},
   "outputs": [
    {
     "data": {
      "text/plain": [
       "5j"
      ]
     },
     "execution_count": 25,
     "metadata": {},
     "output_type": "execute_result"
    }
   ],
   "source": [
    "5j   # complex"
   ]
  },
  {
   "cell_type": "code",
   "execution_count": 26,
   "metadata": {},
   "outputs": [
    {
     "data": {
      "text/plain": [
       "-5555522"
      ]
     },
     "execution_count": 26,
     "metadata": {},
     "output_type": "execute_result"
    }
   ],
   "source": [
    "-5555522 #int"
   ]
  },
  {
   "cell_type": "code",
   "execution_count": 27,
   "metadata": {},
   "outputs": [
    {
     "data": {
      "text/plain": [
       "180000.0"
      ]
     },
     "execution_count": 27,
     "metadata": {},
     "output_type": "execute_result"
    }
   ],
   "source": [
    "18E4 #float"
   ]
  },
  {
   "cell_type": "code",
   "execution_count": 28,
   "metadata": {},
   "outputs": [
    {
     "data": {
      "text/plain": [
       "(-0-15j)"
      ]
     },
     "execution_count": 28,
     "metadata": {},
     "output_type": "execute_result"
    }
   ],
   "source": [
    "-15j"
   ]
  },
  {
   "cell_type": "markdown",
   "metadata": {},
   "source": [
    "<br>\n",
    "\n",
    "***"
   ]
  },
  {
   "cell_type": "markdown",
   "metadata": {},
   "source": [
    "# <font color='blue'>2.3 Strings</font>\n",
    "- String data types are used to store words or combination of words having letters, numbers, special characters etc.\n",
    "- It can be stored by enclosing within single qoutes ('some string') and double qoutes (\"some string\") also.\n",
    "- Python doesn't support char data type. It will be as String of length one in Python.\n"
   ]
  },
  {
   "cell_type": "markdown",
   "metadata": {},
   "source": [
    "### <font color='orange'>Example 1:</font>\n",
    "\n",
    "<font color='#094B91'> In this example we simpal pass a string value to a variable with two technique by single qoutes and double qoutes."
   ]
  },
  {
   "cell_type": "code",
   "execution_count": 29,
   "metadata": {},
   "outputs": [
    {
     "name": "stdout",
     "output_type": "stream",
     "text": [
      "Mehvish COMSATS\n"
     ]
    }
   ],
   "source": [
    "name = 'Mehvish'\n",
    "university = \"COMSATS\"\n",
    "print(name,university)"
   ]
  },
  {
   "cell_type": "markdown",
   "metadata": {},
   "source": [
    "### <font color='orange'>Example 2:</font>\n",
    "\n",
    "<font color='#094B91'> In this example we simpal pass some string value to a variable with two technique by single qoutes and double qoutes. and than display the values of these variables by print() method."
   ]
  },
  {
   "cell_type": "code",
   "execution_count": 30,
   "metadata": {},
   "outputs": [
    {
     "name": "stdout",
     "output_type": "stream",
     "text": [
      "Muhammad Abdullah Shahid \n",
      " My University name is UMT\n"
     ]
    }
   ],
   "source": [
    "fname = 'Muhammad'\n",
    "mname = 'Abdullah'\n",
    "lname = 'Shahid'\n",
    "universityName = \"\\n My University name is UMT\"\n",
    "\n",
    "print(fname,mname,lname,universityName)"
   ]
  },
  {
   "cell_type": "markdown",
   "metadata": {},
   "source": [
    "### <font color='orange'>Example 3:</font>\n",
    "\n",
    "<font color='#094B91'> In this example we also pass some string value to a variable with two technique by single qoutes and double qoutes. and than display the values of these variables by print() method."
   ]
  },
  {
   "cell_type": "code",
   "execution_count": 31,
   "metadata": {},
   "outputs": [
    {
     "name": "stdout",
     "output_type": "stream",
     "text": [
      "We can store any letter, word, number, any thing in a string varuable print method concatinate to string variables with blanck space.\n"
     ]
    }
   ],
   "source": [
    "stringVar1 = 'We can store'\n",
    "stringVar2 = \"any letter, word, number, any thing\"\n",
    "stringVar3 = 'in a string varuable'\n",
    "stringVar4 = \"print method concatinate to string variables with blanck space.\"\n",
    "\n",
    "print(stringVar1,stringVar2,stringVar3,stringVar4)"
   ]
  },
  {
   "cell_type": "markdown",
   "metadata": {},
   "source": [
    "### <font color='green'>2.3.1. Acess values in String</font>\n",
    "- Python doesn't support Character data type. These are treated as Strings of length one if pass single letter than it will also be string with length 1.\n",
    "- Square bracket'[]'s are used to access substrings and its represent prosition or index no of that charaector.\n",
    "- We can access a specific character or range of characters from string.\n",
    "It would be cleared by using following examples"
   ]
  },
  {
   "cell_type": "markdown",
   "metadata": {},
   "source": [
    "### <font color='orange'>Example 1:</font>\n",
    "\n",
    "<font color='#094B91'> In this example we acces an single word like \"H\" in a string by it's index number and we also can access some indexes by [1:5] and this will show the words from index 1 to index 4."
   ]
  },
  {
   "cell_type": "code",
   "execution_count": 32,
   "metadata": {},
   "outputs": [
    {
     "name": "stdout",
     "output_type": "stream",
     "text": [
      "stringVariable[0]: H\n",
      "stringVariable[1:5]: ello\n"
     ]
    }
   ],
   "source": [
    "stringVariable = 'Hello World'\n",
    "print(\"stringVariable[0]:\", stringVariable[0])\n",
    "print(\"stringVariable[1:5]:\", stringVariable[1:5])\n"
   ]
  },
  {
   "cell_type": "markdown",
   "metadata": {},
   "source": [
    "### <font color='orange'>Example 2:</font>\n",
    "\n",
    "<font color='#094B91'> In this example we acces last index value \"!\" by index number -1. <br>\n",
    "In a string by it's index number and we also can access some indexes by [10:15] and this will show the words from index 10 to index 14.<br>\n",
    "we can write multipule line of strings by triple bouble qoute like \"\"\" some lines of string\"\"\""
   ]
  },
  {
   "cell_type": "code",
   "execution_count": 33,
   "metadata": {},
   "outputs": [
    {
     "name": "stdout",
     "output_type": "stream",
     "text": [
      "!\n",
      "\n",
      "\n",
      "single line string!\n",
      "\n",
      "\n",
      "Multipule line\n",
      "string store in\n",
      "1 string variable\n",
      "\n",
      "\n",
      "line\n",
      "\n"
     ]
    }
   ],
   "source": [
    "strvar1 = \"single line string!\"\n",
    "strvar2 = \"\"\"Multipule line\n",
    "string store in\n",
    "1 string variable\"\"\"\n",
    "\n",
    "print(strvar1[-1]) #whow last index\n",
    "print(\"\\n\") # line brak\n",
    "print(strvar1) # print complete string\n",
    "print(\"\\n\") # line brak\n",
    "print(strvar2) # print complete string\n",
    "print(\"\\n\")\n",
    "print(strvar2[10:15])"
   ]
  },
  {
   "cell_type": "markdown",
   "metadata": {},
   "source": [
    "### <font color='orange'>Example 3:</font>\n",
    "\n",
    "<font color='#094B91'> In this example we acces specific index value \"g\" by index number 3. <br>\n",
    "We check the length of string by len() method. <br>\n",
    "In a string by it's index number and we also can access some indexes by [2:6] and in this example we show some different exmple of this technique.<br>\n",
    "We can check a letter that is prasent or not in that string by \"in\" key word"
   ]
  },
  {
   "cell_type": "code",
   "execution_count": 34,
   "metadata": {},
   "outputs": [
    {
     "name": "stdout",
     "output_type": "stream",
     "text": [
      "g\n",
      "19\n",
      "ngle\n",
      "single\n",
      " line string!\n",
      "!\n",
      "True\n",
      "Multipule line\n",
      "str\n"
     ]
    }
   ],
   "source": [
    "print(strvar1[3]) #single charactor\n",
    "\n",
    "print(len(strvar1)) # show string length\n",
    "\n",
    "print(strvar1[2:6]) # show from index 2 to 6 and 6 will not show\n",
    "\n",
    "print(strvar1[:6]) # show from index 0 to 6 and 6 will not show\n",
    "\n",
    "print(strvar1[6:]) # show from index 6 to end \n",
    "\n",
    "print(strvar1[-1]) # -1 shows last index value\n",
    "\n",
    "print ('line' in strvar1) # check that word 'line' is in our string orr not\n",
    "\n",
    "print(strvar2[:18]) # from 0 to 18 but 18 is not include"
   ]
  },
  {
   "cell_type": "markdown",
   "metadata": {},
   "source": [
    "### <font color='green'>2.3.2. Updating String</font>\n",
    "- Vwhen we assign a new value of a variable than old value will be overright orr deleted.\n",
    "- New value must be related (having same data type) to previous value of the string.\n",
    "- '+' operator will use to updae string from specific index like as follows:\n"
   ]
  },
  {
   "cell_type": "markdown",
   "metadata": {},
   "source": [
    "### <font color='orange'>Example 1:</font>\n",
    "\n",
    "<font color='#094B91'> We can change the complete value of a string variable or we can chande some specific value of string or we can update an string  from some specific index to some specific index "
   ]
  },
  {
   "cell_type": "code",
   "execution_count": 35,
   "metadata": {},
   "outputs": [
    {
     "name": "stdout",
     "output_type": "stream",
     "text": [
      "Updated string:  Hello Python\n"
     ]
    }
   ],
   "source": [
    "stringVariable = \"Hello World\"\n",
    "stringVariable = stringVariable[:6] + \"Python\"\n",
    "print(\"Updated string: \", stringVariable)"
   ]
  },
  {
   "cell_type": "markdown",
   "metadata": {},
   "source": [
    "### <font color='orange'>Example 2:</font>\n",
    "\n",
    "<font color='#094B91'> We can change the complete value of a string variable or we can chande some specific value of string or we can update an string  from some specific index to some specific index. <br>\n",
    "<br>\n",
    "Update pravios string variable strvar1 and strvar2"
   ]
  },
  {
   "cell_type": "code",
   "execution_count": 36,
   "metadata": {},
   "outputs": [
    {
     "name": "stdout",
     "output_type": "stream",
     "text": [
      "Updated string strvar1:  update string\n",
      "Updated string strvar2:  Multipule String Update From 10 Index\n"
     ]
    }
   ],
   "source": [
    "strvar1 = \"update string\"\n",
    "strvar2 = strvar2[:10] + \"String Update From 10 Index\"\n",
    "print(\"Updated string strvar1: \", strvar1)\n",
    "print(\"Updated string strvar2: \", strvar2)"
   ]
  },
  {
   "cell_type": "markdown",
   "metadata": {},
   "source": [
    "### <font color='orange'>Example 3:</font>\n",
    "\n",
    "<font color='#094B91'> updae string and use some python method for updating string like \n",
    "- upper() returns the string in upper case\n",
    "- lower() returns the string in lower case\n",
    "- strip() removes any whitespace from the beginning or the end\n",
    "- replace() replaces a string with another string\n",
    "- split() returns a list where the text between the specified separator becomes the list items"
   ]
  },
  {
   "cell_type": "code",
   "execution_count": 37,
   "metadata": {},
   "outputs": [
    {
     "name": "stdout",
     "output_type": "stream",
     "text": [
      "UPDATE STRING\n",
      "multipule string update from 10 index\n",
      "update string\n",
      "Modify string\n",
      "['Multipule', 'String', 'Update', 'From', '10', 'Index']\n"
     ]
    }
   ],
   "source": [
    "print(strvar1.upper()) #show string in uper case\n",
    "\n",
    "print(strvar2.lower()) #show string in lower\n",
    "\n",
    "print(strvar1.strip()) #remove whitr space from start and end\n",
    "\n",
    "print(strvar1.replace(\"update\",\"Modify\")) #sreplace word\n",
    "\n",
    "print(strvar2.split(\" \")) #split string after white space"
   ]
  },
  {
   "cell_type": "markdown",
   "metadata": {},
   "source": [
    "### <font color='green'>2.3.3. Delete String</font>\n",
    "- use del kay word to delete a string variable it will delete its object (reference variable).\n"
   ]
  },
  {
   "cell_type": "markdown",
   "metadata": {},
   "source": [
    "### <font color='orange'>Example 1:</font>\n",
    "\n",
    "<font color='#094B91'> We delete stringVariable  and try to show it's vlue but that line will through some error"
   ]
  },
  {
   "cell_type": "code",
   "execution_count": 38,
   "metadata": {},
   "outputs": [
    {
     "name": "stdout",
     "output_type": "stream",
     "text": [
      "Hello World\n"
     ]
    }
   ],
   "source": [
    "stringVariable = \"Hello World\"\n",
    "print (stringVariable)\n",
    "del stringVariable\n",
    "\n",
    "# this lin will show some error\n",
    "#print (stringVariable)"
   ]
  },
  {
   "cell_type": "markdown",
   "metadata": {},
   "source": [
    "### <font color='orange'>Example 2:</font>\n",
    "\n",
    "<font color='#094B91'> We delete some string variales and try to show their vlues but that line will through some error."
   ]
  },
  {
   "cell_type": "code",
   "execution_count": 39,
   "metadata": {},
   "outputs": [
    {
     "name": "stdout",
     "output_type": "stream",
     "text": [
      "We can store any letter, word, number, any thing in a string varuable print method concatinate to string variables with blanck space.\n"
     ]
    }
   ],
   "source": [
    "print(stringVar1, stringVar2, stringVar3, stringVar4) # display all strings vale \n",
    "\n",
    "del stringVar1,stringVar2,stringVar3, stringVar4 # delete all strings \n",
    " \n",
    "#now this will through error\n",
    "#print(stringVar1, stringVar2, stringVar3, stringVar4) "
   ]
  },
  {
   "cell_type": "markdown",
   "metadata": {},
   "source": [
    "### <font color='orange'>Example 3:</font>\n",
    "\n",
    " <font color='#094B91'>We delete some string variales and try to show their vlues but that line will through some error"
   ]
  },
  {
   "cell_type": "code",
   "execution_count": 40,
   "metadata": {},
   "outputs": [
    {
     "name": "stdout",
     "output_type": "stream",
     "text": [
      "update string Multipule String Update From 10 Index\n",
      "\n",
      "\n",
      "variable not exists\n"
     ]
    }
   ],
   "source": [
    "print(strvar1,strvar2) # display all strings vale \n",
    "\n",
    "del strvar1, strvar2 # delete all strings\n",
    "\n",
    "print(\"\\n\")\n",
    "\n",
    "if 'strvar1' in globals():\n",
    "    print(\"variable exists\")\n",
    "else:\n",
    "    print(\"variable not exists\")"
   ]
  },
  {
   "cell_type": "markdown",
   "metadata": {},
   "source": [
    "### <font color='green'>2.3.4. String special operators</font>\n",
    "Some special operators are used in Python to assist the user. These are given below.\n",
    "\n",
    "### <font color='orange'>Example 1:</font>\n",
    "\n",
    "<font color='#094B91'> 1. '+' operator is used for concatenation two strings."
   ]
  },
  {
   "cell_type": "code",
   "execution_count": 41,
   "metadata": {},
   "outputs": [
    {
     "name": "stdout",
     "output_type": "stream",
     "text": [
      "HelloPython\n"
     ]
    }
   ],
   "source": [
    "variable = \"Hello\"\n",
    "print(variable+\"Python\")"
   ]
  },
  {
   "cell_type": "markdown",
   "metadata": {},
   "source": [
    "<font color='#094B91'> 2. '*' used of Repetition a string multipul time"
   ]
  },
  {
   "cell_type": "code",
   "execution_count": 42,
   "metadata": {},
   "outputs": [
    {
     "name": "stdout",
     "output_type": "stream",
     "text": [
      "HelloHelloHello\n"
     ]
    }
   ],
   "source": [
    " variable = \"Hello\"\n",
    "print(variable*3)"
   ]
  },
  {
   "cell_type": "markdown",
   "metadata": {},
   "source": [
    "<font color='#094B91'> 3. '[]' show a single character of string at given index."
   ]
  },
  {
   "cell_type": "code",
   "execution_count": 43,
   "metadata": {},
   "outputs": [
    {
     "name": "stdout",
     "output_type": "stream",
     "text": [
      "e\n"
     ]
    }
   ],
   "source": [
    "variable = \"Hello\"\n",
    "print(variable[1])"
   ]
  },
  {
   "cell_type": "markdown",
   "metadata": {},
   "source": [
    "<font color='#094B91'> 4. '[:]' is used to get a range of characters from string."
   ]
  },
  {
   "cell_type": "code",
   "execution_count": 44,
   "metadata": {},
   "outputs": [
    {
     "name": "stdout",
     "output_type": "stream",
     "text": [
      "el\n"
     ]
    }
   ],
   "source": [
    "variable = \"Hello\"\n",
    "print(variable[1:3])"
   ]
  },
  {
   "cell_type": "markdown",
   "metadata": {},
   "source": [
    "<font color='#094B91'> 5. 'in' returns true if given character exists in string, otherwise return false."
   ]
  },
  {
   "cell_type": "code",
   "execution_count": 45,
   "metadata": {},
   "outputs": [
    {
     "name": "stdout",
     "output_type": "stream",
     "text": [
      "True\n"
     ]
    }
   ],
   "source": [
    " variable = \"Hello\"\n",
    "print('H' in variable)"
   ]
  },
  {
   "cell_type": "markdown",
   "metadata": {},
   "source": [
    "<font color='#094B91'> 6. 'not in' returns true if given character doesn't exists in string, otherwise return false."
   ]
  },
  {
   "cell_type": "code",
   "execution_count": 46,
   "metadata": {},
   "outputs": [
    {
     "name": "stdout",
     "output_type": "stream",
     "text": [
      "True\n"
     ]
    }
   ],
   "source": [
    "variable = \"Hello\"\n",
    "print('G' not in variable)"
   ]
  },
  {
   "cell_type": "markdown",
   "metadata": {},
   "source": [
    "### <font color='orange'>Example 2:</font>\n"
   ]
  },
  {
   "cell_type": "markdown",
   "metadata": {},
   "source": [
    "<font color='#094B91'> 1. '+' operator is used for concatenation two strings."
   ]
  },
  {
   "cell_type": "code",
   "execution_count": 47,
   "metadata": {},
   "outputs": [
    {
     "name": "stdout",
     "output_type": "stream",
     "text": [
      "My Name Is Abdullah Shahid And This Is My first ML Assignment.\n"
     ]
    }
   ],
   "source": [
    "strvariable = \"My Name Is Abdullah Shahid\"\n",
    "print(strvariable +\" And This Is My first ML Assignment.\")"
   ]
  },
  {
   "cell_type": "markdown",
   "metadata": {},
   "source": [
    "<font color='#094B91'> 2. '*' used of Repetition a string multipul time"
   ]
  },
  {
   "cell_type": "code",
   "execution_count": 48,
   "metadata": {},
   "outputs": [
    {
     "name": "stdout",
     "output_type": "stream",
     "text": [
      "My Name Is Abdullah ShahidMy Name Is Abdullah ShahidMy Name Is Abdullah Shahid\n"
     ]
    }
   ],
   "source": [
    "print(strvariable * 3)"
   ]
  },
  {
   "cell_type": "markdown",
   "metadata": {},
   "source": [
    "<font color='#094B91'>. '[]' show a single character of string at given index."
   ]
  },
  {
   "cell_type": "code",
   "execution_count": 49,
   "metadata": {},
   "outputs": [
    {
     "name": "stdout",
     "output_type": "stream",
     "text": [
      "M\n"
     ]
    }
   ],
   "source": [
    "print(strvariable[0])"
   ]
  },
  {
   "cell_type": "markdown",
   "metadata": {},
   "source": [
    "<font color='#094B91'>4. '[:]' is used to get a range of characters from string."
   ]
  },
  {
   "cell_type": "code",
   "execution_count": 50,
   "metadata": {},
   "outputs": [
    {
     "name": "stdout",
     "output_type": "stream",
     "text": [
      "My Name Is Abdullah\n"
     ]
    }
   ],
   "source": [
    "print(strvariable[0:19])"
   ]
  },
  {
   "cell_type": "markdown",
   "metadata": {},
   "source": [
    "<font color='#094B91'>5. 'in' returns true if given character exists in string, otherwise return false."
   ]
  },
  {
   "cell_type": "code",
   "execution_count": 51,
   "metadata": {},
   "outputs": [
    {
     "name": "stdout",
     "output_type": "stream",
     "text": [
      "True\n"
     ]
    }
   ],
   "source": [
    "print('Abdullah' in strvariable)"
   ]
  },
  {
   "cell_type": "markdown",
   "metadata": {},
   "source": [
    "<font color='#094B91'>6. 'not in' returns true if given character doesn't exists in string, otherwise return false"
   ]
  },
  {
   "cell_type": "code",
   "execution_count": 52,
   "metadata": {},
   "outputs": [
    {
     "name": "stdout",
     "output_type": "stream",
     "text": [
      "True\n"
     ]
    }
   ],
   "source": [
    "print('Ali' not in strvariable)"
   ]
  },
  {
   "cell_type": "markdown",
   "metadata": {},
   "source": [
    "### <font color='orange'>Example 3:</font>\n"
   ]
  },
  {
   "cell_type": "markdown",
   "metadata": {},
   "source": [
    "<font color='#094B91'>1. '+' operator is used for concatenation two strings."
   ]
  },
  {
   "cell_type": "code",
   "execution_count": 53,
   "metadata": {},
   "outputs": [
    {
     "name": "stdout",
     "output_type": "stream",
     "text": [
      "Python is a Very Easy and Comprehensive Programing Language\n"
     ]
    }
   ],
   "source": [
    "strvariable1 = \"Python is a\"\n",
    "strvariable2 = \"Very Easy and Comprehensive Programing Language\"\n",
    "strvariable3 = strvariable1 + \" \" + strvariable2\n",
    "print(strvariable3)"
   ]
  },
  {
   "cell_type": "markdown",
   "metadata": {},
   "source": [
    "<font color='#094B91'>2. '*' used of Repetition a string multipul time"
   ]
  },
  {
   "cell_type": "code",
   "execution_count": 54,
   "metadata": {},
   "outputs": [
    {
     "name": "stdout",
     "output_type": "stream",
     "text": [
      " Abdullah  Abdullah  Abdullah  Abdullah  Abdullah \n"
     ]
    }
   ],
   "source": [
    "strvariable = \" Abdullah \"\n",
    "print(strvariable*5)"
   ]
  },
  {
   "cell_type": "markdown",
   "metadata": {},
   "source": [
    "<font color='#094B91'>3. '[]' show a single character of string at given index."
   ]
  },
  {
   "cell_type": "code",
   "execution_count": 55,
   "metadata": {},
   "outputs": [
    {
     "name": "stdout",
     "output_type": "stream",
     "text": [
      "Python is a Very Easy and Comprehensive Programing Languag\n"
     ]
    }
   ],
   "source": [
    "print(strvariable3[:-1])"
   ]
  },
  {
   "cell_type": "markdown",
   "metadata": {},
   "source": [
    "<font color='#094B91'>4. '[:]' is used to get a range of characters from string."
   ]
  },
  {
   "cell_type": "code",
   "execution_count": 56,
   "metadata": {},
   "outputs": [
    {
     "name": "stdout",
     "output_type": "stream",
     "text": [
      "False\n"
     ]
    }
   ],
   "source": [
    "print(\"my name is\" in strvariable3)"
   ]
  },
  {
   "cell_type": "markdown",
   "metadata": {},
   "source": [
    "<font color='#094B91'>5. 'in' returns true if given character exists in string, otherwise return false."
   ]
  },
  {
   "cell_type": "code",
   "execution_count": 57,
   "metadata": {},
   "outputs": [
    {
     "name": "stdout",
     "output_type": "stream",
     "text": [
      "False\n"
     ]
    }
   ],
   "source": [
    "print(\"Python\" not in strvariable3)"
   ]
  },
  {
   "cell_type": "markdown",
   "metadata": {},
   "source": [
    "<font color='#094B91'>6. 'not in' returns true if given character doesn't exists in string, otherwise return false"
   ]
  },
  {
   "cell_type": "code",
   "execution_count": 58,
   "metadata": {},
   "outputs": [],
   "source": [
    "del strvariable, strvariable1, strvariable2, strvariable3"
   ]
  },
  {
   "cell_type": "markdown",
   "metadata": {},
   "source": [
    "### <font color='green'>2.3.5. String formatting operator</font>\n",
    "- One of the coolest feature is string formatting operator within print statement.\n",
    "\n",
    "### <font color='orange'>Example 1:</font>\n",
    "\n",
    "<font color='#094B91'> In this Example we pass variable values vy formate operator in formate operator %s reffer the string variable and %d reffer ineter and %f reffer the float variable"
   ]
  },
  {
   "cell_type": "code",
   "execution_count": 59,
   "metadata": {},
   "outputs": [
    {
     "name": "stdout",
     "output_type": "stream",
     "text": [
      "My name is Zara and age is 21 year!\n"
     ]
    }
   ],
   "source": [
    "print (\"My name is %s and age is %d year!\" % (\"Zara\",21))"
   ]
  },
  {
   "cell_type": "markdown",
   "metadata": {},
   "source": [
    "### <font color='orange'>Example 2:</font>\n",
    "\n",
    "<font color='#094B91'> In this Example we pass variable values vy formate operator in formate operator %s reffer the string variable and %d reffer ineter and %f reffer the float variable"
   ]
  },
  {
   "cell_type": "code",
   "execution_count": 60,
   "metadata": {},
   "outputs": [
    {
     "name": "stdout",
     "output_type": "stream",
     "text": [
      "my name is Abdullah Shahid and I am a student of Machine Learning.\n"
     ]
    }
   ],
   "source": [
    "fname = \"Abdullah\"\n",
    "lname= \"Shahid\"\n",
    "study = \"Machine Learning\"\n",
    "strvar = \"my name is %s %s and I am a student of %s.\" %(fname, lname, study)\n",
    "\n",
    "print(strvar)"
   ]
  },
  {
   "cell_type": "markdown",
   "metadata": {},
   "source": [
    "### <font color='orange'>Example 3:</font>\n",
    "\n",
    "<font color='#094B91'> In this Example we pass variable values vy formate operator in formate operator %s reffer the string variable and %d reffer ineter and %f reffer the float variable"
   ]
  },
  {
   "cell_type": "code",
   "execution_count": 61,
   "metadata": {},
   "outputs": [
    {
     "name": "stdout",
     "output_type": "stream",
     "text": [
      "my name is Abdullah Shahid and I am a student of Machine Learning.\n",
      " I start my MCS From 2019 and I am a member of UMT family from last 1.5 year!\n"
     ]
    }
   ],
   "source": [
    "year = 2019\n",
    "douration = 1.5\n",
    "\n",
    "strvar = strvar + \"\\n I start my MCS From %d and I am a member of UMT family from last %.1f year!\" %(year,douration)\n",
    "\n",
    "print(strvar)"
   ]
  },
  {
   "cell_type": "markdown",
   "metadata": {},
   "source": [
    "<br>\n",
    "\n",
    "***"
   ]
  },
  {
   "cell_type": "markdown",
   "metadata": {},
   "source": [
    "# <font color='blue'>2.4 Lists</font>\n",
    "- We can store multipule value with different datatype in a List.\n",
    "- list is lika a array but it can store  different type of data and wen access specific value dy index number\n",
    "- The 1st index of a list is 0 we can read or write any specific index of a list by index number.\n",
    "\n",
    "### <font color='orange'>Example 1:</font>\n",
    "\n",
    "<font color='#094B91'> In this example we create a list and store two string values in that list and than pass this list to print metod for showing the list values."
   ]
  },
  {
   "cell_type": "code",
   "execution_count": 62,
   "metadata": {},
   "outputs": [
    {
     "name": "stdout",
     "output_type": "stream",
     "text": [
      "['Mehvish', '1880']\n"
     ]
    }
   ],
   "source": [
    "list1 = ['Mehvish','1880']\n",
    "print(list1)"
   ]
  },
  {
   "cell_type": "markdown",
   "metadata": {},
   "source": [
    "### <font color='orange'>Example 2:</font>\n",
    "\n",
    "<font color='#094B91'> In this example we create a list and store different type of data like string and integir in that list and than pass this list to print metod for showing the list values."
   ]
  },
  {
   "cell_type": "code",
   "execution_count": 63,
   "metadata": {},
   "outputs": [],
   "source": [
    "listLockDown = ['lock down', 15, 'march', 2021]"
   ]
  },
  {
   "cell_type": "code",
   "execution_count": 64,
   "metadata": {},
   "outputs": [
    {
     "name": "stdout",
     "output_type": "stream",
     "text": [
      "['lock down', 15, 'march', 2021]\n"
     ]
    }
   ],
   "source": [
    "print(listLockDown)"
   ]
  },
  {
   "cell_type": "markdown",
   "metadata": {},
   "source": [
    "### <font color='orange'>Example 3:</font>\n",
    "\n",
    "\n",
    "<font color='#094B91'> In this example we create a list and store different type of data like string, integir and float in that list and than pass this list to print metod for showing the list values."
   ]
  },
  {
   "cell_type": "code",
   "execution_count": 65,
   "metadata": {},
   "outputs": [],
   "source": [
    "listFrouits = [\"apple\",200, \"banana\",150, \"cherry\", 3.10]"
   ]
  },
  {
   "cell_type": "code",
   "execution_count": 66,
   "metadata": {},
   "outputs": [
    {
     "name": "stdout",
     "output_type": "stream",
     "text": [
      "['apple', 200, 'banana', 150, 'cherry', 3.1]\n"
     ]
    }
   ],
   "source": [
    "print(listFrouits)"
   ]
  },
  {
   "cell_type": "markdown",
   "metadata": {},
   "source": [
    "### <font color='green'>2.4.1. Accessing values in Lists</font>\n",
    "- Square brackets are used to access the values of a list.\n",
    "- We can access a specific values or range of values from list.\n",
    "\n",
    "### <font color='orange'>Example 1:</font>\n",
    "\n",
    "<font color='#094B91'> In this example we shows that We can access any vaue that we store in the list by it's index number."
   ]
  },
  {
   "cell_type": "code",
   "execution_count": 67,
   "metadata": {},
   "outputs": [
    {
     "name": "stdout",
     "output_type": "stream",
     "text": [
      "list1[0]:  physics\n",
      "list2[1:5]:  [2, 3, 4, 5]\n"
     ]
    }
   ],
   "source": [
    " list1 = ['physics', 'chemistry', 1997, 2000];\n",
    "list2 = [1, 2, 3, 4, 5, 6, 7 ];\n",
    "print (\"list1[0]: \", list1[0])\n",
    "print (\"list2[1:5]: \", list2[1:5])"
   ]
  },
  {
   "cell_type": "markdown",
   "metadata": {},
   "source": [
    "### <font color='orange'>Example 2:</font>\n",
    "\n",
    "\n",
    "<font color='#094B91'> In this example we shows that We can access any vaue that we store in the list by it's index number.\n",
    "And we can whw a list with different ways."
   ]
  },
  {
   "cell_type": "code",
   "execution_count": 68,
   "metadata": {},
   "outputs": [
    {
     "name": "stdout",
     "output_type": "stream",
     "text": [
      "This list have lockdown Information\n",
      "lock downstart from  15 march 2021\n"
     ]
    }
   ],
   "source": [
    "listLockDown = ['lock down', 15, 'march', 2021]\n",
    "print(\"This list have lockdown Information\")\n",
    "\n",
    "print(listLockDown[0] + \"start from \" , listLockDown[1] , listLockDown[2] , listLockDown[3])"
   ]
  },
  {
   "cell_type": "markdown",
   "metadata": {},
   "source": [
    "### <font color='orange'>Example 3:</font>\n",
    "\n",
    "\n",
    "<font color='#094B91'> In this example we shows that We can access any vaue that we store in the list by it's index number.\n",
    "And we can whw a list with different ways."
   ]
  },
  {
   "cell_type": "code",
   "execution_count": 69,
   "metadata": {},
   "outputs": [
    {
     "name": "stdout",
     "output_type": "stream",
     "text": [
      "['apple', 200, 'banana', 150, 'cherry']\n",
      "['apple', 200]\n",
      "['banana', 150, 'cherry', 300]\n"
     ]
    }
   ],
   "source": [
    "listFrouits = [\"apple\",200, \"banana\",150, \"cherry\", 300]\n",
    "\n",
    "print(listFrouits[:-1])\n",
    "print(listFrouits[0:2])\n",
    "print(listFrouits[2:6])"
   ]
  },
  {
   "cell_type": "markdown",
   "metadata": {},
   "source": [
    "### <font color='green'>2.4.2. Updating Lists</font>\n",
    "- We can update single or mupltiple elements of a list by giving slice on left hand of the assignment operator.\n",
    "- It can also be updated using append() function.\n",
    "\n",
    "### <font color='orange'>Example 1:</font>\n",
    "\n",
    "<font color='#094B91'> We can chan the complete list and we also can chane the vaue of some specific indexes."
   ]
  },
  {
   "cell_type": "code",
   "execution_count": 70,
   "metadata": {},
   "outputs": [
    {
     "name": "stdout",
     "output_type": "stream",
     "text": [
      "['physics', 'computer science', 1997, 2000]\n",
      "['physics', 'computer science', 1997, 2000, 'Computer Science']\n"
     ]
    }
   ],
   "source": [
    " list1 = ['physics', 'chemistry', 1997, 2000];\n",
    "list1[1] = \"computer science\"\n",
    "print(list1)\n",
    "list1.append('Computer Science')\n",
    "print(list1)"
   ]
  },
  {
   "cell_type": "markdown",
   "metadata": {},
   "source": [
    "### <font color='orange'>Example 2:</font>\n",
    "\n",
    "\n",
    "\n",
    "<font color='#094B91'> We can chan the complete list and we also can chane the vaue of some specific indexes and in this example we add complete list in that list."
   ]
  },
  {
   "cell_type": "code",
   "execution_count": 71,
   "metadata": {},
   "outputs": [
    {
     "name": "stdout",
     "output_type": "stream",
     "text": [
      "[15, 'March', 2020, 'Last Year Lockdown Date']\n",
      "[15, 'March', 2020, 'Last Year Lockdown Date', 15, 'March', 2020, 'Last Year Lockdown Date']\n"
     ]
    }
   ],
   "source": [
    "listLockDown = [15, \"March\", 2020, \"Last Year Lockdown Date\"]\n",
    "\n",
    "print(listLockDown)\n",
    "\n",
    "listLockDown = listLockDown + listLockDown\n",
    "\n",
    "print(listLockDown)"
   ]
  },
  {
   "cell_type": "markdown",
   "metadata": {},
   "source": [
    "### <font color='orange'>Example 3:</font>\n",
    "\n",
    "\n",
    "<font color='#094B91'> We can chan the complete list and we also can chane the vaue of some specific indexes."
   ]
  },
  {
   "cell_type": "code",
   "execution_count": 72,
   "metadata": {},
   "outputs": [
    {
     "name": "stdout",
     "output_type": "stream",
     "text": [
      "['apple', 'Mango', 'banana', 'Peach', 'cherry', 'Guava']\n"
     ]
    }
   ],
   "source": [
    "listFrouits[1] = \"Mango\"\n",
    "listFrouits[3] = \"Peach\"\n",
    "listFrouits[5] = \"Guava\"\n",
    "\n",
    "print(listFrouits)"
   ]
  },
  {
   "cell_type": "markdown",
   "metadata": {},
   "source": [
    "### <font color='green'>2.4.3. Delete List element</font>\n",
    "- del statement is used to remove when you know the position or index of element to be deleted.\n",
    "- remove() function can be used when you don't know the position of element to be removed.\n",
    "\n",
    "### <font color='orange'>Example 1:</font>\n",
    "\n",
    "<font color='#094B91'> we can remove any index from the list by \"del\" key word and by remove method. <br>\n",
    "    If we use del key word than we pass tha index number and if we use remove method than we pass tha value.<br>\n",
    "    We also use del key word to delete complete list."
   ]
  },
  {
   "cell_type": "code",
   "execution_count": 73,
   "metadata": {},
   "outputs": [
    {
     "name": "stdout",
     "output_type": "stream",
     "text": [
      "['physics', 'chemistry', 1997, 2000]\n",
      "After deleting value at index 2 : \n",
      "['physics', 'chemistry', 2000]\n"
     ]
    }
   ],
   "source": [
    "list1 = ['physics', 'chemistry', 1997, 2000];\n",
    "print (list1)\n",
    "del list1[2];\n",
    "print (\"After deleting value at index 2 : \")\n",
    "print (list1)"
   ]
  },
  {
   "cell_type": "code",
   "execution_count": 74,
   "metadata": {},
   "outputs": [
    {
     "name": "stdout",
     "output_type": "stream",
     "text": [
      "['physics', 'chemistry', 1997, 2000]\n",
      "After deleting value at index 2 : \n",
      "['physics', 1997, 2000]\n"
     ]
    }
   ],
   "source": [
    "list1 = ['physics', 'chemistry', 1997, 2000];\n",
    "print (list1)\n",
    "list1.remove('chemistry')\n",
    "print (\"After deleting value at index 2 : \")\n",
    "print (list1)\n",
    "\n",
    "del list1"
   ]
  },
  {
   "cell_type": "markdown",
   "metadata": {},
   "source": [
    "### <font color='orange'>Example 2:</font>\n",
    "\n",
    "<font color='#094B91'> we can remove any index from the list by \"del\" key word and by remove method. <br>\n",
    "    If we use del key word than we pass tha index number and if we use remove method than we pass tha value.<br>\n",
    "    We also use del key word to delete complete list."
   ]
  },
  {
   "cell_type": "code",
   "execution_count": 75,
   "metadata": {},
   "outputs": [
    {
     "name": "stdout",
     "output_type": "stream",
     "text": [
      "[15, 'March', 2020, 'Last Year Lockdown Date']\n",
      "\n",
      " Delete 'Marct' From List : [15, 2020, 'Last Year Lockdown Date']\n",
      "\n",
      " Delete index 0 From List : [2020, 'Last Year Lockdown Date']\n"
     ]
    }
   ],
   "source": [
    "listLockDown = [15, \"March\", 2020, \"Last Year Lockdown Date\"]\n",
    "\n",
    "print(listLockDown)\n",
    "\n",
    "listLockDown.remove('March')\n",
    "\n",
    "print(\"\\n Delete 'Marct' From List :\" , listLockDown)\n",
    "\n",
    "del listLockDown[0]\n",
    "\n",
    "print(\"\\n Delete index 0 From List :\",  listLockDown)\n"
   ]
  },
  {
   "cell_type": "markdown",
   "metadata": {},
   "source": [
    "### <font color='orange'>Example 3:</font>\n",
    "\n",
    "<font color='#094B91'> we can remove any index from the list by \"del\" key word and by remove method. <br>\n",
    "    If we use del key word than we pass tha index number and if we use remove method than we pass tha value.<br>\n",
    "    We also use del key word to delete complete list."
   ]
  },
  {
   "cell_type": "code",
   "execution_count": 76,
   "metadata": {},
   "outputs": [
    {
     "name": "stdout",
     "output_type": "stream",
     "text": [
      "['apple', 'Mango', 'banana', 'Peach', 'cherry', 'Guava']\n",
      "\n",
      " Delete index 4 From List : ['apple', 'Mango', 'banana', 'Peach', 'Guava']\n"
     ]
    }
   ],
   "source": [
    "listFrouits = ['apple', 'Mango', 'banana', 'Peach', 'cherry', 'Guava']\n",
    "\n",
    "print(listFrouits)\n",
    "\n",
    "del listFrouits[4]\n",
    "\n",
    "print(\"\\n Delete index 4 From List :\",  listFrouits)\n",
    "\n",
    "del listFrouits, listLockDown\n",
    "\n",
    "# next line will show error\n",
    "#print(\"delete all lists\")"
   ]
  },
  {
   "cell_type": "markdown",
   "metadata": {},
   "source": [
    "# <font color='blue'>2.5 Dictionaries</font>\n",
    "- We can store data in Dictionaries as key value pair.\n",
    "- 1st we write kay than colon ':' and than Value .\n",
    "- Dictionaries can store multipule values with comma (,) .\n",
    "- {} represent an emply dictionary.\n",
    "- keys can not duplicate or empty.\n",
    "- values can be duplicate or empty.\n",
    "- The keys must be of an immutable data type such as strings, numbers, or tuples.\n",
    "\n",
    "### <font color='green'>2.5.1. Accessing value in Dictionary</font>\n",
    "- We can use the familiar square brackets along with the key to obtain its value.\n",
    "\n",
    "### <font color='orange'>Example 1:</font>\n",
    "\n",
    "In this example we store 3 values with 3 unique keys in a Dictionary Variable dict"
   ]
  },
  {
   "cell_type": "code",
   "execution_count": 77,
   "metadata": {},
   "outputs": [
    {
     "name": "stdout",
     "output_type": "stream",
     "text": [
      "Mehvish\n"
     ]
    }
   ],
   "source": [
    "dict = {'Name':\"Mehvish\", 'Depart': \"BCS\", 'Batch': 2014}\n",
    "print (dict['Name'])"
   ]
  },
  {
   "cell_type": "markdown",
   "metadata": {},
   "source": [
    "### <font color='orange'>Example 2:</font>\n",
    "\n",
    "<font color='#094B91'> In this example we store 3 values with 3 unique keys in a Dictionary Variable student and than print these values with two different ways."
   ]
  },
  {
   "cell_type": "code",
   "execution_count": 78,
   "metadata": {},
   "outputs": [
    {
     "name": "stdout",
     "output_type": "stream",
     "text": [
      "Student Id is:  F2019027004\n",
      "Student Name is:  Abdullah\n",
      "Student Class is:  10\n",
      "All studen dictionary keys are :  dict_keys(['id', 'name', 'class'])\n",
      "All studen dictionary Values are :  dict_values(['F2019027004', 'Abdullah', 10])\n",
      "All studen dictionary :  dict_items([('id', 'F2019027004'), ('name', 'Abdullah'), ('class', 10)])\n"
     ]
    }
   ],
   "source": [
    "student = {\"id\" : \"F2019027004\" , \"name\" : \"Abdullah\" , \"class\": 10}\n",
    "\n",
    "print(\"Student Id is: \", student['id'])\n",
    "print(\"Student Name is: \", student['name'])\n",
    "print(\"Student Class is: \", student['class'])\n",
    "\n",
    "print(\"All studen dictionary keys are : \", student.keys()) #display All keys\n",
    "print(\"All studen dictionary Values are : \", student.values()) #display All values\n",
    "print(\"All studen dictionary : \", student.items()) #complete dictionary"
   ]
  },
  {
   "cell_type": "markdown",
   "metadata": {},
   "source": [
    "### <font color='orange'>Example 3:</font>\n",
    "\n",
    "<font color='#094B91'> In this example we store 3 values with 3 unique keys in a Dictionary Variable employee and than print these values with two different ways. we can print complete dictionarie or just keys or values or we can print single value also"
   ]
  },
  {
   "cell_type": "code",
   "execution_count": 79,
   "metadata": {},
   "outputs": [
    {
     "name": "stdout",
     "output_type": "stream",
     "text": [
      "Employee Id is:  1001\n",
      "Employee Name is:  Ali\n",
      "Student Class is:  Sales\n",
      "All employee dictionary Keys are :  dict_keys(['emp_id', 'emp_name', 'emp_department'])\n",
      "All employee dictionary Values are :  dict_values([1001, 'Ali', 'Sales'])\n",
      "All employee dictionary :  dict_items([('emp_id', 1001), ('emp_name', 'Ali'), ('emp_department', 'Sales')])\n"
     ]
    }
   ],
   "source": [
    "employee = {\"emp_id\" : 1001 , \"emp_name\" : \"Ali\" , \"emp_department\": \"Sales\"}\n",
    "\n",
    "print(\"Employee Id is: \", employee['emp_id'])\n",
    "print(\"Employee Name is: \", employee['emp_name'])\n",
    "print(\"Student Class is: \", employee['emp_department'])\n",
    "\n",
    "print(\"All employee dictionary Keys are : \", employee.keys()) #display All keys\n",
    "print(\"All employee dictionary Values are : \", employee.values()) #display All values\n",
    "print(\"All employee dictionary : \", employee.items()) #complete dictionary"
   ]
  },
  {
   "cell_type": "markdown",
   "metadata": {},
   "source": [
    "### <font color='green'>2.5.2. Updating Dictionary</font>\n",
    "\n",
    "- We can update already existing value in dictionary.\n",
    "- We can also add a new entry in dictionary.\n",
    "\n",
    "### <font color='orange'>Example 1:</font>\n",
    "\n",
    "<font color='#094B91'> In this example wo update a value and we add a new key and it's value in a dictionary."
   ]
  },
  {
   "cell_type": "code",
   "execution_count": 80,
   "metadata": {},
   "outputs": [
    {
     "name": "stdout",
     "output_type": "stream",
     "text": [
      "{'Name': 'Mehvish', 'Depart': 'BCS', 'Batch': 2014}\n",
      "{'Name': 'Mehvish', 'Depart': 'BCS', 'Batch': 'SP14'}\n",
      "{'Name': 'Mehvish', 'Depart': 'BCS', 'Batch': 'SP14', 'University': 'COMSATS'}\n"
     ]
    }
   ],
   "source": [
    "dict = {'Name':\"Mehvish\", 'Depart': \"BCS\", 'Batch': 2014}\n",
    "print (dict)\n",
    "dict['Batch'] = \"SP14\"\n",
    "print (dict)\n",
    "dict['University'] = \"COMSATS\"\n",
    "print(dict)"
   ]
  },
  {
   "cell_type": "markdown",
   "metadata": {},
   "source": [
    "### <font color='orange'>Example 2:</font>\n",
    "\n",
    "<font color='#094B91'> In this example wo update two values and we add a new key and it's value in a dictionary."
   ]
  },
  {
   "cell_type": "code",
   "execution_count": 81,
   "metadata": {},
   "outputs": [
    {
     "name": "stdout",
     "output_type": "stream",
     "text": [
      "dict_items([('id', '100'), ('name', 'Ali'), ('class', 12)])\n"
     ]
    }
   ],
   "source": [
    "student = {\"id\" : \"F2019027004\" , \"name\" : \"Abdullah\" , \"class\": 10}\n",
    "\n",
    "student['id'] = \"100\"\n",
    "student['class'] = 12\n",
    "\n",
    "student.update({'name' : 'Ali'})\n",
    "\n",
    "print(student.items())"
   ]
  },
  {
   "cell_type": "markdown",
   "metadata": {},
   "source": [
    "### <font color='orange'>Example 3:</font>\n",
    "\n",
    "<font color='#094B91'> In this example wo update two values and we add a new key and it's value in a dictionary."
   ]
  },
  {
   "cell_type": "code",
   "execution_count": 82,
   "metadata": {},
   "outputs": [
    {
     "name": "stdout",
     "output_type": "stream",
     "text": [
      "dict_items([('emp_id', '2000'), ('emp_name', 'Abdullah'), ('emp_department', 'HR')])\n"
     ]
    }
   ],
   "source": [
    "employee = {\"emp_id\" : 1001 , \"emp_name\" : \"Ali\" , \"emp_department\": \"Sales\"}\n",
    "\n",
    "employee['emp_id'] = \"2000\"\n",
    "employee['emp_name'] = 'Abdullah'\n",
    "\n",
    "employee.update({\"emp_department\": \"HR\"})\n",
    "\n",
    "print(employee.items())"
   ]
  },
  {
   "cell_type": "markdown",
   "metadata": {},
   "source": [
    "### <font color='green'>2.5.3. Delete Dictionary Element</font>\n",
    "- We can delete individual element of dicitionary and complete content of dictionary.\n",
    "- del is used for individual element removal and clear() function is used to remove entire dictionary.\n",
    "\n",
    "### <font color='orange'>Example 1:</font>\n",
    "\n",
    "<font color='#094B91'> In this example we delete a key 'Batch' from dictionery by del key word and than we remove all values by clear method. "
   ]
  },
  {
   "cell_type": "code",
   "execution_count": 83,
   "metadata": {},
   "outputs": [
    {
     "name": "stdout",
     "output_type": "stream",
     "text": [
      "{'Name': 'Mehvish', 'Depart': 'BCS', 'Batch': 2014}\n",
      "{'Name': 'Mehvish', 'Depart': 'BCS'}\n"
     ]
    }
   ],
   "source": [
    "dict = {'Name':\"Mehvish\", 'Depart': \"BCS\", 'Batch': 2014}\n",
    "print (dict)\n",
    "del dict['Batch']\n",
    "print (dict)"
   ]
  },
  {
   "cell_type": "code",
   "execution_count": 84,
   "metadata": {},
   "outputs": [
    {
     "name": "stdout",
     "output_type": "stream",
     "text": [
      "{}\n"
     ]
    }
   ],
   "source": [
    "dict = {'Name':\"Mehvish\", 'Depart': \"BCS\", 'Batch': 2014}\n",
    "dict.clear()\n",
    "print (dict)"
   ]
  },
  {
   "cell_type": "markdown",
   "metadata": {},
   "source": [
    "### <font color='orange'>Example 2:</font>\n",
    "\n",
    "<font color='#094B91'> In this example we delete a key 'id' from dictionery by del key word and remove other key by pop method, pop method return the removing key also and than we remove all values by clear method. "
   ]
  },
  {
   "cell_type": "code",
   "execution_count": 85,
   "metadata": {},
   "outputs": [
    {
     "name": "stdout",
     "output_type": "stream",
     "text": [
      "{'id': 'F2019027004', 'name': 'Abdullah', 'class': 10}\n",
      "{'name': 'Abdullah', 'class': 10}\n"
     ]
    }
   ],
   "source": [
    "student = {\"id\" : \"F2019027004\" , \"name\" : \"Abdullah\" , \"class\": 10}\n",
    "\n",
    "print(student)\n",
    "\n",
    "del student['id']\n",
    "\n",
    "print(student)\n"
   ]
  },
  {
   "cell_type": "code",
   "execution_count": 86,
   "metadata": {},
   "outputs": [
    {
     "name": "stdout",
     "output_type": "stream",
     "text": [
      "{'id': 'F2019027004', 'name': 'Abdullah', 'class': 10}\n",
      "{'id': 'F2019027004', 'name': 'Abdullah'}\n",
      "\n",
      "we remove key 'Class' by pop method and pop return :  10\n"
     ]
    }
   ],
   "source": [
    "student = {\"id\" : \"F2019027004\" , \"name\" : \"Abdullah\" , \"class\": 10}\n",
    "\n",
    "print(student)\n",
    "\n",
    "remove = student.pop(\"class\")\n",
    "\n",
    "print(student)\n",
    "\n",
    "\n",
    "print(\"\\nwe remove key 'Class' by pop method and pop return : \", remove)"
   ]
  },
  {
   "cell_type": "code",
   "execution_count": 87,
   "metadata": {},
   "outputs": [
    {
     "name": "stdout",
     "output_type": "stream",
     "text": [
      "{}\n"
     ]
    }
   ],
   "source": [
    "student = {\"id\" : \"F2019027004\" , \"name\" : \"Abdullah\" , \"class\": 10}\n",
    "\n",
    "student.clear()\n",
    "\n",
    "print(student)"
   ]
  },
  {
   "cell_type": "markdown",
   "metadata": {},
   "source": [
    "### <font color='orange'>Example 3:</font>\n",
    "\n",
    "<font color='#094B91'> In this example we delete a key 'emp_name' from dictionery by del key word and remove other key by pop method, pop method return the removing key also and than we remove all values by clear method. "
   ]
  },
  {
   "cell_type": "code",
   "execution_count": 88,
   "metadata": {},
   "outputs": [
    {
     "name": "stdout",
     "output_type": "stream",
     "text": [
      "{'emp_id': 1001, 'emp_name': 'Ali', 'emp_department': 'Sales'}\n",
      "{'emp_id': 1001, 'emp_department': 'Sales'}\n"
     ]
    }
   ],
   "source": [
    "employee = {\"emp_id\" : 1001 , \"emp_name\" : \"Ali\" , \"emp_department\": \"Sales\"}\n",
    "\n",
    "print(employee)\n",
    "\n",
    "del employee['emp_name']\n",
    "\n",
    "print(employee)"
   ]
  },
  {
   "cell_type": "code",
   "execution_count": 89,
   "metadata": {},
   "outputs": [
    {
     "name": "stdout",
     "output_type": "stream",
     "text": [
      "{'emp_id': 1001, 'emp_name': 'Ali', 'emp_department': 'Sales'}\n",
      "{'emp_id': 1001, 'emp_name': 'Ali'}\n",
      "\n",
      "we remove key 'emp_depertment' by pop method and pop return :  Sales\n"
     ]
    }
   ],
   "source": [
    "employee = {\"emp_id\" : 1001 , \"emp_name\" : \"Ali\" , \"emp_department\": \"Sales\"}\n",
    "\n",
    "print(employee)\n",
    "\n",
    "remove = employee.pop(\"emp_department\")\n",
    "\n",
    "print(employee)\n",
    "\n",
    "print(\"\\nwe remove key 'emp_depertment' by pop method and pop return : \", remove)"
   ]
  },
  {
   "cell_type": "code",
   "execution_count": 90,
   "metadata": {},
   "outputs": [
    {
     "name": "stdout",
     "output_type": "stream",
     "text": [
      "{}\n"
     ]
    }
   ],
   "source": [
    "employee = {\"emp_id\" : 1001 , \"emp_name\" : \"Ali\" , \"emp_department\": \"Sales\"}\n",
    "\n",
    "employee.clear()\n",
    "\n",
    "print(employee)"
   ]
  },
  {
   "cell_type": "markdown",
   "metadata": {},
   "source": [
    "<br>\n",
    "\n",
    "***"
   ]
  },
  {
   "cell_type": "markdown",
   "metadata": {},
   "source": [
    "# <font color='blue'>2.6 Tuples</font>\n",
    "- Tuple and List are same but can not change orr update tuples.\n",
    "- Each item in tuple is comma (,) seperated.\n",
    "- we use () for tuple.\n",
    "- () is shows empty tuple.\n",
    "- To write a tuple containing a single value you have to include a comma (,) even though there is only one value.\n",
    "    For Exampe: tup = (40,).\n",
    "- It can also have multiple data type values.\n",
    "- Like string indices, tuple indices start at 0, and they can be sliced, concatenated, and so on.\n",
    "\n",
    "### <font color='green'>2.6.1. Accessing values in Tuples</font>\n",
    "- We can use the familiar square brackets along with the index to obtain its value.\n",
    "\n",
    "### <font color='orange'>Example 1:</font>\n",
    "\n",
    "<font color='#094B91'> In this example we create a tuple variable and save some values in it. than we show complete tuple and show some specific index by it's index number and than we show some index from index 1 to 2."
   ]
  },
  {
   "cell_type": "code",
   "execution_count": 91,
   "metadata": {},
   "outputs": [
    {
     "name": "stdout",
     "output_type": "stream",
     "text": [
      "('Math', '98', 'C programming', '99')\n",
      "98\n",
      "('98', 'C programming')\n"
     ]
    }
   ],
   "source": [
    "tup = ('Math','98', 'C programming', '99')\n",
    "print (tup)\n",
    "print(tup[1])\n",
    "print(tup[1:3])"
   ]
  },
  {
   "cell_type": "markdown",
   "metadata": {},
   "source": [
    "### <font color='orange'>Example 2:</font>\n",
    "\n",
    "<font color='#094B91'> In this example we create a tuple variable 'student' and save some dofferent type of data in it. than we show complete tuple and show some specific index by it's index number and than we show some index from index 1 to 4."
   ]
  },
  {
   "cell_type": "code",
   "execution_count": 92,
   "metadata": {},
   "outputs": [
    {
     "name": "stdout",
     "output_type": "stream",
     "text": [
      "('id', 'F2019027004', 'name', 'Abdullah', 'class', 10)\n",
      "id\n",
      "('F2019027004', 'name', 'Abdullah', 'class')\n"
     ]
    }
   ],
   "source": [
    "student = (\"id\" , \"F2019027004\" , \"name\" , \"Abdullah\" , \"class\" , 10)\n",
    "\n",
    "print(student)\n",
    "print(student[0])\n",
    "print(student[1:5])"
   ]
  },
  {
   "cell_type": "markdown",
   "metadata": {},
   "source": [
    "### <font color='orange'>Example 3:</font>\n",
    "\n",
    "<font color='#094B91'> In this example we create a tuple variable 'employee' and save some dofferent type of data in it. than we show complete tuple and show some specific index by it's index number and than we show some index from index 1 to 4."
   ]
  },
  {
   "cell_type": "code",
   "execution_count": 93,
   "metadata": {},
   "outputs": [
    {
     "name": "stdout",
     "output_type": "stream",
     "text": [
      "('emp_id', 1001, 'emp_name', 'Ali', 'emp_department', 'Sales')\n",
      "Sales\n",
      "('emp_name', 'Ali', 'emp_department')\n"
     ]
    }
   ],
   "source": [
    "employee = (\"emp_id\" , 1001 , \"emp_name\" , \"Ali\" , \"emp_department\" , \"Sales\")\n",
    "print(employee)\n",
    "print(employee[5])\n",
    "print(employee[2:5])"
   ]
  },
  {
   "cell_type": "markdown",
   "metadata": {},
   "source": [
    "### <font color='green'>2.6.2. Updating Tuples</font>\n",
    "\n",
    "<font color='#094B91'> Tuples are immutable means we can't change it. It is read only. we can not change tuple values. If we try to update any tuple value than it will through some error. And we can Add a tuple by '+' Operator."
   ]
  },
  {
   "cell_type": "code",
   "execution_count": 94,
   "metadata": {},
   "outputs": [
    {
     "name": "stdout",
     "output_type": "stream",
     "text": [
      "(12, 34.56, 'abc', 'xyz')\n"
     ]
    }
   ],
   "source": [
    "tup1 = (12, 34.56);\n",
    "tup2 = ('abc', 'xyz');\n",
    "\n",
    "tup3 = tup1 + tup2;\n",
    "print (tup3);"
   ]
  },
  {
   "cell_type": "code",
   "execution_count": 95,
   "metadata": {},
   "outputs": [
    {
     "ename": "TypeError",
     "evalue": "'tuple' object does not support item assignment",
     "output_type": "error",
     "traceback": [
      "\u001b[1;31m---------------------------------------------------------------------------\u001b[0m",
      "\u001b[1;31mTypeError\u001b[0m                                 Traceback (most recent call last)",
      "\u001b[1;32m<ipython-input-95-ac57b87fbaa7>\u001b[0m in \u001b[0;36m<module>\u001b[1;34m\u001b[0m\n\u001b[0;32m      1\u001b[0m \u001b[1;31m# Following action is not valid for tuples\u001b[0m\u001b[1;33m\u001b[0m\u001b[1;33m\u001b[0m\u001b[1;33m\u001b[0m\u001b[0m\n\u001b[1;32m----> 2\u001b[1;33m \u001b[0mtup1\u001b[0m\u001b[1;33m[\u001b[0m\u001b[1;36m0\u001b[0m\u001b[1;33m]\u001b[0m \u001b[1;33m=\u001b[0m \u001b[1;36m100\u001b[0m\u001b[1;33m;\u001b[0m\u001b[1;33m\u001b[0m\u001b[1;33m\u001b[0m\u001b[0m\n\u001b[0m",
      "\u001b[1;31mTypeError\u001b[0m: 'tuple' object does not support item assignment"
     ]
    }
   ],
   "source": [
    "# Following action is not valid for tuples\n",
    "tup1[0] = 100;"
   ]
  },
  {
   "cell_type": "markdown",
   "metadata": {},
   "source": [
    "### <font color='orange'>Example 2:</font>\n",
    "\n",
    "<font color='#094B91'> Tuples are immutable means we can't change it. It is read only. we can not change tuple values. If we try to update any tuple value than it will through some error. And we can Add a tuple by '+' Operator."
   ]
  },
  {
   "cell_type": "code",
   "execution_count": null,
   "metadata": {},
   "outputs": [],
   "source": [
    "student = (\"id\" , \"F2019027004\" , \"name\" , \"Abdullah\" , \"class\" , 10)\n",
    "\n",
    "print(student[1])\n",
    "\n",
    "student[1] = \"1001\"\n",
    "\n",
    "print(student[1])\n"
   ]
  },
  {
   "cell_type": "code",
   "execution_count": null,
   "metadata": {},
   "outputs": [],
   "source": [
    "student = (\"id\" , \"F2019027004\" , \"name\" , \"Abdullah\" , \"class\" , 10)\n",
    "\n",
    "student2 = (\"id\" , \"F2019027001\" , \"name\" , \"Ali\" , \"class\" , 12)\n",
    "\n",
    "student = student + student2\n",
    "\n",
    "print(student)\n"
   ]
  },
  {
   "cell_type": "markdown",
   "metadata": {},
   "source": [
    "### <font color='orange'>Example 3:</font>\n",
    "\n",
    "<font color='#094B91'> Tuples are immutable means we can't change it. It is read only. we can not change tuple values. If we try to update any tuple value than it will through some error. And we can Add a tuple by '+' Operator."
   ]
  },
  {
   "cell_type": "code",
   "execution_count": null,
   "metadata": {},
   "outputs": [],
   "source": [
    "employee = (\"emp_id\" , 1001 , \"emp_name\" , \"Ali\" , \"emp_department\" , \"Sales\")\n",
    "employee2 = (1001 , \"Bilal\" , \"HR\")\n",
    "employee = employee2\n",
    "\n",
    "print(employee)\n"
   ]
  },
  {
   "cell_type": "markdown",
   "metadata": {},
   "source": [
    "### <font color='green'>2.6.3. Delete Tuple elements</font>\n",
    "- Removing individual element in Tuple is not possible because they can't be updated.\n",
    "- del statment is used to remove entire Tuple.\n",
    "\n",
    "### <font color='orange'>Example 1:</font>\n",
    "\n",
    "<font color='#094B91'> In this example we delete a tuple 'tup' by del key word."
   ]
  },
  {
   "cell_type": "code",
   "execution_count": null,
   "metadata": {},
   "outputs": [],
   "source": [
    "tup = ('physics', 'chemistry', 1997, 2000);\n",
    "    \n",
    "print (tup);\n",
    "del tup;\n",
    "print (\"\\nAfter deleting tup : \");\n",
    "print (tup);\n"
   ]
  },
  {
   "cell_type": "markdown",
   "metadata": {},
   "source": [
    "### <font color='orange'>Example 2:</font>\n",
    "\n",
    "<font color='#094B91'> In this example we delete a tuple 'student' by del key word."
   ]
  },
  {
   "cell_type": "code",
   "execution_count": null,
   "metadata": {},
   "outputs": [],
   "source": [
    "student = (\"id\" , \"F2019027004\" , \"name\" , \"Abdullah\" , \"class\" , 10)\n",
    "\n",
    "print (student);\n",
    "del student;\n",
    "\n",
    "print (\"\\nAfter deleting student tuple : \");\n",
    "print (student);"
   ]
  },
  {
   "cell_type": "markdown",
   "metadata": {},
   "source": [
    "### <font color='orange'>Example 3:</font>\n",
    "\n",
    "<font color='#094B91'> In this example we delete a tuple 'employee' by del key word."
   ]
  },
  {
   "cell_type": "code",
   "execution_count": null,
   "metadata": {},
   "outputs": [],
   "source": [
    "employee = (\"emp_id\" , 1001 , \"emp_name\" , \"Ali\" , \"emp_department\" , \"Sales\")\n",
    "\n",
    "print(employee)\n",
    "del employee\n",
    "\n",
    "print(\"\\nAfter deleting employee tuple : \")\n",
    "print(employee)"
   ]
  },
  {
   "cell_type": "markdown",
   "metadata": {},
   "source": [
    "<br>\n",
    "\n",
    "***"
   ]
  },
  {
   "cell_type": "markdown",
   "metadata": {},
   "source": [
    "# <font color='blue'>2.7 Sets</font>\n",
    "\n",
    "- we can store multipule items in one set variable\n",
    "- like dictionary we use {} for set also but in set we just store values not keys\n",
    "- A set is collection of unordered items.\n",
    "- we can add orr delete item from set but we cant modify any item in set.\n",
    "- we just store different items into set no item can be duplicate. \n",
    "- Sets can be used to perform mathematical set operations like union, intersection, symmetric difference etc.\n",
    "- {} it's show's an empty set.\n",
    "- Each item in set will be comma (,) seperated.\n",
    "- We can make a set from a list using set() function.\n",
    "- Data type can be found using type() function.\n",
    "- add() is used to add single value, update() is used for adding multiple values.\n",
    "- update() function can take tupe, strings, list or other set as argument. In all cases, duplicates will be avoided.\n",
    "- discard() and remove() are used to to delete particular item from set.\n",
    "- discard() will not raise an error if item doesn't exists in set.\n",
    "- remove() will raise an error if item doesn't exists in set.\n",
    "\n",
    "\n",
    "### <font color='orange'>Example 1:</font>\n",
    "\n",
    "<font color='#094B91'> In this Example we creat a list and than convert that list into a set data type by using set method and than we creat a new set variable and store some values in it. Than we add a new value 'D' by using add method. Than we remove a value by discard method. we can not use remove method with any set this will through some error."
   ]
  },
  {
   "cell_type": "code",
   "execution_count": null,
   "metadata": {},
   "outputs": [],
   "source": [
    "#list \n",
    "list1 = [1,2,3,4,5]\n",
    "\n",
    "print (type(list1))\n",
    "\n",
    "my_set = set(list1)\n",
    "print(my_set)\n",
    "print (type(my_set))\n",
    "\n",
    "# set of integers\n",
    "my_set = {1,2,3}\n",
    "print (my_set)\n",
    "\n",
    "# set of mixed data types\n",
    "my_set = {1,\"Hello\",'G', 1.2,'C'}\n",
    "\n",
    "# adding a single value\n",
    "my_set.add('D')\n",
    "\n",
    "#adding multiple values\n",
    "my_set.update(list1)\n",
    "print (my_set)\n",
    "\n",
    "my_set.discard('G') # it will not raise an error\n",
    "print (my_set)\n",
    "\n",
    "my_set.remove('G') # it will raise an error"
   ]
  },
  {
   "cell_type": "markdown",
   "metadata": {},
   "source": [
    "### <font color='orange'>Example 2:</font>\n",
    "\n",
    "<font color='#094B91'> In this Example we creat a list and than convert that list into a set data type by using 'set()' method and than we creat a new set variable and store some values in it. Than we add a new value 'D' by using add method. Than we remove a value by discard method. we can not use remove method with any set this will through some error. And we add two set in a single set variable but set only store unique values no value will be duplicate in set.\n"
   ]
  },
  {
   "cell_type": "code",
   "execution_count": null,
   "metadata": {},
   "outputs": [],
   "source": [
    "listFrouits = ['apple', 'Mango', 'banana', 'Peach', 'cherry', 'Guava'] # list\n",
    "\n",
    "print (\"Datatype Of 'listFrouits' is:\", type(listFrouits))\n",
    "\n",
    "setFrouits1 = set(listFrouits)\n",
    "\n",
    "print (\"Datatype Of 'listFrouits' is:\", type(setFrouits1))\n",
    "\n",
    "print(\"\\n Display setFrouits1 : \")\n",
    "print(setFrouits1)\n",
    "\n",
    "setFrouits2 = {'apple', 'Mango', 'banana', 100, 200, 300}\n",
    "print(\"\\n Display new set setFrouits2 : \")\n",
    "print (setFrouits2)\n",
    "\n",
    "setFrouits1.update(setFrouits2)\n",
    "print(\"\\n Update setFrouits1 with setFrouits2 and all items are unique: \")\n",
    "print(setFrouits1)\n",
    "\n",
    "setFrouits2.add('pineapple')\n",
    "listOfmixVar = ['pakistan', 54000]\n",
    "setFrouits2.update(listOfmixVar)\n",
    "\n",
    "print(\"\\n Add one single item and a list: \")\n",
    "print (setFrouits2)\n",
    "\n",
    "setFrouits2.discard('pineapple') # it will not raise an error\n",
    "print(\"\\n Remove 'pineapple' from set: \")\n",
    "print (setFrouits2)\n",
    "\n",
    "setFrouits2.remove('G') # it will raise an error"
   ]
  },
  {
   "cell_type": "markdown",
   "metadata": {},
   "source": [
    "### <font color='orange'>Example 3:</font>\n",
    "\n",
    "<font color='#094B91'> In this Example we creat a list and than convert that list into a set data type by using 'set()' method and than we creat a new set variable and store some values in it. Than we add a new value 'D' by using add method. Than we remove a value by discard method. we can not use remove method with any set this will through some error. And we add two set in a single set variable but set only store unique values no value will be duplicate in set."
   ]
  },
  {
   "cell_type": "code",
   "execution_count": null,
   "metadata": {},
   "outputs": [],
   "source": [
    "setFrouits1 = {'apple', 'Mango', 'banana', 'Peach'}\n",
    "setFrouits2 = {'banana', 'Peach', 'cherry', 'Guava'}\n",
    "\n",
    "print(\"Display setFrouits1 & setFrouits2 boyh have som esame and some different items:\")\n",
    "print(setFrouits1)\n",
    "print(setFrouits2)\n",
    "      \n",
    "setFrouits1.update(setFrouits2)\n",
    "      \n",
    "print(\"\\n Update setFrouits1 but only different items will updated:\")\n",
    "print (setFrouits1)\n"
   ]
  },
  {
   "cell_type": "markdown",
   "metadata": {},
   "source": [
    "\n",
    "<br>\n",
    "<br>\n",
    "<br>\n",
    "<br>\n",
    "\n"
   ]
  },
  {
   "cell_type": "markdown",
   "metadata": {},
   "source": [
    "***\n",
    "\n",
    "# <center><font size=\"8\" color='red'>3. Comparison Operators</font></center>\n",
    "- comparison operator use for desision it's check the sreing and number according statement and return true or false.\n",
    "\n",
    "### <font color='orange'>Example 1:</font>\n",
    "\n",
    "<font color='#094B91'> In this example we use different type of comparicon operaton like <, <=, ==, != , 0r, and. These all operator return some boolian values according the statement."
   ]
  },
  {
   "cell_type": "code",
   "execution_count": null,
   "metadata": {},
   "outputs": [],
   "source": [
    "1<3"
   ]
  },
  {
   "cell_type": "code",
   "execution_count": null,
   "metadata": {},
   "outputs": [],
   "source": [
    " 15 <= 23"
   ]
  },
  {
   "cell_type": "code",
   "execution_count": null,
   "metadata": {},
   "outputs": [],
   "source": [
    "'Mehvish' == \"Zeenat\""
   ]
  },
  {
   "cell_type": "code",
   "execution_count": null,
   "metadata": {},
   "outputs": [],
   "source": [
    " \"Mehvish\" != \"Mehvish\""
   ]
  },
  {
   "cell_type": "code",
   "execution_count": null,
   "metadata": {},
   "outputs": [],
   "source": [
    "(1==1) or (5 > 2)"
   ]
  },
  {
   "cell_type": "code",
   "execution_count": 96,
   "metadata": {},
   "outputs": [
    {
     "data": {
      "text/plain": [
       "False"
      ]
     },
     "execution_count": 96,
     "metadata": {},
     "output_type": "execute_result"
    }
   ],
   "source": [
    " (1 < 2) and (2 < 1)"
   ]
  },
  {
   "cell_type": "markdown",
   "metadata": {},
   "source": [
    "### <font color='orange'>Example 2:</font>\n",
    "\n",
    "\n",
    "<font color='#094B91'> In this example we use different type of comparicon operaton like <, <=, ==, != , 0r, and. These all operator return some boolian values according the statement."
   ]
  },
  {
   "cell_type": "code",
   "execution_count": 97,
   "metadata": {},
   "outputs": [
    {
     "name": "stdout",
     "output_type": "stream",
     "text": [
      "False\n",
      "True\n"
     ]
    }
   ],
   "source": [
    "num1 = 20 \n",
    "num2 = 15\n",
    "num3 = 15\n",
    "\n",
    "print(num1 == num2)\n",
    "print(num3 == num2)"
   ]
  },
  {
   "cell_type": "code",
   "execution_count": 98,
   "metadata": {},
   "outputs": [
    {
     "name": "stdout",
     "output_type": "stream",
     "text": [
      "True\n",
      "False\n"
     ]
    }
   ],
   "source": [
    "print(num1 != num2)\n",
    "print(num3 != num2)"
   ]
  },
  {
   "cell_type": "code",
   "execution_count": 99,
   "metadata": {},
   "outputs": [
    {
     "name": "stdout",
     "output_type": "stream",
     "text": [
      "True\n",
      "False\n"
     ]
    }
   ],
   "source": [
    "print(num1 > num2)\n",
    "print(num3 > num2)"
   ]
  },
  {
   "cell_type": "code",
   "execution_count": 100,
   "metadata": {},
   "outputs": [
    {
     "name": "stdout",
     "output_type": "stream",
     "text": [
      "False\n",
      "False\n"
     ]
    }
   ],
   "source": [
    "print(num3 < num2)\n",
    "print(num1 < num2)"
   ]
  },
  {
   "cell_type": "code",
   "execution_count": 101,
   "metadata": {},
   "outputs": [
    {
     "name": "stdout",
     "output_type": "stream",
     "text": [
      "True\n",
      "True\n",
      "False\n"
     ]
    }
   ],
   "source": [
    "print(num1 >= num2)\n",
    "print(num2 >= num3)\n",
    "print(num2 >= num1)"
   ]
  },
  {
   "cell_type": "code",
   "execution_count": 102,
   "metadata": {},
   "outputs": [
    {
     "name": "stdout",
     "output_type": "stream",
     "text": [
      "False\n",
      "True\n",
      "True\n"
     ]
    }
   ],
   "source": [
    "print(num1 <= num2)\n",
    "print(num2 <= num3)\n",
    "print(num2 <= num1)"
   ]
  },
  {
   "cell_type": "code",
   "execution_count": 103,
   "metadata": {},
   "outputs": [
    {
     "name": "stdout",
     "output_type": "stream",
     "text": [
      "True\n",
      "False\n",
      "True\n"
     ]
    }
   ],
   "source": [
    "print(num1 <= num2 or num2 == num3)\n",
    "print(num2 > num3 or num1 < num2)\n",
    "print(num2 <= num1 or num2 <= num3)"
   ]
  },
  {
   "cell_type": "code",
   "execution_count": 104,
   "metadata": {},
   "outputs": [
    {
     "name": "stdout",
     "output_type": "stream",
     "text": [
      "False\n",
      "False\n",
      "True\n"
     ]
    }
   ],
   "source": [
    "print(num1 <= num2 and num2 == num3)\n",
    "print(num2 > num3 and num1 < num2)\n",
    "print(num2 <= num1 and num2 <= num3)"
   ]
  },
  {
   "cell_type": "markdown",
   "metadata": {},
   "source": [
    "### <font color='orange'>Example 3:</font>\n",
    "\n",
    "\n",
    "<font color='#094B91'> In this example we use different type of comparicon operaton like <, <=, ==, != , 0r, and. These all operator return some boolian values according the statement."
   ]
  },
  {
   "cell_type": "code",
   "execution_count": 105,
   "metadata": {},
   "outputs": [
    {
     "name": "stdout",
     "output_type": "stream",
     "text": [
      "False\n",
      "True\n",
      "False\n"
     ]
    }
   ],
   "source": [
    "str1 = 'Abdullah'\n",
    "str2 = 'abdullah'\n",
    "str3 = 'Abdullah'\n",
    "str4 = 'Shahid'\n",
    "\n",
    "\n",
    "print (str1 == str2)\n",
    "print (str1 == str3)\n",
    "print (str1 == str4)"
   ]
  },
  {
   "cell_type": "code",
   "execution_count": 106,
   "metadata": {},
   "outputs": [
    {
     "name": "stdout",
     "output_type": "stream",
     "text": [
      "True\n",
      "False\n",
      "True\n"
     ]
    }
   ],
   "source": [
    "print (str1 != str2)\n",
    "print (str1 != str3)\n",
    "print (str1 != str4)"
   ]
  },
  {
   "cell_type": "code",
   "execution_count": 107,
   "metadata": {},
   "outputs": [
    {
     "name": "stdout",
     "output_type": "stream",
     "text": [
      "True\n",
      "False\n",
      "True\n"
     ]
    }
   ],
   "source": [
    "print (str1 != str2 or str1 == str3)\n",
    "print (str1 == str2 or str3 == str4)\n",
    "print (str1 != str4 or str2 != str3)"
   ]
  },
  {
   "cell_type": "code",
   "execution_count": 108,
   "metadata": {},
   "outputs": [
    {
     "name": "stdout",
     "output_type": "stream",
     "text": [
      "True\n",
      "False\n",
      "True\n"
     ]
    }
   ],
   "source": [
    "print (str1 != str2 and str1 == str3)\n",
    "print (str1 == str2 and str3 == str4)\n",
    "print (str1 != str4 and str2 != str3)"
   ]
  },
  {
   "cell_type": "markdown",
   "metadata": {},
   "source": [
    "\n",
    "<br>\n",
    "<br>\n",
    "<br>\n",
    "<br>\n"
   ]
  },
  {
   "cell_type": "markdown",
   "metadata": {},
   "source": [
    "***\n",
    "\n",
    "# <center><font size=\"8\" color='red'>4. If-Else Statements</font></center>\n",
    "- If-Else statments are used to make desion and execute a block of code if the condition return true than if block will execute and if statement return false than else block will execute\n",
    "\n",
    "### <font color='orange'>Example 1:</font>\n",
    "\n",
    "<font color='#094B91'> In this example we check that 25 is an odd number orr even number."
   ]
  },
  {
   "cell_type": "code",
   "execution_count": 109,
   "metadata": {},
   "outputs": [
    {
     "name": "stdout",
     "output_type": "stream",
     "text": [
      "Odd\n"
     ]
    }
   ],
   "source": [
    "if 25 % 2 == 0:\n",
    "    print('Even')\n",
    "else:\n",
    "    print('Odd')"
   ]
  },
  {
   "cell_type": "markdown",
   "metadata": {},
   "source": [
    "### <font color='orange'>Example 2:</font>\n",
    "\n",
    "<font color='#094B91'> In this example we store 10 in num1 variable and we store 20 in num 2 variable than we check by if comdition that numbers are equal or not."
   ]
  },
  {
   "cell_type": "code",
   "execution_count": 110,
   "metadata": {},
   "outputs": [
    {
     "name": "stdout",
     "output_type": "stream",
     "text": [
      "num1 and num2 are not equal!\n"
     ]
    }
   ],
   "source": [
    "num1 = 10\n",
    "num2 = 20\n",
    "\n",
    "if (num1 == num2):\n",
    "    print(\"num1 and num2 are equal!\")\n",
    "else:\n",
    "    print(\"num1 and num2 are not equal!\")"
   ]
  },
  {
   "cell_type": "markdown",
   "metadata": {},
   "source": [
    "### <font color='orange'>Example 3:</font>\n",
    "\n",
    "<font color='#094B91'> In this example we use if satement with string data type and than we do some other iperation with if sattement."
   ]
  },
  {
   "cell_type": "code",
   "execution_count": 111,
   "metadata": {},
   "outputs": [
    {
     "name": "stdout",
     "output_type": "stream",
     "text": [
      "str1 and str2 are not equal!\n"
     ]
    }
   ],
   "source": [
    "str1 = 'Abdullah'\n",
    "str2 = 'abdullah'\n",
    "\n",
    "if (str1 != str2):\n",
    "    print(\"str1 and str2 are not equal!\")\n",
    "else:\n",
    "    print(\"str1 and str2 are equal!\")"
   ]
  },
  {
   "cell_type": "code",
   "execution_count": 112,
   "metadata": {},
   "outputs": [
    {
     "name": "stdout",
     "output_type": "stream",
     "text": [
      "statement is not true\n"
     ]
    }
   ],
   "source": [
    "if (0):\n",
    "    print(\"statement is true !\")\n",
    "else:\n",
    "    print(\"statement is not true\")"
   ]
  },
  {
   "cell_type": "code",
   "execution_count": 113,
   "metadata": {},
   "outputs": [
    {
     "name": "stdout",
     "output_type": "stream",
     "text": [
      "statement is true !\n"
     ]
    }
   ],
   "source": [
    "if (1):\n",
    "    print(\"statement is true !\")\n",
    "else:\n",
    "    print(\"statement is not true\")"
   ]
  },
  {
   "cell_type": "code",
   "execution_count": 114,
   "metadata": {},
   "outputs": [
    {
     "name": "stdout",
     "output_type": "stream",
     "text": [
      "statement is true !\n"
     ]
    }
   ],
   "source": [
    "if (0.11):\n",
    "    print(\"statement is true !\")\n",
    "else:\n",
    "    print(\"statement is not true\")"
   ]
  },
  {
   "cell_type": "code",
   "execution_count": 115,
   "metadata": {},
   "outputs": [
    {
     "name": "stdout",
     "output_type": "stream",
     "text": [
      "statement is true !\n"
     ]
    }
   ],
   "source": [
    "if ('true'):\n",
    "    print(\"statement is true !\")\n",
    "else:\n",
    "    print(\"statement is not true\")"
   ]
  },
  {
   "cell_type": "code",
   "execution_count": 116,
   "metadata": {},
   "outputs": [
    {
     "name": "stdout",
     "output_type": "stream",
     "text": [
      "statement is true !\n"
     ]
    }
   ],
   "source": [
    "if ('any thing'):\n",
    "    print(\"statement is true !\")\n",
    "else:\n",
    "    print(\"statement is not true\")"
   ]
  },
  {
   "cell_type": "code",
   "execution_count": 117,
   "metadata": {},
   "outputs": [
    {
     "name": "stdout",
     "output_type": "stream",
     "text": [
      "statement is not true\n"
     ]
    }
   ],
   "source": [
    "if (''):\n",
    "    print(\"statement is true !\")\n",
    "else:\n",
    "    print(\"statement is not true\")"
   ]
  },
  {
   "cell_type": "markdown",
   "metadata": {},
   "source": [
    "\n",
    "<br>\n",
    "<br>\n",
    "<br>\n",
    "<br>\n"
   ]
  },
  {
   "cell_type": "markdown",
   "metadata": {},
   "source": [
    "***\n",
    "\n",
    "# <center><font size=\"8\" color='red'>5. For and While Loop</font></center>\n",
    "- Python has for and while loop for iteration, used when we want to perform a specific a task repeatedly.\n",
    "\n",
    "### <font color='orange'>Example 1:</font>\n",
    "\n",
    "<font color='#094B91'> In this example we use for loop and find tha factorial of 5 and than we use while loop.\n"
   ]
  },
  {
   "cell_type": "code",
   "execution_count": 118,
   "metadata": {},
   "outputs": [
    {
     "name": "stdout",
     "output_type": "stream",
     "text": [
      "1\n",
      "2\n",
      "3\n",
      "4\n",
      "5\n",
      "120\n"
     ]
    }
   ],
   "source": [
    "#example of for loop\n",
    "fact = 1\n",
    "N = 5\n",
    "for i in range (1,N+1):\n",
    "    fact*=i\n",
    "    print(i)\n",
    " \n",
    "print (fact)"
   ]
  },
  {
   "cell_type": "code",
   "execution_count": 119,
   "metadata": {},
   "outputs": [
    {
     "name": "stdout",
     "output_type": "stream",
     "text": [
      "1\n",
      "2\n",
      "3\n",
      "4\n",
      "5\n",
      "6\n",
      "7\n",
      "8\n",
      "9\n",
      "10\n"
     ]
    }
   ],
   "source": [
    "#example of while loop\n",
    "a = 0\n",
    "while a < 10:\n",
    " a = a+1\n",
    " print(a)"
   ]
  },
  {
   "cell_type": "markdown",
   "metadata": {},
   "source": [
    "### <font color='orange'>Example 2:</font>\n",
    "\n",
    "<font color='#094B91'> In this example we print 0 to 4 digits by using for loop, we use renge method with for loop and pass some parameter to range method in 1st parameter we pass tha start value and in 2nd parament we pass end value and in 3rd parameter we pass incriment value. <br>\n",
    "And we use for loop with List."
   ]
  },
  {
   "cell_type": "code",
   "execution_count": 120,
   "metadata": {},
   "outputs": [
    {
     "name": "stdout",
     "output_type": "stream",
     "text": [
      "0\n",
      "1\n",
      "2\n",
      "3\n",
      "4\n"
     ]
    }
   ],
   "source": [
    "for i in range(5):\n",
    "  print(i) "
   ]
  },
  {
   "cell_type": "code",
   "execution_count": 121,
   "metadata": {},
   "outputs": [
    {
     "name": "stdout",
     "output_type": "stream",
     "text": [
      "4\n",
      "5\n",
      "6\n",
      "7\n",
      "8\n",
      "9\n",
      "10\n"
     ]
    }
   ],
   "source": [
    "for i in range(4, 10+1):\n",
    "  print(i)"
   ]
  },
  {
   "cell_type": "code",
   "execution_count": 122,
   "metadata": {},
   "outputs": [
    {
     "name": "stdout",
     "output_type": "stream",
     "text": [
      "0\n",
      "2\n",
      "4\n",
      "6\n",
      "8\n"
     ]
    }
   ],
   "source": [
    "for i in range(0, 10, 2):\n",
    "  print(i)"
   ]
  },
  {
   "cell_type": "code",
   "execution_count": 123,
   "metadata": {},
   "outputs": [
    {
     "name": "stdout",
     "output_type": "stream",
     "text": [
      "apple 1kg : 100\n",
      "apple 2kg : 200\n",
      "apple 5kg : 400\n",
      "orange 1kg : 100\n",
      "orange 2kg : 200\n",
      "orange 5kg : 400\n",
      "mango 1kg : 100\n",
      "mango 2kg : 200\n",
      "mango 5kg : 400\n"
     ]
    }
   ],
   "source": [
    "fruits = [\"apple\", \"orange\", \"mango\"]\n",
    "prise = [\"1kg : 100\", \"2kg : 200\", \"5kg : 400\"]\n",
    "\n",
    "for i in fruits:\n",
    "  for j in prise:\n",
    "    print(i, j)"
   ]
  },
  {
   "cell_type": "code",
   "execution_count": 124,
   "metadata": {},
   "outputs": [
    {
     "name": "stdout",
     "output_type": "stream",
     "text": [
      "1\n",
      "2\n",
      "3\n",
      "4\n",
      "next iteration\n",
      "6\n"
     ]
    }
   ],
   "source": [
    "i = 0\n",
    "while i < 6:\n",
    "  i += 1\n",
    "  if i == 5:\n",
    "    print(\"next iteration\")\n",
    "    continue\n",
    "  print(i)"
   ]
  },
  {
   "cell_type": "markdown",
   "metadata": {},
   "source": [
    "### <font color='orange'>Example 3:</font>\n",
    "\n",
    "<font color='#094B91'> In this example we print 0 to 4 digits by using for loop, we use renge method with for loop and pass some parameter to range method in 1st parameter we pass tha start value and in 2nd parament we pass end value and in 3rd parameter we pass incriment value. <br>\n",
    "And we use for loop with List."
   ]
  },
  {
   "cell_type": "code",
   "execution_count": 125,
   "metadata": {},
   "outputs": [
    {
     "name": "stdout",
     "output_type": "stream",
     "text": [
      "apple\n",
      "Mango\n",
      "banana\n",
      "Peach\n",
      "cherry\n",
      "Guava\n"
     ]
    }
   ],
   "source": [
    "listFrouits = ['apple', 'Mango', 'banana', 'Peach', 'cherry', 'Guava']\n",
    "\n",
    "for i in listFrouits:\n",
    "  print(i)"
   ]
  },
  {
   "cell_type": "code",
   "execution_count": 126,
   "metadata": {},
   "outputs": [
    {
     "name": "stdout",
     "output_type": "stream",
     "text": [
      "apple\n",
      "Mango\n",
      "banana\n",
      "Peach\n",
      "cherry\n",
      "Guava\n"
     ]
    }
   ],
   "source": [
    "tupleEmployee = (\"emp_id\" , 1001 , \"emp_name\" , \"Ali\" , \"emp_department\" , \"Sales\")\n",
    "\n",
    "for i in listFrouits:\n",
    "  print(i)"
   ]
  },
  {
   "cell_type": "code",
   "execution_count": 127,
   "metadata": {},
   "outputs": [
    {
     "name": "stdout",
     "output_type": "stream",
     "text": [
      "id\n",
      "name\n",
      "class\n"
     ]
    }
   ],
   "source": [
    "dictionaryStudent = {\"id\" : \"F2019027004\" , \"name\" : \"Abdullah\" , \"class\": 10}\n",
    "\n",
    "for i in dictionaryStudent:\n",
    "  print(i)"
   ]
  },
  {
   "cell_type": "code",
   "execution_count": 128,
   "metadata": {},
   "outputs": [
    {
     "name": "stdout",
     "output_type": "stream",
     "text": [
      "F2019027004\n",
      "Abdullah\n",
      "10\n"
     ]
    }
   ],
   "source": [
    "dictionaryStudent = {\"id\" : \"F2019027004\" , \"name\" : \"Abdullah\" , \"class\": 10}\n",
    "\n",
    "for i in dictionaryStudent:\n",
    "  print(dictionaryStudent[i])"
   ]
  },
  {
   "cell_type": "code",
   "execution_count": 129,
   "metadata": {},
   "outputs": [
    {
     "name": "stdout",
     "output_type": "stream",
     "text": [
      "banana\n",
      "100\n",
      "pakistan\n",
      "200\n",
      "300\n",
      "54000\n",
      "Mango\n",
      "pineapple\n",
      "apple\n"
     ]
    }
   ],
   "source": [
    "setFrouits = {'Mango', 100, 'pineapple', 'pakistan', 'banana', 200, 300, 54000, 'apple'}\n",
    "\n",
    "for i in setFrouits:\n",
    "  print(i)"
   ]
  },
  {
   "cell_type": "code",
   "execution_count": 130,
   "metadata": {},
   "outputs": [
    {
     "name": "stdout",
     "output_type": "stream",
     "text": [
      "0\n",
      "1\n",
      "2\n",
      "3\n",
      "loop end on 1==3 !\n"
     ]
    }
   ],
   "source": [
    "i = 0\n",
    "while i < 5:\n",
    "  print(i)\n",
    "  if (i == 3):\n",
    "    print(\"loop end on 1==3 !\")\n",
    "    break\n",
    "  i += 1"
   ]
  },
  {
   "cell_type": "markdown",
   "metadata": {},
   "source": [
    "\n",
    "<br>\n",
    "<br>\n",
    "<br>\n",
    "<br>\n"
   ]
  },
  {
   "cell_type": "markdown",
   "metadata": {},
   "source": [
    "***\n",
    "\n",
    "# <center><font size=\"8\" color='red'>6. Functions</font></center>\n",
    "- It is a block of organized and reusable code.\n",
    "- It is used to perform a single, related action.\n",
    "- It provides high modularity for your application.\n",
    "- It has a hight degree of code reusing.\n",
    "- The syntax is:\n",
    "\n",
    "def functionname( parameters ):\n",
    "\n",
    "\"function_docstring\"\n",
    "\n",
    "function_suite\n",
    "\n",
    "return [expression]\n",
    "<br>\n",
    "<br>\n",
    "### <font color='orange'>Example 1:</font>\n",
    "\n",
    "<font color='#094B91'> In this example we define a function 'printme' that will take a parameter and this function simpley print that parameter.\n"
   ]
  },
  {
   "cell_type": "code",
   "execution_count": 131,
   "metadata": {},
   "outputs": [
    {
     "name": "stdout",
     "output_type": "stream",
     "text": [
      "I'm first call to user defined function!\n"
     ]
    }
   ],
   "source": [
    " # Function definition is here\n",
    "def printme( str ):\n",
    "#This prints a passed string into this function\n",
    "     print (str)\n",
    "     return;\n",
    "# Now you can call printme function\n",
    "printme(\"I'm first call to user defined function!\")"
   ]
  },
  {
   "cell_type": "markdown",
   "metadata": {},
   "source": [
    "### <font color='orange'>Example 2:</font>\n",
    "\n",
    "<font color='#094B91'> In this example we define a function add that will take 2 parameter and return the some of these 2 parameters."
   ]
  },
  {
   "cell_type": "code",
   "execution_count": 132,
   "metadata": {},
   "outputs": [
    {
     "name": "stdout",
     "output_type": "stream",
     "text": [
      "8\n",
      "4\n"
     ]
    }
   ],
   "source": [
    "def add(x, y):\n",
    "    return x + y\n",
    "\n",
    "print(add(3,5))\n",
    "\n",
    "ans = add(2,2)\n",
    "print(ans)"
   ]
  },
  {
   "cell_type": "markdown",
   "metadata": {},
   "source": [
    "### <font color='orange'>Example 3:</font>\n",
    "\n",
    "<font color='#094B91'> In this example we define a function 'printlist' taht will take a list as argument and print that list."
   ]
  },
  {
   "cell_type": "code",
   "execution_count": 133,
   "metadata": {},
   "outputs": [
    {
     "name": "stdout",
     "output_type": "stream",
     "text": [
      "apple\n",
      "Mango\n",
      "banana\n",
      "Peach\n",
      "cherry\n",
      "Guava\n"
     ]
    }
   ],
   "source": [
    "def printlist(x):\n",
    "    for i in x:\n",
    "        print(i)\n",
    "\n",
    "listFrouits = ['apple', 'Mango', 'banana', 'Peach', 'cherry', 'Guava']\n",
    "\n",
    "printlist(listFrouits)\n"
   ]
  },
  {
   "cell_type": "markdown",
   "metadata": {},
   "source": [
    "\n",
    "<br>\n",
    "<br>\n",
    "<br>\n",
    "<br>\n"
   ]
  },
  {
   "cell_type": "markdown",
   "metadata": {},
   "source": [
    "***\n",
    "\n",
    "# <center><font size=\"8\" color='red'>7. Lambda Functions</font></center>\n",
    "- The creation of anonymous functions at runtime, using a construct called \"lambda\".\n",
    "- Lambda function doesn't include return statement, it always contains an expression which is returned.\n",
    "- This piece of code shows the difference between a normal function definition (\"f\") and a lambda function (\"g\"):\n",
    "\n",
    "### <font color='orange'>Example 1:</font>\n",
    "\n",
    "<font color='#094B91'> In this example we show tha difference between simple function and lamda function that how can we create a lamda function in a single line."
   ]
  },
  {
   "cell_type": "code",
   "execution_count": 134,
   "metadata": {},
   "outputs": [
    {
     "name": "stdout",
     "output_type": "stream",
     "text": [
      "64\n"
     ]
    }
   ],
   "source": [
    " #Normal function\n",
    "def f (x):\n",
    "     return x**2\n",
    "print (f(8))"
   ]
  },
  {
   "cell_type": "code",
   "execution_count": 135,
   "metadata": {},
   "outputs": [
    {
     "data": {
      "text/plain": [
       "30"
      ]
     },
     "execution_count": 135,
     "metadata": {},
     "output_type": "execute_result"
    }
   ],
   "source": [
    " #Lambda Function\n",
    "#lambda expressions\n",
    "times3 = lambda var:var*3\n",
    "times3(10)\n",
    "#lambda expressions: another way to write a function in line"
   ]
  },
  {
   "cell_type": "markdown",
   "metadata": {},
   "source": [
    "### <font color='orange'>Example 2:</font>\n",
    "\n",
    "<font color='#094B91'> In this example we show tha difference between simple function and lamda function that how can we create a lamda function in a single line."
   ]
  },
  {
   "cell_type": "code",
   "execution_count": 136,
   "metadata": {},
   "outputs": [
    {
     "name": "stdout",
     "output_type": "stream",
     "text": [
      "8\n",
      "4\n"
     ]
    }
   ],
   "source": [
    "def add(x, y):\n",
    "    return x + y\n",
    "\n",
    "print(add(3,5))\n",
    "\n",
    "ans = add(2,2)\n",
    "print(ans)"
   ]
  },
  {
   "cell_type": "code",
   "execution_count": 137,
   "metadata": {},
   "outputs": [
    {
     "name": "stdout",
     "output_type": "stream",
     "text": [
      "8\n",
      "4\n"
     ]
    }
   ],
   "source": [
    "add = lambda x,y : x + y\n",
    "\n",
    "print(add(3,5))\n",
    "ans = add(2,2)\n",
    "print(ans)"
   ]
  },
  {
   "cell_type": "markdown",
   "metadata": {},
   "source": [
    "### <font color='orange'>Example 3:</font>\n",
    "\n",
    "<font color='#094B91'> In this example we show tha difference between simple function and lamda function that how can we create a lamda function in a single line."
   ]
  },
  {
   "cell_type": "code",
   "execution_count": 138,
   "metadata": {},
   "outputs": [
    {
     "name": "stdout",
     "output_type": "stream",
     "text": [
      "20\n",
      "30\n"
     ]
    }
   ],
   "source": [
    "def myfunc(x):\n",
    "  return lambda y : y * x\n",
    "\n",
    "doubler = myfunc(2)\n",
    "tripler = myfunc(3)\n",
    "\n",
    "print(doubler(10))\n",
    "print(tripler(10))"
   ]
  },
  {
   "cell_type": "markdown",
   "metadata": {},
   "source": [
    "# <font color='blue'>7.1 Map()</font>\n",
    "- Map() function is used with two arguments. Just like: r = map(func, seq)\n",
    "- The first argument func is the name of a function and the second a sequence (e.g. a list).\n",
    "seq. \n",
    "-map() applies the function func to all the elements of the sequence seq. It returns a new list with the elements changed by func.\n",
    "\n",
    "### <font color='orange'>Example 1:</font>\n",
    "\n",
    "<font color='#094B91'> In this example we use map() method and in first agrument of map method we pass a lamda function and in 2nd argument we pass a string and taht map method will return the length of each word."
   ]
  },
  {
   "cell_type": "code",
   "execution_count": 139,
   "metadata": {},
   "outputs": [
    {
     "name": "stdout",
     "output_type": "stream",
     "text": [
      "['It', 'is', 'raining', 'cats', 'and', 'dogs']\n"
     ]
    },
    {
     "data": {
      "text/plain": [
       "[2, 2, 7, 4, 3, 4]"
      ]
     },
     "execution_count": 139,
     "metadata": {},
     "output_type": "execute_result"
    }
   ],
   "source": [
    "sentence = 'It is raining cats and dogs'\n",
    "words = sentence.split()\n",
    "print (words)\n",
    "lengths = map(lambda word: len(word), words)\n",
    "list(lengths)"
   ]
  },
  {
   "cell_type": "markdown",
   "metadata": {},
   "source": [
    "### <font color='orange'>Example 2:</font>\n",
    "\n",
    "<font color='#094B91'> In this example we define a function and list of string, taht function return the length of string and we pass this function length and list listFrouits to map method that will return tha length of each list item."
   ]
  },
  {
   "cell_type": "code",
   "execution_count": 140,
   "metadata": {},
   "outputs": [
    {
     "name": "stdout",
     "output_type": "stream",
     "text": [
      "<map object at 0x0000029241D33A60>\n",
      "[5, 5, 6, 5, 6, 5]\n"
     ]
    }
   ],
   "source": [
    "def length(lnt):\n",
    "    return len(lnt)\n",
    "\n",
    "listFrouits = ['apple', 'Mango', 'banana', 'Peach', 'cherry', 'Guava']\n",
    "\n",
    "print(map(length,listFrouits))\n",
    "\n",
    "print(list(map(length,listFrouits)))"
   ]
  },
  {
   "cell_type": "markdown",
   "metadata": {},
   "source": [
    "### <font color='orange'>Example 3:</font>\n",
    "\n",
    "<font color='#094B91'> In this example we define a function and 2 list of string, taht function take 2 string parameter and return the concatinate string. We pass this method and 2 lists to map() method."
   ]
  },
  {
   "cell_type": "code",
   "execution_count": 141,
   "metadata": {},
   "outputs": [
    {
     "name": "stdout",
     "output_type": "stream",
     "text": [
      "<map object at 0x0000029241D33880>\n",
      "['apple & Peach', 'Mango & cherry', 'banana & Guava']\n"
     ]
    }
   ],
   "source": [
    "def concat(w1, w2):\n",
    "    return w1 + \" & \" + w2\n",
    "\n",
    "listFrouits1 = ['apple', 'Mango', 'banana']\n",
    "listFrouits2 = ['Peach', 'cherry', 'Guava']\n",
    "\n",
    "print(map(concat ,listFrouits1, listFrouits2))\n",
    "\n",
    "print(list(map(concat ,listFrouits1, listFrouits2)))"
   ]
  },
  {
   "cell_type": "markdown",
   "metadata": {},
   "source": [
    "# <font color='blue'>7.2 Filter()</font>\n",
    "- The function filter(function, list) offers an elegant way to filter out all the elements of a list.\n",
    "- The function filter(f,l) needs a function f as its first argument. f returns a Boolean value, i.e. either True or False.\n",
    "- This function will be applied to every element of the list l.\n",
    "- Only if f returns True will the element of the list be included in the result list.\n",
    "\n",
    "### <font color='orange'>Example 1:</font>\n",
    "\n",
    "<font color='#094B91'> In this example we pass a lamda function and a list to filter method that will return odd number from list.\n",
    "and in next example filter methor return even number from list."
   ]
  },
  {
   "cell_type": "code",
   "execution_count": 142,
   "metadata": {},
   "outputs": [
    {
     "data": {
      "text/plain": [
       "[1, 1, 3, 5, 13, 21, 55]"
      ]
     },
     "execution_count": 142,
     "metadata": {},
     "output_type": "execute_result"
    }
   ],
   "source": [
    "fib = [0,1,1,2,3,5,8,13,21,34,55]\n",
    "result1 = filter(lambda x: x % 2, fib)\n",
    "list(result1)"
   ]
  },
  {
   "cell_type": "code",
   "execution_count": 143,
   "metadata": {},
   "outputs": [
    {
     "data": {
      "text/plain": [
       "[0, 2, 8, 34]"
      ]
     },
     "execution_count": 143,
     "metadata": {},
     "output_type": "execute_result"
    }
   ],
   "source": [
    " fib = [0,1,1,2,3,5,8,13,21,34,55]\n",
    "result2 = filter(lambda x: x % 2 == 0, fib)\n",
    "list (result2)"
   ]
  },
  {
   "cell_type": "markdown",
   "metadata": {},
   "source": [
    "### <font color='orange'>Example 2:</font>\n",
    "\n",
    "<font color='#094B91'> In this example we create a list and than pass a lamda function and list to filter method that will return odd number from list.\n",
    "and in next example filter methor return even number from list."
   ]
  },
  {
   "cell_type": "code",
   "execution_count": 144,
   "metadata": {},
   "outputs": [
    {
     "name": "stdout",
     "output_type": "stream",
     "text": [
      "show all list:\n",
      "[0, 1, 2, 3, 4, 5, 6, 7, 8, 9, 10, 11, 12, 13, 14, 15, 16, 17, 18, 19, 20, 21, 22, 23, 24, 25, 26, 27, 28, 29]\n",
      "\n",
      " print odd list:\n",
      "[1, 3, 5, 7, 9, 11, 13, 15, 17, 19, 21, 23, 25, 27, 29]\n"
     ]
    }
   ],
   "source": [
    "listOfNum = []\n",
    "\n",
    "for i in range(30):\n",
    "    listOfNum.append(i)\n",
    "\n",
    "odd = filter(lambda x: x % 2 == 1, listOfNum)\n",
    "\n",
    "print(\"show all list:\")\n",
    "print(listOfNum)\n",
    "\n",
    "print(\"\\n print odd list:\")\n",
    "print(list(odd))"
   ]
  },
  {
   "cell_type": "code",
   "execution_count": 145,
   "metadata": {},
   "outputs": [
    {
     "name": "stdout",
     "output_type": "stream",
     "text": [
      "show all list:\n",
      "[0, 3, 6, 9, 12, 15, 18, 21, 24, 27]\n",
      "\n",
      " print even list:\n",
      "[0, 6, 12, 18, 24]\n"
     ]
    }
   ],
   "source": [
    "listOfNum = []\n",
    "\n",
    "for i in range(0,30,3):\n",
    "    listOfNum.insert(i,i)\n",
    "\n",
    "even = filter(lambda x: x % 2 == 0, listOfNum)\n",
    "\n",
    "print(\"show all list:\")\n",
    "print(listOfNum)\n",
    "\n",
    "print(\"\\n print even list:\")\n",
    "print(list(even))"
   ]
  },
  {
   "cell_type": "markdown",
   "metadata": {},
   "source": [
    "### <font color='orange'>Example 3:</font>\n",
    "\n",
    "<font color='#094B91'> In this example we define a m=function and create a list and than pass this function and list to filter method that method will retun that list element which length is grater than 5."
   ]
  },
  {
   "cell_type": "code",
   "execution_count": 146,
   "metadata": {},
   "outputs": [
    {
     "name": "stdout",
     "output_type": "stream",
     "text": [
      "['banana', 'cherry']\n"
     ]
    }
   ],
   "source": [
    "\n",
    "def checklen(w):\n",
    "    if(len(w) > 5):\n",
    "        return 1\n",
    "    else:\n",
    "        return 0\n",
    "        \n",
    "\n",
    "listFrouits = ['apple', 'Mango', 'banana', 'Peach', 'cherry', 'Guava']\n",
    "\n",
    "listFrouits2 = filter(checklen, listFrouits)\n",
    "\n",
    "print(list(listFrouits2))\n"
   ]
  },
  {
   "cell_type": "code",
   "execution_count": 147,
   "metadata": {},
   "outputs": [
    {
     "name": "stdout",
     "output_type": "stream",
     "text": [
      "['apple', 'Mango', 'Peach', 'Guava']\n"
     ]
    }
   ],
   "source": [
    "def checklen(w):\n",
    "    if(len(w) < 6):\n",
    "        return 1\n",
    "    else:\n",
    "        return 0\n",
    "        \n",
    "\n",
    "listFrouits = ['apple', 'Mango', 'banana', 'Peach', 'cherry', 'Guava']\n",
    "\n",
    "listFrouits2 = filter(checklen, listFrouits)\n",
    "\n",
    "print(list(listFrouits2))"
   ]
  },
  {
   "cell_type": "markdown",
   "metadata": {},
   "source": [
    "\n",
    "<br>\n",
    "<br>\n",
    "<br>\n",
    "<br>\n"
   ]
  },
  {
   "cell_type": "markdown",
   "metadata": {},
   "source": [
    "***\n",
    "\n",
    "# <center><font size=\"8\" color='red'>8. File I/O</font></center>\n",
    "- In this section, we'll cover all basic I/O function(methods).\n",
    "\n",
    "# <font color='blue'>8.1 Reading input from Keyboard</font>\n",
    "- For reading input from keyboard, raw_input() method is used.\n",
    "- It reads only one line from standard input and returns it as a string.\n",
    "\n",
    "### <font color='orange'>Example 1:</font>\n",
    "\n",
    "<font color='#094B91'> In this Example we import a input method from six.movies python laibrary and than take some input from user and print output on secreen."
   ]
  },
  {
   "cell_type": "code",
   "execution_count": 148,
   "metadata": {},
   "outputs": [
    {
     "name": "stdout",
     "output_type": "stream",
     "text": [
      "Enter your name: Abdullah\n",
      "Abdullah\n"
     ]
    }
   ],
   "source": [
    "#import input function from six.moves python library \n",
    "from six.moves import input\n",
    "string = input(\"Enter your name: \");\n",
    "print(string)"
   ]
  },
  {
   "cell_type": "markdown",
   "metadata": {},
   "source": [
    "### <font color='orange'>Example 2:</font>\n",
    "\n",
    "<font color='#094B91'> In this example we take two input from user and than print that input on secreen. "
   ]
  },
  {
   "cell_type": "code",
   "execution_count": 149,
   "metadata": {},
   "outputs": [
    {
     "name": "stdout",
     "output_type": "stream",
     "text": [
      "Please enter your firstname: Abdullah\n",
      "Please enter your lastname: Shahid\n",
      "\n",
      "\n",
      "Abdullah Shahid\n"
     ]
    }
   ],
   "source": [
    "fname = input(\"Please enter your firstname: \")\n",
    "\n",
    "lname = input(\"Please enter your lastname: \")\n",
    "\n",
    "print(\"\\n\")\n",
    "print(fname,lname)"
   ]
  },
  {
   "cell_type": "markdown",
   "metadata": {},
   "source": [
    "### <font color='orange'>Example 3:</font>\n",
    "\n",
    "<font color='#094B91'> In this example we take two integer from user and than check that input and after that we add that number and print that result on secreen."
   ]
  },
  {
   "cell_type": "code",
   "execution_count": 150,
   "metadata": {},
   "outputs": [
    {
     "name": "stdout",
     "output_type": "stream",
     "text": [
      "Enter 2 intiger values program will calculate the sum of these two numbers!\n",
      "Please enter first intiger value: 44\n",
      "Please enter second intiger value: 55\n",
      "\n",
      "\n",
      "Answer:  99\n"
     ]
    }
   ],
   "source": [
    "def check_user_input(val):\n",
    "    while(1):\n",
    "        try:\n",
    "            # Convert it into integer\n",
    "            val = int(val)\n",
    "            return val\n",
    "        except ValueError:\n",
    "            val = input(\"No.. input is not a intiger. Please Enter Value Again:\")\n",
    "\n",
    "\n",
    "print(\"Enter 2 intiger values program will calculate the sum of these two numbers!\")\n",
    "\n",
    "value1 = input(\"Please enter first intiger value: \")\n",
    "value1 = check_user_input(value1)\n",
    "\n",
    "value2 = input(\"Please enter second intiger value: \")\n",
    "value2 = check_user_input(value2)\n",
    "\n",
    "print(\"\\n\")\n",
    "print(\"Answer: \", value1 + value2)"
   ]
  },
  {
   "cell_type": "markdown",
   "metadata": {},
   "source": [
    "# <font color='blue'>8.2 I/O from or to Text File</font>\n",
    "- In this scenario, we'll read and write to a text file.\n",
    "    - r opens a file in read only mode.\n",
    "    - r+ opens a file read and write mode.\n",
    "    - w opens a file in write mode only.\n",
    "    - a opens a file in append mode\n",
    "    - a+ opens a file in append and read mode.\n",
    "    \n",
    "    ### <font color='red'> This attribute 'r+' 'open(\"file.txt\", \"r+\")' through error if file not exist\n"
   ]
  },
  {
   "cell_type": "markdown",
   "metadata": {},
   "source": [
    "   ### <font color='orange'>Example 1:</font>\n",
    "   \n",
    "  <font color='#094B91'>  In this example we try to open a file in read mode but that file is not exist so this open method will through some error."
   ]
  },
  {
   "cell_type": "code",
   "execution_count": 151,
   "metadata": {},
   "outputs": [
    {
     "ename": "FileNotFoundError",
     "evalue": "[Errno 2] No such file or directory: 'file.txt'",
     "output_type": "error",
     "traceback": [
      "\u001b[1;31m---------------------------------------------------------------------------\u001b[0m",
      "\u001b[1;31mFileNotFoundError\u001b[0m                         Traceback (most recent call last)",
      "\u001b[1;32m<ipython-input-151-12343bf147f4>\u001b[0m in \u001b[0;36m<module>\u001b[1;34m\u001b[0m\n\u001b[0;32m      1\u001b[0m \u001b[1;31m# Open a file to read\u001b[0m\u001b[1;33m\u001b[0m\u001b[1;33m\u001b[0m\u001b[1;33m\u001b[0m\u001b[0m\n\u001b[1;32m----> 2\u001b[1;33m \u001b[0mfileOpen\u001b[0m \u001b[1;33m=\u001b[0m \u001b[0mopen\u001b[0m\u001b[1;33m(\u001b[0m\u001b[1;34m\"file.txt\"\u001b[0m\u001b[1;33m,\u001b[0m \u001b[1;34m\"r+\"\u001b[0m\u001b[1;33m)\u001b[0m\u001b[1;33m\u001b[0m\u001b[1;33m\u001b[0m\u001b[0m\n\u001b[0m\u001b[0;32m      3\u001b[0m \u001b[0mstr\u001b[0m \u001b[1;33m=\u001b[0m \u001b[0mfileOpen\u001b[0m\u001b[1;33m.\u001b[0m\u001b[0mread\u001b[0m\u001b[1;33m(\u001b[0m\u001b[1;33m)\u001b[0m\u001b[1;33m;\u001b[0m \u001b[1;31m#to read specific content from start you can use read(12).\u001b[0m\u001b[1;33m\u001b[0m\u001b[1;33m\u001b[0m\u001b[0m\n\u001b[0;32m      4\u001b[0m                         \u001b[1;31m#It will read 12 characters from the start of file\u001b[0m\u001b[1;33m\u001b[0m\u001b[1;33m\u001b[0m\u001b[1;33m\u001b[0m\u001b[0m\n\u001b[0;32m      5\u001b[0m \u001b[0mprint\u001b[0m \u001b[1;33m(\u001b[0m\u001b[0mstr\u001b[0m\u001b[1;33m)\u001b[0m\u001b[1;33m\u001b[0m\u001b[1;33m\u001b[0m\u001b[0m\n",
      "\u001b[1;31mFileNotFoundError\u001b[0m: [Errno 2] No such file or directory: 'file.txt'"
     ]
    }
   ],
   "source": [
    "# Open a file to read\n",
    "fileOpen = open(\"file.txt\", \"r+\")\n",
    "str = fileOpen.read(); #to read specific content from start you can use read(12). \n",
    "                        #It will read 12 characters from the start of file\n",
    "print (str)\n",
    "                        # Close opend file\n",
    "fileOpen.close()"
   ]
  },
  {
   "cell_type": "markdown",
   "metadata": {},
   "source": [
    "### <font color='red'> this append attribute (a+) 'open(\"file.txt\", \"a+\")' create file if file not exist\n",
    "    \n",
    "<font color='#094B91'> we open a file in append mode so if file will not exist than this method create a wile and next line we use write method and write some string on file  and close the file. <br>\n",
    "    <br>\n",
    "after taht we open file in read mode and store the file data in a variable and than frint all data on secreen."
   ]
  },
  {
   "cell_type": "code",
   "execution_count": 152,
   "metadata": {},
   "outputs": [
    {
     "name": "stdout",
     "output_type": "stream",
     "text": [
      " Information Technology Lahore\n"
     ]
    }
   ],
   "source": [
    " # Open a file to append\n",
    "fileOpen = open(\"file.txt\", \"a+\")\n",
    "fileOpen.write(\" Information Technology Lahore\");\n",
    "fileOpen.close()\n",
    "# Open a file to read\n",
    "fileOpen = open(\"file.txt\", \"r+\")\n",
    "string = fileOpen.read(); #to read specific content from start you can use read(12).\n",
    "                            #It will read 12 characters from the start of file\n",
    "print (string)\n",
    "# Close opend file\n",
    "fileOpen.close()"
   ]
  },
  {
   "cell_type": "markdown",
   "metadata": {},
   "source": [
    "### <font color='orange'>Example 2:</font>\n",
    "\n",
    "<font color='#094B91'>\n",
    "    \n",
    "- The open() function takes two parameters; filename, and mode.\n",
    "In this example we open a file in append mode and that will crete a new file and write some data on taht file and than close tha afile after taht we open that file in read mode and store all file data on a variable and display on secreen after taht we close that file."
   ]
  },
  {
   "cell_type": "code",
   "execution_count": 153,
   "metadata": {},
   "outputs": [],
   "source": [
    "myfile = open('myfile.txt', 'a+')\n",
    "\n",
    "myfile.write(\"Hello! Welcome to myfile.txt\")\n",
    "\n",
    "myfile.close()"
   ]
  },
  {
   "cell_type": "code",
   "execution_count": 154,
   "metadata": {},
   "outputs": [
    {
     "name": "stdout",
     "output_type": "stream",
     "text": [
      "Hello! Welcome to myfile.txt\n"
     ]
    }
   ],
   "source": [
    "myfile =  open(\"myfile.txt\", \"r+\")\n",
    "filedata = myfile.read()\n",
    "\n",
    "print(filedata)\n",
    "myfile.close()"
   ]
  },
  {
   "cell_type": "markdown",
   "metadata": {},
   "source": [
    "### <font color='orange'>Example 3:</font>\n",
    "\n",
    "<font color='#094B91'>\n",
    "    \n",
    "- In this example we open file in write mood and write multipule line on that file and than close that file.\n",
    "- After taht we open file in read mode and write srtore all file data on a variable and print on secreen."
   ]
  },
  {
   "cell_type": "code",
   "execution_count": 155,
   "metadata": {},
   "outputs": [],
   "source": [
    "myfile = open('myfile.txt', 'w')\n",
    "\n",
    "myfile.write(\"\"\"Hello! Welcome to myfile.txt\n",
    "This file is create for learning file handling in python\n",
    "and this file is creat by python.\"\"\")\n",
    "\n",
    "myfile.close()"
   ]
  },
  {
   "cell_type": "code",
   "execution_count": 156,
   "metadata": {},
   "outputs": [
    {
     "name": "stdout",
     "output_type": "stream",
     "text": [
      "Hello! Welcome to myfile.txt\n",
      "This file is create for learning file handling in python\n",
      "and this file is creat by python.\n"
     ]
    }
   ],
   "source": [
    "myfile =  open(\"myfile.txt\", \"r+\")\n",
    "filedata = myfile.read()\n",
    "\n",
    "print(filedata)\n",
    "myfile.close()"
   ]
  },
  {
   "cell_type": "markdown",
   "metadata": {},
   "source": [
    "<font color='#094B91'> \n",
    "    \n",
    "- in this example we open file in read mode and reade first 5 charactor of taht file and than print charactor on secreen."
   ]
  },
  {
   "cell_type": "code",
   "execution_count": 157,
   "metadata": {},
   "outputs": [
    {
     "name": "stdout",
     "output_type": "stream",
     "text": [
      "Hello\n"
     ]
    }
   ],
   "source": [
    "myfile =  open(\"myfile.txt\", \"r+\")\n",
    "filedata = myfile.read(5)\n",
    "\n",
    "print(filedata)\n",
    "myfile.close()"
   ]
  },
  {
   "cell_type": "code",
   "execution_count": 158,
   "metadata": {},
   "outputs": [
    {
     "name": "stdout",
     "output_type": "stream",
     "text": [
      "Hello! Welcome to myfile.txt\n",
      "\n"
     ]
    }
   ],
   "source": [
    "myfile =  open(\"myfile.txt\", \"r+\")\n",
    "filedata = myfile.readline()\n",
    "\n",
    "print(filedata)\n",
    "myfile.close()"
   ]
  },
  {
   "cell_type": "markdown",
   "metadata": {},
   "source": [
    "<font color='#094B91'>\n",
    "    \n",
    "- In this line we use readline method that method read one line from file."
   ]
  },
  {
   "cell_type": "code",
   "execution_count": 159,
   "metadata": {},
   "outputs": [
    {
     "name": "stdout",
     "output_type": "stream",
     "text": [
      "Hello! Welcome to myfile.txt\n",
      "\n",
      "This file is create for learning file handling in python\n",
      "\n"
     ]
    }
   ],
   "source": [
    "myfile =  open(\"myfile.txt\", \"r+\")\n",
    "filedata = myfile.readline()\n",
    "print(filedata)\n",
    "\n",
    "filedata = myfile.readline()\n",
    "print(filedata)\n",
    "\n",
    "myfile.close()"
   ]
  },
  {
   "cell_type": "markdown",
   "metadata": {},
   "source": [
    "# <font color='blue'>8.3 File Position</font>\n",
    "- tell() method tells the currenct position within the file.\n",
    "- seek() method changes the current file location.\n",
    "\n",
    "### <font color='orange'>Example 1:</font>\n",
    "\n",
    "<font color='#094B91'>\n",
    "    \n",
    "- In this example we use tell() and seek() method tell method will return tha current pointer and we can change the position by seek method."
   ]
  },
  {
   "cell_type": "code",
   "execution_count": 160,
   "metadata": {},
   "outputs": [
    {
     "name": "stdout",
     "output_type": "stream",
     "text": [
      "Read String is : \n",
      "  Informati\n",
      "Current file position : \n",
      " 10\n",
      "\n",
      " Current file position after seek: \n",
      " 0\n",
      "Again read String is : \n",
      "  Informati\n"
     ]
    }
   ],
   "source": [
    " # Open a file\n",
    "fo = open(\"file.txt\", \"r+\")\n",
    "str = fo.read(10);\n",
    "print (\"Read String is : \\n\", str)\n",
    "\n",
    "# Check current position\n",
    "position = fo.tell();\n",
    "print (\"Current file position : \\n\", position)\n",
    "\n",
    "# Reposition pointer at the beginning once again\n",
    "position = fo.seek(0, 0);\n",
    "print (\"\\n Current file position after seek: \\n\", position)\n",
    "str = fo.read(10);\n",
    "print (\"Again read String is : \\n\", str)\n",
    "# Close opend file\n",
    "fo.close()"
   ]
  },
  {
   "cell_type": "markdown",
   "metadata": {},
   "source": [
    "<font color='#094B91'>\n",
    "\n",
    "- In this example we import os library, with the help of this library we can change tha file name and we can delete tha file."
   ]
  },
  {
   "cell_type": "code",
   "execution_count": 161,
   "metadata": {},
   "outputs": [],
   "source": [
    " import os\n",
    "# rename a file\n",
    "os.rename(\"file.txt\", \"newfile.txt\")"
   ]
  },
  {
   "cell_type": "code",
   "execution_count": 162,
   "metadata": {},
   "outputs": [],
   "source": [
    " #remove file\n",
    "os.remove(\"newfile.txt\")"
   ]
  },
  {
   "cell_type": "markdown",
   "metadata": {},
   "source": [
    "### <font color='orange'>Example 2:</font>\n",
    "\n",
    "<font color='#094B91'>\n",
    "    \n",
    "    \n",
    "- In this example we use tell() and seek() method tell method will return tha current pointer and we can change the position by seek method."
   ]
  },
  {
   "cell_type": "code",
   "execution_count": 163,
   "metadata": {},
   "outputs": [
    {
     "name": "stdout",
     "output_type": "stream",
     "text": [
      "Hello\n",
      "Current pointer position is:  5\n",
      "Current pointer position is:  0\n",
      "Hello\n",
      "Current pointer position is:  5\n"
     ]
    }
   ],
   "source": [
    "myfile =  open(\"myfile.txt\", \"r+\")\n",
    "filedata = myfile.read(5)\n",
    "\n",
    "print(filedata)\n",
    "\n",
    "# Check current position\n",
    "currentPosition = myfile.tell();\n",
    "print (\"Current pointer position is: \", currentPosition)\n",
    "\n",
    "currentPosition = myfile.seek(0, 0);\n",
    "print (\"Current pointer position is: \", currentPosition)\n",
    "\n",
    "filedata = myfile.read(5)\n",
    "\n",
    "print(filedata)\n",
    "\n",
    "# Check current position\n",
    "currentPosition = myfile.tell();\n",
    "print (\"Current pointer position is: \", currentPosition)\n",
    "\n",
    "myfile.close()"
   ]
  },
  {
   "cell_type": "markdown",
   "metadata": {},
   "source": [
    "### <font color='orange'>Example 3:</font>\n",
    "\n",
    "<font color='#094B91'>\n",
    "    \n",
    "- In this example we use tell() and seek() method tell method will return tha current pointer and we can change the position by seek method."
   ]
  },
  {
   "cell_type": "code",
   "execution_count": 164,
   "metadata": {},
   "outputs": [
    {
     "name": "stdout",
     "output_type": "stream",
     "text": [
      "Hello! Welcome to myfile.txt\n",
      "\n",
      "Current pointer position is:  30\n",
      "\n",
      "Current pointer position is:  0\n",
      "Hello\n"
     ]
    }
   ],
   "source": [
    "# use python context manager for file handling\n",
    "with open(\"myfile.txt\", \"r+\") as f:\n",
    "    filedata = f.readline()\n",
    "\n",
    "    print(filedata)\n",
    "\n",
    "    # Check current position\n",
    "    currentPosition = f.tell();\n",
    "    print (\"Current pointer position is: \", currentPosition)\n",
    "\n",
    "    currentPosition = f.seek(0, 0);\n",
    "    print (\"\\nCurrent pointer position is: \", currentPosition)\n",
    "\n",
    "    filedata = f.read(5)\n",
    "\n",
    "    print(filedata)\n",
    "\n",
    "#file auto close"
   ]
  },
  {
   "cell_type": "markdown",
   "metadata": {},
   "source": [
    "<font color='#094B91'>\n",
    "\n",
    "- In this example we import os library, with the help of this library we can change tha file name and we can delete tha file."
   ]
  },
  {
   "cell_type": "code",
   "execution_count": 165,
   "metadata": {},
   "outputs": [],
   "source": [
    " import os\n",
    "\n",
    "os.rename(\"myfile.txt\", \"mynewfile.txt\")"
   ]
  },
  {
   "cell_type": "code",
   "execution_count": 166,
   "metadata": {},
   "outputs": [
    {
     "name": "stdout",
     "output_type": "stream",
     "text": [
      "Delete Successfully..!!\n"
     ]
    }
   ],
   "source": [
    "import os\n",
    "if os.path.exists(\"mynewfile.txt\"):\n",
    "    os.remove(\"mynewfile.txt\")\n",
    "    print(\"Delete Successfully..!!\")\n",
    "else:\n",
    "  print(\"The file does not exist\")"
   ]
  },
  {
   "cell_type": "markdown",
   "metadata": {},
   "source": [
    "\n",
    "<br>\n",
    "<br>\n",
    "<br>\n",
    "<br>\n"
   ]
  },
  {
   "cell_type": "markdown",
   "metadata": {},
   "source": [
    "***\n",
    "\n",
    "# <center><font size=\"8\" color='red'>9. Pandas Introduction</font></center>\n",
    "- Pandas is an open source library built on top of NumPy\n",
    "- It allows for fast analysis and data cleaning and preparation\n",
    "- It excels in proformance and productivity\n",
    "- It also has built-in visualization features\n",
    "- It can work with data from a wide variety of sources\n",
    "\n",
    "<br>\n",
    "<br>\n",
    "<br>\n",
    "<br>\n"
   ]
  },
  {
   "cell_type": "markdown",
   "metadata": {},
   "source": [
    "***\n",
    "\n",
    "# <center><font size=\"8\" color='red'>10. Series</font></center>\n",
    "- A series is very similar to NumPy array.\n",
    "- Series is 1-D array labeled array capable of holding any type of data.\n",
    "- The difference between the NumPy array from a Series, is that a Series can have axis labels, meaning it can be indexed by a label, instead of\n",
    "just a number location\n",
    "- The axis labels are collectively referred to as the index.\n",
    "- Following function is used to create a series:\n",
    "\n",
    "s= pd.Series(data,index = index)\n",
    "- In above function, data can be many different things:\n",
    "    - A python dict\n",
    "    - An ndarray\n",
    "    - A scalar value (For exmple: 5)\n",
    "-The passed index is a list of axis labels. So, this seperates into a few cases depending on what data is:\n",
    "    \n",
    "# <font color='blue'>10.1 From ndarray</font>\n",
    "- If data is an ndarray, index must be the same length as data.\n",
    "- If no index is passed, one will be created having values [0, ..., len(data) - 1].\n",
    "\n",
    "### <font color='orange'>Example 1:</font>\n",
    "\n",
    "<font color='#094B91'>In This example we import 3 python labraries 1st is panda, 2nd is numpy and 3rd is matplotlib and than we create a panda series of 5 indexis and we pass 2 argumrnt in 1st argument we pass array taht generate by randn() method and in 2nd argument we pass a index list.</font>"
   ]
  },
  {
   "cell_type": "code",
   "execution_count": 167,
   "metadata": {},
   "outputs": [
    {
     "data": {
      "text/plain": [
       "a   -0.286911\n",
       "b   -1.123318\n",
       "c   -1.265836\n",
       "d    0.125318\n",
       "e    0.488960\n",
       "dtype: float64"
      ]
     },
     "execution_count": 167,
     "metadata": {},
     "output_type": "execute_result"
    }
   ],
   "source": [
    "import pandas as pd\n",
    "import numpy as np\n",
    "import matplotlib.pyplot as plt\n",
    "\"\"\"following a fucntion is called from panas to create a series.\n",
    " data would be 5 random values and indexes are assigned a-e\"\"\"\n",
    "s = pd.Series(np.random.randn(5), index=['a', 'b', 'c', 'd', 'e'])\n",
    "s"
   ]
  },
  {
   "cell_type": "markdown",
   "metadata": {},
   "source": [
    "<font color='#094B91'> In this example we use index property to display all indexes</font>"
   ]
  },
  {
   "cell_type": "code",
   "execution_count": 168,
   "metadata": {},
   "outputs": [
    {
     "data": {
      "text/plain": [
       "Index(['a', 'b', 'c', 'd', 'e'], dtype='object')"
      ]
     },
     "execution_count": 168,
     "metadata": {},
     "output_type": "execute_result"
    }
   ],
   "source": [
    " \"\"\"Following function will print the index and its datatype\"\"\"\n",
    "s.index"
   ]
  },
  {
   "cell_type": "markdown",
   "metadata": {},
   "source": [
    "<font color='#094B91'> In this example we just pass 5 indexes array to series method and that series will assign index auto from 0 to onword</font> "
   ]
  },
  {
   "cell_type": "code",
   "execution_count": 169,
   "metadata": {},
   "outputs": [
    {
     "data": {
      "text/plain": [
       "0    2.050616\n",
       "1    0.407049\n",
       "2   -0.694842\n",
       "3   -1.287606\n",
       "4    0.222989\n",
       "dtype: float64"
      ]
     },
     "execution_count": 169,
     "metadata": {},
     "output_type": "execute_result"
    }
   ],
   "source": [
    " \"\"\"If we don't assign the index then it will of length having values [0......len(data-1)]\"\"\"\n",
    "pd.Series(np.random.randn(5))"
   ]
  },
  {
   "cell_type": "markdown",
   "metadata": {},
   "source": [
    "### <font color='orange'>Example 2:</font>\n",
    "\n",
    "<font color='#094B91'> In this example we also import 3 labrary and than with the help of pandas labrary we create an series and we pass one ndarray and a list of index to series method. </font>"
   ]
  },
  {
   "cell_type": "code",
   "execution_count": 170,
   "metadata": {},
   "outputs": [
    {
     "name": "stdout",
     "output_type": "stream",
     "text": [
      "a   -0.765989\n",
      "e    0.082932\n",
      "i    1.167352\n",
      "o    0.598475\n",
      "u   -3.032106\n",
      "z   -0.451145\n",
      "dtype: float64\n"
     ]
    }
   ],
   "source": [
    "import pandas as pnd\n",
    "import numpy as npy\n",
    "import matplotlib.pyplot as mpy\n",
    "\n",
    "pandasSeries = pnd.Series(npy.random.randn(6), index=['a', 'e', 'i', 'o', 'u','z'])\n",
    "\n",
    "print(pandasSeries)"
   ]
  },
  {
   "cell_type": "markdown",
   "metadata": {},
   "source": [
    "<font color='#094B91'> In this example we use index property to see all indexes.</font>"
   ]
  },
  {
   "cell_type": "code",
   "execution_count": 171,
   "metadata": {},
   "outputs": [
    {
     "data": {
      "text/plain": [
       "Index(['a', 'e', 'i', 'o', 'u', 'z'], dtype='object')"
      ]
     },
     "execution_count": 171,
     "metadata": {},
     "output_type": "execute_result"
    }
   ],
   "source": [
    "pandasSeries.index"
   ]
  },
  {
   "cell_type": "markdown",
   "metadata": {},
   "source": [
    "<font color='#094B91'> In this example we just pass the ndarray to seriers method.</font>"
   ]
  },
  {
   "cell_type": "code",
   "execution_count": 172,
   "metadata": {},
   "outputs": [
    {
     "data": {
      "text/plain": [
       "0   -0.491791\n",
       "1    0.140052\n",
       "2   -0.965040\n",
       "3    1.383575\n",
       "4    1.228074\n",
       "5   -0.110615\n",
       "dtype: float64"
      ]
     },
     "execution_count": 172,
     "metadata": {},
     "output_type": "execute_result"
    }
   ],
   "source": [
    "pnd.Series(npy.random.randn(6))"
   ]
  },
  {
   "cell_type": "markdown",
   "metadata": {},
   "source": [
    "### <font color='orange'>Example 3:</font>\n",
    "\n",
    "<font color='#094B91'> In this example we create two list one for ndarray and 2nd for index than we pass these lists to pandas.series method and create a pandas series and than display this series </font>"
   ]
  },
  {
   "cell_type": "code",
   "execution_count": 173,
   "metadata": {},
   "outputs": [
    {
     "name": "stdout",
     "output_type": "stream",
     "text": [
      "a     apple\n",
      "b     Mango\n",
      "c    banana\n",
      "d     Peach\n",
      "e    cherry\n",
      "f     Guava\n",
      "dtype: object\n"
     ]
    }
   ],
   "source": [
    "\n",
    "ndFrouits = ['apple', 'Mango', 'banana', 'Peach', 'cherry', 'Guava']\n",
    "index=['a', 'b', 'c', 'd', 'e','f']\n",
    "\n",
    "pandasSeries = pnd.Series( ndFrouits, index)\n",
    "\n",
    "print(pandasSeries)\n",
    "\n"
   ]
  },
  {
   "cell_type": "markdown",
   "metadata": {},
   "source": [
    "<font color='#094B91'> In this example we use index property to displsy all indexes.</font>"
   ]
  },
  {
   "cell_type": "code",
   "execution_count": 174,
   "metadata": {},
   "outputs": [
    {
     "data": {
      "text/plain": [
       "Index(['a', 'b', 'c', 'd', 'e', 'f'], dtype='object')"
      ]
     },
     "execution_count": 174,
     "metadata": {},
     "output_type": "execute_result"
    }
   ],
   "source": [
    "pandasSeries.index"
   ]
  },
  {
   "cell_type": "markdown",
   "metadata": {},
   "source": [
    "<font color='#094B91'> In this example we just pass array to series and this series method will give the index from 0 to onword. </font>"
   ]
  },
  {
   "cell_type": "code",
   "execution_count": 175,
   "metadata": {},
   "outputs": [
    {
     "data": {
      "text/plain": [
       "0     apple\n",
       "1     Mango\n",
       "2    banana\n",
       "3     Peach\n",
       "4    cherry\n",
       "5     Guava\n",
       "dtype: object"
      ]
     },
     "execution_count": 175,
     "metadata": {},
     "output_type": "execute_result"
    }
   ],
   "source": [
    "pnd.Series( ndFrouits)"
   ]
  },
  {
   "cell_type": "markdown",
   "metadata": {},
   "source": [
    "# <font color='blue'>10.2 From dict</font>\n",
    "- If data is a dict, if index is passed the values in data corresponding to the labels in the index will be pulled out.\n",
    "- If index is not passed then it will be constructed from the sorted keys of the dict, if possible.\n",
    "\n",
    "### <font color='orange'>Example 1:</font>\n",
    "\n",
    "<font color='#094B91'> In this example we pass a dictonary to series method and taht method will use the keys as indexes and use the value os of that dectionary as index.</font>"
   ]
  },
  {
   "cell_type": "code",
   "execution_count": 176,
   "metadata": {},
   "outputs": [
    {
     "data": {
      "text/plain": [
       "a    0.0\n",
       "b    1.0\n",
       "c    2.0\n",
       "dtype: float64"
      ]
     },
     "execution_count": 176,
     "metadata": {},
     "output_type": "execute_result"
    }
   ],
   "source": [
    " \"\"\" In following example, indexes are not given to it is constructed from the sorted keys of the dict\"\"\"\n",
    "d = {'a' : 0., 'b' : 1., 'c' : 2.} # a python dict\n",
    "pd.Series(d)"
   ]
  },
  {
   "cell_type": "markdown",
   "metadata": {},
   "source": [
    "<font color='#094B91'> In this example we pass a dictonary to series method and taht method will use the keys as indexes and use the value os of that dectionary as index. But we pass a index list that index list will overwrite the dectionary keys.</font>"
   ]
  },
  {
   "cell_type": "code",
   "execution_count": 177,
   "metadata": {},
   "outputs": [
    {
     "data": {
      "text/plain": [
       "b    1.0\n",
       "c    2.0\n",
       "d    NaN\n",
       "a    0.0\n",
       "dtype: float64"
      ]
     },
     "execution_count": 177,
     "metadata": {},
     "output_type": "execute_result"
    }
   ],
   "source": [
    " \"\"\" In following example, index are given, so the values in data corresponding in the index will be pulled ou\n",
    "t\"\"\"\n",
    "pd.Series(d, index=['b', 'c', 'd', 'a'])"
   ]
  },
  {
   "cell_type": "markdown",
   "metadata": {},
   "source": [
    "### <font color='orange'>Example 2:</font>\n",
    "\n",
    "<font color='#094B91'> In this example we pass a dictonary to series method and taht method will use the keys as indexes and use the value os of that dectionary as index.</font>"
   ]
  },
  {
   "cell_type": "code",
   "execution_count": 178,
   "metadata": {},
   "outputs": [
    {
     "data": {
      "text/plain": [
       "id       F2019027004\n",
       "name        Abdullah\n",
       "class             10\n",
       "dtype: object"
      ]
     },
     "execution_count": 178,
     "metadata": {},
     "output_type": "execute_result"
    }
   ],
   "source": [
    "student = {\"id\" : \"F2019027004\" , \"name\" : \"Abdullah\" , \"class\": 10}\n",
    "\n",
    "pnd.Series(student)"
   ]
  },
  {
   "cell_type": "markdown",
   "metadata": {},
   "source": [
    "<font color='#094B91'> In this example we pass a dictonary to series method and taht method will use the keys as indexes and use the value os of that dectionary as index. But we pass a index list that index list will overwrite the dectionary keys.</font>"
   ]
  },
  {
   "cell_type": "code",
   "execution_count": 179,
   "metadata": {},
   "outputs": [
    {
     "data": {
      "text/plain": [
       "id       F2019027004\n",
       "b                NaN\n",
       "name        Abdullah\n",
       "d                NaN\n",
       "e                NaN\n",
       "class             10\n",
       "dtype: object"
      ]
     },
     "execution_count": 179,
     "metadata": {},
     "output_type": "execute_result"
    }
   ],
   "source": [
    "pnd.Series(student, index=['id', 'b', 'name', 'd', 'e','class'])"
   ]
  },
  {
   "cell_type": "markdown",
   "metadata": {},
   "source": [
    "### <font color='orange'>Example 3:</font>\n",
    "\n",
    "<font color='#094B91'> In this example we pass a dictonary to series method and taht method will use the keys as indexes and use the value os of that dectionary as index.</font>"
   ]
  },
  {
   "cell_type": "code",
   "execution_count": 180,
   "metadata": {},
   "outputs": [
    {
     "data": {
      "text/plain": [
       "emp_id             1001\n",
       "emp_name            Ali\n",
       "emp_department    Sales\n",
       "dtype: object"
      ]
     },
     "execution_count": 180,
     "metadata": {},
     "output_type": "execute_result"
    }
   ],
   "source": [
    "employee = {\"emp_id\" : 1001 , \"emp_name\" : \"Ali\" , \"emp_department\": \"Sales\"}\n",
    "pnd.Series(employee)"
   ]
  },
  {
   "cell_type": "markdown",
   "metadata": {},
   "source": [
    "<font color='#094B91'> In this example we pass a dictonary to series method and taht method will use the keys as indexes and use the value os of that dectionary as index. But we pass a index list that index list will overwrite the dectionary keys.</font>"
   ]
  },
  {
   "cell_type": "code",
   "execution_count": 181,
   "metadata": {},
   "outputs": [
    {
     "data": {
      "text/plain": [
       "emp_id             1001\n",
       "b                   NaN\n",
       "emp_name            Ali\n",
       "emp_department    Sales\n",
       "dtype: object"
      ]
     },
     "execution_count": 181,
     "metadata": {},
     "output_type": "execute_result"
    }
   ],
   "source": [
    "index=['emp_id', 'b', 'emp_name', 'emp_department']\n",
    "\n",
    "pnd.Series(employee,index)"
   ]
  },
  {
   "cell_type": "markdown",
   "metadata": {},
   "source": [
    "# <font color='blue'>10.3 From a scalar value</font>\n",
    "- If data is a scalar value, an index must be provided. The value will be repeated to match the length of index\n",
    "\n",
    "### <font color='orange'>Example 1:</font>\n",
    "\n",
    "<font color='#094B91'> In this example we pass a scalar value '5' and an index list to series method that will create a series and give a same value '5' to each index. </font>"
   ]
  },
  {
   "cell_type": "code",
   "execution_count": 182,
   "metadata": {},
   "outputs": [
    {
     "data": {
      "text/plain": [
       "a    5.0\n",
       "b    5.0\n",
       "c    5.0\n",
       "d    5.0\n",
       "e    5.0\n",
       "dtype: float64"
      ]
     },
     "execution_count": 182,
     "metadata": {},
     "output_type": "execute_result"
    }
   ],
   "source": [
    "\"\"\"In following example, a scalar value is given as data so it will be repeated to match the length of inde\n",
    "x\"\"\"\n",
    "pd.Series(5., index=['a', 'b', 'c', 'd', 'e'])"
   ]
  },
  {
   "cell_type": "markdown",
   "metadata": {},
   "source": [
    "### <font color='orange'>Example 2:</font>\n",
    "\n",
    "<font color='#094B91'> In this example we pass a scalar value '100.100' and an index list to series method that will create a series and give a same value '100.100' to each index. </font>"
   ]
  },
  {
   "cell_type": "code",
   "execution_count": 183,
   "metadata": {},
   "outputs": [
    {
     "data": {
      "text/plain": [
       "id-1    100.1\n",
       "id-2    100.1\n",
       "id-3    100.1\n",
       "id-4    100.1\n",
       "id-5    100.1\n",
       "id-6    100.1\n",
       "dtype: float64"
      ]
     },
     "execution_count": 183,
     "metadata": {},
     "output_type": "execute_result"
    }
   ],
   "source": [
    "pnd.Series(100.100, index = ['id-1','id-2','id-3','id-4','id-5','id-6'])"
   ]
  },
  {
   "cell_type": "markdown",
   "metadata": {},
   "source": [
    "### <font color='orange'>Example 3:</font>\n",
    "\n",
    "<font color='#094B91'> In this example we pass a string scalar value 'Pass' and an index list to series method that will create a series and give a same value 'Pass' to each index. </font>"
   ]
  },
  {
   "cell_type": "code",
   "execution_count": 184,
   "metadata": {},
   "outputs": [
    {
     "data": {
      "text/plain": [
       "student-1    Pass\n",
       "student-2    Pass\n",
       "student-3    Pass\n",
       "student-4    Pass\n",
       "student-5    Pass\n",
       "student-6    Pass\n",
       "dtype: object"
      ]
     },
     "execution_count": 184,
     "metadata": {},
     "output_type": "execute_result"
    }
   ],
   "source": [
    "pnd.Series(\"Pass\", index = ['student-1','student-2','student-3','student-4','student-5','student-6'])"
   ]
  },
  {
   "cell_type": "markdown",
   "metadata": {},
   "source": [
    "# <font color='blue'>10.4 Series is ndarray-like</font>\n",
    "- It acts very similarly to a ndarray.\n",
    "- It is a valid argument to most NumPy functions. However, things like slicing also slice the index.\n",
    "\n",
    "### <font color='orange'>Example 1:</font>\n",
    "\n",
    "<font color='#094B91'> In this example we will see that we cann do all same operation on series that we can do on ndarray.\n",
    "<br>\n",
    "so we can get a specific index value by it's indes number and we can get some indexes by colon.\n",
    "</font>"
   ]
  },
  {
   "cell_type": "code",
   "execution_count": 185,
   "metadata": {},
   "outputs": [
    {
     "data": {
      "text/plain": [
       "-0.286911331565645"
      ]
     },
     "execution_count": 185,
     "metadata": {},
     "output_type": "execute_result"
    }
   ],
   "source": [
    "#we can access a value just like ndarray\n",
    "#access single value\n",
    "s[0]"
   ]
  },
  {
   "cell_type": "code",
   "execution_count": 186,
   "metadata": {},
   "outputs": [
    {
     "data": {
      "text/plain": [
       "a   -0.286911\n",
       "b   -1.123318\n",
       "c   -1.265836\n",
       "d    0.125318\n",
       "e    0.488960\n",
       "dtype: float64"
      ]
     },
     "execution_count": 186,
     "metadata": {},
     "output_type": "execute_result"
    }
   ],
   "source": [
    " #access range of values\n",
    "s[:5]"
   ]
  },
  {
   "cell_type": "markdown",
   "metadata": {},
   "source": [
    "<font color='#094B91'> Pandas Series variable have some specific metods. we can get tha median value of series by using median() method and in this example we get all valuess that are grater than median values.  </font>"
   ]
  },
  {
   "cell_type": "code",
   "execution_count": 187,
   "metadata": {},
   "outputs": [
    {
     "data": {
      "text/plain": [
       "d    0.125318\n",
       "e    0.488960\n",
       "dtype: float64"
      ]
     },
     "execution_count": 187,
     "metadata": {},
     "output_type": "execute_result"
    }
   ],
   "source": [
    " \"\"\" Following example will return a range of values in series whose value is greater than the median of serie\n",
    "s\"\"\"\n",
    "    \n",
    "s[s > s.median()]"
   ]
  },
  {
   "cell_type": "markdown",
   "metadata": {},
   "source": [
    "<font color='#094B91'> In this example we get some random index by it's index number. </font>"
   ]
  },
  {
   "cell_type": "code",
   "execution_count": 188,
   "metadata": {},
   "outputs": [
    {
     "data": {
      "text/plain": [
       "e    0.488960\n",
       "d    0.125318\n",
       "b   -1.123318\n",
       "dtype: float64"
      ]
     },
     "execution_count": 188,
     "metadata": {},
     "output_type": "execute_result"
    }
   ],
   "source": [
    " \"\"\"Following example is return the values in series with indexes. 4,3,1 are the positions of the indexs\n",
    " For example: the index at 4,3,1 are e,d,b respectively\"\"\"\n",
    "s[[4, 3, 1]]"
   ]
  },
  {
   "cell_type": "markdown",
   "metadata": {},
   "source": [
    "<font color='#094B91'> In this example we use a pandas method exp() it's take a series as argument and it will return the exponent value off all series.  </font>"
   ]
  },
  {
   "cell_type": "code",
   "execution_count": 189,
   "metadata": {},
   "outputs": [
    {
     "data": {
      "text/plain": [
       "a    0.750578\n",
       "b    0.325199\n",
       "c    0.282004\n",
       "d    1.133509\n",
       "e    1.630620\n",
       "dtype: float64"
      ]
     },
     "execution_count": 189,
     "metadata": {},
     "output_type": "execute_result"
    }
   ],
   "source": [
    " \"\"\" Following example returns the exponent values. just like e^a (here a is index and its respective data is\n",
    "placed here)\"\"\"\n",
    "np.exp(s)"
   ]
  },
  {
   "cell_type": "markdown",
   "metadata": {},
   "source": [
    "<font color='#094B91'> We can get an index value by index number and by index name. </font>"
   ]
  },
  {
   "cell_type": "code",
   "execution_count": 190,
   "metadata": {},
   "outputs": [
    {
     "data": {
      "text/plain": [
       "-0.286911331565645"
      ]
     },
     "execution_count": 190,
     "metadata": {},
     "output_type": "execute_result"
    }
   ],
   "source": [
    " \"\"\"Following example will get the data of given index\"\"\"\n",
    "s['a']"
   ]
  },
  {
   "cell_type": "markdown",
   "metadata": {},
   "source": [
    "<font color='#094B91'> In this example We change an index value. </font>"
   ]
  },
  {
   "cell_type": "code",
   "execution_count": 191,
   "metadata": {},
   "outputs": [
    {
     "data": {
      "text/plain": [
       "a    -0.286911\n",
       "b    -1.123318\n",
       "c    -1.265836\n",
       "d     0.125318\n",
       "e    12.000000\n",
       "dtype: float64"
      ]
     },
     "execution_count": 191,
     "metadata": {},
     "output_type": "execute_result"
    }
   ],
   "source": [
    " \"\"\"Following example will update the data of the given index\"\"\"\n",
    "s['e'] = 12.\n",
    "\n",
    "s # before updating e = 1.399281 but after updating e = 12.000000"
   ]
  },
  {
   "cell_type": "markdown",
   "metadata": {},
   "source": [
    "<font color='#094B91'> In this example we check that an index 'e' is prasent in series or not. that will return an boolian value. </font>"
   ]
  },
  {
   "cell_type": "code",
   "execution_count": 192,
   "metadata": {},
   "outputs": [
    {
     "data": {
      "text/plain": [
       "True"
      ]
     },
     "execution_count": 192,
     "metadata": {},
     "output_type": "execute_result"
    }
   ],
   "source": [
    " \"\"\" Following will return true if 'e' is in the values of index otherwise false\"\"\"\n",
    "    \n",
    "'e' in s"
   ]
  },
  {
   "cell_type": "markdown",
   "metadata": {},
   "source": [
    "<font color='#094B91'>  If we pass a index that is not prasent in series than that will through some error.</font>"
   ]
  },
  {
   "cell_type": "code",
   "execution_count": 193,
   "metadata": {},
   "outputs": [
    {
     "ename": "KeyError",
     "evalue": "'f'",
     "output_type": "error",
     "traceback": [
      "\u001b[1;31m---------------------------------------------------------------------------\u001b[0m",
      "\u001b[1;31mKeyError\u001b[0m                                  Traceback (most recent call last)",
      "\u001b[1;32mC:\\ProgramData\\Anaconda3\\lib\\site-packages\\pandas\\core\\indexes\\base.py\u001b[0m in \u001b[0;36mget_loc\u001b[1;34m(self, key, method, tolerance)\u001b[0m\n\u001b[0;32m   2894\u001b[0m             \u001b[1;32mtry\u001b[0m\u001b[1;33m:\u001b[0m\u001b[1;33m\u001b[0m\u001b[1;33m\u001b[0m\u001b[0m\n\u001b[1;32m-> 2895\u001b[1;33m                 \u001b[1;32mreturn\u001b[0m \u001b[0mself\u001b[0m\u001b[1;33m.\u001b[0m\u001b[0m_engine\u001b[0m\u001b[1;33m.\u001b[0m\u001b[0mget_loc\u001b[0m\u001b[1;33m(\u001b[0m\u001b[0mcasted_key\u001b[0m\u001b[1;33m)\u001b[0m\u001b[1;33m\u001b[0m\u001b[1;33m\u001b[0m\u001b[0m\n\u001b[0m\u001b[0;32m   2896\u001b[0m             \u001b[1;32mexcept\u001b[0m \u001b[0mKeyError\u001b[0m \u001b[1;32mas\u001b[0m \u001b[0merr\u001b[0m\u001b[1;33m:\u001b[0m\u001b[1;33m\u001b[0m\u001b[1;33m\u001b[0m\u001b[0m\n",
      "\u001b[1;32mpandas\\_libs\\index.pyx\u001b[0m in \u001b[0;36mpandas._libs.index.IndexEngine.get_loc\u001b[1;34m()\u001b[0m\n",
      "\u001b[1;32mpandas\\_libs\\index.pyx\u001b[0m in \u001b[0;36mpandas._libs.index.IndexEngine.get_loc\u001b[1;34m()\u001b[0m\n",
      "\u001b[1;32mpandas\\_libs\\hashtable_class_helper.pxi\u001b[0m in \u001b[0;36mpandas._libs.hashtable.PyObjectHashTable.get_item\u001b[1;34m()\u001b[0m\n",
      "\u001b[1;32mpandas\\_libs\\hashtable_class_helper.pxi\u001b[0m in \u001b[0;36mpandas._libs.hashtable.PyObjectHashTable.get_item\u001b[1;34m()\u001b[0m\n",
      "\u001b[1;31mKeyError\u001b[0m: 'f'",
      "\nThe above exception was the direct cause of the following exception:\n",
      "\u001b[1;31mKeyError\u001b[0m                                  Traceback (most recent call last)",
      "\u001b[1;32m<ipython-input-193-6a11eba5a9c9>\u001b[0m in \u001b[0;36m<module>\u001b[1;34m\u001b[0m\n\u001b[0;32m      3\u001b[0m \u001b[1;31m# This will create error\u001b[0m\u001b[1;33m\u001b[0m\u001b[1;33m\u001b[0m\u001b[1;33m\u001b[0m\u001b[0m\n\u001b[0;32m      4\u001b[0m \u001b[1;33m\u001b[0m\u001b[0m\n\u001b[1;32m----> 5\u001b[1;33m \u001b[0ms\u001b[0m\u001b[1;33m[\u001b[0m\u001b[1;34m'f'\u001b[0m\u001b[1;33m]\u001b[0m\u001b[1;33m\u001b[0m\u001b[1;33m\u001b[0m\u001b[0m\n\u001b[0m",
      "\u001b[1;32mC:\\ProgramData\\Anaconda3\\lib\\site-packages\\pandas\\core\\series.py\u001b[0m in \u001b[0;36m__getitem__\u001b[1;34m(self, key)\u001b[0m\n\u001b[0;32m    880\u001b[0m \u001b[1;33m\u001b[0m\u001b[0m\n\u001b[0;32m    881\u001b[0m         \u001b[1;32melif\u001b[0m \u001b[0mkey_is_scalar\u001b[0m\u001b[1;33m:\u001b[0m\u001b[1;33m\u001b[0m\u001b[1;33m\u001b[0m\u001b[0m\n\u001b[1;32m--> 882\u001b[1;33m             \u001b[1;32mreturn\u001b[0m \u001b[0mself\u001b[0m\u001b[1;33m.\u001b[0m\u001b[0m_get_value\u001b[0m\u001b[1;33m(\u001b[0m\u001b[0mkey\u001b[0m\u001b[1;33m)\u001b[0m\u001b[1;33m\u001b[0m\u001b[1;33m\u001b[0m\u001b[0m\n\u001b[0m\u001b[0;32m    883\u001b[0m \u001b[1;33m\u001b[0m\u001b[0m\n\u001b[0;32m    884\u001b[0m         \u001b[1;32mif\u001b[0m \u001b[0mis_hashable\u001b[0m\u001b[1;33m(\u001b[0m\u001b[0mkey\u001b[0m\u001b[1;33m)\u001b[0m\u001b[1;33m:\u001b[0m\u001b[1;33m\u001b[0m\u001b[1;33m\u001b[0m\u001b[0m\n",
      "\u001b[1;32mC:\\ProgramData\\Anaconda3\\lib\\site-packages\\pandas\\core\\series.py\u001b[0m in \u001b[0;36m_get_value\u001b[1;34m(self, label, takeable)\u001b[0m\n\u001b[0;32m    987\u001b[0m \u001b[1;33m\u001b[0m\u001b[0m\n\u001b[0;32m    988\u001b[0m         \u001b[1;31m# Similar to Index.get_value, but we do not fall back to positional\u001b[0m\u001b[1;33m\u001b[0m\u001b[1;33m\u001b[0m\u001b[1;33m\u001b[0m\u001b[0m\n\u001b[1;32m--> 989\u001b[1;33m         \u001b[0mloc\u001b[0m \u001b[1;33m=\u001b[0m \u001b[0mself\u001b[0m\u001b[1;33m.\u001b[0m\u001b[0mindex\u001b[0m\u001b[1;33m.\u001b[0m\u001b[0mget_loc\u001b[0m\u001b[1;33m(\u001b[0m\u001b[0mlabel\u001b[0m\u001b[1;33m)\u001b[0m\u001b[1;33m\u001b[0m\u001b[1;33m\u001b[0m\u001b[0m\n\u001b[0m\u001b[0;32m    990\u001b[0m         \u001b[1;32mreturn\u001b[0m \u001b[0mself\u001b[0m\u001b[1;33m.\u001b[0m\u001b[0mindex\u001b[0m\u001b[1;33m.\u001b[0m\u001b[0m_get_values_for_loc\u001b[0m\u001b[1;33m(\u001b[0m\u001b[0mself\u001b[0m\u001b[1;33m,\u001b[0m \u001b[0mloc\u001b[0m\u001b[1;33m,\u001b[0m \u001b[0mlabel\u001b[0m\u001b[1;33m)\u001b[0m\u001b[1;33m\u001b[0m\u001b[1;33m\u001b[0m\u001b[0m\n\u001b[0;32m    991\u001b[0m \u001b[1;33m\u001b[0m\u001b[0m\n",
      "\u001b[1;32mC:\\ProgramData\\Anaconda3\\lib\\site-packages\\pandas\\core\\indexes\\base.py\u001b[0m in \u001b[0;36mget_loc\u001b[1;34m(self, key, method, tolerance)\u001b[0m\n\u001b[0;32m   2895\u001b[0m                 \u001b[1;32mreturn\u001b[0m \u001b[0mself\u001b[0m\u001b[1;33m.\u001b[0m\u001b[0m_engine\u001b[0m\u001b[1;33m.\u001b[0m\u001b[0mget_loc\u001b[0m\u001b[1;33m(\u001b[0m\u001b[0mcasted_key\u001b[0m\u001b[1;33m)\u001b[0m\u001b[1;33m\u001b[0m\u001b[1;33m\u001b[0m\u001b[0m\n\u001b[0;32m   2896\u001b[0m             \u001b[1;32mexcept\u001b[0m \u001b[0mKeyError\u001b[0m \u001b[1;32mas\u001b[0m \u001b[0merr\u001b[0m\u001b[1;33m:\u001b[0m\u001b[1;33m\u001b[0m\u001b[1;33m\u001b[0m\u001b[0m\n\u001b[1;32m-> 2897\u001b[1;33m                 \u001b[1;32mraise\u001b[0m \u001b[0mKeyError\u001b[0m\u001b[1;33m(\u001b[0m\u001b[0mkey\u001b[0m\u001b[1;33m)\u001b[0m \u001b[1;32mfrom\u001b[0m \u001b[0merr\u001b[0m\u001b[1;33m\u001b[0m\u001b[1;33m\u001b[0m\u001b[0m\n\u001b[0m\u001b[0;32m   2898\u001b[0m \u001b[1;33m\u001b[0m\u001b[0m\n\u001b[0;32m   2899\u001b[0m         \u001b[1;32mif\u001b[0m \u001b[0mtolerance\u001b[0m \u001b[1;32mis\u001b[0m \u001b[1;32mnot\u001b[0m \u001b[1;32mNone\u001b[0m\u001b[1;33m:\u001b[0m\u001b[1;33m\u001b[0m\u001b[1;33m\u001b[0m\u001b[0m\n",
      "\u001b[1;31mKeyError\u001b[0m: 'f'"
     ]
    }
   ],
   "source": [
    " \"\"\"If a label is not contained and you are trying to access its data, an exception is raised: \"\"\"\n",
    "\n",
    "# This will create error\n",
    "\n",
    "s['f']"
   ]
  },
  {
   "cell_type": "markdown",
   "metadata": {},
   "source": [
    "<font color='#094B91'> In this example we use get method that will return the value of specific index and we can set some default value is that index is not prasent init. </font>"
   ]
  },
  {
   "cell_type": "code",
   "execution_count": 194,
   "metadata": {},
   "outputs": [
    {
     "data": {
      "text/plain": [
       "nan"
      ]
     },
     "execution_count": 194,
     "metadata": {},
     "output_type": "execute_result"
    }
   ],
   "source": [
    " \"\"\"Using the get method, a missing label will return None or specified default\"\"\"\n",
    "s.get('f') #it will return none\n",
    "\n",
    "s.get('f', np.nan) #it will return default value"
   ]
  },
  {
   "cell_type": "markdown",
   "metadata": {},
   "source": [
    "### <font color='orange'>Example 2:</font>\n",
    "\n",
    "<font color='#094B91'> In this example we will see that we cann do all same operation on series that we can do on ndarray.\n",
    "<br>\n",
    "so we can get a specific index value by it's indes number and we can get some indexes by colon. \n",
    "<br>\n",
    "In this example we pass an tuple and index list to series.\n",
    "</font>"
   ]
  },
  {
   "cell_type": "code",
   "execution_count": 195,
   "metadata": {},
   "outputs": [],
   "source": [
    "tupleNum = (100, 200, 30, 50, 150, 300)\n",
    "index=['a', 'b', 'c', 'd', 'e','f']\n",
    "\n",
    "pandasSeries1 = pnd.Series( tupleNum, index)"
   ]
  },
  {
   "cell_type": "code",
   "execution_count": 196,
   "metadata": {},
   "outputs": [
    {
     "data": {
      "text/plain": [
       "100"
      ]
     },
     "execution_count": 196,
     "metadata": {},
     "output_type": "execute_result"
    }
   ],
   "source": [
    "pandasSeries1[0]"
   ]
  },
  {
   "cell_type": "code",
   "execution_count": 197,
   "metadata": {},
   "outputs": [
    {
     "data": {
      "text/plain": [
       "a    100\n",
       "b    200\n",
       "c     30\n",
       "d     50\n",
       "e    150\n",
       "f    300\n",
       "dtype: int64"
      ]
     },
     "execution_count": 197,
     "metadata": {},
     "output_type": "execute_result"
    }
   ],
   "source": [
    "pandasSeries1[:6]"
   ]
  },
  {
   "cell_type": "markdown",
   "metadata": {},
   "source": [
    "<font color='#094B91'> Pandas Series variable have some specific metods. we can get tha median value of series by using median() method and in this example we get all valuess that are grater than median values.  </font>"
   ]
  },
  {
   "cell_type": "code",
   "execution_count": 198,
   "metadata": {},
   "outputs": [
    {
     "data": {
      "text/plain": [
       "a    100\n",
       "c     30\n",
       "d     50\n",
       "dtype: int64"
      ]
     },
     "execution_count": 198,
     "metadata": {},
     "output_type": "execute_result"
    }
   ],
   "source": [
    "pandasSeries1[pandasSeries1 < pandasSeries1.median()]"
   ]
  },
  {
   "cell_type": "markdown",
   "metadata": {},
   "source": [
    "<font color='#094B91'> In this example we get some random index by it's index number. </font>"
   ]
  },
  {
   "cell_type": "code",
   "execution_count": 199,
   "metadata": {
    "scrolled": true
   },
   "outputs": [
    {
     "data": {
      "text/plain": [
       "b    200\n",
       "f    300\n",
       "e    150\n",
       "dtype: int64"
      ]
     },
     "execution_count": 199,
     "metadata": {},
     "output_type": "execute_result"
    }
   ],
   "source": [
    "pandasSeries1[[1, 5, 4]]"
   ]
  },
  {
   "cell_type": "markdown",
   "metadata": {},
   "source": [
    "<font color='#094B91'> In this example we use a pandas method exp() it's take a series as argument and it will return the exponent value off all series.  </font>"
   ]
  },
  {
   "cell_type": "code",
   "execution_count": 200,
   "metadata": {},
   "outputs": [
    {
     "data": {
      "text/plain": [
       "a     2.688117e+43\n",
       "b     7.225974e+86\n",
       "c     1.068647e+13\n",
       "d     5.184706e+21\n",
       "e     1.393710e+65\n",
       "f    1.942426e+130\n",
       "dtype: float64"
      ]
     },
     "execution_count": 200,
     "metadata": {},
     "output_type": "execute_result"
    }
   ],
   "source": [
    "npy.exp(pandasSeries1)"
   ]
  },
  {
   "cell_type": "markdown",
   "metadata": {},
   "source": [
    "<font color='#094B91'> We can get an index value by index number and by index name. </font>\n"
   ]
  },
  {
   "cell_type": "code",
   "execution_count": 201,
   "metadata": {},
   "outputs": [
    {
     "data": {
      "text/plain": [
       "50"
      ]
     },
     "execution_count": 201,
     "metadata": {},
     "output_type": "execute_result"
    }
   ],
   "source": [
    "pandasSeries1['d']"
   ]
  },
  {
   "cell_type": "markdown",
   "metadata": {},
   "source": [
    "<font color='#094B91'> In this example We change an index value. </font>"
   ]
  },
  {
   "cell_type": "code",
   "execution_count": 202,
   "metadata": {},
   "outputs": [],
   "source": [
    "pandasSeries1['d'] = 30"
   ]
  },
  {
   "cell_type": "code",
   "execution_count": 203,
   "metadata": {},
   "outputs": [
    {
     "data": {
      "text/plain": [
       "30"
      ]
     },
     "execution_count": 203,
     "metadata": {},
     "output_type": "execute_result"
    }
   ],
   "source": [
    "pandasSeries1['d']"
   ]
  },
  {
   "cell_type": "markdown",
   "metadata": {},
   "source": [
    "<font color='#094B91'> In this example we check that an index 'e' is prasent in series or not. that will return an boolian value. </font>"
   ]
  },
  {
   "cell_type": "code",
   "execution_count": 204,
   "metadata": {},
   "outputs": [
    {
     "data": {
      "text/plain": [
       "True"
      ]
     },
     "execution_count": 204,
     "metadata": {},
     "output_type": "execute_result"
    }
   ],
   "source": [
    "'f' in pandasSeries1"
   ]
  },
  {
   "cell_type": "markdown",
   "metadata": {},
   "source": [
    "<font color='#094B91'> In this example we use get method that will return the value of specific index and we can set some default value is that index is not prasent init. </font>"
   ]
  },
  {
   "cell_type": "code",
   "execution_count": 205,
   "metadata": {},
   "outputs": [],
   "source": [
    "pandasSeries1.get('z')"
   ]
  },
  {
   "cell_type": "code",
   "execution_count": 206,
   "metadata": {},
   "outputs": [
    {
     "data": {
      "text/plain": [
       "nan"
      ]
     },
     "execution_count": 206,
     "metadata": {},
     "output_type": "execute_result"
    }
   ],
   "source": [
    "pandasSeries1.get('z', npy.nan)"
   ]
  },
  {
   "cell_type": "markdown",
   "metadata": {},
   "source": [
    "<font color='#094B91'>  If we pass a index that is not prasent in series than that will through some error.</font>"
   ]
  },
  {
   "cell_type": "code",
   "execution_count": 207,
   "metadata": {},
   "outputs": [
    {
     "ename": "KeyError",
     "evalue": "'z'",
     "output_type": "error",
     "traceback": [
      "\u001b[1;31m---------------------------------------------------------------------------\u001b[0m",
      "\u001b[1;31mKeyError\u001b[0m                                  Traceback (most recent call last)",
      "\u001b[1;32mC:\\ProgramData\\Anaconda3\\lib\\site-packages\\pandas\\core\\indexes\\base.py\u001b[0m in \u001b[0;36mget_loc\u001b[1;34m(self, key, method, tolerance)\u001b[0m\n\u001b[0;32m   2894\u001b[0m             \u001b[1;32mtry\u001b[0m\u001b[1;33m:\u001b[0m\u001b[1;33m\u001b[0m\u001b[1;33m\u001b[0m\u001b[0m\n\u001b[1;32m-> 2895\u001b[1;33m                 \u001b[1;32mreturn\u001b[0m \u001b[0mself\u001b[0m\u001b[1;33m.\u001b[0m\u001b[0m_engine\u001b[0m\u001b[1;33m.\u001b[0m\u001b[0mget_loc\u001b[0m\u001b[1;33m(\u001b[0m\u001b[0mcasted_key\u001b[0m\u001b[1;33m)\u001b[0m\u001b[1;33m\u001b[0m\u001b[1;33m\u001b[0m\u001b[0m\n\u001b[0m\u001b[0;32m   2896\u001b[0m             \u001b[1;32mexcept\u001b[0m \u001b[0mKeyError\u001b[0m \u001b[1;32mas\u001b[0m \u001b[0merr\u001b[0m\u001b[1;33m:\u001b[0m\u001b[1;33m\u001b[0m\u001b[1;33m\u001b[0m\u001b[0m\n",
      "\u001b[1;32mpandas\\_libs\\index.pyx\u001b[0m in \u001b[0;36mpandas._libs.index.IndexEngine.get_loc\u001b[1;34m()\u001b[0m\n",
      "\u001b[1;32mpandas\\_libs\\index.pyx\u001b[0m in \u001b[0;36mpandas._libs.index.IndexEngine.get_loc\u001b[1;34m()\u001b[0m\n",
      "\u001b[1;32mpandas\\_libs\\hashtable_class_helper.pxi\u001b[0m in \u001b[0;36mpandas._libs.hashtable.PyObjectHashTable.get_item\u001b[1;34m()\u001b[0m\n",
      "\u001b[1;32mpandas\\_libs\\hashtable_class_helper.pxi\u001b[0m in \u001b[0;36mpandas._libs.hashtable.PyObjectHashTable.get_item\u001b[1;34m()\u001b[0m\n",
      "\u001b[1;31mKeyError\u001b[0m: 'z'",
      "\nThe above exception was the direct cause of the following exception:\n",
      "\u001b[1;31mKeyError\u001b[0m                                  Traceback (most recent call last)",
      "\u001b[1;32m<ipython-input-207-5d7f7f51b4a9>\u001b[0m in \u001b[0;36m<module>\u001b[1;34m\u001b[0m\n\u001b[0;32m      1\u001b[0m \u001b[1;31m# this will show error because 'z' is not in data\u001b[0m\u001b[1;33m\u001b[0m\u001b[1;33m\u001b[0m\u001b[1;33m\u001b[0m\u001b[0m\n\u001b[0;32m      2\u001b[0m \u001b[1;33m\u001b[0m\u001b[0m\n\u001b[1;32m----> 3\u001b[1;33m \u001b[0mpandasSeries1\u001b[0m\u001b[1;33m[\u001b[0m\u001b[1;34m'z'\u001b[0m\u001b[1;33m]\u001b[0m\u001b[1;33m\u001b[0m\u001b[1;33m\u001b[0m\u001b[0m\n\u001b[0m",
      "\u001b[1;32mC:\\ProgramData\\Anaconda3\\lib\\site-packages\\pandas\\core\\series.py\u001b[0m in \u001b[0;36m__getitem__\u001b[1;34m(self, key)\u001b[0m\n\u001b[0;32m    880\u001b[0m \u001b[1;33m\u001b[0m\u001b[0m\n\u001b[0;32m    881\u001b[0m         \u001b[1;32melif\u001b[0m \u001b[0mkey_is_scalar\u001b[0m\u001b[1;33m:\u001b[0m\u001b[1;33m\u001b[0m\u001b[1;33m\u001b[0m\u001b[0m\n\u001b[1;32m--> 882\u001b[1;33m             \u001b[1;32mreturn\u001b[0m \u001b[0mself\u001b[0m\u001b[1;33m.\u001b[0m\u001b[0m_get_value\u001b[0m\u001b[1;33m(\u001b[0m\u001b[0mkey\u001b[0m\u001b[1;33m)\u001b[0m\u001b[1;33m\u001b[0m\u001b[1;33m\u001b[0m\u001b[0m\n\u001b[0m\u001b[0;32m    883\u001b[0m \u001b[1;33m\u001b[0m\u001b[0m\n\u001b[0;32m    884\u001b[0m         \u001b[1;32mif\u001b[0m \u001b[0mis_hashable\u001b[0m\u001b[1;33m(\u001b[0m\u001b[0mkey\u001b[0m\u001b[1;33m)\u001b[0m\u001b[1;33m:\u001b[0m\u001b[1;33m\u001b[0m\u001b[1;33m\u001b[0m\u001b[0m\n",
      "\u001b[1;32mC:\\ProgramData\\Anaconda3\\lib\\site-packages\\pandas\\core\\series.py\u001b[0m in \u001b[0;36m_get_value\u001b[1;34m(self, label, takeable)\u001b[0m\n\u001b[0;32m    987\u001b[0m \u001b[1;33m\u001b[0m\u001b[0m\n\u001b[0;32m    988\u001b[0m         \u001b[1;31m# Similar to Index.get_value, but we do not fall back to positional\u001b[0m\u001b[1;33m\u001b[0m\u001b[1;33m\u001b[0m\u001b[1;33m\u001b[0m\u001b[0m\n\u001b[1;32m--> 989\u001b[1;33m         \u001b[0mloc\u001b[0m \u001b[1;33m=\u001b[0m \u001b[0mself\u001b[0m\u001b[1;33m.\u001b[0m\u001b[0mindex\u001b[0m\u001b[1;33m.\u001b[0m\u001b[0mget_loc\u001b[0m\u001b[1;33m(\u001b[0m\u001b[0mlabel\u001b[0m\u001b[1;33m)\u001b[0m\u001b[1;33m\u001b[0m\u001b[1;33m\u001b[0m\u001b[0m\n\u001b[0m\u001b[0;32m    990\u001b[0m         \u001b[1;32mreturn\u001b[0m \u001b[0mself\u001b[0m\u001b[1;33m.\u001b[0m\u001b[0mindex\u001b[0m\u001b[1;33m.\u001b[0m\u001b[0m_get_values_for_loc\u001b[0m\u001b[1;33m(\u001b[0m\u001b[0mself\u001b[0m\u001b[1;33m,\u001b[0m \u001b[0mloc\u001b[0m\u001b[1;33m,\u001b[0m \u001b[0mlabel\u001b[0m\u001b[1;33m)\u001b[0m\u001b[1;33m\u001b[0m\u001b[1;33m\u001b[0m\u001b[0m\n\u001b[0;32m    991\u001b[0m \u001b[1;33m\u001b[0m\u001b[0m\n",
      "\u001b[1;32mC:\\ProgramData\\Anaconda3\\lib\\site-packages\\pandas\\core\\indexes\\base.py\u001b[0m in \u001b[0;36mget_loc\u001b[1;34m(self, key, method, tolerance)\u001b[0m\n\u001b[0;32m   2895\u001b[0m                 \u001b[1;32mreturn\u001b[0m \u001b[0mself\u001b[0m\u001b[1;33m.\u001b[0m\u001b[0m_engine\u001b[0m\u001b[1;33m.\u001b[0m\u001b[0mget_loc\u001b[0m\u001b[1;33m(\u001b[0m\u001b[0mcasted_key\u001b[0m\u001b[1;33m)\u001b[0m\u001b[1;33m\u001b[0m\u001b[1;33m\u001b[0m\u001b[0m\n\u001b[0;32m   2896\u001b[0m             \u001b[1;32mexcept\u001b[0m \u001b[0mKeyError\u001b[0m \u001b[1;32mas\u001b[0m \u001b[0merr\u001b[0m\u001b[1;33m:\u001b[0m\u001b[1;33m\u001b[0m\u001b[1;33m\u001b[0m\u001b[0m\n\u001b[1;32m-> 2897\u001b[1;33m                 \u001b[1;32mraise\u001b[0m \u001b[0mKeyError\u001b[0m\u001b[1;33m(\u001b[0m\u001b[0mkey\u001b[0m\u001b[1;33m)\u001b[0m \u001b[1;32mfrom\u001b[0m \u001b[0merr\u001b[0m\u001b[1;33m\u001b[0m\u001b[1;33m\u001b[0m\u001b[0m\n\u001b[0m\u001b[0;32m   2898\u001b[0m \u001b[1;33m\u001b[0m\u001b[0m\n\u001b[0;32m   2899\u001b[0m         \u001b[1;32mif\u001b[0m \u001b[0mtolerance\u001b[0m \u001b[1;32mis\u001b[0m \u001b[1;32mnot\u001b[0m \u001b[1;32mNone\u001b[0m\u001b[1;33m:\u001b[0m\u001b[1;33m\u001b[0m\u001b[1;33m\u001b[0m\u001b[0m\n",
      "\u001b[1;31mKeyError\u001b[0m: 'z'"
     ]
    }
   ],
   "source": [
    "# this will show error because 'z' is not in data\n",
    "\n",
    "pandasSeries1['z']"
   ]
  },
  {
   "cell_type": "markdown",
   "metadata": {},
   "source": [
    "### <font color='orange'>Example 3:</font>\n",
    "\n",
    "<font color='#094B91'> In this example we will see that we cann do all same operation on series that we can do on ndarray.\n",
    "<br>\n",
    "so we can get a specific index value by it's indes number and we can get some indexes by colon. \n",
    "<br>\n",
    "In this example we pass an dectionary and index list to series.\n",
    "</font>"
   ]
  },
  {
   "cell_type": "code",
   "execution_count": 208,
   "metadata": {},
   "outputs": [],
   "source": [
    "student = {\"id\" : \"F2019027004\" , \"name\" : \"Abdullah\" , \"class\": 10}\n",
    "\n",
    "pandasSeries2 = pnd.Series(student)"
   ]
  },
  {
   "cell_type": "code",
   "execution_count": 209,
   "metadata": {},
   "outputs": [
    {
     "data": {
      "text/plain": [
       "'F2019027004'"
      ]
     },
     "execution_count": 209,
     "metadata": {},
     "output_type": "execute_result"
    }
   ],
   "source": [
    "pandasSeries2[0]"
   ]
  },
  {
   "cell_type": "code",
   "execution_count": 210,
   "metadata": {},
   "outputs": [
    {
     "data": {
      "text/plain": [
       "id       F2019027004\n",
       "name        Abdullah\n",
       "class             10\n",
       "dtype: object"
      ]
     },
     "execution_count": 210,
     "metadata": {},
     "output_type": "execute_result"
    }
   ],
   "source": [
    "pandasSeries2[0:6]"
   ]
  },
  {
   "cell_type": "markdown",
   "metadata": {},
   "source": [
    "<font color='#094B91'> In this example we get some random index by it's index number. </font>"
   ]
  },
  {
   "cell_type": "code",
   "execution_count": 211,
   "metadata": {},
   "outputs": [
    {
     "data": {
      "text/plain": [
       "id       F2019027004\n",
       "class             10\n",
       "dtype: object"
      ]
     },
     "execution_count": 211,
     "metadata": {},
     "output_type": "execute_result"
    }
   ],
   "source": [
    "pandasSeries2[[0, 2]]"
   ]
  },
  {
   "cell_type": "markdown",
   "metadata": {},
   "source": [
    "<font color='#094B91'> We can get an index value by index number and by index name. </font>"
   ]
  },
  {
   "cell_type": "code",
   "execution_count": 212,
   "metadata": {},
   "outputs": [
    {
     "data": {
      "text/plain": [
       "10"
      ]
     },
     "execution_count": 212,
     "metadata": {},
     "output_type": "execute_result"
    }
   ],
   "source": [
    "pandasSeries2['class']"
   ]
  },
  {
   "cell_type": "markdown",
   "metadata": {},
   "source": [
    "<font color='#094B91'> In this example We change an index value. </font>"
   ]
  },
  {
   "cell_type": "code",
   "execution_count": 213,
   "metadata": {},
   "outputs": [],
   "source": [
    "pandasSeries2['class'] = 12"
   ]
  },
  {
   "cell_type": "code",
   "execution_count": 214,
   "metadata": {},
   "outputs": [
    {
     "data": {
      "text/plain": [
       "12"
      ]
     },
     "execution_count": 214,
     "metadata": {},
     "output_type": "execute_result"
    }
   ],
   "source": [
    "pandasSeries2['class']"
   ]
  },
  {
   "cell_type": "markdown",
   "metadata": {},
   "source": [
    "<font color='#094B91'> In this example we check that an index 'e' is prasent in series or not. that will return an boolian value. </font>"
   ]
  },
  {
   "cell_type": "code",
   "execution_count": 215,
   "metadata": {},
   "outputs": [
    {
     "data": {
      "text/plain": [
       "True"
      ]
     },
     "execution_count": 215,
     "metadata": {},
     "output_type": "execute_result"
    }
   ],
   "source": [
    "'class' in pandasSeries2"
   ]
  },
  {
   "cell_type": "markdown",
   "metadata": {},
   "source": [
    "<font color='#094B91'> In this example we use get method that will return the value of specific index and we can set some default value is that index is not prasent init. </font>"
   ]
  },
  {
   "cell_type": "code",
   "execution_count": 216,
   "metadata": {},
   "outputs": [],
   "source": [
    "pandasSeries2.get('fname')"
   ]
  },
  {
   "cell_type": "code",
   "execution_count": 217,
   "metadata": {},
   "outputs": [
    {
     "data": {
      "text/plain": [
       "nan"
      ]
     },
     "execution_count": 217,
     "metadata": {},
     "output_type": "execute_result"
    }
   ],
   "source": [
    "pandasSeries2.get('fname', npy.nan)"
   ]
  },
  {
   "cell_type": "markdown",
   "metadata": {},
   "source": [
    "<font color='#094B91'>  If we pass a index that is not prasent in series than that will through some error.</font>"
   ]
  },
  {
   "cell_type": "code",
   "execution_count": 218,
   "metadata": {},
   "outputs": [
    {
     "ename": "KeyError",
     "evalue": "'fname'",
     "output_type": "error",
     "traceback": [
      "\u001b[1;31m---------------------------------------------------------------------------\u001b[0m",
      "\u001b[1;31mKeyError\u001b[0m                                  Traceback (most recent call last)",
      "\u001b[1;32mC:\\ProgramData\\Anaconda3\\lib\\site-packages\\pandas\\core\\indexes\\base.py\u001b[0m in \u001b[0;36mget_loc\u001b[1;34m(self, key, method, tolerance)\u001b[0m\n\u001b[0;32m   2894\u001b[0m             \u001b[1;32mtry\u001b[0m\u001b[1;33m:\u001b[0m\u001b[1;33m\u001b[0m\u001b[1;33m\u001b[0m\u001b[0m\n\u001b[1;32m-> 2895\u001b[1;33m                 \u001b[1;32mreturn\u001b[0m \u001b[0mself\u001b[0m\u001b[1;33m.\u001b[0m\u001b[0m_engine\u001b[0m\u001b[1;33m.\u001b[0m\u001b[0mget_loc\u001b[0m\u001b[1;33m(\u001b[0m\u001b[0mcasted_key\u001b[0m\u001b[1;33m)\u001b[0m\u001b[1;33m\u001b[0m\u001b[1;33m\u001b[0m\u001b[0m\n\u001b[0m\u001b[0;32m   2896\u001b[0m             \u001b[1;32mexcept\u001b[0m \u001b[0mKeyError\u001b[0m \u001b[1;32mas\u001b[0m \u001b[0merr\u001b[0m\u001b[1;33m:\u001b[0m\u001b[1;33m\u001b[0m\u001b[1;33m\u001b[0m\u001b[0m\n",
      "\u001b[1;32mpandas\\_libs\\index.pyx\u001b[0m in \u001b[0;36mpandas._libs.index.IndexEngine.get_loc\u001b[1;34m()\u001b[0m\n",
      "\u001b[1;32mpandas\\_libs\\index.pyx\u001b[0m in \u001b[0;36mpandas._libs.index.IndexEngine.get_loc\u001b[1;34m()\u001b[0m\n",
      "\u001b[1;32mpandas\\_libs\\hashtable_class_helper.pxi\u001b[0m in \u001b[0;36mpandas._libs.hashtable.PyObjectHashTable.get_item\u001b[1;34m()\u001b[0m\n",
      "\u001b[1;32mpandas\\_libs\\hashtable_class_helper.pxi\u001b[0m in \u001b[0;36mpandas._libs.hashtable.PyObjectHashTable.get_item\u001b[1;34m()\u001b[0m\n",
      "\u001b[1;31mKeyError\u001b[0m: 'fname'",
      "\nThe above exception was the direct cause of the following exception:\n",
      "\u001b[1;31mKeyError\u001b[0m                                  Traceback (most recent call last)",
      "\u001b[1;32m<ipython-input-218-0a5fe4831db4>\u001b[0m in \u001b[0;36m<module>\u001b[1;34m\u001b[0m\n\u001b[0;32m      1\u001b[0m \u001b[1;31m# this will show error because 'fname' is not in data\u001b[0m\u001b[1;33m\u001b[0m\u001b[1;33m\u001b[0m\u001b[1;33m\u001b[0m\u001b[0m\n\u001b[1;32m----> 2\u001b[1;33m \u001b[0mpandasSeries2\u001b[0m\u001b[1;33m[\u001b[0m\u001b[1;34m'fname'\u001b[0m\u001b[1;33m]\u001b[0m\u001b[1;33m\u001b[0m\u001b[1;33m\u001b[0m\u001b[0m\n\u001b[0m",
      "\u001b[1;32mC:\\ProgramData\\Anaconda3\\lib\\site-packages\\pandas\\core\\series.py\u001b[0m in \u001b[0;36m__getitem__\u001b[1;34m(self, key)\u001b[0m\n\u001b[0;32m    880\u001b[0m \u001b[1;33m\u001b[0m\u001b[0m\n\u001b[0;32m    881\u001b[0m         \u001b[1;32melif\u001b[0m \u001b[0mkey_is_scalar\u001b[0m\u001b[1;33m:\u001b[0m\u001b[1;33m\u001b[0m\u001b[1;33m\u001b[0m\u001b[0m\n\u001b[1;32m--> 882\u001b[1;33m             \u001b[1;32mreturn\u001b[0m \u001b[0mself\u001b[0m\u001b[1;33m.\u001b[0m\u001b[0m_get_value\u001b[0m\u001b[1;33m(\u001b[0m\u001b[0mkey\u001b[0m\u001b[1;33m)\u001b[0m\u001b[1;33m\u001b[0m\u001b[1;33m\u001b[0m\u001b[0m\n\u001b[0m\u001b[0;32m    883\u001b[0m \u001b[1;33m\u001b[0m\u001b[0m\n\u001b[0;32m    884\u001b[0m         \u001b[1;32mif\u001b[0m \u001b[0mis_hashable\u001b[0m\u001b[1;33m(\u001b[0m\u001b[0mkey\u001b[0m\u001b[1;33m)\u001b[0m\u001b[1;33m:\u001b[0m\u001b[1;33m\u001b[0m\u001b[1;33m\u001b[0m\u001b[0m\n",
      "\u001b[1;32mC:\\ProgramData\\Anaconda3\\lib\\site-packages\\pandas\\core\\series.py\u001b[0m in \u001b[0;36m_get_value\u001b[1;34m(self, label, takeable)\u001b[0m\n\u001b[0;32m    987\u001b[0m \u001b[1;33m\u001b[0m\u001b[0m\n\u001b[0;32m    988\u001b[0m         \u001b[1;31m# Similar to Index.get_value, but we do not fall back to positional\u001b[0m\u001b[1;33m\u001b[0m\u001b[1;33m\u001b[0m\u001b[1;33m\u001b[0m\u001b[0m\n\u001b[1;32m--> 989\u001b[1;33m         \u001b[0mloc\u001b[0m \u001b[1;33m=\u001b[0m \u001b[0mself\u001b[0m\u001b[1;33m.\u001b[0m\u001b[0mindex\u001b[0m\u001b[1;33m.\u001b[0m\u001b[0mget_loc\u001b[0m\u001b[1;33m(\u001b[0m\u001b[0mlabel\u001b[0m\u001b[1;33m)\u001b[0m\u001b[1;33m\u001b[0m\u001b[1;33m\u001b[0m\u001b[0m\n\u001b[0m\u001b[0;32m    990\u001b[0m         \u001b[1;32mreturn\u001b[0m \u001b[0mself\u001b[0m\u001b[1;33m.\u001b[0m\u001b[0mindex\u001b[0m\u001b[1;33m.\u001b[0m\u001b[0m_get_values_for_loc\u001b[0m\u001b[1;33m(\u001b[0m\u001b[0mself\u001b[0m\u001b[1;33m,\u001b[0m \u001b[0mloc\u001b[0m\u001b[1;33m,\u001b[0m \u001b[0mlabel\u001b[0m\u001b[1;33m)\u001b[0m\u001b[1;33m\u001b[0m\u001b[1;33m\u001b[0m\u001b[0m\n\u001b[0;32m    991\u001b[0m \u001b[1;33m\u001b[0m\u001b[0m\n",
      "\u001b[1;32mC:\\ProgramData\\Anaconda3\\lib\\site-packages\\pandas\\core\\indexes\\base.py\u001b[0m in \u001b[0;36mget_loc\u001b[1;34m(self, key, method, tolerance)\u001b[0m\n\u001b[0;32m   2895\u001b[0m                 \u001b[1;32mreturn\u001b[0m \u001b[0mself\u001b[0m\u001b[1;33m.\u001b[0m\u001b[0m_engine\u001b[0m\u001b[1;33m.\u001b[0m\u001b[0mget_loc\u001b[0m\u001b[1;33m(\u001b[0m\u001b[0mcasted_key\u001b[0m\u001b[1;33m)\u001b[0m\u001b[1;33m\u001b[0m\u001b[1;33m\u001b[0m\u001b[0m\n\u001b[0;32m   2896\u001b[0m             \u001b[1;32mexcept\u001b[0m \u001b[0mKeyError\u001b[0m \u001b[1;32mas\u001b[0m \u001b[0merr\u001b[0m\u001b[1;33m:\u001b[0m\u001b[1;33m\u001b[0m\u001b[1;33m\u001b[0m\u001b[0m\n\u001b[1;32m-> 2897\u001b[1;33m                 \u001b[1;32mraise\u001b[0m \u001b[0mKeyError\u001b[0m\u001b[1;33m(\u001b[0m\u001b[0mkey\u001b[0m\u001b[1;33m)\u001b[0m \u001b[1;32mfrom\u001b[0m \u001b[0merr\u001b[0m\u001b[1;33m\u001b[0m\u001b[1;33m\u001b[0m\u001b[0m\n\u001b[0m\u001b[0;32m   2898\u001b[0m \u001b[1;33m\u001b[0m\u001b[0m\n\u001b[0;32m   2899\u001b[0m         \u001b[1;32mif\u001b[0m \u001b[0mtolerance\u001b[0m \u001b[1;32mis\u001b[0m \u001b[1;32mnot\u001b[0m \u001b[1;32mNone\u001b[0m\u001b[1;33m:\u001b[0m\u001b[1;33m\u001b[0m\u001b[1;33m\u001b[0m\u001b[0m\n",
      "\u001b[1;31mKeyError\u001b[0m: 'fname'"
     ]
    }
   ],
   "source": [
    "# this will show error because 'fname' is not in data\n",
    "pandasSeries2['fname']"
   ]
  },
  {
   "cell_type": "markdown",
   "metadata": {},
   "source": [
    "# <font color='blue'>10.6 Vectorized operations and label alignment with Series</font>\n",
    "- When doing data analysis, as with raw NumPy arrays looping through Series value-by-value is usually not necessary.\n",
    "- Series can also be passed into most NumPy methods expecting an ndarray.\n",
    "\n",
    "### <font color='orange'>Example 1:</font>\n",
    "\n",
    "<font color='#094B91'> In this example we do some mathamatic operation with series and that applyed on each value of list. </font>"
   ]
  },
  {
   "cell_type": "code",
   "execution_count": 219,
   "metadata": {},
   "outputs": [
    {
     "data": {
      "text/plain": [
       "a    -0.573823\n",
       "b    -2.246637\n",
       "c    -2.531671\n",
       "d     0.250636\n",
       "e    24.000000\n",
       "dtype: float64"
      ]
     },
     "execution_count": 219,
     "metadata": {},
     "output_type": "execute_result"
    }
   ],
   "source": [
    " \"\"\"following will add the data of respective values of indexes. For example, in given output, it is calculate\n",
    "d as:\n",
    "a = s['a'] + s['a']\n",
    "b = s['b'] + s['b']\n",
    "c = s['c'] + s['c']\n",
    "d = s['d'] + s['d']\n",
    "e = s['e'] + s['e']\n",
    "\"\"\"\n",
    "s + s"
   ]
  },
  {
   "cell_type": "code",
   "execution_count": 220,
   "metadata": {},
   "outputs": [
    {
     "data": {
      "text/plain": [
       "a    -0.573823\n",
       "b    -2.246637\n",
       "c    -2.531671\n",
       "d     0.250636\n",
       "e    24.000000\n",
       "dtype: float64"
      ]
     },
     "execution_count": 220,
     "metadata": {},
     "output_type": "execute_result"
    }
   ],
   "source": [
    " \"\"\"following will multiply the data of each values of indexes, with 2. For example, in given output, it is ca\n",
    "lculated as:\n",
    "a = s['a'] *2\n",
    "b = s['b'] *2\n",
    "c = s['c'] *2\n",
    "d = s['d'] *2\n",
    "e = s['e'] *2\"\"\"\n",
    "s * 2"
   ]
  },
  {
   "cell_type": "code",
   "execution_count": 221,
   "metadata": {},
   "outputs": [
    {
     "data": {
      "text/plain": [
       "0   -1.017307\n",
       "1    0.388766\n",
       "2   -0.473815\n",
       "3    2.067004\n",
       "4    1.907148\n",
       "Name: something, dtype: float64"
      ]
     },
     "execution_count": 221,
     "metadata": {},
     "output_type": "execute_result"
    }
   ],
   "source": [
    "s = pd.Series(np.random.randn(5), name='something')\n",
    "s"
   ]
  },
  {
   "cell_type": "code",
   "execution_count": 222,
   "metadata": {},
   "outputs": [
    {
     "data": {
      "text/plain": [
       "'something'"
      ]
     },
     "execution_count": 222,
     "metadata": {},
     "output_type": "execute_result"
    }
   ],
   "source": [
    " s.name #print the name attribute of series"
   ]
  },
  {
   "cell_type": "code",
   "execution_count": 223,
   "metadata": {},
   "outputs": [
    {
     "data": {
      "text/plain": [
       "'different'"
      ]
     },
     "execution_count": 223,
     "metadata": {},
     "output_type": "execute_result"
    }
   ],
   "source": [
    " #rename the series name attribute and assign to s2 object. Note that s and s2 refer to different objects.\n",
    "s2 = s.rename(\"different\")\n",
    "s2.name"
   ]
  },
  {
   "cell_type": "markdown",
   "metadata": {},
   "source": [
    "### <font color='orange'>Example 2:</font>"
   ]
  },
  {
   "cell_type": "markdown",
   "metadata": {},
   "source": [
    "<font color='#094B91'> In this example we do some mathamatic operation with series and that applyed on each value of list. </font>"
   ]
  },
  {
   "cell_type": "code",
   "execution_count": 224,
   "metadata": {},
   "outputs": [
    {
     "data": {
      "text/plain": [
       "a    200\n",
       "b    400\n",
       "c     60\n",
       "d     60\n",
       "e    300\n",
       "f    600\n",
       "dtype: int64"
      ]
     },
     "execution_count": 224,
     "metadata": {},
     "output_type": "execute_result"
    }
   ],
   "source": [
    "pandasSeries1 + pandasSeries1"
   ]
  },
  {
   "cell_type": "code",
   "execution_count": 225,
   "metadata": {},
   "outputs": [
    {
     "data": {
      "text/plain": [
       "0    100\n",
       "1    200\n",
       "2     30\n",
       "3     50\n",
       "4    150\n",
       "5    300\n",
       "Name: tupleNum, dtype: int64"
      ]
     },
     "execution_count": 225,
     "metadata": {},
     "output_type": "execute_result"
    }
   ],
   "source": [
    "tupleNum = (100, 200, 30, 50, 150, 300)\n",
    "\n",
    "pandasSeries1 = pnd.Series( tupleNum, name='tupleNum')\n",
    "\n",
    "pandasSeries1"
   ]
  },
  {
   "cell_type": "code",
   "execution_count": 226,
   "metadata": {},
   "outputs": [
    {
     "data": {
      "text/plain": [
       "'tupleNum'"
      ]
     },
     "execution_count": 226,
     "metadata": {},
     "output_type": "execute_result"
    }
   ],
   "source": [
    "pandasSeries1.name"
   ]
  },
  {
   "cell_type": "code",
   "execution_count": 227,
   "metadata": {},
   "outputs": [
    {
     "data": {
      "text/plain": [
       "'pandasSeries11'"
      ]
     },
     "execution_count": 227,
     "metadata": {},
     "output_type": "execute_result"
    }
   ],
   "source": [
    "pandasSeries11 = pandasSeries1.rename(\"pandasSeries11\")\n",
    "\n",
    "pandasSeries11.name"
   ]
  },
  {
   "cell_type": "markdown",
   "metadata": {},
   "source": [
    "### <font color='orange'>Example 3:</font>"
   ]
  },
  {
   "cell_type": "markdown",
   "metadata": {},
   "source": [
    "<font color='#094B91'> In this example we do some mathamatic operation with series and that applyed on each value of list. </font>"
   ]
  },
  {
   "cell_type": "code",
   "execution_count": 228,
   "metadata": {},
   "outputs": [
    {
     "data": {
      "text/plain": [
       "id       F2019027004F2019027004\n",
       "name           AbdullahAbdullah\n",
       "class                        24\n",
       "dtype: object"
      ]
     },
     "execution_count": 228,
     "metadata": {},
     "output_type": "execute_result"
    }
   ],
   "source": [
    "pandasSeries2 + pandasSeries2"
   ]
  },
  {
   "cell_type": "code",
   "execution_count": 229,
   "metadata": {},
   "outputs": [
    {
     "data": {
      "text/plain": [
       "id       F2019027004\n",
       "name        Abdullah\n",
       "class             10\n",
       "Name: Student Record, dtype: object"
      ]
     },
     "execution_count": 229,
     "metadata": {},
     "output_type": "execute_result"
    }
   ],
   "source": [
    "student = {\"id\" : \"F2019027004\" , \"name\" : \"Abdullah\" , \"class\": 10}\n",
    "\n",
    "pandasSeries2 = pnd.Series( student, name='Student Record')\n",
    "\n",
    "pandasSeries2"
   ]
  },
  {
   "cell_type": "code",
   "execution_count": 230,
   "metadata": {},
   "outputs": [
    {
     "data": {
      "text/plain": [
       "'Student Record'"
      ]
     },
     "execution_count": 230,
     "metadata": {},
     "output_type": "execute_result"
    }
   ],
   "source": [
    "pandasSeries2.name"
   ]
  },
  {
   "cell_type": "code",
   "execution_count": 231,
   "metadata": {},
   "outputs": [
    {
     "data": {
      "text/plain": [
       "'pandasSeries2'"
      ]
     },
     "execution_count": 231,
     "metadata": {},
     "output_type": "execute_result"
    }
   ],
   "source": [
    "pandasSeries22 = pandasSeries2.rename(\"pandasSeries2\")\n",
    "pandasSeries22.name"
   ]
  },
  {
   "cell_type": "markdown",
   "metadata": {},
   "source": [
    "\n",
    "<br>\n",
    "<br>\n",
    "<br>\n",
    "<br>\n"
   ]
  },
  {
   "cell_type": "markdown",
   "metadata": {},
   "source": [
    "***\n",
    "\n",
    "# <center><font size=\"8\" color='red'>11. Data Frames</font></center>\n",
    "- DataFrames are the workhorse of pandas and are directly inspired by the R programming language.\n",
    "- Like Series, DataFrame accepts many different kinds of input:\n",
    "    - Dict of 1D ndarrays, lists, dicts, or Series\n",
    "    - 2-D numpy.ndarray\n",
    "    - Structured or record ndarray\n",
    "    - A Series\n",
    "    - Another DataFrame\n",
    "- Along with the data, you can optionally pass index (row labels) and columns (column labels) arguments.\n",
    "- If you pass an index and / or columns, you are guaranteeing the index and / or columns of the resulting DataFrame.\n",
    "- Thus, a dict of Series plus a specific index will discard all data not matching up to the passed index.\n",
    "- If axis labels are not passed, they will be constructed from the input data based on common sense rules\n",
    "\n",
    "# <font color='blue'>11.1 From dict of Series or dicts<font>\n",
    "- The result index will be the union of the indexes of the various Series.\n",
    "- If there are any nested dicts, these will be first converted to Series.\n",
    "- If no columns are passed, the columns will be the sorted list of dict keys.\n",
    "    \n",
    "### <font color='orange'>Example 1:</font>\n",
    "    \n",
    "    \n",
    "<font color='#094B91'> In this example we 1st create a dictionary of pandas series and than pass this array to pandas DataFrame method that will creat a dataframe according that dictionary. </font>"
   ]
  },
  {
   "cell_type": "code",
   "execution_count": 232,
   "metadata": {},
   "outputs": [
    {
     "data": {
      "text/html": [
       "<div>\n",
       "<style scoped>\n",
       "    .dataframe tbody tr th:only-of-type {\n",
       "        vertical-align: middle;\n",
       "    }\n",
       "\n",
       "    .dataframe tbody tr th {\n",
       "        vertical-align: top;\n",
       "    }\n",
       "\n",
       "    .dataframe thead th {\n",
       "        text-align: right;\n",
       "    }\n",
       "</style>\n",
       "<table border=\"1\" class=\"dataframe\">\n",
       "  <thead>\n",
       "    <tr style=\"text-align: right;\">\n",
       "      <th></th>\n",
       "      <th>one</th>\n",
       "      <th>two</th>\n",
       "    </tr>\n",
       "  </thead>\n",
       "  <tbody>\n",
       "    <tr>\n",
       "      <th>a</th>\n",
       "      <td>1.0</td>\n",
       "      <td>1.0</td>\n",
       "    </tr>\n",
       "    <tr>\n",
       "      <th>b</th>\n",
       "      <td>2.0</td>\n",
       "      <td>2.0</td>\n",
       "    </tr>\n",
       "    <tr>\n",
       "      <th>c</th>\n",
       "      <td>3.0</td>\n",
       "      <td>3.0</td>\n",
       "    </tr>\n",
       "    <tr>\n",
       "      <th>d</th>\n",
       "      <td>NaN</td>\n",
       "      <td>4.0</td>\n",
       "    </tr>\n",
       "  </tbody>\n",
       "</table>\n",
       "</div>"
      ],
      "text/plain": [
       "   one  two\n",
       "a  1.0  1.0\n",
       "b  2.0  2.0\n",
       "c  3.0  3.0\n",
       "d  NaN  4.0"
      ]
     },
     "execution_count": 232,
     "metadata": {},
     "output_type": "execute_result"
    }
   ],
   "source": [
    " \"\"\" A dict is created \"\"\"\n",
    "d = {\n",
    " 'one' : pd.Series([1., 2., 3.], index=['a', 'b', 'c']),\n",
    " 'two' : pd.Series([1., 2., 3., 4.], index=['a', 'b', 'c', 'd'])\n",
    " }\n",
    "\"\"\"create a dataframe. row label will be the indes of a series. As coloum labels are not given so it \n",
    " will be sorted list of dict keys\"\"\"\n",
    "df = pd.DataFrame(d)\n",
    "df"
   ]
  },
  {
   "cell_type": "markdown",
   "metadata": {},
   "source": [
    "<font color='#094B91'> In this example we give come lable to dataframe rows. </font>"
   ]
  },
  {
   "cell_type": "code",
   "execution_count": 233,
   "metadata": {},
   "outputs": [
    {
     "data": {
      "text/html": [
       "<div>\n",
       "<style scoped>\n",
       "    .dataframe tbody tr th:only-of-type {\n",
       "        vertical-align: middle;\n",
       "    }\n",
       "\n",
       "    .dataframe tbody tr th {\n",
       "        vertical-align: top;\n",
       "    }\n",
       "\n",
       "    .dataframe thead th {\n",
       "        text-align: right;\n",
       "    }\n",
       "</style>\n",
       "<table border=\"1\" class=\"dataframe\">\n",
       "  <thead>\n",
       "    <tr style=\"text-align: right;\">\n",
       "      <th></th>\n",
       "      <th>one</th>\n",
       "      <th>two</th>\n",
       "    </tr>\n",
       "  </thead>\n",
       "  <tbody>\n",
       "    <tr>\n",
       "      <th>d</th>\n",
       "      <td>NaN</td>\n",
       "      <td>4.0</td>\n",
       "    </tr>\n",
       "    <tr>\n",
       "      <th>b</th>\n",
       "      <td>2.0</td>\n",
       "      <td>2.0</td>\n",
       "    </tr>\n",
       "    <tr>\n",
       "      <th>a</th>\n",
       "      <td>1.0</td>\n",
       "      <td>1.0</td>\n",
       "    </tr>\n",
       "  </tbody>\n",
       "</table>\n",
       "</div>"
      ],
      "text/plain": [
       "   one  two\n",
       "d  NaN  4.0\n",
       "b  2.0  2.0\n",
       "a  1.0  1.0"
      ]
     },
     "execution_count": 233,
     "metadata": {},
     "output_type": "execute_result"
    }
   ],
   "source": [
    " \"\"\" a data frame will be constructed for given row labels\"\"\"\n",
    "pd.DataFrame(d, index=['d', 'b', 'a'])"
   ]
  },
  {
   "cell_type": "markdown",
   "metadata": {},
   "source": [
    "<font color='#094B91'> In this example we give somelabel to dataframe rows and columns. </font>"
   ]
  },
  {
   "cell_type": "code",
   "execution_count": 234,
   "metadata": {},
   "outputs": [
    {
     "data": {
      "text/html": [
       "<div>\n",
       "<style scoped>\n",
       "    .dataframe tbody tr th:only-of-type {\n",
       "        vertical-align: middle;\n",
       "    }\n",
       "\n",
       "    .dataframe tbody tr th {\n",
       "        vertical-align: top;\n",
       "    }\n",
       "\n",
       "    .dataframe thead th {\n",
       "        text-align: right;\n",
       "    }\n",
       "</style>\n",
       "<table border=\"1\" class=\"dataframe\">\n",
       "  <thead>\n",
       "    <tr style=\"text-align: right;\">\n",
       "      <th></th>\n",
       "      <th>two</th>\n",
       "      <th>three</th>\n",
       "    </tr>\n",
       "  </thead>\n",
       "  <tbody>\n",
       "    <tr>\n",
       "      <th>d</th>\n",
       "      <td>4.0</td>\n",
       "      <td>NaN</td>\n",
       "    </tr>\n",
       "    <tr>\n",
       "      <th>b</th>\n",
       "      <td>2.0</td>\n",
       "      <td>NaN</td>\n",
       "    </tr>\n",
       "    <tr>\n",
       "      <th>a</th>\n",
       "      <td>1.0</td>\n",
       "      <td>NaN</td>\n",
       "    </tr>\n",
       "  </tbody>\n",
       "</table>\n",
       "</div>"
      ],
      "text/plain": [
       "   two three\n",
       "d  4.0   NaN\n",
       "b  2.0   NaN\n",
       "a  1.0   NaN"
      ]
     },
     "execution_count": 234,
     "metadata": {},
     "output_type": "execute_result"
    }
   ],
   "source": [
    "\"\"\"following example shows a data frame when we give coloumn labels\"\"\"\n",
    "pd.DataFrame(d, index=['d', 'b', 'a'], columns=['two', 'three'])"
   ]
  },
  {
   "cell_type": "markdown",
   "metadata": {},
   "source": [
    "<font color='#094B91'> In this example we show the columns and their data type by using dataframe property columns.   </font>"
   ]
  },
  {
   "cell_type": "code",
   "execution_count": 235,
   "metadata": {},
   "outputs": [
    {
     "data": {
      "text/plain": [
       "Index(['one', 'two'], dtype='object')"
      ]
     },
     "execution_count": 235,
     "metadata": {},
     "output_type": "execute_result"
    }
   ],
   "source": [
    " df.columns"
   ]
  },
  {
   "cell_type": "markdown",
   "metadata": {},
   "source": [
    "### <font color='orange'>Example 2:</font>\n",
    "\n",
    "<font color='#094B91'> In this example we 1st create a dictionary of pandas series and than pass this array to pandas DataFrame method that will creat a dataframe according that dictionary. </font>"
   ]
  },
  {
   "cell_type": "code",
   "execution_count": 236,
   "metadata": {},
   "outputs": [
    {
     "data": {
      "text/html": [
       "<div>\n",
       "<style scoped>\n",
       "    .dataframe tbody tr th:only-of-type {\n",
       "        vertical-align: middle;\n",
       "    }\n",
       "\n",
       "    .dataframe tbody tr th {\n",
       "        vertical-align: top;\n",
       "    }\n",
       "\n",
       "    .dataframe thead th {\n",
       "        text-align: right;\n",
       "    }\n",
       "</style>\n",
       "<table border=\"1\" class=\"dataframe\">\n",
       "  <thead>\n",
       "    <tr style=\"text-align: right;\">\n",
       "      <th></th>\n",
       "      <th>Rec_1</th>\n",
       "      <th>Rec_2</th>\n",
       "    </tr>\n",
       "  </thead>\n",
       "  <tbody>\n",
       "    <tr>\n",
       "      <th>1</th>\n",
       "      <td>10.0</td>\n",
       "      <td>100.0</td>\n",
       "    </tr>\n",
       "    <tr>\n",
       "      <th>2</th>\n",
       "      <td>20.0</td>\n",
       "      <td>200.0</td>\n",
       "    </tr>\n",
       "    <tr>\n",
       "      <th>3</th>\n",
       "      <td>30.0</td>\n",
       "      <td>300.0</td>\n",
       "    </tr>\n",
       "    <tr>\n",
       "      <th>4</th>\n",
       "      <td>NaN</td>\n",
       "      <td>400.0</td>\n",
       "    </tr>\n",
       "    <tr>\n",
       "      <th>5</th>\n",
       "      <td>NaN</td>\n",
       "      <td>500.0</td>\n",
       "    </tr>\n",
       "    <tr>\n",
       "      <th>6</th>\n",
       "      <td>NaN</td>\n",
       "      <td>600.0</td>\n",
       "    </tr>\n",
       "  </tbody>\n",
       "</table>\n",
       "</div>"
      ],
      "text/plain": [
       "   Rec_1  Rec_2\n",
       "1   10.0  100.0\n",
       "2   20.0  200.0\n",
       "3   30.0  300.0\n",
       "4    NaN  400.0\n",
       "5    NaN  500.0\n",
       "6    NaN  600.0"
      ]
     },
     "execution_count": 236,
     "metadata": {},
     "output_type": "execute_result"
    }
   ],
   "source": [
    "dict1 = {\n",
    " 'Rec_1' : pnd.Series([10, 20, 30], index=['1', '2', '3']),\n",
    " 'Rec_2' : pnd.Series([100., 200., 300., 400.,500., 600.], index=['1', '2', '3', '4','5','6'])\n",
    " }\n",
    "\n",
    "dataFrame1 = pnd.DataFrame(dict1)\n",
    "dataFrame1"
   ]
  },
  {
   "cell_type": "markdown",
   "metadata": {},
   "source": [
    "<font color='#094B91'> In this example we give come lable to dataframe rows. </font>"
   ]
  },
  {
   "cell_type": "code",
   "execution_count": 237,
   "metadata": {},
   "outputs": [
    {
     "data": {
      "text/html": [
       "<div>\n",
       "<style scoped>\n",
       "    .dataframe tbody tr th:only-of-type {\n",
       "        vertical-align: middle;\n",
       "    }\n",
       "\n",
       "    .dataframe tbody tr th {\n",
       "        vertical-align: top;\n",
       "    }\n",
       "\n",
       "    .dataframe thead th {\n",
       "        text-align: right;\n",
       "    }\n",
       "</style>\n",
       "<table border=\"1\" class=\"dataframe\">\n",
       "  <thead>\n",
       "    <tr style=\"text-align: right;\">\n",
       "      <th></th>\n",
       "      <th>Rec_1</th>\n",
       "      <th>Rec_2</th>\n",
       "    </tr>\n",
       "  </thead>\n",
       "  <tbody>\n",
       "    <tr>\n",
       "      <th>1</th>\n",
       "      <td>10.0</td>\n",
       "      <td>100.0</td>\n",
       "    </tr>\n",
       "    <tr>\n",
       "      <th>5</th>\n",
       "      <td>NaN</td>\n",
       "      <td>500.0</td>\n",
       "    </tr>\n",
       "    <tr>\n",
       "      <th>6</th>\n",
       "      <td>NaN</td>\n",
       "      <td>600.0</td>\n",
       "    </tr>\n",
       "  </tbody>\n",
       "</table>\n",
       "</div>"
      ],
      "text/plain": [
       "   Rec_1  Rec_2\n",
       "1   10.0  100.0\n",
       "5    NaN  500.0\n",
       "6    NaN  600.0"
      ]
     },
     "execution_count": 237,
     "metadata": {},
     "output_type": "execute_result"
    }
   ],
   "source": [
    "pnd.DataFrame(dataFrame1, index=['1', '5', '6'])"
   ]
  },
  {
   "cell_type": "markdown",
   "metadata": {},
   "source": [
    "<font color='#094B91'> In this example we give somelabel to dataframe rows and columns. </font>"
   ]
  },
  {
   "cell_type": "code",
   "execution_count": 238,
   "metadata": {},
   "outputs": [
    {
     "data": {
      "text/html": [
       "<div>\n",
       "<style scoped>\n",
       "    .dataframe tbody tr th:only-of-type {\n",
       "        vertical-align: middle;\n",
       "    }\n",
       "\n",
       "    .dataframe tbody tr th {\n",
       "        vertical-align: top;\n",
       "    }\n",
       "\n",
       "    .dataframe thead th {\n",
       "        text-align: right;\n",
       "    }\n",
       "</style>\n",
       "<table border=\"1\" class=\"dataframe\">\n",
       "  <thead>\n",
       "    <tr style=\"text-align: right;\">\n",
       "      <th></th>\n",
       "      <th>Rec_1</th>\n",
       "      <th>Rec_2</th>\n",
       "      <th>Rec_3</th>\n",
       "      <th>Rec_4</th>\n",
       "    </tr>\n",
       "  </thead>\n",
       "  <tbody>\n",
       "    <tr>\n",
       "      <th>1</th>\n",
       "      <td>10.0</td>\n",
       "      <td>100.0</td>\n",
       "      <td>NaN</td>\n",
       "      <td>NaN</td>\n",
       "    </tr>\n",
       "    <tr>\n",
       "      <th>5</th>\n",
       "      <td>NaN</td>\n",
       "      <td>500.0</td>\n",
       "      <td>NaN</td>\n",
       "      <td>NaN</td>\n",
       "    </tr>\n",
       "    <tr>\n",
       "      <th>6</th>\n",
       "      <td>NaN</td>\n",
       "      <td>600.0</td>\n",
       "      <td>NaN</td>\n",
       "      <td>NaN</td>\n",
       "    </tr>\n",
       "  </tbody>\n",
       "</table>\n",
       "</div>"
      ],
      "text/plain": [
       "   Rec_1  Rec_2  Rec_3  Rec_4\n",
       "1   10.0  100.0    NaN    NaN\n",
       "5    NaN  500.0    NaN    NaN\n",
       "6    NaN  600.0    NaN    NaN"
      ]
     },
     "execution_count": 238,
     "metadata": {},
     "output_type": "execute_result"
    }
   ],
   "source": [
    "pnd.DataFrame(dataFrame1, index=['1', '5', '6'], columns= ['Rec_1','Rec_2','Rec_3','Rec_4'])"
   ]
  },
  {
   "cell_type": "markdown",
   "metadata": {},
   "source": [
    "<font color='#094B91'> In this example we show the columns and their data type by using dataframe property columns.   </font>"
   ]
  },
  {
   "cell_type": "code",
   "execution_count": 239,
   "metadata": {},
   "outputs": [
    {
     "data": {
      "text/plain": [
       "Index(['Rec_1', 'Rec_2'], dtype='object')"
      ]
     },
     "execution_count": 239,
     "metadata": {},
     "output_type": "execute_result"
    }
   ],
   "source": [
    "dataFrame1.columns"
   ]
  },
  {
   "cell_type": "markdown",
   "metadata": {},
   "source": [
    "### <font color='orange'>Example 3:</font>\n",
    "\n",
    "<font color='#094B91'> In this example we 1st create a dictionary of pandas series and than pass this array to pandas DataFrame method that will creat a dataframe according that dictionary. </font>"
   ]
  },
  {
   "cell_type": "code",
   "execution_count": 240,
   "metadata": {},
   "outputs": [
    {
     "data": {
      "text/html": [
       "<div>\n",
       "<style scoped>\n",
       "    .dataframe tbody tr th:only-of-type {\n",
       "        vertical-align: middle;\n",
       "    }\n",
       "\n",
       "    .dataframe tbody tr th {\n",
       "        vertical-align: top;\n",
       "    }\n",
       "\n",
       "    .dataframe thead th {\n",
       "        text-align: right;\n",
       "    }\n",
       "</style>\n",
       "<table border=\"1\" class=\"dataframe\">\n",
       "  <thead>\n",
       "    <tr style=\"text-align: right;\">\n",
       "      <th></th>\n",
       "      <th>S-1</th>\n",
       "      <th>S-2</th>\n",
       "    </tr>\n",
       "  </thead>\n",
       "  <tbody>\n",
       "    <tr>\n",
       "      <th>city</th>\n",
       "      <td>Lahore</td>\n",
       "      <td>NaN</td>\n",
       "    </tr>\n",
       "    <tr>\n",
       "      <th>class</th>\n",
       "      <td>10</td>\n",
       "      <td>12</td>\n",
       "    </tr>\n",
       "    <tr>\n",
       "      <th>id</th>\n",
       "      <td>F2019027004</td>\n",
       "      <td>F2019027044</td>\n",
       "    </tr>\n",
       "    <tr>\n",
       "      <th>name</th>\n",
       "      <td>Abdullah</td>\n",
       "      <td>Muzamil</td>\n",
       "    </tr>\n",
       "  </tbody>\n",
       "</table>\n",
       "</div>"
      ],
      "text/plain": [
       "               S-1          S-2\n",
       "city        Lahore          NaN\n",
       "class           10           12\n",
       "id     F2019027004  F2019027044\n",
       "name      Abdullah      Muzamil"
      ]
     },
     "execution_count": 240,
     "metadata": {},
     "output_type": "execute_result"
    }
   ],
   "source": [
    "student1 = {\"id\" : \"F2019027004\" , \"name\" : \"Abdullah\" , \"city\" : \"Lahore\" , \"class\": 10}\n",
    "student2 = {\"id\" : \"F2019027044\" , \"name\" : \"Muzamil\" , \"class\": 12}\n",
    "\n",
    "dict2 = {\n",
    " 'S-1' : pnd.Series(student1),\n",
    " 'S-2' : pnd.Series(student2)\n",
    " }\n",
    "\n",
    "dataFrame2 = pnd.DataFrame(dict2)\n",
    "dataFrame2"
   ]
  },
  {
   "cell_type": "markdown",
   "metadata": {},
   "source": [
    "<font color='#094B91'> In this example we give come lable to dataframe rows. </font>"
   ]
  },
  {
   "cell_type": "code",
   "execution_count": 241,
   "metadata": {},
   "outputs": [
    {
     "data": {
      "text/html": [
       "<div>\n",
       "<style scoped>\n",
       "    .dataframe tbody tr th:only-of-type {\n",
       "        vertical-align: middle;\n",
       "    }\n",
       "\n",
       "    .dataframe tbody tr th {\n",
       "        vertical-align: top;\n",
       "    }\n",
       "\n",
       "    .dataframe thead th {\n",
       "        text-align: right;\n",
       "    }\n",
       "</style>\n",
       "<table border=\"1\" class=\"dataframe\">\n",
       "  <thead>\n",
       "    <tr style=\"text-align: right;\">\n",
       "      <th></th>\n",
       "      <th>S-1</th>\n",
       "      <th>S-2</th>\n",
       "    </tr>\n",
       "  </thead>\n",
       "  <tbody>\n",
       "    <tr>\n",
       "      <th>id</th>\n",
       "      <td>F2019027004</td>\n",
       "      <td>F2019027044</td>\n",
       "    </tr>\n",
       "    <tr>\n",
       "      <th>city</th>\n",
       "      <td>Lahore</td>\n",
       "      <td>NaN</td>\n",
       "    </tr>\n",
       "  </tbody>\n",
       "</table>\n",
       "</div>"
      ],
      "text/plain": [
       "              S-1          S-2\n",
       "id    F2019027004  F2019027044\n",
       "city       Lahore          NaN"
      ]
     },
     "execution_count": 241,
     "metadata": {},
     "output_type": "execute_result"
    }
   ],
   "source": [
    "pnd.DataFrame(dataFrame2, index=['id', 'city'])"
   ]
  },
  {
   "cell_type": "markdown",
   "metadata": {},
   "source": [
    "<font color='#094B91'> In this example we give somelabel to dataframe rows and columns. </font>"
   ]
  },
  {
   "cell_type": "code",
   "execution_count": 242,
   "metadata": {},
   "outputs": [
    {
     "data": {
      "text/html": [
       "<div>\n",
       "<style scoped>\n",
       "    .dataframe tbody tr th:only-of-type {\n",
       "        vertical-align: middle;\n",
       "    }\n",
       "\n",
       "    .dataframe tbody tr th {\n",
       "        vertical-align: top;\n",
       "    }\n",
       "\n",
       "    .dataframe thead th {\n",
       "        text-align: right;\n",
       "    }\n",
       "</style>\n",
       "<table border=\"1\" class=\"dataframe\">\n",
       "  <thead>\n",
       "    <tr style=\"text-align: right;\">\n",
       "      <th></th>\n",
       "      <th>S-1</th>\n",
       "      <th>S-2</th>\n",
       "      <th>Rec_3</th>\n",
       "      <th>Rec_4</th>\n",
       "    </tr>\n",
       "  </thead>\n",
       "  <tbody>\n",
       "    <tr>\n",
       "      <th>id</th>\n",
       "      <td>F2019027004</td>\n",
       "      <td>F2019027044</td>\n",
       "      <td>NaN</td>\n",
       "      <td>NaN</td>\n",
       "    </tr>\n",
       "    <tr>\n",
       "      <th>city</th>\n",
       "      <td>Lahore</td>\n",
       "      <td>NaN</td>\n",
       "      <td>NaN</td>\n",
       "      <td>NaN</td>\n",
       "    </tr>\n",
       "  </tbody>\n",
       "</table>\n",
       "</div>"
      ],
      "text/plain": [
       "              S-1          S-2  Rec_3  Rec_4\n",
       "id    F2019027004  F2019027044    NaN    NaN\n",
       "city       Lahore          NaN    NaN    NaN"
      ]
     },
     "execution_count": 242,
     "metadata": {},
     "output_type": "execute_result"
    }
   ],
   "source": [
    "pnd.DataFrame(dataFrame2, index=['id', 'city'], columns= ['S-1','S-2','Rec_3','Rec_4'])"
   ]
  },
  {
   "cell_type": "markdown",
   "metadata": {},
   "source": [
    "<font color='#094B91'> In this example we show the columns and their data type by using dataframe property columns.   </font>"
   ]
  },
  {
   "cell_type": "code",
   "execution_count": 243,
   "metadata": {},
   "outputs": [
    {
     "data": {
      "text/plain": [
       "Index(['S-1', 'S-2'], dtype='object')"
      ]
     },
     "execution_count": 243,
     "metadata": {},
     "output_type": "execute_result"
    }
   ],
   "source": [
    "dataFrame2.columns"
   ]
  },
  {
   "cell_type": "markdown",
   "metadata": {},
   "source": [
    "# <font color='blue'>11.2 From dict of ndarrays / lists</font>\n",
    "- The ndarrays must all be the same length.\n",
    "- If an index is passed, it must clearly also be the same length as the arrays.\n",
    "- If no index is passed, the result will be range(n), where n is the array length.\n",
    "\n",
    "### <font color='orange'>Example 1:</font>\n",
    "\n",
    "<font color='#094B91'> In this example we create a dectionary of ndarray or list and than pass this dictionary to dataframe method as argument and also pass a other list for index than that method will convert that dictionary into DataFrame.  </font>"
   ]
  },
  {
   "cell_type": "code",
   "execution_count": 244,
   "metadata": {},
   "outputs": [
    {
     "data": {
      "text/plain": [
       "'column labels are not given so the result will be range(n), where n is the array length'"
      ]
     },
     "execution_count": 244,
     "metadata": {},
     "output_type": "execute_result"
    }
   ],
   "source": [
    "\"\"\"followind examples shows that ndarray has same length\"\"\"\n",
    "d = {\n",
    " 'one' : [1., 2., 3., 4.],\n",
    " 'two' : [4., 3., 2., 1.]\n",
    " }\n",
    "\"\"\"column labels are not given so the result will be range(n), where n is the array length\"\"\""
   ]
  },
  {
   "cell_type": "code",
   "execution_count": 245,
   "metadata": {},
   "outputs": [
    {
     "data": {
      "text/html": [
       "<div>\n",
       "<style scoped>\n",
       "    .dataframe tbody tr th:only-of-type {\n",
       "        vertical-align: middle;\n",
       "    }\n",
       "\n",
       "    .dataframe tbody tr th {\n",
       "        vertical-align: top;\n",
       "    }\n",
       "\n",
       "    .dataframe thead th {\n",
       "        text-align: right;\n",
       "    }\n",
       "</style>\n",
       "<table border=\"1\" class=\"dataframe\">\n",
       "  <thead>\n",
       "    <tr style=\"text-align: right;\">\n",
       "      <th></th>\n",
       "      <th>one</th>\n",
       "      <th>two</th>\n",
       "    </tr>\n",
       "  </thead>\n",
       "  <tbody>\n",
       "    <tr>\n",
       "      <th>a</th>\n",
       "      <td>1.0</td>\n",
       "      <td>4.0</td>\n",
       "    </tr>\n",
       "    <tr>\n",
       "      <th>b</th>\n",
       "      <td>2.0</td>\n",
       "      <td>3.0</td>\n",
       "    </tr>\n",
       "    <tr>\n",
       "      <th>c</th>\n",
       "      <td>3.0</td>\n",
       "      <td>2.0</td>\n",
       "    </tr>\n",
       "    <tr>\n",
       "      <th>d</th>\n",
       "      <td>4.0</td>\n",
       "      <td>1.0</td>\n",
       "    </tr>\n",
       "  </tbody>\n",
       "</table>\n",
       "</div>"
      ],
      "text/plain": [
       "   one  two\n",
       "a  1.0  4.0\n",
       "b  2.0  3.0\n",
       "c  3.0  2.0\n",
       "d  4.0  1.0"
      ]
     },
     "execution_count": 245,
     "metadata": {},
     "output_type": "execute_result"
    }
   ],
   "source": [
    " \"\"\"If indexs are given then it would be same length as arrays\"\"\"\n",
    "pd.DataFrame(d, index=['a', 'b', 'c', 'd'])"
   ]
  },
  {
   "cell_type": "markdown",
   "metadata": {},
   "source": [
    "<font color='#094B91'> In this example we create a list of dectionary  and than pass this list to dataframe method as argument that method will convert that list into DataFrame.  </font>"
   ]
  },
  {
   "cell_type": "code",
   "execution_count": 246,
   "metadata": {},
   "outputs": [
    {
     "data": {
      "text/html": [
       "<div>\n",
       "<style scoped>\n",
       "    .dataframe tbody tr th:only-of-type {\n",
       "        vertical-align: middle;\n",
       "    }\n",
       "\n",
       "    .dataframe tbody tr th {\n",
       "        vertical-align: top;\n",
       "    }\n",
       "\n",
       "    .dataframe thead th {\n",
       "        text-align: right;\n",
       "    }\n",
       "</style>\n",
       "<table border=\"1\" class=\"dataframe\">\n",
       "  <thead>\n",
       "    <tr style=\"text-align: right;\">\n",
       "      <th></th>\n",
       "      <th>a</th>\n",
       "      <th>b</th>\n",
       "      <th>c</th>\n",
       "    </tr>\n",
       "  </thead>\n",
       "  <tbody>\n",
       "    <tr>\n",
       "      <th>0</th>\n",
       "      <td>1</td>\n",
       "      <td>2</td>\n",
       "      <td>NaN</td>\n",
       "    </tr>\n",
       "    <tr>\n",
       "      <th>1</th>\n",
       "      <td>5</td>\n",
       "      <td>10</td>\n",
       "      <td>20.0</td>\n",
       "    </tr>\n",
       "  </tbody>\n",
       "</table>\n",
       "</div>"
      ],
      "text/plain": [
       "   a   b     c\n",
       "0  1   2   NaN\n",
       "1  5  10  20.0"
      ]
     },
     "execution_count": 246,
     "metadata": {},
     "output_type": "execute_result"
    }
   ],
   "source": [
    " \"\"\"constructing data frame from a list of dicts\"\"\"\n",
    "data2 = [{'a': 1, 'b': 2}, {'a': 5, 'b': 10, 'c': 20}]\n",
    "pd.DataFrame(data2)"
   ]
  },
  {
   "cell_type": "markdown",
   "metadata": {},
   "source": [
    "<font color='#094B91'> Now we pass the list and index. </font>"
   ]
  },
  {
   "cell_type": "code",
   "execution_count": 247,
   "metadata": {},
   "outputs": [
    {
     "data": {
      "text/html": [
       "<div>\n",
       "<style scoped>\n",
       "    .dataframe tbody tr th:only-of-type {\n",
       "        vertical-align: middle;\n",
       "    }\n",
       "\n",
       "    .dataframe tbody tr th {\n",
       "        vertical-align: top;\n",
       "    }\n",
       "\n",
       "    .dataframe thead th {\n",
       "        text-align: right;\n",
       "    }\n",
       "</style>\n",
       "<table border=\"1\" class=\"dataframe\">\n",
       "  <thead>\n",
       "    <tr style=\"text-align: right;\">\n",
       "      <th></th>\n",
       "      <th>a</th>\n",
       "      <th>b</th>\n",
       "      <th>c</th>\n",
       "    </tr>\n",
       "  </thead>\n",
       "  <tbody>\n",
       "    <tr>\n",
       "      <th>first</th>\n",
       "      <td>1</td>\n",
       "      <td>2</td>\n",
       "      <td>NaN</td>\n",
       "    </tr>\n",
       "    <tr>\n",
       "      <th>second</th>\n",
       "      <td>5</td>\n",
       "      <td>10</td>\n",
       "      <td>20.0</td>\n",
       "    </tr>\n",
       "  </tbody>\n",
       "</table>\n",
       "</div>"
      ],
      "text/plain": [
       "        a   b     c\n",
       "first   1   2   NaN\n",
       "second  5  10  20.0"
      ]
     },
     "execution_count": 247,
     "metadata": {},
     "output_type": "execute_result"
    }
   ],
   "source": [
    " \"\"\"passing list of dicts as data and indexes (row labels)\"\"\"\n",
    "pd.DataFrame(data2, index=['first', 'second'])"
   ]
  },
  {
   "cell_type": "markdown",
   "metadata": {},
   "source": [
    "<font color='#094B91'> In this example we pass list and colimn list for column lable. </font>"
   ]
  },
  {
   "cell_type": "code",
   "execution_count": 248,
   "metadata": {},
   "outputs": [
    {
     "data": {
      "text/html": [
       "<div>\n",
       "<style scoped>\n",
       "    .dataframe tbody tr th:only-of-type {\n",
       "        vertical-align: middle;\n",
       "    }\n",
       "\n",
       "    .dataframe tbody tr th {\n",
       "        vertical-align: top;\n",
       "    }\n",
       "\n",
       "    .dataframe thead th {\n",
       "        text-align: right;\n",
       "    }\n",
       "</style>\n",
       "<table border=\"1\" class=\"dataframe\">\n",
       "  <thead>\n",
       "    <tr style=\"text-align: right;\">\n",
       "      <th></th>\n",
       "      <th>a</th>\n",
       "      <th>b</th>\n",
       "    </tr>\n",
       "  </thead>\n",
       "  <tbody>\n",
       "    <tr>\n",
       "      <th>0</th>\n",
       "      <td>1</td>\n",
       "      <td>2</td>\n",
       "    </tr>\n",
       "    <tr>\n",
       "      <th>1</th>\n",
       "      <td>5</td>\n",
       "      <td>10</td>\n",
       "    </tr>\n",
       "  </tbody>\n",
       "</table>\n",
       "</div>"
      ],
      "text/plain": [
       "   a   b\n",
       "0  1   2\n",
       "1  5  10"
      ]
     },
     "execution_count": 248,
     "metadata": {},
     "output_type": "execute_result"
    }
   ],
   "source": [
    " \"\"\"passing list of dicts as data and columns (columns labels)\"\"\"\n",
    "pd.DataFrame(data2, columns=['a', 'b'])"
   ]
  },
  {
   "cell_type": "markdown",
   "metadata": {},
   "source": [
    "### <font color='orange'>Example 2:</font>\n",
    "\n",
    "<font color='#094B91'> In this example we create a dectionary of ndarray or list and than pass this dictionary to dataframe method as argument and also pass a other list for index than that method will convert that dictionary into DataFrame.  </font>"
   ]
  },
  {
   "cell_type": "code",
   "execution_count": 249,
   "metadata": {},
   "outputs": [],
   "source": [
    "ndarray1 = {\n",
    " 'Rec_1' : [10, 20, 30, 40, 50, 60],\n",
    " 'Rec_2' : [100., 200., 300., 400.,500., 600.]\n",
    " }"
   ]
  },
  {
   "cell_type": "code",
   "execution_count": 250,
   "metadata": {},
   "outputs": [
    {
     "data": {
      "text/html": [
       "<div>\n",
       "<style scoped>\n",
       "    .dataframe tbody tr th:only-of-type {\n",
       "        vertical-align: middle;\n",
       "    }\n",
       "\n",
       "    .dataframe tbody tr th {\n",
       "        vertical-align: top;\n",
       "    }\n",
       "\n",
       "    .dataframe thead th {\n",
       "        text-align: right;\n",
       "    }\n",
       "</style>\n",
       "<table border=\"1\" class=\"dataframe\">\n",
       "  <thead>\n",
       "    <tr style=\"text-align: right;\">\n",
       "      <th></th>\n",
       "      <th>Rec_1</th>\n",
       "      <th>Rec_2</th>\n",
       "    </tr>\n",
       "  </thead>\n",
       "  <tbody>\n",
       "    <tr>\n",
       "      <th>a</th>\n",
       "      <td>10</td>\n",
       "      <td>100.0</td>\n",
       "    </tr>\n",
       "    <tr>\n",
       "      <th>b</th>\n",
       "      <td>20</td>\n",
       "      <td>200.0</td>\n",
       "    </tr>\n",
       "    <tr>\n",
       "      <th>c</th>\n",
       "      <td>30</td>\n",
       "      <td>300.0</td>\n",
       "    </tr>\n",
       "    <tr>\n",
       "      <th>d</th>\n",
       "      <td>40</td>\n",
       "      <td>400.0</td>\n",
       "    </tr>\n",
       "    <tr>\n",
       "      <th>e</th>\n",
       "      <td>50</td>\n",
       "      <td>500.0</td>\n",
       "    </tr>\n",
       "    <tr>\n",
       "      <th>g</th>\n",
       "      <td>60</td>\n",
       "      <td>600.0</td>\n",
       "    </tr>\n",
       "  </tbody>\n",
       "</table>\n",
       "</div>"
      ],
      "text/plain": [
       "   Rec_1  Rec_2\n",
       "a     10  100.0\n",
       "b     20  200.0\n",
       "c     30  300.0\n",
       "d     40  400.0\n",
       "e     50  500.0\n",
       "g     60  600.0"
      ]
     },
     "execution_count": 250,
     "metadata": {},
     "output_type": "execute_result"
    }
   ],
   "source": [
    "pnd.DataFrame(ndarray1, index=['a', 'b', 'c', 'd','e','g'])"
   ]
  },
  {
   "cell_type": "markdown",
   "metadata": {},
   "source": [
    "<font color='#094B91'> In this example we create a list of dectionary  and than pass this list to dataframe method as argument that method will convert that list into DataFrame.  </font>"
   ]
  },
  {
   "cell_type": "code",
   "execution_count": 251,
   "metadata": {},
   "outputs": [
    {
     "data": {
      "text/html": [
       "<div>\n",
       "<style scoped>\n",
       "    .dataframe tbody tr th:only-of-type {\n",
       "        vertical-align: middle;\n",
       "    }\n",
       "\n",
       "    .dataframe tbody tr th {\n",
       "        vertical-align: top;\n",
       "    }\n",
       "\n",
       "    .dataframe thead th {\n",
       "        text-align: right;\n",
       "    }\n",
       "</style>\n",
       "<table border=\"1\" class=\"dataframe\">\n",
       "  <thead>\n",
       "    <tr style=\"text-align: right;\">\n",
       "      <th></th>\n",
       "      <th>c1</th>\n",
       "      <th>c2</th>\n",
       "      <th>c3</th>\n",
       "      <th>c4</th>\n",
       "      <th>c5</th>\n",
       "      <th>c6</th>\n",
       "    </tr>\n",
       "  </thead>\n",
       "  <tbody>\n",
       "    <tr>\n",
       "      <th>0</th>\n",
       "      <td>100.0</td>\n",
       "      <td>200.0</td>\n",
       "      <td>30.0</td>\n",
       "      <td>50.0</td>\n",
       "      <td>150.0</td>\n",
       "      <td>300.0</td>\n",
       "    </tr>\n",
       "    <tr>\n",
       "      <th>1</th>\n",
       "      <td>1000.0</td>\n",
       "      <td>2000.0</td>\n",
       "      <td>3000.0</td>\n",
       "      <td>NaN</td>\n",
       "      <td>NaN</td>\n",
       "      <td>NaN</td>\n",
       "    </tr>\n",
       "  </tbody>\n",
       "</table>\n",
       "</div>"
      ],
      "text/plain": [
       "       c1      c2      c3    c4     c5     c6\n",
       "0   100.0   200.0    30.0  50.0  150.0  300.0\n",
       "1  1000.0  2000.0  3000.0   NaN    NaN    NaN"
      ]
     },
     "execution_count": 251,
     "metadata": {},
     "output_type": "execute_result"
    }
   ],
   "source": [
    "dictList1 = [{'c1':100, 'c2':200, 'c3':30, 'c4':50, 'c5':150, 'c6':300}, {'c1':1000., 'c2':2000., 'c3':3000.}]\n",
    "\n",
    "pnd.DataFrame(dictList1)"
   ]
  },
  {
   "cell_type": "markdown",
   "metadata": {},
   "source": [
    "<font color='#094B91'> Now we pass the list and index for the index lable. </font>"
   ]
  },
  {
   "cell_type": "code",
   "execution_count": 252,
   "metadata": {},
   "outputs": [
    {
     "data": {
      "text/html": [
       "<div>\n",
       "<style scoped>\n",
       "    .dataframe tbody tr th:only-of-type {\n",
       "        vertical-align: middle;\n",
       "    }\n",
       "\n",
       "    .dataframe tbody tr th {\n",
       "        vertical-align: top;\n",
       "    }\n",
       "\n",
       "    .dataframe thead th {\n",
       "        text-align: right;\n",
       "    }\n",
       "</style>\n",
       "<table border=\"1\" class=\"dataframe\">\n",
       "  <thead>\n",
       "    <tr style=\"text-align: right;\">\n",
       "      <th></th>\n",
       "      <th>c1</th>\n",
       "      <th>c2</th>\n",
       "      <th>c3</th>\n",
       "      <th>c4</th>\n",
       "      <th>c5</th>\n",
       "      <th>c6</th>\n",
       "    </tr>\n",
       "  </thead>\n",
       "  <tbody>\n",
       "    <tr>\n",
       "      <th>Row_1</th>\n",
       "      <td>100.0</td>\n",
       "      <td>200.0</td>\n",
       "      <td>30.0</td>\n",
       "      <td>50.0</td>\n",
       "      <td>150.0</td>\n",
       "      <td>300.0</td>\n",
       "    </tr>\n",
       "    <tr>\n",
       "      <th>Row_2</th>\n",
       "      <td>1000.0</td>\n",
       "      <td>2000.0</td>\n",
       "      <td>3000.0</td>\n",
       "      <td>NaN</td>\n",
       "      <td>NaN</td>\n",
       "      <td>NaN</td>\n",
       "    </tr>\n",
       "  </tbody>\n",
       "</table>\n",
       "</div>"
      ],
      "text/plain": [
       "           c1      c2      c3    c4     c5     c6\n",
       "Row_1   100.0   200.0    30.0  50.0  150.0  300.0\n",
       "Row_2  1000.0  2000.0  3000.0   NaN    NaN    NaN"
      ]
     },
     "execution_count": 252,
     "metadata": {},
     "output_type": "execute_result"
    }
   ],
   "source": [
    "pnd.DataFrame(dictList1, index=['Row_1', 'Row_2'])"
   ]
  },
  {
   "cell_type": "markdown",
   "metadata": {},
   "source": [
    "<font color='#094B91'> In this example we pass list and colimn list for column lable. </font>"
   ]
  },
  {
   "cell_type": "code",
   "execution_count": 253,
   "metadata": {},
   "outputs": [
    {
     "data": {
      "text/html": [
       "<div>\n",
       "<style scoped>\n",
       "    .dataframe tbody tr th:only-of-type {\n",
       "        vertical-align: middle;\n",
       "    }\n",
       "\n",
       "    .dataframe tbody tr th {\n",
       "        vertical-align: top;\n",
       "    }\n",
       "\n",
       "    .dataframe thead th {\n",
       "        text-align: right;\n",
       "    }\n",
       "</style>\n",
       "<table border=\"1\" class=\"dataframe\">\n",
       "  <thead>\n",
       "    <tr style=\"text-align: right;\">\n",
       "      <th></th>\n",
       "      <th>c1</th>\n",
       "      <th>c2</th>\n",
       "      <th>c6</th>\n",
       "    </tr>\n",
       "  </thead>\n",
       "  <tbody>\n",
       "    <tr>\n",
       "      <th>0</th>\n",
       "      <td>100.0</td>\n",
       "      <td>200.0</td>\n",
       "      <td>300.0</td>\n",
       "    </tr>\n",
       "    <tr>\n",
       "      <th>1</th>\n",
       "      <td>1000.0</td>\n",
       "      <td>2000.0</td>\n",
       "      <td>NaN</td>\n",
       "    </tr>\n",
       "  </tbody>\n",
       "</table>\n",
       "</div>"
      ],
      "text/plain": [
       "       c1      c2     c6\n",
       "0   100.0   200.0  300.0\n",
       "1  1000.0  2000.0    NaN"
      ]
     },
     "execution_count": 253,
     "metadata": {},
     "output_type": "execute_result"
    }
   ],
   "source": [
    "pnd.DataFrame(dictList1, columns=['c1', 'c2', 'c6'])"
   ]
  },
  {
   "cell_type": "markdown",
   "metadata": {},
   "source": [
    "### <font color='orange'>Example 3:</font>\n",
    "\n",
    "<font color='#094B91'> In this example we create a dectionary of ndarray or list and than pass this dictionary to dataframe method as argument and also pass a other list for index than that method will convert that dictionary into DataFrame.  </font>"
   ]
  },
  {
   "cell_type": "code",
   "execution_count": 254,
   "metadata": {},
   "outputs": [],
   "source": [
    "student1 = [ \"F2019027004\" , \"Abdullah\" , \"Lahore\" , 10]\n",
    "student2 = [ \"F2019027044\" , \"Muzamil\" , \"FSD\", 12]\n",
    "\n",
    "ndarray2 = { 's1' : student1, 's2' : student2 }"
   ]
  },
  {
   "cell_type": "code",
   "execution_count": 255,
   "metadata": {},
   "outputs": [
    {
     "data": {
      "text/html": [
       "<div>\n",
       "<style scoped>\n",
       "    .dataframe tbody tr th:only-of-type {\n",
       "        vertical-align: middle;\n",
       "    }\n",
       "\n",
       "    .dataframe tbody tr th {\n",
       "        vertical-align: top;\n",
       "    }\n",
       "\n",
       "    .dataframe thead th {\n",
       "        text-align: right;\n",
       "    }\n",
       "</style>\n",
       "<table border=\"1\" class=\"dataframe\">\n",
       "  <thead>\n",
       "    <tr style=\"text-align: right;\">\n",
       "      <th></th>\n",
       "      <th>s1</th>\n",
       "      <th>s2</th>\n",
       "    </tr>\n",
       "  </thead>\n",
       "  <tbody>\n",
       "    <tr>\n",
       "      <th>id</th>\n",
       "      <td>F2019027004</td>\n",
       "      <td>F2019027044</td>\n",
       "    </tr>\n",
       "    <tr>\n",
       "      <th>name</th>\n",
       "      <td>Abdullah</td>\n",
       "      <td>Muzamil</td>\n",
       "    </tr>\n",
       "    <tr>\n",
       "      <th>city</th>\n",
       "      <td>Lahore</td>\n",
       "      <td>FSD</td>\n",
       "    </tr>\n",
       "    <tr>\n",
       "      <th>class</th>\n",
       "      <td>10</td>\n",
       "      <td>12</td>\n",
       "    </tr>\n",
       "  </tbody>\n",
       "</table>\n",
       "</div>"
      ],
      "text/plain": [
       "                s1           s2\n",
       "id     F2019027004  F2019027044\n",
       "name      Abdullah      Muzamil\n",
       "city        Lahore          FSD\n",
       "class           10           12"
      ]
     },
     "execution_count": 255,
     "metadata": {},
     "output_type": "execute_result"
    }
   ],
   "source": [
    "pnd.DataFrame(ndarray2, index=['id', 'name', 'city','class'])"
   ]
  },
  {
   "cell_type": "markdown",
   "metadata": {},
   "source": [
    "<font color='#094B91'> In this example we create a list of dectionary  and than pass this list to dataframe method as argument that method will convert that list into DataFrame.  </font>"
   ]
  },
  {
   "cell_type": "code",
   "execution_count": 256,
   "metadata": {},
   "outputs": [
    {
     "data": {
      "text/html": [
       "<div>\n",
       "<style scoped>\n",
       "    .dataframe tbody tr th:only-of-type {\n",
       "        vertical-align: middle;\n",
       "    }\n",
       "\n",
       "    .dataframe tbody tr th {\n",
       "        vertical-align: top;\n",
       "    }\n",
       "\n",
       "    .dataframe thead th {\n",
       "        text-align: right;\n",
       "    }\n",
       "</style>\n",
       "<table border=\"1\" class=\"dataframe\">\n",
       "  <thead>\n",
       "    <tr style=\"text-align: right;\">\n",
       "      <th></th>\n",
       "      <th>id</th>\n",
       "      <th>name</th>\n",
       "      <th>city</th>\n",
       "      <th>class</th>\n",
       "    </tr>\n",
       "  </thead>\n",
       "  <tbody>\n",
       "    <tr>\n",
       "      <th>0</th>\n",
       "      <td>F2019027004</td>\n",
       "      <td>Abdullah</td>\n",
       "      <td>Lahore</td>\n",
       "      <td>10</td>\n",
       "    </tr>\n",
       "    <tr>\n",
       "      <th>1</th>\n",
       "      <td>F2019027044</td>\n",
       "      <td>Muzamil</td>\n",
       "      <td>NaN</td>\n",
       "      <td>12</td>\n",
       "    </tr>\n",
       "  </tbody>\n",
       "</table>\n",
       "</div>"
      ],
      "text/plain": [
       "            id      name    city  class\n",
       "0  F2019027004  Abdullah  Lahore     10\n",
       "1  F2019027044   Muzamil     NaN     12"
      ]
     },
     "execution_count": 256,
     "metadata": {},
     "output_type": "execute_result"
    }
   ],
   "source": [
    "dictList2 = [{\"id\" : \"F2019027004\" , \"name\" : \"Abdullah\" , \"city\" : \"Lahore\" , \"class\": 10}, \n",
    "             {\"id\" : \"F2019027044\" , \"name\" : \"Muzamil\" , \"class\": 12}]\n",
    "\n",
    "pnd.DataFrame(dictList2)"
   ]
  },
  {
   "cell_type": "markdown",
   "metadata": {},
   "source": [
    "<font color='#094B91'> Now we pass the list and index for index name. </font>"
   ]
  },
  {
   "cell_type": "code",
   "execution_count": 257,
   "metadata": {},
   "outputs": [
    {
     "data": {
      "text/html": [
       "<div>\n",
       "<style scoped>\n",
       "    .dataframe tbody tr th:only-of-type {\n",
       "        vertical-align: middle;\n",
       "    }\n",
       "\n",
       "    .dataframe tbody tr th {\n",
       "        vertical-align: top;\n",
       "    }\n",
       "\n",
       "    .dataframe thead th {\n",
       "        text-align: right;\n",
       "    }\n",
       "</style>\n",
       "<table border=\"1\" class=\"dataframe\">\n",
       "  <thead>\n",
       "    <tr style=\"text-align: right;\">\n",
       "      <th></th>\n",
       "      <th>id</th>\n",
       "      <th>name</th>\n",
       "      <th>city</th>\n",
       "      <th>class</th>\n",
       "    </tr>\n",
       "  </thead>\n",
       "  <tbody>\n",
       "    <tr>\n",
       "      <th>student_1</th>\n",
       "      <td>F2019027004</td>\n",
       "      <td>Abdullah</td>\n",
       "      <td>Lahore</td>\n",
       "      <td>10</td>\n",
       "    </tr>\n",
       "    <tr>\n",
       "      <th>student_2</th>\n",
       "      <td>F2019027044</td>\n",
       "      <td>Muzamil</td>\n",
       "      <td>NaN</td>\n",
       "      <td>12</td>\n",
       "    </tr>\n",
       "  </tbody>\n",
       "</table>\n",
       "</div>"
      ],
      "text/plain": [
       "                    id      name    city  class\n",
       "student_1  F2019027004  Abdullah  Lahore     10\n",
       "student_2  F2019027044   Muzamil     NaN     12"
      ]
     },
     "execution_count": 257,
     "metadata": {},
     "output_type": "execute_result"
    }
   ],
   "source": [
    "pnd.DataFrame(dictList2, index=['student_1', 'student_2'])"
   ]
  },
  {
   "cell_type": "markdown",
   "metadata": {},
   "source": [
    "<font color='#094B91'> In this example we pass list and colimn list for column lable. </font>"
   ]
  },
  {
   "cell_type": "code",
   "execution_count": 258,
   "metadata": {},
   "outputs": [
    {
     "data": {
      "text/html": [
       "<div>\n",
       "<style scoped>\n",
       "    .dataframe tbody tr th:only-of-type {\n",
       "        vertical-align: middle;\n",
       "    }\n",
       "\n",
       "    .dataframe tbody tr th {\n",
       "        vertical-align: top;\n",
       "    }\n",
       "\n",
       "    .dataframe thead th {\n",
       "        text-align: right;\n",
       "    }\n",
       "</style>\n",
       "<table border=\"1\" class=\"dataframe\">\n",
       "  <thead>\n",
       "    <tr style=\"text-align: right;\">\n",
       "      <th></th>\n",
       "      <th>id</th>\n",
       "      <th>name</th>\n",
       "      <th>city</th>\n",
       "    </tr>\n",
       "  </thead>\n",
       "  <tbody>\n",
       "    <tr>\n",
       "      <th>0</th>\n",
       "      <td>F2019027004</td>\n",
       "      <td>Abdullah</td>\n",
       "      <td>Lahore</td>\n",
       "    </tr>\n",
       "    <tr>\n",
       "      <th>1</th>\n",
       "      <td>F2019027044</td>\n",
       "      <td>Muzamil</td>\n",
       "      <td>NaN</td>\n",
       "    </tr>\n",
       "  </tbody>\n",
       "</table>\n",
       "</div>"
      ],
      "text/plain": [
       "            id      name    city\n",
       "0  F2019027004  Abdullah  Lahore\n",
       "1  F2019027044   Muzamil     NaN"
      ]
     },
     "execution_count": 258,
     "metadata": {},
     "output_type": "execute_result"
    }
   ],
   "source": [
    "pnd.DataFrame(dictList2, columns=['id', 'name', 'city'])"
   ]
  },
  {
   "cell_type": "markdown",
   "metadata": {},
   "source": [
    "# <font color='blue'>11.3 From a list of dicts</font>\n",
    "<br>\n",
    "\n",
    "### <font color='orange'>Example 1:</font>\n",
    "\n",
    "<font color='#094B91'> In this example we create a list of dectionaries and than pass this list to dataframe method as argument that method will convert that list into DataFrame.  </font>"
   ]
  },
  {
   "cell_type": "code",
   "execution_count": 259,
   "metadata": {},
   "outputs": [
    {
     "data": {
      "text/html": [
       "<div>\n",
       "<style scoped>\n",
       "    .dataframe tbody tr th:only-of-type {\n",
       "        vertical-align: middle;\n",
       "    }\n",
       "\n",
       "    .dataframe tbody tr th {\n",
       "        vertical-align: top;\n",
       "    }\n",
       "\n",
       "    .dataframe thead th {\n",
       "        text-align: right;\n",
       "    }\n",
       "</style>\n",
       "<table border=\"1\" class=\"dataframe\">\n",
       "  <thead>\n",
       "    <tr style=\"text-align: right;\">\n",
       "      <th></th>\n",
       "      <th>a</th>\n",
       "      <th>b</th>\n",
       "      <th>c</th>\n",
       "    </tr>\n",
       "  </thead>\n",
       "  <tbody>\n",
       "    <tr>\n",
       "      <th>0</th>\n",
       "      <td>1</td>\n",
       "      <td>2</td>\n",
       "      <td>NaN</td>\n",
       "    </tr>\n",
       "    <tr>\n",
       "      <th>1</th>\n",
       "      <td>5</td>\n",
       "      <td>10</td>\n",
       "      <td>20.0</td>\n",
       "    </tr>\n",
       "  </tbody>\n",
       "</table>\n",
       "</div>"
      ],
      "text/plain": [
       "   a   b     c\n",
       "0  1   2   NaN\n",
       "1  5  10  20.0"
      ]
     },
     "execution_count": 259,
     "metadata": {},
     "output_type": "execute_result"
    }
   ],
   "source": [
    " \"\"\"constructing data frame from a list of dicts\"\"\"\n",
    "data2 = [{'a': 1, 'b': 2}, {'a': 5, 'b': 10, 'c': 20}]\n",
    "pd.DataFrame(data2)"
   ]
  },
  {
   "cell_type": "markdown",
   "metadata": {},
   "source": [
    "<font color='#094B91'> Now we pass the list and index for index lable. </font>"
   ]
  },
  {
   "cell_type": "code",
   "execution_count": 260,
   "metadata": {},
   "outputs": [
    {
     "data": {
      "text/html": [
       "<div>\n",
       "<style scoped>\n",
       "    .dataframe tbody tr th:only-of-type {\n",
       "        vertical-align: middle;\n",
       "    }\n",
       "\n",
       "    .dataframe tbody tr th {\n",
       "        vertical-align: top;\n",
       "    }\n",
       "\n",
       "    .dataframe thead th {\n",
       "        text-align: right;\n",
       "    }\n",
       "</style>\n",
       "<table border=\"1\" class=\"dataframe\">\n",
       "  <thead>\n",
       "    <tr style=\"text-align: right;\">\n",
       "      <th></th>\n",
       "      <th>a</th>\n",
       "      <th>b</th>\n",
       "      <th>c</th>\n",
       "    </tr>\n",
       "  </thead>\n",
       "  <tbody>\n",
       "    <tr>\n",
       "      <th>first</th>\n",
       "      <td>1</td>\n",
       "      <td>2</td>\n",
       "      <td>NaN</td>\n",
       "    </tr>\n",
       "    <tr>\n",
       "      <th>second</th>\n",
       "      <td>5</td>\n",
       "      <td>10</td>\n",
       "      <td>20.0</td>\n",
       "    </tr>\n",
       "  </tbody>\n",
       "</table>\n",
       "</div>"
      ],
      "text/plain": [
       "        a   b     c\n",
       "first   1   2   NaN\n",
       "second  5  10  20.0"
      ]
     },
     "execution_count": 260,
     "metadata": {},
     "output_type": "execute_result"
    }
   ],
   "source": [
    "\"\"\"passing list of dicts as data and indexes (row labels)\"\"\"\n",
    "pd.DataFrame(data2, index=['first', 'second'])"
   ]
  },
  {
   "cell_type": "markdown",
   "metadata": {},
   "source": [
    "<font color='#094B91'> In this example we pass list and colimn list for column lable. </font>"
   ]
  },
  {
   "cell_type": "code",
   "execution_count": 261,
   "metadata": {},
   "outputs": [
    {
     "data": {
      "text/html": [
       "<div>\n",
       "<style scoped>\n",
       "    .dataframe tbody tr th:only-of-type {\n",
       "        vertical-align: middle;\n",
       "    }\n",
       "\n",
       "    .dataframe tbody tr th {\n",
       "        vertical-align: top;\n",
       "    }\n",
       "\n",
       "    .dataframe thead th {\n",
       "        text-align: right;\n",
       "    }\n",
       "</style>\n",
       "<table border=\"1\" class=\"dataframe\">\n",
       "  <thead>\n",
       "    <tr style=\"text-align: right;\">\n",
       "      <th></th>\n",
       "      <th>a</th>\n",
       "      <th>b</th>\n",
       "    </tr>\n",
       "  </thead>\n",
       "  <tbody>\n",
       "    <tr>\n",
       "      <th>0</th>\n",
       "      <td>1</td>\n",
       "      <td>2</td>\n",
       "    </tr>\n",
       "    <tr>\n",
       "      <th>1</th>\n",
       "      <td>5</td>\n",
       "      <td>10</td>\n",
       "    </tr>\n",
       "  </tbody>\n",
       "</table>\n",
       "</div>"
      ],
      "text/plain": [
       "   a   b\n",
       "0  1   2\n",
       "1  5  10"
      ]
     },
     "execution_count": 261,
     "metadata": {},
     "output_type": "execute_result"
    }
   ],
   "source": [
    "\"\"\"passing list of dicts as data and columns (columns labels)\"\"\"\n",
    "pd.DataFrame(data2, columns=['a', 'b'])"
   ]
  },
  {
   "cell_type": "markdown",
   "metadata": {},
   "source": [
    "### <font color='orange'>Example 2:</font>\n",
    "\n",
    "<font color='#094B91'> In this example we create a list of dectionaries and than pass this list to dataframe method as argument that method will convert that list into DataFrame.  </font>"
   ]
  },
  {
   "cell_type": "code",
   "execution_count": 262,
   "metadata": {},
   "outputs": [
    {
     "data": {
      "text/html": [
       "<div>\n",
       "<style scoped>\n",
       "    .dataframe tbody tr th:only-of-type {\n",
       "        vertical-align: middle;\n",
       "    }\n",
       "\n",
       "    .dataframe tbody tr th {\n",
       "        vertical-align: top;\n",
       "    }\n",
       "\n",
       "    .dataframe thead th {\n",
       "        text-align: right;\n",
       "    }\n",
       "</style>\n",
       "<table border=\"1\" class=\"dataframe\">\n",
       "  <thead>\n",
       "    <tr style=\"text-align: right;\">\n",
       "      <th></th>\n",
       "      <th>c1</th>\n",
       "      <th>c2</th>\n",
       "      <th>c3</th>\n",
       "      <th>c4</th>\n",
       "      <th>c5</th>\n",
       "      <th>c6</th>\n",
       "    </tr>\n",
       "  </thead>\n",
       "  <tbody>\n",
       "    <tr>\n",
       "      <th>0</th>\n",
       "      <td>100.0</td>\n",
       "      <td>200.0</td>\n",
       "      <td>30.0</td>\n",
       "      <td>50.0</td>\n",
       "      <td>150.0</td>\n",
       "      <td>300.0</td>\n",
       "    </tr>\n",
       "    <tr>\n",
       "      <th>1</th>\n",
       "      <td>1000.0</td>\n",
       "      <td>2000.0</td>\n",
       "      <td>3000.0</td>\n",
       "      <td>NaN</td>\n",
       "      <td>NaN</td>\n",
       "      <td>NaN</td>\n",
       "    </tr>\n",
       "  </tbody>\n",
       "</table>\n",
       "</div>"
      ],
      "text/plain": [
       "       c1      c2      c3    c4     c5     c6\n",
       "0   100.0   200.0    30.0  50.0  150.0  300.0\n",
       "1  1000.0  2000.0  3000.0   NaN    NaN    NaN"
      ]
     },
     "execution_count": 262,
     "metadata": {},
     "output_type": "execute_result"
    }
   ],
   "source": [
    "dictList1 = [{'c1':100, 'c2':200, 'c3':30, 'c4':50, 'c5':150, 'c6':300}, {'c1':1000., 'c2':2000., 'c3':3000.}]\n",
    "\n",
    "pnd.DataFrame(dictList1)"
   ]
  },
  {
   "cell_type": "markdown",
   "metadata": {},
   "source": [
    "<font color='#094B91'> Now we pass the list and index for index lable. </font>"
   ]
  },
  {
   "cell_type": "code",
   "execution_count": 263,
   "metadata": {},
   "outputs": [
    {
     "data": {
      "text/html": [
       "<div>\n",
       "<style scoped>\n",
       "    .dataframe tbody tr th:only-of-type {\n",
       "        vertical-align: middle;\n",
       "    }\n",
       "\n",
       "    .dataframe tbody tr th {\n",
       "        vertical-align: top;\n",
       "    }\n",
       "\n",
       "    .dataframe thead th {\n",
       "        text-align: right;\n",
       "    }\n",
       "</style>\n",
       "<table border=\"1\" class=\"dataframe\">\n",
       "  <thead>\n",
       "    <tr style=\"text-align: right;\">\n",
       "      <th></th>\n",
       "      <th>c1</th>\n",
       "      <th>c2</th>\n",
       "      <th>c3</th>\n",
       "      <th>c4</th>\n",
       "      <th>c5</th>\n",
       "      <th>c6</th>\n",
       "    </tr>\n",
       "  </thead>\n",
       "  <tbody>\n",
       "    <tr>\n",
       "      <th>Row_1</th>\n",
       "      <td>100.0</td>\n",
       "      <td>200.0</td>\n",
       "      <td>30.0</td>\n",
       "      <td>50.0</td>\n",
       "      <td>150.0</td>\n",
       "      <td>300.0</td>\n",
       "    </tr>\n",
       "    <tr>\n",
       "      <th>Row_2</th>\n",
       "      <td>1000.0</td>\n",
       "      <td>2000.0</td>\n",
       "      <td>3000.0</td>\n",
       "      <td>NaN</td>\n",
       "      <td>NaN</td>\n",
       "      <td>NaN</td>\n",
       "    </tr>\n",
       "  </tbody>\n",
       "</table>\n",
       "</div>"
      ],
      "text/plain": [
       "           c1      c2      c3    c4     c5     c6\n",
       "Row_1   100.0   200.0    30.0  50.0  150.0  300.0\n",
       "Row_2  1000.0  2000.0  3000.0   NaN    NaN    NaN"
      ]
     },
     "execution_count": 263,
     "metadata": {},
     "output_type": "execute_result"
    }
   ],
   "source": [
    "pnd.DataFrame(dictList1, index=['Row_1', 'Row_2'])"
   ]
  },
  {
   "cell_type": "markdown",
   "metadata": {},
   "source": [
    "<font color='#094B91'> In this example we pass list and colimn list for column lable. </font>"
   ]
  },
  {
   "cell_type": "code",
   "execution_count": 264,
   "metadata": {},
   "outputs": [
    {
     "data": {
      "text/html": [
       "<div>\n",
       "<style scoped>\n",
       "    .dataframe tbody tr th:only-of-type {\n",
       "        vertical-align: middle;\n",
       "    }\n",
       "\n",
       "    .dataframe tbody tr th {\n",
       "        vertical-align: top;\n",
       "    }\n",
       "\n",
       "    .dataframe thead th {\n",
       "        text-align: right;\n",
       "    }\n",
       "</style>\n",
       "<table border=\"1\" class=\"dataframe\">\n",
       "  <thead>\n",
       "    <tr style=\"text-align: right;\">\n",
       "      <th></th>\n",
       "      <th>c1</th>\n",
       "      <th>c2</th>\n",
       "      <th>c6</th>\n",
       "    </tr>\n",
       "  </thead>\n",
       "  <tbody>\n",
       "    <tr>\n",
       "      <th>0</th>\n",
       "      <td>100.0</td>\n",
       "      <td>200.0</td>\n",
       "      <td>300.0</td>\n",
       "    </tr>\n",
       "    <tr>\n",
       "      <th>1</th>\n",
       "      <td>1000.0</td>\n",
       "      <td>2000.0</td>\n",
       "      <td>NaN</td>\n",
       "    </tr>\n",
       "  </tbody>\n",
       "</table>\n",
       "</div>"
      ],
      "text/plain": [
       "       c1      c2     c6\n",
       "0   100.0   200.0  300.0\n",
       "1  1000.0  2000.0    NaN"
      ]
     },
     "execution_count": 264,
     "metadata": {},
     "output_type": "execute_result"
    }
   ],
   "source": [
    "pnd.DataFrame(dictList1, columns=['c1', 'c2', 'c6'])"
   ]
  },
  {
   "cell_type": "markdown",
   "metadata": {},
   "source": [
    "### <font color='orange'>Example 3:</font>\n",
    "\n",
    "<font color='#094B91'> In this example we create a list of dectionaries and than pass this list to dataframe method as argument that method will convert that list into DataFrame.  </font>"
   ]
  },
  {
   "cell_type": "code",
   "execution_count": 265,
   "metadata": {},
   "outputs": [
    {
     "data": {
      "text/html": [
       "<div>\n",
       "<style scoped>\n",
       "    .dataframe tbody tr th:only-of-type {\n",
       "        vertical-align: middle;\n",
       "    }\n",
       "\n",
       "    .dataframe tbody tr th {\n",
       "        vertical-align: top;\n",
       "    }\n",
       "\n",
       "    .dataframe thead th {\n",
       "        text-align: right;\n",
       "    }\n",
       "</style>\n",
       "<table border=\"1\" class=\"dataframe\">\n",
       "  <thead>\n",
       "    <tr style=\"text-align: right;\">\n",
       "      <th></th>\n",
       "      <th>id</th>\n",
       "      <th>name</th>\n",
       "      <th>city</th>\n",
       "      <th>class</th>\n",
       "    </tr>\n",
       "  </thead>\n",
       "  <tbody>\n",
       "    <tr>\n",
       "      <th>0</th>\n",
       "      <td>F2019027004</td>\n",
       "      <td>Abdullah</td>\n",
       "      <td>Lahore</td>\n",
       "      <td>10</td>\n",
       "    </tr>\n",
       "    <tr>\n",
       "      <th>1</th>\n",
       "      <td>F2019027044</td>\n",
       "      <td>Muzamil</td>\n",
       "      <td>NaN</td>\n",
       "      <td>12</td>\n",
       "    </tr>\n",
       "    <tr>\n",
       "      <th>2</th>\n",
       "      <td>F2019027001</td>\n",
       "      <td>Abdurrehman</td>\n",
       "      <td>Lahore</td>\n",
       "      <td>14</td>\n",
       "    </tr>\n",
       "  </tbody>\n",
       "</table>\n",
       "</div>"
      ],
      "text/plain": [
       "            id         name    city  class\n",
       "0  F2019027004     Abdullah  Lahore     10\n",
       "1  F2019027044      Muzamil     NaN     12\n",
       "2  F2019027001  Abdurrehman  Lahore     14"
      ]
     },
     "execution_count": 265,
     "metadata": {},
     "output_type": "execute_result"
    }
   ],
   "source": [
    "dictList2 = [{\"id\" : \"F2019027004\" , \"name\" : \"Abdullah\" , \"city\" : \"Lahore\" , \"class\": 10}, \n",
    "             {\"id\" : \"F2019027044\" , \"name\" : \"Muzamil\" , \"class\": 12},\n",
    "             {\"id\" : \"F2019027001\" , \"name\" : \"Abdurrehman\" , \"city\" : \"Lahore\" , \"class\": 14}]\n",
    "\n",
    "pnd.DataFrame(dictList2)"
   ]
  },
  {
   "cell_type": "markdown",
   "metadata": {},
   "source": [
    "<font color='#094B91'> Now we pass the list and index for index lable. </font>"
   ]
  },
  {
   "cell_type": "code",
   "execution_count": 266,
   "metadata": {},
   "outputs": [
    {
     "data": {
      "text/html": [
       "<div>\n",
       "<style scoped>\n",
       "    .dataframe tbody tr th:only-of-type {\n",
       "        vertical-align: middle;\n",
       "    }\n",
       "\n",
       "    .dataframe tbody tr th {\n",
       "        vertical-align: top;\n",
       "    }\n",
       "\n",
       "    .dataframe thead th {\n",
       "        text-align: right;\n",
       "    }\n",
       "</style>\n",
       "<table border=\"1\" class=\"dataframe\">\n",
       "  <thead>\n",
       "    <tr style=\"text-align: right;\">\n",
       "      <th></th>\n",
       "      <th>id</th>\n",
       "      <th>name</th>\n",
       "      <th>city</th>\n",
       "      <th>class</th>\n",
       "    </tr>\n",
       "  </thead>\n",
       "  <tbody>\n",
       "    <tr>\n",
       "      <th>Student 1</th>\n",
       "      <td>F2019027004</td>\n",
       "      <td>Abdullah</td>\n",
       "      <td>Lahore</td>\n",
       "      <td>10</td>\n",
       "    </tr>\n",
       "    <tr>\n",
       "      <th>Student 2</th>\n",
       "      <td>F2019027044</td>\n",
       "      <td>Muzamil</td>\n",
       "      <td>NaN</td>\n",
       "      <td>12</td>\n",
       "    </tr>\n",
       "    <tr>\n",
       "      <th>Student 3</th>\n",
       "      <td>F2019027001</td>\n",
       "      <td>Abdurrehman</td>\n",
       "      <td>Lahore</td>\n",
       "      <td>14</td>\n",
       "    </tr>\n",
       "  </tbody>\n",
       "</table>\n",
       "</div>"
      ],
      "text/plain": [
       "                    id         name    city  class\n",
       "Student 1  F2019027004     Abdullah  Lahore     10\n",
       "Student 2  F2019027044      Muzamil     NaN     12\n",
       "Student 3  F2019027001  Abdurrehman  Lahore     14"
      ]
     },
     "execution_count": 266,
     "metadata": {},
     "output_type": "execute_result"
    }
   ],
   "source": [
    "pnd.DataFrame(dictList2, index=['Student 1', 'Student 2','Student 3'])"
   ]
  },
  {
   "cell_type": "markdown",
   "metadata": {},
   "source": [
    "<font color='#094B91'> In this example we pass list and colimn list for column lable. </font>"
   ]
  },
  {
   "cell_type": "code",
   "execution_count": 267,
   "metadata": {},
   "outputs": [
    {
     "data": {
      "text/html": [
       "<div>\n",
       "<style scoped>\n",
       "    .dataframe tbody tr th:only-of-type {\n",
       "        vertical-align: middle;\n",
       "    }\n",
       "\n",
       "    .dataframe tbody tr th {\n",
       "        vertical-align: top;\n",
       "    }\n",
       "\n",
       "    .dataframe thead th {\n",
       "        text-align: right;\n",
       "    }\n",
       "</style>\n",
       "<table border=\"1\" class=\"dataframe\">\n",
       "  <thead>\n",
       "    <tr style=\"text-align: right;\">\n",
       "      <th></th>\n",
       "      <th>id</th>\n",
       "      <th>name</th>\n",
       "      <th>c6</th>\n",
       "    </tr>\n",
       "  </thead>\n",
       "  <tbody>\n",
       "    <tr>\n",
       "      <th>0</th>\n",
       "      <td>F2019027004</td>\n",
       "      <td>Abdullah</td>\n",
       "      <td>NaN</td>\n",
       "    </tr>\n",
       "    <tr>\n",
       "      <th>1</th>\n",
       "      <td>F2019027044</td>\n",
       "      <td>Muzamil</td>\n",
       "      <td>NaN</td>\n",
       "    </tr>\n",
       "    <tr>\n",
       "      <th>2</th>\n",
       "      <td>F2019027001</td>\n",
       "      <td>Abdurrehman</td>\n",
       "      <td>NaN</td>\n",
       "    </tr>\n",
       "  </tbody>\n",
       "</table>\n",
       "</div>"
      ],
      "text/plain": [
       "            id         name  c6\n",
       "0  F2019027004     Abdullah NaN\n",
       "1  F2019027044      Muzamil NaN\n",
       "2  F2019027001  Abdurrehman NaN"
      ]
     },
     "execution_count": 267,
     "metadata": {},
     "output_type": "execute_result"
    }
   ],
   "source": [
    "pnd.DataFrame(dictList2, columns=['id', 'name', 'c6'])"
   ]
  },
  {
   "cell_type": "markdown",
   "metadata": {},
   "source": [
    "# <font color='blue'>11.4 From a dict of tuples</font>\n",
    "- You can automatically create a multi-indexed frame by passing a tuples dictionary\n",
    "\n",
    "### <font color='orange'>Example 1:</font>\n",
    "\n",
    "<font color='#094B91'> In this example we create dectionaries of tuple and than pass this dectionary to dataframe method as argument that method will convert that dectionary into DataFrame and taht dataframe will be show in example.</font>"
   ]
  },
  {
   "cell_type": "code",
   "execution_count": 268,
   "metadata": {},
   "outputs": [
    {
     "data": {
      "text/html": [
       "<div>\n",
       "<style scoped>\n",
       "    .dataframe tbody tr th:only-of-type {\n",
       "        vertical-align: middle;\n",
       "    }\n",
       "\n",
       "    .dataframe tbody tr th {\n",
       "        vertical-align: top;\n",
       "    }\n",
       "\n",
       "    .dataframe thead tr th {\n",
       "        text-align: left;\n",
       "    }\n",
       "</style>\n",
       "<table border=\"1\" class=\"dataframe\">\n",
       "  <thead>\n",
       "    <tr>\n",
       "      <th></th>\n",
       "      <th></th>\n",
       "      <th colspan=\"3\" halign=\"left\">a</th>\n",
       "      <th colspan=\"2\" halign=\"left\">b</th>\n",
       "    </tr>\n",
       "    <tr>\n",
       "      <th></th>\n",
       "      <th></th>\n",
       "      <th>b</th>\n",
       "      <th>a</th>\n",
       "      <th>c</th>\n",
       "      <th>a</th>\n",
       "      <th>b</th>\n",
       "    </tr>\n",
       "  </thead>\n",
       "  <tbody>\n",
       "    <tr>\n",
       "      <th rowspan=\"3\" valign=\"top\">A</th>\n",
       "      <th>B</th>\n",
       "      <td>1.0</td>\n",
       "      <td>4.0</td>\n",
       "      <td>5.0</td>\n",
       "      <td>8.0</td>\n",
       "      <td>10.0</td>\n",
       "    </tr>\n",
       "    <tr>\n",
       "      <th>C</th>\n",
       "      <td>2.0</td>\n",
       "      <td>3.0</td>\n",
       "      <td>6.0</td>\n",
       "      <td>7.0</td>\n",
       "      <td>NaN</td>\n",
       "    </tr>\n",
       "    <tr>\n",
       "      <th>D</th>\n",
       "      <td>NaN</td>\n",
       "      <td>NaN</td>\n",
       "      <td>NaN</td>\n",
       "      <td>NaN</td>\n",
       "      <td>9.0</td>\n",
       "    </tr>\n",
       "  </tbody>\n",
       "</table>\n",
       "</div>"
      ],
      "text/plain": [
       "       a              b      \n",
       "       b    a    c    a     b\n",
       "A B  1.0  4.0  5.0  8.0  10.0\n",
       "  C  2.0  3.0  6.0  7.0   NaN\n",
       "  D  NaN  NaN  NaN  NaN   9.0"
      ]
     },
     "execution_count": 268,
     "metadata": {},
     "output_type": "execute_result"
    }
   ],
   "source": [
    " pd.DataFrame({  ('a', 'b'): {('A', 'B'): 1, ('A', 'C'): 2},\n",
    "                 ('a', 'a'): {('A', 'C'): 3, ('A', 'B'): 4},\n",
    "                 ('a', 'c'): {('A', 'B'): 5, ('A', 'C'): 6},\n",
    "                 ('b', 'a'): {('A', 'C'): 7, ('A', 'B'): 8},\n",
    "                 ('b', 'b'): {('A', 'D'): 9, ('A', 'B'): 10}\n",
    "              })\n",
    "#\"NaN shows missing data"
   ]
  },
  {
   "cell_type": "markdown",
   "metadata": {},
   "source": [
    "### <font color='orange'>Example 2:</font>"
   ]
  },
  {
   "cell_type": "markdown",
   "metadata": {},
   "source": [
    "<font color='#094B91'> In this example we create dectionaries of tuple and than pass this dectionary to dataframe method as argument that method will convert that dectionary into DataFrame and taht dataframe will be show in example.</font>\n"
   ]
  },
  {
   "cell_type": "code",
   "execution_count": 269,
   "metadata": {},
   "outputs": [
    {
     "data": {
      "text/html": [
       "<div>\n",
       "<style scoped>\n",
       "    .dataframe tbody tr th:only-of-type {\n",
       "        vertical-align: middle;\n",
       "    }\n",
       "\n",
       "    .dataframe tbody tr th {\n",
       "        vertical-align: top;\n",
       "    }\n",
       "\n",
       "    .dataframe thead tr th {\n",
       "        text-align: left;\n",
       "    }\n",
       "</style>\n",
       "<table border=\"1\" class=\"dataframe\">\n",
       "  <thead>\n",
       "    <tr>\n",
       "      <th></th>\n",
       "      <th></th>\n",
       "      <th colspan=\"2\" halign=\"left\">d1.1</th>\n",
       "      <th>d1.2</th>\n",
       "      <th>d1.3</th>\n",
       "      <th>d1.2</th>\n",
       "    </tr>\n",
       "    <tr>\n",
       "      <th></th>\n",
       "      <th></th>\n",
       "      <th>d2.1</th>\n",
       "      <th>d2.2</th>\n",
       "      <th>d2.3</th>\n",
       "      <th>d2.1</th>\n",
       "      <th>d2.2</th>\n",
       "    </tr>\n",
       "  </thead>\n",
       "  <tbody>\n",
       "    <tr>\n",
       "      <th rowspan=\"3\" valign=\"top\">c1.1</th>\n",
       "      <th>c2.1</th>\n",
       "      <td>100.0</td>\n",
       "      <td>NaN</td>\n",
       "      <td>NaN</td>\n",
       "      <td>NaN</td>\n",
       "      <td>100.0</td>\n",
       "    </tr>\n",
       "    <tr>\n",
       "      <th>c2.2</th>\n",
       "      <td>200.0</td>\n",
       "      <td>2000.0</td>\n",
       "      <td>NaN</td>\n",
       "      <td>NaN</td>\n",
       "      <td>NaN</td>\n",
       "    </tr>\n",
       "    <tr>\n",
       "      <th>c2.3</th>\n",
       "      <td>30.0</td>\n",
       "      <td>NaN</td>\n",
       "      <td>NaN</td>\n",
       "      <td>NaN</td>\n",
       "      <td>NaN</td>\n",
       "    </tr>\n",
       "    <tr>\n",
       "      <th>c2.1</th>\n",
       "      <th>c2.1</th>\n",
       "      <td>NaN</td>\n",
       "      <td>1000.0</td>\n",
       "      <td>100.0</td>\n",
       "      <td>NaN</td>\n",
       "      <td>NaN</td>\n",
       "    </tr>\n",
       "    <tr>\n",
       "      <th>c1.2</th>\n",
       "      <th>c2.3</th>\n",
       "      <td>NaN</td>\n",
       "      <td>3000.0</td>\n",
       "      <td>NaN</td>\n",
       "      <td>NaN</td>\n",
       "      <td>NaN</td>\n",
       "    </tr>\n",
       "    <tr>\n",
       "      <th>c3.1</th>\n",
       "      <th>c2.2</th>\n",
       "      <td>NaN</td>\n",
       "      <td>NaN</td>\n",
       "      <td>200.0</td>\n",
       "      <td>2000.0</td>\n",
       "      <td>NaN</td>\n",
       "    </tr>\n",
       "    <tr>\n",
       "      <th rowspan=\"2\" valign=\"top\">c1.3</th>\n",
       "      <th>c2.3</th>\n",
       "      <td>NaN</td>\n",
       "      <td>NaN</td>\n",
       "      <td>50.0</td>\n",
       "      <td>NaN</td>\n",
       "      <td>NaN</td>\n",
       "    </tr>\n",
       "    <tr>\n",
       "      <th>c2.4</th>\n",
       "      <td>NaN</td>\n",
       "      <td>NaN</td>\n",
       "      <td>150.0</td>\n",
       "      <td>NaN</td>\n",
       "      <td>50.0</td>\n",
       "    </tr>\n",
       "    <tr>\n",
       "      <th>c3.1</th>\n",
       "      <th>c2.1</th>\n",
       "      <td>NaN</td>\n",
       "      <td>NaN</td>\n",
       "      <td>NaN</td>\n",
       "      <td>1000.0</td>\n",
       "      <td>NaN</td>\n",
       "    </tr>\n",
       "    <tr>\n",
       "      <th>c1.4</th>\n",
       "      <th>c2.3</th>\n",
       "      <td>NaN</td>\n",
       "      <td>NaN</td>\n",
       "      <td>NaN</td>\n",
       "      <td>3000.0</td>\n",
       "      <td>30.0</td>\n",
       "    </tr>\n",
       "    <tr>\n",
       "      <th>c2.1</th>\n",
       "      <th>c2.2</th>\n",
       "      <td>NaN</td>\n",
       "      <td>NaN</td>\n",
       "      <td>NaN</td>\n",
       "      <td>NaN</td>\n",
       "      <td>200.0</td>\n",
       "    </tr>\n",
       "  </tbody>\n",
       "</table>\n",
       "</div>"
      ],
      "text/plain": [
       "            d1.1           d1.2    d1.3   d1.2\n",
       "            d2.1    d2.2   d2.3    d2.1   d2.2\n",
       "c1.1 c2.1  100.0     NaN    NaN     NaN  100.0\n",
       "     c2.2  200.0  2000.0    NaN     NaN    NaN\n",
       "     c2.3   30.0     NaN    NaN     NaN    NaN\n",
       "c2.1 c2.1    NaN  1000.0  100.0     NaN    NaN\n",
       "c1.2 c2.3    NaN  3000.0    NaN     NaN    NaN\n",
       "c3.1 c2.2    NaN     NaN  200.0  2000.0    NaN\n",
       "c1.3 c2.3    NaN     NaN   50.0     NaN    NaN\n",
       "     c2.4    NaN     NaN  150.0     NaN   50.0\n",
       "c3.1 c2.1    NaN     NaN    NaN  1000.0    NaN\n",
       "c1.4 c2.3    NaN     NaN    NaN  3000.0   30.0\n",
       "c2.1 c2.2    NaN     NaN    NaN     NaN  200.0"
      ]
     },
     "execution_count": 269,
     "metadata": {},
     "output_type": "execute_result"
    }
   ],
   "source": [
    " pnd.DataFrame({ ('d1.1','d2.1'): {('c1.1','c2.1'):100,   ('c1.1','c2.2'):200,   ('c1.1','c2.3'):30}, \n",
    "                 ('d1.1','d2.2'): {('c2.1','c2.1'):1000., ('c1.1','c2.2'):2000., ('c1.2','c2.3'):3000.},\n",
    "                 ('d1.2','d2.3'): {('c2.1','c2.1'):100,   ('c3.1','c2.2'):200,   ('c1.3','c2.3'):50, ('c1.3','c2.4'):150},\n",
    "                 ('d1.3','d2.1'): {('c3.1','c2.1'):1000., ('c3.1','c2.2'):2000., ('c1.4','c2.3'):3000.},\n",
    "                 ('d1.2','d2.2'): {('c1.1','c2.1'):100,   ('c2.1','c2.2'):200,   ('c1.4','c2.3'):30, ('c1.3','c2.4'):50}\n",
    "               })"
   ]
  },
  {
   "cell_type": "markdown",
   "metadata": {},
   "source": [
    "### <font color='orange'>Example 3:</font>"
   ]
  },
  {
   "cell_type": "markdown",
   "metadata": {},
   "source": [
    "<font color='#094B91'> In this example we create dectionaries of tuple and than pass this dectionary to dataframe method as argument that method will convert that dectionary into DataFrame and taht dataframe will be show in example.</font>"
   ]
  },
  {
   "cell_type": "code",
   "execution_count": 270,
   "metadata": {},
   "outputs": [
    {
     "data": {
      "text/html": [
       "<div>\n",
       "<style scoped>\n",
       "    .dataframe tbody tr th:only-of-type {\n",
       "        vertical-align: middle;\n",
       "    }\n",
       "\n",
       "    .dataframe tbody tr th {\n",
       "        vertical-align: top;\n",
       "    }\n",
       "\n",
       "    .dataframe thead tr th {\n",
       "        text-align: left;\n",
       "    }\n",
       "</style>\n",
       "<table border=\"1\" class=\"dataframe\">\n",
       "  <thead>\n",
       "    <tr>\n",
       "      <th></th>\n",
       "      <th></th>\n",
       "      <th>ss</th>\n",
       "      <th>js</th>\n",
       "      <th>ss</th>\n",
       "    </tr>\n",
       "    <tr>\n",
       "      <th></th>\n",
       "      <th></th>\n",
       "      <th>cr</th>\n",
       "      <th>cr</th>\n",
       "      <th>vcr</th>\n",
       "    </tr>\n",
       "  </thead>\n",
       "  <tbody>\n",
       "    <tr>\n",
       "      <th>id</th>\n",
       "      <th>rol</th>\n",
       "      <td>F2019027004</td>\n",
       "      <td>NaN</td>\n",
       "      <td>NaN</td>\n",
       "    </tr>\n",
       "    <tr>\n",
       "      <th>fname</th>\n",
       "      <th>mname</th>\n",
       "      <td>Abdullah</td>\n",
       "      <td>NaN</td>\n",
       "      <td>Abdurrehman</td>\n",
       "    </tr>\n",
       "    <tr>\n",
       "      <th>class</th>\n",
       "      <th>stnd1</th>\n",
       "      <td>10</td>\n",
       "      <td>NaN</td>\n",
       "      <td>14</td>\n",
       "    </tr>\n",
       "    <tr>\n",
       "      <th>did</th>\n",
       "      <th>rol</th>\n",
       "      <td>NaN</td>\n",
       "      <td>F2019027044</td>\n",
       "      <td>NaN</td>\n",
       "    </tr>\n",
       "    <tr>\n",
       "      <th>name</th>\n",
       "      <th>mame</th>\n",
       "      <td>NaN</td>\n",
       "      <td>Muzamil</td>\n",
       "      <td>NaN</td>\n",
       "    </tr>\n",
       "    <tr>\n",
       "      <th>class</th>\n",
       "      <th>stnd2</th>\n",
       "      <td>NaN</td>\n",
       "      <td>12</td>\n",
       "      <td>NaN</td>\n",
       "    </tr>\n",
       "    <tr>\n",
       "      <th>id</th>\n",
       "      <th>sn</th>\n",
       "      <td>NaN</td>\n",
       "      <td>NaN</td>\n",
       "      <td>F2019027001</td>\n",
       "    </tr>\n",
       "  </tbody>\n",
       "</table>\n",
       "</div>"
      ],
      "text/plain": [
       "                      ss           js           ss\n",
       "                      cr           cr          vcr\n",
       "id    rol    F2019027004          NaN          NaN\n",
       "fname mname     Abdullah          NaN  Abdurrehman\n",
       "class stnd1           10          NaN           14\n",
       "did   rol            NaN  F2019027044          NaN\n",
       "name  mame           NaN      Muzamil          NaN\n",
       "class stnd2          NaN           12          NaN\n",
       "id    sn             NaN          NaN  F2019027001"
      ]
     },
     "execution_count": 270,
     "metadata": {},
     "output_type": "execute_result"
    }
   ],
   "source": [
    " pnd.DataFrame({ ('ss','cr') :{(\"id\",\"rol\"): \"F2019027004\" , (\"fname\",\"mname\") : \"Abdullah\" , (\"class\", \"stnd1\"): 10}, \n",
    "                 ('js','cr'):{(\"did\",\"rol\") : \"F2019027044\" , (\"name\",\"mame\") : \"Muzamil\" , (\"class\", \"stnd2\"): 12},\n",
    "                 ('ss','vcr') :{(\"id\",\"sn\") : \"F2019027001\" , (\"fname\",\"mname\") : \"Abdurrehman\" , (\"class\", \"stnd1\"): 14}\n",
    "               })"
   ]
  },
  {
   "cell_type": "markdown",
   "metadata": {},
   "source": [
    "# <font color='blue'>11.5 Alternate Constructors</font>\n",
    "\n",
    "### <font color='green'>1.DataFrame.from_records</font>\n",
    "- **DataFrame.from_records** takes a list of tuples or an ndarray with structured dtype.\n",
    "- Works analogously to the normal DataFrame constructor, except that index maybe be a specific field of the structured dtype to use as the\n",
    "index. \n",
    "\n",
    "### <font color='orange'>Example 1:</font>\n",
    "\n",
    "<font color='#094B91'> In this example we use from_records constructor to create a DataFrame that take parameter for the columns data type  so we pass an ndarray and datatype for the columns.<font>"
   ]
  },
  {
   "cell_type": "code",
   "execution_count": 271,
   "metadata": {},
   "outputs": [
    {
     "data": {
      "text/plain": [
       "array([(0, 0., b''), (0, 0., b'')],\n",
       "      dtype=[('A', '<i4'), ('B', '<f4'), ('C', 'S10')])"
      ]
     },
     "execution_count": 271,
     "metadata": {},
     "output_type": "execute_result"
    }
   ],
   "source": [
    "data = np.zeros((2,), dtype=[('A', 'i4'),('B', 'f4'),('C', 'a10')])\n",
    "data"
   ]
  },
  {
   "cell_type": "markdown",
   "metadata": {},
   "source": [
    "<font color='#094B91'> Now we make the column C as DataFrame index.<font>"
   ]
  },
  {
   "cell_type": "code",
   "execution_count": 272,
   "metadata": {},
   "outputs": [
    {
     "data": {
      "text/html": [
       "<div>\n",
       "<style scoped>\n",
       "    .dataframe tbody tr th:only-of-type {\n",
       "        vertical-align: middle;\n",
       "    }\n",
       "\n",
       "    .dataframe tbody tr th {\n",
       "        vertical-align: top;\n",
       "    }\n",
       "\n",
       "    .dataframe thead th {\n",
       "        text-align: right;\n",
       "    }\n",
       "</style>\n",
       "<table border=\"1\" class=\"dataframe\">\n",
       "  <thead>\n",
       "    <tr style=\"text-align: right;\">\n",
       "      <th></th>\n",
       "      <th>A</th>\n",
       "      <th>B</th>\n",
       "    </tr>\n",
       "    <tr>\n",
       "      <th>C</th>\n",
       "      <th></th>\n",
       "      <th></th>\n",
       "    </tr>\n",
       "  </thead>\n",
       "  <tbody>\n",
       "    <tr>\n",
       "      <th>b''</th>\n",
       "      <td>0</td>\n",
       "      <td>0.0</td>\n",
       "    </tr>\n",
       "    <tr>\n",
       "      <th>b''</th>\n",
       "      <td>0</td>\n",
       "      <td>0.0</td>\n",
       "    </tr>\n",
       "  </tbody>\n",
       "</table>\n",
       "</div>"
      ],
      "text/plain": [
       "     A    B\n",
       "C          \n",
       "b''  0  0.0\n",
       "b''  0  0.0"
      ]
     },
     "execution_count": 272,
     "metadata": {},
     "output_type": "execute_result"
    }
   ],
   "source": [
    " pd.DataFrame.from_records(data, index='C')"
   ]
  },
  {
   "cell_type": "markdown",
   "metadata": {},
   "source": [
    "### <font color='orange'>Example 2:</font>\n",
    "\n",
    "<font color='#094B91'> In this example we use from_records constructor to create a DataFrame that take parameter for the columns data type  so we pass an ndarray and datatype for the columns.<font>"
   ]
  },
  {
   "cell_type": "code",
   "execution_count": 273,
   "metadata": {},
   "outputs": [
    {
     "data": {
      "text/plain": [
       "array([(0, 0., b'', 0), (0, 0., b'', 0), (0, 0., b'', 0), (0, 0., b'', 0)],\n",
       "      dtype=[('AB', '<i4'), ('CD', '<f2'), ('EF', 'S50'), ('GH', '<i2')])"
      ]
     },
     "execution_count": 273,
     "metadata": {},
     "output_type": "execute_result"
    }
   ],
   "source": [
    "array2 = npy.zeros((4,), dtype=[('AB', 'i4'),('CD', 'f2'),('EF', 'a50'),('GH','i2')])\n",
    "array2 "
   ]
  },
  {
   "cell_type": "markdown",
   "metadata": {},
   "source": [
    "<font color='#094B91'> Now we make the column AB as DataFrame index.<font>"
   ]
  },
  {
   "cell_type": "code",
   "execution_count": 274,
   "metadata": {},
   "outputs": [
    {
     "data": {
      "text/html": [
       "<div>\n",
       "<style scoped>\n",
       "    .dataframe tbody tr th:only-of-type {\n",
       "        vertical-align: middle;\n",
       "    }\n",
       "\n",
       "    .dataframe tbody tr th {\n",
       "        vertical-align: top;\n",
       "    }\n",
       "\n",
       "    .dataframe thead th {\n",
       "        text-align: right;\n",
       "    }\n",
       "</style>\n",
       "<table border=\"1\" class=\"dataframe\">\n",
       "  <thead>\n",
       "    <tr style=\"text-align: right;\">\n",
       "      <th></th>\n",
       "      <th>CD</th>\n",
       "      <th>EF</th>\n",
       "      <th>GH</th>\n",
       "    </tr>\n",
       "    <tr>\n",
       "      <th>AB</th>\n",
       "      <th></th>\n",
       "      <th></th>\n",
       "      <th></th>\n",
       "    </tr>\n",
       "  </thead>\n",
       "  <tbody>\n",
       "    <tr>\n",
       "      <th>0</th>\n",
       "      <td>0.0</td>\n",
       "      <td>b''</td>\n",
       "      <td>0</td>\n",
       "    </tr>\n",
       "    <tr>\n",
       "      <th>0</th>\n",
       "      <td>0.0</td>\n",
       "      <td>b''</td>\n",
       "      <td>0</td>\n",
       "    </tr>\n",
       "    <tr>\n",
       "      <th>0</th>\n",
       "      <td>0.0</td>\n",
       "      <td>b''</td>\n",
       "      <td>0</td>\n",
       "    </tr>\n",
       "    <tr>\n",
       "      <th>0</th>\n",
       "      <td>0.0</td>\n",
       "      <td>b''</td>\n",
       "      <td>0</td>\n",
       "    </tr>\n",
       "  </tbody>\n",
       "</table>\n",
       "</div>"
      ],
      "text/plain": [
       "     CD   EF  GH\n",
       "AB              \n",
       "0   0.0  b''   0\n",
       "0   0.0  b''   0\n",
       "0   0.0  b''   0\n",
       "0   0.0  b''   0"
      ]
     },
     "execution_count": 274,
     "metadata": {},
     "output_type": "execute_result"
    }
   ],
   "source": [
    " pnd.DataFrame.from_records(array2 ,index='AB')"
   ]
  },
  {
   "cell_type": "markdown",
   "metadata": {},
   "source": [
    "### <font color='orange'>Example 3:</font>\n",
    "\n",
    "<font color='#094B91'> In this example we use from_records constructor to create a DataFrame that take parameter for the columns data type  so we pass an ndarray and datatype for the columns.<font>"
   ]
  },
  {
   "cell_type": "code",
   "execution_count": 275,
   "metadata": {},
   "outputs": [
    {
     "data": {
      "text/plain": [
       "array([(b'F2019027004', b'Abdullah', b'Lahore', 10),\n",
       "       (b'F2019027044', b'Muzamil', b'FSD', 12)],\n",
       "      dtype=[('id', 'S50'), ('name', 'S50'), ('city', 'S50'), ('class', '<i4')])"
      ]
     },
     "execution_count": 275,
     "metadata": {},
     "output_type": "execute_result"
    }
   ],
   "source": [
    "array2 =npy.array( [ (\"F2019027004\" ,  \"Abdullah\" , \"Lahore\" , 10), (\"F2019027044\" , \"Muzamil\" , \"FSD\" , 12) ],\n",
    "          [('id', 'S50'), ('name', 'S50'), ('city', 'S50'), ('class', '<i4')]\n",
    "        )\n",
    "array2 "
   ]
  },
  {
   "cell_type": "markdown",
   "metadata": {},
   "source": [
    "<font color='#094B91'> Now we make the column id as DataFrame index.<font>"
   ]
  },
  {
   "cell_type": "code",
   "execution_count": 276,
   "metadata": {},
   "outputs": [
    {
     "data": {
      "text/html": [
       "<div>\n",
       "<style scoped>\n",
       "    .dataframe tbody tr th:only-of-type {\n",
       "        vertical-align: middle;\n",
       "    }\n",
       "\n",
       "    .dataframe tbody tr th {\n",
       "        vertical-align: top;\n",
       "    }\n",
       "\n",
       "    .dataframe thead th {\n",
       "        text-align: right;\n",
       "    }\n",
       "</style>\n",
       "<table border=\"1\" class=\"dataframe\">\n",
       "  <thead>\n",
       "    <tr style=\"text-align: right;\">\n",
       "      <th></th>\n",
       "      <th>name</th>\n",
       "      <th>city</th>\n",
       "      <th>class</th>\n",
       "    </tr>\n",
       "    <tr>\n",
       "      <th>id</th>\n",
       "      <th></th>\n",
       "      <th></th>\n",
       "      <th></th>\n",
       "    </tr>\n",
       "  </thead>\n",
       "  <tbody>\n",
       "    <tr>\n",
       "      <th>b'F2019027004'</th>\n",
       "      <td>b'Abdullah'</td>\n",
       "      <td>b'Lahore'</td>\n",
       "      <td>10</td>\n",
       "    </tr>\n",
       "    <tr>\n",
       "      <th>b'F2019027044'</th>\n",
       "      <td>b'Muzamil'</td>\n",
       "      <td>b'FSD'</td>\n",
       "      <td>12</td>\n",
       "    </tr>\n",
       "  </tbody>\n",
       "</table>\n",
       "</div>"
      ],
      "text/plain": [
       "                       name       city  class\n",
       "id                                           \n",
       "b'F2019027004'  b'Abdullah'  b'Lahore'     10\n",
       "b'F2019027044'   b'Muzamil'     b'FSD'     12"
      ]
     },
     "execution_count": 276,
     "metadata": {},
     "output_type": "execute_result"
    }
   ],
   "source": [
    " pnd.DataFrame.from_records(array2, index='id' )"
   ]
  },
  {
   "cell_type": "markdown",
   "metadata": {},
   "source": [
    "\n",
    "### <font color='green'>2. DataFrame.from_dict</font>\n",
    "\n",
    "- ***DataFrame.from_dict** takes a dict of dicts or a dict of array-like sequences and returns a **DataFrame**.\n",
    "- It operates like the DataFrame constructor except for the orient parameter which is 'columns' by default, but which can be set to 'index' in order\n",
    "to use the dict keys as row labels.\n",
    "\n",
    "### <font color='orange'>Example 1:</font>\n",
    "\n",
    "<font color='#094B91'> In this example we use from_dict constructor to create a DataFrame that take parameter for the columns data type  so we pass an dictionary of list and datatype for the columns.<font>"
   ]
  },
  {
   "cell_type": "code",
   "execution_count": 277,
   "metadata": {},
   "outputs": [
    {
     "data": {
      "text/html": [
       "<div>\n",
       "<style scoped>\n",
       "    .dataframe tbody tr th:only-of-type {\n",
       "        vertical-align: middle;\n",
       "    }\n",
       "\n",
       "    .dataframe tbody tr th {\n",
       "        vertical-align: top;\n",
       "    }\n",
       "\n",
       "    .dataframe thead th {\n",
       "        text-align: right;\n",
       "    }\n",
       "</style>\n",
       "<table border=\"1\" class=\"dataframe\">\n",
       "  <thead>\n",
       "    <tr style=\"text-align: right;\">\n",
       "      <th></th>\n",
       "      <th>A</th>\n",
       "      <th>B</th>\n",
       "    </tr>\n",
       "  </thead>\n",
       "  <tbody>\n",
       "    <tr>\n",
       "      <th>0</th>\n",
       "      <td>1</td>\n",
       "      <td>4</td>\n",
       "    </tr>\n",
       "    <tr>\n",
       "      <th>1</th>\n",
       "      <td>2</td>\n",
       "      <td>5</td>\n",
       "    </tr>\n",
       "    <tr>\n",
       "      <th>2</th>\n",
       "      <td>3</td>\n",
       "      <td>6</td>\n",
       "    </tr>\n",
       "  </tbody>\n",
       "</table>\n",
       "</div>"
      ],
      "text/plain": [
       "   A  B\n",
       "0  1  4\n",
       "1  2  5\n",
       "2  3  6"
      ]
     },
     "execution_count": 277,
     "metadata": {},
     "output_type": "execute_result"
    }
   ],
   "source": [
    " pd.DataFrame.from_dict({'A': [1, 2, 3], 'B': [4, 5, 6]})"
   ]
  },
  {
   "cell_type": "markdown",
   "metadata": {},
   "source": [
    "<font color='#094B91'>If you pass orient='index', the keys will be the row labels. But in this case you must also pass the desired column names: <br>\n",
    "Now we pass 3 parameters 1 is dictionary, 2 is index, and 3 is column list.<font>"
   ]
  },
  {
   "cell_type": "code",
   "execution_count": 278,
   "metadata": {},
   "outputs": [
    {
     "data": {
      "text/html": [
       "<div>\n",
       "<style scoped>\n",
       "    .dataframe tbody tr th:only-of-type {\n",
       "        vertical-align: middle;\n",
       "    }\n",
       "\n",
       "    .dataframe tbody tr th {\n",
       "        vertical-align: top;\n",
       "    }\n",
       "\n",
       "    .dataframe thead th {\n",
       "        text-align: right;\n",
       "    }\n",
       "</style>\n",
       "<table border=\"1\" class=\"dataframe\">\n",
       "  <thead>\n",
       "    <tr style=\"text-align: right;\">\n",
       "      <th></th>\n",
       "      <th>one</th>\n",
       "      <th>two</th>\n",
       "      <th>three</th>\n",
       "    </tr>\n",
       "  </thead>\n",
       "  <tbody>\n",
       "    <tr>\n",
       "      <th>A</th>\n",
       "      <td>1</td>\n",
       "      <td>2</td>\n",
       "      <td>3</td>\n",
       "    </tr>\n",
       "    <tr>\n",
       "      <th>B</th>\n",
       "      <td>4</td>\n",
       "      <td>5</td>\n",
       "      <td>6</td>\n",
       "    </tr>\n",
       "  </tbody>\n",
       "</table>\n",
       "</div>"
      ],
      "text/plain": [
       "   one  two  three\n",
       "A    1    2      3\n",
       "B    4    5      6"
      ]
     },
     "execution_count": 278,
     "metadata": {},
     "output_type": "execute_result"
    }
   ],
   "source": [
    " pd.DataFrame.from_dict({'A': [1, 2, 3], 'B': [4, 5, 6]},\n",
    " orient='index', columns=['one', 'two', 'three'])"
   ]
  },
  {
   "cell_type": "markdown",
   "metadata": {},
   "source": [
    "### <font color='orange'>Example 2:</font>\n",
    "\n",
    "<font color='#094B91'> In this example we use from_dict constructor to create a DataFrame that take parameter for the columns data type  so we pass an dictionary of list and datatype for the columns.<font>"
   ]
  },
  {
   "cell_type": "code",
   "execution_count": 279,
   "metadata": {},
   "outputs": [
    {
     "data": {
      "text/html": [
       "<div>\n",
       "<style scoped>\n",
       "    .dataframe tbody tr th:only-of-type {\n",
       "        vertical-align: middle;\n",
       "    }\n",
       "\n",
       "    .dataframe tbody tr th {\n",
       "        vertical-align: top;\n",
       "    }\n",
       "\n",
       "    .dataframe thead th {\n",
       "        text-align: right;\n",
       "    }\n",
       "</style>\n",
       "<table border=\"1\" class=\"dataframe\">\n",
       "  <thead>\n",
       "    <tr style=\"text-align: right;\">\n",
       "      <th></th>\n",
       "      <th>C1</th>\n",
       "      <th>C2</th>\n",
       "      <th>C3</th>\n",
       "    </tr>\n",
       "  </thead>\n",
       "  <tbody>\n",
       "    <tr>\n",
       "      <th>0</th>\n",
       "      <td>a</td>\n",
       "      <td>d</td>\n",
       "      <td>g</td>\n",
       "    </tr>\n",
       "    <tr>\n",
       "      <th>1</th>\n",
       "      <td>b</td>\n",
       "      <td>e</td>\n",
       "      <td>h</td>\n",
       "    </tr>\n",
       "    <tr>\n",
       "      <th>2</th>\n",
       "      <td>c</td>\n",
       "      <td>f</td>\n",
       "      <td>i</td>\n",
       "    </tr>\n",
       "  </tbody>\n",
       "</table>\n",
       "</div>"
      ],
      "text/plain": [
       "  C1 C2 C3\n",
       "0  a  d  g\n",
       "1  b  e  h\n",
       "2  c  f  i"
      ]
     },
     "execution_count": 279,
     "metadata": {},
     "output_type": "execute_result"
    }
   ],
   "source": [
    " pnd.DataFrame.from_dict({'C1': ['a', 'b', 'c'], 'C2': ['d', 'e', 'f'], 'C3': ['g', 'h', 'i']})"
   ]
  },
  {
   "cell_type": "markdown",
   "metadata": {},
   "source": [
    "<font color='#094B91'> Now we pass 3 parameters 1 is dictionary, 2 is index, and 3 is column list.<font>"
   ]
  },
  {
   "cell_type": "code",
   "execution_count": 280,
   "metadata": {},
   "outputs": [
    {
     "data": {
      "text/html": [
       "<div>\n",
       "<style scoped>\n",
       "    .dataframe tbody tr th:only-of-type {\n",
       "        vertical-align: middle;\n",
       "    }\n",
       "\n",
       "    .dataframe tbody tr th {\n",
       "        vertical-align: top;\n",
       "    }\n",
       "\n",
       "    .dataframe thead th {\n",
       "        text-align: right;\n",
       "    }\n",
       "</style>\n",
       "<table border=\"1\" class=\"dataframe\">\n",
       "  <thead>\n",
       "    <tr style=\"text-align: right;\">\n",
       "      <th></th>\n",
       "      <th>col_1</th>\n",
       "      <th>col_2</th>\n",
       "      <th>col_3</th>\n",
       "    </tr>\n",
       "  </thead>\n",
       "  <tbody>\n",
       "    <tr>\n",
       "      <th>C1</th>\n",
       "      <td>a</td>\n",
       "      <td>b</td>\n",
       "      <td>c</td>\n",
       "    </tr>\n",
       "    <tr>\n",
       "      <th>C2</th>\n",
       "      <td>d</td>\n",
       "      <td>e</td>\n",
       "      <td>f</td>\n",
       "    </tr>\n",
       "    <tr>\n",
       "      <th>C3</th>\n",
       "      <td>g</td>\n",
       "      <td>h</td>\n",
       "      <td>i</td>\n",
       "    </tr>\n",
       "  </tbody>\n",
       "</table>\n",
       "</div>"
      ],
      "text/plain": [
       "   col_1 col_2 col_3\n",
       "C1     a     b     c\n",
       "C2     d     e     f\n",
       "C3     g     h     i"
      ]
     },
     "execution_count": 280,
     "metadata": {},
     "output_type": "execute_result"
    }
   ],
   "source": [
    " pnd.DataFrame.from_dict({'C1': ['a', 'b', 'c'], 'C2': ['d', 'e', 'f'], 'C3': ['g', 'h', 'i']},\n",
    " orient='index', columns=['col_1', 'col_2', 'col_3'])"
   ]
  },
  {
   "cell_type": "markdown",
   "metadata": {},
   "source": [
    "### <font color='orange'>Example 3:</font>\n",
    "\n",
    "<font color='#094B91'> In this example we use from_dict constructor to create a DataFrame that take parameter for the columns data type  so we pass an dictionary of list and datatype for the columns.<font>"
   ]
  },
  {
   "cell_type": "code",
   "execution_count": 281,
   "metadata": {},
   "outputs": [
    {
     "data": {
      "text/html": [
       "<div>\n",
       "<style scoped>\n",
       "    .dataframe tbody tr th:only-of-type {\n",
       "        vertical-align: middle;\n",
       "    }\n",
       "\n",
       "    .dataframe tbody tr th {\n",
       "        vertical-align: top;\n",
       "    }\n",
       "\n",
       "    .dataframe thead th {\n",
       "        text-align: right;\n",
       "    }\n",
       "</style>\n",
       "<table border=\"1\" class=\"dataframe\">\n",
       "  <thead>\n",
       "    <tr style=\"text-align: right;\">\n",
       "      <th></th>\n",
       "      <th>s1</th>\n",
       "      <th>s2</th>\n",
       "    </tr>\n",
       "  </thead>\n",
       "  <tbody>\n",
       "    <tr>\n",
       "      <th>0</th>\n",
       "      <td>F2019027004</td>\n",
       "      <td>F2019027044</td>\n",
       "    </tr>\n",
       "    <tr>\n",
       "      <th>1</th>\n",
       "      <td>Abdullah</td>\n",
       "      <td>Muzamil</td>\n",
       "    </tr>\n",
       "    <tr>\n",
       "      <th>2</th>\n",
       "      <td>Lahore</td>\n",
       "      <td>FSD</td>\n",
       "    </tr>\n",
       "    <tr>\n",
       "      <th>3</th>\n",
       "      <td>10</td>\n",
       "      <td>12</td>\n",
       "    </tr>\n",
       "  </tbody>\n",
       "</table>\n",
       "</div>"
      ],
      "text/plain": [
       "            s1           s2\n",
       "0  F2019027004  F2019027044\n",
       "1     Abdullah      Muzamil\n",
       "2       Lahore          FSD\n",
       "3           10           12"
      ]
     },
     "execution_count": 281,
     "metadata": {},
     "output_type": "execute_result"
    }
   ],
   "source": [
    "pnd.DataFrame.from_dict({ 's1': [\"F2019027004\" ,\"Abdullah\" ,\"Lahore\" , 10 ],\n",
    "                          's2': [\"F2019027044\" ,\"Muzamil\" ,\"FSD\" , 12 ]\n",
    "                        })"
   ]
  },
  {
   "cell_type": "markdown",
   "metadata": {},
   "source": [
    "<font color='#094B91'> Now we pass 3 parameters 1 is dictionary, 2 is index, and 3 is column list.<font>"
   ]
  },
  {
   "cell_type": "code",
   "execution_count": 282,
   "metadata": {},
   "outputs": [
    {
     "data": {
      "text/html": [
       "<div>\n",
       "<style scoped>\n",
       "    .dataframe tbody tr th:only-of-type {\n",
       "        vertical-align: middle;\n",
       "    }\n",
       "\n",
       "    .dataframe tbody tr th {\n",
       "        vertical-align: top;\n",
       "    }\n",
       "\n",
       "    .dataframe thead th {\n",
       "        text-align: right;\n",
       "    }\n",
       "</style>\n",
       "<table border=\"1\" class=\"dataframe\">\n",
       "  <thead>\n",
       "    <tr style=\"text-align: right;\">\n",
       "      <th></th>\n",
       "      <th>ID</th>\n",
       "      <th>Name</th>\n",
       "      <th>City</th>\n",
       "      <th>Class</th>\n",
       "    </tr>\n",
       "  </thead>\n",
       "  <tbody>\n",
       "    <tr>\n",
       "      <th>s1</th>\n",
       "      <td>F2019027004</td>\n",
       "      <td>Abdullah</td>\n",
       "      <td>Lahore</td>\n",
       "      <td>10</td>\n",
       "    </tr>\n",
       "    <tr>\n",
       "      <th>s2</th>\n",
       "      <td>F2019027044</td>\n",
       "      <td>Muzamil</td>\n",
       "      <td>FSD</td>\n",
       "      <td>12</td>\n",
       "    </tr>\n",
       "  </tbody>\n",
       "</table>\n",
       "</div>"
      ],
      "text/plain": [
       "             ID      Name    City  Class\n",
       "s1  F2019027004  Abdullah  Lahore     10\n",
       "s2  F2019027044   Muzamil     FSD     12"
      ]
     },
     "execution_count": 282,
     "metadata": {},
     "output_type": "execute_result"
    }
   ],
   "source": [
    "pnd.DataFrame.from_dict({ 's1': [\"F2019027004\" ,\"Abdullah\" ,\"Lahore\" , 10 ],\n",
    "                          's2': [\"F2019027044\" ,\"Muzamil\" ,\"FSD\" , 12 ]\n",
    "                        },\n",
    "                       orient='index', columns=['ID', 'Name', 'City', 'Class'])"
   ]
  },
  {
   "cell_type": "markdown",
   "metadata": {},
   "source": [
    "# <font color='blue'>11.6 Column selection, addition, deletion</font>\n",
    "- DataFrame can be treated semantically like a dict of like-indexed Series objects. Getting, setting, and deleting columns works with the same\n",
    "syntax as the analogous dict operations.\n",
    "\n",
    "### <font color='orange'>Example 1:</font>\n",
    "\n",
    "<font color='#094B91'> In this example we 1st create a dictionary of pandas series and than pass this array to pandas DataFrame method that will creat a dataframe according that dictionary. </font>"
   ]
  },
  {
   "cell_type": "code",
   "execution_count": 283,
   "metadata": {},
   "outputs": [
    {
     "data": {
      "text/html": [
       "<div>\n",
       "<style scoped>\n",
       "    .dataframe tbody tr th:only-of-type {\n",
       "        vertical-align: middle;\n",
       "    }\n",
       "\n",
       "    .dataframe tbody tr th {\n",
       "        vertical-align: top;\n",
       "    }\n",
       "\n",
       "    .dataframe thead th {\n",
       "        text-align: right;\n",
       "    }\n",
       "</style>\n",
       "<table border=\"1\" class=\"dataframe\">\n",
       "  <thead>\n",
       "    <tr style=\"text-align: right;\">\n",
       "      <th></th>\n",
       "      <th>one</th>\n",
       "      <th>two</th>\n",
       "    </tr>\n",
       "  </thead>\n",
       "  <tbody>\n",
       "    <tr>\n",
       "      <th>a</th>\n",
       "      <td>1.0</td>\n",
       "      <td>1.0</td>\n",
       "    </tr>\n",
       "    <tr>\n",
       "      <th>b</th>\n",
       "      <td>2.0</td>\n",
       "      <td>2.0</td>\n",
       "    </tr>\n",
       "    <tr>\n",
       "      <th>c</th>\n",
       "      <td>3.0</td>\n",
       "      <td>3.0</td>\n",
       "    </tr>\n",
       "    <tr>\n",
       "      <th>d</th>\n",
       "      <td>NaN</td>\n",
       "      <td>4.0</td>\n",
       "    </tr>\n",
       "  </tbody>\n",
       "</table>\n",
       "</div>"
      ],
      "text/plain": [
       "   one  two\n",
       "a  1.0  1.0\n",
       "b  2.0  2.0\n",
       "c  3.0  3.0\n",
       "d  NaN  4.0"
      ]
     },
     "execution_count": 283,
     "metadata": {},
     "output_type": "execute_result"
    }
   ],
   "source": [
    " \"\"\" A dict is created \"\"\"\n",
    "d = {\n",
    " 'one' : pd.Series([1., 2., 3.], index=['a', 'b', 'c']),\n",
    " 'two' : pd.Series([1., 2., 3., 4.], index=['a', 'b', 'c', 'd'])\n",
    " }\n",
    "\"\"\"create a dataframe. row label will be the indes of a series. As coloum labels are not given so it \n",
    " will be sorted list of dict keys\"\"\"\n",
    "df = pd.DataFrame(d)\n",
    "df"
   ]
  },
  {
   "cell_type": "markdown",
   "metadata": {},
   "source": [
    "<font color='#094B91'> Show the dataframe's coloum 'one'. </font>"
   ]
  },
  {
   "cell_type": "code",
   "execution_count": 284,
   "metadata": {},
   "outputs": [
    {
     "data": {
      "text/plain": [
       "a    1.0\n",
       "b    2.0\n",
       "c    3.0\n",
       "d    NaN\n",
       "Name: one, dtype: float64"
      ]
     },
     "execution_count": 284,
     "metadata": {},
     "output_type": "execute_result"
    }
   ],
   "source": [
    "df['one'] # it is displaying data under coloumn 'one'"
   ]
  },
  {
   "cell_type": "markdown",
   "metadata": {},
   "source": [
    "<font color='#094B91'> Create a new column that's name is 'three' and assign the value by multyply column'one' and column 'two'. </font>"
   ]
  },
  {
   "cell_type": "code",
   "execution_count": 285,
   "metadata": {},
   "outputs": [],
   "source": [
    "df['three'] = df['one'] * df['two'] # assigning values to a colomn named 'three' after calculation "
   ]
  },
  {
   "cell_type": "markdown",
   "metadata": {},
   "source": [
    "<font color='#094B91'> Create a new column that's name is 'flag' and assign boolian value by checking the column 'one'. </font>"
   ]
  },
  {
   "cell_type": "code",
   "execution_count": 286,
   "metadata": {},
   "outputs": [],
   "source": [
    " df['flag'] = df['one'] > 2 #check if value at column 'one' is > 2 then assign True otherwise false"
   ]
  },
  {
   "cell_type": "code",
   "execution_count": 287,
   "metadata": {},
   "outputs": [
    {
     "data": {
      "text/html": [
       "<div>\n",
       "<style scoped>\n",
       "    .dataframe tbody tr th:only-of-type {\n",
       "        vertical-align: middle;\n",
       "    }\n",
       "\n",
       "    .dataframe tbody tr th {\n",
       "        vertical-align: top;\n",
       "    }\n",
       "\n",
       "    .dataframe thead th {\n",
       "        text-align: right;\n",
       "    }\n",
       "</style>\n",
       "<table border=\"1\" class=\"dataframe\">\n",
       "  <thead>\n",
       "    <tr style=\"text-align: right;\">\n",
       "      <th></th>\n",
       "      <th>one</th>\n",
       "      <th>two</th>\n",
       "      <th>three</th>\n",
       "      <th>flag</th>\n",
       "    </tr>\n",
       "  </thead>\n",
       "  <tbody>\n",
       "    <tr>\n",
       "      <th>a</th>\n",
       "      <td>1.0</td>\n",
       "      <td>1.0</td>\n",
       "      <td>1.0</td>\n",
       "      <td>False</td>\n",
       "    </tr>\n",
       "    <tr>\n",
       "      <th>b</th>\n",
       "      <td>2.0</td>\n",
       "      <td>2.0</td>\n",
       "      <td>4.0</td>\n",
       "      <td>False</td>\n",
       "    </tr>\n",
       "    <tr>\n",
       "      <th>c</th>\n",
       "      <td>3.0</td>\n",
       "      <td>3.0</td>\n",
       "      <td>9.0</td>\n",
       "      <td>True</td>\n",
       "    </tr>\n",
       "    <tr>\n",
       "      <th>d</th>\n",
       "      <td>NaN</td>\n",
       "      <td>4.0</td>\n",
       "      <td>NaN</td>\n",
       "      <td>False</td>\n",
       "    </tr>\n",
       "  </tbody>\n",
       "</table>\n",
       "</div>"
      ],
      "text/plain": [
       "   one  two  three   flag\n",
       "a  1.0  1.0    1.0  False\n",
       "b  2.0  2.0    4.0  False\n",
       "c  3.0  3.0    9.0   True\n",
       "d  NaN  4.0    NaN  False"
      ]
     },
     "execution_count": 287,
     "metadata": {},
     "output_type": "execute_result"
    }
   ],
   "source": [
    "df #print a complete data frame"
   ]
  },
  {
   "cell_type": "markdown",
   "metadata": {},
   "source": [
    "<font color='#094B91'>Delete column 'two' with del key word </font>"
   ]
  },
  {
   "cell_type": "code",
   "execution_count": 288,
   "metadata": {},
   "outputs": [],
   "source": [
    "del df['two'] #delete a coloumn 'two' from data frame"
   ]
  },
  {
   "cell_type": "markdown",
   "metadata": {},
   "source": [
    "<font color='#094B91'>Remove column 'three' using pop method </font>"
   ]
  },
  {
   "cell_type": "code",
   "execution_count": 289,
   "metadata": {},
   "outputs": [
    {
     "data": {
      "text/plain": [
       "a    1.0\n",
       "b    4.0\n",
       "c    9.0\n",
       "d    NaN\n",
       "Name: three, dtype: float64"
      ]
     },
     "execution_count": 289,
     "metadata": {},
     "output_type": "execute_result"
    }
   ],
   "source": [
    "three = df.pop('three') #pop a complete coloumn 'three' from dataframe\n",
    "three"
   ]
  },
  {
   "cell_type": "code",
   "execution_count": 290,
   "metadata": {},
   "outputs": [
    {
     "data": {
      "text/html": [
       "<div>\n",
       "<style scoped>\n",
       "    .dataframe tbody tr th:only-of-type {\n",
       "        vertical-align: middle;\n",
       "    }\n",
       "\n",
       "    .dataframe tbody tr th {\n",
       "        vertical-align: top;\n",
       "    }\n",
       "\n",
       "    .dataframe thead th {\n",
       "        text-align: right;\n",
       "    }\n",
       "</style>\n",
       "<table border=\"1\" class=\"dataframe\">\n",
       "  <thead>\n",
       "    <tr style=\"text-align: right;\">\n",
       "      <th></th>\n",
       "      <th>one</th>\n",
       "      <th>flag</th>\n",
       "    </tr>\n",
       "  </thead>\n",
       "  <tbody>\n",
       "    <tr>\n",
       "      <th>a</th>\n",
       "      <td>1.0</td>\n",
       "      <td>False</td>\n",
       "    </tr>\n",
       "    <tr>\n",
       "      <th>b</th>\n",
       "      <td>2.0</td>\n",
       "      <td>False</td>\n",
       "    </tr>\n",
       "    <tr>\n",
       "      <th>c</th>\n",
       "      <td>3.0</td>\n",
       "      <td>True</td>\n",
       "    </tr>\n",
       "    <tr>\n",
       "      <th>d</th>\n",
       "      <td>NaN</td>\n",
       "      <td>False</td>\n",
       "    </tr>\n",
       "  </tbody>\n",
       "</table>\n",
       "</div>"
      ],
      "text/plain": [
       "   one   flag\n",
       "a  1.0  False\n",
       "b  2.0  False\n",
       "c  3.0   True\n",
       "d  NaN  False"
      ]
     },
     "execution_count": 290,
     "metadata": {},
     "output_type": "execute_result"
    }
   ],
   "source": [
    " df"
   ]
  },
  {
   "cell_type": "markdown",
   "metadata": {},
   "source": [
    "<font color='#094B91'>Create a new nolumn name 'foo' and assign a string sclar value 'bar' in each cell. </font>"
   ]
  },
  {
   "cell_type": "code",
   "execution_count": 291,
   "metadata": {},
   "outputs": [],
   "source": [
    " df['foo'] = 'bar' #a coloumn 'foo' will be populated with 'bar'"
   ]
  },
  {
   "cell_type": "code",
   "execution_count": 292,
   "metadata": {},
   "outputs": [
    {
     "data": {
      "text/html": [
       "<div>\n",
       "<style scoped>\n",
       "    .dataframe tbody tr th:only-of-type {\n",
       "        vertical-align: middle;\n",
       "    }\n",
       "\n",
       "    .dataframe tbody tr th {\n",
       "        vertical-align: top;\n",
       "    }\n",
       "\n",
       "    .dataframe thead th {\n",
       "        text-align: right;\n",
       "    }\n",
       "</style>\n",
       "<table border=\"1\" class=\"dataframe\">\n",
       "  <thead>\n",
       "    <tr style=\"text-align: right;\">\n",
       "      <th></th>\n",
       "      <th>one</th>\n",
       "      <th>flag</th>\n",
       "      <th>foo</th>\n",
       "    </tr>\n",
       "  </thead>\n",
       "  <tbody>\n",
       "    <tr>\n",
       "      <th>a</th>\n",
       "      <td>1.0</td>\n",
       "      <td>False</td>\n",
       "      <td>bar</td>\n",
       "    </tr>\n",
       "    <tr>\n",
       "      <th>b</th>\n",
       "      <td>2.0</td>\n",
       "      <td>False</td>\n",
       "      <td>bar</td>\n",
       "    </tr>\n",
       "    <tr>\n",
       "      <th>c</th>\n",
       "      <td>3.0</td>\n",
       "      <td>True</td>\n",
       "      <td>bar</td>\n",
       "    </tr>\n",
       "    <tr>\n",
       "      <th>d</th>\n",
       "      <td>NaN</td>\n",
       "      <td>False</td>\n",
       "      <td>bar</td>\n",
       "    </tr>\n",
       "  </tbody>\n",
       "</table>\n",
       "</div>"
      ],
      "text/plain": [
       "   one   flag  foo\n",
       "a  1.0  False  bar\n",
       "b  2.0  False  bar\n",
       "c  3.0   True  bar\n",
       "d  NaN  False  bar"
      ]
     },
     "execution_count": 292,
     "metadata": {},
     "output_type": "execute_result"
    }
   ],
   "source": [
    "df"
   ]
  },
  {
   "cell_type": "markdown",
   "metadata": {},
   "source": [
    "<font color='#094B91'>Create a new nolumn name 'one_trunc' and assign value from column 'one' (assign value just 1st two rows). </font>"
   ]
  },
  {
   "cell_type": "code",
   "execution_count": 293,
   "metadata": {},
   "outputs": [],
   "source": [
    " \"\"\"following example will take values from coloumn one until give range and will populate the new coloumn\"\"\"\n",
    "df['one_trunc'] = df['one'][:2]"
   ]
  },
  {
   "cell_type": "code",
   "execution_count": 294,
   "metadata": {},
   "outputs": [
    {
     "data": {
      "text/html": [
       "<div>\n",
       "<style scoped>\n",
       "    .dataframe tbody tr th:only-of-type {\n",
       "        vertical-align: middle;\n",
       "    }\n",
       "\n",
       "    .dataframe tbody tr th {\n",
       "        vertical-align: top;\n",
       "    }\n",
       "\n",
       "    .dataframe thead th {\n",
       "        text-align: right;\n",
       "    }\n",
       "</style>\n",
       "<table border=\"1\" class=\"dataframe\">\n",
       "  <thead>\n",
       "    <tr style=\"text-align: right;\">\n",
       "      <th></th>\n",
       "      <th>one</th>\n",
       "      <th>flag</th>\n",
       "      <th>foo</th>\n",
       "      <th>one_trunc</th>\n",
       "    </tr>\n",
       "  </thead>\n",
       "  <tbody>\n",
       "    <tr>\n",
       "      <th>a</th>\n",
       "      <td>1.0</td>\n",
       "      <td>False</td>\n",
       "      <td>bar</td>\n",
       "      <td>1.0</td>\n",
       "    </tr>\n",
       "    <tr>\n",
       "      <th>b</th>\n",
       "      <td>2.0</td>\n",
       "      <td>False</td>\n",
       "      <td>bar</td>\n",
       "      <td>2.0</td>\n",
       "    </tr>\n",
       "    <tr>\n",
       "      <th>c</th>\n",
       "      <td>3.0</td>\n",
       "      <td>True</td>\n",
       "      <td>bar</td>\n",
       "      <td>NaN</td>\n",
       "    </tr>\n",
       "    <tr>\n",
       "      <th>d</th>\n",
       "      <td>NaN</td>\n",
       "      <td>False</td>\n",
       "      <td>bar</td>\n",
       "      <td>NaN</td>\n",
       "    </tr>\n",
       "  </tbody>\n",
       "</table>\n",
       "</div>"
      ],
      "text/plain": [
       "   one   flag  foo  one_trunc\n",
       "a  1.0  False  bar        1.0\n",
       "b  2.0  False  bar        2.0\n",
       "c  3.0   True  bar        NaN\n",
       "d  NaN  False  bar        NaN"
      ]
     },
     "execution_count": 294,
     "metadata": {},
     "output_type": "execute_result"
    }
   ],
   "source": [
    "df"
   ]
  },
  {
   "cell_type": "markdown",
   "metadata": {},
   "source": [
    "<font color='#094B91'>In this example we use insert method By default columns get inserted at the end. The insert function is available to insert at a particular location in the columns. </font>\n",
    "\n"
   ]
  },
  {
   "cell_type": "code",
   "execution_count": 295,
   "metadata": {},
   "outputs": [],
   "source": [
    " \"\"\"following function has three arguments.\n",
    "First argument: index where new coloumn will be inserted.\n",
    "Second argument: label or title of a new coloumn\n",
    "Third argument: it will create a coloumn copy at specified position\"\"\"\n",
    "\n",
    "df.insert(1, 'bar2', df['one'])"
   ]
  },
  {
   "cell_type": "code",
   "execution_count": 296,
   "metadata": {},
   "outputs": [
    {
     "data": {
      "text/html": [
       "<div>\n",
       "<style scoped>\n",
       "    .dataframe tbody tr th:only-of-type {\n",
       "        vertical-align: middle;\n",
       "    }\n",
       "\n",
       "    .dataframe tbody tr th {\n",
       "        vertical-align: top;\n",
       "    }\n",
       "\n",
       "    .dataframe thead th {\n",
       "        text-align: right;\n",
       "    }\n",
       "</style>\n",
       "<table border=\"1\" class=\"dataframe\">\n",
       "  <thead>\n",
       "    <tr style=\"text-align: right;\">\n",
       "      <th></th>\n",
       "      <th>one</th>\n",
       "      <th>bar2</th>\n",
       "      <th>flag</th>\n",
       "      <th>foo</th>\n",
       "      <th>one_trunc</th>\n",
       "    </tr>\n",
       "  </thead>\n",
       "  <tbody>\n",
       "    <tr>\n",
       "      <th>a</th>\n",
       "      <td>1.0</td>\n",
       "      <td>1.0</td>\n",
       "      <td>False</td>\n",
       "      <td>bar</td>\n",
       "      <td>1.0</td>\n",
       "    </tr>\n",
       "    <tr>\n",
       "      <th>b</th>\n",
       "      <td>2.0</td>\n",
       "      <td>2.0</td>\n",
       "      <td>False</td>\n",
       "      <td>bar</td>\n",
       "      <td>2.0</td>\n",
       "    </tr>\n",
       "    <tr>\n",
       "      <th>c</th>\n",
       "      <td>3.0</td>\n",
       "      <td>3.0</td>\n",
       "      <td>True</td>\n",
       "      <td>bar</td>\n",
       "      <td>NaN</td>\n",
       "    </tr>\n",
       "    <tr>\n",
       "      <th>d</th>\n",
       "      <td>NaN</td>\n",
       "      <td>NaN</td>\n",
       "      <td>False</td>\n",
       "      <td>bar</td>\n",
       "      <td>NaN</td>\n",
       "    </tr>\n",
       "  </tbody>\n",
       "</table>\n",
       "</div>"
      ],
      "text/plain": [
       "   one  bar2   flag  foo  one_trunc\n",
       "a  1.0   1.0  False  bar        1.0\n",
       "b  2.0   2.0  False  bar        2.0\n",
       "c  3.0   3.0   True  bar        NaN\n",
       "d  NaN   NaN  False  bar        NaN"
      ]
     },
     "execution_count": 296,
     "metadata": {},
     "output_type": "execute_result"
    }
   ],
   "source": [
    "df"
   ]
  },
  {
   "cell_type": "markdown",
   "metadata": {},
   "source": [
    "### <font color='orange'>Example 2:</font>\n",
    "\n",
    "<font color='#094B91'> In this example we 1st create a dictionary of pandas series and than pass this array to pandas DataFrame method that will creat a dataframe according that dictionary. </font>"
   ]
  },
  {
   "cell_type": "code",
   "execution_count": 297,
   "metadata": {},
   "outputs": [
    {
     "data": {
      "text/html": [
       "<div>\n",
       "<style scoped>\n",
       "    .dataframe tbody tr th:only-of-type {\n",
       "        vertical-align: middle;\n",
       "    }\n",
       "\n",
       "    .dataframe tbody tr th {\n",
       "        vertical-align: top;\n",
       "    }\n",
       "\n",
       "    .dataframe thead th {\n",
       "        text-align: right;\n",
       "    }\n",
       "</style>\n",
       "<table border=\"1\" class=\"dataframe\">\n",
       "  <thead>\n",
       "    <tr style=\"text-align: right;\">\n",
       "      <th></th>\n",
       "      <th>Rec_1</th>\n",
       "      <th>Rec_2</th>\n",
       "    </tr>\n",
       "  </thead>\n",
       "  <tbody>\n",
       "    <tr>\n",
       "      <th>1</th>\n",
       "      <td>10.0</td>\n",
       "      <td>100.0</td>\n",
       "    </tr>\n",
       "    <tr>\n",
       "      <th>2</th>\n",
       "      <td>20.0</td>\n",
       "      <td>200.0</td>\n",
       "    </tr>\n",
       "    <tr>\n",
       "      <th>3</th>\n",
       "      <td>30.0</td>\n",
       "      <td>300.0</td>\n",
       "    </tr>\n",
       "    <tr>\n",
       "      <th>4</th>\n",
       "      <td>NaN</td>\n",
       "      <td>400.0</td>\n",
       "    </tr>\n",
       "    <tr>\n",
       "      <th>5</th>\n",
       "      <td>NaN</td>\n",
       "      <td>500.0</td>\n",
       "    </tr>\n",
       "    <tr>\n",
       "      <th>6</th>\n",
       "      <td>NaN</td>\n",
       "      <td>600.0</td>\n",
       "    </tr>\n",
       "  </tbody>\n",
       "</table>\n",
       "</div>"
      ],
      "text/plain": [
       "   Rec_1  Rec_2\n",
       "1   10.0  100.0\n",
       "2   20.0  200.0\n",
       "3   30.0  300.0\n",
       "4    NaN  400.0\n",
       "5    NaN  500.0\n",
       "6    NaN  600.0"
      ]
     },
     "execution_count": 297,
     "metadata": {},
     "output_type": "execute_result"
    }
   ],
   "source": [
    "dict1 = {\n",
    " 'Rec_1' : pnd.Series([10, 20, 30], index=['1', '2', '3']),\n",
    " 'Rec_2' : pnd.Series([100., 200., 300., 400.,500., 600.], index=['1', '2', '3', '4','5','6'])\n",
    " }\n",
    "\n",
    "dataFrame1 = pnd.DataFrame(dict1)\n",
    "dataFrame1"
   ]
  },
  {
   "cell_type": "markdown",
   "metadata": {},
   "source": [
    "<font color='#094B91'> Show the dataframe's coloum 'Rec_1'. </font>"
   ]
  },
  {
   "cell_type": "code",
   "execution_count": 298,
   "metadata": {},
   "outputs": [
    {
     "data": {
      "text/plain": [
       "1    10.0\n",
       "2    20.0\n",
       "3    30.0\n",
       "4     NaN\n",
       "5     NaN\n",
       "6     NaN\n",
       "Name: Rec_1, dtype: float64"
      ]
     },
     "execution_count": 298,
     "metadata": {},
     "output_type": "execute_result"
    }
   ],
   "source": [
    "dataFrame1['Rec_1'] "
   ]
  },
  {
   "cell_type": "markdown",
   "metadata": {},
   "source": [
    "<font color='#094B91'> Create a new column that's name is 'Rec_3' and assign the value by multyply column'Rec_1' and column 'Rec_2'. </font>"
   ]
  },
  {
   "cell_type": "code",
   "execution_count": 299,
   "metadata": {},
   "outputs": [],
   "source": [
    "dataFrame1['Rec_3'] = dataFrame1['Rec_1'] * dataFrame1['Rec_2']"
   ]
  },
  {
   "cell_type": "markdown",
   "metadata": {},
   "source": [
    "<font color='#094B91'> Create a new column that's name is 'flg' and assign boolian value by checking the column 'Rec_1'. </font>"
   ]
  },
  {
   "cell_type": "code",
   "execution_count": 300,
   "metadata": {},
   "outputs": [],
   "source": [
    " dataFrame1['flg'] = dataFrame1['Rec_1'] > 2"
   ]
  },
  {
   "cell_type": "code",
   "execution_count": 301,
   "metadata": {},
   "outputs": [
    {
     "data": {
      "text/html": [
       "<div>\n",
       "<style scoped>\n",
       "    .dataframe tbody tr th:only-of-type {\n",
       "        vertical-align: middle;\n",
       "    }\n",
       "\n",
       "    .dataframe tbody tr th {\n",
       "        vertical-align: top;\n",
       "    }\n",
       "\n",
       "    .dataframe thead th {\n",
       "        text-align: right;\n",
       "    }\n",
       "</style>\n",
       "<table border=\"1\" class=\"dataframe\">\n",
       "  <thead>\n",
       "    <tr style=\"text-align: right;\">\n",
       "      <th></th>\n",
       "      <th>Rec_1</th>\n",
       "      <th>Rec_2</th>\n",
       "      <th>Rec_3</th>\n",
       "      <th>flg</th>\n",
       "    </tr>\n",
       "  </thead>\n",
       "  <tbody>\n",
       "    <tr>\n",
       "      <th>1</th>\n",
       "      <td>10.0</td>\n",
       "      <td>100.0</td>\n",
       "      <td>1000.0</td>\n",
       "      <td>True</td>\n",
       "    </tr>\n",
       "    <tr>\n",
       "      <th>2</th>\n",
       "      <td>20.0</td>\n",
       "      <td>200.0</td>\n",
       "      <td>4000.0</td>\n",
       "      <td>True</td>\n",
       "    </tr>\n",
       "    <tr>\n",
       "      <th>3</th>\n",
       "      <td>30.0</td>\n",
       "      <td>300.0</td>\n",
       "      <td>9000.0</td>\n",
       "      <td>True</td>\n",
       "    </tr>\n",
       "    <tr>\n",
       "      <th>4</th>\n",
       "      <td>NaN</td>\n",
       "      <td>400.0</td>\n",
       "      <td>NaN</td>\n",
       "      <td>False</td>\n",
       "    </tr>\n",
       "    <tr>\n",
       "      <th>5</th>\n",
       "      <td>NaN</td>\n",
       "      <td>500.0</td>\n",
       "      <td>NaN</td>\n",
       "      <td>False</td>\n",
       "    </tr>\n",
       "    <tr>\n",
       "      <th>6</th>\n",
       "      <td>NaN</td>\n",
       "      <td>600.0</td>\n",
       "      <td>NaN</td>\n",
       "      <td>False</td>\n",
       "    </tr>\n",
       "  </tbody>\n",
       "</table>\n",
       "</div>"
      ],
      "text/plain": [
       "   Rec_1  Rec_2   Rec_3    flg\n",
       "1   10.0  100.0  1000.0   True\n",
       "2   20.0  200.0  4000.0   True\n",
       "3   30.0  300.0  9000.0   True\n",
       "4    NaN  400.0     NaN  False\n",
       "5    NaN  500.0     NaN  False\n",
       "6    NaN  600.0     NaN  False"
      ]
     },
     "execution_count": 301,
     "metadata": {},
     "output_type": "execute_result"
    }
   ],
   "source": [
    " dataFrame1"
   ]
  },
  {
   "cell_type": "markdown",
   "metadata": {},
   "source": [
    "<font color='#094B91'>Delete column 'Rec_1' using del key word. </font>"
   ]
  },
  {
   "cell_type": "code",
   "execution_count": 302,
   "metadata": {},
   "outputs": [],
   "source": [
    "del dataFrame1['Rec_1']"
   ]
  },
  {
   "cell_type": "markdown",
   "metadata": {},
   "source": [
    "<font color='#094B91'>Remove column 'Rec_2' using pop method </font>"
   ]
  },
  {
   "cell_type": "code",
   "execution_count": 303,
   "metadata": {},
   "outputs": [],
   "source": [
    "Rec_2 = dataFrame1.pop('Rec_2')"
   ]
  },
  {
   "cell_type": "code",
   "execution_count": 304,
   "metadata": {},
   "outputs": [
    {
     "data": {
      "text/plain": [
       "1    100.0\n",
       "2    200.0\n",
       "3    300.0\n",
       "4    400.0\n",
       "5    500.0\n",
       "6    600.0\n",
       "Name: Rec_2, dtype: float64"
      ]
     },
     "execution_count": 304,
     "metadata": {},
     "output_type": "execute_result"
    }
   ],
   "source": [
    "Rec_2"
   ]
  },
  {
   "cell_type": "code",
   "execution_count": 305,
   "metadata": {},
   "outputs": [
    {
     "data": {
      "text/html": [
       "<div>\n",
       "<style scoped>\n",
       "    .dataframe tbody tr th:only-of-type {\n",
       "        vertical-align: middle;\n",
       "    }\n",
       "\n",
       "    .dataframe tbody tr th {\n",
       "        vertical-align: top;\n",
       "    }\n",
       "\n",
       "    .dataframe thead th {\n",
       "        text-align: right;\n",
       "    }\n",
       "</style>\n",
       "<table border=\"1\" class=\"dataframe\">\n",
       "  <thead>\n",
       "    <tr style=\"text-align: right;\">\n",
       "      <th></th>\n",
       "      <th>Rec_3</th>\n",
       "      <th>flg</th>\n",
       "    </tr>\n",
       "  </thead>\n",
       "  <tbody>\n",
       "    <tr>\n",
       "      <th>1</th>\n",
       "      <td>1000.0</td>\n",
       "      <td>True</td>\n",
       "    </tr>\n",
       "    <tr>\n",
       "      <th>2</th>\n",
       "      <td>4000.0</td>\n",
       "      <td>True</td>\n",
       "    </tr>\n",
       "    <tr>\n",
       "      <th>3</th>\n",
       "      <td>9000.0</td>\n",
       "      <td>True</td>\n",
       "    </tr>\n",
       "    <tr>\n",
       "      <th>4</th>\n",
       "      <td>NaN</td>\n",
       "      <td>False</td>\n",
       "    </tr>\n",
       "    <tr>\n",
       "      <th>5</th>\n",
       "      <td>NaN</td>\n",
       "      <td>False</td>\n",
       "    </tr>\n",
       "    <tr>\n",
       "      <th>6</th>\n",
       "      <td>NaN</td>\n",
       "      <td>False</td>\n",
       "    </tr>\n",
       "  </tbody>\n",
       "</table>\n",
       "</div>"
      ],
      "text/plain": [
       "    Rec_3    flg\n",
       "1  1000.0   True\n",
       "2  4000.0   True\n",
       "3  9000.0   True\n",
       "4     NaN  False\n",
       "5     NaN  False\n",
       "6     NaN  False"
      ]
     },
     "execution_count": 305,
     "metadata": {},
     "output_type": "execute_result"
    }
   ],
   "source": [
    "dataFrame1"
   ]
  },
  {
   "cell_type": "markdown",
   "metadata": {},
   "source": [
    "<font color='#094B91'>Create a new nolumn name 'new' and assign a string sclar value 'new' in each cell (When inserting a scalar value, it will naturally be propagated to fill the column) </font>"
   ]
  },
  {
   "cell_type": "code",
   "execution_count": 306,
   "metadata": {},
   "outputs": [],
   "source": [
    "dataFrame1['new'] = 'new'"
   ]
  },
  {
   "cell_type": "code",
   "execution_count": 307,
   "metadata": {},
   "outputs": [
    {
     "data": {
      "text/html": [
       "<div>\n",
       "<style scoped>\n",
       "    .dataframe tbody tr th:only-of-type {\n",
       "        vertical-align: middle;\n",
       "    }\n",
       "\n",
       "    .dataframe tbody tr th {\n",
       "        vertical-align: top;\n",
       "    }\n",
       "\n",
       "    .dataframe thead th {\n",
       "        text-align: right;\n",
       "    }\n",
       "</style>\n",
       "<table border=\"1\" class=\"dataframe\">\n",
       "  <thead>\n",
       "    <tr style=\"text-align: right;\">\n",
       "      <th></th>\n",
       "      <th>Rec_3</th>\n",
       "      <th>flg</th>\n",
       "      <th>new</th>\n",
       "    </tr>\n",
       "  </thead>\n",
       "  <tbody>\n",
       "    <tr>\n",
       "      <th>1</th>\n",
       "      <td>1000.0</td>\n",
       "      <td>True</td>\n",
       "      <td>new</td>\n",
       "    </tr>\n",
       "    <tr>\n",
       "      <th>2</th>\n",
       "      <td>4000.0</td>\n",
       "      <td>True</td>\n",
       "      <td>new</td>\n",
       "    </tr>\n",
       "    <tr>\n",
       "      <th>3</th>\n",
       "      <td>9000.0</td>\n",
       "      <td>True</td>\n",
       "      <td>new</td>\n",
       "    </tr>\n",
       "    <tr>\n",
       "      <th>4</th>\n",
       "      <td>NaN</td>\n",
       "      <td>False</td>\n",
       "      <td>new</td>\n",
       "    </tr>\n",
       "    <tr>\n",
       "      <th>5</th>\n",
       "      <td>NaN</td>\n",
       "      <td>False</td>\n",
       "      <td>new</td>\n",
       "    </tr>\n",
       "    <tr>\n",
       "      <th>6</th>\n",
       "      <td>NaN</td>\n",
       "      <td>False</td>\n",
       "      <td>new</td>\n",
       "    </tr>\n",
       "  </tbody>\n",
       "</table>\n",
       "</div>"
      ],
      "text/plain": [
       "    Rec_3    flg  new\n",
       "1  1000.0   True  new\n",
       "2  4000.0   True  new\n",
       "3  9000.0   True  new\n",
       "4     NaN  False  new\n",
       "5     NaN  False  new\n",
       "6     NaN  False  new"
      ]
     },
     "execution_count": 307,
     "metadata": {},
     "output_type": "execute_result"
    }
   ],
   "source": [
    "dataFrame1"
   ]
  },
  {
   "cell_type": "markdown",
   "metadata": {},
   "source": [
    "<font color='#094B91'>In this example we use insert method By default columns get inserted at the end. The insert function is available to insert at a particular location in the columns. </font>"
   ]
  },
  {
   "cell_type": "code",
   "execution_count": 308,
   "metadata": {},
   "outputs": [],
   "source": [
    "dataFrame1.insert(2, 'Rec_4', dataFrame1['Rec_3'])"
   ]
  },
  {
   "cell_type": "code",
   "execution_count": 309,
   "metadata": {},
   "outputs": [
    {
     "data": {
      "text/html": [
       "<div>\n",
       "<style scoped>\n",
       "    .dataframe tbody tr th:only-of-type {\n",
       "        vertical-align: middle;\n",
       "    }\n",
       "\n",
       "    .dataframe tbody tr th {\n",
       "        vertical-align: top;\n",
       "    }\n",
       "\n",
       "    .dataframe thead th {\n",
       "        text-align: right;\n",
       "    }\n",
       "</style>\n",
       "<table border=\"1\" class=\"dataframe\">\n",
       "  <thead>\n",
       "    <tr style=\"text-align: right;\">\n",
       "      <th></th>\n",
       "      <th>Rec_3</th>\n",
       "      <th>flg</th>\n",
       "      <th>Rec_4</th>\n",
       "      <th>new</th>\n",
       "    </tr>\n",
       "  </thead>\n",
       "  <tbody>\n",
       "    <tr>\n",
       "      <th>1</th>\n",
       "      <td>1000.0</td>\n",
       "      <td>True</td>\n",
       "      <td>1000.0</td>\n",
       "      <td>new</td>\n",
       "    </tr>\n",
       "    <tr>\n",
       "      <th>2</th>\n",
       "      <td>4000.0</td>\n",
       "      <td>True</td>\n",
       "      <td>4000.0</td>\n",
       "      <td>new</td>\n",
       "    </tr>\n",
       "    <tr>\n",
       "      <th>3</th>\n",
       "      <td>9000.0</td>\n",
       "      <td>True</td>\n",
       "      <td>9000.0</td>\n",
       "      <td>new</td>\n",
       "    </tr>\n",
       "    <tr>\n",
       "      <th>4</th>\n",
       "      <td>NaN</td>\n",
       "      <td>False</td>\n",
       "      <td>NaN</td>\n",
       "      <td>new</td>\n",
       "    </tr>\n",
       "    <tr>\n",
       "      <th>5</th>\n",
       "      <td>NaN</td>\n",
       "      <td>False</td>\n",
       "      <td>NaN</td>\n",
       "      <td>new</td>\n",
       "    </tr>\n",
       "    <tr>\n",
       "      <th>6</th>\n",
       "      <td>NaN</td>\n",
       "      <td>False</td>\n",
       "      <td>NaN</td>\n",
       "      <td>new</td>\n",
       "    </tr>\n",
       "  </tbody>\n",
       "</table>\n",
       "</div>"
      ],
      "text/plain": [
       "    Rec_3    flg   Rec_4  new\n",
       "1  1000.0   True  1000.0  new\n",
       "2  4000.0   True  4000.0  new\n",
       "3  9000.0   True  9000.0  new\n",
       "4     NaN  False     NaN  new\n",
       "5     NaN  False     NaN  new\n",
       "6     NaN  False     NaN  new"
      ]
     },
     "execution_count": 309,
     "metadata": {},
     "output_type": "execute_result"
    }
   ],
   "source": [
    "dataFrame1"
   ]
  },
  {
   "cell_type": "markdown",
   "metadata": {},
   "source": [
    "<font color='#094B91'>Create a new nolumn name 'Less than 5' and assign value from column 'Rec_3' (assign value just 1st row). </font>"
   ]
  },
  {
   "cell_type": "code",
   "execution_count": 310,
   "metadata": {},
   "outputs": [],
   "source": [
    "dataFrame1['Less than 5'] = dataFrame1['Rec_3'][:1]"
   ]
  },
  {
   "cell_type": "code",
   "execution_count": 311,
   "metadata": {},
   "outputs": [
    {
     "data": {
      "text/html": [
       "<div>\n",
       "<style scoped>\n",
       "    .dataframe tbody tr th:only-of-type {\n",
       "        vertical-align: middle;\n",
       "    }\n",
       "\n",
       "    .dataframe tbody tr th {\n",
       "        vertical-align: top;\n",
       "    }\n",
       "\n",
       "    .dataframe thead th {\n",
       "        text-align: right;\n",
       "    }\n",
       "</style>\n",
       "<table border=\"1\" class=\"dataframe\">\n",
       "  <thead>\n",
       "    <tr style=\"text-align: right;\">\n",
       "      <th></th>\n",
       "      <th>Rec_3</th>\n",
       "      <th>flg</th>\n",
       "      <th>Rec_4</th>\n",
       "      <th>new</th>\n",
       "      <th>Less than 5</th>\n",
       "    </tr>\n",
       "  </thead>\n",
       "  <tbody>\n",
       "    <tr>\n",
       "      <th>1</th>\n",
       "      <td>1000.0</td>\n",
       "      <td>True</td>\n",
       "      <td>1000.0</td>\n",
       "      <td>new</td>\n",
       "      <td>1000.0</td>\n",
       "    </tr>\n",
       "    <tr>\n",
       "      <th>2</th>\n",
       "      <td>4000.0</td>\n",
       "      <td>True</td>\n",
       "      <td>4000.0</td>\n",
       "      <td>new</td>\n",
       "      <td>NaN</td>\n",
       "    </tr>\n",
       "    <tr>\n",
       "      <th>3</th>\n",
       "      <td>9000.0</td>\n",
       "      <td>True</td>\n",
       "      <td>9000.0</td>\n",
       "      <td>new</td>\n",
       "      <td>NaN</td>\n",
       "    </tr>\n",
       "    <tr>\n",
       "      <th>4</th>\n",
       "      <td>NaN</td>\n",
       "      <td>False</td>\n",
       "      <td>NaN</td>\n",
       "      <td>new</td>\n",
       "      <td>NaN</td>\n",
       "    </tr>\n",
       "    <tr>\n",
       "      <th>5</th>\n",
       "      <td>NaN</td>\n",
       "      <td>False</td>\n",
       "      <td>NaN</td>\n",
       "      <td>new</td>\n",
       "      <td>NaN</td>\n",
       "    </tr>\n",
       "    <tr>\n",
       "      <th>6</th>\n",
       "      <td>NaN</td>\n",
       "      <td>False</td>\n",
       "      <td>NaN</td>\n",
       "      <td>new</td>\n",
       "      <td>NaN</td>\n",
       "    </tr>\n",
       "  </tbody>\n",
       "</table>\n",
       "</div>"
      ],
      "text/plain": [
       "    Rec_3    flg   Rec_4  new  Less than 5\n",
       "1  1000.0   True  1000.0  new       1000.0\n",
       "2  4000.0   True  4000.0  new          NaN\n",
       "3  9000.0   True  9000.0  new          NaN\n",
       "4     NaN  False     NaN  new          NaN\n",
       "5     NaN  False     NaN  new          NaN\n",
       "6     NaN  False     NaN  new          NaN"
      ]
     },
     "execution_count": 311,
     "metadata": {},
     "output_type": "execute_result"
    }
   ],
   "source": [
    "dataFrame1"
   ]
  },
  {
   "cell_type": "markdown",
   "metadata": {},
   "source": [
    "### <font color='orange'>Example 3:</font>\n",
    "\n",
    "<font color='#094B91'> In this example we 1st create a dictionary of pandas series and than pass this array to pandas DataFrame method that will creat a dataframe according that dictionary. </font>"
   ]
  },
  {
   "cell_type": "code",
   "execution_count": 312,
   "metadata": {},
   "outputs": [
    {
     "data": {
      "text/html": [
       "<div>\n",
       "<style scoped>\n",
       "    .dataframe tbody tr th:only-of-type {\n",
       "        vertical-align: middle;\n",
       "    }\n",
       "\n",
       "    .dataframe tbody tr th {\n",
       "        vertical-align: top;\n",
       "    }\n",
       "\n",
       "    .dataframe thead th {\n",
       "        text-align: right;\n",
       "    }\n",
       "</style>\n",
       "<table border=\"1\" class=\"dataframe\">\n",
       "  <thead>\n",
       "    <tr style=\"text-align: right;\">\n",
       "      <th></th>\n",
       "      <th>S-1</th>\n",
       "      <th>S-2</th>\n",
       "    </tr>\n",
       "  </thead>\n",
       "  <tbody>\n",
       "    <tr>\n",
       "      <th>city</th>\n",
       "      <td>Lahore</td>\n",
       "      <td>NaN</td>\n",
       "    </tr>\n",
       "    <tr>\n",
       "      <th>class</th>\n",
       "      <td>10</td>\n",
       "      <td>12</td>\n",
       "    </tr>\n",
       "    <tr>\n",
       "      <th>id</th>\n",
       "      <td>F2019027004</td>\n",
       "      <td>F2019027044</td>\n",
       "    </tr>\n",
       "    <tr>\n",
       "      <th>name</th>\n",
       "      <td>Abdullah</td>\n",
       "      <td>Muzamil</td>\n",
       "    </tr>\n",
       "  </tbody>\n",
       "</table>\n",
       "</div>"
      ],
      "text/plain": [
       "               S-1          S-2\n",
       "city        Lahore          NaN\n",
       "class           10           12\n",
       "id     F2019027004  F2019027044\n",
       "name      Abdullah      Muzamil"
      ]
     },
     "execution_count": 312,
     "metadata": {},
     "output_type": "execute_result"
    }
   ],
   "source": [
    "student1 = {\"id\" : \"F2019027004\" , \"name\" : \"Abdullah\" , \"city\" : \"Lahore\" , \"class\": 10}\n",
    "student2 = {\"id\" : \"F2019027044\" , \"name\" : \"Muzamil\" , \"class\": 12}\n",
    "\n",
    "dict2 = {\n",
    " 'S-1' : pnd.Series(student1),\n",
    " 'S-2' : pnd.Series(student2)\n",
    " }\n",
    "\n",
    "dataFrame2 = pnd.DataFrame(dict2)\n",
    "dataFrame2"
   ]
  },
  {
   "cell_type": "markdown",
   "metadata": {},
   "source": [
    "<font color='#094B91'> Show the dataframe's coloum 'S-1'. </font>"
   ]
  },
  {
   "cell_type": "code",
   "execution_count": 313,
   "metadata": {},
   "outputs": [
    {
     "data": {
      "text/plain": [
       "city          Lahore\n",
       "class             10\n",
       "id       F2019027004\n",
       "name        Abdullah\n",
       "Name: S-1, dtype: object"
      ]
     },
     "execution_count": 313,
     "metadata": {},
     "output_type": "execute_result"
    }
   ],
   "source": [
    "dataFrame2['S-1']"
   ]
  },
  {
   "cell_type": "markdown",
   "metadata": {},
   "source": [
    "<font color='#094B91'> Create a new column that's name is 'S-3' and assign the same value by column'S-1'. </font>"
   ]
  },
  {
   "cell_type": "code",
   "execution_count": 314,
   "metadata": {},
   "outputs": [],
   "source": [
    "dataFrame2['S-3'] = dataFrame2['S-1']"
   ]
  },
  {
   "cell_type": "code",
   "execution_count": 315,
   "metadata": {},
   "outputs": [
    {
     "data": {
      "text/html": [
       "<div>\n",
       "<style scoped>\n",
       "    .dataframe tbody tr th:only-of-type {\n",
       "        vertical-align: middle;\n",
       "    }\n",
       "\n",
       "    .dataframe tbody tr th {\n",
       "        vertical-align: top;\n",
       "    }\n",
       "\n",
       "    .dataframe thead th {\n",
       "        text-align: right;\n",
       "    }\n",
       "</style>\n",
       "<table border=\"1\" class=\"dataframe\">\n",
       "  <thead>\n",
       "    <tr style=\"text-align: right;\">\n",
       "      <th></th>\n",
       "      <th>S-1</th>\n",
       "      <th>S-2</th>\n",
       "      <th>S-3</th>\n",
       "    </tr>\n",
       "  </thead>\n",
       "  <tbody>\n",
       "    <tr>\n",
       "      <th>city</th>\n",
       "      <td>Lahore</td>\n",
       "      <td>NaN</td>\n",
       "      <td>Lahore</td>\n",
       "    </tr>\n",
       "    <tr>\n",
       "      <th>class</th>\n",
       "      <td>10</td>\n",
       "      <td>12</td>\n",
       "      <td>10</td>\n",
       "    </tr>\n",
       "    <tr>\n",
       "      <th>id</th>\n",
       "      <td>F2019027004</td>\n",
       "      <td>F2019027044</td>\n",
       "      <td>F2019027004</td>\n",
       "    </tr>\n",
       "    <tr>\n",
       "      <th>name</th>\n",
       "      <td>Abdullah</td>\n",
       "      <td>Muzamil</td>\n",
       "      <td>Abdullah</td>\n",
       "    </tr>\n",
       "  </tbody>\n",
       "</table>\n",
       "</div>"
      ],
      "text/plain": [
       "               S-1          S-2          S-3\n",
       "city        Lahore          NaN       Lahore\n",
       "class           10           12           10\n",
       "id     F2019027004  F2019027044  F2019027004\n",
       "name      Abdullah      Muzamil     Abdullah"
      ]
     },
     "execution_count": 315,
     "metadata": {},
     "output_type": "execute_result"
    }
   ],
   "source": [
    "dataFrame2"
   ]
  },
  {
   "cell_type": "markdown",
   "metadata": {},
   "source": [
    "<font color='#094B91'>Delete column 'S-1' using del key word. </font>"
   ]
  },
  {
   "cell_type": "code",
   "execution_count": 316,
   "metadata": {},
   "outputs": [],
   "source": [
    "del dataFrame2['S-1']"
   ]
  },
  {
   "cell_type": "code",
   "execution_count": 317,
   "metadata": {},
   "outputs": [
    {
     "data": {
      "text/html": [
       "<div>\n",
       "<style scoped>\n",
       "    .dataframe tbody tr th:only-of-type {\n",
       "        vertical-align: middle;\n",
       "    }\n",
       "\n",
       "    .dataframe tbody tr th {\n",
       "        vertical-align: top;\n",
       "    }\n",
       "\n",
       "    .dataframe thead th {\n",
       "        text-align: right;\n",
       "    }\n",
       "</style>\n",
       "<table border=\"1\" class=\"dataframe\">\n",
       "  <thead>\n",
       "    <tr style=\"text-align: right;\">\n",
       "      <th></th>\n",
       "      <th>S-2</th>\n",
       "      <th>S-3</th>\n",
       "    </tr>\n",
       "  </thead>\n",
       "  <tbody>\n",
       "    <tr>\n",
       "      <th>city</th>\n",
       "      <td>NaN</td>\n",
       "      <td>Lahore</td>\n",
       "    </tr>\n",
       "    <tr>\n",
       "      <th>class</th>\n",
       "      <td>12</td>\n",
       "      <td>10</td>\n",
       "    </tr>\n",
       "    <tr>\n",
       "      <th>id</th>\n",
       "      <td>F2019027044</td>\n",
       "      <td>F2019027004</td>\n",
       "    </tr>\n",
       "    <tr>\n",
       "      <th>name</th>\n",
       "      <td>Muzamil</td>\n",
       "      <td>Abdullah</td>\n",
       "    </tr>\n",
       "  </tbody>\n",
       "</table>\n",
       "</div>"
      ],
      "text/plain": [
       "               S-2          S-3\n",
       "city           NaN       Lahore\n",
       "class           12           10\n",
       "id     F2019027044  F2019027004\n",
       "name       Muzamil     Abdullah"
      ]
     },
     "execution_count": 317,
     "metadata": {},
     "output_type": "execute_result"
    }
   ],
   "source": [
    "dataFrame2"
   ]
  },
  {
   "cell_type": "markdown",
   "metadata": {},
   "source": [
    "<font color='#094B91'>Remove column 'S-3' using pop method </font>"
   ]
  },
  {
   "cell_type": "code",
   "execution_count": 318,
   "metadata": {},
   "outputs": [],
   "source": [
    "S1 = dataFrame2.pop('S-3')"
   ]
  },
  {
   "cell_type": "code",
   "execution_count": 319,
   "metadata": {},
   "outputs": [
    {
     "data": {
      "text/plain": [
       "city          Lahore\n",
       "class             10\n",
       "id       F2019027004\n",
       "name        Abdullah\n",
       "Name: S-3, dtype: object"
      ]
     },
     "execution_count": 319,
     "metadata": {},
     "output_type": "execute_result"
    }
   ],
   "source": [
    "S1"
   ]
  },
  {
   "cell_type": "code",
   "execution_count": 320,
   "metadata": {},
   "outputs": [
    {
     "data": {
      "text/html": [
       "<div>\n",
       "<style scoped>\n",
       "    .dataframe tbody tr th:only-of-type {\n",
       "        vertical-align: middle;\n",
       "    }\n",
       "\n",
       "    .dataframe tbody tr th {\n",
       "        vertical-align: top;\n",
       "    }\n",
       "\n",
       "    .dataframe thead th {\n",
       "        text-align: right;\n",
       "    }\n",
       "</style>\n",
       "<table border=\"1\" class=\"dataframe\">\n",
       "  <thead>\n",
       "    <tr style=\"text-align: right;\">\n",
       "      <th></th>\n",
       "      <th>S-2</th>\n",
       "    </tr>\n",
       "  </thead>\n",
       "  <tbody>\n",
       "    <tr>\n",
       "      <th>city</th>\n",
       "      <td>NaN</td>\n",
       "    </tr>\n",
       "    <tr>\n",
       "      <th>class</th>\n",
       "      <td>12</td>\n",
       "    </tr>\n",
       "    <tr>\n",
       "      <th>id</th>\n",
       "      <td>F2019027044</td>\n",
       "    </tr>\n",
       "    <tr>\n",
       "      <th>name</th>\n",
       "      <td>Muzamil</td>\n",
       "    </tr>\n",
       "  </tbody>\n",
       "</table>\n",
       "</div>"
      ],
      "text/plain": [
       "               S-2\n",
       "city           NaN\n",
       "class           12\n",
       "id     F2019027044\n",
       "name       Muzamil"
      ]
     },
     "execution_count": 320,
     "metadata": {},
     "output_type": "execute_result"
    }
   ],
   "source": [
    "dataFrame2"
   ]
  },
  {
   "cell_type": "markdown",
   "metadata": {},
   "source": [
    "<font color='#094B91'>Create a new nolumn name 'NoN' and assign a string sclar value 'NoN' in each cell (When inserting a scalar value, it will naturally be propagated to fill the column) </font>"
   ]
  },
  {
   "cell_type": "code",
   "execution_count": 321,
   "metadata": {},
   "outputs": [],
   "source": [
    "dataFrame2['NoN'] = 'NoN'"
   ]
  },
  {
   "cell_type": "code",
   "execution_count": 322,
   "metadata": {},
   "outputs": [
    {
     "data": {
      "text/html": [
       "<div>\n",
       "<style scoped>\n",
       "    .dataframe tbody tr th:only-of-type {\n",
       "        vertical-align: middle;\n",
       "    }\n",
       "\n",
       "    .dataframe tbody tr th {\n",
       "        vertical-align: top;\n",
       "    }\n",
       "\n",
       "    .dataframe thead th {\n",
       "        text-align: right;\n",
       "    }\n",
       "</style>\n",
       "<table border=\"1\" class=\"dataframe\">\n",
       "  <thead>\n",
       "    <tr style=\"text-align: right;\">\n",
       "      <th></th>\n",
       "      <th>S-2</th>\n",
       "      <th>NoN</th>\n",
       "    </tr>\n",
       "  </thead>\n",
       "  <tbody>\n",
       "    <tr>\n",
       "      <th>city</th>\n",
       "      <td>NaN</td>\n",
       "      <td>NoN</td>\n",
       "    </tr>\n",
       "    <tr>\n",
       "      <th>class</th>\n",
       "      <td>12</td>\n",
       "      <td>NoN</td>\n",
       "    </tr>\n",
       "    <tr>\n",
       "      <th>id</th>\n",
       "      <td>F2019027044</td>\n",
       "      <td>NoN</td>\n",
       "    </tr>\n",
       "    <tr>\n",
       "      <th>name</th>\n",
       "      <td>Muzamil</td>\n",
       "      <td>NoN</td>\n",
       "    </tr>\n",
       "  </tbody>\n",
       "</table>\n",
       "</div>"
      ],
      "text/plain": [
       "               S-2  NoN\n",
       "city           NaN  NoN\n",
       "class           12  NoN\n",
       "id     F2019027044  NoN\n",
       "name       Muzamil  NoN"
      ]
     },
     "execution_count": 322,
     "metadata": {},
     "output_type": "execute_result"
    }
   ],
   "source": [
    "dataFrame2"
   ]
  },
  {
   "cell_type": "markdown",
   "metadata": {},
   "source": [
    "<font color='#094B91'>In this example we use insert method By default columns get inserted at the end. The insert function is available to insert at a particular location in the columns. </font>"
   ]
  },
  {
   "cell_type": "code",
   "execution_count": 323,
   "metadata": {},
   "outputs": [],
   "source": [
    "dataFrame2.insert(2, 'S-4', dataFrame2['S-2'])"
   ]
  },
  {
   "cell_type": "code",
   "execution_count": 324,
   "metadata": {},
   "outputs": [
    {
     "data": {
      "text/html": [
       "<div>\n",
       "<style scoped>\n",
       "    .dataframe tbody tr th:only-of-type {\n",
       "        vertical-align: middle;\n",
       "    }\n",
       "\n",
       "    .dataframe tbody tr th {\n",
       "        vertical-align: top;\n",
       "    }\n",
       "\n",
       "    .dataframe thead th {\n",
       "        text-align: right;\n",
       "    }\n",
       "</style>\n",
       "<table border=\"1\" class=\"dataframe\">\n",
       "  <thead>\n",
       "    <tr style=\"text-align: right;\">\n",
       "      <th></th>\n",
       "      <th>S-2</th>\n",
       "      <th>NoN</th>\n",
       "      <th>S-4</th>\n",
       "    </tr>\n",
       "  </thead>\n",
       "  <tbody>\n",
       "    <tr>\n",
       "      <th>city</th>\n",
       "      <td>NaN</td>\n",
       "      <td>NoN</td>\n",
       "      <td>NaN</td>\n",
       "    </tr>\n",
       "    <tr>\n",
       "      <th>class</th>\n",
       "      <td>12</td>\n",
       "      <td>NoN</td>\n",
       "      <td>12</td>\n",
       "    </tr>\n",
       "    <tr>\n",
       "      <th>id</th>\n",
       "      <td>F2019027044</td>\n",
       "      <td>NoN</td>\n",
       "      <td>F2019027044</td>\n",
       "    </tr>\n",
       "    <tr>\n",
       "      <th>name</th>\n",
       "      <td>Muzamil</td>\n",
       "      <td>NoN</td>\n",
       "      <td>Muzamil</td>\n",
       "    </tr>\n",
       "  </tbody>\n",
       "</table>\n",
       "</div>"
      ],
      "text/plain": [
       "               S-2  NoN          S-4\n",
       "city           NaN  NoN          NaN\n",
       "class           12  NoN           12\n",
       "id     F2019027044  NoN  F2019027044\n",
       "name       Muzamil  NoN      Muzamil"
      ]
     },
     "execution_count": 324,
     "metadata": {},
     "output_type": "execute_result"
    }
   ],
   "source": [
    "dataFrame2"
   ]
  },
  {
   "cell_type": "markdown",
   "metadata": {},
   "source": [
    "<font color='#094B91'>Create a new nolumn name 'Less than 1' and assign value from column 'S-2' (assign value just 1st row). </font>"
   ]
  },
  {
   "cell_type": "code",
   "execution_count": 325,
   "metadata": {},
   "outputs": [],
   "source": [
    "dataFrame2['Less than 1'] = dataFrame2['S-2'][:1]"
   ]
  },
  {
   "cell_type": "code",
   "execution_count": 326,
   "metadata": {},
   "outputs": [
    {
     "data": {
      "text/html": [
       "<div>\n",
       "<style scoped>\n",
       "    .dataframe tbody tr th:only-of-type {\n",
       "        vertical-align: middle;\n",
       "    }\n",
       "\n",
       "    .dataframe tbody tr th {\n",
       "        vertical-align: top;\n",
       "    }\n",
       "\n",
       "    .dataframe thead th {\n",
       "        text-align: right;\n",
       "    }\n",
       "</style>\n",
       "<table border=\"1\" class=\"dataframe\">\n",
       "  <thead>\n",
       "    <tr style=\"text-align: right;\">\n",
       "      <th></th>\n",
       "      <th>S-2</th>\n",
       "      <th>NoN</th>\n",
       "      <th>S-4</th>\n",
       "      <th>Less than 1</th>\n",
       "    </tr>\n",
       "  </thead>\n",
       "  <tbody>\n",
       "    <tr>\n",
       "      <th>city</th>\n",
       "      <td>NaN</td>\n",
       "      <td>NoN</td>\n",
       "      <td>NaN</td>\n",
       "      <td>NaN</td>\n",
       "    </tr>\n",
       "    <tr>\n",
       "      <th>class</th>\n",
       "      <td>12</td>\n",
       "      <td>NoN</td>\n",
       "      <td>12</td>\n",
       "      <td>NaN</td>\n",
       "    </tr>\n",
       "    <tr>\n",
       "      <th>id</th>\n",
       "      <td>F2019027044</td>\n",
       "      <td>NoN</td>\n",
       "      <td>F2019027044</td>\n",
       "      <td>NaN</td>\n",
       "    </tr>\n",
       "    <tr>\n",
       "      <th>name</th>\n",
       "      <td>Muzamil</td>\n",
       "      <td>NoN</td>\n",
       "      <td>Muzamil</td>\n",
       "      <td>NaN</td>\n",
       "    </tr>\n",
       "  </tbody>\n",
       "</table>\n",
       "</div>"
      ],
      "text/plain": [
       "               S-2  NoN          S-4 Less than 1\n",
       "city           NaN  NoN          NaN         NaN\n",
       "class           12  NoN           12         NaN\n",
       "id     F2019027044  NoN  F2019027044         NaN\n",
       "name       Muzamil  NoN      Muzamil         NaN"
      ]
     },
     "execution_count": 326,
     "metadata": {},
     "output_type": "execute_result"
    }
   ],
   "source": [
    "dataFrame2"
   ]
  },
  {
   "cell_type": "markdown",
   "metadata": {},
   "source": [
    "# <font color='blue'>11.7 Indexing / Selection</font>\n",
    "- Row selection, for example, returns a Series whose index is the columns of the DataFrame:\n",
    "\n",
    "### <font color='orange'>Example 1:</font>\n",
    "\n",
    "<font color='#094B91'> In this example we pass the row name or lable that will show all column lablels and the data of that particular row.<font>"
   ]
  },
  {
   "cell_type": "code",
   "execution_count": 327,
   "metadata": {},
   "outputs": [
    {
     "data": {
      "text/plain": [
       "one              2\n",
       "bar2             2\n",
       "flag         False\n",
       "foo            bar\n",
       "one_trunc        2\n",
       "Name: b, dtype: object"
      ]
     },
     "execution_count": 327,
     "metadata": {},
     "output_type": "execute_result"
    }
   ],
   "source": [
    " df.loc['b'] #it will return the coloumn labels and values on row label 'b'"
   ]
  },
  {
   "cell_type": "markdown",
   "metadata": {},
   "source": [
    "<font color='#094B91'> In this example we pass the row index number and that will show all column lablels and the data of that particular row.<font>"
   ]
  },
  {
   "cell_type": "code",
   "execution_count": 328,
   "metadata": {},
   "outputs": [
    {
     "data": {
      "text/plain": [
       "one             3\n",
       "bar2            3\n",
       "flag         True\n",
       "foo           bar\n",
       "one_trunc     NaN\n",
       "Name: c, dtype: object"
      ]
     },
     "execution_count": 328,
     "metadata": {},
     "output_type": "execute_result"
    }
   ],
   "source": [
    " df.iloc[2] #it will return the values of those coloumns that is > than 2"
   ]
  },
  {
   "cell_type": "markdown",
   "metadata": {},
   "source": [
    "### <font color='orange'>Example 2:</font>\n",
    "\n",
    "<font color='#094B91'> In this example we pass the row name or lable that will show all column lablels and the data of that particular row.<font>"
   ]
  },
  {
   "cell_type": "code",
   "execution_count": 329,
   "metadata": {},
   "outputs": [
    {
     "data": {
      "text/plain": [
       "Rec_3          1000\n",
       "flg            True\n",
       "Rec_4          1000\n",
       "new             new\n",
       "Less than 5    1000\n",
       "Name: 1, dtype: object"
      ]
     },
     "execution_count": 329,
     "metadata": {},
     "output_type": "execute_result"
    }
   ],
   "source": [
    "dataFrame1.loc['1']"
   ]
  },
  {
   "cell_type": "markdown",
   "metadata": {},
   "source": [
    "<font color='#094B91'> In this example we pass the row index number and that will show all column lablels and the data of that particular row.<font>"
   ]
  },
  {
   "cell_type": "code",
   "execution_count": 330,
   "metadata": {},
   "outputs": [
    {
     "data": {
      "text/plain": [
       "Rec_3          9000\n",
       "flg            True\n",
       "Rec_4          9000\n",
       "new             new\n",
       "Less than 5     NaN\n",
       "Name: 3, dtype: object"
      ]
     },
     "execution_count": 330,
     "metadata": {},
     "output_type": "execute_result"
    }
   ],
   "source": [
    "dataFrame1.iloc[2]"
   ]
  },
  {
   "cell_type": "markdown",
   "metadata": {},
   "source": [
    "### <font color='orange'>Example 3:</font>\n",
    "\n",
    "<font color='#094B91'> In this example we pass the row name or lable that will show all column lablels and the data of that particular row.<font>"
   ]
  },
  {
   "cell_type": "code",
   "execution_count": 331,
   "metadata": {},
   "outputs": [
    {
     "data": {
      "text/plain": [
       "S-2            F2019027044\n",
       "NoN                    NoN\n",
       "S-4            F2019027044\n",
       "Less than 1            NaN\n",
       "Name: id, dtype: object"
      ]
     },
     "execution_count": 331,
     "metadata": {},
     "output_type": "execute_result"
    }
   ],
   "source": [
    "dataFrame2.loc['id']"
   ]
  },
  {
   "cell_type": "markdown",
   "metadata": {},
   "source": [
    "<font color='#094B91'> In this example we pass the row index number and that will show all column lablels and the data of that particular row.<font>"
   ]
  },
  {
   "cell_type": "code",
   "execution_count": 332,
   "metadata": {},
   "outputs": [
    {
     "data": {
      "text/plain": [
       "S-2             12\n",
       "NoN            NoN\n",
       "S-4             12\n",
       "Less than 1    NaN\n",
       "Name: class, dtype: object"
      ]
     },
     "execution_count": 332,
     "metadata": {},
     "output_type": "execute_result"
    }
   ],
   "source": [
    "dataFrame2.iloc[1]"
   ]
  },
  {
   "cell_type": "markdown",
   "metadata": {},
   "source": [
    "# <font color='blue'>11.8 Data alignment and arithmetic</font>\n",
    "- Data alignment between DataFrame objects automatically align on both the columns and the index (row labels).\n",
    "- Again, the resulting object will have the union of the column and row labels.\n",
    "\n",
    "### <font color='orange'>Example 1:</font>\n",
    "\n",
    "<font color='#094B91'> In this example we create a DataFrame using numpy randn method  and pass a list for column name.</font>"
   ]
  },
  {
   "cell_type": "code",
   "execution_count": 333,
   "metadata": {},
   "outputs": [
    {
     "data": {
      "text/html": [
       "<div>\n",
       "<style scoped>\n",
       "    .dataframe tbody tr th:only-of-type {\n",
       "        vertical-align: middle;\n",
       "    }\n",
       "\n",
       "    .dataframe tbody tr th {\n",
       "        vertical-align: top;\n",
       "    }\n",
       "\n",
       "    .dataframe thead th {\n",
       "        text-align: right;\n",
       "    }\n",
       "</style>\n",
       "<table border=\"1\" class=\"dataframe\">\n",
       "  <thead>\n",
       "    <tr style=\"text-align: right;\">\n",
       "      <th></th>\n",
       "      <th>A</th>\n",
       "      <th>B</th>\n",
       "      <th>C</th>\n",
       "      <th>D</th>\n",
       "    </tr>\n",
       "  </thead>\n",
       "  <tbody>\n",
       "    <tr>\n",
       "      <th>0</th>\n",
       "      <td>0.454414</td>\n",
       "      <td>0.869632</td>\n",
       "      <td>0.629025</td>\n",
       "      <td>-1.563904</td>\n",
       "    </tr>\n",
       "    <tr>\n",
       "      <th>1</th>\n",
       "      <td>-0.038653</td>\n",
       "      <td>0.815388</td>\n",
       "      <td>-0.835661</td>\n",
       "      <td>1.870703</td>\n",
       "    </tr>\n",
       "    <tr>\n",
       "      <th>2</th>\n",
       "      <td>-0.141952</td>\n",
       "      <td>0.168646</td>\n",
       "      <td>-0.250383</td>\n",
       "      <td>0.091371</td>\n",
       "    </tr>\n",
       "    <tr>\n",
       "      <th>3</th>\n",
       "      <td>-0.623582</td>\n",
       "      <td>-0.409516</td>\n",
       "      <td>1.253312</td>\n",
       "      <td>1.748251</td>\n",
       "    </tr>\n",
       "    <tr>\n",
       "      <th>4</th>\n",
       "      <td>-0.258193</td>\n",
       "      <td>-0.987086</td>\n",
       "      <td>1.269623</td>\n",
       "      <td>-0.638180</td>\n",
       "    </tr>\n",
       "    <tr>\n",
       "      <th>5</th>\n",
       "      <td>-0.216175</td>\n",
       "      <td>-0.498997</td>\n",
       "      <td>-0.907491</td>\n",
       "      <td>0.217602</td>\n",
       "    </tr>\n",
       "    <tr>\n",
       "      <th>6</th>\n",
       "      <td>1.087800</td>\n",
       "      <td>-1.234489</td>\n",
       "      <td>-0.987159</td>\n",
       "      <td>-0.115763</td>\n",
       "    </tr>\n",
       "    <tr>\n",
       "      <th>7</th>\n",
       "      <td>-1.903823</td>\n",
       "      <td>0.406977</td>\n",
       "      <td>-0.020797</td>\n",
       "      <td>-0.606282</td>\n",
       "    </tr>\n",
       "    <tr>\n",
       "      <th>8</th>\n",
       "      <td>-1.271719</td>\n",
       "      <td>-0.021579</td>\n",
       "      <td>0.651784</td>\n",
       "      <td>-0.688203</td>\n",
       "    </tr>\n",
       "    <tr>\n",
       "      <th>9</th>\n",
       "      <td>-1.224877</td>\n",
       "      <td>0.543407</td>\n",
       "      <td>1.163915</td>\n",
       "      <td>-0.975982</td>\n",
       "    </tr>\n",
       "  </tbody>\n",
       "</table>\n",
       "</div>"
      ],
      "text/plain": [
       "          A         B         C         D\n",
       "0  0.454414  0.869632  0.629025 -1.563904\n",
       "1 -0.038653  0.815388 -0.835661  1.870703\n",
       "2 -0.141952  0.168646 -0.250383  0.091371\n",
       "3 -0.623582 -0.409516  1.253312  1.748251\n",
       "4 -0.258193 -0.987086  1.269623 -0.638180\n",
       "5 -0.216175 -0.498997 -0.907491  0.217602\n",
       "6  1.087800 -1.234489 -0.987159 -0.115763\n",
       "7 -1.903823  0.406977 -0.020797 -0.606282\n",
       "8 -1.271719 -0.021579  0.651784 -0.688203\n",
       "9 -1.224877  0.543407  1.163915 -0.975982"
      ]
     },
     "execution_count": 333,
     "metadata": {},
     "output_type": "execute_result"
    }
   ],
   "source": [
    "df = pd.DataFrame(np.random.randn(10, 4), columns=['A', 'B', 'C', 'D'])\n",
    "df"
   ]
  },
  {
   "cell_type": "markdown",
   "metadata": {},
   "source": [
    "<font color='#094B91'> In this example we create one more DataFrame using numpy randn method  and pass a list for column name.</font>"
   ]
  },
  {
   "cell_type": "code",
   "execution_count": 334,
   "metadata": {},
   "outputs": [
    {
     "data": {
      "text/html": [
       "<div>\n",
       "<style scoped>\n",
       "    .dataframe tbody tr th:only-of-type {\n",
       "        vertical-align: middle;\n",
       "    }\n",
       "\n",
       "    .dataframe tbody tr th {\n",
       "        vertical-align: top;\n",
       "    }\n",
       "\n",
       "    .dataframe thead th {\n",
       "        text-align: right;\n",
       "    }\n",
       "</style>\n",
       "<table border=\"1\" class=\"dataframe\">\n",
       "  <thead>\n",
       "    <tr style=\"text-align: right;\">\n",
       "      <th></th>\n",
       "      <th>A</th>\n",
       "      <th>B</th>\n",
       "      <th>C</th>\n",
       "    </tr>\n",
       "  </thead>\n",
       "  <tbody>\n",
       "    <tr>\n",
       "      <th>0</th>\n",
       "      <td>-0.316552</td>\n",
       "      <td>-0.162348</td>\n",
       "      <td>-0.793885</td>\n",
       "    </tr>\n",
       "    <tr>\n",
       "      <th>1</th>\n",
       "      <td>0.183249</td>\n",
       "      <td>0.303758</td>\n",
       "      <td>-0.352811</td>\n",
       "    </tr>\n",
       "    <tr>\n",
       "      <th>2</th>\n",
       "      <td>1.144542</td>\n",
       "      <td>-0.457267</td>\n",
       "      <td>0.261080</td>\n",
       "    </tr>\n",
       "    <tr>\n",
       "      <th>3</th>\n",
       "      <td>-1.802497</td>\n",
       "      <td>-1.715060</td>\n",
       "      <td>-0.398883</td>\n",
       "    </tr>\n",
       "    <tr>\n",
       "      <th>4</th>\n",
       "      <td>-1.581108</td>\n",
       "      <td>1.177293</td>\n",
       "      <td>-1.424419</td>\n",
       "    </tr>\n",
       "    <tr>\n",
       "      <th>5</th>\n",
       "      <td>0.059318</td>\n",
       "      <td>0.816961</td>\n",
       "      <td>1.605450</td>\n",
       "    </tr>\n",
       "    <tr>\n",
       "      <th>6</th>\n",
       "      <td>0.254533</td>\n",
       "      <td>1.525032</td>\n",
       "      <td>-0.556702</td>\n",
       "    </tr>\n",
       "  </tbody>\n",
       "</table>\n",
       "</div>"
      ],
      "text/plain": [
       "          A         B         C\n",
       "0 -0.316552 -0.162348 -0.793885\n",
       "1  0.183249  0.303758 -0.352811\n",
       "2  1.144542 -0.457267  0.261080\n",
       "3 -1.802497 -1.715060 -0.398883\n",
       "4 -1.581108  1.177293 -1.424419\n",
       "5  0.059318  0.816961  1.605450\n",
       "6  0.254533  1.525032 -0.556702"
      ]
     },
     "execution_count": 334,
     "metadata": {},
     "output_type": "execute_result"
    }
   ],
   "source": [
    "df2 = pd.DataFrame(np.random.randn(7, 3), columns=['A', 'B', 'C'])\n",
    "df2"
   ]
  },
  {
   "cell_type": "markdown",
   "metadata": {},
   "source": [
    "<font color='#094B91'> Add DataFrame 1 and DataFrame 2</font>"
   ]
  },
  {
   "cell_type": "code",
   "execution_count": 335,
   "metadata": {},
   "outputs": [
    {
     "data": {
      "text/html": [
       "<div>\n",
       "<style scoped>\n",
       "    .dataframe tbody tr th:only-of-type {\n",
       "        vertical-align: middle;\n",
       "    }\n",
       "\n",
       "    .dataframe tbody tr th {\n",
       "        vertical-align: top;\n",
       "    }\n",
       "\n",
       "    .dataframe thead th {\n",
       "        text-align: right;\n",
       "    }\n",
       "</style>\n",
       "<table border=\"1\" class=\"dataframe\">\n",
       "  <thead>\n",
       "    <tr style=\"text-align: right;\">\n",
       "      <th></th>\n",
       "      <th>A</th>\n",
       "      <th>B</th>\n",
       "      <th>C</th>\n",
       "      <th>D</th>\n",
       "    </tr>\n",
       "  </thead>\n",
       "  <tbody>\n",
       "    <tr>\n",
       "      <th>0</th>\n",
       "      <td>0.137862</td>\n",
       "      <td>0.707284</td>\n",
       "      <td>-0.164860</td>\n",
       "      <td>NaN</td>\n",
       "    </tr>\n",
       "    <tr>\n",
       "      <th>1</th>\n",
       "      <td>0.144595</td>\n",
       "      <td>1.119146</td>\n",
       "      <td>-1.188472</td>\n",
       "      <td>NaN</td>\n",
       "    </tr>\n",
       "    <tr>\n",
       "      <th>2</th>\n",
       "      <td>1.002589</td>\n",
       "      <td>-0.288622</td>\n",
       "      <td>0.010697</td>\n",
       "      <td>NaN</td>\n",
       "    </tr>\n",
       "    <tr>\n",
       "      <th>3</th>\n",
       "      <td>-2.426078</td>\n",
       "      <td>-2.124576</td>\n",
       "      <td>0.854429</td>\n",
       "      <td>NaN</td>\n",
       "    </tr>\n",
       "    <tr>\n",
       "      <th>4</th>\n",
       "      <td>-1.839300</td>\n",
       "      <td>0.190206</td>\n",
       "      <td>-0.154796</td>\n",
       "      <td>NaN</td>\n",
       "    </tr>\n",
       "    <tr>\n",
       "      <th>5</th>\n",
       "      <td>-0.156857</td>\n",
       "      <td>0.317965</td>\n",
       "      <td>0.697960</td>\n",
       "      <td>NaN</td>\n",
       "    </tr>\n",
       "    <tr>\n",
       "      <th>6</th>\n",
       "      <td>1.342333</td>\n",
       "      <td>0.290543</td>\n",
       "      <td>-1.543861</td>\n",
       "      <td>NaN</td>\n",
       "    </tr>\n",
       "    <tr>\n",
       "      <th>7</th>\n",
       "      <td>NaN</td>\n",
       "      <td>NaN</td>\n",
       "      <td>NaN</td>\n",
       "      <td>NaN</td>\n",
       "    </tr>\n",
       "    <tr>\n",
       "      <th>8</th>\n",
       "      <td>NaN</td>\n",
       "      <td>NaN</td>\n",
       "      <td>NaN</td>\n",
       "      <td>NaN</td>\n",
       "    </tr>\n",
       "    <tr>\n",
       "      <th>9</th>\n",
       "      <td>NaN</td>\n",
       "      <td>NaN</td>\n",
       "      <td>NaN</td>\n",
       "      <td>NaN</td>\n",
       "    </tr>\n",
       "  </tbody>\n",
       "</table>\n",
       "</div>"
      ],
      "text/plain": [
       "          A         B         C   D\n",
       "0  0.137862  0.707284 -0.164860 NaN\n",
       "1  0.144595  1.119146 -1.188472 NaN\n",
       "2  1.002589 -0.288622  0.010697 NaN\n",
       "3 -2.426078 -2.124576  0.854429 NaN\n",
       "4 -1.839300  0.190206 -0.154796 NaN\n",
       "5 -0.156857  0.317965  0.697960 NaN\n",
       "6  1.342333  0.290543 -1.543861 NaN\n",
       "7       NaN       NaN       NaN NaN\n",
       "8       NaN       NaN       NaN NaN\n",
       "9       NaN       NaN       NaN NaN"
      ]
     },
     "execution_count": 335,
     "metadata": {},
     "output_type": "execute_result"
    }
   ],
   "source": [
    "df + df2 # add values of respective coloumn labels"
   ]
  },
  {
   "cell_type": "markdown",
   "metadata": {},
   "source": [
    "<font color='#094B91'> When doing an operation between DataFrame and Series, the default behavior is to align the Series index on the DataFrame columns.</font>\n"
   ]
  },
  {
   "cell_type": "code",
   "execution_count": 336,
   "metadata": {},
   "outputs": [
    {
     "data": {
      "text/html": [
       "<div>\n",
       "<style scoped>\n",
       "    .dataframe tbody tr th:only-of-type {\n",
       "        vertical-align: middle;\n",
       "    }\n",
       "\n",
       "    .dataframe tbody tr th {\n",
       "        vertical-align: top;\n",
       "    }\n",
       "\n",
       "    .dataframe thead th {\n",
       "        text-align: right;\n",
       "    }\n",
       "</style>\n",
       "<table border=\"1\" class=\"dataframe\">\n",
       "  <thead>\n",
       "    <tr style=\"text-align: right;\">\n",
       "      <th></th>\n",
       "      <th>A</th>\n",
       "      <th>B</th>\n",
       "      <th>C</th>\n",
       "      <th>D</th>\n",
       "    </tr>\n",
       "  </thead>\n",
       "  <tbody>\n",
       "    <tr>\n",
       "      <th>0</th>\n",
       "      <td>0.000000</td>\n",
       "      <td>0.000000</td>\n",
       "      <td>0.000000</td>\n",
       "      <td>0.000000</td>\n",
       "    </tr>\n",
       "    <tr>\n",
       "      <th>1</th>\n",
       "      <td>-0.493068</td>\n",
       "      <td>-0.054244</td>\n",
       "      <td>-1.464686</td>\n",
       "      <td>3.434608</td>\n",
       "    </tr>\n",
       "    <tr>\n",
       "      <th>2</th>\n",
       "      <td>-0.596367</td>\n",
       "      <td>-0.700987</td>\n",
       "      <td>-0.879408</td>\n",
       "      <td>1.655275</td>\n",
       "    </tr>\n",
       "    <tr>\n",
       "      <th>3</th>\n",
       "      <td>-1.077996</td>\n",
       "      <td>-1.279148</td>\n",
       "      <td>0.624287</td>\n",
       "      <td>3.312155</td>\n",
       "    </tr>\n",
       "    <tr>\n",
       "      <th>4</th>\n",
       "      <td>-0.712607</td>\n",
       "      <td>-1.856719</td>\n",
       "      <td>0.640598</td>\n",
       "      <td>0.925724</td>\n",
       "    </tr>\n",
       "    <tr>\n",
       "      <th>5</th>\n",
       "      <td>-0.670590</td>\n",
       "      <td>-1.368629</td>\n",
       "      <td>-1.536516</td>\n",
       "      <td>1.781507</td>\n",
       "    </tr>\n",
       "    <tr>\n",
       "      <th>6</th>\n",
       "      <td>0.633385</td>\n",
       "      <td>-2.104121</td>\n",
       "      <td>-1.616184</td>\n",
       "      <td>1.448141</td>\n",
       "    </tr>\n",
       "    <tr>\n",
       "      <th>7</th>\n",
       "      <td>-2.358237</td>\n",
       "      <td>-0.462656</td>\n",
       "      <td>-0.649822</td>\n",
       "      <td>0.957622</td>\n",
       "    </tr>\n",
       "    <tr>\n",
       "      <th>8</th>\n",
       "      <td>-1.726133</td>\n",
       "      <td>-0.891211</td>\n",
       "      <td>0.022759</td>\n",
       "      <td>0.875701</td>\n",
       "    </tr>\n",
       "    <tr>\n",
       "      <th>9</th>\n",
       "      <td>-1.679291</td>\n",
       "      <td>-0.326225</td>\n",
       "      <td>0.534890</td>\n",
       "      <td>0.587922</td>\n",
       "    </tr>\n",
       "  </tbody>\n",
       "</table>\n",
       "</div>"
      ],
      "text/plain": [
       "          A         B         C         D\n",
       "0  0.000000  0.000000  0.000000  0.000000\n",
       "1 -0.493068 -0.054244 -1.464686  3.434608\n",
       "2 -0.596367 -0.700987 -0.879408  1.655275\n",
       "3 -1.077996 -1.279148  0.624287  3.312155\n",
       "4 -0.712607 -1.856719  0.640598  0.925724\n",
       "5 -0.670590 -1.368629 -1.536516  1.781507\n",
       "6  0.633385 -2.104121 -1.616184  1.448141\n",
       "7 -2.358237 -0.462656 -0.649822  0.957622\n",
       "8 -1.726133 -0.891211  0.022759  0.875701\n",
       "9 -1.679291 -0.326225  0.534890  0.587922"
      ]
     },
     "execution_count": 336,
     "metadata": {},
     "output_type": "execute_result"
    }
   ],
   "source": [
    "df - df.iloc[0]"
   ]
  },
  {
   "cell_type": "markdown",
   "metadata": {},
   "source": [
    "<font color='#094B91'> Add 5 + 2 in each cell of DataFrame</font>"
   ]
  },
  {
   "cell_type": "code",
   "execution_count": 337,
   "metadata": {},
   "outputs": [
    {
     "data": {
      "text/html": [
       "<div>\n",
       "<style scoped>\n",
       "    .dataframe tbody tr th:only-of-type {\n",
       "        vertical-align: middle;\n",
       "    }\n",
       "\n",
       "    .dataframe tbody tr th {\n",
       "        vertical-align: top;\n",
       "    }\n",
       "\n",
       "    .dataframe thead th {\n",
       "        text-align: right;\n",
       "    }\n",
       "</style>\n",
       "<table border=\"1\" class=\"dataframe\">\n",
       "  <thead>\n",
       "    <tr style=\"text-align: right;\">\n",
       "      <th></th>\n",
       "      <th>A</th>\n",
       "      <th>B</th>\n",
       "      <th>C</th>\n",
       "      <th>D</th>\n",
       "    </tr>\n",
       "  </thead>\n",
       "  <tbody>\n",
       "    <tr>\n",
       "      <th>0</th>\n",
       "      <td>4.272072</td>\n",
       "      <td>6.348161</td>\n",
       "      <td>5.145125</td>\n",
       "      <td>-5.819520</td>\n",
       "    </tr>\n",
       "    <tr>\n",
       "      <th>1</th>\n",
       "      <td>1.806733</td>\n",
       "      <td>6.076941</td>\n",
       "      <td>-2.178304</td>\n",
       "      <td>11.353517</td>\n",
       "    </tr>\n",
       "    <tr>\n",
       "      <th>2</th>\n",
       "      <td>1.290240</td>\n",
       "      <td>2.843228</td>\n",
       "      <td>0.748087</td>\n",
       "      <td>2.456856</td>\n",
       "    </tr>\n",
       "    <tr>\n",
       "      <th>3</th>\n",
       "      <td>-1.117909</td>\n",
       "      <td>-0.047580</td>\n",
       "      <td>8.266560</td>\n",
       "      <td>10.741255</td>\n",
       "    </tr>\n",
       "    <tr>\n",
       "      <th>4</th>\n",
       "      <td>0.709037</td>\n",
       "      <td>-2.935432</td>\n",
       "      <td>8.348117</td>\n",
       "      <td>-1.190899</td>\n",
       "    </tr>\n",
       "    <tr>\n",
       "      <th>5</th>\n",
       "      <td>0.919124</td>\n",
       "      <td>-0.494983</td>\n",
       "      <td>-2.537453</td>\n",
       "      <td>3.088012</td>\n",
       "    </tr>\n",
       "    <tr>\n",
       "      <th>6</th>\n",
       "      <td>7.438998</td>\n",
       "      <td>-4.172446</td>\n",
       "      <td>-2.935795</td>\n",
       "      <td>1.421186</td>\n",
       "    </tr>\n",
       "    <tr>\n",
       "      <th>7</th>\n",
       "      <td>-7.519113</td>\n",
       "      <td>4.034883</td>\n",
       "      <td>1.896014</td>\n",
       "      <td>-1.031409</td>\n",
       "    </tr>\n",
       "    <tr>\n",
       "      <th>8</th>\n",
       "      <td>-4.358593</td>\n",
       "      <td>1.892106</td>\n",
       "      <td>5.258918</td>\n",
       "      <td>-1.441013</td>\n",
       "    </tr>\n",
       "    <tr>\n",
       "      <th>9</th>\n",
       "      <td>-4.124383</td>\n",
       "      <td>4.717033</td>\n",
       "      <td>7.819577</td>\n",
       "      <td>-2.879910</td>\n",
       "    </tr>\n",
       "  </tbody>\n",
       "</table>\n",
       "</div>"
      ],
      "text/plain": [
       "          A         B         C          D\n",
       "0  4.272072  6.348161  5.145125  -5.819520\n",
       "1  1.806733  6.076941 -2.178304  11.353517\n",
       "2  1.290240  2.843228  0.748087   2.456856\n",
       "3 -1.117909 -0.047580  8.266560  10.741255\n",
       "4  0.709037 -2.935432  8.348117  -1.190899\n",
       "5  0.919124 -0.494983 -2.537453   3.088012\n",
       "6  7.438998 -4.172446 -2.935795   1.421186\n",
       "7 -7.519113  4.034883  1.896014  -1.031409\n",
       "8 -4.358593  1.892106  5.258918  -1.441013\n",
       "9 -4.124383  4.717033  7.819577  -2.879910"
      ]
     },
     "execution_count": 337,
     "metadata": {},
     "output_type": "execute_result"
    }
   ],
   "source": [
    "df * 5 + 2"
   ]
  },
  {
   "cell_type": "markdown",
   "metadata": {},
   "source": [
    "<font color='#094B91'> Each of DataFrame devide by 1</font>"
   ]
  },
  {
   "cell_type": "code",
   "execution_count": 338,
   "metadata": {},
   "outputs": [
    {
     "data": {
      "text/html": [
       "<div>\n",
       "<style scoped>\n",
       "    .dataframe tbody tr th:only-of-type {\n",
       "        vertical-align: middle;\n",
       "    }\n",
       "\n",
       "    .dataframe tbody tr th {\n",
       "        vertical-align: top;\n",
       "    }\n",
       "\n",
       "    .dataframe thead th {\n",
       "        text-align: right;\n",
       "    }\n",
       "</style>\n",
       "<table border=\"1\" class=\"dataframe\">\n",
       "  <thead>\n",
       "    <tr style=\"text-align: right;\">\n",
       "      <th></th>\n",
       "      <th>A</th>\n",
       "      <th>B</th>\n",
       "      <th>C</th>\n",
       "      <th>D</th>\n",
       "    </tr>\n",
       "  </thead>\n",
       "  <tbody>\n",
       "    <tr>\n",
       "      <th>0</th>\n",
       "      <td>2.200634</td>\n",
       "      <td>1.149911</td>\n",
       "      <td>1.589762</td>\n",
       "      <td>-0.639425</td>\n",
       "    </tr>\n",
       "    <tr>\n",
       "      <th>1</th>\n",
       "      <td>-25.870975</td>\n",
       "      <td>1.226410</td>\n",
       "      <td>-1.196658</td>\n",
       "      <td>0.534558</td>\n",
       "    </tr>\n",
       "    <tr>\n",
       "      <th>2</th>\n",
       "      <td>-7.044631</td>\n",
       "      <td>5.929598</td>\n",
       "      <td>-3.993888</td>\n",
       "      <td>10.944377</td>\n",
       "    </tr>\n",
       "    <tr>\n",
       "      <th>3</th>\n",
       "      <td>-1.603639</td>\n",
       "      <td>-2.441907</td>\n",
       "      <td>0.797886</td>\n",
       "      <td>0.572000</td>\n",
       "    </tr>\n",
       "    <tr>\n",
       "      <th>4</th>\n",
       "      <td>-3.873077</td>\n",
       "      <td>-1.013083</td>\n",
       "      <td>0.787635</td>\n",
       "      <td>-1.566957</td>\n",
       "    </tr>\n",
       "    <tr>\n",
       "      <th>5</th>\n",
       "      <td>-4.625876</td>\n",
       "      <td>-2.004022</td>\n",
       "      <td>-1.101940</td>\n",
       "      <td>4.595536</td>\n",
       "    </tr>\n",
       "    <tr>\n",
       "      <th>6</th>\n",
       "      <td>0.919287</td>\n",
       "      <td>-0.810052</td>\n",
       "      <td>-1.013008</td>\n",
       "      <td>-8.638358</td>\n",
       "    </tr>\n",
       "    <tr>\n",
       "      <th>7</th>\n",
       "      <td>-0.525259</td>\n",
       "      <td>2.457144</td>\n",
       "      <td>-48.083606</td>\n",
       "      <td>-1.649398</td>\n",
       "    </tr>\n",
       "    <tr>\n",
       "      <th>8</th>\n",
       "      <td>-0.786337</td>\n",
       "      <td>-46.341754</td>\n",
       "      <td>1.534252</td>\n",
       "      <td>-1.453060</td>\n",
       "    </tr>\n",
       "    <tr>\n",
       "      <th>9</th>\n",
       "      <td>-0.816409</td>\n",
       "      <td>1.840242</td>\n",
       "      <td>0.859169</td>\n",
       "      <td>-1.024609</td>\n",
       "    </tr>\n",
       "  </tbody>\n",
       "</table>\n",
       "</div>"
      ],
      "text/plain": [
       "           A          B          C          D\n",
       "0   2.200634   1.149911   1.589762  -0.639425\n",
       "1 -25.870975   1.226410  -1.196658   0.534558\n",
       "2  -7.044631   5.929598  -3.993888  10.944377\n",
       "3  -1.603639  -2.441907   0.797886   0.572000\n",
       "4  -3.873077  -1.013083   0.787635  -1.566957\n",
       "5  -4.625876  -2.004022  -1.101940   4.595536\n",
       "6   0.919287  -0.810052  -1.013008  -8.638358\n",
       "7  -0.525259   2.457144 -48.083606  -1.649398\n",
       "8  -0.786337 -46.341754   1.534252  -1.453060\n",
       "9  -0.816409   1.840242   0.859169  -1.024609"
      ]
     },
     "execution_count": 338,
     "metadata": {},
     "output_type": "execute_result"
    }
   ],
   "source": [
    " 1 / df"
   ]
  },
  {
   "cell_type": "markdown",
   "metadata": {},
   "source": [
    "<font color='#094B91'> Take exponential with each cell of DataFrame</font>"
   ]
  },
  {
   "cell_type": "code",
   "execution_count": 339,
   "metadata": {},
   "outputs": [
    {
     "data": {
      "text/html": [
       "<div>\n",
       "<style scoped>\n",
       "    .dataframe tbody tr th:only-of-type {\n",
       "        vertical-align: middle;\n",
       "    }\n",
       "\n",
       "    .dataframe tbody tr th {\n",
       "        vertical-align: top;\n",
       "    }\n",
       "\n",
       "    .dataframe thead th {\n",
       "        text-align: right;\n",
       "    }\n",
       "</style>\n",
       "<table border=\"1\" class=\"dataframe\">\n",
       "  <thead>\n",
       "    <tr style=\"text-align: right;\">\n",
       "      <th></th>\n",
       "      <th>A</th>\n",
       "      <th>B</th>\n",
       "      <th>C</th>\n",
       "      <th>D</th>\n",
       "    </tr>\n",
       "  </thead>\n",
       "  <tbody>\n",
       "    <tr>\n",
       "      <th>0</th>\n",
       "      <td>0.042639</td>\n",
       "      <td>5.719293e-01</td>\n",
       "      <td>1.565567e-01</td>\n",
       "      <td>5.981918</td>\n",
       "    </tr>\n",
       "    <tr>\n",
       "      <th>1</th>\n",
       "      <td>0.000002</td>\n",
       "      <td>4.420362e-01</td>\n",
       "      <td>4.876635e-01</td>\n",
       "      <td>12.246721</td>\n",
       "    </tr>\n",
       "    <tr>\n",
       "      <th>2</th>\n",
       "      <td>0.000406</td>\n",
       "      <td>8.089080e-04</td>\n",
       "      <td>3.930218e-03</td>\n",
       "      <td>0.000070</td>\n",
       "    </tr>\n",
       "    <tr>\n",
       "      <th>3</th>\n",
       "      <td>0.151208</td>\n",
       "      <td>2.812443e-02</td>\n",
       "      <td>2.467385e+00</td>\n",
       "      <td>9.341467</td>\n",
       "    </tr>\n",
       "    <tr>\n",
       "      <th>4</th>\n",
       "      <td>0.004444</td>\n",
       "      <td>9.493377e-01</td>\n",
       "      <td>2.598361e+00</td>\n",
       "      <td>0.165872</td>\n",
       "    </tr>\n",
       "    <tr>\n",
       "      <th>5</th>\n",
       "      <td>0.002184</td>\n",
       "      <td>6.199978e-02</td>\n",
       "      <td>6.782171e-01</td>\n",
       "      <td>0.002242</td>\n",
       "    </tr>\n",
       "    <tr>\n",
       "      <th>6</th>\n",
       "      <td>1.400218</td>\n",
       "      <td>2.322465e+00</td>\n",
       "      <td>9.496166e-01</td>\n",
       "      <td>0.000180</td>\n",
       "    </tr>\n",
       "    <tr>\n",
       "      <th>7</th>\n",
       "      <td>13.137292</td>\n",
       "      <td>2.743326e-02</td>\n",
       "      <td>1.870733e-07</td>\n",
       "      <td>0.135113</td>\n",
       "    </tr>\n",
       "    <tr>\n",
       "      <th>8</th>\n",
       "      <td>2.615556</td>\n",
       "      <td>2.168254e-07</td>\n",
       "      <td>1.804736e-01</td>\n",
       "      <td>0.224319</td>\n",
       "    </tr>\n",
       "    <tr>\n",
       "      <th>9</th>\n",
       "      <td>2.250969</td>\n",
       "      <td>8.719665e-02</td>\n",
       "      <td>1.835210e+00</td>\n",
       "      <td>0.907334</td>\n",
       "    </tr>\n",
       "  </tbody>\n",
       "</table>\n",
       "</div>"
      ],
      "text/plain": [
       "           A             B             C          D\n",
       "0   0.042639  5.719293e-01  1.565567e-01   5.981918\n",
       "1   0.000002  4.420362e-01  4.876635e-01  12.246721\n",
       "2   0.000406  8.089080e-04  3.930218e-03   0.000070\n",
       "3   0.151208  2.812443e-02  2.467385e+00   9.341467\n",
       "4   0.004444  9.493377e-01  2.598361e+00   0.165872\n",
       "5   0.002184  6.199978e-02  6.782171e-01   0.002242\n",
       "6   1.400218  2.322465e+00  9.496166e-01   0.000180\n",
       "7  13.137292  2.743326e-02  1.870733e-07   0.135113\n",
       "8   2.615556  2.168254e-07  1.804736e-01   0.224319\n",
       "9   2.250969  8.719665e-02  1.835210e+00   0.907334"
      ]
     },
     "execution_count": 339,
     "metadata": {},
     "output_type": "execute_result"
    }
   ],
   "source": [
    " df ** 4"
   ]
  },
  {
   "cell_type": "markdown",
   "metadata": {},
   "source": [
    "<font color='#094B91'> Create a new DataFrame of booluan data type</font>"
   ]
  },
  {
   "cell_type": "code",
   "execution_count": 340,
   "metadata": {},
   "outputs": [],
   "source": [
    "df1 = pd.DataFrame({'a' : [1, 0, 1], 'b' : [0, 1, 1] }, dtype=bool)"
   ]
  },
  {
   "cell_type": "code",
   "execution_count": 341,
   "metadata": {},
   "outputs": [
    {
     "data": {
      "text/html": [
       "<div>\n",
       "<style scoped>\n",
       "    .dataframe tbody tr th:only-of-type {\n",
       "        vertical-align: middle;\n",
       "    }\n",
       "\n",
       "    .dataframe tbody tr th {\n",
       "        vertical-align: top;\n",
       "    }\n",
       "\n",
       "    .dataframe thead th {\n",
       "        text-align: right;\n",
       "    }\n",
       "</style>\n",
       "<table border=\"1\" class=\"dataframe\">\n",
       "  <thead>\n",
       "    <tr style=\"text-align: right;\">\n",
       "      <th></th>\n",
       "      <th>a</th>\n",
       "      <th>b</th>\n",
       "    </tr>\n",
       "  </thead>\n",
       "  <tbody>\n",
       "    <tr>\n",
       "      <th>0</th>\n",
       "      <td>True</td>\n",
       "      <td>False</td>\n",
       "    </tr>\n",
       "    <tr>\n",
       "      <th>1</th>\n",
       "      <td>False</td>\n",
       "      <td>True</td>\n",
       "    </tr>\n",
       "    <tr>\n",
       "      <th>2</th>\n",
       "      <td>True</td>\n",
       "      <td>True</td>\n",
       "    </tr>\n",
       "  </tbody>\n",
       "</table>\n",
       "</div>"
      ],
      "text/plain": [
       "       a      b\n",
       "0   True  False\n",
       "1  False   True\n",
       "2   True   True"
      ]
     },
     "execution_count": 341,
     "metadata": {},
     "output_type": "execute_result"
    }
   ],
   "source": [
    "df1"
   ]
  },
  {
   "cell_type": "markdown",
   "metadata": {},
   "source": [
    "<font color='#094B91'> Create one more DataFrame of boolian data type</font>"
   ]
  },
  {
   "cell_type": "code",
   "execution_count": 342,
   "metadata": {},
   "outputs": [],
   "source": [
    "df2 = pd.DataFrame({'a' : [0, 1, 1], 'b' : [1, 1, 0] }, dtype=bool)"
   ]
  },
  {
   "cell_type": "code",
   "execution_count": 343,
   "metadata": {},
   "outputs": [
    {
     "data": {
      "text/html": [
       "<div>\n",
       "<style scoped>\n",
       "    .dataframe tbody tr th:only-of-type {\n",
       "        vertical-align: middle;\n",
       "    }\n",
       "\n",
       "    .dataframe tbody tr th {\n",
       "        vertical-align: top;\n",
       "    }\n",
       "\n",
       "    .dataframe thead th {\n",
       "        text-align: right;\n",
       "    }\n",
       "</style>\n",
       "<table border=\"1\" class=\"dataframe\">\n",
       "  <thead>\n",
       "    <tr style=\"text-align: right;\">\n",
       "      <th></th>\n",
       "      <th>a</th>\n",
       "      <th>b</th>\n",
       "    </tr>\n",
       "  </thead>\n",
       "  <tbody>\n",
       "    <tr>\n",
       "      <th>0</th>\n",
       "      <td>False</td>\n",
       "      <td>True</td>\n",
       "    </tr>\n",
       "    <tr>\n",
       "      <th>1</th>\n",
       "      <td>True</td>\n",
       "      <td>True</td>\n",
       "    </tr>\n",
       "    <tr>\n",
       "      <th>2</th>\n",
       "      <td>True</td>\n",
       "      <td>False</td>\n",
       "    </tr>\n",
       "  </tbody>\n",
       "</table>\n",
       "</div>"
      ],
      "text/plain": [
       "       a      b\n",
       "0  False   True\n",
       "1   True   True\n",
       "2   True  False"
      ]
     },
     "execution_count": 343,
     "metadata": {},
     "output_type": "execute_result"
    }
   ],
   "source": [
    "df2"
   ]
  },
  {
   "cell_type": "code",
   "execution_count": 344,
   "metadata": {},
   "outputs": [
    {
     "data": {
      "text/html": [
       "<div>\n",
       "<style scoped>\n",
       "    .dataframe tbody tr th:only-of-type {\n",
       "        vertical-align: middle;\n",
       "    }\n",
       "\n",
       "    .dataframe tbody tr th {\n",
       "        vertical-align: top;\n",
       "    }\n",
       "\n",
       "    .dataframe thead th {\n",
       "        text-align: right;\n",
       "    }\n",
       "</style>\n",
       "<table border=\"1\" class=\"dataframe\">\n",
       "  <thead>\n",
       "    <tr style=\"text-align: right;\">\n",
       "      <th></th>\n",
       "      <th>a</th>\n",
       "      <th>b</th>\n",
       "    </tr>\n",
       "  </thead>\n",
       "  <tbody>\n",
       "    <tr>\n",
       "      <th>0</th>\n",
       "      <td>False</td>\n",
       "      <td>True</td>\n",
       "    </tr>\n",
       "    <tr>\n",
       "      <th>1</th>\n",
       "      <td>True</td>\n",
       "      <td>True</td>\n",
       "    </tr>\n",
       "    <tr>\n",
       "      <th>2</th>\n",
       "      <td>True</td>\n",
       "      <td>False</td>\n",
       "    </tr>\n",
       "  </tbody>\n",
       "</table>\n",
       "</div>"
      ],
      "text/plain": [
       "       a      b\n",
       "0  False   True\n",
       "1   True   True\n",
       "2   True  False"
      ]
     },
     "execution_count": 344,
     "metadata": {},
     "output_type": "execute_result"
    }
   ],
   "source": [
    "pd.DataFrame({'a' : [0, 1, 1], 'b' : [1, 1, 0] }, dtype=bool)"
   ]
  },
  {
   "cell_type": "code",
   "execution_count": 345,
   "metadata": {},
   "outputs": [
    {
     "data": {
      "text/html": [
       "<div>\n",
       "<style scoped>\n",
       "    .dataframe tbody tr th:only-of-type {\n",
       "        vertical-align: middle;\n",
       "    }\n",
       "\n",
       "    .dataframe tbody tr th {\n",
       "        vertical-align: top;\n",
       "    }\n",
       "\n",
       "    .dataframe thead th {\n",
       "        text-align: right;\n",
       "    }\n",
       "</style>\n",
       "<table border=\"1\" class=\"dataframe\">\n",
       "  <thead>\n",
       "    <tr style=\"text-align: right;\">\n",
       "      <th></th>\n",
       "      <th>a</th>\n",
       "      <th>b</th>\n",
       "    </tr>\n",
       "  </thead>\n",
       "  <tbody>\n",
       "    <tr>\n",
       "      <th>0</th>\n",
       "      <td>False</td>\n",
       "      <td>True</td>\n",
       "    </tr>\n",
       "    <tr>\n",
       "      <th>1</th>\n",
       "      <td>True</td>\n",
       "      <td>True</td>\n",
       "    </tr>\n",
       "    <tr>\n",
       "      <th>2</th>\n",
       "      <td>True</td>\n",
       "      <td>False</td>\n",
       "    </tr>\n",
       "  </tbody>\n",
       "</table>\n",
       "</div>"
      ],
      "text/plain": [
       "       a      b\n",
       "0  False   True\n",
       "1   True   True\n",
       "2   True  False"
      ]
     },
     "execution_count": 345,
     "metadata": {},
     "output_type": "execute_result"
    }
   ],
   "source": [
    "pd.DataFrame({'a' : [0, 1, 1], 'b' : [1, 1, 0] }, dtype=bool)"
   ]
  },
  {
   "cell_type": "markdown",
   "metadata": {},
   "source": [
    "<font color='#094B91'> Or Operation between two bool type DataFrame</font>"
   ]
  },
  {
   "cell_type": "code",
   "execution_count": 346,
   "metadata": {},
   "outputs": [
    {
     "data": {
      "text/html": [
       "<div>\n",
       "<style scoped>\n",
       "    .dataframe tbody tr th:only-of-type {\n",
       "        vertical-align: middle;\n",
       "    }\n",
       "\n",
       "    .dataframe tbody tr th {\n",
       "        vertical-align: top;\n",
       "    }\n",
       "\n",
       "    .dataframe thead th {\n",
       "        text-align: right;\n",
       "    }\n",
       "</style>\n",
       "<table border=\"1\" class=\"dataframe\">\n",
       "  <thead>\n",
       "    <tr style=\"text-align: right;\">\n",
       "      <th></th>\n",
       "      <th>a</th>\n",
       "      <th>b</th>\n",
       "    </tr>\n",
       "  </thead>\n",
       "  <tbody>\n",
       "    <tr>\n",
       "      <th>0</th>\n",
       "      <td>True</td>\n",
       "      <td>True</td>\n",
       "    </tr>\n",
       "    <tr>\n",
       "      <th>1</th>\n",
       "      <td>True</td>\n",
       "      <td>True</td>\n",
       "    </tr>\n",
       "    <tr>\n",
       "      <th>2</th>\n",
       "      <td>True</td>\n",
       "      <td>True</td>\n",
       "    </tr>\n",
       "  </tbody>\n",
       "</table>\n",
       "</div>"
      ],
      "text/plain": [
       "      a     b\n",
       "0  True  True\n",
       "1  True  True\n",
       "2  True  True"
      ]
     },
     "execution_count": 346,
     "metadata": {},
     "output_type": "execute_result"
    }
   ],
   "source": [
    " df1 | df2 # or operator"
   ]
  },
  {
   "cell_type": "markdown",
   "metadata": {},
   "source": [
    "<font color='#094B91'> Reverce Or Operation between two bool type DataFrame</font>"
   ]
  },
  {
   "cell_type": "code",
   "execution_count": 347,
   "metadata": {},
   "outputs": [
    {
     "data": {
      "text/html": [
       "<div>\n",
       "<style scoped>\n",
       "    .dataframe tbody tr th:only-of-type {\n",
       "        vertical-align: middle;\n",
       "    }\n",
       "\n",
       "    .dataframe tbody tr th {\n",
       "        vertical-align: top;\n",
       "    }\n",
       "\n",
       "    .dataframe thead th {\n",
       "        text-align: right;\n",
       "    }\n",
       "</style>\n",
       "<table border=\"1\" class=\"dataframe\">\n",
       "  <thead>\n",
       "    <tr style=\"text-align: right;\">\n",
       "      <th></th>\n",
       "      <th>a</th>\n",
       "      <th>b</th>\n",
       "    </tr>\n",
       "  </thead>\n",
       "  <tbody>\n",
       "    <tr>\n",
       "      <th>0</th>\n",
       "      <td>False</td>\n",
       "      <td>True</td>\n",
       "    </tr>\n",
       "    <tr>\n",
       "      <th>1</th>\n",
       "      <td>True</td>\n",
       "      <td>False</td>\n",
       "    </tr>\n",
       "    <tr>\n",
       "      <th>2</th>\n",
       "      <td>False</td>\n",
       "      <td>False</td>\n",
       "    </tr>\n",
       "  </tbody>\n",
       "</table>\n",
       "</div>"
      ],
      "text/plain": [
       "       a      b\n",
       "0  False   True\n",
       "1   True  False\n",
       "2  False  False"
      ]
     },
     "execution_count": 347,
     "metadata": {},
     "output_type": "execute_result"
    }
   ],
   "source": [
    " -df1"
   ]
  },
  {
   "cell_type": "markdown",
   "metadata": {},
   "source": [
    "### <font color='orange'>Example 2:</font>\n",
    "\n",
    "<font color='#094B91'> In this example we create some tuple and than create a DataFrame using these tuple and pass a list for column name.</font>"
   ]
  },
  {
   "cell_type": "code",
   "execution_count": 348,
   "metadata": {},
   "outputs": [],
   "source": [
    "tupleNum1 = (100.10, 120.20, 130.30, 140.40, 150.50, 160.60)\n",
    "tupleNum2 = (210.10, 220.20, 230.30, 240.40, 250.50, 260.60)\n",
    "tupleNum3 = (300.10, 320.20, 330.30, 340.40, 350.50, 360.60)\n",
    "tupleNum4 = (410.10, 420.20, 430.30, 440.40, 450.50, 460.60)\n",
    "tupleNum5 = (500.10, 520.20, 530.30, 540.40, 550.50, 560.60)\n",
    "tupleNum6 = (610.10, 620.20, 630.30, 640.40, 650.50, 660.60)\n",
    "\n",
    "dataFrame1 = pnd.DataFrame((tupleNum1,tupleNum2,tupleNum3,tupleNum4,tupleNum5,tupleNum6),\n",
    "                           columns=['C1', 'C2', 'C3', 'C4','C5','C6'])"
   ]
  },
  {
   "cell_type": "code",
   "execution_count": 349,
   "metadata": {},
   "outputs": [
    {
     "data": {
      "text/html": [
       "<div>\n",
       "<style scoped>\n",
       "    .dataframe tbody tr th:only-of-type {\n",
       "        vertical-align: middle;\n",
       "    }\n",
       "\n",
       "    .dataframe tbody tr th {\n",
       "        vertical-align: top;\n",
       "    }\n",
       "\n",
       "    .dataframe thead th {\n",
       "        text-align: right;\n",
       "    }\n",
       "</style>\n",
       "<table border=\"1\" class=\"dataframe\">\n",
       "  <thead>\n",
       "    <tr style=\"text-align: right;\">\n",
       "      <th></th>\n",
       "      <th>C1</th>\n",
       "      <th>C2</th>\n",
       "      <th>C3</th>\n",
       "      <th>C4</th>\n",
       "      <th>C5</th>\n",
       "      <th>C6</th>\n",
       "    </tr>\n",
       "  </thead>\n",
       "  <tbody>\n",
       "    <tr>\n",
       "      <th>0</th>\n",
       "      <td>100.1</td>\n",
       "      <td>120.2</td>\n",
       "      <td>130.3</td>\n",
       "      <td>140.4</td>\n",
       "      <td>150.5</td>\n",
       "      <td>160.6</td>\n",
       "    </tr>\n",
       "    <tr>\n",
       "      <th>1</th>\n",
       "      <td>210.1</td>\n",
       "      <td>220.2</td>\n",
       "      <td>230.3</td>\n",
       "      <td>240.4</td>\n",
       "      <td>250.5</td>\n",
       "      <td>260.6</td>\n",
       "    </tr>\n",
       "    <tr>\n",
       "      <th>2</th>\n",
       "      <td>300.1</td>\n",
       "      <td>320.2</td>\n",
       "      <td>330.3</td>\n",
       "      <td>340.4</td>\n",
       "      <td>350.5</td>\n",
       "      <td>360.6</td>\n",
       "    </tr>\n",
       "    <tr>\n",
       "      <th>3</th>\n",
       "      <td>410.1</td>\n",
       "      <td>420.2</td>\n",
       "      <td>430.3</td>\n",
       "      <td>440.4</td>\n",
       "      <td>450.5</td>\n",
       "      <td>460.6</td>\n",
       "    </tr>\n",
       "    <tr>\n",
       "      <th>4</th>\n",
       "      <td>500.1</td>\n",
       "      <td>520.2</td>\n",
       "      <td>530.3</td>\n",
       "      <td>540.4</td>\n",
       "      <td>550.5</td>\n",
       "      <td>560.6</td>\n",
       "    </tr>\n",
       "    <tr>\n",
       "      <th>5</th>\n",
       "      <td>610.1</td>\n",
       "      <td>620.2</td>\n",
       "      <td>630.3</td>\n",
       "      <td>640.4</td>\n",
       "      <td>650.5</td>\n",
       "      <td>660.6</td>\n",
       "    </tr>\n",
       "  </tbody>\n",
       "</table>\n",
       "</div>"
      ],
      "text/plain": [
       "      C1     C2     C3     C4     C5     C6\n",
       "0  100.1  120.2  130.3  140.4  150.5  160.6\n",
       "1  210.1  220.2  230.3  240.4  250.5  260.6\n",
       "2  300.1  320.2  330.3  340.4  350.5  360.6\n",
       "3  410.1  420.2  430.3  440.4  450.5  460.6\n",
       "4  500.1  520.2  530.3  540.4  550.5  560.6\n",
       "5  610.1  620.2  630.3  640.4  650.5  660.6"
      ]
     },
     "execution_count": 349,
     "metadata": {},
     "output_type": "execute_result"
    }
   ],
   "source": [
    "dataFrame1"
   ]
  },
  {
   "cell_type": "markdown",
   "metadata": {},
   "source": [
    "<font color='#094B91'> In this example we create some more tuple and than create one more DataFrame using these tuple and pass a list for column name.</font>"
   ]
  },
  {
   "cell_type": "code",
   "execution_count": 350,
   "metadata": {},
   "outputs": [],
   "source": [
    "tupleNum1 = (700.10, 720.20, 730.30, 740.40, 750.50)\n",
    "tupleNum2 = (810.10, 820.20, 430.30, 840.40, 850.50)\n",
    "tupleNum3 = (900.10, 920.20, 530.30, 940.40, 950.50)\n",
    "tupleNum4 = (0.10, 0.20, 0.30, 0.40, 0.50)\n",
    "\n",
    "dataFrame2 = pnd.DataFrame((tupleNum1,tupleNum2,tupleNum3,tupleNum4), columns=['C1', 'C2', 'C3', 'C4','C6'])"
   ]
  },
  {
   "cell_type": "code",
   "execution_count": 351,
   "metadata": {},
   "outputs": [
    {
     "data": {
      "text/html": [
       "<div>\n",
       "<style scoped>\n",
       "    .dataframe tbody tr th:only-of-type {\n",
       "        vertical-align: middle;\n",
       "    }\n",
       "\n",
       "    .dataframe tbody tr th {\n",
       "        vertical-align: top;\n",
       "    }\n",
       "\n",
       "    .dataframe thead th {\n",
       "        text-align: right;\n",
       "    }\n",
       "</style>\n",
       "<table border=\"1\" class=\"dataframe\">\n",
       "  <thead>\n",
       "    <tr style=\"text-align: right;\">\n",
       "      <th></th>\n",
       "      <th>C1</th>\n",
       "      <th>C2</th>\n",
       "      <th>C3</th>\n",
       "      <th>C4</th>\n",
       "      <th>C6</th>\n",
       "    </tr>\n",
       "  </thead>\n",
       "  <tbody>\n",
       "    <tr>\n",
       "      <th>0</th>\n",
       "      <td>700.1</td>\n",
       "      <td>720.2</td>\n",
       "      <td>730.3</td>\n",
       "      <td>740.4</td>\n",
       "      <td>750.5</td>\n",
       "    </tr>\n",
       "    <tr>\n",
       "      <th>1</th>\n",
       "      <td>810.1</td>\n",
       "      <td>820.2</td>\n",
       "      <td>430.3</td>\n",
       "      <td>840.4</td>\n",
       "      <td>850.5</td>\n",
       "    </tr>\n",
       "    <tr>\n",
       "      <th>2</th>\n",
       "      <td>900.1</td>\n",
       "      <td>920.2</td>\n",
       "      <td>530.3</td>\n",
       "      <td>940.4</td>\n",
       "      <td>950.5</td>\n",
       "    </tr>\n",
       "    <tr>\n",
       "      <th>3</th>\n",
       "      <td>0.1</td>\n",
       "      <td>0.2</td>\n",
       "      <td>0.3</td>\n",
       "      <td>0.4</td>\n",
       "      <td>0.5</td>\n",
       "    </tr>\n",
       "  </tbody>\n",
       "</table>\n",
       "</div>"
      ],
      "text/plain": [
       "      C1     C2     C3     C4     C6\n",
       "0  700.1  720.2  730.3  740.4  750.5\n",
       "1  810.1  820.2  430.3  840.4  850.5\n",
       "2  900.1  920.2  530.3  940.4  950.5\n",
       "3    0.1    0.2    0.3    0.4    0.5"
      ]
     },
     "execution_count": 351,
     "metadata": {},
     "output_type": "execute_result"
    }
   ],
   "source": [
    "dataFrame2"
   ]
  },
  {
   "cell_type": "markdown",
   "metadata": {},
   "source": [
    "<font color='#094B91'> Add DataFrame 1 and DataFrame 2</font>"
   ]
  },
  {
   "cell_type": "code",
   "execution_count": 352,
   "metadata": {},
   "outputs": [
    {
     "data": {
      "text/html": [
       "<div>\n",
       "<style scoped>\n",
       "    .dataframe tbody tr th:only-of-type {\n",
       "        vertical-align: middle;\n",
       "    }\n",
       "\n",
       "    .dataframe tbody tr th {\n",
       "        vertical-align: top;\n",
       "    }\n",
       "\n",
       "    .dataframe thead th {\n",
       "        text-align: right;\n",
       "    }\n",
       "</style>\n",
       "<table border=\"1\" class=\"dataframe\">\n",
       "  <thead>\n",
       "    <tr style=\"text-align: right;\">\n",
       "      <th></th>\n",
       "      <th>C1</th>\n",
       "      <th>C2</th>\n",
       "      <th>C3</th>\n",
       "      <th>C4</th>\n",
       "      <th>C5</th>\n",
       "      <th>C6</th>\n",
       "    </tr>\n",
       "  </thead>\n",
       "  <tbody>\n",
       "    <tr>\n",
       "      <th>0</th>\n",
       "      <td>800.2</td>\n",
       "      <td>840.4</td>\n",
       "      <td>860.6</td>\n",
       "      <td>880.8</td>\n",
       "      <td>NaN</td>\n",
       "      <td>911.1</td>\n",
       "    </tr>\n",
       "    <tr>\n",
       "      <th>1</th>\n",
       "      <td>1020.2</td>\n",
       "      <td>1040.4</td>\n",
       "      <td>660.6</td>\n",
       "      <td>1080.8</td>\n",
       "      <td>NaN</td>\n",
       "      <td>1111.1</td>\n",
       "    </tr>\n",
       "    <tr>\n",
       "      <th>2</th>\n",
       "      <td>1200.2</td>\n",
       "      <td>1240.4</td>\n",
       "      <td>860.6</td>\n",
       "      <td>1280.8</td>\n",
       "      <td>NaN</td>\n",
       "      <td>1311.1</td>\n",
       "    </tr>\n",
       "    <tr>\n",
       "      <th>3</th>\n",
       "      <td>410.2</td>\n",
       "      <td>420.4</td>\n",
       "      <td>430.6</td>\n",
       "      <td>440.8</td>\n",
       "      <td>NaN</td>\n",
       "      <td>461.1</td>\n",
       "    </tr>\n",
       "    <tr>\n",
       "      <th>4</th>\n",
       "      <td>NaN</td>\n",
       "      <td>NaN</td>\n",
       "      <td>NaN</td>\n",
       "      <td>NaN</td>\n",
       "      <td>NaN</td>\n",
       "      <td>NaN</td>\n",
       "    </tr>\n",
       "    <tr>\n",
       "      <th>5</th>\n",
       "      <td>NaN</td>\n",
       "      <td>NaN</td>\n",
       "      <td>NaN</td>\n",
       "      <td>NaN</td>\n",
       "      <td>NaN</td>\n",
       "      <td>NaN</td>\n",
       "    </tr>\n",
       "  </tbody>\n",
       "</table>\n",
       "</div>"
      ],
      "text/plain": [
       "       C1      C2     C3      C4  C5      C6\n",
       "0   800.2   840.4  860.6   880.8 NaN   911.1\n",
       "1  1020.2  1040.4  660.6  1080.8 NaN  1111.1\n",
       "2  1200.2  1240.4  860.6  1280.8 NaN  1311.1\n",
       "3   410.2   420.4  430.6   440.8 NaN   461.1\n",
       "4     NaN     NaN    NaN     NaN NaN     NaN\n",
       "5     NaN     NaN    NaN     NaN NaN     NaN"
      ]
     },
     "execution_count": 352,
     "metadata": {},
     "output_type": "execute_result"
    }
   ],
   "source": [
    "dataFrame1 + dataFrame2"
   ]
  },
  {
   "cell_type": "markdown",
   "metadata": {},
   "source": [
    "<font color='#094B91'> When doing an operation between DataFrame and Series, the default behavior is to align the Series index on the DataFrame columns.</font>\n"
   ]
  },
  {
   "cell_type": "code",
   "execution_count": 353,
   "metadata": {},
   "outputs": [
    {
     "data": {
      "text/html": [
       "<div>\n",
       "<style scoped>\n",
       "    .dataframe tbody tr th:only-of-type {\n",
       "        vertical-align: middle;\n",
       "    }\n",
       "\n",
       "    .dataframe tbody tr th {\n",
       "        vertical-align: top;\n",
       "    }\n",
       "\n",
       "    .dataframe thead th {\n",
       "        text-align: right;\n",
       "    }\n",
       "</style>\n",
       "<table border=\"1\" class=\"dataframe\">\n",
       "  <thead>\n",
       "    <tr style=\"text-align: right;\">\n",
       "      <th></th>\n",
       "      <th>C1</th>\n",
       "      <th>C2</th>\n",
       "      <th>C3</th>\n",
       "      <th>C4</th>\n",
       "      <th>C5</th>\n",
       "      <th>C6</th>\n",
       "    </tr>\n",
       "  </thead>\n",
       "  <tbody>\n",
       "    <tr>\n",
       "      <th>0</th>\n",
       "      <td>81091.01</td>\n",
       "      <td>98588.04</td>\n",
       "      <td>56068.09</td>\n",
       "      <td>117992.16</td>\n",
       "      <td>NaN</td>\n",
       "      <td>136590.3</td>\n",
       "    </tr>\n",
       "    <tr>\n",
       "      <th>1</th>\n",
       "      <td>170202.01</td>\n",
       "      <td>180608.04</td>\n",
       "      <td>99098.09</td>\n",
       "      <td>202032.16</td>\n",
       "      <td>NaN</td>\n",
       "      <td>221640.3</td>\n",
       "    </tr>\n",
       "    <tr>\n",
       "      <th>2</th>\n",
       "      <td>243111.01</td>\n",
       "      <td>262628.04</td>\n",
       "      <td>142128.09</td>\n",
       "      <td>286072.16</td>\n",
       "      <td>NaN</td>\n",
       "      <td>306690.3</td>\n",
       "    </tr>\n",
       "    <tr>\n",
       "      <th>3</th>\n",
       "      <td>332222.01</td>\n",
       "      <td>344648.04</td>\n",
       "      <td>185158.09</td>\n",
       "      <td>370112.16</td>\n",
       "      <td>NaN</td>\n",
       "      <td>391740.3</td>\n",
       "    </tr>\n",
       "    <tr>\n",
       "      <th>4</th>\n",
       "      <td>405131.01</td>\n",
       "      <td>426668.04</td>\n",
       "      <td>228188.09</td>\n",
       "      <td>454152.16</td>\n",
       "      <td>NaN</td>\n",
       "      <td>476790.3</td>\n",
       "    </tr>\n",
       "    <tr>\n",
       "      <th>5</th>\n",
       "      <td>494242.01</td>\n",
       "      <td>508688.04</td>\n",
       "      <td>271218.09</td>\n",
       "      <td>538192.16</td>\n",
       "      <td>NaN</td>\n",
       "      <td>561840.3</td>\n",
       "    </tr>\n",
       "  </tbody>\n",
       "</table>\n",
       "</div>"
      ],
      "text/plain": [
       "          C1         C2         C3         C4  C5        C6\n",
       "0   81091.01   98588.04   56068.09  117992.16 NaN  136590.3\n",
       "1  170202.01  180608.04   99098.09  202032.16 NaN  221640.3\n",
       "2  243111.01  262628.04  142128.09  286072.16 NaN  306690.3\n",
       "3  332222.01  344648.04  185158.09  370112.16 NaN  391740.3\n",
       "4  405131.01  426668.04  228188.09  454152.16 NaN  476790.3\n",
       "5  494242.01  508688.04  271218.09  538192.16 NaN  561840.3"
      ]
     },
     "execution_count": 353,
     "metadata": {},
     "output_type": "execute_result"
    }
   ],
   "source": [
    "dataFrame1 * dataFrame2.iloc[1]"
   ]
  },
  {
   "cell_type": "markdown",
   "metadata": {},
   "source": [
    "<font color='#094B91'> Add 1 + 4 in each cell of DataFrame</font>"
   ]
  },
  {
   "cell_type": "code",
   "execution_count": 354,
   "metadata": {},
   "outputs": [
    {
     "data": {
      "text/html": [
       "<div>\n",
       "<style scoped>\n",
       "    .dataframe tbody tr th:only-of-type {\n",
       "        vertical-align: middle;\n",
       "    }\n",
       "\n",
       "    .dataframe tbody tr th {\n",
       "        vertical-align: top;\n",
       "    }\n",
       "\n",
       "    .dataframe thead th {\n",
       "        text-align: right;\n",
       "    }\n",
       "</style>\n",
       "<table border=\"1\" class=\"dataframe\">\n",
       "  <thead>\n",
       "    <tr style=\"text-align: right;\">\n",
       "      <th></th>\n",
       "      <th>C1</th>\n",
       "      <th>C2</th>\n",
       "      <th>C3</th>\n",
       "      <th>C4</th>\n",
       "      <th>C5</th>\n",
       "      <th>C6</th>\n",
       "    </tr>\n",
       "  </thead>\n",
       "  <tbody>\n",
       "    <tr>\n",
       "      <th>0</th>\n",
       "      <td>105.1</td>\n",
       "      <td>125.2</td>\n",
       "      <td>135.3</td>\n",
       "      <td>145.4</td>\n",
       "      <td>155.5</td>\n",
       "      <td>165.6</td>\n",
       "    </tr>\n",
       "    <tr>\n",
       "      <th>1</th>\n",
       "      <td>215.1</td>\n",
       "      <td>225.2</td>\n",
       "      <td>235.3</td>\n",
       "      <td>245.4</td>\n",
       "      <td>255.5</td>\n",
       "      <td>265.6</td>\n",
       "    </tr>\n",
       "    <tr>\n",
       "      <th>2</th>\n",
       "      <td>305.1</td>\n",
       "      <td>325.2</td>\n",
       "      <td>335.3</td>\n",
       "      <td>345.4</td>\n",
       "      <td>355.5</td>\n",
       "      <td>365.6</td>\n",
       "    </tr>\n",
       "    <tr>\n",
       "      <th>3</th>\n",
       "      <td>415.1</td>\n",
       "      <td>425.2</td>\n",
       "      <td>435.3</td>\n",
       "      <td>445.4</td>\n",
       "      <td>455.5</td>\n",
       "      <td>465.6</td>\n",
       "    </tr>\n",
       "    <tr>\n",
       "      <th>4</th>\n",
       "      <td>505.1</td>\n",
       "      <td>525.2</td>\n",
       "      <td>535.3</td>\n",
       "      <td>545.4</td>\n",
       "      <td>555.5</td>\n",
       "      <td>565.6</td>\n",
       "    </tr>\n",
       "    <tr>\n",
       "      <th>5</th>\n",
       "      <td>615.1</td>\n",
       "      <td>625.2</td>\n",
       "      <td>635.3</td>\n",
       "      <td>645.4</td>\n",
       "      <td>655.5</td>\n",
       "      <td>665.6</td>\n",
       "    </tr>\n",
       "  </tbody>\n",
       "</table>\n",
       "</div>"
      ],
      "text/plain": [
       "      C1     C2     C3     C4     C5     C6\n",
       "0  105.1  125.2  135.3  145.4  155.5  165.6\n",
       "1  215.1  225.2  235.3  245.4  255.5  265.6\n",
       "2  305.1  325.2  335.3  345.4  355.5  365.6\n",
       "3  415.1  425.2  435.3  445.4  455.5  465.6\n",
       "4  505.1  525.2  535.3  545.4  555.5  565.6\n",
       "5  615.1  625.2  635.3  645.4  655.5  665.6"
      ]
     },
     "execution_count": 354,
     "metadata": {},
     "output_type": "execute_result"
    }
   ],
   "source": [
    "dataFrame1 + 1+ 4 #Add 5 in each row,column and data become allign"
   ]
  },
  {
   "cell_type": "markdown",
   "metadata": {},
   "source": [
    "<font color='#094B91'> Add 3 + 4 in each cell of DataFrame</font>"
   ]
  },
  {
   "cell_type": "code",
   "execution_count": 355,
   "metadata": {},
   "outputs": [
    {
     "data": {
      "text/html": [
       "<div>\n",
       "<style scoped>\n",
       "    .dataframe tbody tr th:only-of-type {\n",
       "        vertical-align: middle;\n",
       "    }\n",
       "\n",
       "    .dataframe tbody tr th {\n",
       "        vertical-align: top;\n",
       "    }\n",
       "\n",
       "    .dataframe thead th {\n",
       "        text-align: right;\n",
       "    }\n",
       "</style>\n",
       "<table border=\"1\" class=\"dataframe\">\n",
       "  <thead>\n",
       "    <tr style=\"text-align: right;\">\n",
       "      <th></th>\n",
       "      <th>C1</th>\n",
       "      <th>C2</th>\n",
       "      <th>C3</th>\n",
       "      <th>C4</th>\n",
       "      <th>C6</th>\n",
       "    </tr>\n",
       "  </thead>\n",
       "  <tbody>\n",
       "    <tr>\n",
       "      <th>0</th>\n",
       "      <td>706.1</td>\n",
       "      <td>726.2</td>\n",
       "      <td>736.3</td>\n",
       "      <td>746.4</td>\n",
       "      <td>756.5</td>\n",
       "    </tr>\n",
       "    <tr>\n",
       "      <th>1</th>\n",
       "      <td>816.1</td>\n",
       "      <td>826.2</td>\n",
       "      <td>436.3</td>\n",
       "      <td>846.4</td>\n",
       "      <td>856.5</td>\n",
       "    </tr>\n",
       "    <tr>\n",
       "      <th>2</th>\n",
       "      <td>906.1</td>\n",
       "      <td>926.2</td>\n",
       "      <td>536.3</td>\n",
       "      <td>946.4</td>\n",
       "      <td>956.5</td>\n",
       "    </tr>\n",
       "    <tr>\n",
       "      <th>3</th>\n",
       "      <td>6.1</td>\n",
       "      <td>6.2</td>\n",
       "      <td>6.3</td>\n",
       "      <td>6.4</td>\n",
       "      <td>6.5</td>\n",
       "    </tr>\n",
       "  </tbody>\n",
       "</table>\n",
       "</div>"
      ],
      "text/plain": [
       "      C1     C2     C3     C4     C6\n",
       "0  706.1  726.2  736.3  746.4  756.5\n",
       "1  816.1  826.2  436.3  846.4  856.5\n",
       "2  906.1  926.2  536.3  946.4  956.5\n",
       "3    6.1    6.2    6.3    6.4    6.5"
      ]
     },
     "execution_count": 355,
     "metadata": {},
     "output_type": "execute_result"
    }
   ],
   "source": [
    "dataFrame2 + 2+ 4 #Add 6 in each row,coulmn and data become allign"
   ]
  },
  {
   "cell_type": "markdown",
   "metadata": {},
   "source": [
    "<font color='#094B91'> devide each cell of DataFrame by 1</font>"
   ]
  },
  {
   "cell_type": "code",
   "execution_count": 356,
   "metadata": {},
   "outputs": [
    {
     "data": {
      "text/html": [
       "<div>\n",
       "<style scoped>\n",
       "    .dataframe tbody tr th:only-of-type {\n",
       "        vertical-align: middle;\n",
       "    }\n",
       "\n",
       "    .dataframe tbody tr th {\n",
       "        vertical-align: top;\n",
       "    }\n",
       "\n",
       "    .dataframe thead th {\n",
       "        text-align: right;\n",
       "    }\n",
       "</style>\n",
       "<table border=\"1\" class=\"dataframe\">\n",
       "  <thead>\n",
       "    <tr style=\"text-align: right;\">\n",
       "      <th></th>\n",
       "      <th>C1</th>\n",
       "      <th>C2</th>\n",
       "      <th>C3</th>\n",
       "      <th>C4</th>\n",
       "      <th>C5</th>\n",
       "      <th>C6</th>\n",
       "    </tr>\n",
       "  </thead>\n",
       "  <tbody>\n",
       "    <tr>\n",
       "      <th>0</th>\n",
       "      <td>0.009990</td>\n",
       "      <td>0.008319</td>\n",
       "      <td>0.007675</td>\n",
       "      <td>0.007123</td>\n",
       "      <td>0.006645</td>\n",
       "      <td>0.006227</td>\n",
       "    </tr>\n",
       "    <tr>\n",
       "      <th>1</th>\n",
       "      <td>0.004760</td>\n",
       "      <td>0.004541</td>\n",
       "      <td>0.004342</td>\n",
       "      <td>0.004160</td>\n",
       "      <td>0.003992</td>\n",
       "      <td>0.003837</td>\n",
       "    </tr>\n",
       "    <tr>\n",
       "      <th>2</th>\n",
       "      <td>0.003332</td>\n",
       "      <td>0.003123</td>\n",
       "      <td>0.003028</td>\n",
       "      <td>0.002938</td>\n",
       "      <td>0.002853</td>\n",
       "      <td>0.002773</td>\n",
       "    </tr>\n",
       "    <tr>\n",
       "      <th>3</th>\n",
       "      <td>0.002438</td>\n",
       "      <td>0.002380</td>\n",
       "      <td>0.002324</td>\n",
       "      <td>0.002271</td>\n",
       "      <td>0.002220</td>\n",
       "      <td>0.002171</td>\n",
       "    </tr>\n",
       "    <tr>\n",
       "      <th>4</th>\n",
       "      <td>0.002000</td>\n",
       "      <td>0.001922</td>\n",
       "      <td>0.001886</td>\n",
       "      <td>0.001850</td>\n",
       "      <td>0.001817</td>\n",
       "      <td>0.001784</td>\n",
       "    </tr>\n",
       "    <tr>\n",
       "      <th>5</th>\n",
       "      <td>0.001639</td>\n",
       "      <td>0.001612</td>\n",
       "      <td>0.001587</td>\n",
       "      <td>0.001562</td>\n",
       "      <td>0.001537</td>\n",
       "      <td>0.001514</td>\n",
       "    </tr>\n",
       "  </tbody>\n",
       "</table>\n",
       "</div>"
      ],
      "text/plain": [
       "         C1        C2        C3        C4        C5        C6\n",
       "0  0.009990  0.008319  0.007675  0.007123  0.006645  0.006227\n",
       "1  0.004760  0.004541  0.004342  0.004160  0.003992  0.003837\n",
       "2  0.003332  0.003123  0.003028  0.002938  0.002853  0.002773\n",
       "3  0.002438  0.002380  0.002324  0.002271  0.002220  0.002171\n",
       "4  0.002000  0.001922  0.001886  0.001850  0.001817  0.001784\n",
       "5  0.001639  0.001612  0.001587  0.001562  0.001537  0.001514"
      ]
     },
     "execution_count": 356,
     "metadata": {},
     "output_type": "execute_result"
    }
   ],
   "source": [
    "1 / dataFrame1"
   ]
  },
  {
   "cell_type": "markdown",
   "metadata": {},
   "source": [
    "<font color='#094B91'> devide each cell of DataFrame by 2</font>"
   ]
  },
  {
   "cell_type": "code",
   "execution_count": 357,
   "metadata": {},
   "outputs": [
    {
     "data": {
      "text/html": [
       "<div>\n",
       "<style scoped>\n",
       "    .dataframe tbody tr th:only-of-type {\n",
       "        vertical-align: middle;\n",
       "    }\n",
       "\n",
       "    .dataframe tbody tr th {\n",
       "        vertical-align: top;\n",
       "    }\n",
       "\n",
       "    .dataframe thead th {\n",
       "        text-align: right;\n",
       "    }\n",
       "</style>\n",
       "<table border=\"1\" class=\"dataframe\">\n",
       "  <thead>\n",
       "    <tr style=\"text-align: right;\">\n",
       "      <th></th>\n",
       "      <th>C1</th>\n",
       "      <th>C2</th>\n",
       "      <th>C3</th>\n",
       "      <th>C4</th>\n",
       "      <th>C6</th>\n",
       "    </tr>\n",
       "  </thead>\n",
       "  <tbody>\n",
       "    <tr>\n",
       "      <th>0</th>\n",
       "      <td>0.002857</td>\n",
       "      <td>0.002777</td>\n",
       "      <td>0.002739</td>\n",
       "      <td>0.002701</td>\n",
       "      <td>0.002665</td>\n",
       "    </tr>\n",
       "    <tr>\n",
       "      <th>1</th>\n",
       "      <td>0.002469</td>\n",
       "      <td>0.002438</td>\n",
       "      <td>0.004648</td>\n",
       "      <td>0.002380</td>\n",
       "      <td>0.002352</td>\n",
       "    </tr>\n",
       "    <tr>\n",
       "      <th>2</th>\n",
       "      <td>0.002222</td>\n",
       "      <td>0.002173</td>\n",
       "      <td>0.003771</td>\n",
       "      <td>0.002127</td>\n",
       "      <td>0.002104</td>\n",
       "    </tr>\n",
       "    <tr>\n",
       "      <th>3</th>\n",
       "      <td>20.000000</td>\n",
       "      <td>10.000000</td>\n",
       "      <td>6.666667</td>\n",
       "      <td>5.000000</td>\n",
       "      <td>4.000000</td>\n",
       "    </tr>\n",
       "  </tbody>\n",
       "</table>\n",
       "</div>"
      ],
      "text/plain": [
       "          C1         C2        C3        C4        C6\n",
       "0   0.002857   0.002777  0.002739  0.002701  0.002665\n",
       "1   0.002469   0.002438  0.004648  0.002380  0.002352\n",
       "2   0.002222   0.002173  0.003771  0.002127  0.002104\n",
       "3  20.000000  10.000000  6.666667  5.000000  4.000000"
      ]
     },
     "execution_count": 357,
     "metadata": {},
     "output_type": "execute_result"
    }
   ],
   "source": [
    "2 / dataFrame2"
   ]
  },
  {
   "cell_type": "markdown",
   "metadata": {},
   "source": [
    "<font color='#094B91'> Take exponential with each cell of DataFrame</font>"
   ]
  },
  {
   "cell_type": "code",
   "execution_count": 358,
   "metadata": {},
   "outputs": [
    {
     "data": {
      "text/html": [
       "<div>\n",
       "<style scoped>\n",
       "    .dataframe tbody tr th:only-of-type {\n",
       "        vertical-align: middle;\n",
       "    }\n",
       "\n",
       "    .dataframe tbody tr th {\n",
       "        vertical-align: top;\n",
       "    }\n",
       "\n",
       "    .dataframe thead th {\n",
       "        text-align: right;\n",
       "    }\n",
       "</style>\n",
       "<table border=\"1\" class=\"dataframe\">\n",
       "  <thead>\n",
       "    <tr style=\"text-align: right;\">\n",
       "      <th></th>\n",
       "      <th>C1</th>\n",
       "      <th>C2</th>\n",
       "      <th>C3</th>\n",
       "      <th>C4</th>\n",
       "      <th>C5</th>\n",
       "      <th>C6</th>\n",
       "    </tr>\n",
       "  </thead>\n",
       "  <tbody>\n",
       "    <tr>\n",
       "      <th>0</th>\n",
       "      <td>1.003003e+06</td>\n",
       "      <td>1.736654e+06</td>\n",
       "      <td>2.212245e+06</td>\n",
       "      <td>2.767587e+06</td>\n",
       "      <td>3.408863e+06</td>\n",
       "      <td>4.142253e+06</td>\n",
       "    </tr>\n",
       "    <tr>\n",
       "      <th>1</th>\n",
       "      <td>9.274236e+06</td>\n",
       "      <td>1.067707e+07</td>\n",
       "      <td>1.221467e+07</td>\n",
       "      <td>1.389324e+07</td>\n",
       "      <td>1.571894e+07</td>\n",
       "      <td>1.769796e+07</td>\n",
       "    </tr>\n",
       "    <tr>\n",
       "      <th>2</th>\n",
       "      <td>2.702701e+07</td>\n",
       "      <td>3.282948e+07</td>\n",
       "      <td>3.603510e+07</td>\n",
       "      <td>3.944288e+07</td>\n",
       "      <td>4.305901e+07</td>\n",
       "      <td>4.688967e+07</td>\n",
       "    </tr>\n",
       "    <tr>\n",
       "      <th>3</th>\n",
       "      <td>6.897144e+07</td>\n",
       "      <td>7.419389e+07</td>\n",
       "      <td>7.967353e+07</td>\n",
       "      <td>8.541653e+07</td>\n",
       "      <td>9.142909e+07</td>\n",
       "      <td>9.771738e+07</td>\n",
       "    </tr>\n",
       "    <tr>\n",
       "      <th>4</th>\n",
       "      <td>1.250750e+08</td>\n",
       "      <td>1.407703e+08</td>\n",
       "      <td>1.491300e+08</td>\n",
       "      <td>1.578142e+08</td>\n",
       "      <td>1.668292e+08</td>\n",
       "      <td>1.761811e+08</td>\n",
       "    </tr>\n",
       "    <tr>\n",
       "      <th>5</th>\n",
       "      <td>2.270926e+08</td>\n",
       "      <td>2.385587e+08</td>\n",
       "      <td>2.504044e+08</td>\n",
       "      <td>2.626358e+08</td>\n",
       "      <td>2.752592e+08</td>\n",
       "      <td>2.882808e+08</td>\n",
       "    </tr>\n",
       "  </tbody>\n",
       "</table>\n",
       "</div>"
      ],
      "text/plain": [
       "             C1            C2            C3            C4            C5  \\\n",
       "0  1.003003e+06  1.736654e+06  2.212245e+06  2.767587e+06  3.408863e+06   \n",
       "1  9.274236e+06  1.067707e+07  1.221467e+07  1.389324e+07  1.571894e+07   \n",
       "2  2.702701e+07  3.282948e+07  3.603510e+07  3.944288e+07  4.305901e+07   \n",
       "3  6.897144e+07  7.419389e+07  7.967353e+07  8.541653e+07  9.142909e+07   \n",
       "4  1.250750e+08  1.407703e+08  1.491300e+08  1.578142e+08  1.668292e+08   \n",
       "5  2.270926e+08  2.385587e+08  2.504044e+08  2.626358e+08  2.752592e+08   \n",
       "\n",
       "             C6  \n",
       "0  4.142253e+06  \n",
       "1  1.769796e+07  \n",
       "2  4.688967e+07  \n",
       "3  9.771738e+07  \n",
       "4  1.761811e+08  \n",
       "5  2.882808e+08  "
      ]
     },
     "execution_count": 358,
     "metadata": {},
     "output_type": "execute_result"
    }
   ],
   "source": [
    "dataFrame1**3"
   ]
  },
  {
   "cell_type": "markdown",
   "metadata": {},
   "source": [
    "<font color='#094B91'> Take exponential with each cell of DataFrame</font>"
   ]
  },
  {
   "cell_type": "code",
   "execution_count": 359,
   "metadata": {},
   "outputs": [
    {
     "data": {
      "text/html": [
       "<div>\n",
       "<style scoped>\n",
       "    .dataframe tbody tr th:only-of-type {\n",
       "        vertical-align: middle;\n",
       "    }\n",
       "\n",
       "    .dataframe tbody tr th {\n",
       "        vertical-align: top;\n",
       "    }\n",
       "\n",
       "    .dataframe thead th {\n",
       "        text-align: right;\n",
       "    }\n",
       "</style>\n",
       "<table border=\"1\" class=\"dataframe\">\n",
       "  <thead>\n",
       "    <tr style=\"text-align: right;\">\n",
       "      <th></th>\n",
       "      <th>C1</th>\n",
       "      <th>C2</th>\n",
       "      <th>C3</th>\n",
       "      <th>C4</th>\n",
       "      <th>C6</th>\n",
       "    </tr>\n",
       "  </thead>\n",
       "  <tbody>\n",
       "    <tr>\n",
       "      <th>0</th>\n",
       "      <td>2.402372e+11</td>\n",
       "      <td>2.690373e+11</td>\n",
       "      <td>2.844495e+11</td>\n",
       "      <td>3.005146e+11</td>\n",
       "      <td>3.172508e+11</td>\n",
       "    </tr>\n",
       "    <tr>\n",
       "      <th>1</th>\n",
       "      <td>4.306798e+11</td>\n",
       "      <td>4.525630e+11</td>\n",
       "      <td>3.428352e+10</td>\n",
       "      <td>4.988204e+11</td>\n",
       "      <td>5.232356e+11</td>\n",
       "    </tr>\n",
       "    <tr>\n",
       "      <th>2</th>\n",
       "      <td>6.563916e+11</td>\n",
       "      <td>7.170161e+11</td>\n",
       "      <td>7.908361e+10</td>\n",
       "      <td>7.820787e+11</td>\n",
       "      <td>8.162224e+11</td>\n",
       "    </tr>\n",
       "    <tr>\n",
       "      <th>3</th>\n",
       "      <td>1.000000e-04</td>\n",
       "      <td>1.600000e-03</td>\n",
       "      <td>8.100000e-03</td>\n",
       "      <td>2.560000e-02</td>\n",
       "      <td>6.250000e-02</td>\n",
       "    </tr>\n",
       "  </tbody>\n",
       "</table>\n",
       "</div>"
      ],
      "text/plain": [
       "             C1            C2            C3            C4            C6\n",
       "0  2.402372e+11  2.690373e+11  2.844495e+11  3.005146e+11  3.172508e+11\n",
       "1  4.306798e+11  4.525630e+11  3.428352e+10  4.988204e+11  5.232356e+11\n",
       "2  6.563916e+11  7.170161e+11  7.908361e+10  7.820787e+11  8.162224e+11\n",
       "3  1.000000e-04  1.600000e-03  8.100000e-03  2.560000e-02  6.250000e-02"
      ]
     },
     "execution_count": 359,
     "metadata": {},
     "output_type": "execute_result"
    }
   ],
   "source": [
    "dataFrame2**4"
   ]
  },
  {
   "cell_type": "markdown",
   "metadata": {},
   "source": [
    "<font color='#094B91'> Create one DataFrame of boolian data type</font>"
   ]
  },
  {
   "cell_type": "code",
   "execution_count": 360,
   "metadata": {},
   "outputs": [],
   "source": [
    "boolTuple1 = (1, 1, 1, 1, 0, 0)\n",
    "boolTuple2 = (1, 0, 0, 1, 0, 1)\n",
    "boolTuple3 = (0, 0, 1, 1, 0, 0)\n",
    "\n",
    "\n",
    "dataFrame1 = pnd.DataFrame((boolTuple3,boolTuple3,boolTuple3), columns=['C1', 'C2', 'C3', 'C4','C5','C6'],\n",
    "                           dtype=bool)"
   ]
  },
  {
   "cell_type": "code",
   "execution_count": 361,
   "metadata": {},
   "outputs": [
    {
     "data": {
      "text/html": [
       "<div>\n",
       "<style scoped>\n",
       "    .dataframe tbody tr th:only-of-type {\n",
       "        vertical-align: middle;\n",
       "    }\n",
       "\n",
       "    .dataframe tbody tr th {\n",
       "        vertical-align: top;\n",
       "    }\n",
       "\n",
       "    .dataframe thead th {\n",
       "        text-align: right;\n",
       "    }\n",
       "</style>\n",
       "<table border=\"1\" class=\"dataframe\">\n",
       "  <thead>\n",
       "    <tr style=\"text-align: right;\">\n",
       "      <th></th>\n",
       "      <th>C1</th>\n",
       "      <th>C2</th>\n",
       "      <th>C3</th>\n",
       "      <th>C4</th>\n",
       "      <th>C5</th>\n",
       "      <th>C6</th>\n",
       "    </tr>\n",
       "  </thead>\n",
       "  <tbody>\n",
       "    <tr>\n",
       "      <th>0</th>\n",
       "      <td>False</td>\n",
       "      <td>False</td>\n",
       "      <td>True</td>\n",
       "      <td>True</td>\n",
       "      <td>False</td>\n",
       "      <td>False</td>\n",
       "    </tr>\n",
       "    <tr>\n",
       "      <th>1</th>\n",
       "      <td>False</td>\n",
       "      <td>False</td>\n",
       "      <td>True</td>\n",
       "      <td>True</td>\n",
       "      <td>False</td>\n",
       "      <td>False</td>\n",
       "    </tr>\n",
       "    <tr>\n",
       "      <th>2</th>\n",
       "      <td>False</td>\n",
       "      <td>False</td>\n",
       "      <td>True</td>\n",
       "      <td>True</td>\n",
       "      <td>False</td>\n",
       "      <td>False</td>\n",
       "    </tr>\n",
       "  </tbody>\n",
       "</table>\n",
       "</div>"
      ],
      "text/plain": [
       "      C1     C2    C3    C4     C5     C6\n",
       "0  False  False  True  True  False  False\n",
       "1  False  False  True  True  False  False\n",
       "2  False  False  True  True  False  False"
      ]
     },
     "execution_count": 361,
     "metadata": {},
     "output_type": "execute_result"
    }
   ],
   "source": [
    "dataFrame1"
   ]
  },
  {
   "cell_type": "markdown",
   "metadata": {},
   "source": [
    "<font color='#094B91'> Create one more DataFrame of boolian data type</font>"
   ]
  },
  {
   "cell_type": "code",
   "execution_count": 362,
   "metadata": {},
   "outputs": [],
   "source": [
    "boolTuple1 = (1,1,1,0,0)\n",
    "boolTuple2 = (1,0,1,0,1)\n",
    "boolTuple3 = (0,0,1,1,0)\n",
    "boolTuple4 = (0,1,0,1,0)\n",
    "\n",
    "dataFrame2 = pnd.DataFrame((boolTuple1,boolTuple2,boolTuple3,boolTuple4), \n",
    "                           columns=['C1', 'C2', 'C3', 'C4','C5'], dtype=bool)"
   ]
  },
  {
   "cell_type": "code",
   "execution_count": 363,
   "metadata": {},
   "outputs": [
    {
     "data": {
      "text/html": [
       "<div>\n",
       "<style scoped>\n",
       "    .dataframe tbody tr th:only-of-type {\n",
       "        vertical-align: middle;\n",
       "    }\n",
       "\n",
       "    .dataframe tbody tr th {\n",
       "        vertical-align: top;\n",
       "    }\n",
       "\n",
       "    .dataframe thead th {\n",
       "        text-align: right;\n",
       "    }\n",
       "</style>\n",
       "<table border=\"1\" class=\"dataframe\">\n",
       "  <thead>\n",
       "    <tr style=\"text-align: right;\">\n",
       "      <th></th>\n",
       "      <th>C1</th>\n",
       "      <th>C2</th>\n",
       "      <th>C3</th>\n",
       "      <th>C4</th>\n",
       "      <th>C5</th>\n",
       "    </tr>\n",
       "  </thead>\n",
       "  <tbody>\n",
       "    <tr>\n",
       "      <th>0</th>\n",
       "      <td>True</td>\n",
       "      <td>True</td>\n",
       "      <td>True</td>\n",
       "      <td>False</td>\n",
       "      <td>False</td>\n",
       "    </tr>\n",
       "    <tr>\n",
       "      <th>1</th>\n",
       "      <td>True</td>\n",
       "      <td>False</td>\n",
       "      <td>True</td>\n",
       "      <td>False</td>\n",
       "      <td>True</td>\n",
       "    </tr>\n",
       "    <tr>\n",
       "      <th>2</th>\n",
       "      <td>False</td>\n",
       "      <td>False</td>\n",
       "      <td>True</td>\n",
       "      <td>True</td>\n",
       "      <td>False</td>\n",
       "    </tr>\n",
       "    <tr>\n",
       "      <th>3</th>\n",
       "      <td>False</td>\n",
       "      <td>True</td>\n",
       "      <td>False</td>\n",
       "      <td>True</td>\n",
       "      <td>False</td>\n",
       "    </tr>\n",
       "  </tbody>\n",
       "</table>\n",
       "</div>"
      ],
      "text/plain": [
       "      C1     C2     C3     C4     C5\n",
       "0   True   True   True  False  False\n",
       "1   True  False   True  False   True\n",
       "2  False  False   True   True  False\n",
       "3  False   True  False   True  False"
      ]
     },
     "execution_count": 363,
     "metadata": {},
     "output_type": "execute_result"
    }
   ],
   "source": [
    "dataFrame2"
   ]
  },
  {
   "cell_type": "markdown",
   "metadata": {},
   "source": [
    "<font color='#094B91'> Or Operation between two bool type DataFrame</font>"
   ]
  },
  {
   "cell_type": "code",
   "execution_count": 364,
   "metadata": {},
   "outputs": [
    {
     "data": {
      "text/html": [
       "<div>\n",
       "<style scoped>\n",
       "    .dataframe tbody tr th:only-of-type {\n",
       "        vertical-align: middle;\n",
       "    }\n",
       "\n",
       "    .dataframe tbody tr th {\n",
       "        vertical-align: top;\n",
       "    }\n",
       "\n",
       "    .dataframe thead th {\n",
       "        text-align: right;\n",
       "    }\n",
       "</style>\n",
       "<table border=\"1\" class=\"dataframe\">\n",
       "  <thead>\n",
       "    <tr style=\"text-align: right;\">\n",
       "      <th></th>\n",
       "      <th>C1</th>\n",
       "      <th>C2</th>\n",
       "      <th>C3</th>\n",
       "      <th>C4</th>\n",
       "      <th>C5</th>\n",
       "      <th>C6</th>\n",
       "    </tr>\n",
       "  </thead>\n",
       "  <tbody>\n",
       "    <tr>\n",
       "      <th>0</th>\n",
       "      <td>True</td>\n",
       "      <td>True</td>\n",
       "      <td>True</td>\n",
       "      <td>True</td>\n",
       "      <td>False</td>\n",
       "      <td>NaN</td>\n",
       "    </tr>\n",
       "    <tr>\n",
       "      <th>1</th>\n",
       "      <td>True</td>\n",
       "      <td>False</td>\n",
       "      <td>True</td>\n",
       "      <td>True</td>\n",
       "      <td>True</td>\n",
       "      <td>NaN</td>\n",
       "    </tr>\n",
       "    <tr>\n",
       "      <th>2</th>\n",
       "      <td>False</td>\n",
       "      <td>False</td>\n",
       "      <td>True</td>\n",
       "      <td>True</td>\n",
       "      <td>False</td>\n",
       "      <td>NaN</td>\n",
       "    </tr>\n",
       "    <tr>\n",
       "      <th>3</th>\n",
       "      <td>False</td>\n",
       "      <td>False</td>\n",
       "      <td>False</td>\n",
       "      <td>False</td>\n",
       "      <td>False</td>\n",
       "      <td>NaN</td>\n",
       "    </tr>\n",
       "  </tbody>\n",
       "</table>\n",
       "</div>"
      ],
      "text/plain": [
       "      C1     C2     C3     C4     C5  C6\n",
       "0   True   True   True   True  False NaN\n",
       "1   True  False   True   True   True NaN\n",
       "2  False  False   True   True  False NaN\n",
       "3  False  False  False  False  False NaN"
      ]
     },
     "execution_count": 364,
     "metadata": {},
     "output_type": "execute_result"
    }
   ],
   "source": [
    "dataFrame1 | dataFrame2"
   ]
  },
  {
   "cell_type": "markdown",
   "metadata": {},
   "source": [
    "<font color='#094B91'> And Operation between two bool type DataFrame</font>"
   ]
  },
  {
   "cell_type": "code",
   "execution_count": 365,
   "metadata": {},
   "outputs": [
    {
     "data": {
      "text/html": [
       "<div>\n",
       "<style scoped>\n",
       "    .dataframe tbody tr th:only-of-type {\n",
       "        vertical-align: middle;\n",
       "    }\n",
       "\n",
       "    .dataframe tbody tr th {\n",
       "        vertical-align: top;\n",
       "    }\n",
       "\n",
       "    .dataframe thead th {\n",
       "        text-align: right;\n",
       "    }\n",
       "</style>\n",
       "<table border=\"1\" class=\"dataframe\">\n",
       "  <thead>\n",
       "    <tr style=\"text-align: right;\">\n",
       "      <th></th>\n",
       "      <th>C1</th>\n",
       "      <th>C2</th>\n",
       "      <th>C3</th>\n",
       "      <th>C4</th>\n",
       "      <th>C5</th>\n",
       "      <th>C6</th>\n",
       "    </tr>\n",
       "  </thead>\n",
       "  <tbody>\n",
       "    <tr>\n",
       "      <th>0</th>\n",
       "      <td>False</td>\n",
       "      <td>False</td>\n",
       "      <td>True</td>\n",
       "      <td>False</td>\n",
       "      <td>False</td>\n",
       "      <td>NaN</td>\n",
       "    </tr>\n",
       "    <tr>\n",
       "      <th>1</th>\n",
       "      <td>False</td>\n",
       "      <td>False</td>\n",
       "      <td>True</td>\n",
       "      <td>False</td>\n",
       "      <td>False</td>\n",
       "      <td>NaN</td>\n",
       "    </tr>\n",
       "    <tr>\n",
       "      <th>2</th>\n",
       "      <td>False</td>\n",
       "      <td>False</td>\n",
       "      <td>True</td>\n",
       "      <td>True</td>\n",
       "      <td>False</td>\n",
       "      <td>NaN</td>\n",
       "    </tr>\n",
       "    <tr>\n",
       "      <th>3</th>\n",
       "      <td>False</td>\n",
       "      <td>False</td>\n",
       "      <td>False</td>\n",
       "      <td>False</td>\n",
       "      <td>False</td>\n",
       "      <td>NaN</td>\n",
       "    </tr>\n",
       "  </tbody>\n",
       "</table>\n",
       "</div>"
      ],
      "text/plain": [
       "      C1     C2     C3     C4     C5  C6\n",
       "0  False  False   True  False  False NaN\n",
       "1  False  False   True  False  False NaN\n",
       "2  False  False   True   True  False NaN\n",
       "3  False  False  False  False  False NaN"
      ]
     },
     "execution_count": 365,
     "metadata": {},
     "output_type": "execute_result"
    }
   ],
   "source": [
    "dataFrame1 & dataFrame2"
   ]
  },
  {
   "cell_type": "markdown",
   "metadata": {},
   "source": [
    "<font color='#094B91'> Reverce Or Operation between two bool type DataFrame</font>"
   ]
  },
  {
   "cell_type": "code",
   "execution_count": 366,
   "metadata": {},
   "outputs": [
    {
     "data": {
      "text/html": [
       "<div>\n",
       "<style scoped>\n",
       "    .dataframe tbody tr th:only-of-type {\n",
       "        vertical-align: middle;\n",
       "    }\n",
       "\n",
       "    .dataframe tbody tr th {\n",
       "        vertical-align: top;\n",
       "    }\n",
       "\n",
       "    .dataframe thead th {\n",
       "        text-align: right;\n",
       "    }\n",
       "</style>\n",
       "<table border=\"1\" class=\"dataframe\">\n",
       "  <thead>\n",
       "    <tr style=\"text-align: right;\">\n",
       "      <th></th>\n",
       "      <th>C1</th>\n",
       "      <th>C2</th>\n",
       "      <th>C3</th>\n",
       "      <th>C4</th>\n",
       "      <th>C5</th>\n",
       "      <th>C6</th>\n",
       "    </tr>\n",
       "  </thead>\n",
       "  <tbody>\n",
       "    <tr>\n",
       "      <th>0</th>\n",
       "      <td>True</td>\n",
       "      <td>True</td>\n",
       "      <td>False</td>\n",
       "      <td>False</td>\n",
       "      <td>True</td>\n",
       "      <td>True</td>\n",
       "    </tr>\n",
       "    <tr>\n",
       "      <th>1</th>\n",
       "      <td>True</td>\n",
       "      <td>True</td>\n",
       "      <td>False</td>\n",
       "      <td>False</td>\n",
       "      <td>True</td>\n",
       "      <td>True</td>\n",
       "    </tr>\n",
       "    <tr>\n",
       "      <th>2</th>\n",
       "      <td>True</td>\n",
       "      <td>True</td>\n",
       "      <td>False</td>\n",
       "      <td>False</td>\n",
       "      <td>True</td>\n",
       "      <td>True</td>\n",
       "    </tr>\n",
       "  </tbody>\n",
       "</table>\n",
       "</div>"
      ],
      "text/plain": [
       "     C1    C2     C3     C4    C5    C6\n",
       "0  True  True  False  False  True  True\n",
       "1  True  True  False  False  True  True\n",
       "2  True  True  False  False  True  True"
      ]
     },
     "execution_count": 366,
     "metadata": {},
     "output_type": "execute_result"
    }
   ],
   "source": [
    "-dataFrame1"
   ]
  },
  {
   "cell_type": "markdown",
   "metadata": {},
   "source": [
    "### <font color='orange'>Example 3:</font>\n",
    "\n",
    "<font color='#094B91'> In this example we create some tuple and than create a DataFrame using these tuple and pass a list for column name.</font>"
   ]
  },
  {
   "cell_type": "code",
   "execution_count": 367,
   "metadata": {},
   "outputs": [],
   "source": [
    "S1 = (40.10, 35.20, 36.30, 66.40, 50.50, 60.60)\n",
    "S2 = (50.10, 50.20, 53.30, 56.40, 65.50, 55.60)\n",
    "S3 = (60.10, 60.20, 63.30, 74.40, 34.50, 77.60)\n",
    "S4 = (44.10, 44.20, 43.30, 55.40, 54.50, 88.60)\n",
    "S5 = (55.10, 55.20, 53.30, 64.40, 54.50, 34.60)\n",
    "S6 = (66.10, 66.20, 63.30, 68.40, 45.50, 67.60)\n",
    "\n",
    "dataFrame1 = pnd.DataFrame((S1,S2,S3,S4,S5,S6), columns=['Math', 'Urdu', 'Eng', 'Ch','Isl','Phy'])"
   ]
  },
  {
   "cell_type": "code",
   "execution_count": 368,
   "metadata": {},
   "outputs": [
    {
     "data": {
      "text/html": [
       "<div>\n",
       "<style scoped>\n",
       "    .dataframe tbody tr th:only-of-type {\n",
       "        vertical-align: middle;\n",
       "    }\n",
       "\n",
       "    .dataframe tbody tr th {\n",
       "        vertical-align: top;\n",
       "    }\n",
       "\n",
       "    .dataframe thead th {\n",
       "        text-align: right;\n",
       "    }\n",
       "</style>\n",
       "<table border=\"1\" class=\"dataframe\">\n",
       "  <thead>\n",
       "    <tr style=\"text-align: right;\">\n",
       "      <th></th>\n",
       "      <th>Math</th>\n",
       "      <th>Urdu</th>\n",
       "      <th>Eng</th>\n",
       "      <th>Ch</th>\n",
       "      <th>Isl</th>\n",
       "      <th>Phy</th>\n",
       "    </tr>\n",
       "  </thead>\n",
       "  <tbody>\n",
       "    <tr>\n",
       "      <th>0</th>\n",
       "      <td>40.1</td>\n",
       "      <td>35.2</td>\n",
       "      <td>36.3</td>\n",
       "      <td>66.4</td>\n",
       "      <td>50.5</td>\n",
       "      <td>60.6</td>\n",
       "    </tr>\n",
       "    <tr>\n",
       "      <th>1</th>\n",
       "      <td>50.1</td>\n",
       "      <td>50.2</td>\n",
       "      <td>53.3</td>\n",
       "      <td>56.4</td>\n",
       "      <td>65.5</td>\n",
       "      <td>55.6</td>\n",
       "    </tr>\n",
       "    <tr>\n",
       "      <th>2</th>\n",
       "      <td>60.1</td>\n",
       "      <td>60.2</td>\n",
       "      <td>63.3</td>\n",
       "      <td>74.4</td>\n",
       "      <td>34.5</td>\n",
       "      <td>77.6</td>\n",
       "    </tr>\n",
       "    <tr>\n",
       "      <th>3</th>\n",
       "      <td>44.1</td>\n",
       "      <td>44.2</td>\n",
       "      <td>43.3</td>\n",
       "      <td>55.4</td>\n",
       "      <td>54.5</td>\n",
       "      <td>88.6</td>\n",
       "    </tr>\n",
       "    <tr>\n",
       "      <th>4</th>\n",
       "      <td>55.1</td>\n",
       "      <td>55.2</td>\n",
       "      <td>53.3</td>\n",
       "      <td>64.4</td>\n",
       "      <td>54.5</td>\n",
       "      <td>34.6</td>\n",
       "    </tr>\n",
       "    <tr>\n",
       "      <th>5</th>\n",
       "      <td>66.1</td>\n",
       "      <td>66.2</td>\n",
       "      <td>63.3</td>\n",
       "      <td>68.4</td>\n",
       "      <td>45.5</td>\n",
       "      <td>67.6</td>\n",
       "    </tr>\n",
       "  </tbody>\n",
       "</table>\n",
       "</div>"
      ],
      "text/plain": [
       "   Math  Urdu   Eng    Ch   Isl   Phy\n",
       "0  40.1  35.2  36.3  66.4  50.5  60.6\n",
       "1  50.1  50.2  53.3  56.4  65.5  55.6\n",
       "2  60.1  60.2  63.3  74.4  34.5  77.6\n",
       "3  44.1  44.2  43.3  55.4  54.5  88.6\n",
       "4  55.1  55.2  53.3  64.4  54.5  34.6\n",
       "5  66.1  66.2  63.3  68.4  45.5  67.6"
      ]
     },
     "execution_count": 368,
     "metadata": {},
     "output_type": "execute_result"
    }
   ],
   "source": [
    "dataFrame1"
   ]
  },
  {
   "cell_type": "markdown",
   "metadata": {},
   "source": [
    "<font color='#094B91'> In this example we create some more tuple and than create one more DataFrame using these tuple and pass a list for column name.</font>"
   ]
  },
  {
   "cell_type": "code",
   "execution_count": 369,
   "metadata": {},
   "outputs": [],
   "source": [
    "S1 = (40.10, 35.20, 36.30, 66.40, 50.50)\n",
    "S2 = (50.10, 50.20, 53.30, 56.40, 65.50)\n",
    "S3 = (60.10, 60.20, 63.30, 74.40, 34.50)\n",
    "S4 = (44.10, 44.20, 43.30, 55.40, 54.50)\n",
    "S5 = (55.10, 55.20, 53.30, 64.40, 54.50)\n",
    "\n",
    "dataFrame2 = pnd.DataFrame((S1,S2,S3,S4,S5), columns=['Math', 'Urdu', 'Eng','Isl','Phy'])"
   ]
  },
  {
   "cell_type": "code",
   "execution_count": 370,
   "metadata": {},
   "outputs": [
    {
     "data": {
      "text/html": [
       "<div>\n",
       "<style scoped>\n",
       "    .dataframe tbody tr th:only-of-type {\n",
       "        vertical-align: middle;\n",
       "    }\n",
       "\n",
       "    .dataframe tbody tr th {\n",
       "        vertical-align: top;\n",
       "    }\n",
       "\n",
       "    .dataframe thead th {\n",
       "        text-align: right;\n",
       "    }\n",
       "</style>\n",
       "<table border=\"1\" class=\"dataframe\">\n",
       "  <thead>\n",
       "    <tr style=\"text-align: right;\">\n",
       "      <th></th>\n",
       "      <th>Math</th>\n",
       "      <th>Urdu</th>\n",
       "      <th>Eng</th>\n",
       "      <th>Isl</th>\n",
       "      <th>Phy</th>\n",
       "    </tr>\n",
       "  </thead>\n",
       "  <tbody>\n",
       "    <tr>\n",
       "      <th>0</th>\n",
       "      <td>40.1</td>\n",
       "      <td>35.2</td>\n",
       "      <td>36.3</td>\n",
       "      <td>66.4</td>\n",
       "      <td>50.5</td>\n",
       "    </tr>\n",
       "    <tr>\n",
       "      <th>1</th>\n",
       "      <td>50.1</td>\n",
       "      <td>50.2</td>\n",
       "      <td>53.3</td>\n",
       "      <td>56.4</td>\n",
       "      <td>65.5</td>\n",
       "    </tr>\n",
       "    <tr>\n",
       "      <th>2</th>\n",
       "      <td>60.1</td>\n",
       "      <td>60.2</td>\n",
       "      <td>63.3</td>\n",
       "      <td>74.4</td>\n",
       "      <td>34.5</td>\n",
       "    </tr>\n",
       "    <tr>\n",
       "      <th>3</th>\n",
       "      <td>44.1</td>\n",
       "      <td>44.2</td>\n",
       "      <td>43.3</td>\n",
       "      <td>55.4</td>\n",
       "      <td>54.5</td>\n",
       "    </tr>\n",
       "    <tr>\n",
       "      <th>4</th>\n",
       "      <td>55.1</td>\n",
       "      <td>55.2</td>\n",
       "      <td>53.3</td>\n",
       "      <td>64.4</td>\n",
       "      <td>54.5</td>\n",
       "    </tr>\n",
       "  </tbody>\n",
       "</table>\n",
       "</div>"
      ],
      "text/plain": [
       "   Math  Urdu   Eng   Isl   Phy\n",
       "0  40.1  35.2  36.3  66.4  50.5\n",
       "1  50.1  50.2  53.3  56.4  65.5\n",
       "2  60.1  60.2  63.3  74.4  34.5\n",
       "3  44.1  44.2  43.3  55.4  54.5\n",
       "4  55.1  55.2  53.3  64.4  54.5"
      ]
     },
     "execution_count": 370,
     "metadata": {},
     "output_type": "execute_result"
    }
   ],
   "source": [
    "dataFrame2"
   ]
  },
  {
   "cell_type": "markdown",
   "metadata": {},
   "source": [
    "<font color='#094B91'> Add DataFrame 1 and DataFrame 2</font>\n"
   ]
  },
  {
   "cell_type": "code",
   "execution_count": 371,
   "metadata": {},
   "outputs": [
    {
     "data": {
      "text/html": [
       "<div>\n",
       "<style scoped>\n",
       "    .dataframe tbody tr th:only-of-type {\n",
       "        vertical-align: middle;\n",
       "    }\n",
       "\n",
       "    .dataframe tbody tr th {\n",
       "        vertical-align: top;\n",
       "    }\n",
       "\n",
       "    .dataframe thead th {\n",
       "        text-align: right;\n",
       "    }\n",
       "</style>\n",
       "<table border=\"1\" class=\"dataframe\">\n",
       "  <thead>\n",
       "    <tr style=\"text-align: right;\">\n",
       "      <th></th>\n",
       "      <th>Ch</th>\n",
       "      <th>Eng</th>\n",
       "      <th>Isl</th>\n",
       "      <th>Math</th>\n",
       "      <th>Phy</th>\n",
       "      <th>Urdu</th>\n",
       "    </tr>\n",
       "  </thead>\n",
       "  <tbody>\n",
       "    <tr>\n",
       "      <th>0</th>\n",
       "      <td>NaN</td>\n",
       "      <td>72.6</td>\n",
       "      <td>116.9</td>\n",
       "      <td>80.2</td>\n",
       "      <td>111.1</td>\n",
       "      <td>70.4</td>\n",
       "    </tr>\n",
       "    <tr>\n",
       "      <th>1</th>\n",
       "      <td>NaN</td>\n",
       "      <td>106.6</td>\n",
       "      <td>121.9</td>\n",
       "      <td>100.2</td>\n",
       "      <td>121.1</td>\n",
       "      <td>100.4</td>\n",
       "    </tr>\n",
       "    <tr>\n",
       "      <th>2</th>\n",
       "      <td>NaN</td>\n",
       "      <td>126.6</td>\n",
       "      <td>108.9</td>\n",
       "      <td>120.2</td>\n",
       "      <td>112.1</td>\n",
       "      <td>120.4</td>\n",
       "    </tr>\n",
       "    <tr>\n",
       "      <th>3</th>\n",
       "      <td>NaN</td>\n",
       "      <td>86.6</td>\n",
       "      <td>109.9</td>\n",
       "      <td>88.2</td>\n",
       "      <td>143.1</td>\n",
       "      <td>88.4</td>\n",
       "    </tr>\n",
       "    <tr>\n",
       "      <th>4</th>\n",
       "      <td>NaN</td>\n",
       "      <td>106.6</td>\n",
       "      <td>118.9</td>\n",
       "      <td>110.2</td>\n",
       "      <td>89.1</td>\n",
       "      <td>110.4</td>\n",
       "    </tr>\n",
       "    <tr>\n",
       "      <th>5</th>\n",
       "      <td>NaN</td>\n",
       "      <td>NaN</td>\n",
       "      <td>NaN</td>\n",
       "      <td>NaN</td>\n",
       "      <td>NaN</td>\n",
       "      <td>NaN</td>\n",
       "    </tr>\n",
       "  </tbody>\n",
       "</table>\n",
       "</div>"
      ],
      "text/plain": [
       "   Ch    Eng    Isl   Math    Phy   Urdu\n",
       "0 NaN   72.6  116.9   80.2  111.1   70.4\n",
       "1 NaN  106.6  121.9  100.2  121.1  100.4\n",
       "2 NaN  126.6  108.9  120.2  112.1  120.4\n",
       "3 NaN   86.6  109.9   88.2  143.1   88.4\n",
       "4 NaN  106.6  118.9  110.2   89.1  110.4\n",
       "5 NaN    NaN    NaN    NaN    NaN    NaN"
      ]
     },
     "execution_count": 371,
     "metadata": {},
     "output_type": "execute_result"
    }
   ],
   "source": [
    "dataFrame1 + dataFrame2"
   ]
  },
  {
   "cell_type": "markdown",
   "metadata": {},
   "source": [
    "<font color='#094B91'> When doing an operation between DataFrame and Series, the default behavior is to align the Series index on the DataFrame columns.</font>\n"
   ]
  },
  {
   "cell_type": "code",
   "execution_count": 372,
   "metadata": {},
   "outputs": [
    {
     "data": {
      "text/html": [
       "<div>\n",
       "<style scoped>\n",
       "    .dataframe tbody tr th:only-of-type {\n",
       "        vertical-align: middle;\n",
       "    }\n",
       "\n",
       "    .dataframe tbody tr th {\n",
       "        vertical-align: top;\n",
       "    }\n",
       "\n",
       "    .dataframe thead th {\n",
       "        text-align: right;\n",
       "    }\n",
       "</style>\n",
       "<table border=\"1\" class=\"dataframe\">\n",
       "  <thead>\n",
       "    <tr style=\"text-align: right;\">\n",
       "      <th></th>\n",
       "      <th>Ch</th>\n",
       "      <th>Eng</th>\n",
       "      <th>Isl</th>\n",
       "      <th>Math</th>\n",
       "      <th>Phy</th>\n",
       "      <th>Urdu</th>\n",
       "    </tr>\n",
       "  </thead>\n",
       "  <tbody>\n",
       "    <tr>\n",
       "      <th>0</th>\n",
       "      <td>NaN</td>\n",
       "      <td>1571.79</td>\n",
       "      <td>2797.7</td>\n",
       "      <td>1768.41</td>\n",
       "      <td>3302.7</td>\n",
       "      <td>1555.84</td>\n",
       "    </tr>\n",
       "    <tr>\n",
       "      <th>1</th>\n",
       "      <td>NaN</td>\n",
       "      <td>2307.89</td>\n",
       "      <td>3628.7</td>\n",
       "      <td>2209.41</td>\n",
       "      <td>3030.2</td>\n",
       "      <td>2218.84</td>\n",
       "    </tr>\n",
       "    <tr>\n",
       "      <th>2</th>\n",
       "      <td>NaN</td>\n",
       "      <td>2740.89</td>\n",
       "      <td>1911.3</td>\n",
       "      <td>2650.41</td>\n",
       "      <td>4229.2</td>\n",
       "      <td>2660.84</td>\n",
       "    </tr>\n",
       "    <tr>\n",
       "      <th>3</th>\n",
       "      <td>NaN</td>\n",
       "      <td>1874.89</td>\n",
       "      <td>3019.3</td>\n",
       "      <td>1944.81</td>\n",
       "      <td>4828.7</td>\n",
       "      <td>1953.64</td>\n",
       "    </tr>\n",
       "    <tr>\n",
       "      <th>4</th>\n",
       "      <td>NaN</td>\n",
       "      <td>2307.89</td>\n",
       "      <td>3019.3</td>\n",
       "      <td>2429.91</td>\n",
       "      <td>1885.7</td>\n",
       "      <td>2439.84</td>\n",
       "    </tr>\n",
       "    <tr>\n",
       "      <th>5</th>\n",
       "      <td>NaN</td>\n",
       "      <td>2740.89</td>\n",
       "      <td>2520.7</td>\n",
       "      <td>2915.01</td>\n",
       "      <td>3684.2</td>\n",
       "      <td>2926.04</td>\n",
       "    </tr>\n",
       "  </tbody>\n",
       "</table>\n",
       "</div>"
      ],
      "text/plain": [
       "   Ch      Eng     Isl     Math     Phy     Urdu\n",
       "0 NaN  1571.79  2797.7  1768.41  3302.7  1555.84\n",
       "1 NaN  2307.89  3628.7  2209.41  3030.2  2218.84\n",
       "2 NaN  2740.89  1911.3  2650.41  4229.2  2660.84\n",
       "3 NaN  1874.89  3019.3  1944.81  4828.7  1953.64\n",
       "4 NaN  2307.89  3019.3  2429.91  1885.7  2439.84\n",
       "5 NaN  2740.89  2520.7  2915.01  3684.2  2926.04"
      ]
     },
     "execution_count": 372,
     "metadata": {},
     "output_type": "execute_result"
    }
   ],
   "source": [
    "dataFrame1 * dataFrame2.iloc[3]"
   ]
  },
  {
   "cell_type": "markdown",
   "metadata": {},
   "source": [
    "<font color='#094B91'> Add 3 in each cell of DataFrame</font>"
   ]
  },
  {
   "cell_type": "code",
   "execution_count": 373,
   "metadata": {},
   "outputs": [
    {
     "data": {
      "text/html": [
       "<div>\n",
       "<style scoped>\n",
       "    .dataframe tbody tr th:only-of-type {\n",
       "        vertical-align: middle;\n",
       "    }\n",
       "\n",
       "    .dataframe tbody tr th {\n",
       "        vertical-align: top;\n",
       "    }\n",
       "\n",
       "    .dataframe thead th {\n",
       "        text-align: right;\n",
       "    }\n",
       "</style>\n",
       "<table border=\"1\" class=\"dataframe\">\n",
       "  <thead>\n",
       "    <tr style=\"text-align: right;\">\n",
       "      <th></th>\n",
       "      <th>Math</th>\n",
       "      <th>Urdu</th>\n",
       "      <th>Eng</th>\n",
       "      <th>Ch</th>\n",
       "      <th>Isl</th>\n",
       "      <th>Phy</th>\n",
       "    </tr>\n",
       "  </thead>\n",
       "  <tbody>\n",
       "    <tr>\n",
       "      <th>0</th>\n",
       "      <td>43.1</td>\n",
       "      <td>38.2</td>\n",
       "      <td>39.3</td>\n",
       "      <td>69.4</td>\n",
       "      <td>53.5</td>\n",
       "      <td>63.6</td>\n",
       "    </tr>\n",
       "    <tr>\n",
       "      <th>1</th>\n",
       "      <td>53.1</td>\n",
       "      <td>53.2</td>\n",
       "      <td>56.3</td>\n",
       "      <td>59.4</td>\n",
       "      <td>68.5</td>\n",
       "      <td>58.6</td>\n",
       "    </tr>\n",
       "    <tr>\n",
       "      <th>2</th>\n",
       "      <td>63.1</td>\n",
       "      <td>63.2</td>\n",
       "      <td>66.3</td>\n",
       "      <td>77.4</td>\n",
       "      <td>37.5</td>\n",
       "      <td>80.6</td>\n",
       "    </tr>\n",
       "    <tr>\n",
       "      <th>3</th>\n",
       "      <td>47.1</td>\n",
       "      <td>47.2</td>\n",
       "      <td>46.3</td>\n",
       "      <td>58.4</td>\n",
       "      <td>57.5</td>\n",
       "      <td>91.6</td>\n",
       "    </tr>\n",
       "    <tr>\n",
       "      <th>4</th>\n",
       "      <td>58.1</td>\n",
       "      <td>58.2</td>\n",
       "      <td>56.3</td>\n",
       "      <td>67.4</td>\n",
       "      <td>57.5</td>\n",
       "      <td>37.6</td>\n",
       "    </tr>\n",
       "    <tr>\n",
       "      <th>5</th>\n",
       "      <td>69.1</td>\n",
       "      <td>69.2</td>\n",
       "      <td>66.3</td>\n",
       "      <td>71.4</td>\n",
       "      <td>48.5</td>\n",
       "      <td>70.6</td>\n",
       "    </tr>\n",
       "  </tbody>\n",
       "</table>\n",
       "</div>"
      ],
      "text/plain": [
       "   Math  Urdu   Eng    Ch   Isl   Phy\n",
       "0  43.1  38.2  39.3  69.4  53.5  63.6\n",
       "1  53.1  53.2  56.3  59.4  68.5  58.6\n",
       "2  63.1  63.2  66.3  77.4  37.5  80.6\n",
       "3  47.1  47.2  46.3  58.4  57.5  91.6\n",
       "4  58.1  58.2  56.3  67.4  57.5  37.6\n",
       "5  69.1  69.2  66.3  71.4  48.5  70.6"
      ]
     },
     "execution_count": 373,
     "metadata": {},
     "output_type": "execute_result"
    }
   ],
   "source": [
    "dataFrame1 + 3 #Add 3 in each row,column and data become allign"
   ]
  },
  {
   "cell_type": "markdown",
   "metadata": {},
   "source": [
    "<font color='#094B91'> Add 1 + 5 in each cell of DataFrame</font>"
   ]
  },
  {
   "cell_type": "code",
   "execution_count": 374,
   "metadata": {},
   "outputs": [
    {
     "data": {
      "text/html": [
       "<div>\n",
       "<style scoped>\n",
       "    .dataframe tbody tr th:only-of-type {\n",
       "        vertical-align: middle;\n",
       "    }\n",
       "\n",
       "    .dataframe tbody tr th {\n",
       "        vertical-align: top;\n",
       "    }\n",
       "\n",
       "    .dataframe thead th {\n",
       "        text-align: right;\n",
       "    }\n",
       "</style>\n",
       "<table border=\"1\" class=\"dataframe\">\n",
       "  <thead>\n",
       "    <tr style=\"text-align: right;\">\n",
       "      <th></th>\n",
       "      <th>Math</th>\n",
       "      <th>Urdu</th>\n",
       "      <th>Eng</th>\n",
       "      <th>Isl</th>\n",
       "      <th>Phy</th>\n",
       "    </tr>\n",
       "  </thead>\n",
       "  <tbody>\n",
       "    <tr>\n",
       "      <th>0</th>\n",
       "      <td>46.1</td>\n",
       "      <td>41.2</td>\n",
       "      <td>42.3</td>\n",
       "      <td>72.4</td>\n",
       "      <td>56.5</td>\n",
       "    </tr>\n",
       "    <tr>\n",
       "      <th>1</th>\n",
       "      <td>56.1</td>\n",
       "      <td>56.2</td>\n",
       "      <td>59.3</td>\n",
       "      <td>62.4</td>\n",
       "      <td>71.5</td>\n",
       "    </tr>\n",
       "    <tr>\n",
       "      <th>2</th>\n",
       "      <td>66.1</td>\n",
       "      <td>66.2</td>\n",
       "      <td>69.3</td>\n",
       "      <td>80.4</td>\n",
       "      <td>40.5</td>\n",
       "    </tr>\n",
       "    <tr>\n",
       "      <th>3</th>\n",
       "      <td>50.1</td>\n",
       "      <td>50.2</td>\n",
       "      <td>49.3</td>\n",
       "      <td>61.4</td>\n",
       "      <td>60.5</td>\n",
       "    </tr>\n",
       "    <tr>\n",
       "      <th>4</th>\n",
       "      <td>61.1</td>\n",
       "      <td>61.2</td>\n",
       "      <td>59.3</td>\n",
       "      <td>70.4</td>\n",
       "      <td>60.5</td>\n",
       "    </tr>\n",
       "  </tbody>\n",
       "</table>\n",
       "</div>"
      ],
      "text/plain": [
       "   Math  Urdu   Eng   Isl   Phy\n",
       "0  46.1  41.2  42.3  72.4  56.5\n",
       "1  56.1  56.2  59.3  62.4  71.5\n",
       "2  66.1  66.2  69.3  80.4  40.5\n",
       "3  50.1  50.2  49.3  61.4  60.5\n",
       "4  61.1  61.2  59.3  70.4  60.5"
      ]
     },
     "execution_count": 374,
     "metadata": {},
     "output_type": "execute_result"
    }
   ],
   "source": [
    "dataFrame2 + 1 + 5 #Add 5 in each row,column and data become allign"
   ]
  },
  {
   "cell_type": "markdown",
   "metadata": {},
   "source": [
    "<font color='#094B91'> devide each cell of DataFrame by 2</font>"
   ]
  },
  {
   "cell_type": "code",
   "execution_count": 375,
   "metadata": {},
   "outputs": [
    {
     "data": {
      "text/html": [
       "<div>\n",
       "<style scoped>\n",
       "    .dataframe tbody tr th:only-of-type {\n",
       "        vertical-align: middle;\n",
       "    }\n",
       "\n",
       "    .dataframe tbody tr th {\n",
       "        vertical-align: top;\n",
       "    }\n",
       "\n",
       "    .dataframe thead th {\n",
       "        text-align: right;\n",
       "    }\n",
       "</style>\n",
       "<table border=\"1\" class=\"dataframe\">\n",
       "  <thead>\n",
       "    <tr style=\"text-align: right;\">\n",
       "      <th></th>\n",
       "      <th>Math</th>\n",
       "      <th>Urdu</th>\n",
       "      <th>Eng</th>\n",
       "      <th>Ch</th>\n",
       "      <th>Isl</th>\n",
       "      <th>Phy</th>\n",
       "    </tr>\n",
       "  </thead>\n",
       "  <tbody>\n",
       "    <tr>\n",
       "      <th>0</th>\n",
       "      <td>0.049875</td>\n",
       "      <td>0.056818</td>\n",
       "      <td>0.055096</td>\n",
       "      <td>0.030120</td>\n",
       "      <td>0.039604</td>\n",
       "      <td>0.033003</td>\n",
       "    </tr>\n",
       "    <tr>\n",
       "      <th>1</th>\n",
       "      <td>0.039920</td>\n",
       "      <td>0.039841</td>\n",
       "      <td>0.037523</td>\n",
       "      <td>0.035461</td>\n",
       "      <td>0.030534</td>\n",
       "      <td>0.035971</td>\n",
       "    </tr>\n",
       "    <tr>\n",
       "      <th>2</th>\n",
       "      <td>0.033278</td>\n",
       "      <td>0.033223</td>\n",
       "      <td>0.031596</td>\n",
       "      <td>0.026882</td>\n",
       "      <td>0.057971</td>\n",
       "      <td>0.025773</td>\n",
       "    </tr>\n",
       "    <tr>\n",
       "      <th>3</th>\n",
       "      <td>0.045351</td>\n",
       "      <td>0.045249</td>\n",
       "      <td>0.046189</td>\n",
       "      <td>0.036101</td>\n",
       "      <td>0.036697</td>\n",
       "      <td>0.022573</td>\n",
       "    </tr>\n",
       "    <tr>\n",
       "      <th>4</th>\n",
       "      <td>0.036298</td>\n",
       "      <td>0.036232</td>\n",
       "      <td>0.037523</td>\n",
       "      <td>0.031056</td>\n",
       "      <td>0.036697</td>\n",
       "      <td>0.057803</td>\n",
       "    </tr>\n",
       "    <tr>\n",
       "      <th>5</th>\n",
       "      <td>0.030257</td>\n",
       "      <td>0.030211</td>\n",
       "      <td>0.031596</td>\n",
       "      <td>0.029240</td>\n",
       "      <td>0.043956</td>\n",
       "      <td>0.029586</td>\n",
       "    </tr>\n",
       "  </tbody>\n",
       "</table>\n",
       "</div>"
      ],
      "text/plain": [
       "       Math      Urdu       Eng        Ch       Isl       Phy\n",
       "0  0.049875  0.056818  0.055096  0.030120  0.039604  0.033003\n",
       "1  0.039920  0.039841  0.037523  0.035461  0.030534  0.035971\n",
       "2  0.033278  0.033223  0.031596  0.026882  0.057971  0.025773\n",
       "3  0.045351  0.045249  0.046189  0.036101  0.036697  0.022573\n",
       "4  0.036298  0.036232  0.037523  0.031056  0.036697  0.057803\n",
       "5  0.030257  0.030211  0.031596  0.029240  0.043956  0.029586"
      ]
     },
     "execution_count": 375,
     "metadata": {},
     "output_type": "execute_result"
    }
   ],
   "source": [
    "2 / dataFrame1"
   ]
  },
  {
   "cell_type": "code",
   "execution_count": 376,
   "metadata": {},
   "outputs": [
    {
     "data": {
      "text/html": [
       "<div>\n",
       "<style scoped>\n",
       "    .dataframe tbody tr th:only-of-type {\n",
       "        vertical-align: middle;\n",
       "    }\n",
       "\n",
       "    .dataframe tbody tr th {\n",
       "        vertical-align: top;\n",
       "    }\n",
       "\n",
       "    .dataframe thead th {\n",
       "        text-align: right;\n",
       "    }\n",
       "</style>\n",
       "<table border=\"1\" class=\"dataframe\">\n",
       "  <thead>\n",
       "    <tr style=\"text-align: right;\">\n",
       "      <th></th>\n",
       "      <th>Math</th>\n",
       "      <th>Urdu</th>\n",
       "      <th>Eng</th>\n",
       "      <th>Isl</th>\n",
       "      <th>Phy</th>\n",
       "    </tr>\n",
       "  </thead>\n",
       "  <tbody>\n",
       "    <tr>\n",
       "      <th>0</th>\n",
       "      <td>0.099751</td>\n",
       "      <td>0.113636</td>\n",
       "      <td>0.110193</td>\n",
       "      <td>0.060241</td>\n",
       "      <td>0.079208</td>\n",
       "    </tr>\n",
       "    <tr>\n",
       "      <th>1</th>\n",
       "      <td>0.079840</td>\n",
       "      <td>0.079681</td>\n",
       "      <td>0.075047</td>\n",
       "      <td>0.070922</td>\n",
       "      <td>0.061069</td>\n",
       "    </tr>\n",
       "    <tr>\n",
       "      <th>2</th>\n",
       "      <td>0.066556</td>\n",
       "      <td>0.066445</td>\n",
       "      <td>0.063191</td>\n",
       "      <td>0.053763</td>\n",
       "      <td>0.115942</td>\n",
       "    </tr>\n",
       "    <tr>\n",
       "      <th>3</th>\n",
       "      <td>0.090703</td>\n",
       "      <td>0.090498</td>\n",
       "      <td>0.092379</td>\n",
       "      <td>0.072202</td>\n",
       "      <td>0.073394</td>\n",
       "    </tr>\n",
       "    <tr>\n",
       "      <th>4</th>\n",
       "      <td>0.072595</td>\n",
       "      <td>0.072464</td>\n",
       "      <td>0.075047</td>\n",
       "      <td>0.062112</td>\n",
       "      <td>0.073394</td>\n",
       "    </tr>\n",
       "  </tbody>\n",
       "</table>\n",
       "</div>"
      ],
      "text/plain": [
       "       Math      Urdu       Eng       Isl       Phy\n",
       "0  0.099751  0.113636  0.110193  0.060241  0.079208\n",
       "1  0.079840  0.079681  0.075047  0.070922  0.061069\n",
       "2  0.066556  0.066445  0.063191  0.053763  0.115942\n",
       "3  0.090703  0.090498  0.092379  0.072202  0.073394\n",
       "4  0.072595  0.072464  0.075047  0.062112  0.073394"
      ]
     },
     "execution_count": 376,
     "metadata": {},
     "output_type": "execute_result"
    }
   ],
   "source": [
    "4 / dataFrame2"
   ]
  },
  {
   "cell_type": "markdown",
   "metadata": {},
   "source": [
    "<font color='#094B91'> Take exponential with each cell of DataFrame</font>"
   ]
  },
  {
   "cell_type": "code",
   "execution_count": 377,
   "metadata": {},
   "outputs": [
    {
     "data": {
      "text/html": [
       "<div>\n",
       "<style scoped>\n",
       "    .dataframe tbody tr th:only-of-type {\n",
       "        vertical-align: middle;\n",
       "    }\n",
       "\n",
       "    .dataframe tbody tr th {\n",
       "        vertical-align: top;\n",
       "    }\n",
       "\n",
       "    .dataframe thead th {\n",
       "        text-align: right;\n",
       "    }\n",
       "</style>\n",
       "<table border=\"1\" class=\"dataframe\">\n",
       "  <thead>\n",
       "    <tr style=\"text-align: right;\">\n",
       "      <th></th>\n",
       "      <th>Math</th>\n",
       "      <th>Urdu</th>\n",
       "      <th>Eng</th>\n",
       "      <th>Ch</th>\n",
       "      <th>Isl</th>\n",
       "      <th>Phy</th>\n",
       "    </tr>\n",
       "  </thead>\n",
       "  <tbody>\n",
       "    <tr>\n",
       "      <th>0</th>\n",
       "      <td>1608.01</td>\n",
       "      <td>1239.04</td>\n",
       "      <td>1317.69</td>\n",
       "      <td>4408.96</td>\n",
       "      <td>2550.25</td>\n",
       "      <td>3672.36</td>\n",
       "    </tr>\n",
       "    <tr>\n",
       "      <th>1</th>\n",
       "      <td>2510.01</td>\n",
       "      <td>2520.04</td>\n",
       "      <td>2840.89</td>\n",
       "      <td>3180.96</td>\n",
       "      <td>4290.25</td>\n",
       "      <td>3091.36</td>\n",
       "    </tr>\n",
       "    <tr>\n",
       "      <th>2</th>\n",
       "      <td>3612.01</td>\n",
       "      <td>3624.04</td>\n",
       "      <td>4006.89</td>\n",
       "      <td>5535.36</td>\n",
       "      <td>1190.25</td>\n",
       "      <td>6021.76</td>\n",
       "    </tr>\n",
       "    <tr>\n",
       "      <th>3</th>\n",
       "      <td>1944.81</td>\n",
       "      <td>1953.64</td>\n",
       "      <td>1874.89</td>\n",
       "      <td>3069.16</td>\n",
       "      <td>2970.25</td>\n",
       "      <td>7849.96</td>\n",
       "    </tr>\n",
       "    <tr>\n",
       "      <th>4</th>\n",
       "      <td>3036.01</td>\n",
       "      <td>3047.04</td>\n",
       "      <td>2840.89</td>\n",
       "      <td>4147.36</td>\n",
       "      <td>2970.25</td>\n",
       "      <td>1197.16</td>\n",
       "    </tr>\n",
       "    <tr>\n",
       "      <th>5</th>\n",
       "      <td>4369.21</td>\n",
       "      <td>4382.44</td>\n",
       "      <td>4006.89</td>\n",
       "      <td>4678.56</td>\n",
       "      <td>2070.25</td>\n",
       "      <td>4569.76</td>\n",
       "    </tr>\n",
       "  </tbody>\n",
       "</table>\n",
       "</div>"
      ],
      "text/plain": [
       "      Math     Urdu      Eng       Ch      Isl      Phy\n",
       "0  1608.01  1239.04  1317.69  4408.96  2550.25  3672.36\n",
       "1  2510.01  2520.04  2840.89  3180.96  4290.25  3091.36\n",
       "2  3612.01  3624.04  4006.89  5535.36  1190.25  6021.76\n",
       "3  1944.81  1953.64  1874.89  3069.16  2970.25  7849.96\n",
       "4  3036.01  3047.04  2840.89  4147.36  2970.25  1197.16\n",
       "5  4369.21  4382.44  4006.89  4678.56  2070.25  4569.76"
      ]
     },
     "execution_count": 377,
     "metadata": {},
     "output_type": "execute_result"
    }
   ],
   "source": [
    "dataFrame1 ** 2"
   ]
  },
  {
   "cell_type": "markdown",
   "metadata": {},
   "source": [
    "<font color='#094B91'> Take exponential with each cell of DataFrame</font>"
   ]
  },
  {
   "cell_type": "code",
   "execution_count": 378,
   "metadata": {},
   "outputs": [
    {
     "data": {
      "text/html": [
       "<div>\n",
       "<style scoped>\n",
       "    .dataframe tbody tr th:only-of-type {\n",
       "        vertical-align: middle;\n",
       "    }\n",
       "\n",
       "    .dataframe tbody tr th {\n",
       "        vertical-align: top;\n",
       "    }\n",
       "\n",
       "    .dataframe thead th {\n",
       "        text-align: right;\n",
       "    }\n",
       "</style>\n",
       "<table border=\"1\" class=\"dataframe\">\n",
       "  <thead>\n",
       "    <tr style=\"text-align: right;\">\n",
       "      <th></th>\n",
       "      <th>Math</th>\n",
       "      <th>Urdu</th>\n",
       "      <th>Eng</th>\n",
       "      <th>Isl</th>\n",
       "      <th>Phy</th>\n",
       "    </tr>\n",
       "  </thead>\n",
       "  <tbody>\n",
       "    <tr>\n",
       "      <th>0</th>\n",
       "      <td>64481.201</td>\n",
       "      <td>43614.208</td>\n",
       "      <td>47832.147</td>\n",
       "      <td>292754.944</td>\n",
       "      <td>128787.625</td>\n",
       "    </tr>\n",
       "    <tr>\n",
       "      <th>1</th>\n",
       "      <td>125751.501</td>\n",
       "      <td>126506.008</td>\n",
       "      <td>151419.437</td>\n",
       "      <td>179406.144</td>\n",
       "      <td>281011.375</td>\n",
       "    </tr>\n",
       "    <tr>\n",
       "      <th>2</th>\n",
       "      <td>217081.801</td>\n",
       "      <td>218167.208</td>\n",
       "      <td>253636.137</td>\n",
       "      <td>411830.784</td>\n",
       "      <td>41063.625</td>\n",
       "    </tr>\n",
       "    <tr>\n",
       "      <th>3</th>\n",
       "      <td>85766.121</td>\n",
       "      <td>86350.888</td>\n",
       "      <td>81182.737</td>\n",
       "      <td>170031.464</td>\n",
       "      <td>161878.625</td>\n",
       "    </tr>\n",
       "    <tr>\n",
       "      <th>4</th>\n",
       "      <td>167284.151</td>\n",
       "      <td>168196.608</td>\n",
       "      <td>151419.437</td>\n",
       "      <td>267089.984</td>\n",
       "      <td>161878.625</td>\n",
       "    </tr>\n",
       "  </tbody>\n",
       "</table>\n",
       "</div>"
      ],
      "text/plain": [
       "         Math        Urdu         Eng         Isl         Phy\n",
       "0   64481.201   43614.208   47832.147  292754.944  128787.625\n",
       "1  125751.501  126506.008  151419.437  179406.144  281011.375\n",
       "2  217081.801  218167.208  253636.137  411830.784   41063.625\n",
       "3   85766.121   86350.888   81182.737  170031.464  161878.625\n",
       "4  167284.151  168196.608  151419.437  267089.984  161878.625"
      ]
     },
     "execution_count": 378,
     "metadata": {},
     "output_type": "execute_result"
    }
   ],
   "source": [
    "dataFrame2 ** 3"
   ]
  },
  {
   "cell_type": "markdown",
   "metadata": {},
   "source": [
    "<font color='#094B91'> Create one DataFrame of boolian data type</font>"
   ]
  },
  {
   "cell_type": "code",
   "execution_count": 379,
   "metadata": {},
   "outputs": [],
   "source": [
    "b1 = (1, 1, 1, 1, 0, 0)\n",
    "b2 = (1, 0, 0, 1, 0, 1)\n",
    "b3 = (0, 0, 1, 1, 0, 0)\n",
    "\n",
    "\n",
    "dataFrame1 = pnd.DataFrame((b1,b2,b3), dtype=bool)"
   ]
  },
  {
   "cell_type": "code",
   "execution_count": 380,
   "metadata": {},
   "outputs": [
    {
     "data": {
      "text/html": [
       "<div>\n",
       "<style scoped>\n",
       "    .dataframe tbody tr th:only-of-type {\n",
       "        vertical-align: middle;\n",
       "    }\n",
       "\n",
       "    .dataframe tbody tr th {\n",
       "        vertical-align: top;\n",
       "    }\n",
       "\n",
       "    .dataframe thead th {\n",
       "        text-align: right;\n",
       "    }\n",
       "</style>\n",
       "<table border=\"1\" class=\"dataframe\">\n",
       "  <thead>\n",
       "    <tr style=\"text-align: right;\">\n",
       "      <th></th>\n",
       "      <th>0</th>\n",
       "      <th>1</th>\n",
       "      <th>2</th>\n",
       "      <th>3</th>\n",
       "      <th>4</th>\n",
       "      <th>5</th>\n",
       "    </tr>\n",
       "  </thead>\n",
       "  <tbody>\n",
       "    <tr>\n",
       "      <th>0</th>\n",
       "      <td>True</td>\n",
       "      <td>True</td>\n",
       "      <td>True</td>\n",
       "      <td>True</td>\n",
       "      <td>False</td>\n",
       "      <td>False</td>\n",
       "    </tr>\n",
       "    <tr>\n",
       "      <th>1</th>\n",
       "      <td>True</td>\n",
       "      <td>False</td>\n",
       "      <td>False</td>\n",
       "      <td>True</td>\n",
       "      <td>False</td>\n",
       "      <td>True</td>\n",
       "    </tr>\n",
       "    <tr>\n",
       "      <th>2</th>\n",
       "      <td>False</td>\n",
       "      <td>False</td>\n",
       "      <td>True</td>\n",
       "      <td>True</td>\n",
       "      <td>False</td>\n",
       "      <td>False</td>\n",
       "    </tr>\n",
       "  </tbody>\n",
       "</table>\n",
       "</div>"
      ],
      "text/plain": [
       "       0      1      2     3      4      5\n",
       "0   True   True   True  True  False  False\n",
       "1   True  False  False  True  False   True\n",
       "2  False  False   True  True  False  False"
      ]
     },
     "execution_count": 380,
     "metadata": {},
     "output_type": "execute_result"
    }
   ],
   "source": [
    "dataFrame1"
   ]
  },
  {
   "cell_type": "markdown",
   "metadata": {},
   "source": [
    "<font color='#094B91'> Create one more DataFrame of boolian data type</font>"
   ]
  },
  {
   "cell_type": "code",
   "execution_count": 381,
   "metadata": {},
   "outputs": [],
   "source": [
    "b1 = (1,1,1,0,0)\n",
    "b2 = (1,0,1,0,1)\n",
    "\n",
    "\n",
    "dataFrame2 = pnd.DataFrame((b1,b2), dtype=bool)"
   ]
  },
  {
   "cell_type": "code",
   "execution_count": 382,
   "metadata": {},
   "outputs": [
    {
     "data": {
      "text/html": [
       "<div>\n",
       "<style scoped>\n",
       "    .dataframe tbody tr th:only-of-type {\n",
       "        vertical-align: middle;\n",
       "    }\n",
       "\n",
       "    .dataframe tbody tr th {\n",
       "        vertical-align: top;\n",
       "    }\n",
       "\n",
       "    .dataframe thead th {\n",
       "        text-align: right;\n",
       "    }\n",
       "</style>\n",
       "<table border=\"1\" class=\"dataframe\">\n",
       "  <thead>\n",
       "    <tr style=\"text-align: right;\">\n",
       "      <th></th>\n",
       "      <th>0</th>\n",
       "      <th>1</th>\n",
       "      <th>2</th>\n",
       "      <th>3</th>\n",
       "      <th>4</th>\n",
       "    </tr>\n",
       "  </thead>\n",
       "  <tbody>\n",
       "    <tr>\n",
       "      <th>0</th>\n",
       "      <td>True</td>\n",
       "      <td>True</td>\n",
       "      <td>True</td>\n",
       "      <td>False</td>\n",
       "      <td>False</td>\n",
       "    </tr>\n",
       "    <tr>\n",
       "      <th>1</th>\n",
       "      <td>True</td>\n",
       "      <td>False</td>\n",
       "      <td>True</td>\n",
       "      <td>False</td>\n",
       "      <td>True</td>\n",
       "    </tr>\n",
       "  </tbody>\n",
       "</table>\n",
       "</div>"
      ],
      "text/plain": [
       "      0      1     2      3      4\n",
       "0  True   True  True  False  False\n",
       "1  True  False  True  False   True"
      ]
     },
     "execution_count": 382,
     "metadata": {},
     "output_type": "execute_result"
    }
   ],
   "source": [
    "dataFrame2"
   ]
  },
  {
   "cell_type": "markdown",
   "metadata": {},
   "source": [
    "<font color='#094B91'> Or Operation between two bool type DataFrame</font>"
   ]
  },
  {
   "cell_type": "code",
   "execution_count": 383,
   "metadata": {},
   "outputs": [
    {
     "data": {
      "text/html": [
       "<div>\n",
       "<style scoped>\n",
       "    .dataframe tbody tr th:only-of-type {\n",
       "        vertical-align: middle;\n",
       "    }\n",
       "\n",
       "    .dataframe tbody tr th {\n",
       "        vertical-align: top;\n",
       "    }\n",
       "\n",
       "    .dataframe thead th {\n",
       "        text-align: right;\n",
       "    }\n",
       "</style>\n",
       "<table border=\"1\" class=\"dataframe\">\n",
       "  <thead>\n",
       "    <tr style=\"text-align: right;\">\n",
       "      <th></th>\n",
       "      <th>0</th>\n",
       "      <th>1</th>\n",
       "      <th>2</th>\n",
       "      <th>3</th>\n",
       "      <th>4</th>\n",
       "      <th>5</th>\n",
       "    </tr>\n",
       "  </thead>\n",
       "  <tbody>\n",
       "    <tr>\n",
       "      <th>0</th>\n",
       "      <td>True</td>\n",
       "      <td>True</td>\n",
       "      <td>True</td>\n",
       "      <td>True</td>\n",
       "      <td>False</td>\n",
       "      <td>NaN</td>\n",
       "    </tr>\n",
       "    <tr>\n",
       "      <th>1</th>\n",
       "      <td>True</td>\n",
       "      <td>False</td>\n",
       "      <td>True</td>\n",
       "      <td>True</td>\n",
       "      <td>True</td>\n",
       "      <td>NaN</td>\n",
       "    </tr>\n",
       "    <tr>\n",
       "      <th>2</th>\n",
       "      <td>False</td>\n",
       "      <td>False</td>\n",
       "      <td>False</td>\n",
       "      <td>False</td>\n",
       "      <td>False</td>\n",
       "      <td>NaN</td>\n",
       "    </tr>\n",
       "  </tbody>\n",
       "</table>\n",
       "</div>"
      ],
      "text/plain": [
       "       0      1      2      3      4   5\n",
       "0   True   True   True   True  False NaN\n",
       "1   True  False   True   True   True NaN\n",
       "2  False  False  False  False  False NaN"
      ]
     },
     "execution_count": 383,
     "metadata": {},
     "output_type": "execute_result"
    }
   ],
   "source": [
    "dataFrame2 | dataFrame1"
   ]
  },
  {
   "cell_type": "markdown",
   "metadata": {},
   "source": [
    "<font color='#094B91'> And Operation between two bool type DataFrame</font>"
   ]
  },
  {
   "cell_type": "code",
   "execution_count": 384,
   "metadata": {},
   "outputs": [
    {
     "data": {
      "text/html": [
       "<div>\n",
       "<style scoped>\n",
       "    .dataframe tbody tr th:only-of-type {\n",
       "        vertical-align: middle;\n",
       "    }\n",
       "\n",
       "    .dataframe tbody tr th {\n",
       "        vertical-align: top;\n",
       "    }\n",
       "\n",
       "    .dataframe thead th {\n",
       "        text-align: right;\n",
       "    }\n",
       "</style>\n",
       "<table border=\"1\" class=\"dataframe\">\n",
       "  <thead>\n",
       "    <tr style=\"text-align: right;\">\n",
       "      <th></th>\n",
       "      <th>0</th>\n",
       "      <th>1</th>\n",
       "      <th>2</th>\n",
       "      <th>3</th>\n",
       "      <th>4</th>\n",
       "      <th>5</th>\n",
       "    </tr>\n",
       "  </thead>\n",
       "  <tbody>\n",
       "    <tr>\n",
       "      <th>0</th>\n",
       "      <td>True</td>\n",
       "      <td>True</td>\n",
       "      <td>True</td>\n",
       "      <td>False</td>\n",
       "      <td>False</td>\n",
       "      <td>NaN</td>\n",
       "    </tr>\n",
       "    <tr>\n",
       "      <th>1</th>\n",
       "      <td>True</td>\n",
       "      <td>False</td>\n",
       "      <td>False</td>\n",
       "      <td>False</td>\n",
       "      <td>False</td>\n",
       "      <td>NaN</td>\n",
       "    </tr>\n",
       "    <tr>\n",
       "      <th>2</th>\n",
       "      <td>False</td>\n",
       "      <td>False</td>\n",
       "      <td>False</td>\n",
       "      <td>False</td>\n",
       "      <td>False</td>\n",
       "      <td>NaN</td>\n",
       "    </tr>\n",
       "  </tbody>\n",
       "</table>\n",
       "</div>"
      ],
      "text/plain": [
       "       0      1      2      3      4   5\n",
       "0   True   True   True  False  False NaN\n",
       "1   True  False  False  False  False NaN\n",
       "2  False  False  False  False  False NaN"
      ]
     },
     "execution_count": 384,
     "metadata": {},
     "output_type": "execute_result"
    }
   ],
   "source": [
    "dataFrame2 & dataFrame1"
   ]
  },
  {
   "cell_type": "markdown",
   "metadata": {},
   "source": [
    "<font color='#094B91'> Reverce Or Operation between two bool type DataFrame</font>"
   ]
  },
  {
   "cell_type": "code",
   "execution_count": 385,
   "metadata": {},
   "outputs": [
    {
     "data": {
      "text/html": [
       "<div>\n",
       "<style scoped>\n",
       "    .dataframe tbody tr th:only-of-type {\n",
       "        vertical-align: middle;\n",
       "    }\n",
       "\n",
       "    .dataframe tbody tr th {\n",
       "        vertical-align: top;\n",
       "    }\n",
       "\n",
       "    .dataframe thead th {\n",
       "        text-align: right;\n",
       "    }\n",
       "</style>\n",
       "<table border=\"1\" class=\"dataframe\">\n",
       "  <thead>\n",
       "    <tr style=\"text-align: right;\">\n",
       "      <th></th>\n",
       "      <th>0</th>\n",
       "      <th>1</th>\n",
       "      <th>2</th>\n",
       "      <th>3</th>\n",
       "      <th>4</th>\n",
       "    </tr>\n",
       "  </thead>\n",
       "  <tbody>\n",
       "    <tr>\n",
       "      <th>0</th>\n",
       "      <td>False</td>\n",
       "      <td>False</td>\n",
       "      <td>False</td>\n",
       "      <td>True</td>\n",
       "      <td>True</td>\n",
       "    </tr>\n",
       "    <tr>\n",
       "      <th>1</th>\n",
       "      <td>False</td>\n",
       "      <td>True</td>\n",
       "      <td>False</td>\n",
       "      <td>True</td>\n",
       "      <td>False</td>\n",
       "    </tr>\n",
       "  </tbody>\n",
       "</table>\n",
       "</div>"
      ],
      "text/plain": [
       "       0      1      2     3      4\n",
       "0  False  False  False  True   True\n",
       "1  False   True  False  True  False"
      ]
     },
     "execution_count": 385,
     "metadata": {},
     "output_type": "execute_result"
    }
   ],
   "source": [
    "-dataFrame2"
   ]
  },
  {
   "cell_type": "markdown",
   "metadata": {},
   "source": [
    "# <font color='blue'>11.9 Transposing<font>\n",
    "- To transpose, access the T attribute (also the transpose function), similar to an ndarray\n",
    "    \n",
    "### <font color='orange'>Example 1:</font>\n",
    "    \n",
    "<font color='#094B91'> In this example we use transpose property and apply this property on 1st 5 rows.<font>"
   ]
  },
  {
   "cell_type": "code",
   "execution_count": 386,
   "metadata": {},
   "outputs": [
    {
     "data": {
      "text/html": [
       "<div>\n",
       "<style scoped>\n",
       "    .dataframe tbody tr th:only-of-type {\n",
       "        vertical-align: middle;\n",
       "    }\n",
       "\n",
       "    .dataframe tbody tr th {\n",
       "        vertical-align: top;\n",
       "    }\n",
       "\n",
       "    .dataframe thead th {\n",
       "        text-align: right;\n",
       "    }\n",
       "</style>\n",
       "<table border=\"1\" class=\"dataframe\">\n",
       "  <thead>\n",
       "    <tr style=\"text-align: right;\">\n",
       "      <th></th>\n",
       "      <th>0</th>\n",
       "      <th>1</th>\n",
       "      <th>2</th>\n",
       "      <th>3</th>\n",
       "      <th>4</th>\n",
       "    </tr>\n",
       "  </thead>\n",
       "  <tbody>\n",
       "    <tr>\n",
       "      <th>A</th>\n",
       "      <td>0.454414</td>\n",
       "      <td>-0.038653</td>\n",
       "      <td>-0.141952</td>\n",
       "      <td>-0.623582</td>\n",
       "      <td>-0.258193</td>\n",
       "    </tr>\n",
       "    <tr>\n",
       "      <th>B</th>\n",
       "      <td>0.869632</td>\n",
       "      <td>0.815388</td>\n",
       "      <td>0.168646</td>\n",
       "      <td>-0.409516</td>\n",
       "      <td>-0.987086</td>\n",
       "    </tr>\n",
       "    <tr>\n",
       "      <th>C</th>\n",
       "      <td>0.629025</td>\n",
       "      <td>-0.835661</td>\n",
       "      <td>-0.250383</td>\n",
       "      <td>1.253312</td>\n",
       "      <td>1.269623</td>\n",
       "    </tr>\n",
       "    <tr>\n",
       "      <th>D</th>\n",
       "      <td>-1.563904</td>\n",
       "      <td>1.870703</td>\n",
       "      <td>0.091371</td>\n",
       "      <td>1.748251</td>\n",
       "      <td>-0.638180</td>\n",
       "    </tr>\n",
       "  </tbody>\n",
       "</table>\n",
       "</div>"
      ],
      "text/plain": [
       "          0         1         2         3         4\n",
       "A  0.454414 -0.038653 -0.141952 -0.623582 -0.258193\n",
       "B  0.869632  0.815388  0.168646 -0.409516 -0.987086\n",
       "C  0.629025 -0.835661 -0.250383  1.253312  1.269623\n",
       "D -1.563904  1.870703  0.091371  1.748251 -0.638180"
      ]
     },
     "execution_count": 386,
     "metadata": {},
     "output_type": "execute_result"
    }
   ],
   "source": [
    "# only show the first 5 rows\n",
    "df[:5].T"
   ]
  },
  {
   "cell_type": "markdown",
   "metadata": {},
   "source": [
    "<font color='#094B91'> In this example we Creating a DataFrame by passing a numpy array, with a datetime index and labeled columns.<font>"
   ]
  },
  {
   "cell_type": "code",
   "execution_count": 387,
   "metadata": {},
   "outputs": [],
   "source": [
    " dates = pd.date_range('20130101', periods=6)"
   ]
  },
  {
   "cell_type": "code",
   "execution_count": 388,
   "metadata": {},
   "outputs": [
    {
     "data": {
      "text/plain": [
       "DatetimeIndex(['2013-01-01', '2013-01-02', '2013-01-03', '2013-01-04',\n",
       "               '2013-01-05', '2013-01-06'],\n",
       "              dtype='datetime64[ns]', freq='D')"
      ]
     },
     "execution_count": 388,
     "metadata": {},
     "output_type": "execute_result"
    }
   ],
   "source": [
    " dates"
   ]
  },
  {
   "cell_type": "markdown",
   "metadata": {},
   "source": [
    "<font color='#094B91'> Now we create a DataFrame and make that datetime array as index.<font>"
   ]
  },
  {
   "cell_type": "code",
   "execution_count": 389,
   "metadata": {},
   "outputs": [],
   "source": [
    "df = pd.DataFrame(np.random.randn(6,4), index=dates, columns=list('ABCD'))"
   ]
  },
  {
   "cell_type": "code",
   "execution_count": 390,
   "metadata": {},
   "outputs": [
    {
     "data": {
      "text/html": [
       "<div>\n",
       "<style scoped>\n",
       "    .dataframe tbody tr th:only-of-type {\n",
       "        vertical-align: middle;\n",
       "    }\n",
       "\n",
       "    .dataframe tbody tr th {\n",
       "        vertical-align: top;\n",
       "    }\n",
       "\n",
       "    .dataframe thead th {\n",
       "        text-align: right;\n",
       "    }\n",
       "</style>\n",
       "<table border=\"1\" class=\"dataframe\">\n",
       "  <thead>\n",
       "    <tr style=\"text-align: right;\">\n",
       "      <th></th>\n",
       "      <th>A</th>\n",
       "      <th>B</th>\n",
       "      <th>C</th>\n",
       "      <th>D</th>\n",
       "    </tr>\n",
       "  </thead>\n",
       "  <tbody>\n",
       "    <tr>\n",
       "      <th>2013-01-01</th>\n",
       "      <td>0.078959</td>\n",
       "      <td>1.515880</td>\n",
       "      <td>-1.094380</td>\n",
       "      <td>-0.470318</td>\n",
       "    </tr>\n",
       "    <tr>\n",
       "      <th>2013-01-02</th>\n",
       "      <td>0.511631</td>\n",
       "      <td>-0.007997</td>\n",
       "      <td>0.646660</td>\n",
       "      <td>-1.846470</td>\n",
       "    </tr>\n",
       "    <tr>\n",
       "      <th>2013-01-03</th>\n",
       "      <td>0.118544</td>\n",
       "      <td>0.269207</td>\n",
       "      <td>-0.122353</td>\n",
       "      <td>-0.210741</td>\n",
       "    </tr>\n",
       "    <tr>\n",
       "      <th>2013-01-04</th>\n",
       "      <td>-0.192812</td>\n",
       "      <td>0.110586</td>\n",
       "      <td>1.424446</td>\n",
       "      <td>0.070226</td>\n",
       "    </tr>\n",
       "    <tr>\n",
       "      <th>2013-01-05</th>\n",
       "      <td>-0.600865</td>\n",
       "      <td>0.286401</td>\n",
       "      <td>-2.412080</td>\n",
       "      <td>-0.596841</td>\n",
       "    </tr>\n",
       "    <tr>\n",
       "      <th>2013-01-06</th>\n",
       "      <td>-1.388959</td>\n",
       "      <td>1.181267</td>\n",
       "      <td>0.322487</td>\n",
       "      <td>-0.007798</td>\n",
       "    </tr>\n",
       "  </tbody>\n",
       "</table>\n",
       "</div>"
      ],
      "text/plain": [
       "                   A         B         C         D\n",
       "2013-01-01  0.078959  1.515880 -1.094380 -0.470318\n",
       "2013-01-02  0.511631 -0.007997  0.646660 -1.846470\n",
       "2013-01-03  0.118544  0.269207 -0.122353 -0.210741\n",
       "2013-01-04 -0.192812  0.110586  1.424446  0.070226\n",
       "2013-01-05 -0.600865  0.286401 -2.412080 -0.596841\n",
       "2013-01-06 -1.388959  1.181267  0.322487 -0.007798"
      ]
     },
     "execution_count": 390,
     "metadata": {},
     "output_type": "execute_result"
    }
   ],
   "source": [
    " df"
   ]
  },
  {
   "cell_type": "markdown",
   "metadata": {},
   "source": [
    "<font color='#094B91'> In this example we Creating a DataFrame by passing a dict of objects that can be converted to series.<font>"
   ]
  },
  {
   "cell_type": "code",
   "execution_count": 391,
   "metadata": {},
   "outputs": [],
   "source": [
    " df2 = pd.DataFrame({    'A' : 1.,\n",
    "                         'B' : pd.Timestamp('20130102'),\n",
    "                         'C' : pd.Series(1,index=list(range(4)),dtype='float32'),\n",
    "                         'D' : np.array([3] * 4,dtype='int32'),\n",
    "                         'E' : pd.Categorical([\"test\",\"train\",\"test\",\"train\"]),\n",
    "                         'F' : 'foo' })"
   ]
  },
  {
   "cell_type": "code",
   "execution_count": 392,
   "metadata": {},
   "outputs": [
    {
     "data": {
      "text/html": [
       "<div>\n",
       "<style scoped>\n",
       "    .dataframe tbody tr th:only-of-type {\n",
       "        vertical-align: middle;\n",
       "    }\n",
       "\n",
       "    .dataframe tbody tr th {\n",
       "        vertical-align: top;\n",
       "    }\n",
       "\n",
       "    .dataframe thead th {\n",
       "        text-align: right;\n",
       "    }\n",
       "</style>\n",
       "<table border=\"1\" class=\"dataframe\">\n",
       "  <thead>\n",
       "    <tr style=\"text-align: right;\">\n",
       "      <th></th>\n",
       "      <th>A</th>\n",
       "      <th>B</th>\n",
       "      <th>C</th>\n",
       "      <th>D</th>\n",
       "      <th>E</th>\n",
       "      <th>F</th>\n",
       "    </tr>\n",
       "  </thead>\n",
       "  <tbody>\n",
       "    <tr>\n",
       "      <th>0</th>\n",
       "      <td>1.0</td>\n",
       "      <td>2013-01-02</td>\n",
       "      <td>1.0</td>\n",
       "      <td>3</td>\n",
       "      <td>test</td>\n",
       "      <td>foo</td>\n",
       "    </tr>\n",
       "    <tr>\n",
       "      <th>1</th>\n",
       "      <td>1.0</td>\n",
       "      <td>2013-01-02</td>\n",
       "      <td>1.0</td>\n",
       "      <td>3</td>\n",
       "      <td>train</td>\n",
       "      <td>foo</td>\n",
       "    </tr>\n",
       "    <tr>\n",
       "      <th>2</th>\n",
       "      <td>1.0</td>\n",
       "      <td>2013-01-02</td>\n",
       "      <td>1.0</td>\n",
       "      <td>3</td>\n",
       "      <td>test</td>\n",
       "      <td>foo</td>\n",
       "    </tr>\n",
       "    <tr>\n",
       "      <th>3</th>\n",
       "      <td>1.0</td>\n",
       "      <td>2013-01-02</td>\n",
       "      <td>1.0</td>\n",
       "      <td>3</td>\n",
       "      <td>train</td>\n",
       "      <td>foo</td>\n",
       "    </tr>\n",
       "  </tbody>\n",
       "</table>\n",
       "</div>"
      ],
      "text/plain": [
       "     A          B    C  D      E    F\n",
       "0  1.0 2013-01-02  1.0  3   test  foo\n",
       "1  1.0 2013-01-02  1.0  3  train  foo\n",
       "2  1.0 2013-01-02  1.0  3   test  foo\n",
       "3  1.0 2013-01-02  1.0  3  train  foo"
      ]
     },
     "execution_count": 392,
     "metadata": {},
     "output_type": "execute_result"
    }
   ],
   "source": [
    "df2"
   ]
  },
  {
   "cell_type": "markdown",
   "metadata": {},
   "source": [
    "<font color='#094B91'> In this example we use DataFrame property dtypes that will show the all columns data type.<font>"
   ]
  },
  {
   "cell_type": "code",
   "execution_count": 393,
   "metadata": {},
   "outputs": [
    {
     "data": {
      "text/plain": [
       "A           float64\n",
       "B    datetime64[ns]\n",
       "C           float32\n",
       "D             int32\n",
       "E          category\n",
       "F            object\n",
       "dtype: object"
      ]
     },
     "execution_count": 393,
     "metadata": {},
     "output_type": "execute_result"
    }
   ],
   "source": [
    "#Having specific dtypes\n",
    "df2.dtypes"
   ]
  },
  {
   "cell_type": "markdown",
   "metadata": {},
   "source": [
    "### <font color='orange'>Example 2:</font>\n",
    "\n",
    "<font color='#094B91'> In this example we create some touple and than pass these tuple to DataFrame method for creating an DataFrame and that we use transpose property and apply this property on 2 to 4 rows.<font>"
   ]
  },
  {
   "cell_type": "code",
   "execution_count": 394,
   "metadata": {},
   "outputs": [],
   "source": [
    "tupleNum1 = (100.10, 120.20, 130.30, 140.40, 150.50, 160.60)\n",
    "tupleNum2 = (210.10, 220.20, 230.30, 240.40, 250.50, 260.60)\n",
    "tupleNum3 = (300.10, 320.20, 330.30, 340.40, 350.50, 360.60)\n",
    "tupleNum4 = (410.10, 420.20, 430.30, 440.40, 450.50, 460.60)\n",
    "tupleNum5 = (500.10, 520.20, 530.30, 540.40, 550.50, 560.60)\n",
    "tupleNum6 = (610.10, 620.20, 630.30, 640.40, 650.50, 660.60)\n",
    "\n",
    "\n",
    "dataFrame1 = pnd.DataFrame((tupleNum1,tupleNum2,tupleNum3,tupleNum4,tupleNum5,tupleNum6,),\n",
    "                           columns=['C1', 'C2', 'C3', 'C4','C5','C6'])"
   ]
  },
  {
   "cell_type": "code",
   "execution_count": 395,
   "metadata": {},
   "outputs": [
    {
     "data": {
      "text/html": [
       "<div>\n",
       "<style scoped>\n",
       "    .dataframe tbody tr th:only-of-type {\n",
       "        vertical-align: middle;\n",
       "    }\n",
       "\n",
       "    .dataframe tbody tr th {\n",
       "        vertical-align: top;\n",
       "    }\n",
       "\n",
       "    .dataframe thead th {\n",
       "        text-align: right;\n",
       "    }\n",
       "</style>\n",
       "<table border=\"1\" class=\"dataframe\">\n",
       "  <thead>\n",
       "    <tr style=\"text-align: right;\">\n",
       "      <th></th>\n",
       "      <th>C1</th>\n",
       "      <th>C2</th>\n",
       "      <th>C3</th>\n",
       "      <th>C4</th>\n",
       "      <th>C5</th>\n",
       "      <th>C6</th>\n",
       "    </tr>\n",
       "  </thead>\n",
       "  <tbody>\n",
       "    <tr>\n",
       "      <th>0</th>\n",
       "      <td>100.1</td>\n",
       "      <td>120.2</td>\n",
       "      <td>130.3</td>\n",
       "      <td>140.4</td>\n",
       "      <td>150.5</td>\n",
       "      <td>160.6</td>\n",
       "    </tr>\n",
       "    <tr>\n",
       "      <th>1</th>\n",
       "      <td>210.1</td>\n",
       "      <td>220.2</td>\n",
       "      <td>230.3</td>\n",
       "      <td>240.4</td>\n",
       "      <td>250.5</td>\n",
       "      <td>260.6</td>\n",
       "    </tr>\n",
       "    <tr>\n",
       "      <th>2</th>\n",
       "      <td>300.1</td>\n",
       "      <td>320.2</td>\n",
       "      <td>330.3</td>\n",
       "      <td>340.4</td>\n",
       "      <td>350.5</td>\n",
       "      <td>360.6</td>\n",
       "    </tr>\n",
       "    <tr>\n",
       "      <th>3</th>\n",
       "      <td>410.1</td>\n",
       "      <td>420.2</td>\n",
       "      <td>430.3</td>\n",
       "      <td>440.4</td>\n",
       "      <td>450.5</td>\n",
       "      <td>460.6</td>\n",
       "    </tr>\n",
       "    <tr>\n",
       "      <th>4</th>\n",
       "      <td>500.1</td>\n",
       "      <td>520.2</td>\n",
       "      <td>530.3</td>\n",
       "      <td>540.4</td>\n",
       "      <td>550.5</td>\n",
       "      <td>560.6</td>\n",
       "    </tr>\n",
       "    <tr>\n",
       "      <th>5</th>\n",
       "      <td>610.1</td>\n",
       "      <td>620.2</td>\n",
       "      <td>630.3</td>\n",
       "      <td>640.4</td>\n",
       "      <td>650.5</td>\n",
       "      <td>660.6</td>\n",
       "    </tr>\n",
       "  </tbody>\n",
       "</table>\n",
       "</div>"
      ],
      "text/plain": [
       "      C1     C2     C3     C4     C5     C6\n",
       "0  100.1  120.2  130.3  140.4  150.5  160.6\n",
       "1  210.1  220.2  230.3  240.4  250.5  260.6\n",
       "2  300.1  320.2  330.3  340.4  350.5  360.6\n",
       "3  410.1  420.2  430.3  440.4  450.5  460.6\n",
       "4  500.1  520.2  530.3  540.4  550.5  560.6\n",
       "5  610.1  620.2  630.3  640.4  650.5  660.6"
      ]
     },
     "execution_count": 395,
     "metadata": {},
     "output_type": "execute_result"
    }
   ],
   "source": [
    "dataFrame1"
   ]
  },
  {
   "cell_type": "code",
   "execution_count": 396,
   "metadata": {},
   "outputs": [
    {
     "data": {
      "text/html": [
       "<div>\n",
       "<style scoped>\n",
       "    .dataframe tbody tr th:only-of-type {\n",
       "        vertical-align: middle;\n",
       "    }\n",
       "\n",
       "    .dataframe tbody tr th {\n",
       "        vertical-align: top;\n",
       "    }\n",
       "\n",
       "    .dataframe thead th {\n",
       "        text-align: right;\n",
       "    }\n",
       "</style>\n",
       "<table border=\"1\" class=\"dataframe\">\n",
       "  <thead>\n",
       "    <tr style=\"text-align: right;\">\n",
       "      <th></th>\n",
       "      <th>2</th>\n",
       "      <th>3</th>\n",
       "    </tr>\n",
       "  </thead>\n",
       "  <tbody>\n",
       "    <tr>\n",
       "      <th>C1</th>\n",
       "      <td>300.1</td>\n",
       "      <td>410.1</td>\n",
       "    </tr>\n",
       "    <tr>\n",
       "      <th>C2</th>\n",
       "      <td>320.2</td>\n",
       "      <td>420.2</td>\n",
       "    </tr>\n",
       "    <tr>\n",
       "      <th>C3</th>\n",
       "      <td>330.3</td>\n",
       "      <td>430.3</td>\n",
       "    </tr>\n",
       "    <tr>\n",
       "      <th>C4</th>\n",
       "      <td>340.4</td>\n",
       "      <td>440.4</td>\n",
       "    </tr>\n",
       "    <tr>\n",
       "      <th>C5</th>\n",
       "      <td>350.5</td>\n",
       "      <td>450.5</td>\n",
       "    </tr>\n",
       "    <tr>\n",
       "      <th>C6</th>\n",
       "      <td>360.6</td>\n",
       "      <td>460.6</td>\n",
       "    </tr>\n",
       "  </tbody>\n",
       "</table>\n",
       "</div>"
      ],
      "text/plain": [
       "        2      3\n",
       "C1  300.1  410.1\n",
       "C2  320.2  420.2\n",
       "C3  330.3  430.3\n",
       "C4  340.4  440.4\n",
       "C5  350.5  450.5\n",
       "C6  360.6  460.6"
      ]
     },
     "execution_count": 396,
     "metadata": {},
     "output_type": "execute_result"
    }
   ],
   "source": [
    "dataFrame1[2:4].T"
   ]
  },
  {
   "cell_type": "markdown",
   "metadata": {},
   "source": [
    "<font color='#094B91'> In this example we Creating a DataFrame by passing a numpy array, with a datetime index and labeled columns.<font>"
   ]
  },
  {
   "cell_type": "code",
   "execution_count": 397,
   "metadata": {},
   "outputs": [],
   "source": [
    "DateArray1 = pnd.date_range('20200101', periods=10)"
   ]
  },
  {
   "cell_type": "code",
   "execution_count": 398,
   "metadata": {},
   "outputs": [
    {
     "data": {
      "text/plain": [
       "DatetimeIndex(['2020-01-01', '2020-01-02', '2020-01-03', '2020-01-04',\n",
       "               '2020-01-05', '2020-01-06', '2020-01-07', '2020-01-08',\n",
       "               '2020-01-09', '2020-01-10'],\n",
       "              dtype='datetime64[ns]', freq='D')"
      ]
     },
     "execution_count": 398,
     "metadata": {},
     "output_type": "execute_result"
    }
   ],
   "source": [
    "DateArray1"
   ]
  },
  {
   "cell_type": "markdown",
   "metadata": {},
   "source": [
    "<font color='#094B91'> Now we create a DataFrame and make that datetime array as index.<font>"
   ]
  },
  {
   "cell_type": "code",
   "execution_count": 399,
   "metadata": {},
   "outputs": [],
   "source": [
    "dataFrame1 = pnd.DataFrame(\n",
    "    (tupleNum1,tupleNum2,tupleNum3,tupleNum4,tupleNum5,tupleNum6,tupleNum2,tupleNum3,tupleNum4,tupleNum5),\n",
    "                           index=DateArray1, columns=['C1', 'C2', 'C3', 'C4','C5','C6'])"
   ]
  },
  {
   "cell_type": "code",
   "execution_count": 400,
   "metadata": {},
   "outputs": [
    {
     "data": {
      "text/html": [
       "<div>\n",
       "<style scoped>\n",
       "    .dataframe tbody tr th:only-of-type {\n",
       "        vertical-align: middle;\n",
       "    }\n",
       "\n",
       "    .dataframe tbody tr th {\n",
       "        vertical-align: top;\n",
       "    }\n",
       "\n",
       "    .dataframe thead th {\n",
       "        text-align: right;\n",
       "    }\n",
       "</style>\n",
       "<table border=\"1\" class=\"dataframe\">\n",
       "  <thead>\n",
       "    <tr style=\"text-align: right;\">\n",
       "      <th></th>\n",
       "      <th>C1</th>\n",
       "      <th>C2</th>\n",
       "      <th>C3</th>\n",
       "      <th>C4</th>\n",
       "      <th>C5</th>\n",
       "      <th>C6</th>\n",
       "    </tr>\n",
       "  </thead>\n",
       "  <tbody>\n",
       "    <tr>\n",
       "      <th>2020-01-01</th>\n",
       "      <td>100.1</td>\n",
       "      <td>120.2</td>\n",
       "      <td>130.3</td>\n",
       "      <td>140.4</td>\n",
       "      <td>150.5</td>\n",
       "      <td>160.6</td>\n",
       "    </tr>\n",
       "    <tr>\n",
       "      <th>2020-01-02</th>\n",
       "      <td>210.1</td>\n",
       "      <td>220.2</td>\n",
       "      <td>230.3</td>\n",
       "      <td>240.4</td>\n",
       "      <td>250.5</td>\n",
       "      <td>260.6</td>\n",
       "    </tr>\n",
       "    <tr>\n",
       "      <th>2020-01-03</th>\n",
       "      <td>300.1</td>\n",
       "      <td>320.2</td>\n",
       "      <td>330.3</td>\n",
       "      <td>340.4</td>\n",
       "      <td>350.5</td>\n",
       "      <td>360.6</td>\n",
       "    </tr>\n",
       "    <tr>\n",
       "      <th>2020-01-04</th>\n",
       "      <td>410.1</td>\n",
       "      <td>420.2</td>\n",
       "      <td>430.3</td>\n",
       "      <td>440.4</td>\n",
       "      <td>450.5</td>\n",
       "      <td>460.6</td>\n",
       "    </tr>\n",
       "    <tr>\n",
       "      <th>2020-01-05</th>\n",
       "      <td>500.1</td>\n",
       "      <td>520.2</td>\n",
       "      <td>530.3</td>\n",
       "      <td>540.4</td>\n",
       "      <td>550.5</td>\n",
       "      <td>560.6</td>\n",
       "    </tr>\n",
       "    <tr>\n",
       "      <th>2020-01-06</th>\n",
       "      <td>610.1</td>\n",
       "      <td>620.2</td>\n",
       "      <td>630.3</td>\n",
       "      <td>640.4</td>\n",
       "      <td>650.5</td>\n",
       "      <td>660.6</td>\n",
       "    </tr>\n",
       "    <tr>\n",
       "      <th>2020-01-07</th>\n",
       "      <td>210.1</td>\n",
       "      <td>220.2</td>\n",
       "      <td>230.3</td>\n",
       "      <td>240.4</td>\n",
       "      <td>250.5</td>\n",
       "      <td>260.6</td>\n",
       "    </tr>\n",
       "    <tr>\n",
       "      <th>2020-01-08</th>\n",
       "      <td>300.1</td>\n",
       "      <td>320.2</td>\n",
       "      <td>330.3</td>\n",
       "      <td>340.4</td>\n",
       "      <td>350.5</td>\n",
       "      <td>360.6</td>\n",
       "    </tr>\n",
       "    <tr>\n",
       "      <th>2020-01-09</th>\n",
       "      <td>410.1</td>\n",
       "      <td>420.2</td>\n",
       "      <td>430.3</td>\n",
       "      <td>440.4</td>\n",
       "      <td>450.5</td>\n",
       "      <td>460.6</td>\n",
       "    </tr>\n",
       "    <tr>\n",
       "      <th>2020-01-10</th>\n",
       "      <td>500.1</td>\n",
       "      <td>520.2</td>\n",
       "      <td>530.3</td>\n",
       "      <td>540.4</td>\n",
       "      <td>550.5</td>\n",
       "      <td>560.6</td>\n",
       "    </tr>\n",
       "  </tbody>\n",
       "</table>\n",
       "</div>"
      ],
      "text/plain": [
       "               C1     C2     C3     C4     C5     C6\n",
       "2020-01-01  100.1  120.2  130.3  140.4  150.5  160.6\n",
       "2020-01-02  210.1  220.2  230.3  240.4  250.5  260.6\n",
       "2020-01-03  300.1  320.2  330.3  340.4  350.5  360.6\n",
       "2020-01-04  410.1  420.2  430.3  440.4  450.5  460.6\n",
       "2020-01-05  500.1  520.2  530.3  540.4  550.5  560.6\n",
       "2020-01-06  610.1  620.2  630.3  640.4  650.5  660.6\n",
       "2020-01-07  210.1  220.2  230.3  240.4  250.5  260.6\n",
       "2020-01-08  300.1  320.2  330.3  340.4  350.5  360.6\n",
       "2020-01-09  410.1  420.2  430.3  440.4  450.5  460.6\n",
       "2020-01-10  500.1  520.2  530.3  540.4  550.5  560.6"
      ]
     },
     "execution_count": 400,
     "metadata": {},
     "output_type": "execute_result"
    }
   ],
   "source": [
    "dataFrame1"
   ]
  },
  {
   "cell_type": "markdown",
   "metadata": {},
   "source": [
    "<font color='#094B91'> In this example we Creating a DataFrame by passing a dict of objects that can be converted to series.<font>"
   ]
  },
  {
   "cell_type": "code",
   "execution_count": 401,
   "metadata": {},
   "outputs": [],
   "source": [
    " dataFrame_1 = pnd.DataFrame({'C1' : 55.,\n",
    "                             'C2' : pnd.Timestamp('20100102'),\n",
    "                             'C3' : pnd.Series('Abdullah',index=list(range(10)),dtype='a50'),\n",
    "                             'C4' : pnd.Series('Shshid',index=list(range(10)),dtype='a50'),\n",
    "                             'C5' : npy.array([3] * 10,dtype='int32'),\n",
    "                             'C6' : pnd.Categorical([\"odd\",\"even\",\"odd\",\"even\",\"odd\",\"even\",\"odd\",\"even\",\"odd\",\"even\"]),\n",
    "                             'C7' : 'new' })"
   ]
  },
  {
   "cell_type": "code",
   "execution_count": 402,
   "metadata": {},
   "outputs": [
    {
     "data": {
      "text/html": [
       "<div>\n",
       "<style scoped>\n",
       "    .dataframe tbody tr th:only-of-type {\n",
       "        vertical-align: middle;\n",
       "    }\n",
       "\n",
       "    .dataframe tbody tr th {\n",
       "        vertical-align: top;\n",
       "    }\n",
       "\n",
       "    .dataframe thead th {\n",
       "        text-align: right;\n",
       "    }\n",
       "</style>\n",
       "<table border=\"1\" class=\"dataframe\">\n",
       "  <thead>\n",
       "    <tr style=\"text-align: right;\">\n",
       "      <th></th>\n",
       "      <th>C1</th>\n",
       "      <th>C2</th>\n",
       "      <th>C3</th>\n",
       "      <th>C4</th>\n",
       "      <th>C5</th>\n",
       "      <th>C6</th>\n",
       "      <th>C7</th>\n",
       "    </tr>\n",
       "  </thead>\n",
       "  <tbody>\n",
       "    <tr>\n",
       "      <th>0</th>\n",
       "      <td>55.0</td>\n",
       "      <td>2010-01-02</td>\n",
       "      <td>Abdullah</td>\n",
       "      <td>Shshid</td>\n",
       "      <td>3</td>\n",
       "      <td>odd</td>\n",
       "      <td>new</td>\n",
       "    </tr>\n",
       "    <tr>\n",
       "      <th>1</th>\n",
       "      <td>55.0</td>\n",
       "      <td>2010-01-02</td>\n",
       "      <td>Abdullah</td>\n",
       "      <td>Shshid</td>\n",
       "      <td>3</td>\n",
       "      <td>even</td>\n",
       "      <td>new</td>\n",
       "    </tr>\n",
       "    <tr>\n",
       "      <th>2</th>\n",
       "      <td>55.0</td>\n",
       "      <td>2010-01-02</td>\n",
       "      <td>Abdullah</td>\n",
       "      <td>Shshid</td>\n",
       "      <td>3</td>\n",
       "      <td>odd</td>\n",
       "      <td>new</td>\n",
       "    </tr>\n",
       "    <tr>\n",
       "      <th>3</th>\n",
       "      <td>55.0</td>\n",
       "      <td>2010-01-02</td>\n",
       "      <td>Abdullah</td>\n",
       "      <td>Shshid</td>\n",
       "      <td>3</td>\n",
       "      <td>even</td>\n",
       "      <td>new</td>\n",
       "    </tr>\n",
       "    <tr>\n",
       "      <th>4</th>\n",
       "      <td>55.0</td>\n",
       "      <td>2010-01-02</td>\n",
       "      <td>Abdullah</td>\n",
       "      <td>Shshid</td>\n",
       "      <td>3</td>\n",
       "      <td>odd</td>\n",
       "      <td>new</td>\n",
       "    </tr>\n",
       "    <tr>\n",
       "      <th>5</th>\n",
       "      <td>55.0</td>\n",
       "      <td>2010-01-02</td>\n",
       "      <td>Abdullah</td>\n",
       "      <td>Shshid</td>\n",
       "      <td>3</td>\n",
       "      <td>even</td>\n",
       "      <td>new</td>\n",
       "    </tr>\n",
       "    <tr>\n",
       "      <th>6</th>\n",
       "      <td>55.0</td>\n",
       "      <td>2010-01-02</td>\n",
       "      <td>Abdullah</td>\n",
       "      <td>Shshid</td>\n",
       "      <td>3</td>\n",
       "      <td>odd</td>\n",
       "      <td>new</td>\n",
       "    </tr>\n",
       "    <tr>\n",
       "      <th>7</th>\n",
       "      <td>55.0</td>\n",
       "      <td>2010-01-02</td>\n",
       "      <td>Abdullah</td>\n",
       "      <td>Shshid</td>\n",
       "      <td>3</td>\n",
       "      <td>even</td>\n",
       "      <td>new</td>\n",
       "    </tr>\n",
       "    <tr>\n",
       "      <th>8</th>\n",
       "      <td>55.0</td>\n",
       "      <td>2010-01-02</td>\n",
       "      <td>Abdullah</td>\n",
       "      <td>Shshid</td>\n",
       "      <td>3</td>\n",
       "      <td>odd</td>\n",
       "      <td>new</td>\n",
       "    </tr>\n",
       "    <tr>\n",
       "      <th>9</th>\n",
       "      <td>55.0</td>\n",
       "      <td>2010-01-02</td>\n",
       "      <td>Abdullah</td>\n",
       "      <td>Shshid</td>\n",
       "      <td>3</td>\n",
       "      <td>even</td>\n",
       "      <td>new</td>\n",
       "    </tr>\n",
       "  </tbody>\n",
       "</table>\n",
       "</div>"
      ],
      "text/plain": [
       "     C1         C2        C3      C4  C5    C6   C7\n",
       "0  55.0 2010-01-02  Abdullah  Shshid   3   odd  new\n",
       "1  55.0 2010-01-02  Abdullah  Shshid   3  even  new\n",
       "2  55.0 2010-01-02  Abdullah  Shshid   3   odd  new\n",
       "3  55.0 2010-01-02  Abdullah  Shshid   3  even  new\n",
       "4  55.0 2010-01-02  Abdullah  Shshid   3   odd  new\n",
       "5  55.0 2010-01-02  Abdullah  Shshid   3  even  new\n",
       "6  55.0 2010-01-02  Abdullah  Shshid   3   odd  new\n",
       "7  55.0 2010-01-02  Abdullah  Shshid   3  even  new\n",
       "8  55.0 2010-01-02  Abdullah  Shshid   3   odd  new\n",
       "9  55.0 2010-01-02  Abdullah  Shshid   3  even  new"
      ]
     },
     "execution_count": 402,
     "metadata": {},
     "output_type": "execute_result"
    }
   ],
   "source": [
    "dataFrame_1"
   ]
  },
  {
   "cell_type": "markdown",
   "metadata": {},
   "source": [
    "<font color='#094B91'> In this example we use DataFrame property dtypes that will show the all columns data type.<font>"
   ]
  },
  {
   "cell_type": "code",
   "execution_count": 403,
   "metadata": {},
   "outputs": [
    {
     "data": {
      "text/plain": [
       "C1           float64\n",
       "C2    datetime64[ns]\n",
       "C3            object\n",
       "C4            object\n",
       "C5             int32\n",
       "C6          category\n",
       "C7            object\n",
       "dtype: object"
      ]
     },
     "execution_count": 403,
     "metadata": {},
     "output_type": "execute_result"
    }
   ],
   "source": [
    "dataFrame_1.dtypes"
   ]
  },
  {
   "cell_type": "markdown",
   "metadata": {},
   "source": [
    "### <font color='orange'>Example 3:</font>\n",
    "\n",
    "<font color='#094B91'> In this example we create some touple and than pass these tuple to DataFrame method for creating an DataFrame and that we use transpose property and apply this property on 2 to 5 rows.<font>"
   ]
  },
  {
   "cell_type": "code",
   "execution_count": 404,
   "metadata": {},
   "outputs": [],
   "source": [
    "S1 = (40.10, 35.20, 36.30, 66.40, 50.50, 60.60)\n",
    "S2 = (50.10, 50.20, 53.30, 56.40, 65.50, 55.60)\n",
    "S3 = (60.10, 60.20, 63.30, 74.40, 34.50, 77.60)\n",
    "S4 = (44.10, 44.20, 43.30, 55.40, 54.50, 88.60)\n",
    "S5 = (55.10, 55.20, 53.30, 64.40, 54.50, 34.60)\n",
    "S6 = (66.10, 66.20, 63.30, 68.40, 45.50, 67.60)\n",
    "\n",
    "dataFrame2 = pnd.DataFrame((S1,S2,S3,S4,S5,S6), columns=['Math', 'Urdu', 'Eng', 'Ch','Isl','Phy'])"
   ]
  },
  {
   "cell_type": "code",
   "execution_count": 405,
   "metadata": {},
   "outputs": [
    {
     "data": {
      "text/html": [
       "<div>\n",
       "<style scoped>\n",
       "    .dataframe tbody tr th:only-of-type {\n",
       "        vertical-align: middle;\n",
       "    }\n",
       "\n",
       "    .dataframe tbody tr th {\n",
       "        vertical-align: top;\n",
       "    }\n",
       "\n",
       "    .dataframe thead th {\n",
       "        text-align: right;\n",
       "    }\n",
       "</style>\n",
       "<table border=\"1\" class=\"dataframe\">\n",
       "  <thead>\n",
       "    <tr style=\"text-align: right;\">\n",
       "      <th></th>\n",
       "      <th>Math</th>\n",
       "      <th>Urdu</th>\n",
       "      <th>Eng</th>\n",
       "      <th>Ch</th>\n",
       "      <th>Isl</th>\n",
       "      <th>Phy</th>\n",
       "    </tr>\n",
       "  </thead>\n",
       "  <tbody>\n",
       "    <tr>\n",
       "      <th>0</th>\n",
       "      <td>40.1</td>\n",
       "      <td>35.2</td>\n",
       "      <td>36.3</td>\n",
       "      <td>66.4</td>\n",
       "      <td>50.5</td>\n",
       "      <td>60.6</td>\n",
       "    </tr>\n",
       "    <tr>\n",
       "      <th>1</th>\n",
       "      <td>50.1</td>\n",
       "      <td>50.2</td>\n",
       "      <td>53.3</td>\n",
       "      <td>56.4</td>\n",
       "      <td>65.5</td>\n",
       "      <td>55.6</td>\n",
       "    </tr>\n",
       "    <tr>\n",
       "      <th>2</th>\n",
       "      <td>60.1</td>\n",
       "      <td>60.2</td>\n",
       "      <td>63.3</td>\n",
       "      <td>74.4</td>\n",
       "      <td>34.5</td>\n",
       "      <td>77.6</td>\n",
       "    </tr>\n",
       "    <tr>\n",
       "      <th>3</th>\n",
       "      <td>44.1</td>\n",
       "      <td>44.2</td>\n",
       "      <td>43.3</td>\n",
       "      <td>55.4</td>\n",
       "      <td>54.5</td>\n",
       "      <td>88.6</td>\n",
       "    </tr>\n",
       "    <tr>\n",
       "      <th>4</th>\n",
       "      <td>55.1</td>\n",
       "      <td>55.2</td>\n",
       "      <td>53.3</td>\n",
       "      <td>64.4</td>\n",
       "      <td>54.5</td>\n",
       "      <td>34.6</td>\n",
       "    </tr>\n",
       "    <tr>\n",
       "      <th>5</th>\n",
       "      <td>66.1</td>\n",
       "      <td>66.2</td>\n",
       "      <td>63.3</td>\n",
       "      <td>68.4</td>\n",
       "      <td>45.5</td>\n",
       "      <td>67.6</td>\n",
       "    </tr>\n",
       "  </tbody>\n",
       "</table>\n",
       "</div>"
      ],
      "text/plain": [
       "   Math  Urdu   Eng    Ch   Isl   Phy\n",
       "0  40.1  35.2  36.3  66.4  50.5  60.6\n",
       "1  50.1  50.2  53.3  56.4  65.5  55.6\n",
       "2  60.1  60.2  63.3  74.4  34.5  77.6\n",
       "3  44.1  44.2  43.3  55.4  54.5  88.6\n",
       "4  55.1  55.2  53.3  64.4  54.5  34.6\n",
       "5  66.1  66.2  63.3  68.4  45.5  67.6"
      ]
     },
     "execution_count": 405,
     "metadata": {},
     "output_type": "execute_result"
    }
   ],
   "source": [
    "dataFrame2"
   ]
  },
  {
   "cell_type": "code",
   "execution_count": 406,
   "metadata": {},
   "outputs": [
    {
     "data": {
      "text/html": [
       "<div>\n",
       "<style scoped>\n",
       "    .dataframe tbody tr th:only-of-type {\n",
       "        vertical-align: middle;\n",
       "    }\n",
       "\n",
       "    .dataframe tbody tr th {\n",
       "        vertical-align: top;\n",
       "    }\n",
       "\n",
       "    .dataframe thead th {\n",
       "        text-align: right;\n",
       "    }\n",
       "</style>\n",
       "<table border=\"1\" class=\"dataframe\">\n",
       "  <thead>\n",
       "    <tr style=\"text-align: right;\">\n",
       "      <th></th>\n",
       "      <th>2</th>\n",
       "      <th>3</th>\n",
       "      <th>4</th>\n",
       "    </tr>\n",
       "  </thead>\n",
       "  <tbody>\n",
       "    <tr>\n",
       "      <th>Math</th>\n",
       "      <td>60.1</td>\n",
       "      <td>44.1</td>\n",
       "      <td>55.1</td>\n",
       "    </tr>\n",
       "    <tr>\n",
       "      <th>Urdu</th>\n",
       "      <td>60.2</td>\n",
       "      <td>44.2</td>\n",
       "      <td>55.2</td>\n",
       "    </tr>\n",
       "    <tr>\n",
       "      <th>Eng</th>\n",
       "      <td>63.3</td>\n",
       "      <td>43.3</td>\n",
       "      <td>53.3</td>\n",
       "    </tr>\n",
       "    <tr>\n",
       "      <th>Ch</th>\n",
       "      <td>74.4</td>\n",
       "      <td>55.4</td>\n",
       "      <td>64.4</td>\n",
       "    </tr>\n",
       "    <tr>\n",
       "      <th>Isl</th>\n",
       "      <td>34.5</td>\n",
       "      <td>54.5</td>\n",
       "      <td>54.5</td>\n",
       "    </tr>\n",
       "    <tr>\n",
       "      <th>Phy</th>\n",
       "      <td>77.6</td>\n",
       "      <td>88.6</td>\n",
       "      <td>34.6</td>\n",
       "    </tr>\n",
       "  </tbody>\n",
       "</table>\n",
       "</div>"
      ],
      "text/plain": [
       "         2     3     4\n",
       "Math  60.1  44.1  55.1\n",
       "Urdu  60.2  44.2  55.2\n",
       "Eng   63.3  43.3  53.3\n",
       "Ch    74.4  55.4  64.4\n",
       "Isl   34.5  54.5  54.5\n",
       "Phy   77.6  88.6  34.6"
      ]
     },
     "execution_count": 406,
     "metadata": {},
     "output_type": "execute_result"
    }
   ],
   "source": [
    "dataFrame2[2:5].T"
   ]
  },
  {
   "cell_type": "markdown",
   "metadata": {},
   "source": [
    "<font color='#094B91'> In this example we Creating a DataFrame by passing a numpy array, with a datetime index and labeled columns.<font>"
   ]
  },
  {
   "cell_type": "code",
   "execution_count": 407,
   "metadata": {},
   "outputs": [],
   "source": [
    "DateArray2 = pnd.date_range('20200201', periods=10)"
   ]
  },
  {
   "cell_type": "code",
   "execution_count": 408,
   "metadata": {},
   "outputs": [
    {
     "data": {
      "text/plain": [
       "DatetimeIndex(['2020-02-01', '2020-02-02', '2020-02-03', '2020-02-04',\n",
       "               '2020-02-05', '2020-02-06', '2020-02-07', '2020-02-08',\n",
       "               '2020-02-09', '2020-02-10'],\n",
       "              dtype='datetime64[ns]', freq='D')"
      ]
     },
     "execution_count": 408,
     "metadata": {},
     "output_type": "execute_result"
    }
   ],
   "source": [
    "DateArray2"
   ]
  },
  {
   "cell_type": "markdown",
   "metadata": {},
   "source": [
    "<font color='#094B91'> Now we create a DataFrame and make that datetime array as index.<font>"
   ]
  },
  {
   "cell_type": "code",
   "execution_count": 409,
   "metadata": {},
   "outputs": [],
   "source": [
    "dataFrame2 = pnd.DataFrame((S1,S2,S3,S4,S5,S6,S3,S4,S5,S6),\n",
    "                           index=DateArray2, columns=['Math', 'Urdu', 'Eng', 'Ch','Isl','Phy'])"
   ]
  },
  {
   "cell_type": "code",
   "execution_count": 410,
   "metadata": {},
   "outputs": [
    {
     "data": {
      "text/html": [
       "<div>\n",
       "<style scoped>\n",
       "    .dataframe tbody tr th:only-of-type {\n",
       "        vertical-align: middle;\n",
       "    }\n",
       "\n",
       "    .dataframe tbody tr th {\n",
       "        vertical-align: top;\n",
       "    }\n",
       "\n",
       "    .dataframe thead th {\n",
       "        text-align: right;\n",
       "    }\n",
       "</style>\n",
       "<table border=\"1\" class=\"dataframe\">\n",
       "  <thead>\n",
       "    <tr style=\"text-align: right;\">\n",
       "      <th></th>\n",
       "      <th>Math</th>\n",
       "      <th>Urdu</th>\n",
       "      <th>Eng</th>\n",
       "      <th>Ch</th>\n",
       "      <th>Isl</th>\n",
       "      <th>Phy</th>\n",
       "    </tr>\n",
       "  </thead>\n",
       "  <tbody>\n",
       "    <tr>\n",
       "      <th>2020-02-01</th>\n",
       "      <td>40.1</td>\n",
       "      <td>35.2</td>\n",
       "      <td>36.3</td>\n",
       "      <td>66.4</td>\n",
       "      <td>50.5</td>\n",
       "      <td>60.6</td>\n",
       "    </tr>\n",
       "    <tr>\n",
       "      <th>2020-02-02</th>\n",
       "      <td>50.1</td>\n",
       "      <td>50.2</td>\n",
       "      <td>53.3</td>\n",
       "      <td>56.4</td>\n",
       "      <td>65.5</td>\n",
       "      <td>55.6</td>\n",
       "    </tr>\n",
       "    <tr>\n",
       "      <th>2020-02-03</th>\n",
       "      <td>60.1</td>\n",
       "      <td>60.2</td>\n",
       "      <td>63.3</td>\n",
       "      <td>74.4</td>\n",
       "      <td>34.5</td>\n",
       "      <td>77.6</td>\n",
       "    </tr>\n",
       "    <tr>\n",
       "      <th>2020-02-04</th>\n",
       "      <td>44.1</td>\n",
       "      <td>44.2</td>\n",
       "      <td>43.3</td>\n",
       "      <td>55.4</td>\n",
       "      <td>54.5</td>\n",
       "      <td>88.6</td>\n",
       "    </tr>\n",
       "    <tr>\n",
       "      <th>2020-02-05</th>\n",
       "      <td>55.1</td>\n",
       "      <td>55.2</td>\n",
       "      <td>53.3</td>\n",
       "      <td>64.4</td>\n",
       "      <td>54.5</td>\n",
       "      <td>34.6</td>\n",
       "    </tr>\n",
       "    <tr>\n",
       "      <th>2020-02-06</th>\n",
       "      <td>66.1</td>\n",
       "      <td>66.2</td>\n",
       "      <td>63.3</td>\n",
       "      <td>68.4</td>\n",
       "      <td>45.5</td>\n",
       "      <td>67.6</td>\n",
       "    </tr>\n",
       "    <tr>\n",
       "      <th>2020-02-07</th>\n",
       "      <td>60.1</td>\n",
       "      <td>60.2</td>\n",
       "      <td>63.3</td>\n",
       "      <td>74.4</td>\n",
       "      <td>34.5</td>\n",
       "      <td>77.6</td>\n",
       "    </tr>\n",
       "    <tr>\n",
       "      <th>2020-02-08</th>\n",
       "      <td>44.1</td>\n",
       "      <td>44.2</td>\n",
       "      <td>43.3</td>\n",
       "      <td>55.4</td>\n",
       "      <td>54.5</td>\n",
       "      <td>88.6</td>\n",
       "    </tr>\n",
       "    <tr>\n",
       "      <th>2020-02-09</th>\n",
       "      <td>55.1</td>\n",
       "      <td>55.2</td>\n",
       "      <td>53.3</td>\n",
       "      <td>64.4</td>\n",
       "      <td>54.5</td>\n",
       "      <td>34.6</td>\n",
       "    </tr>\n",
       "    <tr>\n",
       "      <th>2020-02-10</th>\n",
       "      <td>66.1</td>\n",
       "      <td>66.2</td>\n",
       "      <td>63.3</td>\n",
       "      <td>68.4</td>\n",
       "      <td>45.5</td>\n",
       "      <td>67.6</td>\n",
       "    </tr>\n",
       "  </tbody>\n",
       "</table>\n",
       "</div>"
      ],
      "text/plain": [
       "            Math  Urdu   Eng    Ch   Isl   Phy\n",
       "2020-02-01  40.1  35.2  36.3  66.4  50.5  60.6\n",
       "2020-02-02  50.1  50.2  53.3  56.4  65.5  55.6\n",
       "2020-02-03  60.1  60.2  63.3  74.4  34.5  77.6\n",
       "2020-02-04  44.1  44.2  43.3  55.4  54.5  88.6\n",
       "2020-02-05  55.1  55.2  53.3  64.4  54.5  34.6\n",
       "2020-02-06  66.1  66.2  63.3  68.4  45.5  67.6\n",
       "2020-02-07  60.1  60.2  63.3  74.4  34.5  77.6\n",
       "2020-02-08  44.1  44.2  43.3  55.4  54.5  88.6\n",
       "2020-02-09  55.1  55.2  53.3  64.4  54.5  34.6\n",
       "2020-02-10  66.1  66.2  63.3  68.4  45.5  67.6"
      ]
     },
     "execution_count": 410,
     "metadata": {},
     "output_type": "execute_result"
    }
   ],
   "source": [
    "dataFrame2"
   ]
  },
  {
   "cell_type": "markdown",
   "metadata": {},
   "source": [
    "<font color='#094B91'> In this example we Creating a DataFrame by passing a dict of objects that can be converted to series.<font>"
   ]
  },
  {
   "cell_type": "code",
   "execution_count": 411,
   "metadata": {},
   "outputs": [],
   "source": [
    " dataFrame_2 = pnd.DataFrame({'Result' : \"Pass\",\n",
    "                            'Date' : pnd.Timestamp('20100102'),\n",
    "                            'First Name' : pnd.Series('First Name',index=list(range(10)),dtype='a50'),\n",
    "                            'Last Name' : pnd.Series('Last Name',index=list(range(10)),dtype='a50'),\n",
    "                            'Marks' : npy.array([3] * 10,dtype='int32'),\n",
    "                            'Position' : pnd.Categorical([\"1st\",\"2nd\",\"3rd\",\"1st\",\"2nd\",\"3rd\",\"1st\",\"2nd\",\"3rd\",\"1st\"]),\n",
    "                            'Position' : 'Possition' })"
   ]
  },
  {
   "cell_type": "code",
   "execution_count": 412,
   "metadata": {},
   "outputs": [
    {
     "data": {
      "text/html": [
       "<div>\n",
       "<style scoped>\n",
       "    .dataframe tbody tr th:only-of-type {\n",
       "        vertical-align: middle;\n",
       "    }\n",
       "\n",
       "    .dataframe tbody tr th {\n",
       "        vertical-align: top;\n",
       "    }\n",
       "\n",
       "    .dataframe thead th {\n",
       "        text-align: right;\n",
       "    }\n",
       "</style>\n",
       "<table border=\"1\" class=\"dataframe\">\n",
       "  <thead>\n",
       "    <tr style=\"text-align: right;\">\n",
       "      <th></th>\n",
       "      <th>Result</th>\n",
       "      <th>Date</th>\n",
       "      <th>First Name</th>\n",
       "      <th>Last Name</th>\n",
       "      <th>Marks</th>\n",
       "      <th>Position</th>\n",
       "    </tr>\n",
       "  </thead>\n",
       "  <tbody>\n",
       "    <tr>\n",
       "      <th>0</th>\n",
       "      <td>Pass</td>\n",
       "      <td>2010-01-02</td>\n",
       "      <td>First Name</td>\n",
       "      <td>Last Name</td>\n",
       "      <td>3</td>\n",
       "      <td>Possition</td>\n",
       "    </tr>\n",
       "    <tr>\n",
       "      <th>1</th>\n",
       "      <td>Pass</td>\n",
       "      <td>2010-01-02</td>\n",
       "      <td>First Name</td>\n",
       "      <td>Last Name</td>\n",
       "      <td>3</td>\n",
       "      <td>Possition</td>\n",
       "    </tr>\n",
       "    <tr>\n",
       "      <th>2</th>\n",
       "      <td>Pass</td>\n",
       "      <td>2010-01-02</td>\n",
       "      <td>First Name</td>\n",
       "      <td>Last Name</td>\n",
       "      <td>3</td>\n",
       "      <td>Possition</td>\n",
       "    </tr>\n",
       "    <tr>\n",
       "      <th>3</th>\n",
       "      <td>Pass</td>\n",
       "      <td>2010-01-02</td>\n",
       "      <td>First Name</td>\n",
       "      <td>Last Name</td>\n",
       "      <td>3</td>\n",
       "      <td>Possition</td>\n",
       "    </tr>\n",
       "    <tr>\n",
       "      <th>4</th>\n",
       "      <td>Pass</td>\n",
       "      <td>2010-01-02</td>\n",
       "      <td>First Name</td>\n",
       "      <td>Last Name</td>\n",
       "      <td>3</td>\n",
       "      <td>Possition</td>\n",
       "    </tr>\n",
       "    <tr>\n",
       "      <th>5</th>\n",
       "      <td>Pass</td>\n",
       "      <td>2010-01-02</td>\n",
       "      <td>First Name</td>\n",
       "      <td>Last Name</td>\n",
       "      <td>3</td>\n",
       "      <td>Possition</td>\n",
       "    </tr>\n",
       "    <tr>\n",
       "      <th>6</th>\n",
       "      <td>Pass</td>\n",
       "      <td>2010-01-02</td>\n",
       "      <td>First Name</td>\n",
       "      <td>Last Name</td>\n",
       "      <td>3</td>\n",
       "      <td>Possition</td>\n",
       "    </tr>\n",
       "    <tr>\n",
       "      <th>7</th>\n",
       "      <td>Pass</td>\n",
       "      <td>2010-01-02</td>\n",
       "      <td>First Name</td>\n",
       "      <td>Last Name</td>\n",
       "      <td>3</td>\n",
       "      <td>Possition</td>\n",
       "    </tr>\n",
       "    <tr>\n",
       "      <th>8</th>\n",
       "      <td>Pass</td>\n",
       "      <td>2010-01-02</td>\n",
       "      <td>First Name</td>\n",
       "      <td>Last Name</td>\n",
       "      <td>3</td>\n",
       "      <td>Possition</td>\n",
       "    </tr>\n",
       "    <tr>\n",
       "      <th>9</th>\n",
       "      <td>Pass</td>\n",
       "      <td>2010-01-02</td>\n",
       "      <td>First Name</td>\n",
       "      <td>Last Name</td>\n",
       "      <td>3</td>\n",
       "      <td>Possition</td>\n",
       "    </tr>\n",
       "  </tbody>\n",
       "</table>\n",
       "</div>"
      ],
      "text/plain": [
       "  Result       Date  First Name  Last Name  Marks   Position\n",
       "0   Pass 2010-01-02  First Name  Last Name      3  Possition\n",
       "1   Pass 2010-01-02  First Name  Last Name      3  Possition\n",
       "2   Pass 2010-01-02  First Name  Last Name      3  Possition\n",
       "3   Pass 2010-01-02  First Name  Last Name      3  Possition\n",
       "4   Pass 2010-01-02  First Name  Last Name      3  Possition\n",
       "5   Pass 2010-01-02  First Name  Last Name      3  Possition\n",
       "6   Pass 2010-01-02  First Name  Last Name      3  Possition\n",
       "7   Pass 2010-01-02  First Name  Last Name      3  Possition\n",
       "8   Pass 2010-01-02  First Name  Last Name      3  Possition\n",
       "9   Pass 2010-01-02  First Name  Last Name      3  Possition"
      ]
     },
     "execution_count": 412,
     "metadata": {},
     "output_type": "execute_result"
    }
   ],
   "source": [
    " dataFrame_2"
   ]
  },
  {
   "cell_type": "markdown",
   "metadata": {},
   "source": [
    "<font color='#094B91'> In this example we use DataFrame property dtypes that will show the all columns data type.<font>"
   ]
  },
  {
   "cell_type": "code",
   "execution_count": 413,
   "metadata": {},
   "outputs": [
    {
     "data": {
      "text/plain": [
       "Result                object\n",
       "Date          datetime64[ns]\n",
       "First Name            object\n",
       "Last Name             object\n",
       "Marks                  int32\n",
       "Position              object\n",
       "dtype: object"
      ]
     },
     "execution_count": 413,
     "metadata": {},
     "output_type": "execute_result"
    }
   ],
   "source": [
    " dataFrame_2.dtypes"
   ]
  },
  {
   "cell_type": "markdown",
   "metadata": {},
   "source": [
    "\n",
    "<br>\n",
    "<br>\n",
    "<br>\n",
    "<br>\n"
   ]
  },
  {
   "cell_type": "markdown",
   "metadata": {},
   "source": [
    "***\n",
    "\n",
    "# <center><font size=\"8\" color='red'>12. Viewing Data</font></center>\n",
    "- We can view data / display data in different ways:\n",
    "- See the top & bottom rows of the frame\n",
    "- Selecting a single column\n",
    "- Selecting via [], which slices the rows\n",
    "- For getting a cross section using a label\n",
    "- Selecting on a multi-axis by labe\n",
    "- Showing label slicing, both endpoints are included\n",
    "- Reduction in the dimensions of the returned object\n",
    "- For getting a scalar value\n",
    "- For getting fast access to a scalar\n",
    "- Select via the position of the passed integers\n",
    "- By integer slices, acting similar to numpy/python\n",
    "- By lists of integer position locations, similar to the numpy/python style\n",
    "- For slicing rows explicitly\n",
    "- For slicing columns explicitly\n",
    "- For getting a value explicitly\n",
    "- For getting fast access to a scalar\n",
    "- Using a single column’s values to select data.\n",
    "- Selecting values from a DataFrame where a boolean condition is met.\n",
    "- Using the isin() method for filtering\n",
    "\n",
    "### <font color='orange'>Example 1:</font>\n",
    "\n",
    "<font color='#094B91'> In this example we can try to view a data frame with different methods. We can use head method that will return tha 1st five rows of a data frame. </font>"
   ]
  },
  {
   "cell_type": "code",
   "execution_count": 414,
   "metadata": {},
   "outputs": [
    {
     "data": {
      "text/html": [
       "<div>\n",
       "<style scoped>\n",
       "    .dataframe tbody tr th:only-of-type {\n",
       "        vertical-align: middle;\n",
       "    }\n",
       "\n",
       "    .dataframe tbody tr th {\n",
       "        vertical-align: top;\n",
       "    }\n",
       "\n",
       "    .dataframe thead th {\n",
       "        text-align: right;\n",
       "    }\n",
       "</style>\n",
       "<table border=\"1\" class=\"dataframe\">\n",
       "  <thead>\n",
       "    <tr style=\"text-align: right;\">\n",
       "      <th></th>\n",
       "      <th>A</th>\n",
       "      <th>B</th>\n",
       "      <th>C</th>\n",
       "      <th>D</th>\n",
       "    </tr>\n",
       "  </thead>\n",
       "  <tbody>\n",
       "    <tr>\n",
       "      <th>2013-01-01</th>\n",
       "      <td>0.078959</td>\n",
       "      <td>1.515880</td>\n",
       "      <td>-1.094380</td>\n",
       "      <td>-0.470318</td>\n",
       "    </tr>\n",
       "    <tr>\n",
       "      <th>2013-01-02</th>\n",
       "      <td>0.511631</td>\n",
       "      <td>-0.007997</td>\n",
       "      <td>0.646660</td>\n",
       "      <td>-1.846470</td>\n",
       "    </tr>\n",
       "    <tr>\n",
       "      <th>2013-01-03</th>\n",
       "      <td>0.118544</td>\n",
       "      <td>0.269207</td>\n",
       "      <td>-0.122353</td>\n",
       "      <td>-0.210741</td>\n",
       "    </tr>\n",
       "    <tr>\n",
       "      <th>2013-01-04</th>\n",
       "      <td>-0.192812</td>\n",
       "      <td>0.110586</td>\n",
       "      <td>1.424446</td>\n",
       "      <td>0.070226</td>\n",
       "    </tr>\n",
       "    <tr>\n",
       "      <th>2013-01-05</th>\n",
       "      <td>-0.600865</td>\n",
       "      <td>0.286401</td>\n",
       "      <td>-2.412080</td>\n",
       "      <td>-0.596841</td>\n",
       "    </tr>\n",
       "  </tbody>\n",
       "</table>\n",
       "</div>"
      ],
      "text/plain": [
       "                   A         B         C         D\n",
       "2013-01-01  0.078959  1.515880 -1.094380 -0.470318\n",
       "2013-01-02  0.511631 -0.007997  0.646660 -1.846470\n",
       "2013-01-03  0.118544  0.269207 -0.122353 -0.210741\n",
       "2013-01-04 -0.192812  0.110586  1.424446  0.070226\n",
       "2013-01-05 -0.600865  0.286401 -2.412080 -0.596841"
      ]
     },
     "execution_count": 414,
     "metadata": {},
     "output_type": "execute_result"
    }
   ],
   "source": [
    " df.head() #display first 5 records"
   ]
  },
  {
   "cell_type": "markdown",
   "metadata": {},
   "source": [
    "<font color='#094B91'> In this example we use tail() method and we pass the '3' as argument that method will return tha last 3 rows of a data frame. </font>"
   ]
  },
  {
   "cell_type": "code",
   "execution_count": 415,
   "metadata": {},
   "outputs": [
    {
     "data": {
      "text/html": [
       "<div>\n",
       "<style scoped>\n",
       "    .dataframe tbody tr th:only-of-type {\n",
       "        vertical-align: middle;\n",
       "    }\n",
       "\n",
       "    .dataframe tbody tr th {\n",
       "        vertical-align: top;\n",
       "    }\n",
       "\n",
       "    .dataframe thead th {\n",
       "        text-align: right;\n",
       "    }\n",
       "</style>\n",
       "<table border=\"1\" class=\"dataframe\">\n",
       "  <thead>\n",
       "    <tr style=\"text-align: right;\">\n",
       "      <th></th>\n",
       "      <th>A</th>\n",
       "      <th>B</th>\n",
       "      <th>C</th>\n",
       "      <th>D</th>\n",
       "    </tr>\n",
       "  </thead>\n",
       "  <tbody>\n",
       "    <tr>\n",
       "      <th>2013-01-04</th>\n",
       "      <td>-0.192812</td>\n",
       "      <td>0.110586</td>\n",
       "      <td>1.424446</td>\n",
       "      <td>0.070226</td>\n",
       "    </tr>\n",
       "    <tr>\n",
       "      <th>2013-01-05</th>\n",
       "      <td>-0.600865</td>\n",
       "      <td>0.286401</td>\n",
       "      <td>-2.412080</td>\n",
       "      <td>-0.596841</td>\n",
       "    </tr>\n",
       "    <tr>\n",
       "      <th>2013-01-06</th>\n",
       "      <td>-1.388959</td>\n",
       "      <td>1.181267</td>\n",
       "      <td>0.322487</td>\n",
       "      <td>-0.007798</td>\n",
       "    </tr>\n",
       "  </tbody>\n",
       "</table>\n",
       "</div>"
      ],
      "text/plain": [
       "                   A         B         C         D\n",
       "2013-01-04 -0.192812  0.110586  1.424446  0.070226\n",
       "2013-01-05 -0.600865  0.286401 -2.412080 -0.596841\n",
       "2013-01-06 -1.388959  1.181267  0.322487 -0.007798"
      ]
     },
     "execution_count": 415,
     "metadata": {},
     "output_type": "execute_result"
    }
   ],
   "source": [
    " df.tail(3) #display last 3 records"
   ]
  },
  {
   "cell_type": "markdown",
   "metadata": {},
   "source": [
    "<font color='#094B91'> In this example we use the dataframe property index that will return all index of the dataframe. </font>"
   ]
  },
  {
   "cell_type": "code",
   "execution_count": 416,
   "metadata": {},
   "outputs": [
    {
     "data": {
      "text/plain": [
       "DatetimeIndex(['2013-01-01', '2013-01-02', '2013-01-03', '2013-01-04',\n",
       "               '2013-01-05', '2013-01-06'],\n",
       "              dtype='datetime64[ns]', freq='D')"
      ]
     },
     "execution_count": 416,
     "metadata": {},
     "output_type": "execute_result"
    }
   ],
   "source": [
    " df.index #display indexes"
   ]
  },
  {
   "cell_type": "markdown",
   "metadata": {},
   "source": [
    "<font color='#094B91'> In this example we use columns property that will return all columns name of dataframe. </font>"
   ]
  },
  {
   "cell_type": "code",
   "execution_count": 417,
   "metadata": {},
   "outputs": [
    {
     "data": {
      "text/plain": [
       "Index(['A', 'B', 'C', 'D'], dtype='object')"
      ]
     },
     "execution_count": 417,
     "metadata": {},
     "output_type": "execute_result"
    }
   ],
   "source": [
    " df.columns #display coloumns"
   ]
  },
  {
   "cell_type": "markdown",
   "metadata": {},
   "source": [
    "<font color='#094B91'> In this example we use values property that will return all values as an array of that dataframe. </font>"
   ]
  },
  {
   "cell_type": "code",
   "execution_count": 418,
   "metadata": {},
   "outputs": [
    {
     "data": {
      "text/plain": [
       "array([[ 0.07895937,  1.5158796 , -1.09437982, -0.4703181 ],\n",
       "       [ 0.51163137, -0.00799693,  0.64666026, -1.84647029],\n",
       "       [ 0.11854361,  0.26920666, -0.12235343, -0.21074112],\n",
       "       [-0.19281234,  0.1105861 ,  1.42444579,  0.07022572],\n",
       "       [-0.60086548,  0.28640108, -2.41208024, -0.59684094],\n",
       "       [-1.38895852,  1.18126712,  0.32248708, -0.00779808]])"
      ]
     },
     "execution_count": 418,
     "metadata": {},
     "output_type": "execute_result"
    }
   ],
   "source": [
    " df.values # print values"
   ]
  },
  {
   "cell_type": "markdown",
   "metadata": {},
   "source": [
    "<font color='#094B91'> In this example we use Transpose property that will convert the columns into rows and rows convert into columns. </font>"
   ]
  },
  {
   "cell_type": "code",
   "execution_count": 419,
   "metadata": {},
   "outputs": [
    {
     "data": {
      "text/html": [
       "<div>\n",
       "<style scoped>\n",
       "    .dataframe tbody tr th:only-of-type {\n",
       "        vertical-align: middle;\n",
       "    }\n",
       "\n",
       "    .dataframe tbody tr th {\n",
       "        vertical-align: top;\n",
       "    }\n",
       "\n",
       "    .dataframe thead th {\n",
       "        text-align: right;\n",
       "    }\n",
       "</style>\n",
       "<table border=\"1\" class=\"dataframe\">\n",
       "  <thead>\n",
       "    <tr style=\"text-align: right;\">\n",
       "      <th></th>\n",
       "      <th>2013-01-01</th>\n",
       "      <th>2013-01-02</th>\n",
       "      <th>2013-01-03</th>\n",
       "      <th>2013-01-04</th>\n",
       "      <th>2013-01-05</th>\n",
       "      <th>2013-01-06</th>\n",
       "    </tr>\n",
       "  </thead>\n",
       "  <tbody>\n",
       "    <tr>\n",
       "      <th>A</th>\n",
       "      <td>0.078959</td>\n",
       "      <td>0.511631</td>\n",
       "      <td>0.118544</td>\n",
       "      <td>-0.192812</td>\n",
       "      <td>-0.600865</td>\n",
       "      <td>-1.388959</td>\n",
       "    </tr>\n",
       "    <tr>\n",
       "      <th>B</th>\n",
       "      <td>1.515880</td>\n",
       "      <td>-0.007997</td>\n",
       "      <td>0.269207</td>\n",
       "      <td>0.110586</td>\n",
       "      <td>0.286401</td>\n",
       "      <td>1.181267</td>\n",
       "    </tr>\n",
       "    <tr>\n",
       "      <th>C</th>\n",
       "      <td>-1.094380</td>\n",
       "      <td>0.646660</td>\n",
       "      <td>-0.122353</td>\n",
       "      <td>1.424446</td>\n",
       "      <td>-2.412080</td>\n",
       "      <td>0.322487</td>\n",
       "    </tr>\n",
       "    <tr>\n",
       "      <th>D</th>\n",
       "      <td>-0.470318</td>\n",
       "      <td>-1.846470</td>\n",
       "      <td>-0.210741</td>\n",
       "      <td>0.070226</td>\n",
       "      <td>-0.596841</td>\n",
       "      <td>-0.007798</td>\n",
       "    </tr>\n",
       "  </tbody>\n",
       "</table>\n",
       "</div>"
      ],
      "text/plain": [
       "   2013-01-01  2013-01-02  2013-01-03  2013-01-04  2013-01-05  2013-01-06\n",
       "A    0.078959    0.511631    0.118544   -0.192812   -0.600865   -1.388959\n",
       "B    1.515880   -0.007997    0.269207    0.110586    0.286401    1.181267\n",
       "C   -1.094380    0.646660   -0.122353    1.424446   -2.412080    0.322487\n",
       "D   -0.470318   -1.846470   -0.210741    0.070226   -0.596841   -0.007798"
      ]
     },
     "execution_count": 419,
     "metadata": {},
     "output_type": "execute_result"
    }
   ],
   "source": [
    " # Transposing your data\n",
    "df.T"
   ]
  },
  {
   "cell_type": "markdown",
   "metadata": {},
   "source": [
    "<font color='#094B91'> In this example we use a method sort_index that will sort all data according the index. </font>"
   ]
  },
  {
   "cell_type": "code",
   "execution_count": 420,
   "metadata": {},
   "outputs": [
    {
     "data": {
      "text/html": [
       "<div>\n",
       "<style scoped>\n",
       "    .dataframe tbody tr th:only-of-type {\n",
       "        vertical-align: middle;\n",
       "    }\n",
       "\n",
       "    .dataframe tbody tr th {\n",
       "        vertical-align: top;\n",
       "    }\n",
       "\n",
       "    .dataframe thead th {\n",
       "        text-align: right;\n",
       "    }\n",
       "</style>\n",
       "<table border=\"1\" class=\"dataframe\">\n",
       "  <thead>\n",
       "    <tr style=\"text-align: right;\">\n",
       "      <th></th>\n",
       "      <th>D</th>\n",
       "      <th>C</th>\n",
       "      <th>B</th>\n",
       "      <th>A</th>\n",
       "    </tr>\n",
       "  </thead>\n",
       "  <tbody>\n",
       "    <tr>\n",
       "      <th>2013-01-01</th>\n",
       "      <td>-0.470318</td>\n",
       "      <td>-1.094380</td>\n",
       "      <td>1.515880</td>\n",
       "      <td>0.078959</td>\n",
       "    </tr>\n",
       "    <tr>\n",
       "      <th>2013-01-02</th>\n",
       "      <td>-1.846470</td>\n",
       "      <td>0.646660</td>\n",
       "      <td>-0.007997</td>\n",
       "      <td>0.511631</td>\n",
       "    </tr>\n",
       "    <tr>\n",
       "      <th>2013-01-03</th>\n",
       "      <td>-0.210741</td>\n",
       "      <td>-0.122353</td>\n",
       "      <td>0.269207</td>\n",
       "      <td>0.118544</td>\n",
       "    </tr>\n",
       "    <tr>\n",
       "      <th>2013-01-04</th>\n",
       "      <td>0.070226</td>\n",
       "      <td>1.424446</td>\n",
       "      <td>0.110586</td>\n",
       "      <td>-0.192812</td>\n",
       "    </tr>\n",
       "    <tr>\n",
       "      <th>2013-01-05</th>\n",
       "      <td>-0.596841</td>\n",
       "      <td>-2.412080</td>\n",
       "      <td>0.286401</td>\n",
       "      <td>-0.600865</td>\n",
       "    </tr>\n",
       "    <tr>\n",
       "      <th>2013-01-06</th>\n",
       "      <td>-0.007798</td>\n",
       "      <td>0.322487</td>\n",
       "      <td>1.181267</td>\n",
       "      <td>-1.388959</td>\n",
       "    </tr>\n",
       "  </tbody>\n",
       "</table>\n",
       "</div>"
      ],
      "text/plain": [
       "                   D         C         B         A\n",
       "2013-01-01 -0.470318 -1.094380  1.515880  0.078959\n",
       "2013-01-02 -1.846470  0.646660 -0.007997  0.511631\n",
       "2013-01-03 -0.210741 -0.122353  0.269207  0.118544\n",
       "2013-01-04  0.070226  1.424446  0.110586 -0.192812\n",
       "2013-01-05 -0.596841 -2.412080  0.286401 -0.600865\n",
       "2013-01-06 -0.007798  0.322487  1.181267 -1.388959"
      ]
     },
     "execution_count": 420,
     "metadata": {},
     "output_type": "execute_result"
    }
   ],
   "source": [
    " #Sorting by an axis\n",
    "df.sort_index(axis=1, ascending=False)"
   ]
  },
  {
   "cell_type": "markdown",
   "metadata": {},
   "source": [
    "<font color='#094B91'> In this example we use a method sort_values that will sort all data according the values. </font>"
   ]
  },
  {
   "cell_type": "code",
   "execution_count": 421,
   "metadata": {},
   "outputs": [
    {
     "data": {
      "text/html": [
       "<div>\n",
       "<style scoped>\n",
       "    .dataframe tbody tr th:only-of-type {\n",
       "        vertical-align: middle;\n",
       "    }\n",
       "\n",
       "    .dataframe tbody tr th {\n",
       "        vertical-align: top;\n",
       "    }\n",
       "\n",
       "    .dataframe thead th {\n",
       "        text-align: right;\n",
       "    }\n",
       "</style>\n",
       "<table border=\"1\" class=\"dataframe\">\n",
       "  <thead>\n",
       "    <tr style=\"text-align: right;\">\n",
       "      <th></th>\n",
       "      <th>A</th>\n",
       "      <th>B</th>\n",
       "      <th>C</th>\n",
       "      <th>D</th>\n",
       "    </tr>\n",
       "  </thead>\n",
       "  <tbody>\n",
       "    <tr>\n",
       "      <th>2013-01-02</th>\n",
       "      <td>0.511631</td>\n",
       "      <td>-0.007997</td>\n",
       "      <td>0.646660</td>\n",
       "      <td>-1.846470</td>\n",
       "    </tr>\n",
       "    <tr>\n",
       "      <th>2013-01-04</th>\n",
       "      <td>-0.192812</td>\n",
       "      <td>0.110586</td>\n",
       "      <td>1.424446</td>\n",
       "      <td>0.070226</td>\n",
       "    </tr>\n",
       "    <tr>\n",
       "      <th>2013-01-03</th>\n",
       "      <td>0.118544</td>\n",
       "      <td>0.269207</td>\n",
       "      <td>-0.122353</td>\n",
       "      <td>-0.210741</td>\n",
       "    </tr>\n",
       "    <tr>\n",
       "      <th>2013-01-05</th>\n",
       "      <td>-0.600865</td>\n",
       "      <td>0.286401</td>\n",
       "      <td>-2.412080</td>\n",
       "      <td>-0.596841</td>\n",
       "    </tr>\n",
       "    <tr>\n",
       "      <th>2013-01-06</th>\n",
       "      <td>-1.388959</td>\n",
       "      <td>1.181267</td>\n",
       "      <td>0.322487</td>\n",
       "      <td>-0.007798</td>\n",
       "    </tr>\n",
       "    <tr>\n",
       "      <th>2013-01-01</th>\n",
       "      <td>0.078959</td>\n",
       "      <td>1.515880</td>\n",
       "      <td>-1.094380</td>\n",
       "      <td>-0.470318</td>\n",
       "    </tr>\n",
       "  </tbody>\n",
       "</table>\n",
       "</div>"
      ],
      "text/plain": [
       "                   A         B         C         D\n",
       "2013-01-02  0.511631 -0.007997  0.646660 -1.846470\n",
       "2013-01-04 -0.192812  0.110586  1.424446  0.070226\n",
       "2013-01-03  0.118544  0.269207 -0.122353 -0.210741\n",
       "2013-01-05 -0.600865  0.286401 -2.412080 -0.596841\n",
       "2013-01-06 -1.388959  1.181267  0.322487 -0.007798\n",
       "2013-01-01  0.078959  1.515880 -1.094380 -0.470318"
      ]
     },
     "execution_count": 421,
     "metadata": {},
     "output_type": "execute_result"
    }
   ],
   "source": [
    " #Sorting by values\n",
    "df.sort_values(by='B')"
   ]
  },
  {
   "cell_type": "markdown",
   "metadata": {},
   "source": [
    "<font color='#094B91'> In this example we use a method describe() that will show the statistic summary or dataframe. </font>"
   ]
  },
  {
   "cell_type": "code",
   "execution_count": 422,
   "metadata": {},
   "outputs": [
    {
     "data": {
      "text/html": [
       "<div>\n",
       "<style scoped>\n",
       "    .dataframe tbody tr th:only-of-type {\n",
       "        vertical-align: middle;\n",
       "    }\n",
       "\n",
       "    .dataframe tbody tr th {\n",
       "        vertical-align: top;\n",
       "    }\n",
       "\n",
       "    .dataframe thead th {\n",
       "        text-align: right;\n",
       "    }\n",
       "</style>\n",
       "<table border=\"1\" class=\"dataframe\">\n",
       "  <thead>\n",
       "    <tr style=\"text-align: right;\">\n",
       "      <th></th>\n",
       "      <th>A</th>\n",
       "      <th>B</th>\n",
       "      <th>C</th>\n",
       "      <th>D</th>\n",
       "    </tr>\n",
       "  </thead>\n",
       "  <tbody>\n",
       "    <tr>\n",
       "      <th>count</th>\n",
       "      <td>6.000000</td>\n",
       "      <td>6.000000</td>\n",
       "      <td>6.000000</td>\n",
       "      <td>6.000000</td>\n",
       "    </tr>\n",
       "    <tr>\n",
       "      <th>mean</th>\n",
       "      <td>-0.245584</td>\n",
       "      <td>0.559224</td>\n",
       "      <td>-0.205870</td>\n",
       "      <td>-0.510324</td>\n",
       "    </tr>\n",
       "    <tr>\n",
       "      <th>std</th>\n",
       "      <td>0.670464</td>\n",
       "      <td>0.629871</td>\n",
       "      <td>1.365847</td>\n",
       "      <td>0.703377</td>\n",
       "    </tr>\n",
       "    <tr>\n",
       "      <th>min</th>\n",
       "      <td>-1.388959</td>\n",
       "      <td>-0.007997</td>\n",
       "      <td>-2.412080</td>\n",
       "      <td>-1.846470</td>\n",
       "    </tr>\n",
       "    <tr>\n",
       "      <th>25%</th>\n",
       "      <td>-0.498852</td>\n",
       "      <td>0.150241</td>\n",
       "      <td>-0.851373</td>\n",
       "      <td>-0.565210</td>\n",
       "    </tr>\n",
       "    <tr>\n",
       "      <th>50%</th>\n",
       "      <td>-0.056926</td>\n",
       "      <td>0.277804</td>\n",
       "      <td>0.100067</td>\n",
       "      <td>-0.340530</td>\n",
       "    </tr>\n",
       "    <tr>\n",
       "      <th>75%</th>\n",
       "      <td>0.108648</td>\n",
       "      <td>0.957551</td>\n",
       "      <td>0.565617</td>\n",
       "      <td>-0.058534</td>\n",
       "    </tr>\n",
       "    <tr>\n",
       "      <th>max</th>\n",
       "      <td>0.511631</td>\n",
       "      <td>1.515880</td>\n",
       "      <td>1.424446</td>\n",
       "      <td>0.070226</td>\n",
       "    </tr>\n",
       "  </tbody>\n",
       "</table>\n",
       "</div>"
      ],
      "text/plain": [
       "              A         B         C         D\n",
       "count  6.000000  6.000000  6.000000  6.000000\n",
       "mean  -0.245584  0.559224 -0.205870 -0.510324\n",
       "std    0.670464  0.629871  1.365847  0.703377\n",
       "min   -1.388959 -0.007997 -2.412080 -1.846470\n",
       "25%   -0.498852  0.150241 -0.851373 -0.565210\n",
       "50%   -0.056926  0.277804  0.100067 -0.340530\n",
       "75%    0.108648  0.957551  0.565617 -0.058534\n",
       "max    0.511631  1.515880  1.424446  0.070226"
      ]
     },
     "execution_count": 422,
     "metadata": {},
     "output_type": "execute_result"
    }
   ],
   "source": [
    "# Describe shows a quick statistic summary of your data\n",
    "df.describe()"
   ]
  },
  {
   "cell_type": "markdown",
   "metadata": {},
   "source": [
    "<font color='#094B91'> In this example we pass a column name that will return tha that specific column as a pandas series. </font>"
   ]
  },
  {
   "cell_type": "code",
   "execution_count": 423,
   "metadata": {},
   "outputs": [
    {
     "data": {
      "text/plain": [
       "2013-01-01    0.078959\n",
       "2013-01-02    0.511631\n",
       "2013-01-03    0.118544\n",
       "2013-01-04   -0.192812\n",
       "2013-01-05   -0.600865\n",
       "2013-01-06   -1.388959\n",
       "Freq: D, Name: A, dtype: float64"
      ]
     },
     "execution_count": 423,
     "metadata": {},
     "output_type": "execute_result"
    }
   ],
   "source": [
    " #Selecting a single column, which yields a Series, equivalent to df.A\n",
    "df['A']"
   ]
  },
  {
   "cell_type": "markdown",
   "metadata": {},
   "source": [
    "<font color='#094B91'> In this example we show some specific columns using colon : . </font>"
   ]
  },
  {
   "cell_type": "code",
   "execution_count": 424,
   "metadata": {},
   "outputs": [
    {
     "data": {
      "text/html": [
       "<div>\n",
       "<style scoped>\n",
       "    .dataframe tbody tr th:only-of-type {\n",
       "        vertical-align: middle;\n",
       "    }\n",
       "\n",
       "    .dataframe tbody tr th {\n",
       "        vertical-align: top;\n",
       "    }\n",
       "\n",
       "    .dataframe thead th {\n",
       "        text-align: right;\n",
       "    }\n",
       "</style>\n",
       "<table border=\"1\" class=\"dataframe\">\n",
       "  <thead>\n",
       "    <tr style=\"text-align: right;\">\n",
       "      <th></th>\n",
       "      <th>A</th>\n",
       "      <th>B</th>\n",
       "      <th>C</th>\n",
       "      <th>D</th>\n",
       "    </tr>\n",
       "  </thead>\n",
       "  <tbody>\n",
       "    <tr>\n",
       "      <th>2013-01-01</th>\n",
       "      <td>0.078959</td>\n",
       "      <td>1.515880</td>\n",
       "      <td>-1.094380</td>\n",
       "      <td>-0.470318</td>\n",
       "    </tr>\n",
       "    <tr>\n",
       "      <th>2013-01-02</th>\n",
       "      <td>0.511631</td>\n",
       "      <td>-0.007997</td>\n",
       "      <td>0.646660</td>\n",
       "      <td>-1.846470</td>\n",
       "    </tr>\n",
       "    <tr>\n",
       "      <th>2013-01-03</th>\n",
       "      <td>0.118544</td>\n",
       "      <td>0.269207</td>\n",
       "      <td>-0.122353</td>\n",
       "      <td>-0.210741</td>\n",
       "    </tr>\n",
       "  </tbody>\n",
       "</table>\n",
       "</div>"
      ],
      "text/plain": [
       "                   A         B         C         D\n",
       "2013-01-01  0.078959  1.515880 -1.094380 -0.470318\n",
       "2013-01-02  0.511631 -0.007997  0.646660 -1.846470\n",
       "2013-01-03  0.118544  0.269207 -0.122353 -0.210741"
      ]
     },
     "execution_count": 424,
     "metadata": {},
     "output_type": "execute_result"
    }
   ],
   "source": [
    "#Selecting via [], which slices the rows.\n",
    "df[0:3]"
   ]
  },
  {
   "cell_type": "markdown",
   "metadata": {},
   "source": [
    "<font color='#094B91'> In this example we show some specific data between a specific date. </font>"
   ]
  },
  {
   "cell_type": "code",
   "execution_count": 425,
   "metadata": {},
   "outputs": [
    {
     "data": {
      "text/html": [
       "<div>\n",
       "<style scoped>\n",
       "    .dataframe tbody tr th:only-of-type {\n",
       "        vertical-align: middle;\n",
       "    }\n",
       "\n",
       "    .dataframe tbody tr th {\n",
       "        vertical-align: top;\n",
       "    }\n",
       "\n",
       "    .dataframe thead th {\n",
       "        text-align: right;\n",
       "    }\n",
       "</style>\n",
       "<table border=\"1\" class=\"dataframe\">\n",
       "  <thead>\n",
       "    <tr style=\"text-align: right;\">\n",
       "      <th></th>\n",
       "      <th>A</th>\n",
       "      <th>B</th>\n",
       "      <th>C</th>\n",
       "      <th>D</th>\n",
       "    </tr>\n",
       "  </thead>\n",
       "  <tbody>\n",
       "    <tr>\n",
       "      <th>2013-01-02</th>\n",
       "      <td>0.511631</td>\n",
       "      <td>-0.007997</td>\n",
       "      <td>0.646660</td>\n",
       "      <td>-1.846470</td>\n",
       "    </tr>\n",
       "    <tr>\n",
       "      <th>2013-01-03</th>\n",
       "      <td>0.118544</td>\n",
       "      <td>0.269207</td>\n",
       "      <td>-0.122353</td>\n",
       "      <td>-0.210741</td>\n",
       "    </tr>\n",
       "    <tr>\n",
       "      <th>2013-01-04</th>\n",
       "      <td>-0.192812</td>\n",
       "      <td>0.110586</td>\n",
       "      <td>1.424446</td>\n",
       "      <td>0.070226</td>\n",
       "    </tr>\n",
       "  </tbody>\n",
       "</table>\n",
       "</div>"
      ],
      "text/plain": [
       "                   A         B         C         D\n",
       "2013-01-02  0.511631 -0.007997  0.646660 -1.846470\n",
       "2013-01-03  0.118544  0.269207 -0.122353 -0.210741\n",
       "2013-01-04 -0.192812  0.110586  1.424446  0.070226"
      ]
     },
     "execution_count": 425,
     "metadata": {},
     "output_type": "execute_result"
    }
   ],
   "source": [
    " df['20130102':'20130104']"
   ]
  },
  {
   "cell_type": "markdown",
   "metadata": {},
   "source": [
    "<font color='#094B91'> In this example we show some specific data between a range and we show specific columns. </font>"
   ]
  },
  {
   "cell_type": "code",
   "execution_count": 426,
   "metadata": {},
   "outputs": [
    {
     "data": {
      "text/html": [
       "<div>\n",
       "<style scoped>\n",
       "    .dataframe tbody tr th:only-of-type {\n",
       "        vertical-align: middle;\n",
       "    }\n",
       "\n",
       "    .dataframe tbody tr th {\n",
       "        vertical-align: top;\n",
       "    }\n",
       "\n",
       "    .dataframe thead th {\n",
       "        text-align: right;\n",
       "    }\n",
       "</style>\n",
       "<table border=\"1\" class=\"dataframe\">\n",
       "  <thead>\n",
       "    <tr style=\"text-align: right;\">\n",
       "      <th></th>\n",
       "      <th>A</th>\n",
       "      <th>B</th>\n",
       "    </tr>\n",
       "  </thead>\n",
       "  <tbody>\n",
       "    <tr>\n",
       "      <th>2013-01-01</th>\n",
       "      <td>0.078959</td>\n",
       "      <td>1.515880</td>\n",
       "    </tr>\n",
       "    <tr>\n",
       "      <th>2013-01-02</th>\n",
       "      <td>0.511631</td>\n",
       "      <td>-0.007997</td>\n",
       "    </tr>\n",
       "    <tr>\n",
       "      <th>2013-01-03</th>\n",
       "      <td>0.118544</td>\n",
       "      <td>0.269207</td>\n",
       "    </tr>\n",
       "    <tr>\n",
       "      <th>2013-01-04</th>\n",
       "      <td>-0.192812</td>\n",
       "      <td>0.110586</td>\n",
       "    </tr>\n",
       "    <tr>\n",
       "      <th>2013-01-05</th>\n",
       "      <td>-0.600865</td>\n",
       "      <td>0.286401</td>\n",
       "    </tr>\n",
       "    <tr>\n",
       "      <th>2013-01-06</th>\n",
       "      <td>-1.388959</td>\n",
       "      <td>1.181267</td>\n",
       "    </tr>\n",
       "  </tbody>\n",
       "</table>\n",
       "</div>"
      ],
      "text/plain": [
       "                   A         B\n",
       "2013-01-01  0.078959  1.515880\n",
       "2013-01-02  0.511631 -0.007997\n",
       "2013-01-03  0.118544  0.269207\n",
       "2013-01-04 -0.192812  0.110586\n",
       "2013-01-05 -0.600865  0.286401\n",
       "2013-01-06 -1.388959  1.181267"
      ]
     },
     "execution_count": 426,
     "metadata": {},
     "output_type": "execute_result"
    }
   ],
   "source": [
    "#Selecting on a multi-axis by label\n",
    "df.loc[:,['A','B']]"
   ]
  },
  {
   "cell_type": "markdown",
   "metadata": {},
   "source": [
    "<font color='#094B91'> In this example we show some specific data between a specific dat and we show just two columns. </font>"
   ]
  },
  {
   "cell_type": "code",
   "execution_count": 427,
   "metadata": {},
   "outputs": [
    {
     "data": {
      "text/html": [
       "<div>\n",
       "<style scoped>\n",
       "    .dataframe tbody tr th:only-of-type {\n",
       "        vertical-align: middle;\n",
       "    }\n",
       "\n",
       "    .dataframe tbody tr th {\n",
       "        vertical-align: top;\n",
       "    }\n",
       "\n",
       "    .dataframe thead th {\n",
       "        text-align: right;\n",
       "    }\n",
       "</style>\n",
       "<table border=\"1\" class=\"dataframe\">\n",
       "  <thead>\n",
       "    <tr style=\"text-align: right;\">\n",
       "      <th></th>\n",
       "      <th>A</th>\n",
       "      <th>B</th>\n",
       "    </tr>\n",
       "  </thead>\n",
       "  <tbody>\n",
       "    <tr>\n",
       "      <th>2013-01-02</th>\n",
       "      <td>0.511631</td>\n",
       "      <td>-0.007997</td>\n",
       "    </tr>\n",
       "    <tr>\n",
       "      <th>2013-01-03</th>\n",
       "      <td>0.118544</td>\n",
       "      <td>0.269207</td>\n",
       "    </tr>\n",
       "    <tr>\n",
       "      <th>2013-01-04</th>\n",
       "      <td>-0.192812</td>\n",
       "      <td>0.110586</td>\n",
       "    </tr>\n",
       "  </tbody>\n",
       "</table>\n",
       "</div>"
      ],
      "text/plain": [
       "                   A         B\n",
       "2013-01-02  0.511631 -0.007997\n",
       "2013-01-03  0.118544  0.269207\n",
       "2013-01-04 -0.192812  0.110586"
      ]
     },
     "execution_count": 427,
     "metadata": {},
     "output_type": "execute_result"
    }
   ],
   "source": [
    "#Showing label slicing, both endpoints are included\n",
    "df.loc['20130102':'20130104',['A','B']]"
   ]
  },
  {
   "cell_type": "markdown",
   "metadata": {},
   "source": [
    "<font color='#094B91'> In this example we get a specific row by it's index name and we just show two columns of that specific row. </font>"
   ]
  },
  {
   "cell_type": "code",
   "execution_count": 428,
   "metadata": {},
   "outputs": [
    {
     "data": {
      "text/plain": [
       "A    0.511631\n",
       "B   -0.007997\n",
       "Name: 2013-01-02 00:00:00, dtype: float64"
      ]
     },
     "execution_count": 428,
     "metadata": {},
     "output_type": "execute_result"
    }
   ],
   "source": [
    "# Reduction in the dimensions of the returned object\n",
    "df.loc['20130102',['A','B']]"
   ]
  },
  {
   "cell_type": "markdown",
   "metadata": {},
   "source": [
    "<font color='#094B91'> In this example we get a specific row by it's index numner and we just show one column of that specific row. </font>"
   ]
  },
  {
   "cell_type": "code",
   "execution_count": 429,
   "metadata": {},
   "outputs": [
    {
     "data": {
      "text/plain": [
       "0.07895937177152129"
      ]
     },
     "execution_count": 429,
     "metadata": {},
     "output_type": "execute_result"
    }
   ],
   "source": [
    " # For getting a scalar value\n",
    "df.loc[dates[0],'A']"
   ]
  },
  {
   "cell_type": "markdown",
   "metadata": {},
   "source": [
    "<font color='#094B91'> In this example we get a specific row by it's index numner and we just show one column of that specific row. </font>"
   ]
  },
  {
   "cell_type": "code",
   "execution_count": 430,
   "metadata": {},
   "outputs": [
    {
     "data": {
      "text/plain": [
       "0.07895937177152129"
      ]
     },
     "execution_count": 430,
     "metadata": {},
     "output_type": "execute_result"
    }
   ],
   "source": [
    " # For getting fast access to a scalar \n",
    "df.at[dates[0],'A']"
   ]
  },
  {
   "cell_type": "markdown",
   "metadata": {},
   "source": [
    "<font color='#094B91'> In this example we get specific row but that will show as column. </font>"
   ]
  },
  {
   "cell_type": "code",
   "execution_count": 431,
   "metadata": {},
   "outputs": [
    {
     "data": {
      "text/plain": [
       "A   -0.192812\n",
       "B    0.110586\n",
       "C    1.424446\n",
       "D    0.070226\n",
       "Name: 2013-01-04 00:00:00, dtype: float64"
      ]
     },
     "execution_count": 431,
     "metadata": {},
     "output_type": "execute_result"
    }
   ],
   "source": [
    " # Select via the position of the passed integers\n",
    "df.iloc[3]"
   ]
  },
  {
   "cell_type": "markdown",
   "metadata": {},
   "source": [
    "<font color='#094B91'> In this example we get some rows and columns by slices. </font>"
   ]
  },
  {
   "cell_type": "code",
   "execution_count": 432,
   "metadata": {},
   "outputs": [
    {
     "data": {
      "text/html": [
       "<div>\n",
       "<style scoped>\n",
       "    .dataframe tbody tr th:only-of-type {\n",
       "        vertical-align: middle;\n",
       "    }\n",
       "\n",
       "    .dataframe tbody tr th {\n",
       "        vertical-align: top;\n",
       "    }\n",
       "\n",
       "    .dataframe thead th {\n",
       "        text-align: right;\n",
       "    }\n",
       "</style>\n",
       "<table border=\"1\" class=\"dataframe\">\n",
       "  <thead>\n",
       "    <tr style=\"text-align: right;\">\n",
       "      <th></th>\n",
       "      <th>A</th>\n",
       "      <th>B</th>\n",
       "    </tr>\n",
       "  </thead>\n",
       "  <tbody>\n",
       "    <tr>\n",
       "      <th>2013-01-04</th>\n",
       "      <td>-0.192812</td>\n",
       "      <td>0.110586</td>\n",
       "    </tr>\n",
       "    <tr>\n",
       "      <th>2013-01-05</th>\n",
       "      <td>-0.600865</td>\n",
       "      <td>0.286401</td>\n",
       "    </tr>\n",
       "  </tbody>\n",
       "</table>\n",
       "</div>"
      ],
      "text/plain": [
       "                   A         B\n",
       "2013-01-04 -0.192812  0.110586\n",
       "2013-01-05 -0.600865  0.286401"
      ]
     },
     "execution_count": 432,
     "metadata": {},
     "output_type": "execute_result"
    }
   ],
   "source": [
    " # By integer slices, acting similar to numpy/python\n",
    "df.iloc[3:5,0:2]"
   ]
  },
  {
   "cell_type": "markdown",
   "metadata": {},
   "source": [
    "<font color='#094B91'> In this example we get a specific row and columns by it's index numner  </font>"
   ]
  },
  {
   "cell_type": "code",
   "execution_count": 433,
   "metadata": {},
   "outputs": [
    {
     "data": {
      "text/html": [
       "<div>\n",
       "<style scoped>\n",
       "    .dataframe tbody tr th:only-of-type {\n",
       "        vertical-align: middle;\n",
       "    }\n",
       "\n",
       "    .dataframe tbody tr th {\n",
       "        vertical-align: top;\n",
       "    }\n",
       "\n",
       "    .dataframe thead th {\n",
       "        text-align: right;\n",
       "    }\n",
       "</style>\n",
       "<table border=\"1\" class=\"dataframe\">\n",
       "  <thead>\n",
       "    <tr style=\"text-align: right;\">\n",
       "      <th></th>\n",
       "      <th>A</th>\n",
       "      <th>C</th>\n",
       "    </tr>\n",
       "  </thead>\n",
       "  <tbody>\n",
       "    <tr>\n",
       "      <th>2013-01-02</th>\n",
       "      <td>0.511631</td>\n",
       "      <td>0.646660</td>\n",
       "    </tr>\n",
       "    <tr>\n",
       "      <th>2013-01-03</th>\n",
       "      <td>0.118544</td>\n",
       "      <td>-0.122353</td>\n",
       "    </tr>\n",
       "    <tr>\n",
       "      <th>2013-01-05</th>\n",
       "      <td>-0.600865</td>\n",
       "      <td>-2.412080</td>\n",
       "    </tr>\n",
       "  </tbody>\n",
       "</table>\n",
       "</div>"
      ],
      "text/plain": [
       "                   A         C\n",
       "2013-01-02  0.511631  0.646660\n",
       "2013-01-03  0.118544 -0.122353\n",
       "2013-01-05 -0.600865 -2.412080"
      ]
     },
     "execution_count": 433,
     "metadata": {},
     "output_type": "execute_result"
    }
   ],
   "source": [
    "# By lists of integer position locations, similar to the numpy/python style\n",
    "df.iloc[[1,2,4],[0,2]]"
   ]
  },
  {
   "cell_type": "markdown",
   "metadata": {},
   "source": [
    "<font color='#094B91'> In this example we get some rows and columns by slices. </font>"
   ]
  },
  {
   "cell_type": "code",
   "execution_count": 434,
   "metadata": {},
   "outputs": [
    {
     "data": {
      "text/html": [
       "<div>\n",
       "<style scoped>\n",
       "    .dataframe tbody tr th:only-of-type {\n",
       "        vertical-align: middle;\n",
       "    }\n",
       "\n",
       "    .dataframe tbody tr th {\n",
       "        vertical-align: top;\n",
       "    }\n",
       "\n",
       "    .dataframe thead th {\n",
       "        text-align: right;\n",
       "    }\n",
       "</style>\n",
       "<table border=\"1\" class=\"dataframe\">\n",
       "  <thead>\n",
       "    <tr style=\"text-align: right;\">\n",
       "      <th></th>\n",
       "      <th>B</th>\n",
       "      <th>C</th>\n",
       "    </tr>\n",
       "  </thead>\n",
       "  <tbody>\n",
       "    <tr>\n",
       "      <th>2013-01-01</th>\n",
       "      <td>1.515880</td>\n",
       "      <td>-1.094380</td>\n",
       "    </tr>\n",
       "    <tr>\n",
       "      <th>2013-01-02</th>\n",
       "      <td>-0.007997</td>\n",
       "      <td>0.646660</td>\n",
       "    </tr>\n",
       "    <tr>\n",
       "      <th>2013-01-03</th>\n",
       "      <td>0.269207</td>\n",
       "      <td>-0.122353</td>\n",
       "    </tr>\n",
       "    <tr>\n",
       "      <th>2013-01-04</th>\n",
       "      <td>0.110586</td>\n",
       "      <td>1.424446</td>\n",
       "    </tr>\n",
       "    <tr>\n",
       "      <th>2013-01-05</th>\n",
       "      <td>0.286401</td>\n",
       "      <td>-2.412080</td>\n",
       "    </tr>\n",
       "    <tr>\n",
       "      <th>2013-01-06</th>\n",
       "      <td>1.181267</td>\n",
       "      <td>0.322487</td>\n",
       "    </tr>\n",
       "  </tbody>\n",
       "</table>\n",
       "</div>"
      ],
      "text/plain": [
       "                   B         C\n",
       "2013-01-01  1.515880 -1.094380\n",
       "2013-01-02 -0.007997  0.646660\n",
       "2013-01-03  0.269207 -0.122353\n",
       "2013-01-04  0.110586  1.424446\n",
       "2013-01-05  0.286401 -2.412080\n",
       "2013-01-06  1.181267  0.322487"
      ]
     },
     "execution_count": 434,
     "metadata": {},
     "output_type": "execute_result"
    }
   ],
   "source": [
    " # For slicing rows explicitly\n",
    "df.iloc[:,1:3]"
   ]
  },
  {
   "cell_type": "markdown",
   "metadata": {},
   "source": [
    "<font color='#094B91'> In this example we get a single sell. </font>"
   ]
  },
  {
   "cell_type": "code",
   "execution_count": 435,
   "metadata": {},
   "outputs": [
    {
     "data": {
      "text/plain": [
       "-0.007996933867974754"
      ]
     },
     "execution_count": 435,
     "metadata": {},
     "output_type": "execute_result"
    }
   ],
   "source": [
    " # For getting a value explicitly\n",
    "df.iloc[1,1]"
   ]
  },
  {
   "cell_type": "markdown",
   "metadata": {},
   "source": [
    "<font color='#094B91'> In this example we get all data where column A's data is graterthan 0. </font>"
   ]
  },
  {
   "cell_type": "code",
   "execution_count": 436,
   "metadata": {},
   "outputs": [
    {
     "data": {
      "text/html": [
       "<div>\n",
       "<style scoped>\n",
       "    .dataframe tbody tr th:only-of-type {\n",
       "        vertical-align: middle;\n",
       "    }\n",
       "\n",
       "    .dataframe tbody tr th {\n",
       "        vertical-align: top;\n",
       "    }\n",
       "\n",
       "    .dataframe thead th {\n",
       "        text-align: right;\n",
       "    }\n",
       "</style>\n",
       "<table border=\"1\" class=\"dataframe\">\n",
       "  <thead>\n",
       "    <tr style=\"text-align: right;\">\n",
       "      <th></th>\n",
       "      <th>A</th>\n",
       "      <th>B</th>\n",
       "      <th>C</th>\n",
       "      <th>D</th>\n",
       "    </tr>\n",
       "  </thead>\n",
       "  <tbody>\n",
       "    <tr>\n",
       "      <th>2013-01-01</th>\n",
       "      <td>0.078959</td>\n",
       "      <td>1.515880</td>\n",
       "      <td>-1.094380</td>\n",
       "      <td>-0.470318</td>\n",
       "    </tr>\n",
       "    <tr>\n",
       "      <th>2013-01-02</th>\n",
       "      <td>0.511631</td>\n",
       "      <td>-0.007997</td>\n",
       "      <td>0.646660</td>\n",
       "      <td>-1.846470</td>\n",
       "    </tr>\n",
       "    <tr>\n",
       "      <th>2013-01-03</th>\n",
       "      <td>0.118544</td>\n",
       "      <td>0.269207</td>\n",
       "      <td>-0.122353</td>\n",
       "      <td>-0.210741</td>\n",
       "    </tr>\n",
       "  </tbody>\n",
       "</table>\n",
       "</div>"
      ],
      "text/plain": [
       "                   A         B         C         D\n",
       "2013-01-01  0.078959  1.515880 -1.094380 -0.470318\n",
       "2013-01-02  0.511631 -0.007997  0.646660 -1.846470\n",
       "2013-01-03  0.118544  0.269207 -0.122353 -0.210741"
      ]
     },
     "execution_count": 436,
     "metadata": {},
     "output_type": "execute_result"
    }
   ],
   "source": [
    " # Using a single column’s values to select data.\n",
    "df[df.A > 0]"
   ]
  },
  {
   "cell_type": "markdown",
   "metadata": {},
   "source": [
    "<font color='#094B91'> In this example we get all data graterthan 0. </font>"
   ]
  },
  {
   "cell_type": "code",
   "execution_count": 437,
   "metadata": {},
   "outputs": [
    {
     "data": {
      "text/html": [
       "<div>\n",
       "<style scoped>\n",
       "    .dataframe tbody tr th:only-of-type {\n",
       "        vertical-align: middle;\n",
       "    }\n",
       "\n",
       "    .dataframe tbody tr th {\n",
       "        vertical-align: top;\n",
       "    }\n",
       "\n",
       "    .dataframe thead th {\n",
       "        text-align: right;\n",
       "    }\n",
       "</style>\n",
       "<table border=\"1\" class=\"dataframe\">\n",
       "  <thead>\n",
       "    <tr style=\"text-align: right;\">\n",
       "      <th></th>\n",
       "      <th>A</th>\n",
       "      <th>B</th>\n",
       "      <th>C</th>\n",
       "      <th>D</th>\n",
       "    </tr>\n",
       "  </thead>\n",
       "  <tbody>\n",
       "    <tr>\n",
       "      <th>2013-01-01</th>\n",
       "      <td>0.078959</td>\n",
       "      <td>1.515880</td>\n",
       "      <td>NaN</td>\n",
       "      <td>NaN</td>\n",
       "    </tr>\n",
       "    <tr>\n",
       "      <th>2013-01-02</th>\n",
       "      <td>0.511631</td>\n",
       "      <td>NaN</td>\n",
       "      <td>0.646660</td>\n",
       "      <td>NaN</td>\n",
       "    </tr>\n",
       "    <tr>\n",
       "      <th>2013-01-03</th>\n",
       "      <td>0.118544</td>\n",
       "      <td>0.269207</td>\n",
       "      <td>NaN</td>\n",
       "      <td>NaN</td>\n",
       "    </tr>\n",
       "    <tr>\n",
       "      <th>2013-01-04</th>\n",
       "      <td>NaN</td>\n",
       "      <td>0.110586</td>\n",
       "      <td>1.424446</td>\n",
       "      <td>0.070226</td>\n",
       "    </tr>\n",
       "    <tr>\n",
       "      <th>2013-01-05</th>\n",
       "      <td>NaN</td>\n",
       "      <td>0.286401</td>\n",
       "      <td>NaN</td>\n",
       "      <td>NaN</td>\n",
       "    </tr>\n",
       "    <tr>\n",
       "      <th>2013-01-06</th>\n",
       "      <td>NaN</td>\n",
       "      <td>1.181267</td>\n",
       "      <td>0.322487</td>\n",
       "      <td>NaN</td>\n",
       "    </tr>\n",
       "  </tbody>\n",
       "</table>\n",
       "</div>"
      ],
      "text/plain": [
       "                   A         B         C         D\n",
       "2013-01-01  0.078959  1.515880       NaN       NaN\n",
       "2013-01-02  0.511631       NaN  0.646660       NaN\n",
       "2013-01-03  0.118544  0.269207       NaN       NaN\n",
       "2013-01-04       NaN  0.110586  1.424446  0.070226\n",
       "2013-01-05       NaN  0.286401       NaN       NaN\n",
       "2013-01-06       NaN  1.181267  0.322487       NaN"
      ]
     },
     "execution_count": 437,
     "metadata": {},
     "output_type": "execute_result"
    }
   ],
   "source": [
    " # Selecting values from a DataFrame where a boolean condition is met.\n",
    "df[df > 0]"
   ]
  },
  {
   "cell_type": "markdown",
   "metadata": {},
   "source": [
    "<font color='#094B91'> In this example we copy dataframe into other variable. </font>"
   ]
  },
  {
   "cell_type": "code",
   "execution_count": 438,
   "metadata": {},
   "outputs": [],
   "source": [
    "# Using the isin() method for filtering:\n",
    "df2 = df.copy()"
   ]
  },
  {
   "cell_type": "markdown",
   "metadata": {},
   "source": [
    "<font color='#094B91'> In this example we a column with some values. </font>"
   ]
  },
  {
   "cell_type": "code",
   "execution_count": 439,
   "metadata": {},
   "outputs": [],
   "source": [
    " df2['E'] = ['one', 'one','two','three','four','three']"
   ]
  },
  {
   "cell_type": "code",
   "execution_count": 440,
   "metadata": {},
   "outputs": [
    {
     "data": {
      "text/html": [
       "<div>\n",
       "<style scoped>\n",
       "    .dataframe tbody tr th:only-of-type {\n",
       "        vertical-align: middle;\n",
       "    }\n",
       "\n",
       "    .dataframe tbody tr th {\n",
       "        vertical-align: top;\n",
       "    }\n",
       "\n",
       "    .dataframe thead th {\n",
       "        text-align: right;\n",
       "    }\n",
       "</style>\n",
       "<table border=\"1\" class=\"dataframe\">\n",
       "  <thead>\n",
       "    <tr style=\"text-align: right;\">\n",
       "      <th></th>\n",
       "      <th>A</th>\n",
       "      <th>B</th>\n",
       "      <th>C</th>\n",
       "      <th>D</th>\n",
       "      <th>E</th>\n",
       "    </tr>\n",
       "  </thead>\n",
       "  <tbody>\n",
       "    <tr>\n",
       "      <th>2013-01-01</th>\n",
       "      <td>0.078959</td>\n",
       "      <td>1.515880</td>\n",
       "      <td>-1.094380</td>\n",
       "      <td>-0.470318</td>\n",
       "      <td>one</td>\n",
       "    </tr>\n",
       "    <tr>\n",
       "      <th>2013-01-02</th>\n",
       "      <td>0.511631</td>\n",
       "      <td>-0.007997</td>\n",
       "      <td>0.646660</td>\n",
       "      <td>-1.846470</td>\n",
       "      <td>one</td>\n",
       "    </tr>\n",
       "    <tr>\n",
       "      <th>2013-01-03</th>\n",
       "      <td>0.118544</td>\n",
       "      <td>0.269207</td>\n",
       "      <td>-0.122353</td>\n",
       "      <td>-0.210741</td>\n",
       "      <td>two</td>\n",
       "    </tr>\n",
       "    <tr>\n",
       "      <th>2013-01-04</th>\n",
       "      <td>-0.192812</td>\n",
       "      <td>0.110586</td>\n",
       "      <td>1.424446</td>\n",
       "      <td>0.070226</td>\n",
       "      <td>three</td>\n",
       "    </tr>\n",
       "    <tr>\n",
       "      <th>2013-01-05</th>\n",
       "      <td>-0.600865</td>\n",
       "      <td>0.286401</td>\n",
       "      <td>-2.412080</td>\n",
       "      <td>-0.596841</td>\n",
       "      <td>four</td>\n",
       "    </tr>\n",
       "    <tr>\n",
       "      <th>2013-01-06</th>\n",
       "      <td>-1.388959</td>\n",
       "      <td>1.181267</td>\n",
       "      <td>0.322487</td>\n",
       "      <td>-0.007798</td>\n",
       "      <td>three</td>\n",
       "    </tr>\n",
       "  </tbody>\n",
       "</table>\n",
       "</div>"
      ],
      "text/plain": [
       "                   A         B         C         D      E\n",
       "2013-01-01  0.078959  1.515880 -1.094380 -0.470318    one\n",
       "2013-01-02  0.511631 -0.007997  0.646660 -1.846470    one\n",
       "2013-01-03  0.118544  0.269207 -0.122353 -0.210741    two\n",
       "2013-01-04 -0.192812  0.110586  1.424446  0.070226  three\n",
       "2013-01-05 -0.600865  0.286401 -2.412080 -0.596841   four\n",
       "2013-01-06 -1.388959  1.181267  0.322487 -0.007798  three"
      ]
     },
     "execution_count": 440,
     "metadata": {},
     "output_type": "execute_result"
    }
   ],
   "source": [
    " df2"
   ]
  },
  {
   "cell_type": "markdown",
   "metadata": {},
   "source": [
    "<font color='#094B91'> In this example we check that a specific vale is prasent in some specific column. </font>"
   ]
  },
  {
   "cell_type": "code",
   "execution_count": 441,
   "metadata": {},
   "outputs": [
    {
     "data": {
      "text/html": [
       "<div>\n",
       "<style scoped>\n",
       "    .dataframe tbody tr th:only-of-type {\n",
       "        vertical-align: middle;\n",
       "    }\n",
       "\n",
       "    .dataframe tbody tr th {\n",
       "        vertical-align: top;\n",
       "    }\n",
       "\n",
       "    .dataframe thead th {\n",
       "        text-align: right;\n",
       "    }\n",
       "</style>\n",
       "<table border=\"1\" class=\"dataframe\">\n",
       "  <thead>\n",
       "    <tr style=\"text-align: right;\">\n",
       "      <th></th>\n",
       "      <th>A</th>\n",
       "      <th>B</th>\n",
       "      <th>C</th>\n",
       "      <th>D</th>\n",
       "      <th>E</th>\n",
       "    </tr>\n",
       "  </thead>\n",
       "  <tbody>\n",
       "    <tr>\n",
       "      <th>2013-01-03</th>\n",
       "      <td>0.118544</td>\n",
       "      <td>0.269207</td>\n",
       "      <td>-0.122353</td>\n",
       "      <td>-0.210741</td>\n",
       "      <td>two</td>\n",
       "    </tr>\n",
       "    <tr>\n",
       "      <th>2013-01-05</th>\n",
       "      <td>-0.600865</td>\n",
       "      <td>0.286401</td>\n",
       "      <td>-2.412080</td>\n",
       "      <td>-0.596841</td>\n",
       "      <td>four</td>\n",
       "    </tr>\n",
       "  </tbody>\n",
       "</table>\n",
       "</div>"
      ],
      "text/plain": [
       "                   A         B         C         D     E\n",
       "2013-01-03  0.118544  0.269207 -0.122353 -0.210741   two\n",
       "2013-01-05 -0.600865  0.286401 -2.412080 -0.596841  four"
      ]
     },
     "execution_count": 441,
     "metadata": {},
     "output_type": "execute_result"
    }
   ],
   "source": [
    " df2[df2['E'].isin(['two','four'])]"
   ]
  },
  {
   "cell_type": "markdown",
   "metadata": {},
   "source": [
    "### <font color='orange'>Example 2:</font>\n",
    "\n",
    "<font color='#094B91'> In this example we can try to view a data frame with different methods. We can use head method that will return tha 1st five rows of a data frame. </font>\n"
   ]
  },
  {
   "cell_type": "code",
   "execution_count": 442,
   "metadata": {},
   "outputs": [
    {
     "data": {
      "text/html": [
       "<div>\n",
       "<style scoped>\n",
       "    .dataframe tbody tr th:only-of-type {\n",
       "        vertical-align: middle;\n",
       "    }\n",
       "\n",
       "    .dataframe tbody tr th {\n",
       "        vertical-align: top;\n",
       "    }\n",
       "\n",
       "    .dataframe thead th {\n",
       "        text-align: right;\n",
       "    }\n",
       "</style>\n",
       "<table border=\"1\" class=\"dataframe\">\n",
       "  <thead>\n",
       "    <tr style=\"text-align: right;\">\n",
       "      <th></th>\n",
       "      <th>C1</th>\n",
       "      <th>C2</th>\n",
       "      <th>C3</th>\n",
       "      <th>C4</th>\n",
       "      <th>C5</th>\n",
       "      <th>C6</th>\n",
       "    </tr>\n",
       "  </thead>\n",
       "  <tbody>\n",
       "    <tr>\n",
       "      <th>2020-01-01</th>\n",
       "      <td>100.1</td>\n",
       "      <td>120.2</td>\n",
       "      <td>130.3</td>\n",
       "      <td>140.4</td>\n",
       "      <td>150.5</td>\n",
       "      <td>160.6</td>\n",
       "    </tr>\n",
       "    <tr>\n",
       "      <th>2020-01-02</th>\n",
       "      <td>210.1</td>\n",
       "      <td>220.2</td>\n",
       "      <td>230.3</td>\n",
       "      <td>240.4</td>\n",
       "      <td>250.5</td>\n",
       "      <td>260.6</td>\n",
       "    </tr>\n",
       "    <tr>\n",
       "      <th>2020-01-03</th>\n",
       "      <td>300.1</td>\n",
       "      <td>320.2</td>\n",
       "      <td>330.3</td>\n",
       "      <td>340.4</td>\n",
       "      <td>350.5</td>\n",
       "      <td>360.6</td>\n",
       "    </tr>\n",
       "    <tr>\n",
       "      <th>2020-01-04</th>\n",
       "      <td>410.1</td>\n",
       "      <td>420.2</td>\n",
       "      <td>430.3</td>\n",
       "      <td>440.4</td>\n",
       "      <td>450.5</td>\n",
       "      <td>460.6</td>\n",
       "    </tr>\n",
       "    <tr>\n",
       "      <th>2020-01-05</th>\n",
       "      <td>500.1</td>\n",
       "      <td>520.2</td>\n",
       "      <td>530.3</td>\n",
       "      <td>540.4</td>\n",
       "      <td>550.5</td>\n",
       "      <td>560.6</td>\n",
       "    </tr>\n",
       "  </tbody>\n",
       "</table>\n",
       "</div>"
      ],
      "text/plain": [
       "               C1     C2     C3     C4     C5     C6\n",
       "2020-01-01  100.1  120.2  130.3  140.4  150.5  160.6\n",
       "2020-01-02  210.1  220.2  230.3  240.4  250.5  260.6\n",
       "2020-01-03  300.1  320.2  330.3  340.4  350.5  360.6\n",
       "2020-01-04  410.1  420.2  430.3  440.4  450.5  460.6\n",
       "2020-01-05  500.1  520.2  530.3  540.4  550.5  560.6"
      ]
     },
     "execution_count": 442,
     "metadata": {},
     "output_type": "execute_result"
    }
   ],
   "source": [
    "dataFrame1.head()"
   ]
  },
  {
   "cell_type": "markdown",
   "metadata": {},
   "source": [
    "<font color='#094B91'> In this example we use tail() method and we pass the '4' as argument that method will return tha last 3 rows of a data frame. </font>\n"
   ]
  },
  {
   "cell_type": "code",
   "execution_count": 443,
   "metadata": {},
   "outputs": [
    {
     "data": {
      "text/html": [
       "<div>\n",
       "<style scoped>\n",
       "    .dataframe tbody tr th:only-of-type {\n",
       "        vertical-align: middle;\n",
       "    }\n",
       "\n",
       "    .dataframe tbody tr th {\n",
       "        vertical-align: top;\n",
       "    }\n",
       "\n",
       "    .dataframe thead th {\n",
       "        text-align: right;\n",
       "    }\n",
       "</style>\n",
       "<table border=\"1\" class=\"dataframe\">\n",
       "  <thead>\n",
       "    <tr style=\"text-align: right;\">\n",
       "      <th></th>\n",
       "      <th>C1</th>\n",
       "      <th>C2</th>\n",
       "      <th>C3</th>\n",
       "      <th>C4</th>\n",
       "      <th>C5</th>\n",
       "      <th>C6</th>\n",
       "    </tr>\n",
       "  </thead>\n",
       "  <tbody>\n",
       "    <tr>\n",
       "      <th>2020-01-07</th>\n",
       "      <td>210.1</td>\n",
       "      <td>220.2</td>\n",
       "      <td>230.3</td>\n",
       "      <td>240.4</td>\n",
       "      <td>250.5</td>\n",
       "      <td>260.6</td>\n",
       "    </tr>\n",
       "    <tr>\n",
       "      <th>2020-01-08</th>\n",
       "      <td>300.1</td>\n",
       "      <td>320.2</td>\n",
       "      <td>330.3</td>\n",
       "      <td>340.4</td>\n",
       "      <td>350.5</td>\n",
       "      <td>360.6</td>\n",
       "    </tr>\n",
       "    <tr>\n",
       "      <th>2020-01-09</th>\n",
       "      <td>410.1</td>\n",
       "      <td>420.2</td>\n",
       "      <td>430.3</td>\n",
       "      <td>440.4</td>\n",
       "      <td>450.5</td>\n",
       "      <td>460.6</td>\n",
       "    </tr>\n",
       "    <tr>\n",
       "      <th>2020-01-10</th>\n",
       "      <td>500.1</td>\n",
       "      <td>520.2</td>\n",
       "      <td>530.3</td>\n",
       "      <td>540.4</td>\n",
       "      <td>550.5</td>\n",
       "      <td>560.6</td>\n",
       "    </tr>\n",
       "  </tbody>\n",
       "</table>\n",
       "</div>"
      ],
      "text/plain": [
       "               C1     C2     C3     C4     C5     C6\n",
       "2020-01-07  210.1  220.2  230.3  240.4  250.5  260.6\n",
       "2020-01-08  300.1  320.2  330.3  340.4  350.5  360.6\n",
       "2020-01-09  410.1  420.2  430.3  440.4  450.5  460.6\n",
       "2020-01-10  500.1  520.2  530.3  540.4  550.5  560.6"
      ]
     },
     "execution_count": 443,
     "metadata": {},
     "output_type": "execute_result"
    }
   ],
   "source": [
    "dataFrame1.tail(4)"
   ]
  },
  {
   "cell_type": "markdown",
   "metadata": {},
   "source": [
    "<font color='#094B91'> In this example we use the dataframe property index that will return all index of the dataframe. </font>\n"
   ]
  },
  {
   "cell_type": "code",
   "execution_count": 444,
   "metadata": {},
   "outputs": [
    {
     "data": {
      "text/plain": [
       "DatetimeIndex(['2020-01-01', '2020-01-02', '2020-01-03', '2020-01-04',\n",
       "               '2020-01-05', '2020-01-06', '2020-01-07', '2020-01-08',\n",
       "               '2020-01-09', '2020-01-10'],\n",
       "              dtype='datetime64[ns]', freq='D')"
      ]
     },
     "execution_count": 444,
     "metadata": {},
     "output_type": "execute_result"
    }
   ],
   "source": [
    "dataFrame1.index"
   ]
  },
  {
   "cell_type": "markdown",
   "metadata": {},
   "source": [
    "<font color='#094B91'> In this example we use columns property that will return all columns name of dataframe. </font>\n"
   ]
  },
  {
   "cell_type": "code",
   "execution_count": 445,
   "metadata": {},
   "outputs": [
    {
     "data": {
      "text/plain": [
       "Index(['C1', 'C2', 'C3', 'C4', 'C5', 'C6'], dtype='object')"
      ]
     },
     "execution_count": 445,
     "metadata": {},
     "output_type": "execute_result"
    }
   ],
   "source": [
    "dataFrame1.columns"
   ]
  },
  {
   "cell_type": "markdown",
   "metadata": {},
   "source": [
    "<font color='#094B91'> In this example we use values property that will return all values as an array of that dataframe. </font>\n"
   ]
  },
  {
   "cell_type": "code",
   "execution_count": 446,
   "metadata": {},
   "outputs": [
    {
     "data": {
      "text/plain": [
       "array([[100.1, 120.2, 130.3, 140.4, 150.5, 160.6],\n",
       "       [210.1, 220.2, 230.3, 240.4, 250.5, 260.6],\n",
       "       [300.1, 320.2, 330.3, 340.4, 350.5, 360.6],\n",
       "       [410.1, 420.2, 430.3, 440.4, 450.5, 460.6],\n",
       "       [500.1, 520.2, 530.3, 540.4, 550.5, 560.6],\n",
       "       [610.1, 620.2, 630.3, 640.4, 650.5, 660.6],\n",
       "       [210.1, 220.2, 230.3, 240.4, 250.5, 260.6],\n",
       "       [300.1, 320.2, 330.3, 340.4, 350.5, 360.6],\n",
       "       [410.1, 420.2, 430.3, 440.4, 450.5, 460.6],\n",
       "       [500.1, 520.2, 530.3, 540.4, 550.5, 560.6]])"
      ]
     },
     "execution_count": 446,
     "metadata": {},
     "output_type": "execute_result"
    }
   ],
   "source": [
    "dataFrame1.values"
   ]
  },
  {
   "cell_type": "markdown",
   "metadata": {},
   "source": [
    "<font color='#094B91'> In this example we use Transpose property that will convert the columns into rows and rows convert into columns. </font>\n"
   ]
  },
  {
   "cell_type": "code",
   "execution_count": 447,
   "metadata": {},
   "outputs": [
    {
     "data": {
      "text/html": [
       "<div>\n",
       "<style scoped>\n",
       "    .dataframe tbody tr th:only-of-type {\n",
       "        vertical-align: middle;\n",
       "    }\n",
       "\n",
       "    .dataframe tbody tr th {\n",
       "        vertical-align: top;\n",
       "    }\n",
       "\n",
       "    .dataframe thead th {\n",
       "        text-align: right;\n",
       "    }\n",
       "</style>\n",
       "<table border=\"1\" class=\"dataframe\">\n",
       "  <thead>\n",
       "    <tr style=\"text-align: right;\">\n",
       "      <th></th>\n",
       "      <th>2020-01-01</th>\n",
       "      <th>2020-01-02</th>\n",
       "      <th>2020-01-03</th>\n",
       "      <th>2020-01-04</th>\n",
       "      <th>2020-01-05</th>\n",
       "      <th>2020-01-06</th>\n",
       "      <th>2020-01-07</th>\n",
       "      <th>2020-01-08</th>\n",
       "      <th>2020-01-09</th>\n",
       "      <th>2020-01-10</th>\n",
       "    </tr>\n",
       "  </thead>\n",
       "  <tbody>\n",
       "    <tr>\n",
       "      <th>C1</th>\n",
       "      <td>100.1</td>\n",
       "      <td>210.1</td>\n",
       "      <td>300.1</td>\n",
       "      <td>410.1</td>\n",
       "      <td>500.1</td>\n",
       "      <td>610.1</td>\n",
       "      <td>210.1</td>\n",
       "      <td>300.1</td>\n",
       "      <td>410.1</td>\n",
       "      <td>500.1</td>\n",
       "    </tr>\n",
       "    <tr>\n",
       "      <th>C2</th>\n",
       "      <td>120.2</td>\n",
       "      <td>220.2</td>\n",
       "      <td>320.2</td>\n",
       "      <td>420.2</td>\n",
       "      <td>520.2</td>\n",
       "      <td>620.2</td>\n",
       "      <td>220.2</td>\n",
       "      <td>320.2</td>\n",
       "      <td>420.2</td>\n",
       "      <td>520.2</td>\n",
       "    </tr>\n",
       "    <tr>\n",
       "      <th>C3</th>\n",
       "      <td>130.3</td>\n",
       "      <td>230.3</td>\n",
       "      <td>330.3</td>\n",
       "      <td>430.3</td>\n",
       "      <td>530.3</td>\n",
       "      <td>630.3</td>\n",
       "      <td>230.3</td>\n",
       "      <td>330.3</td>\n",
       "      <td>430.3</td>\n",
       "      <td>530.3</td>\n",
       "    </tr>\n",
       "    <tr>\n",
       "      <th>C4</th>\n",
       "      <td>140.4</td>\n",
       "      <td>240.4</td>\n",
       "      <td>340.4</td>\n",
       "      <td>440.4</td>\n",
       "      <td>540.4</td>\n",
       "      <td>640.4</td>\n",
       "      <td>240.4</td>\n",
       "      <td>340.4</td>\n",
       "      <td>440.4</td>\n",
       "      <td>540.4</td>\n",
       "    </tr>\n",
       "    <tr>\n",
       "      <th>C5</th>\n",
       "      <td>150.5</td>\n",
       "      <td>250.5</td>\n",
       "      <td>350.5</td>\n",
       "      <td>450.5</td>\n",
       "      <td>550.5</td>\n",
       "      <td>650.5</td>\n",
       "      <td>250.5</td>\n",
       "      <td>350.5</td>\n",
       "      <td>450.5</td>\n",
       "      <td>550.5</td>\n",
       "    </tr>\n",
       "    <tr>\n",
       "      <th>C6</th>\n",
       "      <td>160.6</td>\n",
       "      <td>260.6</td>\n",
       "      <td>360.6</td>\n",
       "      <td>460.6</td>\n",
       "      <td>560.6</td>\n",
       "      <td>660.6</td>\n",
       "      <td>260.6</td>\n",
       "      <td>360.6</td>\n",
       "      <td>460.6</td>\n",
       "      <td>560.6</td>\n",
       "    </tr>\n",
       "  </tbody>\n",
       "</table>\n",
       "</div>"
      ],
      "text/plain": [
       "    2020-01-01  2020-01-02  2020-01-03  2020-01-04  2020-01-05  2020-01-06  \\\n",
       "C1       100.1       210.1       300.1       410.1       500.1       610.1   \n",
       "C2       120.2       220.2       320.2       420.2       520.2       620.2   \n",
       "C3       130.3       230.3       330.3       430.3       530.3       630.3   \n",
       "C4       140.4       240.4       340.4       440.4       540.4       640.4   \n",
       "C5       150.5       250.5       350.5       450.5       550.5       650.5   \n",
       "C6       160.6       260.6       360.6       460.6       560.6       660.6   \n",
       "\n",
       "    2020-01-07  2020-01-08  2020-01-09  2020-01-10  \n",
       "C1       210.1       300.1       410.1       500.1  \n",
       "C2       220.2       320.2       420.2       520.2  \n",
       "C3       230.3       330.3       430.3       530.3  \n",
       "C4       240.4       340.4       440.4       540.4  \n",
       "C5       250.5       350.5       450.5       550.5  \n",
       "C6       260.6       360.6       460.6       560.6  "
      ]
     },
     "execution_count": 447,
     "metadata": {},
     "output_type": "execute_result"
    }
   ],
   "source": [
    " # Transposing your data\n",
    "dataFrame1.T"
   ]
  },
  {
   "cell_type": "markdown",
   "metadata": {},
   "source": [
    "<font color='#094B91'> In this example we use a method sort_index that will sort all data according the index. </font>\n"
   ]
  },
  {
   "cell_type": "code",
   "execution_count": 448,
   "metadata": {},
   "outputs": [
    {
     "data": {
      "text/html": [
       "<div>\n",
       "<style scoped>\n",
       "    .dataframe tbody tr th:only-of-type {\n",
       "        vertical-align: middle;\n",
       "    }\n",
       "\n",
       "    .dataframe tbody tr th {\n",
       "        vertical-align: top;\n",
       "    }\n",
       "\n",
       "    .dataframe thead th {\n",
       "        text-align: right;\n",
       "    }\n",
       "</style>\n",
       "<table border=\"1\" class=\"dataframe\">\n",
       "  <thead>\n",
       "    <tr style=\"text-align: right;\">\n",
       "      <th></th>\n",
       "      <th>C1</th>\n",
       "      <th>C2</th>\n",
       "      <th>C3</th>\n",
       "      <th>C4</th>\n",
       "      <th>C5</th>\n",
       "      <th>C6</th>\n",
       "    </tr>\n",
       "  </thead>\n",
       "  <tbody>\n",
       "    <tr>\n",
       "      <th>2020-01-01</th>\n",
       "      <td>100.1</td>\n",
       "      <td>120.2</td>\n",
       "      <td>130.3</td>\n",
       "      <td>140.4</td>\n",
       "      <td>150.5</td>\n",
       "      <td>160.6</td>\n",
       "    </tr>\n",
       "    <tr>\n",
       "      <th>2020-01-02</th>\n",
       "      <td>210.1</td>\n",
       "      <td>220.2</td>\n",
       "      <td>230.3</td>\n",
       "      <td>240.4</td>\n",
       "      <td>250.5</td>\n",
       "      <td>260.6</td>\n",
       "    </tr>\n",
       "    <tr>\n",
       "      <th>2020-01-03</th>\n",
       "      <td>300.1</td>\n",
       "      <td>320.2</td>\n",
       "      <td>330.3</td>\n",
       "      <td>340.4</td>\n",
       "      <td>350.5</td>\n",
       "      <td>360.6</td>\n",
       "    </tr>\n",
       "    <tr>\n",
       "      <th>2020-01-04</th>\n",
       "      <td>410.1</td>\n",
       "      <td>420.2</td>\n",
       "      <td>430.3</td>\n",
       "      <td>440.4</td>\n",
       "      <td>450.5</td>\n",
       "      <td>460.6</td>\n",
       "    </tr>\n",
       "    <tr>\n",
       "      <th>2020-01-05</th>\n",
       "      <td>500.1</td>\n",
       "      <td>520.2</td>\n",
       "      <td>530.3</td>\n",
       "      <td>540.4</td>\n",
       "      <td>550.5</td>\n",
       "      <td>560.6</td>\n",
       "    </tr>\n",
       "    <tr>\n",
       "      <th>2020-01-06</th>\n",
       "      <td>610.1</td>\n",
       "      <td>620.2</td>\n",
       "      <td>630.3</td>\n",
       "      <td>640.4</td>\n",
       "      <td>650.5</td>\n",
       "      <td>660.6</td>\n",
       "    </tr>\n",
       "    <tr>\n",
       "      <th>2020-01-07</th>\n",
       "      <td>210.1</td>\n",
       "      <td>220.2</td>\n",
       "      <td>230.3</td>\n",
       "      <td>240.4</td>\n",
       "      <td>250.5</td>\n",
       "      <td>260.6</td>\n",
       "    </tr>\n",
       "    <tr>\n",
       "      <th>2020-01-08</th>\n",
       "      <td>300.1</td>\n",
       "      <td>320.2</td>\n",
       "      <td>330.3</td>\n",
       "      <td>340.4</td>\n",
       "      <td>350.5</td>\n",
       "      <td>360.6</td>\n",
       "    </tr>\n",
       "    <tr>\n",
       "      <th>2020-01-09</th>\n",
       "      <td>410.1</td>\n",
       "      <td>420.2</td>\n",
       "      <td>430.3</td>\n",
       "      <td>440.4</td>\n",
       "      <td>450.5</td>\n",
       "      <td>460.6</td>\n",
       "    </tr>\n",
       "    <tr>\n",
       "      <th>2020-01-10</th>\n",
       "      <td>500.1</td>\n",
       "      <td>520.2</td>\n",
       "      <td>530.3</td>\n",
       "      <td>540.4</td>\n",
       "      <td>550.5</td>\n",
       "      <td>560.6</td>\n",
       "    </tr>\n",
       "  </tbody>\n",
       "</table>\n",
       "</div>"
      ],
      "text/plain": [
       "               C1     C2     C3     C4     C5     C6\n",
       "2020-01-01  100.1  120.2  130.3  140.4  150.5  160.6\n",
       "2020-01-02  210.1  220.2  230.3  240.4  250.5  260.6\n",
       "2020-01-03  300.1  320.2  330.3  340.4  350.5  360.6\n",
       "2020-01-04  410.1  420.2  430.3  440.4  450.5  460.6\n",
       "2020-01-05  500.1  520.2  530.3  540.4  550.5  560.6\n",
       "2020-01-06  610.1  620.2  630.3  640.4  650.5  660.6\n",
       "2020-01-07  210.1  220.2  230.3  240.4  250.5  260.6\n",
       "2020-01-08  300.1  320.2  330.3  340.4  350.5  360.6\n",
       "2020-01-09  410.1  420.2  430.3  440.4  450.5  460.6\n",
       "2020-01-10  500.1  520.2  530.3  540.4  550.5  560.6"
      ]
     },
     "execution_count": 448,
     "metadata": {},
     "output_type": "execute_result"
    }
   ],
   "source": [
    " #Sorting by an axis\n",
    "dataFrame1.sort_index(axis=0,ascending=True)"
   ]
  },
  {
   "cell_type": "markdown",
   "metadata": {},
   "source": [
    "<font color='#094B91'> In this example we use a method sort_values that will sort all data according the values. </font>\n"
   ]
  },
  {
   "cell_type": "code",
   "execution_count": 449,
   "metadata": {},
   "outputs": [
    {
     "data": {
      "text/html": [
       "<div>\n",
       "<style scoped>\n",
       "    .dataframe tbody tr th:only-of-type {\n",
       "        vertical-align: middle;\n",
       "    }\n",
       "\n",
       "    .dataframe tbody tr th {\n",
       "        vertical-align: top;\n",
       "    }\n",
       "\n",
       "    .dataframe thead th {\n",
       "        text-align: right;\n",
       "    }\n",
       "</style>\n",
       "<table border=\"1\" class=\"dataframe\">\n",
       "  <thead>\n",
       "    <tr style=\"text-align: right;\">\n",
       "      <th></th>\n",
       "      <th>C1</th>\n",
       "      <th>C2</th>\n",
       "      <th>C3</th>\n",
       "      <th>C4</th>\n",
       "      <th>C5</th>\n",
       "      <th>C6</th>\n",
       "    </tr>\n",
       "  </thead>\n",
       "  <tbody>\n",
       "    <tr>\n",
       "      <th>2020-01-01</th>\n",
       "      <td>100.1</td>\n",
       "      <td>120.2</td>\n",
       "      <td>130.3</td>\n",
       "      <td>140.4</td>\n",
       "      <td>150.5</td>\n",
       "      <td>160.6</td>\n",
       "    </tr>\n",
       "    <tr>\n",
       "      <th>2020-01-02</th>\n",
       "      <td>210.1</td>\n",
       "      <td>220.2</td>\n",
       "      <td>230.3</td>\n",
       "      <td>240.4</td>\n",
       "      <td>250.5</td>\n",
       "      <td>260.6</td>\n",
       "    </tr>\n",
       "    <tr>\n",
       "      <th>2020-01-07</th>\n",
       "      <td>210.1</td>\n",
       "      <td>220.2</td>\n",
       "      <td>230.3</td>\n",
       "      <td>240.4</td>\n",
       "      <td>250.5</td>\n",
       "      <td>260.6</td>\n",
       "    </tr>\n",
       "    <tr>\n",
       "      <th>2020-01-03</th>\n",
       "      <td>300.1</td>\n",
       "      <td>320.2</td>\n",
       "      <td>330.3</td>\n",
       "      <td>340.4</td>\n",
       "      <td>350.5</td>\n",
       "      <td>360.6</td>\n",
       "    </tr>\n",
       "    <tr>\n",
       "      <th>2020-01-08</th>\n",
       "      <td>300.1</td>\n",
       "      <td>320.2</td>\n",
       "      <td>330.3</td>\n",
       "      <td>340.4</td>\n",
       "      <td>350.5</td>\n",
       "      <td>360.6</td>\n",
       "    </tr>\n",
       "    <tr>\n",
       "      <th>2020-01-04</th>\n",
       "      <td>410.1</td>\n",
       "      <td>420.2</td>\n",
       "      <td>430.3</td>\n",
       "      <td>440.4</td>\n",
       "      <td>450.5</td>\n",
       "      <td>460.6</td>\n",
       "    </tr>\n",
       "    <tr>\n",
       "      <th>2020-01-09</th>\n",
       "      <td>410.1</td>\n",
       "      <td>420.2</td>\n",
       "      <td>430.3</td>\n",
       "      <td>440.4</td>\n",
       "      <td>450.5</td>\n",
       "      <td>460.6</td>\n",
       "    </tr>\n",
       "    <tr>\n",
       "      <th>2020-01-05</th>\n",
       "      <td>500.1</td>\n",
       "      <td>520.2</td>\n",
       "      <td>530.3</td>\n",
       "      <td>540.4</td>\n",
       "      <td>550.5</td>\n",
       "      <td>560.6</td>\n",
       "    </tr>\n",
       "    <tr>\n",
       "      <th>2020-01-10</th>\n",
       "      <td>500.1</td>\n",
       "      <td>520.2</td>\n",
       "      <td>530.3</td>\n",
       "      <td>540.4</td>\n",
       "      <td>550.5</td>\n",
       "      <td>560.6</td>\n",
       "    </tr>\n",
       "    <tr>\n",
       "      <th>2020-01-06</th>\n",
       "      <td>610.1</td>\n",
       "      <td>620.2</td>\n",
       "      <td>630.3</td>\n",
       "      <td>640.4</td>\n",
       "      <td>650.5</td>\n",
       "      <td>660.6</td>\n",
       "    </tr>\n",
       "  </tbody>\n",
       "</table>\n",
       "</div>"
      ],
      "text/plain": [
       "               C1     C2     C3     C4     C5     C6\n",
       "2020-01-01  100.1  120.2  130.3  140.4  150.5  160.6\n",
       "2020-01-02  210.1  220.2  230.3  240.4  250.5  260.6\n",
       "2020-01-07  210.1  220.2  230.3  240.4  250.5  260.6\n",
       "2020-01-03  300.1  320.2  330.3  340.4  350.5  360.6\n",
       "2020-01-08  300.1  320.2  330.3  340.4  350.5  360.6\n",
       "2020-01-04  410.1  420.2  430.3  440.4  450.5  460.6\n",
       "2020-01-09  410.1  420.2  430.3  440.4  450.5  460.6\n",
       "2020-01-05  500.1  520.2  530.3  540.4  550.5  560.6\n",
       "2020-01-10  500.1  520.2  530.3  540.4  550.5  560.6\n",
       "2020-01-06  610.1  620.2  630.3  640.4  650.5  660.6"
      ]
     },
     "execution_count": 449,
     "metadata": {},
     "output_type": "execute_result"
    }
   ],
   "source": [
    " #Sorting by values\n",
    "dataFrame1.sort_values(by='C6')"
   ]
  },
  {
   "cell_type": "markdown",
   "metadata": {},
   "source": [
    "<font color='#094B91'> In this example we use a method describe() that will show the statistic summary or dataframe. </font>\n"
   ]
  },
  {
   "cell_type": "code",
   "execution_count": 450,
   "metadata": {},
   "outputs": [
    {
     "data": {
      "text/html": [
       "<div>\n",
       "<style scoped>\n",
       "    .dataframe tbody tr th:only-of-type {\n",
       "        vertical-align: middle;\n",
       "    }\n",
       "\n",
       "    .dataframe tbody tr th {\n",
       "        vertical-align: top;\n",
       "    }\n",
       "\n",
       "    .dataframe thead th {\n",
       "        text-align: right;\n",
       "    }\n",
       "</style>\n",
       "<table border=\"1\" class=\"dataframe\">\n",
       "  <thead>\n",
       "    <tr style=\"text-align: right;\">\n",
       "      <th></th>\n",
       "      <th>C1</th>\n",
       "      <th>C2</th>\n",
       "      <th>C3</th>\n",
       "      <th>C4</th>\n",
       "      <th>C5</th>\n",
       "      <th>C6</th>\n",
       "    </tr>\n",
       "  </thead>\n",
       "  <tbody>\n",
       "    <tr>\n",
       "      <th>count</th>\n",
       "      <td>10.00000</td>\n",
       "      <td>10.000000</td>\n",
       "      <td>10.000000</td>\n",
       "      <td>10.000000</td>\n",
       "      <td>10.000000</td>\n",
       "      <td>10.000000</td>\n",
       "    </tr>\n",
       "    <tr>\n",
       "      <th>mean</th>\n",
       "      <td>355.10000</td>\n",
       "      <td>370.200000</td>\n",
       "      <td>380.300000</td>\n",
       "      <td>390.400000</td>\n",
       "      <td>400.500000</td>\n",
       "      <td>410.600000</td>\n",
       "    </tr>\n",
       "    <tr>\n",
       "      <th>std</th>\n",
       "      <td>158.55248</td>\n",
       "      <td>158.113883</td>\n",
       "      <td>158.113883</td>\n",
       "      <td>158.113883</td>\n",
       "      <td>158.113883</td>\n",
       "      <td>158.113883</td>\n",
       "    </tr>\n",
       "    <tr>\n",
       "      <th>min</th>\n",
       "      <td>100.10000</td>\n",
       "      <td>120.200000</td>\n",
       "      <td>130.300000</td>\n",
       "      <td>140.400000</td>\n",
       "      <td>150.500000</td>\n",
       "      <td>160.600000</td>\n",
       "    </tr>\n",
       "    <tr>\n",
       "      <th>25%</th>\n",
       "      <td>232.60000</td>\n",
       "      <td>245.200000</td>\n",
       "      <td>255.300000</td>\n",
       "      <td>265.400000</td>\n",
       "      <td>275.500000</td>\n",
       "      <td>285.600000</td>\n",
       "    </tr>\n",
       "    <tr>\n",
       "      <th>50%</th>\n",
       "      <td>355.10000</td>\n",
       "      <td>370.200000</td>\n",
       "      <td>380.300000</td>\n",
       "      <td>390.400000</td>\n",
       "      <td>400.500000</td>\n",
       "      <td>410.600000</td>\n",
       "    </tr>\n",
       "    <tr>\n",
       "      <th>75%</th>\n",
       "      <td>477.60000</td>\n",
       "      <td>495.200000</td>\n",
       "      <td>505.300000</td>\n",
       "      <td>515.400000</td>\n",
       "      <td>525.500000</td>\n",
       "      <td>535.600000</td>\n",
       "    </tr>\n",
       "    <tr>\n",
       "      <th>max</th>\n",
       "      <td>610.10000</td>\n",
       "      <td>620.200000</td>\n",
       "      <td>630.300000</td>\n",
       "      <td>640.400000</td>\n",
       "      <td>650.500000</td>\n",
       "      <td>660.600000</td>\n",
       "    </tr>\n",
       "  </tbody>\n",
       "</table>\n",
       "</div>"
      ],
      "text/plain": [
       "              C1          C2          C3          C4          C5          C6\n",
       "count   10.00000   10.000000   10.000000   10.000000   10.000000   10.000000\n",
       "mean   355.10000  370.200000  380.300000  390.400000  400.500000  410.600000\n",
       "std    158.55248  158.113883  158.113883  158.113883  158.113883  158.113883\n",
       "min    100.10000  120.200000  130.300000  140.400000  150.500000  160.600000\n",
       "25%    232.60000  245.200000  255.300000  265.400000  275.500000  285.600000\n",
       "50%    355.10000  370.200000  380.300000  390.400000  400.500000  410.600000\n",
       "75%    477.60000  495.200000  505.300000  515.400000  525.500000  535.600000\n",
       "max    610.10000  620.200000  630.300000  640.400000  650.500000  660.600000"
      ]
     },
     "execution_count": 450,
     "metadata": {},
     "output_type": "execute_result"
    }
   ],
   "source": [
    "# Describe shows a quick statistic summary of your data\n",
    "dataFrame1.describe()"
   ]
  },
  {
   "cell_type": "markdown",
   "metadata": {},
   "source": [
    "<font color='#094B91'> In this example we pass a column name that will return tha that specific column as a pandas series. </font>\n"
   ]
  },
  {
   "cell_type": "code",
   "execution_count": 451,
   "metadata": {},
   "outputs": [
    {
     "data": {
      "text/plain": [
       "2020-01-01    100.1\n",
       "2020-01-02    210.1\n",
       "2020-01-03    300.1\n",
       "2020-01-04    410.1\n",
       "2020-01-05    500.1\n",
       "2020-01-06    610.1\n",
       "2020-01-07    210.1\n",
       "2020-01-08    300.1\n",
       "2020-01-09    410.1\n",
       "2020-01-10    500.1\n",
       "Freq: D, Name: C1, dtype: float64"
      ]
     },
     "execution_count": 451,
     "metadata": {},
     "output_type": "execute_result"
    }
   ],
   "source": [
    "#Selecting a single column, which yields a Series, equivalent to df.A\n",
    "\n",
    "dataFrame1['C1']"
   ]
  },
  {
   "cell_type": "markdown",
   "metadata": {},
   "source": [
    "<font color='#094B91'> In this example we show some specific columns using colon : or slices technique . </font>\n"
   ]
  },
  {
   "cell_type": "code",
   "execution_count": 452,
   "metadata": {},
   "outputs": [
    {
     "data": {
      "text/html": [
       "<div>\n",
       "<style scoped>\n",
       "    .dataframe tbody tr th:only-of-type {\n",
       "        vertical-align: middle;\n",
       "    }\n",
       "\n",
       "    .dataframe tbody tr th {\n",
       "        vertical-align: top;\n",
       "    }\n",
       "\n",
       "    .dataframe thead th {\n",
       "        text-align: right;\n",
       "    }\n",
       "</style>\n",
       "<table border=\"1\" class=\"dataframe\">\n",
       "  <thead>\n",
       "    <tr style=\"text-align: right;\">\n",
       "      <th></th>\n",
       "      <th>C1</th>\n",
       "      <th>C2</th>\n",
       "      <th>C3</th>\n",
       "      <th>C4</th>\n",
       "      <th>C5</th>\n",
       "      <th>C6</th>\n",
       "    </tr>\n",
       "  </thead>\n",
       "  <tbody>\n",
       "    <tr>\n",
       "      <th>2020-01-02</th>\n",
       "      <td>210.1</td>\n",
       "      <td>220.2</td>\n",
       "      <td>230.3</td>\n",
       "      <td>240.4</td>\n",
       "      <td>250.5</td>\n",
       "      <td>260.6</td>\n",
       "    </tr>\n",
       "    <tr>\n",
       "      <th>2020-01-03</th>\n",
       "      <td>300.1</td>\n",
       "      <td>320.2</td>\n",
       "      <td>330.3</td>\n",
       "      <td>340.4</td>\n",
       "      <td>350.5</td>\n",
       "      <td>360.6</td>\n",
       "    </tr>\n",
       "    <tr>\n",
       "      <th>2020-01-04</th>\n",
       "      <td>410.1</td>\n",
       "      <td>420.2</td>\n",
       "      <td>430.3</td>\n",
       "      <td>440.4</td>\n",
       "      <td>450.5</td>\n",
       "      <td>460.6</td>\n",
       "    </tr>\n",
       "  </tbody>\n",
       "</table>\n",
       "</div>"
      ],
      "text/plain": [
       "               C1     C2     C3     C4     C5     C6\n",
       "2020-01-02  210.1  220.2  230.3  240.4  250.5  260.6\n",
       "2020-01-03  300.1  320.2  330.3  340.4  350.5  360.6\n",
       "2020-01-04  410.1  420.2  430.3  440.4  450.5  460.6"
      ]
     },
     "execution_count": 452,
     "metadata": {},
     "output_type": "execute_result"
    }
   ],
   "source": [
    "#Selecting via [], which slices the rows.\n",
    "dataFrame1[1:4]"
   ]
  },
  {
   "cell_type": "markdown",
   "metadata": {},
   "source": [
    "- Make 'C2' as Index"
   ]
  },
  {
   "cell_type": "code",
   "execution_count": 453,
   "metadata": {},
   "outputs": [],
   "source": [
    "dataFrame1 = dataFrame1.from_records(dataFrame1, index=DateArray1)"
   ]
  },
  {
   "cell_type": "code",
   "execution_count": 454,
   "metadata": {},
   "outputs": [
    {
     "data": {
      "text/plain": [
       "DatetimeIndex(['2020-01-01', '2020-01-02', '2020-01-03', '2020-01-04',\n",
       "               '2020-01-05', '2020-01-06', '2020-01-07', '2020-01-08',\n",
       "               '2020-01-09', '2020-01-10'],\n",
       "              dtype='datetime64[ns]', freq='D')"
      ]
     },
     "execution_count": 454,
     "metadata": {},
     "output_type": "execute_result"
    }
   ],
   "source": [
    "dataFrame1.index"
   ]
  },
  {
   "cell_type": "code",
   "execution_count": 455,
   "metadata": {},
   "outputs": [
    {
     "data": {
      "text/html": [
       "<div>\n",
       "<style scoped>\n",
       "    .dataframe tbody tr th:only-of-type {\n",
       "        vertical-align: middle;\n",
       "    }\n",
       "\n",
       "    .dataframe tbody tr th {\n",
       "        vertical-align: top;\n",
       "    }\n",
       "\n",
       "    .dataframe thead th {\n",
       "        text-align: right;\n",
       "    }\n",
       "</style>\n",
       "<table border=\"1\" class=\"dataframe\">\n",
       "  <thead>\n",
       "    <tr style=\"text-align: right;\">\n",
       "      <th></th>\n",
       "      <th>C1</th>\n",
       "      <th>C2</th>\n",
       "      <th>C3</th>\n",
       "      <th>C4</th>\n",
       "      <th>C5</th>\n",
       "      <th>C6</th>\n",
       "    </tr>\n",
       "  </thead>\n",
       "  <tbody>\n",
       "    <tr>\n",
       "      <th>2020-01-01</th>\n",
       "      <td>100.1</td>\n",
       "      <td>120.2</td>\n",
       "      <td>130.3</td>\n",
       "      <td>140.4</td>\n",
       "      <td>150.5</td>\n",
       "      <td>160.6</td>\n",
       "    </tr>\n",
       "    <tr>\n",
       "      <th>2020-01-02</th>\n",
       "      <td>210.1</td>\n",
       "      <td>220.2</td>\n",
       "      <td>230.3</td>\n",
       "      <td>240.4</td>\n",
       "      <td>250.5</td>\n",
       "      <td>260.6</td>\n",
       "    </tr>\n",
       "    <tr>\n",
       "      <th>2020-01-03</th>\n",
       "      <td>300.1</td>\n",
       "      <td>320.2</td>\n",
       "      <td>330.3</td>\n",
       "      <td>340.4</td>\n",
       "      <td>350.5</td>\n",
       "      <td>360.6</td>\n",
       "    </tr>\n",
       "    <tr>\n",
       "      <th>2020-01-04</th>\n",
       "      <td>410.1</td>\n",
       "      <td>420.2</td>\n",
       "      <td>430.3</td>\n",
       "      <td>440.4</td>\n",
       "      <td>450.5</td>\n",
       "      <td>460.6</td>\n",
       "    </tr>\n",
       "    <tr>\n",
       "      <th>2020-01-05</th>\n",
       "      <td>500.1</td>\n",
       "      <td>520.2</td>\n",
       "      <td>530.3</td>\n",
       "      <td>540.4</td>\n",
       "      <td>550.5</td>\n",
       "      <td>560.6</td>\n",
       "    </tr>\n",
       "    <tr>\n",
       "      <th>2020-01-06</th>\n",
       "      <td>610.1</td>\n",
       "      <td>620.2</td>\n",
       "      <td>630.3</td>\n",
       "      <td>640.4</td>\n",
       "      <td>650.5</td>\n",
       "      <td>660.6</td>\n",
       "    </tr>\n",
       "    <tr>\n",
       "      <th>2020-01-07</th>\n",
       "      <td>210.1</td>\n",
       "      <td>220.2</td>\n",
       "      <td>230.3</td>\n",
       "      <td>240.4</td>\n",
       "      <td>250.5</td>\n",
       "      <td>260.6</td>\n",
       "    </tr>\n",
       "    <tr>\n",
       "      <th>2020-01-08</th>\n",
       "      <td>300.1</td>\n",
       "      <td>320.2</td>\n",
       "      <td>330.3</td>\n",
       "      <td>340.4</td>\n",
       "      <td>350.5</td>\n",
       "      <td>360.6</td>\n",
       "    </tr>\n",
       "    <tr>\n",
       "      <th>2020-01-09</th>\n",
       "      <td>410.1</td>\n",
       "      <td>420.2</td>\n",
       "      <td>430.3</td>\n",
       "      <td>440.4</td>\n",
       "      <td>450.5</td>\n",
       "      <td>460.6</td>\n",
       "    </tr>\n",
       "    <tr>\n",
       "      <th>2020-01-10</th>\n",
       "      <td>500.1</td>\n",
       "      <td>520.2</td>\n",
       "      <td>530.3</td>\n",
       "      <td>540.4</td>\n",
       "      <td>550.5</td>\n",
       "      <td>560.6</td>\n",
       "    </tr>\n",
       "  </tbody>\n",
       "</table>\n",
       "</div>"
      ],
      "text/plain": [
       "               C1     C2     C3     C4     C5     C6\n",
       "2020-01-01  100.1  120.2  130.3  140.4  150.5  160.6\n",
       "2020-01-02  210.1  220.2  230.3  240.4  250.5  260.6\n",
       "2020-01-03  300.1  320.2  330.3  340.4  350.5  360.6\n",
       "2020-01-04  410.1  420.2  430.3  440.4  450.5  460.6\n",
       "2020-01-05  500.1  520.2  530.3  540.4  550.5  560.6\n",
       "2020-01-06  610.1  620.2  630.3  640.4  650.5  660.6\n",
       "2020-01-07  210.1  220.2  230.3  240.4  250.5  260.6\n",
       "2020-01-08  300.1  320.2  330.3  340.4  350.5  360.6\n",
       "2020-01-09  410.1  420.2  430.3  440.4  450.5  460.6\n",
       "2020-01-10  500.1  520.2  530.3  540.4  550.5  560.6"
      ]
     },
     "execution_count": 455,
     "metadata": {},
     "output_type": "execute_result"
    }
   ],
   "source": [
    "dataFrame1"
   ]
  },
  {
   "cell_type": "markdown",
   "metadata": {},
   "source": [
    "<font color='#094B91'> In this example we show some specific data between a specific date. </font>\n"
   ]
  },
  {
   "cell_type": "code",
   "execution_count": 456,
   "metadata": {},
   "outputs": [
    {
     "data": {
      "text/html": [
       "<div>\n",
       "<style scoped>\n",
       "    .dataframe tbody tr th:only-of-type {\n",
       "        vertical-align: middle;\n",
       "    }\n",
       "\n",
       "    .dataframe tbody tr th {\n",
       "        vertical-align: top;\n",
       "    }\n",
       "\n",
       "    .dataframe thead th {\n",
       "        text-align: right;\n",
       "    }\n",
       "</style>\n",
       "<table border=\"1\" class=\"dataframe\">\n",
       "  <thead>\n",
       "    <tr style=\"text-align: right;\">\n",
       "      <th></th>\n",
       "      <th>C1</th>\n",
       "      <th>C2</th>\n",
       "      <th>C3</th>\n",
       "      <th>C4</th>\n",
       "      <th>C5</th>\n",
       "      <th>C6</th>\n",
       "    </tr>\n",
       "  </thead>\n",
       "  <tbody>\n",
       "    <tr>\n",
       "      <th>2020-01-04</th>\n",
       "      <td>410.1</td>\n",
       "      <td>420.2</td>\n",
       "      <td>430.3</td>\n",
       "      <td>440.4</td>\n",
       "      <td>450.5</td>\n",
       "      <td>460.6</td>\n",
       "    </tr>\n",
       "    <tr>\n",
       "      <th>2020-01-05</th>\n",
       "      <td>500.1</td>\n",
       "      <td>520.2</td>\n",
       "      <td>530.3</td>\n",
       "      <td>540.4</td>\n",
       "      <td>550.5</td>\n",
       "      <td>560.6</td>\n",
       "    </tr>\n",
       "    <tr>\n",
       "      <th>2020-01-06</th>\n",
       "      <td>610.1</td>\n",
       "      <td>620.2</td>\n",
       "      <td>630.3</td>\n",
       "      <td>640.4</td>\n",
       "      <td>650.5</td>\n",
       "      <td>660.6</td>\n",
       "    </tr>\n",
       "  </tbody>\n",
       "</table>\n",
       "</div>"
      ],
      "text/plain": [
       "               C1     C2     C3     C4     C5     C6\n",
       "2020-01-04  410.1  420.2  430.3  440.4  450.5  460.6\n",
       "2020-01-05  500.1  520.2  530.3  540.4  550.5  560.6\n",
       "2020-01-06  610.1  620.2  630.3  640.4  650.5  660.6"
      ]
     },
     "execution_count": 456,
     "metadata": {},
     "output_type": "execute_result"
    }
   ],
   "source": [
    "dataFrame1['20200104':'20200106']"
   ]
  },
  {
   "cell_type": "markdown",
   "metadata": {},
   "source": [
    "<font color='#094B91'> In this example we show some specific data between a range and we show specific columns. </font>\n",
    "- .loc[] => in this example this method take 2 parameter 1 is range and 2nd is columns"
   ]
  },
  {
   "cell_type": "code",
   "execution_count": 457,
   "metadata": {},
   "outputs": [
    {
     "data": {
      "text/html": [
       "<div>\n",
       "<style scoped>\n",
       "    .dataframe tbody tr th:only-of-type {\n",
       "        vertical-align: middle;\n",
       "    }\n",
       "\n",
       "    .dataframe tbody tr th {\n",
       "        vertical-align: top;\n",
       "    }\n",
       "\n",
       "    .dataframe thead th {\n",
       "        text-align: right;\n",
       "    }\n",
       "</style>\n",
       "<table border=\"1\" class=\"dataframe\">\n",
       "  <thead>\n",
       "    <tr style=\"text-align: right;\">\n",
       "      <th></th>\n",
       "      <th>C1</th>\n",
       "      <th>C4</th>\n",
       "    </tr>\n",
       "  </thead>\n",
       "  <tbody>\n",
       "    <tr>\n",
       "      <th>2020-01-01</th>\n",
       "      <td>100.1</td>\n",
       "      <td>140.4</td>\n",
       "    </tr>\n",
       "    <tr>\n",
       "      <th>2020-01-02</th>\n",
       "      <td>210.1</td>\n",
       "      <td>240.4</td>\n",
       "    </tr>\n",
       "    <tr>\n",
       "      <th>2020-01-03</th>\n",
       "      <td>300.1</td>\n",
       "      <td>340.4</td>\n",
       "    </tr>\n",
       "    <tr>\n",
       "      <th>2020-01-04</th>\n",
       "      <td>410.1</td>\n",
       "      <td>440.4</td>\n",
       "    </tr>\n",
       "    <tr>\n",
       "      <th>2020-01-05</th>\n",
       "      <td>500.1</td>\n",
       "      <td>540.4</td>\n",
       "    </tr>\n",
       "    <tr>\n",
       "      <th>2020-01-06</th>\n",
       "      <td>610.1</td>\n",
       "      <td>640.4</td>\n",
       "    </tr>\n",
       "    <tr>\n",
       "      <th>2020-01-07</th>\n",
       "      <td>210.1</td>\n",
       "      <td>240.4</td>\n",
       "    </tr>\n",
       "    <tr>\n",
       "      <th>2020-01-08</th>\n",
       "      <td>300.1</td>\n",
       "      <td>340.4</td>\n",
       "    </tr>\n",
       "    <tr>\n",
       "      <th>2020-01-09</th>\n",
       "      <td>410.1</td>\n",
       "      <td>440.4</td>\n",
       "    </tr>\n",
       "    <tr>\n",
       "      <th>2020-01-10</th>\n",
       "      <td>500.1</td>\n",
       "      <td>540.4</td>\n",
       "    </tr>\n",
       "  </tbody>\n",
       "</table>\n",
       "</div>"
      ],
      "text/plain": [
       "               C1     C4\n",
       "2020-01-01  100.1  140.4\n",
       "2020-01-02  210.1  240.4\n",
       "2020-01-03  300.1  340.4\n",
       "2020-01-04  410.1  440.4\n",
       "2020-01-05  500.1  540.4\n",
       "2020-01-06  610.1  640.4\n",
       "2020-01-07  210.1  240.4\n",
       "2020-01-08  300.1  340.4\n",
       "2020-01-09  410.1  440.4\n",
       "2020-01-10  500.1  540.4"
      ]
     },
     "execution_count": 457,
     "metadata": {},
     "output_type": "execute_result"
    }
   ],
   "source": [
    "#Selecting on a multi-axis by label\n",
    "\n",
    "dataFrame1.loc[:,['C1','C4']]"
   ]
  },
  {
   "cell_type": "code",
   "execution_count": 458,
   "metadata": {},
   "outputs": [
    {
     "data": {
      "text/plain": [
       "Index(['C1', 'C2', 'C3', 'C4', 'C5', 'C6'], dtype='object')"
      ]
     },
     "execution_count": 458,
     "metadata": {},
     "output_type": "execute_result"
    }
   ],
   "source": [
    "dataFrame1.columns"
   ]
  },
  {
   "cell_type": "markdown",
   "metadata": {},
   "source": [
    "<font color='#094B91'> In this example we show some specific data between a range and we show specific columns. </font>"
   ]
  },
  {
   "cell_type": "code",
   "execution_count": 459,
   "metadata": {},
   "outputs": [
    {
     "data": {
      "text/html": [
       "<div>\n",
       "<style scoped>\n",
       "    .dataframe tbody tr th:only-of-type {\n",
       "        vertical-align: middle;\n",
       "    }\n",
       "\n",
       "    .dataframe tbody tr th {\n",
       "        vertical-align: top;\n",
       "    }\n",
       "\n",
       "    .dataframe thead th {\n",
       "        text-align: right;\n",
       "    }\n",
       "</style>\n",
       "<table border=\"1\" class=\"dataframe\">\n",
       "  <thead>\n",
       "    <tr style=\"text-align: right;\">\n",
       "      <th></th>\n",
       "      <th>C1</th>\n",
       "      <th>C4</th>\n",
       "    </tr>\n",
       "  </thead>\n",
       "  <tbody>\n",
       "    <tr>\n",
       "      <th>2020-01-02</th>\n",
       "      <td>210.1</td>\n",
       "      <td>240.4</td>\n",
       "    </tr>\n",
       "    <tr>\n",
       "      <th>2020-01-03</th>\n",
       "      <td>300.1</td>\n",
       "      <td>340.4</td>\n",
       "    </tr>\n",
       "    <tr>\n",
       "      <th>2020-01-04</th>\n",
       "      <td>410.1</td>\n",
       "      <td>440.4</td>\n",
       "    </tr>\n",
       "  </tbody>\n",
       "</table>\n",
       "</div>"
      ],
      "text/plain": [
       "               C1     C4\n",
       "2020-01-02  210.1  240.4\n",
       "2020-01-03  300.1  340.4\n",
       "2020-01-04  410.1  440.4"
      ]
     },
     "execution_count": 459,
     "metadata": {},
     "output_type": "execute_result"
    }
   ],
   "source": [
    "#Showing label slicing, both endpoints are included\n",
    "\n",
    "dataFrame1.loc['20200102':'20200104',['C1','C4']]"
   ]
  },
  {
   "cell_type": "markdown",
   "metadata": {},
   "source": [
    "<font color='#094B91'> In this example we show some specific data between a specific dat and we show just two columns. </font>\n"
   ]
  },
  {
   "cell_type": "code",
   "execution_count": 460,
   "metadata": {},
   "outputs": [
    {
     "data": {
      "text/plain": [
       "C1    210.1\n",
       "C4    240.4\n",
       "Name: 2020-01-02 00:00:00, dtype: float64"
      ]
     },
     "execution_count": 460,
     "metadata": {},
     "output_type": "execute_result"
    }
   ],
   "source": [
    "dataFrame1.loc['20200102',['C1','C4']]"
   ]
  },
  {
   "cell_type": "markdown",
   "metadata": {},
   "source": [
    "<font color='#094B91'> In this example we get a specific row by it's index name and we just show one column of that specific row. </font>\n"
   ]
  },
  {
   "cell_type": "code",
   "execution_count": 461,
   "metadata": {},
   "outputs": [
    {
     "data": {
      "text/plain": [
       "100.1"
      ]
     },
     "execution_count": 461,
     "metadata": {},
     "output_type": "execute_result"
    }
   ],
   "source": [
    " # For getting a scalar value\n",
    "\n",
    "dataFrame1.loc[DateArray1[0],'C1']"
   ]
  },
  {
   "cell_type": "markdown",
   "metadata": {},
   "source": [
    "<font color='#094B91'> In this example we get a specific row by it's index numner and we just show one column of that specific row. </font>\n"
   ]
  },
  {
   "cell_type": "code",
   "execution_count": 462,
   "metadata": {},
   "outputs": [
    {
     "data": {
      "text/plain": [
       "130.3"
      ]
     },
     "execution_count": 462,
     "metadata": {},
     "output_type": "execute_result"
    }
   ],
   "source": [
    " # For getting fast access to a scalar \n",
    "\n",
    "dataFrame1.at[DateArray1[0],'C3']"
   ]
  },
  {
   "cell_type": "markdown",
   "metadata": {},
   "source": [
    "<font color='#094B91'> In this example we get specific row but that will show as column. </font>\n"
   ]
  },
  {
   "cell_type": "code",
   "execution_count": 463,
   "metadata": {},
   "outputs": [
    {
     "data": {
      "text/plain": [
       "C1    610.1\n",
       "C2    620.2\n",
       "C3    630.3\n",
       "C4    640.4\n",
       "C5    650.5\n",
       "C6    660.6\n",
       "Name: 2020-01-06 00:00:00, dtype: float64"
      ]
     },
     "execution_count": 463,
     "metadata": {},
     "output_type": "execute_result"
    }
   ],
   "source": [
    " # Select via the position of the passed integers\n",
    "\n",
    "dataFrame1.iloc[5]"
   ]
  },
  {
   "cell_type": "markdown",
   "metadata": {},
   "source": [
    "<font color='#094B91'> In this example we get some rows and columns by slices. </font>"
   ]
  },
  {
   "cell_type": "code",
   "execution_count": 464,
   "metadata": {},
   "outputs": [
    {
     "data": {
      "text/html": [
       "<div>\n",
       "<style scoped>\n",
       "    .dataframe tbody tr th:only-of-type {\n",
       "        vertical-align: middle;\n",
       "    }\n",
       "\n",
       "    .dataframe tbody tr th {\n",
       "        vertical-align: top;\n",
       "    }\n",
       "\n",
       "    .dataframe thead th {\n",
       "        text-align: right;\n",
       "    }\n",
       "</style>\n",
       "<table border=\"1\" class=\"dataframe\">\n",
       "  <thead>\n",
       "    <tr style=\"text-align: right;\">\n",
       "      <th></th>\n",
       "      <th>C1</th>\n",
       "      <th>C2</th>\n",
       "      <th>C3</th>\n",
       "    </tr>\n",
       "  </thead>\n",
       "  <tbody>\n",
       "    <tr>\n",
       "      <th>2020-01-03</th>\n",
       "      <td>300.1</td>\n",
       "      <td>320.2</td>\n",
       "      <td>330.3</td>\n",
       "    </tr>\n",
       "    <tr>\n",
       "      <th>2020-01-04</th>\n",
       "      <td>410.1</td>\n",
       "      <td>420.2</td>\n",
       "      <td>430.3</td>\n",
       "    </tr>\n",
       "    <tr>\n",
       "      <th>2020-01-05</th>\n",
       "      <td>500.1</td>\n",
       "      <td>520.2</td>\n",
       "      <td>530.3</td>\n",
       "    </tr>\n",
       "  </tbody>\n",
       "</table>\n",
       "</div>"
      ],
      "text/plain": [
       "               C1     C2     C3\n",
       "2020-01-03  300.1  320.2  330.3\n",
       "2020-01-04  410.1  420.2  430.3\n",
       "2020-01-05  500.1  520.2  530.3"
      ]
     },
     "execution_count": 464,
     "metadata": {},
     "output_type": "execute_result"
    }
   ],
   "source": [
    " # By integer slices, acting similar to numpy/python\n",
    "\n",
    "dataFrame1.iloc[2:5,0:3]"
   ]
  },
  {
   "cell_type": "markdown",
   "metadata": {},
   "source": [
    "<font color='#094B91'> In this example we get a specific row and columns by it's index numner  </font>"
   ]
  },
  {
   "cell_type": "code",
   "execution_count": 465,
   "metadata": {},
   "outputs": [
    {
     "data": {
      "text/html": [
       "<div>\n",
       "<style scoped>\n",
       "    .dataframe tbody tr th:only-of-type {\n",
       "        vertical-align: middle;\n",
       "    }\n",
       "\n",
       "    .dataframe tbody tr th {\n",
       "        vertical-align: top;\n",
       "    }\n",
       "\n",
       "    .dataframe thead th {\n",
       "        text-align: right;\n",
       "    }\n",
       "</style>\n",
       "<table border=\"1\" class=\"dataframe\">\n",
       "  <thead>\n",
       "    <tr style=\"text-align: right;\">\n",
       "      <th></th>\n",
       "      <th>C1</th>\n",
       "      <th>C4</th>\n",
       "    </tr>\n",
       "  </thead>\n",
       "  <tbody>\n",
       "    <tr>\n",
       "      <th>2020-01-03</th>\n",
       "      <td>300.1</td>\n",
       "      <td>340.4</td>\n",
       "    </tr>\n",
       "    <tr>\n",
       "      <th>2020-01-05</th>\n",
       "      <td>500.1</td>\n",
       "      <td>540.4</td>\n",
       "    </tr>\n",
       "    <tr>\n",
       "      <th>2020-01-07</th>\n",
       "      <td>210.1</td>\n",
       "      <td>240.4</td>\n",
       "    </tr>\n",
       "  </tbody>\n",
       "</table>\n",
       "</div>"
      ],
      "text/plain": [
       "               C1     C4\n",
       "2020-01-03  300.1  340.4\n",
       "2020-01-05  500.1  540.4\n",
       "2020-01-07  210.1  240.4"
      ]
     },
     "execution_count": 465,
     "metadata": {},
     "output_type": "execute_result"
    }
   ],
   "source": [
    "# By lists of integer position locations, similar to the numpy/python style\n",
    "\n",
    "dataFrame1.iloc[[2,4,6],[0,3]]"
   ]
  },
  {
   "cell_type": "markdown",
   "metadata": {},
   "source": [
    "<font color='#094B91'> In this example we get some rows and columns by slices. </font>"
   ]
  },
  {
   "cell_type": "code",
   "execution_count": 466,
   "metadata": {},
   "outputs": [
    {
     "data": {
      "text/html": [
       "<div>\n",
       "<style scoped>\n",
       "    .dataframe tbody tr th:only-of-type {\n",
       "        vertical-align: middle;\n",
       "    }\n",
       "\n",
       "    .dataframe tbody tr th {\n",
       "        vertical-align: top;\n",
       "    }\n",
       "\n",
       "    .dataframe thead th {\n",
       "        text-align: right;\n",
       "    }\n",
       "</style>\n",
       "<table border=\"1\" class=\"dataframe\">\n",
       "  <thead>\n",
       "    <tr style=\"text-align: right;\">\n",
       "      <th></th>\n",
       "      <th>C2</th>\n",
       "      <th>C3</th>\n",
       "      <th>C4</th>\n",
       "    </tr>\n",
       "  </thead>\n",
       "  <tbody>\n",
       "    <tr>\n",
       "      <th>2020-01-01</th>\n",
       "      <td>120.2</td>\n",
       "      <td>130.3</td>\n",
       "      <td>140.4</td>\n",
       "    </tr>\n",
       "    <tr>\n",
       "      <th>2020-01-02</th>\n",
       "      <td>220.2</td>\n",
       "      <td>230.3</td>\n",
       "      <td>240.4</td>\n",
       "    </tr>\n",
       "    <tr>\n",
       "      <th>2020-01-03</th>\n",
       "      <td>320.2</td>\n",
       "      <td>330.3</td>\n",
       "      <td>340.4</td>\n",
       "    </tr>\n",
       "    <tr>\n",
       "      <th>2020-01-04</th>\n",
       "      <td>420.2</td>\n",
       "      <td>430.3</td>\n",
       "      <td>440.4</td>\n",
       "    </tr>\n",
       "    <tr>\n",
       "      <th>2020-01-05</th>\n",
       "      <td>520.2</td>\n",
       "      <td>530.3</td>\n",
       "      <td>540.4</td>\n",
       "    </tr>\n",
       "    <tr>\n",
       "      <th>2020-01-06</th>\n",
       "      <td>620.2</td>\n",
       "      <td>630.3</td>\n",
       "      <td>640.4</td>\n",
       "    </tr>\n",
       "    <tr>\n",
       "      <th>2020-01-07</th>\n",
       "      <td>220.2</td>\n",
       "      <td>230.3</td>\n",
       "      <td>240.4</td>\n",
       "    </tr>\n",
       "    <tr>\n",
       "      <th>2020-01-08</th>\n",
       "      <td>320.2</td>\n",
       "      <td>330.3</td>\n",
       "      <td>340.4</td>\n",
       "    </tr>\n",
       "    <tr>\n",
       "      <th>2020-01-09</th>\n",
       "      <td>420.2</td>\n",
       "      <td>430.3</td>\n",
       "      <td>440.4</td>\n",
       "    </tr>\n",
       "    <tr>\n",
       "      <th>2020-01-10</th>\n",
       "      <td>520.2</td>\n",
       "      <td>530.3</td>\n",
       "      <td>540.4</td>\n",
       "    </tr>\n",
       "  </tbody>\n",
       "</table>\n",
       "</div>"
      ],
      "text/plain": [
       "               C2     C3     C4\n",
       "2020-01-01  120.2  130.3  140.4\n",
       "2020-01-02  220.2  230.3  240.4\n",
       "2020-01-03  320.2  330.3  340.4\n",
       "2020-01-04  420.2  430.3  440.4\n",
       "2020-01-05  520.2  530.3  540.4\n",
       "2020-01-06  620.2  630.3  640.4\n",
       "2020-01-07  220.2  230.3  240.4\n",
       "2020-01-08  320.2  330.3  340.4\n",
       "2020-01-09  420.2  430.3  440.4\n",
       "2020-01-10  520.2  530.3  540.4"
      ]
     },
     "execution_count": 466,
     "metadata": {},
     "output_type": "execute_result"
    }
   ],
   "source": [
    " # For slicing rows explicitly\n",
    "\n",
    "dataFrame1.iloc[:,1:4]"
   ]
  },
  {
   "cell_type": "markdown",
   "metadata": {},
   "source": [
    "<font color='#094B91'> In this example we get a single sell. </font>"
   ]
  },
  {
   "cell_type": "code",
   "execution_count": 467,
   "metadata": {},
   "outputs": [
    {
     "data": {
      "text/plain": [
       "230.3"
      ]
     },
     "execution_count": 467,
     "metadata": {},
     "output_type": "execute_result"
    }
   ],
   "source": [
    " # For getting a value explicitly\n",
    "\n",
    "dataFrame1.iloc[1,2]"
   ]
  },
  {
   "cell_type": "markdown",
   "metadata": {},
   "source": [
    "<font color='#094B91'> In this example we get all data where column C1's data is graterthan '2020-01-07'. </font>"
   ]
  },
  {
   "cell_type": "code",
   "execution_count": 468,
   "metadata": {},
   "outputs": [
    {
     "data": {
      "text/html": [
       "<div>\n",
       "<style scoped>\n",
       "    .dataframe tbody tr th:only-of-type {\n",
       "        vertical-align: middle;\n",
       "    }\n",
       "\n",
       "    .dataframe tbody tr th {\n",
       "        vertical-align: top;\n",
       "    }\n",
       "\n",
       "    .dataframe thead th {\n",
       "        text-align: right;\n",
       "    }\n",
       "</style>\n",
       "<table border=\"1\" class=\"dataframe\">\n",
       "  <thead>\n",
       "    <tr style=\"text-align: right;\">\n",
       "      <th></th>\n",
       "      <th>C1</th>\n",
       "      <th>C2</th>\n",
       "      <th>C3</th>\n",
       "      <th>C4</th>\n",
       "      <th>C5</th>\n",
       "      <th>C6</th>\n",
       "    </tr>\n",
       "  </thead>\n",
       "  <tbody>\n",
       "    <tr>\n",
       "      <th>2020-01-08</th>\n",
       "      <td>300.1</td>\n",
       "      <td>320.2</td>\n",
       "      <td>330.3</td>\n",
       "      <td>340.4</td>\n",
       "      <td>350.5</td>\n",
       "      <td>360.6</td>\n",
       "    </tr>\n",
       "    <tr>\n",
       "      <th>2020-01-09</th>\n",
       "      <td>410.1</td>\n",
       "      <td>420.2</td>\n",
       "      <td>430.3</td>\n",
       "      <td>440.4</td>\n",
       "      <td>450.5</td>\n",
       "      <td>460.6</td>\n",
       "    </tr>\n",
       "    <tr>\n",
       "      <th>2020-01-10</th>\n",
       "      <td>500.1</td>\n",
       "      <td>520.2</td>\n",
       "      <td>530.3</td>\n",
       "      <td>540.4</td>\n",
       "      <td>550.5</td>\n",
       "      <td>560.6</td>\n",
       "    </tr>\n",
       "  </tbody>\n",
       "</table>\n",
       "</div>"
      ],
      "text/plain": [
       "               C1     C2     C3     C4     C5     C6\n",
       "2020-01-08  300.1  320.2  330.3  340.4  350.5  360.6\n",
       "2020-01-09  410.1  420.2  430.3  440.4  450.5  460.6\n",
       "2020-01-10  500.1  520.2  530.3  540.4  550.5  560.6"
      ]
     },
     "execution_count": 468,
     "metadata": {},
     "output_type": "execute_result"
    }
   ],
   "source": [
    "# Using a single column’s values to select data.\n",
    "\n",
    "dataFrame1[dataFrame1.index > '2020-01-07']"
   ]
  },
  {
   "cell_type": "markdown",
   "metadata": {},
   "source": [
    "<font color='#094B91'> In this example we get all data graterthan 300'. </font>"
   ]
  },
  {
   "cell_type": "code",
   "execution_count": 469,
   "metadata": {},
   "outputs": [
    {
     "data": {
      "text/html": [
       "<div>\n",
       "<style scoped>\n",
       "    .dataframe tbody tr th:only-of-type {\n",
       "        vertical-align: middle;\n",
       "    }\n",
       "\n",
       "    .dataframe tbody tr th {\n",
       "        vertical-align: top;\n",
       "    }\n",
       "\n",
       "    .dataframe thead th {\n",
       "        text-align: right;\n",
       "    }\n",
       "</style>\n",
       "<table border=\"1\" class=\"dataframe\">\n",
       "  <thead>\n",
       "    <tr style=\"text-align: right;\">\n",
       "      <th></th>\n",
       "      <th>C1</th>\n",
       "      <th>C2</th>\n",
       "      <th>C3</th>\n",
       "      <th>C4</th>\n",
       "      <th>C5</th>\n",
       "      <th>C6</th>\n",
       "    </tr>\n",
       "  </thead>\n",
       "  <tbody>\n",
       "    <tr>\n",
       "      <th>2020-01-01</th>\n",
       "      <td>NaN</td>\n",
       "      <td>NaN</td>\n",
       "      <td>NaN</td>\n",
       "      <td>NaN</td>\n",
       "      <td>NaN</td>\n",
       "      <td>NaN</td>\n",
       "    </tr>\n",
       "    <tr>\n",
       "      <th>2020-01-02</th>\n",
       "      <td>NaN</td>\n",
       "      <td>NaN</td>\n",
       "      <td>NaN</td>\n",
       "      <td>NaN</td>\n",
       "      <td>NaN</td>\n",
       "      <td>NaN</td>\n",
       "    </tr>\n",
       "    <tr>\n",
       "      <th>2020-01-03</th>\n",
       "      <td>300.1</td>\n",
       "      <td>320.2</td>\n",
       "      <td>330.3</td>\n",
       "      <td>340.4</td>\n",
       "      <td>350.5</td>\n",
       "      <td>360.6</td>\n",
       "    </tr>\n",
       "    <tr>\n",
       "      <th>2020-01-04</th>\n",
       "      <td>410.1</td>\n",
       "      <td>420.2</td>\n",
       "      <td>430.3</td>\n",
       "      <td>440.4</td>\n",
       "      <td>450.5</td>\n",
       "      <td>460.6</td>\n",
       "    </tr>\n",
       "    <tr>\n",
       "      <th>2020-01-05</th>\n",
       "      <td>500.1</td>\n",
       "      <td>520.2</td>\n",
       "      <td>530.3</td>\n",
       "      <td>540.4</td>\n",
       "      <td>550.5</td>\n",
       "      <td>560.6</td>\n",
       "    </tr>\n",
       "    <tr>\n",
       "      <th>2020-01-06</th>\n",
       "      <td>610.1</td>\n",
       "      <td>620.2</td>\n",
       "      <td>630.3</td>\n",
       "      <td>640.4</td>\n",
       "      <td>650.5</td>\n",
       "      <td>660.6</td>\n",
       "    </tr>\n",
       "    <tr>\n",
       "      <th>2020-01-07</th>\n",
       "      <td>NaN</td>\n",
       "      <td>NaN</td>\n",
       "      <td>NaN</td>\n",
       "      <td>NaN</td>\n",
       "      <td>NaN</td>\n",
       "      <td>NaN</td>\n",
       "    </tr>\n",
       "    <tr>\n",
       "      <th>2020-01-08</th>\n",
       "      <td>300.1</td>\n",
       "      <td>320.2</td>\n",
       "      <td>330.3</td>\n",
       "      <td>340.4</td>\n",
       "      <td>350.5</td>\n",
       "      <td>360.6</td>\n",
       "    </tr>\n",
       "    <tr>\n",
       "      <th>2020-01-09</th>\n",
       "      <td>410.1</td>\n",
       "      <td>420.2</td>\n",
       "      <td>430.3</td>\n",
       "      <td>440.4</td>\n",
       "      <td>450.5</td>\n",
       "      <td>460.6</td>\n",
       "    </tr>\n",
       "    <tr>\n",
       "      <th>2020-01-10</th>\n",
       "      <td>500.1</td>\n",
       "      <td>520.2</td>\n",
       "      <td>530.3</td>\n",
       "      <td>540.4</td>\n",
       "      <td>550.5</td>\n",
       "      <td>560.6</td>\n",
       "    </tr>\n",
       "  </tbody>\n",
       "</table>\n",
       "</div>"
      ],
      "text/plain": [
       "               C1     C2     C3     C4     C5     C6\n",
       "2020-01-01    NaN    NaN    NaN    NaN    NaN    NaN\n",
       "2020-01-02    NaN    NaN    NaN    NaN    NaN    NaN\n",
       "2020-01-03  300.1  320.2  330.3  340.4  350.5  360.6\n",
       "2020-01-04  410.1  420.2  430.3  440.4  450.5  460.6\n",
       "2020-01-05  500.1  520.2  530.3  540.4  550.5  560.6\n",
       "2020-01-06  610.1  620.2  630.3  640.4  650.5  660.6\n",
       "2020-01-07    NaN    NaN    NaN    NaN    NaN    NaN\n",
       "2020-01-08  300.1  320.2  330.3  340.4  350.5  360.6\n",
       "2020-01-09  410.1  420.2  430.3  440.4  450.5  460.6\n",
       "2020-01-10  500.1  520.2  530.3  540.4  550.5  560.6"
      ]
     },
     "execution_count": 469,
     "metadata": {},
     "output_type": "execute_result"
    }
   ],
   "source": [
    "# Selecting values from a DataFrame where a boolean condition is met.\n",
    "\n",
    "dataFrame1[dataFrame1 > 300]"
   ]
  },
  {
   "cell_type": "markdown",
   "metadata": {},
   "source": [
    "<font color='#094B91'> In this example we copy dataframe into other variable. </font>"
   ]
  },
  {
   "cell_type": "code",
   "execution_count": 470,
   "metadata": {},
   "outputs": [],
   "source": [
    "# Using the isin() method for filtering:\n",
    "\n",
    "dataFrame11 = dataFrame1.copy()"
   ]
  },
  {
   "cell_type": "code",
   "execution_count": 471,
   "metadata": {},
   "outputs": [
    {
     "data": {
      "text/html": [
       "<div>\n",
       "<style scoped>\n",
       "    .dataframe tbody tr th:only-of-type {\n",
       "        vertical-align: middle;\n",
       "    }\n",
       "\n",
       "    .dataframe tbody tr th {\n",
       "        vertical-align: top;\n",
       "    }\n",
       "\n",
       "    .dataframe thead th {\n",
       "        text-align: right;\n",
       "    }\n",
       "</style>\n",
       "<table border=\"1\" class=\"dataframe\">\n",
       "  <thead>\n",
       "    <tr style=\"text-align: right;\">\n",
       "      <th></th>\n",
       "      <th>C1</th>\n",
       "      <th>C2</th>\n",
       "      <th>C3</th>\n",
       "      <th>C4</th>\n",
       "      <th>C5</th>\n",
       "      <th>C6</th>\n",
       "    </tr>\n",
       "  </thead>\n",
       "  <tbody>\n",
       "    <tr>\n",
       "      <th>2020-01-01</th>\n",
       "      <td>100.1</td>\n",
       "      <td>120.2</td>\n",
       "      <td>130.3</td>\n",
       "      <td>140.4</td>\n",
       "      <td>150.5</td>\n",
       "      <td>160.6</td>\n",
       "    </tr>\n",
       "    <tr>\n",
       "      <th>2020-01-02</th>\n",
       "      <td>210.1</td>\n",
       "      <td>220.2</td>\n",
       "      <td>230.3</td>\n",
       "      <td>240.4</td>\n",
       "      <td>250.5</td>\n",
       "      <td>260.6</td>\n",
       "    </tr>\n",
       "    <tr>\n",
       "      <th>2020-01-03</th>\n",
       "      <td>300.1</td>\n",
       "      <td>320.2</td>\n",
       "      <td>330.3</td>\n",
       "      <td>340.4</td>\n",
       "      <td>350.5</td>\n",
       "      <td>360.6</td>\n",
       "    </tr>\n",
       "    <tr>\n",
       "      <th>2020-01-04</th>\n",
       "      <td>410.1</td>\n",
       "      <td>420.2</td>\n",
       "      <td>430.3</td>\n",
       "      <td>440.4</td>\n",
       "      <td>450.5</td>\n",
       "      <td>460.6</td>\n",
       "    </tr>\n",
       "    <tr>\n",
       "      <th>2020-01-05</th>\n",
       "      <td>500.1</td>\n",
       "      <td>520.2</td>\n",
       "      <td>530.3</td>\n",
       "      <td>540.4</td>\n",
       "      <td>550.5</td>\n",
       "      <td>560.6</td>\n",
       "    </tr>\n",
       "    <tr>\n",
       "      <th>2020-01-06</th>\n",
       "      <td>610.1</td>\n",
       "      <td>620.2</td>\n",
       "      <td>630.3</td>\n",
       "      <td>640.4</td>\n",
       "      <td>650.5</td>\n",
       "      <td>660.6</td>\n",
       "    </tr>\n",
       "    <tr>\n",
       "      <th>2020-01-07</th>\n",
       "      <td>210.1</td>\n",
       "      <td>220.2</td>\n",
       "      <td>230.3</td>\n",
       "      <td>240.4</td>\n",
       "      <td>250.5</td>\n",
       "      <td>260.6</td>\n",
       "    </tr>\n",
       "    <tr>\n",
       "      <th>2020-01-08</th>\n",
       "      <td>300.1</td>\n",
       "      <td>320.2</td>\n",
       "      <td>330.3</td>\n",
       "      <td>340.4</td>\n",
       "      <td>350.5</td>\n",
       "      <td>360.6</td>\n",
       "    </tr>\n",
       "    <tr>\n",
       "      <th>2020-01-09</th>\n",
       "      <td>410.1</td>\n",
       "      <td>420.2</td>\n",
       "      <td>430.3</td>\n",
       "      <td>440.4</td>\n",
       "      <td>450.5</td>\n",
       "      <td>460.6</td>\n",
       "    </tr>\n",
       "    <tr>\n",
       "      <th>2020-01-10</th>\n",
       "      <td>500.1</td>\n",
       "      <td>520.2</td>\n",
       "      <td>530.3</td>\n",
       "      <td>540.4</td>\n",
       "      <td>550.5</td>\n",
       "      <td>560.6</td>\n",
       "    </tr>\n",
       "  </tbody>\n",
       "</table>\n",
       "</div>"
      ],
      "text/plain": [
       "               C1     C2     C3     C4     C5     C6\n",
       "2020-01-01  100.1  120.2  130.3  140.4  150.5  160.6\n",
       "2020-01-02  210.1  220.2  230.3  240.4  250.5  260.6\n",
       "2020-01-03  300.1  320.2  330.3  340.4  350.5  360.6\n",
       "2020-01-04  410.1  420.2  430.3  440.4  450.5  460.6\n",
       "2020-01-05  500.1  520.2  530.3  540.4  550.5  560.6\n",
       "2020-01-06  610.1  620.2  630.3  640.4  650.5  660.6\n",
       "2020-01-07  210.1  220.2  230.3  240.4  250.5  260.6\n",
       "2020-01-08  300.1  320.2  330.3  340.4  350.5  360.6\n",
       "2020-01-09  410.1  420.2  430.3  440.4  450.5  460.6\n",
       "2020-01-10  500.1  520.2  530.3  540.4  550.5  560.6"
      ]
     },
     "execution_count": 471,
     "metadata": {},
     "output_type": "execute_result"
    }
   ],
   "source": [
    "dataFrame11"
   ]
  },
  {
   "cell_type": "markdown",
   "metadata": {},
   "source": [
    "<font color='#094B91'> In this example we add a column with some values. </font>"
   ]
  },
  {
   "cell_type": "code",
   "execution_count": 472,
   "metadata": {},
   "outputs": [],
   "source": [
    " dataFrame1['C7'] = [10,22,33,44,55,66,77,88,41,33]"
   ]
  },
  {
   "cell_type": "code",
   "execution_count": 473,
   "metadata": {},
   "outputs": [
    {
     "data": {
      "text/html": [
       "<div>\n",
       "<style scoped>\n",
       "    .dataframe tbody tr th:only-of-type {\n",
       "        vertical-align: middle;\n",
       "    }\n",
       "\n",
       "    .dataframe tbody tr th {\n",
       "        vertical-align: top;\n",
       "    }\n",
       "\n",
       "    .dataframe thead th {\n",
       "        text-align: right;\n",
       "    }\n",
       "</style>\n",
       "<table border=\"1\" class=\"dataframe\">\n",
       "  <thead>\n",
       "    <tr style=\"text-align: right;\">\n",
       "      <th></th>\n",
       "      <th>C1</th>\n",
       "      <th>C2</th>\n",
       "      <th>C3</th>\n",
       "      <th>C4</th>\n",
       "      <th>C5</th>\n",
       "      <th>C6</th>\n",
       "      <th>C7</th>\n",
       "    </tr>\n",
       "  </thead>\n",
       "  <tbody>\n",
       "    <tr>\n",
       "      <th>2020-01-01</th>\n",
       "      <td>100.1</td>\n",
       "      <td>120.2</td>\n",
       "      <td>130.3</td>\n",
       "      <td>140.4</td>\n",
       "      <td>150.5</td>\n",
       "      <td>160.6</td>\n",
       "      <td>10</td>\n",
       "    </tr>\n",
       "    <tr>\n",
       "      <th>2020-01-02</th>\n",
       "      <td>210.1</td>\n",
       "      <td>220.2</td>\n",
       "      <td>230.3</td>\n",
       "      <td>240.4</td>\n",
       "      <td>250.5</td>\n",
       "      <td>260.6</td>\n",
       "      <td>22</td>\n",
       "    </tr>\n",
       "    <tr>\n",
       "      <th>2020-01-03</th>\n",
       "      <td>300.1</td>\n",
       "      <td>320.2</td>\n",
       "      <td>330.3</td>\n",
       "      <td>340.4</td>\n",
       "      <td>350.5</td>\n",
       "      <td>360.6</td>\n",
       "      <td>33</td>\n",
       "    </tr>\n",
       "    <tr>\n",
       "      <th>2020-01-04</th>\n",
       "      <td>410.1</td>\n",
       "      <td>420.2</td>\n",
       "      <td>430.3</td>\n",
       "      <td>440.4</td>\n",
       "      <td>450.5</td>\n",
       "      <td>460.6</td>\n",
       "      <td>44</td>\n",
       "    </tr>\n",
       "    <tr>\n",
       "      <th>2020-01-05</th>\n",
       "      <td>500.1</td>\n",
       "      <td>520.2</td>\n",
       "      <td>530.3</td>\n",
       "      <td>540.4</td>\n",
       "      <td>550.5</td>\n",
       "      <td>560.6</td>\n",
       "      <td>55</td>\n",
       "    </tr>\n",
       "    <tr>\n",
       "      <th>2020-01-06</th>\n",
       "      <td>610.1</td>\n",
       "      <td>620.2</td>\n",
       "      <td>630.3</td>\n",
       "      <td>640.4</td>\n",
       "      <td>650.5</td>\n",
       "      <td>660.6</td>\n",
       "      <td>66</td>\n",
       "    </tr>\n",
       "    <tr>\n",
       "      <th>2020-01-07</th>\n",
       "      <td>210.1</td>\n",
       "      <td>220.2</td>\n",
       "      <td>230.3</td>\n",
       "      <td>240.4</td>\n",
       "      <td>250.5</td>\n",
       "      <td>260.6</td>\n",
       "      <td>77</td>\n",
       "    </tr>\n",
       "    <tr>\n",
       "      <th>2020-01-08</th>\n",
       "      <td>300.1</td>\n",
       "      <td>320.2</td>\n",
       "      <td>330.3</td>\n",
       "      <td>340.4</td>\n",
       "      <td>350.5</td>\n",
       "      <td>360.6</td>\n",
       "      <td>88</td>\n",
       "    </tr>\n",
       "    <tr>\n",
       "      <th>2020-01-09</th>\n",
       "      <td>410.1</td>\n",
       "      <td>420.2</td>\n",
       "      <td>430.3</td>\n",
       "      <td>440.4</td>\n",
       "      <td>450.5</td>\n",
       "      <td>460.6</td>\n",
       "      <td>41</td>\n",
       "    </tr>\n",
       "    <tr>\n",
       "      <th>2020-01-10</th>\n",
       "      <td>500.1</td>\n",
       "      <td>520.2</td>\n",
       "      <td>530.3</td>\n",
       "      <td>540.4</td>\n",
       "      <td>550.5</td>\n",
       "      <td>560.6</td>\n",
       "      <td>33</td>\n",
       "    </tr>\n",
       "  </tbody>\n",
       "</table>\n",
       "</div>"
      ],
      "text/plain": [
       "               C1     C2     C3     C4     C5     C6  C7\n",
       "2020-01-01  100.1  120.2  130.3  140.4  150.5  160.6  10\n",
       "2020-01-02  210.1  220.2  230.3  240.4  250.5  260.6  22\n",
       "2020-01-03  300.1  320.2  330.3  340.4  350.5  360.6  33\n",
       "2020-01-04  410.1  420.2  430.3  440.4  450.5  460.6  44\n",
       "2020-01-05  500.1  520.2  530.3  540.4  550.5  560.6  55\n",
       "2020-01-06  610.1  620.2  630.3  640.4  650.5  660.6  66\n",
       "2020-01-07  210.1  220.2  230.3  240.4  250.5  260.6  77\n",
       "2020-01-08  300.1  320.2  330.3  340.4  350.5  360.6  88\n",
       "2020-01-09  410.1  420.2  430.3  440.4  450.5  460.6  41\n",
       "2020-01-10  500.1  520.2  530.3  540.4  550.5  560.6  33"
      ]
     },
     "execution_count": 473,
     "metadata": {},
     "output_type": "execute_result"
    }
   ],
   "source": [
    "dataFrame1"
   ]
  },
  {
   "cell_type": "markdown",
   "metadata": {},
   "source": [
    "<font color='#094B91'> In this example we check that a specific vale is prasent in some specific column. </font>"
   ]
  },
  {
   "cell_type": "code",
   "execution_count": 474,
   "metadata": {},
   "outputs": [
    {
     "data": {
      "text/html": [
       "<div>\n",
       "<style scoped>\n",
       "    .dataframe tbody tr th:only-of-type {\n",
       "        vertical-align: middle;\n",
       "    }\n",
       "\n",
       "    .dataframe tbody tr th {\n",
       "        vertical-align: top;\n",
       "    }\n",
       "\n",
       "    .dataframe thead th {\n",
       "        text-align: right;\n",
       "    }\n",
       "</style>\n",
       "<table border=\"1\" class=\"dataframe\">\n",
       "  <thead>\n",
       "    <tr style=\"text-align: right;\">\n",
       "      <th></th>\n",
       "      <th>C1</th>\n",
       "      <th>C2</th>\n",
       "      <th>C3</th>\n",
       "      <th>C4</th>\n",
       "      <th>C5</th>\n",
       "      <th>C6</th>\n",
       "      <th>C7</th>\n",
       "    </tr>\n",
       "  </thead>\n",
       "  <tbody>\n",
       "    <tr>\n",
       "      <th>2020-01-08</th>\n",
       "      <td>300.1</td>\n",
       "      <td>320.2</td>\n",
       "      <td>330.3</td>\n",
       "      <td>340.4</td>\n",
       "      <td>350.5</td>\n",
       "      <td>360.6</td>\n",
       "      <td>88</td>\n",
       "    </tr>\n",
       "    <tr>\n",
       "      <th>2020-01-09</th>\n",
       "      <td>410.1</td>\n",
       "      <td>420.2</td>\n",
       "      <td>430.3</td>\n",
       "      <td>440.4</td>\n",
       "      <td>450.5</td>\n",
       "      <td>460.6</td>\n",
       "      <td>41</td>\n",
       "    </tr>\n",
       "  </tbody>\n",
       "</table>\n",
       "</div>"
      ],
      "text/plain": [
       "               C1     C2     C3     C4     C5     C6  C7\n",
       "2020-01-08  300.1  320.2  330.3  340.4  350.5  360.6  88\n",
       "2020-01-09  410.1  420.2  430.3  440.4  450.5  460.6  41"
      ]
     },
     "execution_count": 474,
     "metadata": {},
     "output_type": "execute_result"
    }
   ],
   "source": [
    "dataFrame1[dataFrame1['C7'].isin([41, 88])]"
   ]
  },
  {
   "cell_type": "markdown",
   "metadata": {},
   "source": [
    "### <font color='orange'>Example 3:</font>\n",
    "\n",
    "<font color='#094B91'> In this example we can try to view a data frame with different methods. We can use head method that will return tha 1st five rows of a data frame. </font>\n"
   ]
  },
  {
   "cell_type": "code",
   "execution_count": 475,
   "metadata": {},
   "outputs": [
    {
     "data": {
      "text/html": [
       "<div>\n",
       "<style scoped>\n",
       "    .dataframe tbody tr th:only-of-type {\n",
       "        vertical-align: middle;\n",
       "    }\n",
       "\n",
       "    .dataframe tbody tr th {\n",
       "        vertical-align: top;\n",
       "    }\n",
       "\n",
       "    .dataframe thead th {\n",
       "        text-align: right;\n",
       "    }\n",
       "</style>\n",
       "<table border=\"1\" class=\"dataframe\">\n",
       "  <thead>\n",
       "    <tr style=\"text-align: right;\">\n",
       "      <th></th>\n",
       "      <th>Math</th>\n",
       "      <th>Urdu</th>\n",
       "      <th>Eng</th>\n",
       "      <th>Ch</th>\n",
       "      <th>Isl</th>\n",
       "      <th>Phy</th>\n",
       "    </tr>\n",
       "  </thead>\n",
       "  <tbody>\n",
       "    <tr>\n",
       "      <th>2020-02-01</th>\n",
       "      <td>40.1</td>\n",
       "      <td>35.2</td>\n",
       "      <td>36.3</td>\n",
       "      <td>66.4</td>\n",
       "      <td>50.5</td>\n",
       "      <td>60.6</td>\n",
       "    </tr>\n",
       "    <tr>\n",
       "      <th>2020-02-02</th>\n",
       "      <td>50.1</td>\n",
       "      <td>50.2</td>\n",
       "      <td>53.3</td>\n",
       "      <td>56.4</td>\n",
       "      <td>65.5</td>\n",
       "      <td>55.6</td>\n",
       "    </tr>\n",
       "    <tr>\n",
       "      <th>2020-02-03</th>\n",
       "      <td>60.1</td>\n",
       "      <td>60.2</td>\n",
       "      <td>63.3</td>\n",
       "      <td>74.4</td>\n",
       "      <td>34.5</td>\n",
       "      <td>77.6</td>\n",
       "    </tr>\n",
       "    <tr>\n",
       "      <th>2020-02-04</th>\n",
       "      <td>44.1</td>\n",
       "      <td>44.2</td>\n",
       "      <td>43.3</td>\n",
       "      <td>55.4</td>\n",
       "      <td>54.5</td>\n",
       "      <td>88.6</td>\n",
       "    </tr>\n",
       "    <tr>\n",
       "      <th>2020-02-05</th>\n",
       "      <td>55.1</td>\n",
       "      <td>55.2</td>\n",
       "      <td>53.3</td>\n",
       "      <td>64.4</td>\n",
       "      <td>54.5</td>\n",
       "      <td>34.6</td>\n",
       "    </tr>\n",
       "  </tbody>\n",
       "</table>\n",
       "</div>"
      ],
      "text/plain": [
       "            Math  Urdu   Eng    Ch   Isl   Phy\n",
       "2020-02-01  40.1  35.2  36.3  66.4  50.5  60.6\n",
       "2020-02-02  50.1  50.2  53.3  56.4  65.5  55.6\n",
       "2020-02-03  60.1  60.2  63.3  74.4  34.5  77.6\n",
       "2020-02-04  44.1  44.2  43.3  55.4  54.5  88.6\n",
       "2020-02-05  55.1  55.2  53.3  64.4  54.5  34.6"
      ]
     },
     "execution_count": 475,
     "metadata": {},
     "output_type": "execute_result"
    }
   ],
   "source": [
    "dataFrame2.head()"
   ]
  },
  {
   "cell_type": "markdown",
   "metadata": {},
   "source": [
    "<font color='#094B91'> In this example we use tail() method and we pass the '5' as argument that method will return tha last 3 rows of a data frame. </font>\n"
   ]
  },
  {
   "cell_type": "code",
   "execution_count": 476,
   "metadata": {},
   "outputs": [
    {
     "data": {
      "text/html": [
       "<div>\n",
       "<style scoped>\n",
       "    .dataframe tbody tr th:only-of-type {\n",
       "        vertical-align: middle;\n",
       "    }\n",
       "\n",
       "    .dataframe tbody tr th {\n",
       "        vertical-align: top;\n",
       "    }\n",
       "\n",
       "    .dataframe thead th {\n",
       "        text-align: right;\n",
       "    }\n",
       "</style>\n",
       "<table border=\"1\" class=\"dataframe\">\n",
       "  <thead>\n",
       "    <tr style=\"text-align: right;\">\n",
       "      <th></th>\n",
       "      <th>Math</th>\n",
       "      <th>Urdu</th>\n",
       "      <th>Eng</th>\n",
       "      <th>Ch</th>\n",
       "      <th>Isl</th>\n",
       "      <th>Phy</th>\n",
       "    </tr>\n",
       "  </thead>\n",
       "  <tbody>\n",
       "    <tr>\n",
       "      <th>2020-02-06</th>\n",
       "      <td>66.1</td>\n",
       "      <td>66.2</td>\n",
       "      <td>63.3</td>\n",
       "      <td>68.4</td>\n",
       "      <td>45.5</td>\n",
       "      <td>67.6</td>\n",
       "    </tr>\n",
       "    <tr>\n",
       "      <th>2020-02-07</th>\n",
       "      <td>60.1</td>\n",
       "      <td>60.2</td>\n",
       "      <td>63.3</td>\n",
       "      <td>74.4</td>\n",
       "      <td>34.5</td>\n",
       "      <td>77.6</td>\n",
       "    </tr>\n",
       "    <tr>\n",
       "      <th>2020-02-08</th>\n",
       "      <td>44.1</td>\n",
       "      <td>44.2</td>\n",
       "      <td>43.3</td>\n",
       "      <td>55.4</td>\n",
       "      <td>54.5</td>\n",
       "      <td>88.6</td>\n",
       "    </tr>\n",
       "    <tr>\n",
       "      <th>2020-02-09</th>\n",
       "      <td>55.1</td>\n",
       "      <td>55.2</td>\n",
       "      <td>53.3</td>\n",
       "      <td>64.4</td>\n",
       "      <td>54.5</td>\n",
       "      <td>34.6</td>\n",
       "    </tr>\n",
       "    <tr>\n",
       "      <th>2020-02-10</th>\n",
       "      <td>66.1</td>\n",
       "      <td>66.2</td>\n",
       "      <td>63.3</td>\n",
       "      <td>68.4</td>\n",
       "      <td>45.5</td>\n",
       "      <td>67.6</td>\n",
       "    </tr>\n",
       "  </tbody>\n",
       "</table>\n",
       "</div>"
      ],
      "text/plain": [
       "            Math  Urdu   Eng    Ch   Isl   Phy\n",
       "2020-02-06  66.1  66.2  63.3  68.4  45.5  67.6\n",
       "2020-02-07  60.1  60.2  63.3  74.4  34.5  77.6\n",
       "2020-02-08  44.1  44.2  43.3  55.4  54.5  88.6\n",
       "2020-02-09  55.1  55.2  53.3  64.4  54.5  34.6\n",
       "2020-02-10  66.1  66.2  63.3  68.4  45.5  67.6"
      ]
     },
     "execution_count": 476,
     "metadata": {},
     "output_type": "execute_result"
    }
   ],
   "source": [
    "dataFrame2.tail(5)"
   ]
  },
  {
   "cell_type": "markdown",
   "metadata": {},
   "source": [
    "<font color='#094B91'> In this example we use the dataframe property index that will return all index of the dataframe. </font>\n"
   ]
  },
  {
   "cell_type": "code",
   "execution_count": 477,
   "metadata": {},
   "outputs": [
    {
     "data": {
      "text/plain": [
       "DatetimeIndex(['2020-02-01', '2020-02-02', '2020-02-03', '2020-02-04',\n",
       "               '2020-02-05', '2020-02-06', '2020-02-07', '2020-02-08',\n",
       "               '2020-02-09', '2020-02-10'],\n",
       "              dtype='datetime64[ns]', freq='D')"
      ]
     },
     "execution_count": 477,
     "metadata": {},
     "output_type": "execute_result"
    }
   ],
   "source": [
    "dataFrame2.index"
   ]
  },
  {
   "cell_type": "markdown",
   "metadata": {},
   "source": [
    "<font color='#094B91'> In this example we use columns property that will return all columns name of dataframe. </font>\n"
   ]
  },
  {
   "cell_type": "code",
   "execution_count": 478,
   "metadata": {},
   "outputs": [
    {
     "data": {
      "text/plain": [
       "Index(['Math', 'Urdu', 'Eng', 'Ch', 'Isl', 'Phy'], dtype='object')"
      ]
     },
     "execution_count": 478,
     "metadata": {},
     "output_type": "execute_result"
    }
   ],
   "source": [
    "dataFrame2.columns"
   ]
  },
  {
   "cell_type": "markdown",
   "metadata": {},
   "source": [
    "<font color='#094B91'> In this example we use values property that will return all values as an array of that dataframe. </font>\n"
   ]
  },
  {
   "cell_type": "code",
   "execution_count": 479,
   "metadata": {},
   "outputs": [
    {
     "data": {
      "text/plain": [
       "array([[40.1, 35.2, 36.3, 66.4, 50.5, 60.6],\n",
       "       [50.1, 50.2, 53.3, 56.4, 65.5, 55.6],\n",
       "       [60.1, 60.2, 63.3, 74.4, 34.5, 77.6],\n",
       "       [44.1, 44.2, 43.3, 55.4, 54.5, 88.6],\n",
       "       [55.1, 55.2, 53.3, 64.4, 54.5, 34.6],\n",
       "       [66.1, 66.2, 63.3, 68.4, 45.5, 67.6],\n",
       "       [60.1, 60.2, 63.3, 74.4, 34.5, 77.6],\n",
       "       [44.1, 44.2, 43.3, 55.4, 54.5, 88.6],\n",
       "       [55.1, 55.2, 53.3, 64.4, 54.5, 34.6],\n",
       "       [66.1, 66.2, 63.3, 68.4, 45.5, 67.6]])"
      ]
     },
     "execution_count": 479,
     "metadata": {},
     "output_type": "execute_result"
    }
   ],
   "source": [
    "dataFrame2.values"
   ]
  },
  {
   "cell_type": "markdown",
   "metadata": {},
   "source": [
    "<font color='#094B91'> In this example we use Transpose property that will convert the columns into rows and rows convert into columns. </font>\n"
   ]
  },
  {
   "cell_type": "code",
   "execution_count": 480,
   "metadata": {},
   "outputs": [
    {
     "data": {
      "text/html": [
       "<div>\n",
       "<style scoped>\n",
       "    .dataframe tbody tr th:only-of-type {\n",
       "        vertical-align: middle;\n",
       "    }\n",
       "\n",
       "    .dataframe tbody tr th {\n",
       "        vertical-align: top;\n",
       "    }\n",
       "\n",
       "    .dataframe thead th {\n",
       "        text-align: right;\n",
       "    }\n",
       "</style>\n",
       "<table border=\"1\" class=\"dataframe\">\n",
       "  <thead>\n",
       "    <tr style=\"text-align: right;\">\n",
       "      <th></th>\n",
       "      <th>2020-02-01</th>\n",
       "      <th>2020-02-02</th>\n",
       "      <th>2020-02-03</th>\n",
       "      <th>2020-02-04</th>\n",
       "      <th>2020-02-05</th>\n",
       "      <th>2020-02-06</th>\n",
       "      <th>2020-02-07</th>\n",
       "      <th>2020-02-08</th>\n",
       "      <th>2020-02-09</th>\n",
       "      <th>2020-02-10</th>\n",
       "    </tr>\n",
       "  </thead>\n",
       "  <tbody>\n",
       "    <tr>\n",
       "      <th>Math</th>\n",
       "      <td>40.1</td>\n",
       "      <td>50.1</td>\n",
       "      <td>60.1</td>\n",
       "      <td>44.1</td>\n",
       "      <td>55.1</td>\n",
       "      <td>66.1</td>\n",
       "      <td>60.1</td>\n",
       "      <td>44.1</td>\n",
       "      <td>55.1</td>\n",
       "      <td>66.1</td>\n",
       "    </tr>\n",
       "    <tr>\n",
       "      <th>Urdu</th>\n",
       "      <td>35.2</td>\n",
       "      <td>50.2</td>\n",
       "      <td>60.2</td>\n",
       "      <td>44.2</td>\n",
       "      <td>55.2</td>\n",
       "      <td>66.2</td>\n",
       "      <td>60.2</td>\n",
       "      <td>44.2</td>\n",
       "      <td>55.2</td>\n",
       "      <td>66.2</td>\n",
       "    </tr>\n",
       "    <tr>\n",
       "      <th>Eng</th>\n",
       "      <td>36.3</td>\n",
       "      <td>53.3</td>\n",
       "      <td>63.3</td>\n",
       "      <td>43.3</td>\n",
       "      <td>53.3</td>\n",
       "      <td>63.3</td>\n",
       "      <td>63.3</td>\n",
       "      <td>43.3</td>\n",
       "      <td>53.3</td>\n",
       "      <td>63.3</td>\n",
       "    </tr>\n",
       "    <tr>\n",
       "      <th>Ch</th>\n",
       "      <td>66.4</td>\n",
       "      <td>56.4</td>\n",
       "      <td>74.4</td>\n",
       "      <td>55.4</td>\n",
       "      <td>64.4</td>\n",
       "      <td>68.4</td>\n",
       "      <td>74.4</td>\n",
       "      <td>55.4</td>\n",
       "      <td>64.4</td>\n",
       "      <td>68.4</td>\n",
       "    </tr>\n",
       "    <tr>\n",
       "      <th>Isl</th>\n",
       "      <td>50.5</td>\n",
       "      <td>65.5</td>\n",
       "      <td>34.5</td>\n",
       "      <td>54.5</td>\n",
       "      <td>54.5</td>\n",
       "      <td>45.5</td>\n",
       "      <td>34.5</td>\n",
       "      <td>54.5</td>\n",
       "      <td>54.5</td>\n",
       "      <td>45.5</td>\n",
       "    </tr>\n",
       "    <tr>\n",
       "      <th>Phy</th>\n",
       "      <td>60.6</td>\n",
       "      <td>55.6</td>\n",
       "      <td>77.6</td>\n",
       "      <td>88.6</td>\n",
       "      <td>34.6</td>\n",
       "      <td>67.6</td>\n",
       "      <td>77.6</td>\n",
       "      <td>88.6</td>\n",
       "      <td>34.6</td>\n",
       "      <td>67.6</td>\n",
       "    </tr>\n",
       "  </tbody>\n",
       "</table>\n",
       "</div>"
      ],
      "text/plain": [
       "      2020-02-01  2020-02-02  2020-02-03  2020-02-04  2020-02-05  2020-02-06  \\\n",
       "Math        40.1        50.1        60.1        44.1        55.1        66.1   \n",
       "Urdu        35.2        50.2        60.2        44.2        55.2        66.2   \n",
       "Eng         36.3        53.3        63.3        43.3        53.3        63.3   \n",
       "Ch          66.4        56.4        74.4        55.4        64.4        68.4   \n",
       "Isl         50.5        65.5        34.5        54.5        54.5        45.5   \n",
       "Phy         60.6        55.6        77.6        88.6        34.6        67.6   \n",
       "\n",
       "      2020-02-07  2020-02-08  2020-02-09  2020-02-10  \n",
       "Math        60.1        44.1        55.1        66.1  \n",
       "Urdu        60.2        44.2        55.2        66.2  \n",
       "Eng         63.3        43.3        53.3        63.3  \n",
       "Ch          74.4        55.4        64.4        68.4  \n",
       "Isl         34.5        54.5        54.5        45.5  \n",
       "Phy         77.6        88.6        34.6        67.6  "
      ]
     },
     "execution_count": 480,
     "metadata": {},
     "output_type": "execute_result"
    }
   ],
   "source": [
    " # Transposing your dat\n",
    "dataFrame2.T"
   ]
  },
  {
   "cell_type": "markdown",
   "metadata": {},
   "source": [
    "<font color='#094B91'> In this example we use a method sort_index that will sort all data according the index. </font>\n"
   ]
  },
  {
   "cell_type": "code",
   "execution_count": 481,
   "metadata": {},
   "outputs": [
    {
     "data": {
      "text/html": [
       "<div>\n",
       "<style scoped>\n",
       "    .dataframe tbody tr th:only-of-type {\n",
       "        vertical-align: middle;\n",
       "    }\n",
       "\n",
       "    .dataframe tbody tr th {\n",
       "        vertical-align: top;\n",
       "    }\n",
       "\n",
       "    .dataframe thead th {\n",
       "        text-align: right;\n",
       "    }\n",
       "</style>\n",
       "<table border=\"1\" class=\"dataframe\">\n",
       "  <thead>\n",
       "    <tr style=\"text-align: right;\">\n",
       "      <th></th>\n",
       "      <th>Math</th>\n",
       "      <th>Urdu</th>\n",
       "      <th>Eng</th>\n",
       "      <th>Ch</th>\n",
       "      <th>Isl</th>\n",
       "      <th>Phy</th>\n",
       "    </tr>\n",
       "  </thead>\n",
       "  <tbody>\n",
       "    <tr>\n",
       "      <th>2020-02-10</th>\n",
       "      <td>66.1</td>\n",
       "      <td>66.2</td>\n",
       "      <td>63.3</td>\n",
       "      <td>68.4</td>\n",
       "      <td>45.5</td>\n",
       "      <td>67.6</td>\n",
       "    </tr>\n",
       "    <tr>\n",
       "      <th>2020-02-09</th>\n",
       "      <td>55.1</td>\n",
       "      <td>55.2</td>\n",
       "      <td>53.3</td>\n",
       "      <td>64.4</td>\n",
       "      <td>54.5</td>\n",
       "      <td>34.6</td>\n",
       "    </tr>\n",
       "    <tr>\n",
       "      <th>2020-02-08</th>\n",
       "      <td>44.1</td>\n",
       "      <td>44.2</td>\n",
       "      <td>43.3</td>\n",
       "      <td>55.4</td>\n",
       "      <td>54.5</td>\n",
       "      <td>88.6</td>\n",
       "    </tr>\n",
       "    <tr>\n",
       "      <th>2020-02-07</th>\n",
       "      <td>60.1</td>\n",
       "      <td>60.2</td>\n",
       "      <td>63.3</td>\n",
       "      <td>74.4</td>\n",
       "      <td>34.5</td>\n",
       "      <td>77.6</td>\n",
       "    </tr>\n",
       "    <tr>\n",
       "      <th>2020-02-06</th>\n",
       "      <td>66.1</td>\n",
       "      <td>66.2</td>\n",
       "      <td>63.3</td>\n",
       "      <td>68.4</td>\n",
       "      <td>45.5</td>\n",
       "      <td>67.6</td>\n",
       "    </tr>\n",
       "    <tr>\n",
       "      <th>2020-02-05</th>\n",
       "      <td>55.1</td>\n",
       "      <td>55.2</td>\n",
       "      <td>53.3</td>\n",
       "      <td>64.4</td>\n",
       "      <td>54.5</td>\n",
       "      <td>34.6</td>\n",
       "    </tr>\n",
       "    <tr>\n",
       "      <th>2020-02-04</th>\n",
       "      <td>44.1</td>\n",
       "      <td>44.2</td>\n",
       "      <td>43.3</td>\n",
       "      <td>55.4</td>\n",
       "      <td>54.5</td>\n",
       "      <td>88.6</td>\n",
       "    </tr>\n",
       "    <tr>\n",
       "      <th>2020-02-03</th>\n",
       "      <td>60.1</td>\n",
       "      <td>60.2</td>\n",
       "      <td>63.3</td>\n",
       "      <td>74.4</td>\n",
       "      <td>34.5</td>\n",
       "      <td>77.6</td>\n",
       "    </tr>\n",
       "    <tr>\n",
       "      <th>2020-02-02</th>\n",
       "      <td>50.1</td>\n",
       "      <td>50.2</td>\n",
       "      <td>53.3</td>\n",
       "      <td>56.4</td>\n",
       "      <td>65.5</td>\n",
       "      <td>55.6</td>\n",
       "    </tr>\n",
       "    <tr>\n",
       "      <th>2020-02-01</th>\n",
       "      <td>40.1</td>\n",
       "      <td>35.2</td>\n",
       "      <td>36.3</td>\n",
       "      <td>66.4</td>\n",
       "      <td>50.5</td>\n",
       "      <td>60.6</td>\n",
       "    </tr>\n",
       "  </tbody>\n",
       "</table>\n",
       "</div>"
      ],
      "text/plain": [
       "            Math  Urdu   Eng    Ch   Isl   Phy\n",
       "2020-02-10  66.1  66.2  63.3  68.4  45.5  67.6\n",
       "2020-02-09  55.1  55.2  53.3  64.4  54.5  34.6\n",
       "2020-02-08  44.1  44.2  43.3  55.4  54.5  88.6\n",
       "2020-02-07  60.1  60.2  63.3  74.4  34.5  77.6\n",
       "2020-02-06  66.1  66.2  63.3  68.4  45.5  67.6\n",
       "2020-02-05  55.1  55.2  53.3  64.4  54.5  34.6\n",
       "2020-02-04  44.1  44.2  43.3  55.4  54.5  88.6\n",
       "2020-02-03  60.1  60.2  63.3  74.4  34.5  77.6\n",
       "2020-02-02  50.1  50.2  53.3  56.4  65.5  55.6\n",
       "2020-02-01  40.1  35.2  36.3  66.4  50.5  60.6"
      ]
     },
     "execution_count": 481,
     "metadata": {},
     "output_type": "execute_result"
    }
   ],
   "source": [
    " #Sorting by an axis\n",
    "dataFrame2.sort_index(axis=0,ascending=False)"
   ]
  },
  {
   "cell_type": "markdown",
   "metadata": {},
   "source": [
    "<font color='#094B91'> In this example we use a method sort_values that will sort all data according the values. </font>\n"
   ]
  },
  {
   "cell_type": "code",
   "execution_count": 482,
   "metadata": {},
   "outputs": [
    {
     "data": {
      "text/html": [
       "<div>\n",
       "<style scoped>\n",
       "    .dataframe tbody tr th:only-of-type {\n",
       "        vertical-align: middle;\n",
       "    }\n",
       "\n",
       "    .dataframe tbody tr th {\n",
       "        vertical-align: top;\n",
       "    }\n",
       "\n",
       "    .dataframe thead th {\n",
       "        text-align: right;\n",
       "    }\n",
       "</style>\n",
       "<table border=\"1\" class=\"dataframe\">\n",
       "  <thead>\n",
       "    <tr style=\"text-align: right;\">\n",
       "      <th></th>\n",
       "      <th>Math</th>\n",
       "      <th>Urdu</th>\n",
       "      <th>Eng</th>\n",
       "      <th>Ch</th>\n",
       "      <th>Isl</th>\n",
       "      <th>Phy</th>\n",
       "    </tr>\n",
       "  </thead>\n",
       "  <tbody>\n",
       "    <tr>\n",
       "      <th>2020-02-01</th>\n",
       "      <td>40.1</td>\n",
       "      <td>35.2</td>\n",
       "      <td>36.3</td>\n",
       "      <td>66.4</td>\n",
       "      <td>50.5</td>\n",
       "      <td>60.6</td>\n",
       "    </tr>\n",
       "    <tr>\n",
       "      <th>2020-02-04</th>\n",
       "      <td>44.1</td>\n",
       "      <td>44.2</td>\n",
       "      <td>43.3</td>\n",
       "      <td>55.4</td>\n",
       "      <td>54.5</td>\n",
       "      <td>88.6</td>\n",
       "    </tr>\n",
       "    <tr>\n",
       "      <th>2020-02-08</th>\n",
       "      <td>44.1</td>\n",
       "      <td>44.2</td>\n",
       "      <td>43.3</td>\n",
       "      <td>55.4</td>\n",
       "      <td>54.5</td>\n",
       "      <td>88.6</td>\n",
       "    </tr>\n",
       "    <tr>\n",
       "      <th>2020-02-02</th>\n",
       "      <td>50.1</td>\n",
       "      <td>50.2</td>\n",
       "      <td>53.3</td>\n",
       "      <td>56.4</td>\n",
       "      <td>65.5</td>\n",
       "      <td>55.6</td>\n",
       "    </tr>\n",
       "    <tr>\n",
       "      <th>2020-02-05</th>\n",
       "      <td>55.1</td>\n",
       "      <td>55.2</td>\n",
       "      <td>53.3</td>\n",
       "      <td>64.4</td>\n",
       "      <td>54.5</td>\n",
       "      <td>34.6</td>\n",
       "    </tr>\n",
       "    <tr>\n",
       "      <th>2020-02-09</th>\n",
       "      <td>55.1</td>\n",
       "      <td>55.2</td>\n",
       "      <td>53.3</td>\n",
       "      <td>64.4</td>\n",
       "      <td>54.5</td>\n",
       "      <td>34.6</td>\n",
       "    </tr>\n",
       "    <tr>\n",
       "      <th>2020-02-03</th>\n",
       "      <td>60.1</td>\n",
       "      <td>60.2</td>\n",
       "      <td>63.3</td>\n",
       "      <td>74.4</td>\n",
       "      <td>34.5</td>\n",
       "      <td>77.6</td>\n",
       "    </tr>\n",
       "    <tr>\n",
       "      <th>2020-02-07</th>\n",
       "      <td>60.1</td>\n",
       "      <td>60.2</td>\n",
       "      <td>63.3</td>\n",
       "      <td>74.4</td>\n",
       "      <td>34.5</td>\n",
       "      <td>77.6</td>\n",
       "    </tr>\n",
       "    <tr>\n",
       "      <th>2020-02-06</th>\n",
       "      <td>66.1</td>\n",
       "      <td>66.2</td>\n",
       "      <td>63.3</td>\n",
       "      <td>68.4</td>\n",
       "      <td>45.5</td>\n",
       "      <td>67.6</td>\n",
       "    </tr>\n",
       "    <tr>\n",
       "      <th>2020-02-10</th>\n",
       "      <td>66.1</td>\n",
       "      <td>66.2</td>\n",
       "      <td>63.3</td>\n",
       "      <td>68.4</td>\n",
       "      <td>45.5</td>\n",
       "      <td>67.6</td>\n",
       "    </tr>\n",
       "  </tbody>\n",
       "</table>\n",
       "</div>"
      ],
      "text/plain": [
       "            Math  Urdu   Eng    Ch   Isl   Phy\n",
       "2020-02-01  40.1  35.2  36.3  66.4  50.5  60.6\n",
       "2020-02-04  44.1  44.2  43.3  55.4  54.5  88.6\n",
       "2020-02-08  44.1  44.2  43.3  55.4  54.5  88.6\n",
       "2020-02-02  50.1  50.2  53.3  56.4  65.5  55.6\n",
       "2020-02-05  55.1  55.2  53.3  64.4  54.5  34.6\n",
       "2020-02-09  55.1  55.2  53.3  64.4  54.5  34.6\n",
       "2020-02-03  60.1  60.2  63.3  74.4  34.5  77.6\n",
       "2020-02-07  60.1  60.2  63.3  74.4  34.5  77.6\n",
       "2020-02-06  66.1  66.2  63.3  68.4  45.5  67.6\n",
       "2020-02-10  66.1  66.2  63.3  68.4  45.5  67.6"
      ]
     },
     "execution_count": 482,
     "metadata": {},
     "output_type": "execute_result"
    }
   ],
   "source": [
    " #Sorting by values\n",
    "dataFrame2.sort_values(by='Math')"
   ]
  },
  {
   "cell_type": "markdown",
   "metadata": {},
   "source": [
    "<font color='#094B91'> In this example we use a method describe() that will show the statistic summary or dataframe. </font>\n"
   ]
  },
  {
   "cell_type": "code",
   "execution_count": 483,
   "metadata": {},
   "outputs": [
    {
     "data": {
      "text/html": [
       "<div>\n",
       "<style scoped>\n",
       "    .dataframe tbody tr th:only-of-type {\n",
       "        vertical-align: middle;\n",
       "    }\n",
       "\n",
       "    .dataframe tbody tr th {\n",
       "        vertical-align: top;\n",
       "    }\n",
       "\n",
       "    .dataframe thead th {\n",
       "        text-align: right;\n",
       "    }\n",
       "</style>\n",
       "<table border=\"1\" class=\"dataframe\">\n",
       "  <thead>\n",
       "    <tr style=\"text-align: right;\">\n",
       "      <th></th>\n",
       "      <th>Math</th>\n",
       "      <th>Urdu</th>\n",
       "      <th>Eng</th>\n",
       "      <th>Ch</th>\n",
       "      <th>Isl</th>\n",
       "      <th>Phy</th>\n",
       "    </tr>\n",
       "  </thead>\n",
       "  <tbody>\n",
       "    <tr>\n",
       "      <th>count</th>\n",
       "      <td>10.000000</td>\n",
       "      <td>10.000000</td>\n",
       "      <td>10.000000</td>\n",
       "      <td>10.000000</td>\n",
       "      <td>10.00000</td>\n",
       "      <td>10.000000</td>\n",
       "    </tr>\n",
       "    <tr>\n",
       "      <th>mean</th>\n",
       "      <td>54.100000</td>\n",
       "      <td>53.700000</td>\n",
       "      <td>53.600000</td>\n",
       "      <td>64.800000</td>\n",
       "      <td>49.40000</td>\n",
       "      <td>65.300000</td>\n",
       "    </tr>\n",
       "    <tr>\n",
       "      <th>std</th>\n",
       "      <td>9.273618</td>\n",
       "      <td>10.200762</td>\n",
       "      <td>9.933669</td>\n",
       "      <td>7.152311</td>\n",
       "      <td>9.65459</td>\n",
       "      <td>19.436792</td>\n",
       "    </tr>\n",
       "    <tr>\n",
       "      <th>min</th>\n",
       "      <td>40.100000</td>\n",
       "      <td>35.200000</td>\n",
       "      <td>36.300000</td>\n",
       "      <td>55.400000</td>\n",
       "      <td>34.50000</td>\n",
       "      <td>34.600000</td>\n",
       "    </tr>\n",
       "    <tr>\n",
       "      <th>25%</th>\n",
       "      <td>45.600000</td>\n",
       "      <td>45.700000</td>\n",
       "      <td>45.800000</td>\n",
       "      <td>58.400000</td>\n",
       "      <td>45.50000</td>\n",
       "      <td>56.850000</td>\n",
       "    </tr>\n",
       "    <tr>\n",
       "      <th>50%</th>\n",
       "      <td>55.100000</td>\n",
       "      <td>55.200000</td>\n",
       "      <td>53.300000</td>\n",
       "      <td>65.400000</td>\n",
       "      <td>52.50000</td>\n",
       "      <td>67.600000</td>\n",
       "    </tr>\n",
       "    <tr>\n",
       "      <th>75%</th>\n",
       "      <td>60.100000</td>\n",
       "      <td>60.200000</td>\n",
       "      <td>63.300000</td>\n",
       "      <td>68.400000</td>\n",
       "      <td>54.50000</td>\n",
       "      <td>77.600000</td>\n",
       "    </tr>\n",
       "    <tr>\n",
       "      <th>max</th>\n",
       "      <td>66.100000</td>\n",
       "      <td>66.200000</td>\n",
       "      <td>63.300000</td>\n",
       "      <td>74.400000</td>\n",
       "      <td>65.50000</td>\n",
       "      <td>88.600000</td>\n",
       "    </tr>\n",
       "  </tbody>\n",
       "</table>\n",
       "</div>"
      ],
      "text/plain": [
       "            Math       Urdu        Eng         Ch       Isl        Phy\n",
       "count  10.000000  10.000000  10.000000  10.000000  10.00000  10.000000\n",
       "mean   54.100000  53.700000  53.600000  64.800000  49.40000  65.300000\n",
       "std     9.273618  10.200762   9.933669   7.152311   9.65459  19.436792\n",
       "min    40.100000  35.200000  36.300000  55.400000  34.50000  34.600000\n",
       "25%    45.600000  45.700000  45.800000  58.400000  45.50000  56.850000\n",
       "50%    55.100000  55.200000  53.300000  65.400000  52.50000  67.600000\n",
       "75%    60.100000  60.200000  63.300000  68.400000  54.50000  77.600000\n",
       "max    66.100000  66.200000  63.300000  74.400000  65.50000  88.600000"
      ]
     },
     "execution_count": 483,
     "metadata": {},
     "output_type": "execute_result"
    }
   ],
   "source": [
    "# Describe shows a quick statistic summary of your data\n",
    "dataFrame2.describe()"
   ]
  },
  {
   "cell_type": "markdown",
   "metadata": {},
   "source": [
    "<font color='#094B91'> In this example we pass a column name that will return tha that specific column as a pandas series. </font>\n"
   ]
  },
  {
   "cell_type": "code",
   "execution_count": 484,
   "metadata": {},
   "outputs": [
    {
     "data": {
      "text/plain": [
       "2020-02-01    40.1\n",
       "2020-02-02    50.1\n",
       "2020-02-03    60.1\n",
       "2020-02-04    44.1\n",
       "2020-02-05    55.1\n",
       "2020-02-06    66.1\n",
       "2020-02-07    60.1\n",
       "2020-02-08    44.1\n",
       "2020-02-09    55.1\n",
       "2020-02-10    66.1\n",
       "Freq: D, Name: Math, dtype: float64"
      ]
     },
     "execution_count": 484,
     "metadata": {},
     "output_type": "execute_result"
    }
   ],
   "source": [
    "#Selecting a single column, which yields a Series, equivalent to df.A\n",
    "\n",
    "dataFrame2['Math']"
   ]
  },
  {
   "cell_type": "markdown",
   "metadata": {},
   "source": [
    "<font color='#094B91'> In this example we show some specific columns using colon : (slices). </font>"
   ]
  },
  {
   "cell_type": "code",
   "execution_count": 485,
   "metadata": {},
   "outputs": [
    {
     "data": {
      "text/html": [
       "<div>\n",
       "<style scoped>\n",
       "    .dataframe tbody tr th:only-of-type {\n",
       "        vertical-align: middle;\n",
       "    }\n",
       "\n",
       "    .dataframe tbody tr th {\n",
       "        vertical-align: top;\n",
       "    }\n",
       "\n",
       "    .dataframe thead th {\n",
       "        text-align: right;\n",
       "    }\n",
       "</style>\n",
       "<table border=\"1\" class=\"dataframe\">\n",
       "  <thead>\n",
       "    <tr style=\"text-align: right;\">\n",
       "      <th></th>\n",
       "      <th>Math</th>\n",
       "      <th>Urdu</th>\n",
       "      <th>Eng</th>\n",
       "      <th>Ch</th>\n",
       "      <th>Isl</th>\n",
       "      <th>Phy</th>\n",
       "    </tr>\n",
       "  </thead>\n",
       "  <tbody>\n",
       "    <tr>\n",
       "      <th>2020-02-03</th>\n",
       "      <td>60.1</td>\n",
       "      <td>60.2</td>\n",
       "      <td>63.3</td>\n",
       "      <td>74.4</td>\n",
       "      <td>34.5</td>\n",
       "      <td>77.6</td>\n",
       "    </tr>\n",
       "    <tr>\n",
       "      <th>2020-02-04</th>\n",
       "      <td>44.1</td>\n",
       "      <td>44.2</td>\n",
       "      <td>43.3</td>\n",
       "      <td>55.4</td>\n",
       "      <td>54.5</td>\n",
       "      <td>88.6</td>\n",
       "    </tr>\n",
       "    <tr>\n",
       "      <th>2020-02-05</th>\n",
       "      <td>55.1</td>\n",
       "      <td>55.2</td>\n",
       "      <td>53.3</td>\n",
       "      <td>64.4</td>\n",
       "      <td>54.5</td>\n",
       "      <td>34.6</td>\n",
       "    </tr>\n",
       "    <tr>\n",
       "      <th>2020-02-06</th>\n",
       "      <td>66.1</td>\n",
       "      <td>66.2</td>\n",
       "      <td>63.3</td>\n",
       "      <td>68.4</td>\n",
       "      <td>45.5</td>\n",
       "      <td>67.6</td>\n",
       "    </tr>\n",
       "    <tr>\n",
       "      <th>2020-02-07</th>\n",
       "      <td>60.1</td>\n",
       "      <td>60.2</td>\n",
       "      <td>63.3</td>\n",
       "      <td>74.4</td>\n",
       "      <td>34.5</td>\n",
       "      <td>77.6</td>\n",
       "    </tr>\n",
       "  </tbody>\n",
       "</table>\n",
       "</div>"
      ],
      "text/plain": [
       "            Math  Urdu   Eng    Ch   Isl   Phy\n",
       "2020-02-03  60.1  60.2  63.3  74.4  34.5  77.6\n",
       "2020-02-04  44.1  44.2  43.3  55.4  54.5  88.6\n",
       "2020-02-05  55.1  55.2  53.3  64.4  54.5  34.6\n",
       "2020-02-06  66.1  66.2  63.3  68.4  45.5  67.6\n",
       "2020-02-07  60.1  60.2  63.3  74.4  34.5  77.6"
      ]
     },
     "execution_count": 485,
     "metadata": {},
     "output_type": "execute_result"
    }
   ],
   "source": [
    "#Selecting via [], which slices the rows.\n",
    "\n",
    "dataFrame2[2:7]"
   ]
  },
  {
   "cell_type": "markdown",
   "metadata": {},
   "source": [
    "- add an index coulmn"
   ]
  },
  {
   "cell_type": "code",
   "execution_count": 486,
   "metadata": {},
   "outputs": [],
   "source": [
    "dataFrame2 = dataFrame2.from_records(dataFrame2, index=DateArray2)"
   ]
  },
  {
   "cell_type": "code",
   "execution_count": 487,
   "metadata": {},
   "outputs": [
    {
     "data": {
      "text/plain": [
       "DatetimeIndex(['2020-02-01', '2020-02-02', '2020-02-03', '2020-02-04',\n",
       "               '2020-02-05', '2020-02-06', '2020-02-07', '2020-02-08',\n",
       "               '2020-02-09', '2020-02-10'],\n",
       "              dtype='datetime64[ns]', freq='D')"
      ]
     },
     "execution_count": 487,
     "metadata": {},
     "output_type": "execute_result"
    }
   ],
   "source": [
    "dataFrame2.index"
   ]
  },
  {
   "cell_type": "code",
   "execution_count": 488,
   "metadata": {},
   "outputs": [
    {
     "data": {
      "text/html": [
       "<div>\n",
       "<style scoped>\n",
       "    .dataframe tbody tr th:only-of-type {\n",
       "        vertical-align: middle;\n",
       "    }\n",
       "\n",
       "    .dataframe tbody tr th {\n",
       "        vertical-align: top;\n",
       "    }\n",
       "\n",
       "    .dataframe thead th {\n",
       "        text-align: right;\n",
       "    }\n",
       "</style>\n",
       "<table border=\"1\" class=\"dataframe\">\n",
       "  <thead>\n",
       "    <tr style=\"text-align: right;\">\n",
       "      <th></th>\n",
       "      <th>Math</th>\n",
       "      <th>Urdu</th>\n",
       "      <th>Eng</th>\n",
       "      <th>Ch</th>\n",
       "      <th>Isl</th>\n",
       "      <th>Phy</th>\n",
       "    </tr>\n",
       "  </thead>\n",
       "  <tbody>\n",
       "    <tr>\n",
       "      <th>2020-02-01</th>\n",
       "      <td>40.1</td>\n",
       "      <td>35.2</td>\n",
       "      <td>36.3</td>\n",
       "      <td>66.4</td>\n",
       "      <td>50.5</td>\n",
       "      <td>60.6</td>\n",
       "    </tr>\n",
       "    <tr>\n",
       "      <th>2020-02-02</th>\n",
       "      <td>50.1</td>\n",
       "      <td>50.2</td>\n",
       "      <td>53.3</td>\n",
       "      <td>56.4</td>\n",
       "      <td>65.5</td>\n",
       "      <td>55.6</td>\n",
       "    </tr>\n",
       "    <tr>\n",
       "      <th>2020-02-03</th>\n",
       "      <td>60.1</td>\n",
       "      <td>60.2</td>\n",
       "      <td>63.3</td>\n",
       "      <td>74.4</td>\n",
       "      <td>34.5</td>\n",
       "      <td>77.6</td>\n",
       "    </tr>\n",
       "    <tr>\n",
       "      <th>2020-02-04</th>\n",
       "      <td>44.1</td>\n",
       "      <td>44.2</td>\n",
       "      <td>43.3</td>\n",
       "      <td>55.4</td>\n",
       "      <td>54.5</td>\n",
       "      <td>88.6</td>\n",
       "    </tr>\n",
       "    <tr>\n",
       "      <th>2020-02-05</th>\n",
       "      <td>55.1</td>\n",
       "      <td>55.2</td>\n",
       "      <td>53.3</td>\n",
       "      <td>64.4</td>\n",
       "      <td>54.5</td>\n",
       "      <td>34.6</td>\n",
       "    </tr>\n",
       "    <tr>\n",
       "      <th>2020-02-06</th>\n",
       "      <td>66.1</td>\n",
       "      <td>66.2</td>\n",
       "      <td>63.3</td>\n",
       "      <td>68.4</td>\n",
       "      <td>45.5</td>\n",
       "      <td>67.6</td>\n",
       "    </tr>\n",
       "    <tr>\n",
       "      <th>2020-02-07</th>\n",
       "      <td>60.1</td>\n",
       "      <td>60.2</td>\n",
       "      <td>63.3</td>\n",
       "      <td>74.4</td>\n",
       "      <td>34.5</td>\n",
       "      <td>77.6</td>\n",
       "    </tr>\n",
       "    <tr>\n",
       "      <th>2020-02-08</th>\n",
       "      <td>44.1</td>\n",
       "      <td>44.2</td>\n",
       "      <td>43.3</td>\n",
       "      <td>55.4</td>\n",
       "      <td>54.5</td>\n",
       "      <td>88.6</td>\n",
       "    </tr>\n",
       "    <tr>\n",
       "      <th>2020-02-09</th>\n",
       "      <td>55.1</td>\n",
       "      <td>55.2</td>\n",
       "      <td>53.3</td>\n",
       "      <td>64.4</td>\n",
       "      <td>54.5</td>\n",
       "      <td>34.6</td>\n",
       "    </tr>\n",
       "    <tr>\n",
       "      <th>2020-02-10</th>\n",
       "      <td>66.1</td>\n",
       "      <td>66.2</td>\n",
       "      <td>63.3</td>\n",
       "      <td>68.4</td>\n",
       "      <td>45.5</td>\n",
       "      <td>67.6</td>\n",
       "    </tr>\n",
       "  </tbody>\n",
       "</table>\n",
       "</div>"
      ],
      "text/plain": [
       "            Math  Urdu   Eng    Ch   Isl   Phy\n",
       "2020-02-01  40.1  35.2  36.3  66.4  50.5  60.6\n",
       "2020-02-02  50.1  50.2  53.3  56.4  65.5  55.6\n",
       "2020-02-03  60.1  60.2  63.3  74.4  34.5  77.6\n",
       "2020-02-04  44.1  44.2  43.3  55.4  54.5  88.6\n",
       "2020-02-05  55.1  55.2  53.3  64.4  54.5  34.6\n",
       "2020-02-06  66.1  66.2  63.3  68.4  45.5  67.6\n",
       "2020-02-07  60.1  60.2  63.3  74.4  34.5  77.6\n",
       "2020-02-08  44.1  44.2  43.3  55.4  54.5  88.6\n",
       "2020-02-09  55.1  55.2  53.3  64.4  54.5  34.6\n",
       "2020-02-10  66.1  66.2  63.3  68.4  45.5  67.6"
      ]
     },
     "execution_count": 488,
     "metadata": {},
     "output_type": "execute_result"
    }
   ],
   "source": [
    "dataFrame2"
   ]
  },
  {
   "cell_type": "markdown",
   "metadata": {},
   "source": [
    "<font color='#094B91'> In this example we show some specific data between a specific date. </font>\n"
   ]
  },
  {
   "cell_type": "code",
   "execution_count": 489,
   "metadata": {},
   "outputs": [
    {
     "data": {
      "text/html": [
       "<div>\n",
       "<style scoped>\n",
       "    .dataframe tbody tr th:only-of-type {\n",
       "        vertical-align: middle;\n",
       "    }\n",
       "\n",
       "    .dataframe tbody tr th {\n",
       "        vertical-align: top;\n",
       "    }\n",
       "\n",
       "    .dataframe thead th {\n",
       "        text-align: right;\n",
       "    }\n",
       "</style>\n",
       "<table border=\"1\" class=\"dataframe\">\n",
       "  <thead>\n",
       "    <tr style=\"text-align: right;\">\n",
       "      <th></th>\n",
       "      <th>Math</th>\n",
       "      <th>Urdu</th>\n",
       "      <th>Eng</th>\n",
       "      <th>Ch</th>\n",
       "      <th>Isl</th>\n",
       "      <th>Phy</th>\n",
       "    </tr>\n",
       "  </thead>\n",
       "  <tbody>\n",
       "    <tr>\n",
       "      <th>2020-02-01</th>\n",
       "      <td>40.1</td>\n",
       "      <td>35.2</td>\n",
       "      <td>36.3</td>\n",
       "      <td>66.4</td>\n",
       "      <td>50.5</td>\n",
       "      <td>60.6</td>\n",
       "    </tr>\n",
       "    <tr>\n",
       "      <th>2020-02-02</th>\n",
       "      <td>50.1</td>\n",
       "      <td>50.2</td>\n",
       "      <td>53.3</td>\n",
       "      <td>56.4</td>\n",
       "      <td>65.5</td>\n",
       "      <td>55.6</td>\n",
       "    </tr>\n",
       "    <tr>\n",
       "      <th>2020-02-03</th>\n",
       "      <td>60.1</td>\n",
       "      <td>60.2</td>\n",
       "      <td>63.3</td>\n",
       "      <td>74.4</td>\n",
       "      <td>34.5</td>\n",
       "      <td>77.6</td>\n",
       "    </tr>\n",
       "    <tr>\n",
       "      <th>2020-02-04</th>\n",
       "      <td>44.1</td>\n",
       "      <td>44.2</td>\n",
       "      <td>43.3</td>\n",
       "      <td>55.4</td>\n",
       "      <td>54.5</td>\n",
       "      <td>88.6</td>\n",
       "    </tr>\n",
       "    <tr>\n",
       "      <th>2020-02-05</th>\n",
       "      <td>55.1</td>\n",
       "      <td>55.2</td>\n",
       "      <td>53.3</td>\n",
       "      <td>64.4</td>\n",
       "      <td>54.5</td>\n",
       "      <td>34.6</td>\n",
       "    </tr>\n",
       "    <tr>\n",
       "      <th>2020-02-06</th>\n",
       "      <td>66.1</td>\n",
       "      <td>66.2</td>\n",
       "      <td>63.3</td>\n",
       "      <td>68.4</td>\n",
       "      <td>45.5</td>\n",
       "      <td>67.6</td>\n",
       "    </tr>\n",
       "  </tbody>\n",
       "</table>\n",
       "</div>"
      ],
      "text/plain": [
       "            Math  Urdu   Eng    Ch   Isl   Phy\n",
       "2020-02-01  40.1  35.2  36.3  66.4  50.5  60.6\n",
       "2020-02-02  50.1  50.2  53.3  56.4  65.5  55.6\n",
       "2020-02-03  60.1  60.2  63.3  74.4  34.5  77.6\n",
       "2020-02-04  44.1  44.2  43.3  55.4  54.5  88.6\n",
       "2020-02-05  55.1  55.2  53.3  64.4  54.5  34.6\n",
       "2020-02-06  66.1  66.2  63.3  68.4  45.5  67.6"
      ]
     },
     "execution_count": 489,
     "metadata": {},
     "output_type": "execute_result"
    }
   ],
   "source": [
    "dataFrame2['20200201':'20200206']"
   ]
  },
  {
   "cell_type": "markdown",
   "metadata": {},
   "source": [
    "<font color='#094B91'> In this example we show some specific data between a range and we show specific columns. </font>\n"
   ]
  },
  {
   "cell_type": "code",
   "execution_count": 490,
   "metadata": {},
   "outputs": [
    {
     "data": {
      "text/html": [
       "<div>\n",
       "<style scoped>\n",
       "    .dataframe tbody tr th:only-of-type {\n",
       "        vertical-align: middle;\n",
       "    }\n",
       "\n",
       "    .dataframe tbody tr th {\n",
       "        vertical-align: top;\n",
       "    }\n",
       "\n",
       "    .dataframe thead th {\n",
       "        text-align: right;\n",
       "    }\n",
       "</style>\n",
       "<table border=\"1\" class=\"dataframe\">\n",
       "  <thead>\n",
       "    <tr style=\"text-align: right;\">\n",
       "      <th></th>\n",
       "      <th>Math</th>\n",
       "      <th>Eng</th>\n",
       "    </tr>\n",
       "  </thead>\n",
       "  <tbody>\n",
       "    <tr>\n",
       "      <th>2020-02-01</th>\n",
       "      <td>40.1</td>\n",
       "      <td>36.3</td>\n",
       "    </tr>\n",
       "    <tr>\n",
       "      <th>2020-02-02</th>\n",
       "      <td>50.1</td>\n",
       "      <td>53.3</td>\n",
       "    </tr>\n",
       "    <tr>\n",
       "      <th>2020-02-03</th>\n",
       "      <td>60.1</td>\n",
       "      <td>63.3</td>\n",
       "    </tr>\n",
       "    <tr>\n",
       "      <th>2020-02-04</th>\n",
       "      <td>44.1</td>\n",
       "      <td>43.3</td>\n",
       "    </tr>\n",
       "    <tr>\n",
       "      <th>2020-02-05</th>\n",
       "      <td>55.1</td>\n",
       "      <td>53.3</td>\n",
       "    </tr>\n",
       "    <tr>\n",
       "      <th>2020-02-06</th>\n",
       "      <td>66.1</td>\n",
       "      <td>63.3</td>\n",
       "    </tr>\n",
       "    <tr>\n",
       "      <th>2020-02-07</th>\n",
       "      <td>60.1</td>\n",
       "      <td>63.3</td>\n",
       "    </tr>\n",
       "    <tr>\n",
       "      <th>2020-02-08</th>\n",
       "      <td>44.1</td>\n",
       "      <td>43.3</td>\n",
       "    </tr>\n",
       "    <tr>\n",
       "      <th>2020-02-09</th>\n",
       "      <td>55.1</td>\n",
       "      <td>53.3</td>\n",
       "    </tr>\n",
       "    <tr>\n",
       "      <th>2020-02-10</th>\n",
       "      <td>66.1</td>\n",
       "      <td>63.3</td>\n",
       "    </tr>\n",
       "  </tbody>\n",
       "</table>\n",
       "</div>"
      ],
      "text/plain": [
       "            Math   Eng\n",
       "2020-02-01  40.1  36.3\n",
       "2020-02-02  50.1  53.3\n",
       "2020-02-03  60.1  63.3\n",
       "2020-02-04  44.1  43.3\n",
       "2020-02-05  55.1  53.3\n",
       "2020-02-06  66.1  63.3\n",
       "2020-02-07  60.1  63.3\n",
       "2020-02-08  44.1  43.3\n",
       "2020-02-09  55.1  53.3\n",
       "2020-02-10  66.1  63.3"
      ]
     },
     "execution_count": 490,
     "metadata": {},
     "output_type": "execute_result"
    }
   ],
   "source": [
    "#Selecting on a multi-axis by label\n",
    "\n",
    "dataFrame2.loc[:,['Math','Eng']]"
   ]
  },
  {
   "cell_type": "markdown",
   "metadata": {},
   "source": [
    "<font color='#094B91'> In this example we show some specific data between a specific dat and we show just two columns. </font>\n"
   ]
  },
  {
   "cell_type": "code",
   "execution_count": 491,
   "metadata": {},
   "outputs": [
    {
     "data": {
      "text/html": [
       "<div>\n",
       "<style scoped>\n",
       "    .dataframe tbody tr th:only-of-type {\n",
       "        vertical-align: middle;\n",
       "    }\n",
       "\n",
       "    .dataframe tbody tr th {\n",
       "        vertical-align: top;\n",
       "    }\n",
       "\n",
       "    .dataframe thead th {\n",
       "        text-align: right;\n",
       "    }\n",
       "</style>\n",
       "<table border=\"1\" class=\"dataframe\">\n",
       "  <thead>\n",
       "    <tr style=\"text-align: right;\">\n",
       "      <th></th>\n",
       "      <th>Math</th>\n",
       "      <th>Eng</th>\n",
       "    </tr>\n",
       "  </thead>\n",
       "  <tbody>\n",
       "    <tr>\n",
       "      <th>2020-02-01</th>\n",
       "      <td>40.1</td>\n",
       "      <td>36.3</td>\n",
       "    </tr>\n",
       "    <tr>\n",
       "      <th>2020-02-02</th>\n",
       "      <td>50.1</td>\n",
       "      <td>53.3</td>\n",
       "    </tr>\n",
       "    <tr>\n",
       "      <th>2020-02-03</th>\n",
       "      <td>60.1</td>\n",
       "      <td>63.3</td>\n",
       "    </tr>\n",
       "    <tr>\n",
       "      <th>2020-02-04</th>\n",
       "      <td>44.1</td>\n",
       "      <td>43.3</td>\n",
       "    </tr>\n",
       "    <tr>\n",
       "      <th>2020-02-05</th>\n",
       "      <td>55.1</td>\n",
       "      <td>53.3</td>\n",
       "    </tr>\n",
       "    <tr>\n",
       "      <th>2020-02-06</th>\n",
       "      <td>66.1</td>\n",
       "      <td>63.3</td>\n",
       "    </tr>\n",
       "  </tbody>\n",
       "</table>\n",
       "</div>"
      ],
      "text/plain": [
       "            Math   Eng\n",
       "2020-02-01  40.1  36.3\n",
       "2020-02-02  50.1  53.3\n",
       "2020-02-03  60.1  63.3\n",
       "2020-02-04  44.1  43.3\n",
       "2020-02-05  55.1  53.3\n",
       "2020-02-06  66.1  63.3"
      ]
     },
     "execution_count": 491,
     "metadata": {},
     "output_type": "execute_result"
    }
   ],
   "source": [
    "#Showing label slicing, both endpoints are included\n",
    "\n",
    "dataFrame2.loc['20200201':'20200206',['Math','Eng']]"
   ]
  },
  {
   "cell_type": "markdown",
   "metadata": {},
   "source": [
    "<font color='#094B91'> In this example we get a specific row by it's index name and we just show two columns of that specific row. </font>\n"
   ]
  },
  {
   "cell_type": "code",
   "execution_count": 492,
   "metadata": {},
   "outputs": [
    {
     "data": {
      "text/plain": [
       "Math    66.1\n",
       "Eng     63.3\n",
       "Name: 2020-02-06 00:00:00, dtype: float64"
      ]
     },
     "execution_count": 492,
     "metadata": {},
     "output_type": "execute_result"
    }
   ],
   "source": [
    "# Reduction in the dimensions of the returned object\n",
    "\n",
    "dataFrame2.loc['20200206',['Math','Eng']]"
   ]
  },
  {
   "cell_type": "markdown",
   "metadata": {},
   "source": [
    "<font color='#094B91'> In this example we get a specific row by it's index numner and we just show one column of that specific row. </font>\n"
   ]
  },
  {
   "cell_type": "code",
   "execution_count": 493,
   "metadata": {},
   "outputs": [
    {
     "data": {
      "text/plain": [
       "55.1"
      ]
     },
     "execution_count": 493,
     "metadata": {},
     "output_type": "execute_result"
    }
   ],
   "source": [
    " # For getting a scalar value\n",
    "\n",
    "dataFrame2.loc[DateArray2[4],'Math']"
   ]
  },
  {
   "cell_type": "markdown",
   "metadata": {},
   "source": [
    "<font color='#094B91'> In this example we get a specific row by it's index numner and we just show one column of that specific row. </font>\n"
   ]
  },
  {
   "cell_type": "code",
   "execution_count": 494,
   "metadata": {},
   "outputs": [
    {
     "data": {
      "text/plain": [
       "60.1"
      ]
     },
     "execution_count": 494,
     "metadata": {},
     "output_type": "execute_result"
    }
   ],
   "source": [
    " # For getting fast access to a scalar \n",
    "\n",
    "dataFrame2.at[DateArray2[6],'Math']"
   ]
  },
  {
   "cell_type": "markdown",
   "metadata": {},
   "source": [
    "<font color='#094B91'> In this example we get specific row but that will show as column. </font>\n"
   ]
  },
  {
   "cell_type": "code",
   "execution_count": 495,
   "metadata": {},
   "outputs": [
    {
     "data": {
      "text/plain": [
       "Math    66.1\n",
       "Urdu    66.2\n",
       "Eng     63.3\n",
       "Ch      68.4\n",
       "Isl     45.5\n",
       "Phy     67.6\n",
       "Name: 2020-02-06 00:00:00, dtype: float64"
      ]
     },
     "execution_count": 495,
     "metadata": {},
     "output_type": "execute_result"
    }
   ],
   "source": [
    " # Select via the position of the passed integers\n",
    "\n",
    "dataFrame2.iloc[5]"
   ]
  },
  {
   "cell_type": "markdown",
   "metadata": {},
   "source": [
    "<font color='#094B91'> In this example we get some rows and columns by slices. </font>\n"
   ]
  },
  {
   "cell_type": "code",
   "execution_count": 496,
   "metadata": {},
   "outputs": [
    {
     "data": {
      "text/html": [
       "<div>\n",
       "<style scoped>\n",
       "    .dataframe tbody tr th:only-of-type {\n",
       "        vertical-align: middle;\n",
       "    }\n",
       "\n",
       "    .dataframe tbody tr th {\n",
       "        vertical-align: top;\n",
       "    }\n",
       "\n",
       "    .dataframe thead th {\n",
       "        text-align: right;\n",
       "    }\n",
       "</style>\n",
       "<table border=\"1\" class=\"dataframe\">\n",
       "  <thead>\n",
       "    <tr style=\"text-align: right;\">\n",
       "      <th></th>\n",
       "      <th>Math</th>\n",
       "      <th>Urdu</th>\n",
       "      <th>Eng</th>\n",
       "    </tr>\n",
       "  </thead>\n",
       "  <tbody>\n",
       "    <tr>\n",
       "      <th>2020-02-03</th>\n",
       "      <td>60.1</td>\n",
       "      <td>60.2</td>\n",
       "      <td>63.3</td>\n",
       "    </tr>\n",
       "    <tr>\n",
       "      <th>2020-02-04</th>\n",
       "      <td>44.1</td>\n",
       "      <td>44.2</td>\n",
       "      <td>43.3</td>\n",
       "    </tr>\n",
       "    <tr>\n",
       "      <th>2020-02-05</th>\n",
       "      <td>55.1</td>\n",
       "      <td>55.2</td>\n",
       "      <td>53.3</td>\n",
       "    </tr>\n",
       "  </tbody>\n",
       "</table>\n",
       "</div>"
      ],
      "text/plain": [
       "            Math  Urdu   Eng\n",
       "2020-02-03  60.1  60.2  63.3\n",
       "2020-02-04  44.1  44.2  43.3\n",
       "2020-02-05  55.1  55.2  53.3"
      ]
     },
     "execution_count": 496,
     "metadata": {},
     "output_type": "execute_result"
    }
   ],
   "source": [
    " # By integer slices, acting similar to numpy/python\n",
    "\n",
    "dataFrame2.iloc[2:5,0:3]"
   ]
  },
  {
   "cell_type": "markdown",
   "metadata": {},
   "source": [
    "<font color='#094B91'> In this example we get a specific row and columns by it's index numner  </font>\n"
   ]
  },
  {
   "cell_type": "code",
   "execution_count": 497,
   "metadata": {},
   "outputs": [
    {
     "data": {
      "text/html": [
       "<div>\n",
       "<style scoped>\n",
       "    .dataframe tbody tr th:only-of-type {\n",
       "        vertical-align: middle;\n",
       "    }\n",
       "\n",
       "    .dataframe tbody tr th {\n",
       "        vertical-align: top;\n",
       "    }\n",
       "\n",
       "    .dataframe thead th {\n",
       "        text-align: right;\n",
       "    }\n",
       "</style>\n",
       "<table border=\"1\" class=\"dataframe\">\n",
       "  <thead>\n",
       "    <tr style=\"text-align: right;\">\n",
       "      <th></th>\n",
       "      <th>Math</th>\n",
       "      <th>Ch</th>\n",
       "    </tr>\n",
       "  </thead>\n",
       "  <tbody>\n",
       "    <tr>\n",
       "      <th>2020-02-03</th>\n",
       "      <td>60.1</td>\n",
       "      <td>74.4</td>\n",
       "    </tr>\n",
       "    <tr>\n",
       "      <th>2020-02-05</th>\n",
       "      <td>55.1</td>\n",
       "      <td>64.4</td>\n",
       "    </tr>\n",
       "    <tr>\n",
       "      <th>2020-02-07</th>\n",
       "      <td>60.1</td>\n",
       "      <td>74.4</td>\n",
       "    </tr>\n",
       "  </tbody>\n",
       "</table>\n",
       "</div>"
      ],
      "text/plain": [
       "            Math    Ch\n",
       "2020-02-03  60.1  74.4\n",
       "2020-02-05  55.1  64.4\n",
       "2020-02-07  60.1  74.4"
      ]
     },
     "execution_count": 497,
     "metadata": {},
     "output_type": "execute_result"
    }
   ],
   "source": [
    "# By lists of integer position locations, similar to the numpy/python style\n",
    "\n",
    "dataFrame2.iloc[[2,4,6],[0,3]]"
   ]
  },
  {
   "cell_type": "markdown",
   "metadata": {},
   "source": [
    "<font color='#094B91'> In this example we get some rows and columns by slices. </font>"
   ]
  },
  {
   "cell_type": "code",
   "execution_count": 498,
   "metadata": {},
   "outputs": [
    {
     "data": {
      "text/html": [
       "<div>\n",
       "<style scoped>\n",
       "    .dataframe tbody tr th:only-of-type {\n",
       "        vertical-align: middle;\n",
       "    }\n",
       "\n",
       "    .dataframe tbody tr th {\n",
       "        vertical-align: top;\n",
       "    }\n",
       "\n",
       "    .dataframe thead th {\n",
       "        text-align: right;\n",
       "    }\n",
       "</style>\n",
       "<table border=\"1\" class=\"dataframe\">\n",
       "  <thead>\n",
       "    <tr style=\"text-align: right;\">\n",
       "      <th></th>\n",
       "      <th>Urdu</th>\n",
       "      <th>Eng</th>\n",
       "      <th>Ch</th>\n",
       "    </tr>\n",
       "  </thead>\n",
       "  <tbody>\n",
       "    <tr>\n",
       "      <th>2020-02-01</th>\n",
       "      <td>35.2</td>\n",
       "      <td>36.3</td>\n",
       "      <td>66.4</td>\n",
       "    </tr>\n",
       "    <tr>\n",
       "      <th>2020-02-02</th>\n",
       "      <td>50.2</td>\n",
       "      <td>53.3</td>\n",
       "      <td>56.4</td>\n",
       "    </tr>\n",
       "    <tr>\n",
       "      <th>2020-02-03</th>\n",
       "      <td>60.2</td>\n",
       "      <td>63.3</td>\n",
       "      <td>74.4</td>\n",
       "    </tr>\n",
       "    <tr>\n",
       "      <th>2020-02-04</th>\n",
       "      <td>44.2</td>\n",
       "      <td>43.3</td>\n",
       "      <td>55.4</td>\n",
       "    </tr>\n",
       "    <tr>\n",
       "      <th>2020-02-05</th>\n",
       "      <td>55.2</td>\n",
       "      <td>53.3</td>\n",
       "      <td>64.4</td>\n",
       "    </tr>\n",
       "    <tr>\n",
       "      <th>2020-02-06</th>\n",
       "      <td>66.2</td>\n",
       "      <td>63.3</td>\n",
       "      <td>68.4</td>\n",
       "    </tr>\n",
       "    <tr>\n",
       "      <th>2020-02-07</th>\n",
       "      <td>60.2</td>\n",
       "      <td>63.3</td>\n",
       "      <td>74.4</td>\n",
       "    </tr>\n",
       "    <tr>\n",
       "      <th>2020-02-08</th>\n",
       "      <td>44.2</td>\n",
       "      <td>43.3</td>\n",
       "      <td>55.4</td>\n",
       "    </tr>\n",
       "    <tr>\n",
       "      <th>2020-02-09</th>\n",
       "      <td>55.2</td>\n",
       "      <td>53.3</td>\n",
       "      <td>64.4</td>\n",
       "    </tr>\n",
       "    <tr>\n",
       "      <th>2020-02-10</th>\n",
       "      <td>66.2</td>\n",
       "      <td>63.3</td>\n",
       "      <td>68.4</td>\n",
       "    </tr>\n",
       "  </tbody>\n",
       "</table>\n",
       "</div>"
      ],
      "text/plain": [
       "            Urdu   Eng    Ch\n",
       "2020-02-01  35.2  36.3  66.4\n",
       "2020-02-02  50.2  53.3  56.4\n",
       "2020-02-03  60.2  63.3  74.4\n",
       "2020-02-04  44.2  43.3  55.4\n",
       "2020-02-05  55.2  53.3  64.4\n",
       "2020-02-06  66.2  63.3  68.4\n",
       "2020-02-07  60.2  63.3  74.4\n",
       "2020-02-08  44.2  43.3  55.4\n",
       "2020-02-09  55.2  53.3  64.4\n",
       "2020-02-10  66.2  63.3  68.4"
      ]
     },
     "execution_count": 498,
     "metadata": {},
     "output_type": "execute_result"
    }
   ],
   "source": [
    " # For slicing rows explicitly\n",
    "\n",
    "dataFrame2.iloc[:,1:4]"
   ]
  },
  {
   "cell_type": "markdown",
   "metadata": {},
   "source": [
    "<font color='#094B91'> In this example we get a single cell. </font>"
   ]
  },
  {
   "cell_type": "code",
   "execution_count": 499,
   "metadata": {},
   "outputs": [
    {
     "data": {
      "text/plain": [
       "65.5"
      ]
     },
     "execution_count": 499,
     "metadata": {},
     "output_type": "execute_result"
    }
   ],
   "source": [
    " # For getting a value explicitly\n",
    "\n",
    "dataFrame2.iloc[1,4]"
   ]
  },
  {
   "cell_type": "markdown",
   "metadata": {},
   "source": [
    "<font color='#094B91'> In this example we get all data where column Urdu 's data is graterthan 60. </font>"
   ]
  },
  {
   "cell_type": "code",
   "execution_count": 500,
   "metadata": {},
   "outputs": [
    {
     "data": {
      "text/html": [
       "<div>\n",
       "<style scoped>\n",
       "    .dataframe tbody tr th:only-of-type {\n",
       "        vertical-align: middle;\n",
       "    }\n",
       "\n",
       "    .dataframe tbody tr th {\n",
       "        vertical-align: top;\n",
       "    }\n",
       "\n",
       "    .dataframe thead th {\n",
       "        text-align: right;\n",
       "    }\n",
       "</style>\n",
       "<table border=\"1\" class=\"dataframe\">\n",
       "  <thead>\n",
       "    <tr style=\"text-align: right;\">\n",
       "      <th></th>\n",
       "      <th>Math</th>\n",
       "      <th>Urdu</th>\n",
       "      <th>Eng</th>\n",
       "      <th>Ch</th>\n",
       "      <th>Isl</th>\n",
       "      <th>Phy</th>\n",
       "    </tr>\n",
       "  </thead>\n",
       "  <tbody>\n",
       "    <tr>\n",
       "      <th>2020-02-03</th>\n",
       "      <td>60.1</td>\n",
       "      <td>60.2</td>\n",
       "      <td>63.3</td>\n",
       "      <td>74.4</td>\n",
       "      <td>34.5</td>\n",
       "      <td>77.6</td>\n",
       "    </tr>\n",
       "    <tr>\n",
       "      <th>2020-02-06</th>\n",
       "      <td>66.1</td>\n",
       "      <td>66.2</td>\n",
       "      <td>63.3</td>\n",
       "      <td>68.4</td>\n",
       "      <td>45.5</td>\n",
       "      <td>67.6</td>\n",
       "    </tr>\n",
       "    <tr>\n",
       "      <th>2020-02-07</th>\n",
       "      <td>60.1</td>\n",
       "      <td>60.2</td>\n",
       "      <td>63.3</td>\n",
       "      <td>74.4</td>\n",
       "      <td>34.5</td>\n",
       "      <td>77.6</td>\n",
       "    </tr>\n",
       "    <tr>\n",
       "      <th>2020-02-10</th>\n",
       "      <td>66.1</td>\n",
       "      <td>66.2</td>\n",
       "      <td>63.3</td>\n",
       "      <td>68.4</td>\n",
       "      <td>45.5</td>\n",
       "      <td>67.6</td>\n",
       "    </tr>\n",
       "  </tbody>\n",
       "</table>\n",
       "</div>"
      ],
      "text/plain": [
       "            Math  Urdu   Eng    Ch   Isl   Phy\n",
       "2020-02-03  60.1  60.2  63.3  74.4  34.5  77.6\n",
       "2020-02-06  66.1  66.2  63.3  68.4  45.5  67.6\n",
       "2020-02-07  60.1  60.2  63.3  74.4  34.5  77.6\n",
       "2020-02-10  66.1  66.2  63.3  68.4  45.5  67.6"
      ]
     },
     "execution_count": 500,
     "metadata": {},
     "output_type": "execute_result"
    }
   ],
   "source": [
    "# Using a single column’s values to select data.\n",
    "\n",
    "dataFrame2[dataFrame2.Urdu > 60]"
   ]
  },
  {
   "cell_type": "markdown",
   "metadata": {},
   "source": [
    "<font color='#094B91'> In this example we get all data graterthan 0. </font>"
   ]
  },
  {
   "cell_type": "code",
   "execution_count": 501,
   "metadata": {},
   "outputs": [
    {
     "data": {
      "text/html": [
       "<div>\n",
       "<style scoped>\n",
       "    .dataframe tbody tr th:only-of-type {\n",
       "        vertical-align: middle;\n",
       "    }\n",
       "\n",
       "    .dataframe tbody tr th {\n",
       "        vertical-align: top;\n",
       "    }\n",
       "\n",
       "    .dataframe thead th {\n",
       "        text-align: right;\n",
       "    }\n",
       "</style>\n",
       "<table border=\"1\" class=\"dataframe\">\n",
       "  <thead>\n",
       "    <tr style=\"text-align: right;\">\n",
       "      <th></th>\n",
       "      <th>Math</th>\n",
       "      <th>Urdu</th>\n",
       "      <th>Eng</th>\n",
       "      <th>Ch</th>\n",
       "      <th>Isl</th>\n",
       "      <th>Phy</th>\n",
       "    </tr>\n",
       "  </thead>\n",
       "  <tbody>\n",
       "    <tr>\n",
       "      <th>2020-02-01</th>\n",
       "      <td>NaN</td>\n",
       "      <td>NaN</td>\n",
       "      <td>NaN</td>\n",
       "      <td>66.4</td>\n",
       "      <td>NaN</td>\n",
       "      <td>60.6</td>\n",
       "    </tr>\n",
       "    <tr>\n",
       "      <th>2020-02-02</th>\n",
       "      <td>NaN</td>\n",
       "      <td>NaN</td>\n",
       "      <td>NaN</td>\n",
       "      <td>NaN</td>\n",
       "      <td>65.5</td>\n",
       "      <td>NaN</td>\n",
       "    </tr>\n",
       "    <tr>\n",
       "      <th>2020-02-03</th>\n",
       "      <td>60.1</td>\n",
       "      <td>60.2</td>\n",
       "      <td>63.3</td>\n",
       "      <td>74.4</td>\n",
       "      <td>NaN</td>\n",
       "      <td>77.6</td>\n",
       "    </tr>\n",
       "    <tr>\n",
       "      <th>2020-02-04</th>\n",
       "      <td>NaN</td>\n",
       "      <td>NaN</td>\n",
       "      <td>NaN</td>\n",
       "      <td>NaN</td>\n",
       "      <td>NaN</td>\n",
       "      <td>88.6</td>\n",
       "    </tr>\n",
       "    <tr>\n",
       "      <th>2020-02-05</th>\n",
       "      <td>NaN</td>\n",
       "      <td>NaN</td>\n",
       "      <td>NaN</td>\n",
       "      <td>64.4</td>\n",
       "      <td>NaN</td>\n",
       "      <td>NaN</td>\n",
       "    </tr>\n",
       "    <tr>\n",
       "      <th>2020-02-06</th>\n",
       "      <td>66.1</td>\n",
       "      <td>66.2</td>\n",
       "      <td>63.3</td>\n",
       "      <td>68.4</td>\n",
       "      <td>NaN</td>\n",
       "      <td>67.6</td>\n",
       "    </tr>\n",
       "    <tr>\n",
       "      <th>2020-02-07</th>\n",
       "      <td>60.1</td>\n",
       "      <td>60.2</td>\n",
       "      <td>63.3</td>\n",
       "      <td>74.4</td>\n",
       "      <td>NaN</td>\n",
       "      <td>77.6</td>\n",
       "    </tr>\n",
       "    <tr>\n",
       "      <th>2020-02-08</th>\n",
       "      <td>NaN</td>\n",
       "      <td>NaN</td>\n",
       "      <td>NaN</td>\n",
       "      <td>NaN</td>\n",
       "      <td>NaN</td>\n",
       "      <td>88.6</td>\n",
       "    </tr>\n",
       "    <tr>\n",
       "      <th>2020-02-09</th>\n",
       "      <td>NaN</td>\n",
       "      <td>NaN</td>\n",
       "      <td>NaN</td>\n",
       "      <td>64.4</td>\n",
       "      <td>NaN</td>\n",
       "      <td>NaN</td>\n",
       "    </tr>\n",
       "    <tr>\n",
       "      <th>2020-02-10</th>\n",
       "      <td>66.1</td>\n",
       "      <td>66.2</td>\n",
       "      <td>63.3</td>\n",
       "      <td>68.4</td>\n",
       "      <td>NaN</td>\n",
       "      <td>67.6</td>\n",
       "    </tr>\n",
       "  </tbody>\n",
       "</table>\n",
       "</div>"
      ],
      "text/plain": [
       "            Math  Urdu   Eng    Ch   Isl   Phy\n",
       "2020-02-01   NaN   NaN   NaN  66.4   NaN  60.6\n",
       "2020-02-02   NaN   NaN   NaN   NaN  65.5   NaN\n",
       "2020-02-03  60.1  60.2  63.3  74.4   NaN  77.6\n",
       "2020-02-04   NaN   NaN   NaN   NaN   NaN  88.6\n",
       "2020-02-05   NaN   NaN   NaN  64.4   NaN   NaN\n",
       "2020-02-06  66.1  66.2  63.3  68.4   NaN  67.6\n",
       "2020-02-07  60.1  60.2  63.3  74.4   NaN  77.6\n",
       "2020-02-08   NaN   NaN   NaN   NaN   NaN  88.6\n",
       "2020-02-09   NaN   NaN   NaN  64.4   NaN   NaN\n",
       "2020-02-10  66.1  66.2  63.3  68.4   NaN  67.6"
      ]
     },
     "execution_count": 501,
     "metadata": {},
     "output_type": "execute_result"
    }
   ],
   "source": [
    "# Selecting values from a DataFrame where a boolean condition is met.\n",
    "\n",
    "dataFrame2[dataFrame2 > 60]"
   ]
  },
  {
   "cell_type": "markdown",
   "metadata": {},
   "source": [
    "<font color='#094B91'> In this example we copy dataframe into other variable. </fon"
   ]
  },
  {
   "cell_type": "code",
   "execution_count": 502,
   "metadata": {},
   "outputs": [],
   "source": [
    "# Using the isin() method for filtering:\n",
    "\n",
    "dataFrame22 = dataFrame2.copy()"
   ]
  },
  {
   "cell_type": "code",
   "execution_count": 503,
   "metadata": {},
   "outputs": [
    {
     "data": {
      "text/html": [
       "<div>\n",
       "<style scoped>\n",
       "    .dataframe tbody tr th:only-of-type {\n",
       "        vertical-align: middle;\n",
       "    }\n",
       "\n",
       "    .dataframe tbody tr th {\n",
       "        vertical-align: top;\n",
       "    }\n",
       "\n",
       "    .dataframe thead th {\n",
       "        text-align: right;\n",
       "    }\n",
       "</style>\n",
       "<table border=\"1\" class=\"dataframe\">\n",
       "  <thead>\n",
       "    <tr style=\"text-align: right;\">\n",
       "      <th></th>\n",
       "      <th>Math</th>\n",
       "      <th>Urdu</th>\n",
       "      <th>Eng</th>\n",
       "      <th>Ch</th>\n",
       "      <th>Isl</th>\n",
       "      <th>Phy</th>\n",
       "    </tr>\n",
       "  </thead>\n",
       "  <tbody>\n",
       "    <tr>\n",
       "      <th>2020-02-01</th>\n",
       "      <td>40.1</td>\n",
       "      <td>35.2</td>\n",
       "      <td>36.3</td>\n",
       "      <td>66.4</td>\n",
       "      <td>50.5</td>\n",
       "      <td>60.6</td>\n",
       "    </tr>\n",
       "    <tr>\n",
       "      <th>2020-02-02</th>\n",
       "      <td>50.1</td>\n",
       "      <td>50.2</td>\n",
       "      <td>53.3</td>\n",
       "      <td>56.4</td>\n",
       "      <td>65.5</td>\n",
       "      <td>55.6</td>\n",
       "    </tr>\n",
       "    <tr>\n",
       "      <th>2020-02-03</th>\n",
       "      <td>60.1</td>\n",
       "      <td>60.2</td>\n",
       "      <td>63.3</td>\n",
       "      <td>74.4</td>\n",
       "      <td>34.5</td>\n",
       "      <td>77.6</td>\n",
       "    </tr>\n",
       "    <tr>\n",
       "      <th>2020-02-04</th>\n",
       "      <td>44.1</td>\n",
       "      <td>44.2</td>\n",
       "      <td>43.3</td>\n",
       "      <td>55.4</td>\n",
       "      <td>54.5</td>\n",
       "      <td>88.6</td>\n",
       "    </tr>\n",
       "    <tr>\n",
       "      <th>2020-02-05</th>\n",
       "      <td>55.1</td>\n",
       "      <td>55.2</td>\n",
       "      <td>53.3</td>\n",
       "      <td>64.4</td>\n",
       "      <td>54.5</td>\n",
       "      <td>34.6</td>\n",
       "    </tr>\n",
       "    <tr>\n",
       "      <th>2020-02-06</th>\n",
       "      <td>66.1</td>\n",
       "      <td>66.2</td>\n",
       "      <td>63.3</td>\n",
       "      <td>68.4</td>\n",
       "      <td>45.5</td>\n",
       "      <td>67.6</td>\n",
       "    </tr>\n",
       "    <tr>\n",
       "      <th>2020-02-07</th>\n",
       "      <td>60.1</td>\n",
       "      <td>60.2</td>\n",
       "      <td>63.3</td>\n",
       "      <td>74.4</td>\n",
       "      <td>34.5</td>\n",
       "      <td>77.6</td>\n",
       "    </tr>\n",
       "    <tr>\n",
       "      <th>2020-02-08</th>\n",
       "      <td>44.1</td>\n",
       "      <td>44.2</td>\n",
       "      <td>43.3</td>\n",
       "      <td>55.4</td>\n",
       "      <td>54.5</td>\n",
       "      <td>88.6</td>\n",
       "    </tr>\n",
       "    <tr>\n",
       "      <th>2020-02-09</th>\n",
       "      <td>55.1</td>\n",
       "      <td>55.2</td>\n",
       "      <td>53.3</td>\n",
       "      <td>64.4</td>\n",
       "      <td>54.5</td>\n",
       "      <td>34.6</td>\n",
       "    </tr>\n",
       "    <tr>\n",
       "      <th>2020-02-10</th>\n",
       "      <td>66.1</td>\n",
       "      <td>66.2</td>\n",
       "      <td>63.3</td>\n",
       "      <td>68.4</td>\n",
       "      <td>45.5</td>\n",
       "      <td>67.6</td>\n",
       "    </tr>\n",
       "  </tbody>\n",
       "</table>\n",
       "</div>"
      ],
      "text/plain": [
       "            Math  Urdu   Eng    Ch   Isl   Phy\n",
       "2020-02-01  40.1  35.2  36.3  66.4  50.5  60.6\n",
       "2020-02-02  50.1  50.2  53.3  56.4  65.5  55.6\n",
       "2020-02-03  60.1  60.2  63.3  74.4  34.5  77.6\n",
       "2020-02-04  44.1  44.2  43.3  55.4  54.5  88.6\n",
       "2020-02-05  55.1  55.2  53.3  64.4  54.5  34.6\n",
       "2020-02-06  66.1  66.2  63.3  68.4  45.5  67.6\n",
       "2020-02-07  60.1  60.2  63.3  74.4  34.5  77.6\n",
       "2020-02-08  44.1  44.2  43.3  55.4  54.5  88.6\n",
       "2020-02-09  55.1  55.2  53.3  64.4  54.5  34.6\n",
       "2020-02-10  66.1  66.2  63.3  68.4  45.5  67.6"
      ]
     },
     "execution_count": 503,
     "metadata": {},
     "output_type": "execute_result"
    }
   ],
   "source": [
    "dataFrame22"
   ]
  },
  {
   "cell_type": "markdown",
   "metadata": {},
   "source": [
    "<font color='#094B91'> In this example we a column with some values. </font>"
   ]
  },
  {
   "cell_type": "code",
   "execution_count": 504,
   "metadata": {},
   "outputs": [],
   "source": [
    " dataFrame22['bio'] = [66,56,75,67,48,88,24,44,55,55]"
   ]
  },
  {
   "cell_type": "code",
   "execution_count": 505,
   "metadata": {},
   "outputs": [
    {
     "data": {
      "text/html": [
       "<div>\n",
       "<style scoped>\n",
       "    .dataframe tbody tr th:only-of-type {\n",
       "        vertical-align: middle;\n",
       "    }\n",
       "\n",
       "    .dataframe tbody tr th {\n",
       "        vertical-align: top;\n",
       "    }\n",
       "\n",
       "    .dataframe thead th {\n",
       "        text-align: right;\n",
       "    }\n",
       "</style>\n",
       "<table border=\"1\" class=\"dataframe\">\n",
       "  <thead>\n",
       "    <tr style=\"text-align: right;\">\n",
       "      <th></th>\n",
       "      <th>Math</th>\n",
       "      <th>Urdu</th>\n",
       "      <th>Eng</th>\n",
       "      <th>Ch</th>\n",
       "      <th>Isl</th>\n",
       "      <th>Phy</th>\n",
       "      <th>bio</th>\n",
       "    </tr>\n",
       "  </thead>\n",
       "  <tbody>\n",
       "    <tr>\n",
       "      <th>2020-02-01</th>\n",
       "      <td>40.1</td>\n",
       "      <td>35.2</td>\n",
       "      <td>36.3</td>\n",
       "      <td>66.4</td>\n",
       "      <td>50.5</td>\n",
       "      <td>60.6</td>\n",
       "      <td>66</td>\n",
       "    </tr>\n",
       "    <tr>\n",
       "      <th>2020-02-02</th>\n",
       "      <td>50.1</td>\n",
       "      <td>50.2</td>\n",
       "      <td>53.3</td>\n",
       "      <td>56.4</td>\n",
       "      <td>65.5</td>\n",
       "      <td>55.6</td>\n",
       "      <td>56</td>\n",
       "    </tr>\n",
       "    <tr>\n",
       "      <th>2020-02-03</th>\n",
       "      <td>60.1</td>\n",
       "      <td>60.2</td>\n",
       "      <td>63.3</td>\n",
       "      <td>74.4</td>\n",
       "      <td>34.5</td>\n",
       "      <td>77.6</td>\n",
       "      <td>75</td>\n",
       "    </tr>\n",
       "    <tr>\n",
       "      <th>2020-02-04</th>\n",
       "      <td>44.1</td>\n",
       "      <td>44.2</td>\n",
       "      <td>43.3</td>\n",
       "      <td>55.4</td>\n",
       "      <td>54.5</td>\n",
       "      <td>88.6</td>\n",
       "      <td>67</td>\n",
       "    </tr>\n",
       "    <tr>\n",
       "      <th>2020-02-05</th>\n",
       "      <td>55.1</td>\n",
       "      <td>55.2</td>\n",
       "      <td>53.3</td>\n",
       "      <td>64.4</td>\n",
       "      <td>54.5</td>\n",
       "      <td>34.6</td>\n",
       "      <td>48</td>\n",
       "    </tr>\n",
       "    <tr>\n",
       "      <th>2020-02-06</th>\n",
       "      <td>66.1</td>\n",
       "      <td>66.2</td>\n",
       "      <td>63.3</td>\n",
       "      <td>68.4</td>\n",
       "      <td>45.5</td>\n",
       "      <td>67.6</td>\n",
       "      <td>88</td>\n",
       "    </tr>\n",
       "    <tr>\n",
       "      <th>2020-02-07</th>\n",
       "      <td>60.1</td>\n",
       "      <td>60.2</td>\n",
       "      <td>63.3</td>\n",
       "      <td>74.4</td>\n",
       "      <td>34.5</td>\n",
       "      <td>77.6</td>\n",
       "      <td>24</td>\n",
       "    </tr>\n",
       "    <tr>\n",
       "      <th>2020-02-08</th>\n",
       "      <td>44.1</td>\n",
       "      <td>44.2</td>\n",
       "      <td>43.3</td>\n",
       "      <td>55.4</td>\n",
       "      <td>54.5</td>\n",
       "      <td>88.6</td>\n",
       "      <td>44</td>\n",
       "    </tr>\n",
       "    <tr>\n",
       "      <th>2020-02-09</th>\n",
       "      <td>55.1</td>\n",
       "      <td>55.2</td>\n",
       "      <td>53.3</td>\n",
       "      <td>64.4</td>\n",
       "      <td>54.5</td>\n",
       "      <td>34.6</td>\n",
       "      <td>55</td>\n",
       "    </tr>\n",
       "    <tr>\n",
       "      <th>2020-02-10</th>\n",
       "      <td>66.1</td>\n",
       "      <td>66.2</td>\n",
       "      <td>63.3</td>\n",
       "      <td>68.4</td>\n",
       "      <td>45.5</td>\n",
       "      <td>67.6</td>\n",
       "      <td>55</td>\n",
       "    </tr>\n",
       "  </tbody>\n",
       "</table>\n",
       "</div>"
      ],
      "text/plain": [
       "            Math  Urdu   Eng    Ch   Isl   Phy  bio\n",
       "2020-02-01  40.1  35.2  36.3  66.4  50.5  60.6   66\n",
       "2020-02-02  50.1  50.2  53.3  56.4  65.5  55.6   56\n",
       "2020-02-03  60.1  60.2  63.3  74.4  34.5  77.6   75\n",
       "2020-02-04  44.1  44.2  43.3  55.4  54.5  88.6   67\n",
       "2020-02-05  55.1  55.2  53.3  64.4  54.5  34.6   48\n",
       "2020-02-06  66.1  66.2  63.3  68.4  45.5  67.6   88\n",
       "2020-02-07  60.1  60.2  63.3  74.4  34.5  77.6   24\n",
       "2020-02-08  44.1  44.2  43.3  55.4  54.5  88.6   44\n",
       "2020-02-09  55.1  55.2  53.3  64.4  54.5  34.6   55\n",
       "2020-02-10  66.1  66.2  63.3  68.4  45.5  67.6   55"
      ]
     },
     "execution_count": 505,
     "metadata": {},
     "output_type": "execute_result"
    }
   ],
   "source": [
    "dataFrame22"
   ]
  },
  {
   "cell_type": "markdown",
   "metadata": {},
   "source": [
    "<font color='#094B91'> In this example we check that a specific vale is prasent in some specific column. </font>"
   ]
  },
  {
   "cell_type": "code",
   "execution_count": 506,
   "metadata": {},
   "outputs": [
    {
     "data": {
      "text/html": [
       "<div>\n",
       "<style scoped>\n",
       "    .dataframe tbody tr th:only-of-type {\n",
       "        vertical-align: middle;\n",
       "    }\n",
       "\n",
       "    .dataframe tbody tr th {\n",
       "        vertical-align: top;\n",
       "    }\n",
       "\n",
       "    .dataframe thead th {\n",
       "        text-align: right;\n",
       "    }\n",
       "</style>\n",
       "<table border=\"1\" class=\"dataframe\">\n",
       "  <thead>\n",
       "    <tr style=\"text-align: right;\">\n",
       "      <th></th>\n",
       "      <th>Math</th>\n",
       "      <th>Urdu</th>\n",
       "      <th>Eng</th>\n",
       "      <th>Ch</th>\n",
       "      <th>Isl</th>\n",
       "      <th>Phy</th>\n",
       "      <th>bio</th>\n",
       "    </tr>\n",
       "  </thead>\n",
       "  <tbody>\n",
       "    <tr>\n",
       "      <th>2020-02-09</th>\n",
       "      <td>55.1</td>\n",
       "      <td>55.2</td>\n",
       "      <td>53.3</td>\n",
       "      <td>64.4</td>\n",
       "      <td>54.5</td>\n",
       "      <td>34.6</td>\n",
       "      <td>55</td>\n",
       "    </tr>\n",
       "    <tr>\n",
       "      <th>2020-02-10</th>\n",
       "      <td>66.1</td>\n",
       "      <td>66.2</td>\n",
       "      <td>63.3</td>\n",
       "      <td>68.4</td>\n",
       "      <td>45.5</td>\n",
       "      <td>67.6</td>\n",
       "      <td>55</td>\n",
       "    </tr>\n",
       "  </tbody>\n",
       "</table>\n",
       "</div>"
      ],
      "text/plain": [
       "            Math  Urdu   Eng    Ch   Isl   Phy  bio\n",
       "2020-02-09  55.1  55.2  53.3  64.4  54.5  34.6   55\n",
       "2020-02-10  66.1  66.2  63.3  68.4  45.5  67.6   55"
      ]
     },
     "execution_count": 506,
     "metadata": {},
     "output_type": "execute_result"
    }
   ],
   "source": [
    "dataFrame22[dataFrame22['bio'].isin([77,55])]"
   ]
  }
 ],
 "metadata": {
  "kernelspec": {
   "display_name": "Python 3",
   "language": "python",
   "name": "python3"
  },
  "language_info": {
   "codemirror_mode": {
    "name": "ipython",
    "version": 3
   },
   "file_extension": ".py",
   "mimetype": "text/x-python",
   "name": "python",
   "nbconvert_exporter": "python",
   "pygments_lexer": "ipython3",
   "version": "3.8.5"
  }
 },
 "nbformat": 4,
 "nbformat_minor": 4
}
